{
 "cells": [
  {
   "cell_type": "code",
   "execution_count": 1,
   "id": "9a9fa5d7",
   "metadata": {},
   "outputs": [],
   "source": [
    "import pandas as pd\n",
    "import os\n",
    "import plotly.express as px\n",
    "\n",
    "regions_complete = pd.read_csv(\"regions_complete.csv\", sep=\";\")"
   ]
  },
  {
   "cell_type": "code",
   "execution_count": 3,
   "id": "020e8030",
   "metadata": {},
   "outputs": [],
   "source": [
    "# get the csv files from the size_points folder\n",
    "\n",
    "size_points_path = \"size_points_RSC_injection\"\n",
    "min_pixel_size = 1\n",
    "max_pixel_size = 17\n",
    "\n",
    "\n",
    "\n",
    "# loop through the files and save the csv files as seperate dataframes with the name of the file\n",
    "brains = {}\n",
    "for file in os.listdir(size_points_path):\n",
    "    if file.endswith(\".csv\"):\n",
    "        # get the brain name from the file name\n",
    "        brain_name_first_part = file.split(\"_\")[0:4]\n",
    "        black_white = file.split(\"_\")[6]\n",
    "        # join the brain name and black_white to a string\n",
    "\n",
    "        brain_name = black_white + \"_\" + \"_\".join(brain_name_first_part)\n",
    "        # remove the .csv from the end of the string\n",
    "        brain_name = brain_name.replace(\".csv\", \"\")\n",
    "        brains[brain_name] = pd.read_csv(os.path.join(size_points_path, file), sep=\";\")"
   ]
  },
  {
   "cell_type": "code",
   "execution_count": 12,
   "id": "57557975",
   "metadata": {},
   "outputs": [],
   "source": [
    "# generate one file per brain with the same data frame \n",
    "\n",
    "\n",
    "def end_file_per_brain(white, black, name, age):\n",
    "    one_brain_file = pd.DataFrame(\n",
    "        columns=[\n",
    "        \"Brain\",\n",
    "        \"Region ID\",\n",
    "        \"General area\",\n",
    "        \"Hemisphere\",\n",
    "        \"count\",\n",
    "        \"scaled count\",\n",
    "        \"age\",\n",
    "        ]\n",
    "    )\n",
    "    total_counts = 0\n",
    "\n",
    "    for index, row in white.iterrows():\n",
    "        hemisphere = \"right\"\n",
    "\n",
    "        if min_pixel_size <= row[\"Object area\"] <= max_pixel_size:\n",
    "            region_id = row[\"Region ID\"]\n",
    "\n",
    "            # check for the according General area in regions_complete\n",
    "            general_region = regions_complete.loc[\n",
    "                regions_complete[\"Region ID\"] == region_id, \"General area\"\n",
    "            ].values[0]\n",
    "            \n",
    "            if general_region != \"Retrosplenial area\":\n",
    "                \n",
    "                # if region_id is not in one_brain_file, add it\n",
    "                if region_id not in one_brain_file[\"Region ID\"].values:\n",
    "                    one_brain_file.loc[region_id] = [name, region_id, general_region, hemisphere, 1, 0, age]\n",
    "                else:\n",
    "                    one_brain_file.loc[region_id, \"count\"] += 1\n",
    "\n",
    "            # the counts for clear label and fiber tracts are not counted\n",
    "            if general_region not in [\"Clear Label\", \"fiber tracts\", \"Primary visual area\", \"Parent\"]:\n",
    "                total_counts += 1\n",
    "    for index, row in black.iterrows():\n",
    "        hemisphere = \"left\"\n",
    "        if min_pixel_size <= row[\"Object area\"] <= max_pixel_size:\n",
    "            region_id = row[\"Region ID\"]\n",
    "\n",
    "            # check for the according General area in regions_complete\n",
    "            general_region = regions_complete.loc[\n",
    "                regions_complete[\"Region ID\"] == region_id, \"General area\"\n",
    "            ].values[0]\n",
    "            # if region_id is not in one_brain_file with \"right\" in the hemisphere, add it\n",
    "            if region_id not in one_brain_file[\"Region ID\"].values:\n",
    "                one_brain_file.loc[region_id] = [name, region_id, general_region, hemisphere, 1, 0, age]\n",
    "\n",
    "            else:\n",
    "                # if region_id is already in one_brain_file check if the hemisphere is \"left\"\n",
    "                if one_brain_file.loc[region_id, \"Hemisphere\"] == \"left\":\n",
    "                    # if it is, add the count to the existing count\n",
    "                    one_brain_file.loc[region_id, \"count\"] += 1\n",
    "                else:\n",
    "                    one_brain_file.loc[region_id] = [name, region_id, general_region, hemisphere, 1, 0, age]\n",
    "            \n",
    "\n",
    "            if general_region not in [\"Clear Label\", \"fiber tracts\", \"Parent\"]:\n",
    "                total_counts += 1\n",
    "\n",
    "    # scale the counts\n",
    "    one_brain_file[\"scaled count\"] = one_brain_file[\"count\"] / total_counts\n",
    "    one_brain_file[\"scaled count\"] = one_brain_file[\"count\"] / total_counts\n",
    "\n",
    "    return one_brain_file"
   ]
  },
  {
   "cell_type": "code",
   "execution_count": 13,
   "id": "16491393",
   "metadata": {},
   "outputs": [],
   "source": [
    "n7_20241203_p7_13 = end_file_per_brain(\n",
    "    brains[\"white_20241203_p7_13_n7\"], brains[\"black_20241203_p7_13_n7\"], \"n7_20241203_p7_13\", \"p7-13\"\n",
    ")\n",
    "\n"
   ]
  },
  {
   "cell_type": "code",
   "execution_count": 14,
   "id": "7f75a6a0",
   "metadata": {},
   "outputs": [],
   "source": [
    "RSC_injection = pd.concat(\n",
    "    [\n",
    "        n7_20241203_p7_13,\n",
    "        \n",
    "    ],\n",
    "    ignore_index=True,\n",
    ")\n"
   ]
  },
  {
   "cell_type": "code",
   "execution_count": 15,
   "id": "37d669a7",
   "metadata": {},
   "outputs": [],
   "source": [
    "# take out Clear label and fiber tracts \n",
    "RSC_injection = RSC_injection[\n",
    "    ~RSC_injection[\"General area\"].isin([\"Clear Label\", \"fiber tracts\", \"Parent\"])\n",
    "]"
   ]
  },
  {
   "cell_type": "code",
   "execution_count": 16,
   "id": "39aa3dda",
   "metadata": {},
   "outputs": [
    {
     "name": "stdout",
     "output_type": "stream",
     "text": [
      "area not found in right hemisphere in p7_13: root\n",
      "area not found in right hemisphere in p7_13: Frontal pole\n",
      "area not found in right hemisphere in p7_13: Somatomotor areas\n",
      "area not found in right hemisphere in p7_13: Anterior cingulate area\n",
      "area not found in right hemisphere in p7_13: Prelimbic area\n",
      "area not found in right hemisphere in p7_13: Retrosplenial area\n",
      "area not found in right hemisphere in p7_13: Ectorhinal area\n",
      "area not found in right hemisphere in p7_13: Main olfactory bulb\n",
      "area not found in left hemisphere in p7_13: Accessory olfactory bulb\n",
      "area not found in right hemisphere in p7_13: Accessory olfactory bulb\n",
      "area not found in left hemisphere in p7_13: Anterior olfactory nucleus\n",
      "area not found in left hemisphere in p7_13: Dorsal peduncular area\n",
      "area not found in right hemisphere in p7_13: Piriform area\n",
      "area not found in left hemisphere in p7_13: Nucleus of the lateral olfactory tract\n",
      "area not found in right hemisphere in p7_13: Nucleus of the lateral olfactory tract\n",
      "area not found in right hemisphere in p7_13: Cortical amygdalar area\n",
      "area not found in right hemisphere in p7_13: Piriform-amygdalar area\n",
      "area not found in right hemisphere in p7_13: Postpiriform transition area\n",
      "area not found in right hemisphere in p7_13: Medulla\n",
      "area not found in left hemisphere in p7_13: Cerebellum\n",
      "area not found in right hemisphere in p7_13: Cerebellum\n"
     ]
    }
   ],
   "source": [
    "# Find regions with zero neurons\n",
    "\n",
    "# add General area that are in regions_complete but not in Aud_injections\n",
    "regions_complete = pd.read_csv(\"regions_complete.csv\", sep=\";\")\n",
    "General_areas_complete= regions_complete[\"General area\"].unique()\n",
    "\n",
    "# filter out \"Clear Label\" and \"Fiber tracts\" and \"Parent\" from General areas\n",
    "General_areas_complete = [\n",
    "    area for area in General_areas_complete if area not in [\"Clear Label\", \"fiber tracts\", \"Parent\", \"retina\"]\n",
    "]\n",
    "\n",
    "# make copy of the DataFrame to add missing General areas\n",
    "RSC_injection = RSC_injection.copy()\n",
    "\n",
    "\n",
    "\n",
    "general_area_left_p7_13 = []\n",
    "general_area_right_p7_13  = []\n",
    "\n",
    "# loop through big_file_V1_injections_long and add General area to general_area_left and general_area_right\n",
    "for index, row in RSC_injection.iterrows():\n",
    "    if row[\"Hemisphere\"] == \"left\":\n",
    "        general_area_left_p7_13.append(row[\"General area\"])\n",
    "         \n",
    "        \n",
    "    else:\n",
    "        general_area_right_p7_13.append(row[\"General area\"])\n",
    "\n",
    "\n",
    "for area in General_areas_complete:\n",
    "     \n",
    "        \n",
    "    \n",
    "    \n",
    "    if area not in general_area_left_p7_13:\n",
    "        print(\"area not found in left hemisphere in p7_13:\", area)\n",
    "        RSC_injection.loc[area] = [0, 0, area, \"left\", 0, 0, \"p7-13\"]\n",
    "    \n",
    "    if area not in general_area_right_p7_13:\n",
    "        print(\"area not found in right hemisphere in p7_13:\", area)\n",
    "        RSC_injection.loc[area] = [0, 0, area, \"right\", 0, 0, \"p7-13\"]\n",
    "        \n",
    "       \n",
    "\n",
    "\n",
    "\n",
    "        \n",
    "\n"
   ]
  },
  {
   "cell_type": "code",
   "execution_count": 17,
   "id": "48ee05b7",
   "metadata": {},
   "outputs": [],
   "source": [
    "# save the big file as csv\n",
    "RSC_injection.to_csv(\"big_file_Aud_injections.csv\", sep=\";\", index=False)"
   ]
  },
  {
   "cell_type": "code",
   "execution_count": 18,
   "id": "a12a2c4a",
   "metadata": {},
   "outputs": [],
   "source": [
    "# Get the highest scaled count for 'right' hemisphere in each area\n",
    "area_order_scaled = (\n",
    "    RSC_injection[RSC_injection['Hemisphere'] == 'right']\n",
    "    .groupby('General area')['scaled count']\n",
    "    .max()\n",
    "    .sort_values(ascending=False)\n",
    "    .index.tolist()\n",
    ")\n",
    "\n",
    "area_order_count = (\n",
    "    RSC_injection[RSC_injection['Hemisphere'] == 'right']\n",
    "    .groupby('General area')['count']\n",
    "    .max()\n",
    "    .sort_values(ascending=False)\n",
    "    .index.tolist()\n",
    ")\n"
   ]
  },
  {
   "cell_type": "code",
   "execution_count": 19,
   "id": "f1d602a4",
   "metadata": {},
   "outputs": [
    {
     "data": {
      "application/vnd.plotly.v1+json": {
       "config": {
        "plotlyServerURL": "https://plot.ly"
       },
       "data": [
        {
         "alignmentgroup": "True",
         "box": {
          "visible": true
         },
         "hovertemplate": "Hemisphere=left<br>General area=%{x}<br>scaled count=%{y}<extra></extra>",
         "legendgroup": "left",
         "marker": {
          "color": "orange"
         },
         "meanline": {
          "visible": true
         },
         "name": "left",
         "offsetgroup": "left",
         "orientation": "v",
         "points": "all",
         "scalegroup": "True",
         "showlegend": true,
         "type": "violin",
         "x": [
          "Main olfactory bulb",
          "Somatomotor areas",
          "Orbital area",
          "Orbital area",
          "Orbital area",
          "Somatomotor areas",
          "Orbital area",
          "Orbital area",
          "Prelimbic area",
          "Orbital area",
          "Orbital area",
          "Orbital area",
          "Orbital area",
          "Orbital area",
          "Prelimbic area",
          "Somatomotor areas",
          "Infralimbic area",
          "Anterior cingulate area",
          "Anterior cingulate area",
          "Prelimbic area",
          "Taenia tecta",
          "Anterior cingulate area",
          "Anterior cingulate area",
          "Anterior cingulate area",
          "Anterior cingulate area",
          "Striatum",
          "Anterior cingulate area",
          "Striatum",
          "Somatomotor areas",
          "Pallidum",
          "Somatomotor areas",
          "Anterior cingulate area",
          "Somatomotor areas",
          "Pallidum",
          "Somatomotor areas",
          "Piriform area",
          "Anterior cingulate area",
          "Somatomotor areas",
          "Hypothalamus",
          "Somatosensory areas",
          "Somatosensory areas",
          "Somatosensory areas",
          "Anterior cingulate area",
          "ventricular systems",
          "Agranular insular area",
          "root",
          "Thalamus",
          "Thalamus",
          "Piriform-amygdalar area",
          "Hypothalamus",
          "Posterior parietal association areas",
          "Posterior parietal association areas",
          "ventricular systems",
          "Hippocampal region",
          "Temporal association areas",
          "Visual areas",
          "Ectorhinal area",
          "Auditory areas",
          "Auditory areas",
          "Posterior parietal association areas",
          "Visual areas",
          "Visual areas",
          "Somatosensory areas",
          "Visual areas",
          "Auditory areas",
          "Visual areas",
          "Visual areas",
          "Auditory areas",
          "Visual areas",
          "Visual areas",
          "Visual areas",
          "Retrohippocampal region",
          "Visual areas",
          "Visual areas",
          "Visual areas",
          "Ectorhinal area",
          "Hypothalamus",
          "Retrohippocampal region",
          "Visual areas",
          "Visual areas",
          "Visual areas",
          "Visual areas",
          "Visual areas",
          "Visual areas",
          "Cortical amygdalar area",
          "Auditory areas",
          "Hypothalamus",
          "Midbrain",
          "Midbrain",
          "Hypothalamus",
          "Retrohippocampal region",
          "Auditory areas",
          "Hypothalamus",
          "Visual areas",
          "Visual areas",
          "Visual areas",
          "Visual areas",
          "Visual areas",
          "Midbrain",
          "Auditory areas",
          "Retrohippocampal region",
          "Visual areas",
          "Retrohippocampal region",
          "Visual areas",
          "Visual areas",
          "Visual areas",
          "Midbrain",
          "Visual areas",
          "Pons",
          "Retrohippocampal region",
          "Pons",
          "Retrohippocampal region",
          "Retrohippocampal region",
          "Retrohippocampal region",
          "Visual areas",
          "Visual areas",
          "Pons",
          "Retrohippocampal region",
          "Pons",
          "Pons",
          "Frontal pole",
          "Frontal pole",
          "Gustatory areas",
          "Striatum",
          "Somatomotor areas",
          "Somatosensory areas",
          "Somatosensory areas",
          "Retrosplenial area",
          "Retrosplenial area",
          "Retrosplenial area",
          "Retrosplenial area",
          "Retrosplenial area",
          "Somatosensory areas",
          "Retrosplenial area",
          "Somatosensory areas",
          "Retrosplenial area",
          "Hypothalamus",
          "Retrosplenial area",
          "Somatosensory areas",
          "Retrosplenial area",
          "Retrosplenial area",
          "Visceral area",
          "Retrosplenial area",
          "Thalamus",
          "Cortical subplate",
          "Retrosplenial area",
          "Hypothalamus",
          "Perirhinal area",
          "Retrosplenial area",
          "Auditory areas",
          "Cortical subplate",
          "Retrosplenial area",
          "Thalamus",
          "Hypothalamus",
          "Thalamus",
          "Retrosplenial area",
          "Visual areas",
          "Postpiriform transition area",
          "Midbrain",
          "Midbrain",
          "Pons",
          "Midbrain",
          "Midbrain",
          "Midbrain",
          "Medulla",
          "Midbrain",
          "Anterior olfactory nucleus",
          "Dorsal peduncular area"
         ],
         "x0": " ",
         "xaxis": "x",
         "y": [
          0.000043086733594726185,
          0.0034038519539833687,
          0.000947908139083976,
          0.00012926020078417856,
          0.00017234693437890474,
          0.0015511224094101426,
          0.0008617346718945237,
          0.0003446938687578095,
          0.00012926020078417856,
          0.00043086733594726185,
          0.000043086733594726185,
          0.00012926020078417856,
          0.000043086733594726185,
          0.000043086733594726185,
          0.000043086733594726185,
          0.003317678486793916,
          0.00012926020078417856,
          0.005515101900124952,
          0.0013356887414365116,
          0.00012926020078417856,
          0.00008617346718945237,
          0.005041147830582964,
          0.005472015166530226,
          0.00038778060235253564,
          0.002671377482873023,
          0.00012926020078417856,
          0.001637295876599595,
          0.0002585204015683571,
          0.00012926020078417856,
          0.00012926020078417856,
          0.0002585204015683571,
          0.0006463010039208927,
          0.0008186479382997975,
          0.00008617346718945237,
          0.00021543366797363093,
          0.00017234693437890474,
          0.00021543366797363093,
          0.00012926020078417856,
          0.000043086733594726185,
          0.000043086733594726185,
          0.000043086733594726185,
          0.000043086733594726185,
          0.000043086733594726185,
          0.00012926020078417856,
          0.00012926020078417856,
          0.000043086733594726185,
          0.00008617346718945237,
          0.000043086733594726185,
          0.000043086733594726185,
          0.00043086733594726185,
          0.000043086733594726185,
          0.00012926020078417856,
          0.000043086733594726185,
          0.000043086733594726185,
          0.00008617346718945237,
          0.0009048214054892499,
          0.000043086733594726185,
          0.000043086733594726185,
          0.000043086733594726185,
          0.00008617346718945237,
          0.0003446938687578095,
          0.0012495152742470594,
          0.000043086733594726185,
          0.0005601275367314404,
          0.000043086733594726185,
          0.00021543366797363093,
          0.007583265112671808,
          0.000043086733594726185,
          0.002886811150846654,
          0.0008617346718945237,
          0.006075229436856392,
          0.0005601275367314404,
          0.003102244818820285,
          0.00012926020078417856,
          0.0015942091430048689,
          0.00012926020078417856,
          0.00012926020078417856,
          0.00008617346718945237,
          0.0002585204015683571,
          0.0002585204015683571,
          0.0019389030117626784,
          0.000043086733594726185,
          0.00008617346718945237,
          0.00327459175319919,
          0.00008617346718945237,
          0.000043086733594726185,
          0.0003446938687578095,
          0.00008617346718945237,
          0.000043086733594726185,
          0.00012926020078417856,
          0.00008617346718945237,
          0.00012926020078417856,
          0.00021543366797363093,
          0.0009048214054892499,
          0.00008617346718945237,
          0.00017234693437890474,
          0.00012926020078417856,
          0.000043086733594726185,
          0.000043086733594726185,
          0.000043086733594726185,
          0.0006032142703261665,
          0.00012926020078417856,
          0.00008617346718945237,
          0.00008617346718945237,
          0.0002585204015683571,
          0.000043086733594726185,
          0.000043086733594726185,
          0.00030160713516308327,
          0.00030160713516308327,
          0.000043086733594726185,
          0.00008617346718945237,
          0.00008617346718945237,
          0.00017234693437890474,
          0.00012926020078417856,
          0.00012926020078417856,
          0.00008617346718945237,
          0.0005601275367314404,
          0.0002585204015683571,
          0.00043086733594726185,
          0.0002585204015683571,
          0.000043086733594726185,
          0.000043086733594726185,
          0.000043086733594726185,
          0.000043086733594726185,
          0.000043086733594726185,
          0.000043086733594726185,
          0.000043086733594726185,
          0.019733723986384594,
          0.005773622301693308,
          0.015985178163643414,
          0.011245637468223534,
          0.006075229436856392,
          0.00012926020078417856,
          0.019173596449653153,
          0.00008617346718945237,
          0.016114438364427594,
          0.000043086733594726185,
          0.004653367228230428,
          0.00021543366797363093,
          0.001206428540652333,
          0.00327459175319919,
          0.000043086733594726185,
          0.0154681373605067,
          0.00008617346718945237,
          0.000043086733594726185,
          0.0007755612047050713,
          0.000043086733594726185,
          0.00012926020078417856,
          0.00008617346718945237,
          0.00008617346718945237,
          0.000043086733594726185,
          0.00030160713516308327,
          0.000043086733594726185,
          0.0002585204015683571,
          0.000043086733594726185,
          0.000043086733594726185,
          0.00012926020078417856,
          0.000043086733594726185,
          0.000043086733594726185,
          0.000043086733594726185,
          0.00008617346718945237,
          0.000043086733594726185,
          0.00008617346718945237,
          0.00008617346718945237,
          0.000043086733594726185,
          0.000043086733594726185,
          0,
          0
         ],
         "y0": " ",
         "yaxis": "y"
        },
        {
         "alignmentgroup": "True",
         "box": {
          "visible": true
         },
         "hovertemplate": "Hemisphere=right<br>General area=%{x}<br>scaled count=%{y}<extra></extra>",
         "legendgroup": "right",
         "marker": {
          "color": "magenta"
         },
         "meanline": {
          "visible": true
         },
         "name": "right",
         "offsetgroup": "right",
         "orientation": "v",
         "points": "all",
         "scalegroup": "True",
         "showlegend": true,
         "type": "violin",
         "x": [
          "Orbital area",
          "Anterior olfactory nucleus",
          "Taenia tecta",
          "Orbital area",
          "Infralimbic area",
          "Orbital area",
          "Infralimbic area",
          "Agranular insular area",
          "Dorsal peduncular area",
          "Agranular insular area",
          "Agranular insular area",
          "Cortical subplate",
          "Somatosensory areas",
          "Hippocampal region",
          "Striatum",
          "Gustatory areas",
          "Agranular insular area",
          "Striatum",
          "Somatosensory areas",
          "Somatosensory areas",
          "Striatum",
          "Gustatory areas",
          "Somatosensory areas",
          "Hypothalamus",
          "Somatosensory areas",
          "Somatosensory areas",
          "Somatosensory areas",
          "Visceral area",
          "Somatosensory areas",
          "Pallidum",
          "Pallidum",
          "Agranular insular area",
          "Thalamus",
          "Thalamus",
          "Thalamus",
          "Visceral area",
          "Thalamus",
          "Thalamus",
          "Visceral area",
          "Posterior parietal association areas",
          "Thalamus",
          "Thalamus",
          "Hypothalamus",
          "Hippocampal region",
          "ventricular systems",
          "Pallidum",
          "Somatosensory areas",
          "Cortical subplate",
          "Striatum",
          "Posterior parietal association areas",
          "Hippocampal region",
          "Thalamus",
          "Cortical subplate",
          "Somatosensory areas",
          "Thalamus",
          "Visual areas",
          "Cortical subplate",
          "Hypothalamus",
          "Pallidum",
          "Cortical subplate",
          "Posterior parietal association areas",
          "Somatosensory areas",
          "Hippocampal region",
          "Posterior parietal association areas",
          "Thalamus",
          "Visual areas",
          "Thalamus",
          "Posterior parietal association areas",
          "Thalamus",
          "Striatum",
          "Auditory areas",
          "Auditory areas",
          "Auditory areas",
          "Temporal association areas",
          "Posterior parietal association areas",
          "Auditory areas",
          "Hypothalamus",
          "Auditory areas",
          "Midbrain",
          "Auditory areas",
          "Temporal association areas",
          "Retrohippocampal region",
          "Visual areas",
          "Midbrain",
          "Visual areas",
          "Perirhinal area",
          "Retrohippocampal region",
          "Midbrain",
          "Retrohippocampal region",
          "Visual areas",
          "Visual areas",
          "Visual areas",
          "Visual areas",
          "Retrohippocampal region",
          "Retrohippocampal region",
          "Midbrain",
          "Pons",
          "Pons",
          "Midbrain",
          "root",
          "Frontal pole",
          "Somatomotor areas",
          "Anterior cingulate area",
          "Prelimbic area",
          "Retrosplenial area",
          "Ectorhinal area",
          "Main olfactory bulb",
          "Accessory olfactory bulb",
          "Piriform area",
          "Nucleus of the lateral olfactory tract",
          "Cortical amygdalar area",
          "Piriform-amygdalar area",
          "Postpiriform transition area",
          "Medulla",
          "Cerebellum"
         ],
         "x0": " ",
         "xaxis": "x",
         "y": [
          0.004868800896204058,
          0.0006463010039208927,
          0.00021543366797363093,
          0.000043086733594726185,
          0.0002585204015683571,
          0.0002585204015683571,
          0.00008617346718945237,
          0.000043086733594726185,
          0.00021543366797363093,
          0.0005170408031367142,
          0.00008617346718945237,
          0.002154336679736309,
          0.00012926020078417856,
          0.0003446938687578095,
          0.00008617346718945237,
          0.0006032142703261665,
          0.000043086733594726185,
          0.000043086733594726185,
          0.00017234693437890474,
          0.00012926020078417856,
          0.00017234693437890474,
          0.00021543366797363093,
          0.00012926020078417856,
          0.00012926020078417856,
          0.000043086733594726185,
          0.000043086733594726185,
          0.000043086733594726185,
          0.0002585204015683571,
          0.000043086733594726185,
          0.00008617346718945237,
          0.000043086733594726185,
          0.00008617346718945237,
          0.0008617346718945237,
          0.00012926020078417856,
          0.000043086733594726185,
          0.00012926020078417856,
          0.0008617346718945237,
          0.00008617346718945237,
          0.000043086733594726185,
          0.0002585204015683571,
          0.000043086733594726185,
          0.000043086733594726185,
          0.000043086733594726185,
          0.00017234693437890474,
          0.000947908139083976,
          0.000043086733594726185,
          0.000043086733594726185,
          0.00008617346718945237,
          0.000043086733594726185,
          0.00021543366797363093,
          0.00012926020078417856,
          0.0010771683398681545,
          0.00043086733594726185,
          0.00008617346718945237,
          0.00008617346718945237,
          0.0005601275367314404,
          0.000043086733594726185,
          0.00008617346718945237,
          0.000043086733594726185,
          0.000043086733594726185,
          0.00043086733594726185,
          0.000043086733594726185,
          0.0006032142703261665,
          0.00012926020078417856,
          0.0002585204015683571,
          0.00008617346718945237,
          0.000043086733594726185,
          0.000043086733594726185,
          0.000043086733594726185,
          0.000043086733594726185,
          0.00008617346718945237,
          0.000043086733594726185,
          0.00008617346718945237,
          0.0006032142703261665,
          0.000043086733594726185,
          0.000043086733594726185,
          0.00008617346718945237,
          0.000043086733594726185,
          0.000043086733594726185,
          0.000043086733594726185,
          0.00008617346718945237,
          0.00017234693437890474,
          0.000043086733594726185,
          0.000043086733594726185,
          0.000043086733594726185,
          0.000043086733594726185,
          0.000043086733594726185,
          0.000043086733594726185,
          0.00021543366797363093,
          0.00008617346718945237,
          0.00017234693437890474,
          0.000043086733594726185,
          0.0002585204015683571,
          0.002154336679736309,
          0.00021543366797363093,
          0.000043086733594726185,
          0.00012926020078417856,
          0.00021543366797363093,
          0.000043086733594726185,
          0,
          0,
          0,
          0,
          0,
          0,
          0,
          0,
          0,
          0,
          0,
          0,
          0,
          0,
          0,
          0
         ],
         "y0": " ",
         "yaxis": "y"
        }
       ],
       "layout": {
        "legend": {
         "title": {
          "text": "Hemisphere"
         },
         "tracegroupgap": 0
        },
        "template": {
         "data": {
          "bar": [
           {
            "error_x": {
             "color": "#2a3f5f"
            },
            "error_y": {
             "color": "#2a3f5f"
            },
            "marker": {
             "line": {
              "color": "#E5ECF6",
              "width": 0.5
             },
             "pattern": {
              "fillmode": "overlay",
              "size": 10,
              "solidity": 0.2
             }
            },
            "type": "bar"
           }
          ],
          "barpolar": [
           {
            "marker": {
             "line": {
              "color": "#E5ECF6",
              "width": 0.5
             },
             "pattern": {
              "fillmode": "overlay",
              "size": 10,
              "solidity": 0.2
             }
            },
            "type": "barpolar"
           }
          ],
          "carpet": [
           {
            "aaxis": {
             "endlinecolor": "#2a3f5f",
             "gridcolor": "white",
             "linecolor": "white",
             "minorgridcolor": "white",
             "startlinecolor": "#2a3f5f"
            },
            "baxis": {
             "endlinecolor": "#2a3f5f",
             "gridcolor": "white",
             "linecolor": "white",
             "minorgridcolor": "white",
             "startlinecolor": "#2a3f5f"
            },
            "type": "carpet"
           }
          ],
          "choropleth": [
           {
            "colorbar": {
             "outlinewidth": 0,
             "ticks": ""
            },
            "type": "choropleth"
           }
          ],
          "contour": [
           {
            "colorbar": {
             "outlinewidth": 0,
             "ticks": ""
            },
            "colorscale": [
             [
              0,
              "#0d0887"
             ],
             [
              0.1111111111111111,
              "#46039f"
             ],
             [
              0.2222222222222222,
              "#7201a8"
             ],
             [
              0.3333333333333333,
              "#9c179e"
             ],
             [
              0.4444444444444444,
              "#bd3786"
             ],
             [
              0.5555555555555556,
              "#d8576b"
             ],
             [
              0.6666666666666666,
              "#ed7953"
             ],
             [
              0.7777777777777778,
              "#fb9f3a"
             ],
             [
              0.8888888888888888,
              "#fdca26"
             ],
             [
              1,
              "#f0f921"
             ]
            ],
            "type": "contour"
           }
          ],
          "contourcarpet": [
           {
            "colorbar": {
             "outlinewidth": 0,
             "ticks": ""
            },
            "type": "contourcarpet"
           }
          ],
          "heatmap": [
           {
            "colorbar": {
             "outlinewidth": 0,
             "ticks": ""
            },
            "colorscale": [
             [
              0,
              "#0d0887"
             ],
             [
              0.1111111111111111,
              "#46039f"
             ],
             [
              0.2222222222222222,
              "#7201a8"
             ],
             [
              0.3333333333333333,
              "#9c179e"
             ],
             [
              0.4444444444444444,
              "#bd3786"
             ],
             [
              0.5555555555555556,
              "#d8576b"
             ],
             [
              0.6666666666666666,
              "#ed7953"
             ],
             [
              0.7777777777777778,
              "#fb9f3a"
             ],
             [
              0.8888888888888888,
              "#fdca26"
             ],
             [
              1,
              "#f0f921"
             ]
            ],
            "type": "heatmap"
           }
          ],
          "heatmapgl": [
           {
            "colorbar": {
             "outlinewidth": 0,
             "ticks": ""
            },
            "colorscale": [
             [
              0,
              "#0d0887"
             ],
             [
              0.1111111111111111,
              "#46039f"
             ],
             [
              0.2222222222222222,
              "#7201a8"
             ],
             [
              0.3333333333333333,
              "#9c179e"
             ],
             [
              0.4444444444444444,
              "#bd3786"
             ],
             [
              0.5555555555555556,
              "#d8576b"
             ],
             [
              0.6666666666666666,
              "#ed7953"
             ],
             [
              0.7777777777777778,
              "#fb9f3a"
             ],
             [
              0.8888888888888888,
              "#fdca26"
             ],
             [
              1,
              "#f0f921"
             ]
            ],
            "type": "heatmapgl"
           }
          ],
          "histogram": [
           {
            "marker": {
             "pattern": {
              "fillmode": "overlay",
              "size": 10,
              "solidity": 0.2
             }
            },
            "type": "histogram"
           }
          ],
          "histogram2d": [
           {
            "colorbar": {
             "outlinewidth": 0,
             "ticks": ""
            },
            "colorscale": [
             [
              0,
              "#0d0887"
             ],
             [
              0.1111111111111111,
              "#46039f"
             ],
             [
              0.2222222222222222,
              "#7201a8"
             ],
             [
              0.3333333333333333,
              "#9c179e"
             ],
             [
              0.4444444444444444,
              "#bd3786"
             ],
             [
              0.5555555555555556,
              "#d8576b"
             ],
             [
              0.6666666666666666,
              "#ed7953"
             ],
             [
              0.7777777777777778,
              "#fb9f3a"
             ],
             [
              0.8888888888888888,
              "#fdca26"
             ],
             [
              1,
              "#f0f921"
             ]
            ],
            "type": "histogram2d"
           }
          ],
          "histogram2dcontour": [
           {
            "colorbar": {
             "outlinewidth": 0,
             "ticks": ""
            },
            "colorscale": [
             [
              0,
              "#0d0887"
             ],
             [
              0.1111111111111111,
              "#46039f"
             ],
             [
              0.2222222222222222,
              "#7201a8"
             ],
             [
              0.3333333333333333,
              "#9c179e"
             ],
             [
              0.4444444444444444,
              "#bd3786"
             ],
             [
              0.5555555555555556,
              "#d8576b"
             ],
             [
              0.6666666666666666,
              "#ed7953"
             ],
             [
              0.7777777777777778,
              "#fb9f3a"
             ],
             [
              0.8888888888888888,
              "#fdca26"
             ],
             [
              1,
              "#f0f921"
             ]
            ],
            "type": "histogram2dcontour"
           }
          ],
          "mesh3d": [
           {
            "colorbar": {
             "outlinewidth": 0,
             "ticks": ""
            },
            "type": "mesh3d"
           }
          ],
          "parcoords": [
           {
            "line": {
             "colorbar": {
              "outlinewidth": 0,
              "ticks": ""
             }
            },
            "type": "parcoords"
           }
          ],
          "pie": [
           {
            "automargin": true,
            "type": "pie"
           }
          ],
          "scatter": [
           {
            "fillpattern": {
             "fillmode": "overlay",
             "size": 10,
             "solidity": 0.2
            },
            "type": "scatter"
           }
          ],
          "scatter3d": [
           {
            "line": {
             "colorbar": {
              "outlinewidth": 0,
              "ticks": ""
             }
            },
            "marker": {
             "colorbar": {
              "outlinewidth": 0,
              "ticks": ""
             }
            },
            "type": "scatter3d"
           }
          ],
          "scattercarpet": [
           {
            "marker": {
             "colorbar": {
              "outlinewidth": 0,
              "ticks": ""
             }
            },
            "type": "scattercarpet"
           }
          ],
          "scattergeo": [
           {
            "marker": {
             "colorbar": {
              "outlinewidth": 0,
              "ticks": ""
             }
            },
            "type": "scattergeo"
           }
          ],
          "scattergl": [
           {
            "marker": {
             "colorbar": {
              "outlinewidth": 0,
              "ticks": ""
             }
            },
            "type": "scattergl"
           }
          ],
          "scattermapbox": [
           {
            "marker": {
             "colorbar": {
              "outlinewidth": 0,
              "ticks": ""
             }
            },
            "type": "scattermapbox"
           }
          ],
          "scatterpolar": [
           {
            "marker": {
             "colorbar": {
              "outlinewidth": 0,
              "ticks": ""
             }
            },
            "type": "scatterpolar"
           }
          ],
          "scatterpolargl": [
           {
            "marker": {
             "colorbar": {
              "outlinewidth": 0,
              "ticks": ""
             }
            },
            "type": "scatterpolargl"
           }
          ],
          "scatterternary": [
           {
            "marker": {
             "colorbar": {
              "outlinewidth": 0,
              "ticks": ""
             }
            },
            "type": "scatterternary"
           }
          ],
          "surface": [
           {
            "colorbar": {
             "outlinewidth": 0,
             "ticks": ""
            },
            "colorscale": [
             [
              0,
              "#0d0887"
             ],
             [
              0.1111111111111111,
              "#46039f"
             ],
             [
              0.2222222222222222,
              "#7201a8"
             ],
             [
              0.3333333333333333,
              "#9c179e"
             ],
             [
              0.4444444444444444,
              "#bd3786"
             ],
             [
              0.5555555555555556,
              "#d8576b"
             ],
             [
              0.6666666666666666,
              "#ed7953"
             ],
             [
              0.7777777777777778,
              "#fb9f3a"
             ],
             [
              0.8888888888888888,
              "#fdca26"
             ],
             [
              1,
              "#f0f921"
             ]
            ],
            "type": "surface"
           }
          ],
          "table": [
           {
            "cells": {
             "fill": {
              "color": "#EBF0F8"
             },
             "line": {
              "color": "white"
             }
            },
            "header": {
             "fill": {
              "color": "#C8D4E3"
             },
             "line": {
              "color": "white"
             }
            },
            "type": "table"
           }
          ]
         },
         "layout": {
          "annotationdefaults": {
           "arrowcolor": "#2a3f5f",
           "arrowhead": 0,
           "arrowwidth": 1
          },
          "autotypenumbers": "strict",
          "coloraxis": {
           "colorbar": {
            "outlinewidth": 0,
            "ticks": ""
           }
          },
          "colorscale": {
           "diverging": [
            [
             0,
             "#8e0152"
            ],
            [
             0.1,
             "#c51b7d"
            ],
            [
             0.2,
             "#de77ae"
            ],
            [
             0.3,
             "#f1b6da"
            ],
            [
             0.4,
             "#fde0ef"
            ],
            [
             0.5,
             "#f7f7f7"
            ],
            [
             0.6,
             "#e6f5d0"
            ],
            [
             0.7,
             "#b8e186"
            ],
            [
             0.8,
             "#7fbc41"
            ],
            [
             0.9,
             "#4d9221"
            ],
            [
             1,
             "#276419"
            ]
           ],
           "sequential": [
            [
             0,
             "#0d0887"
            ],
            [
             0.1111111111111111,
             "#46039f"
            ],
            [
             0.2222222222222222,
             "#7201a8"
            ],
            [
             0.3333333333333333,
             "#9c179e"
            ],
            [
             0.4444444444444444,
             "#bd3786"
            ],
            [
             0.5555555555555556,
             "#d8576b"
            ],
            [
             0.6666666666666666,
             "#ed7953"
            ],
            [
             0.7777777777777778,
             "#fb9f3a"
            ],
            [
             0.8888888888888888,
             "#fdca26"
            ],
            [
             1,
             "#f0f921"
            ]
           ],
           "sequentialminus": [
            [
             0,
             "#0d0887"
            ],
            [
             0.1111111111111111,
             "#46039f"
            ],
            [
             0.2222222222222222,
             "#7201a8"
            ],
            [
             0.3333333333333333,
             "#9c179e"
            ],
            [
             0.4444444444444444,
             "#bd3786"
            ],
            [
             0.5555555555555556,
             "#d8576b"
            ],
            [
             0.6666666666666666,
             "#ed7953"
            ],
            [
             0.7777777777777778,
             "#fb9f3a"
            ],
            [
             0.8888888888888888,
             "#fdca26"
            ],
            [
             1,
             "#f0f921"
            ]
           ]
          },
          "colorway": [
           "#636efa",
           "#EF553B",
           "#00cc96",
           "#ab63fa",
           "#FFA15A",
           "#19d3f3",
           "#FF6692",
           "#B6E880",
           "#FF97FF",
           "#FECB52"
          ],
          "font": {
           "color": "#2a3f5f"
          },
          "geo": {
           "bgcolor": "white",
           "lakecolor": "white",
           "landcolor": "#E5ECF6",
           "showlakes": true,
           "showland": true,
           "subunitcolor": "white"
          },
          "hoverlabel": {
           "align": "left"
          },
          "hovermode": "closest",
          "mapbox": {
           "style": "light"
          },
          "paper_bgcolor": "white",
          "plot_bgcolor": "#E5ECF6",
          "polar": {
           "angularaxis": {
            "gridcolor": "white",
            "linecolor": "white",
            "ticks": ""
           },
           "bgcolor": "#E5ECF6",
           "radialaxis": {
            "gridcolor": "white",
            "linecolor": "white",
            "ticks": ""
           }
          },
          "scene": {
           "xaxis": {
            "backgroundcolor": "#E5ECF6",
            "gridcolor": "white",
            "gridwidth": 2,
            "linecolor": "white",
            "showbackground": true,
            "ticks": "",
            "zerolinecolor": "white"
           },
           "yaxis": {
            "backgroundcolor": "#E5ECF6",
            "gridcolor": "white",
            "gridwidth": 2,
            "linecolor": "white",
            "showbackground": true,
            "ticks": "",
            "zerolinecolor": "white"
           },
           "zaxis": {
            "backgroundcolor": "#E5ECF6",
            "gridcolor": "white",
            "gridwidth": 2,
            "linecolor": "white",
            "showbackground": true,
            "ticks": "",
            "zerolinecolor": "white"
           }
          },
          "shapedefaults": {
           "line": {
            "color": "#2a3f5f"
           }
          },
          "ternary": {
           "aaxis": {
            "gridcolor": "white",
            "linecolor": "white",
            "ticks": ""
           },
           "baxis": {
            "gridcolor": "white",
            "linecolor": "white",
            "ticks": ""
           },
           "bgcolor": "#E5ECF6",
           "caxis": {
            "gridcolor": "white",
            "linecolor": "white",
            "ticks": ""
           }
          },
          "title": {
           "x": 0.05
          },
          "xaxis": {
           "automargin": true,
           "gridcolor": "white",
           "linecolor": "white",
           "ticks": "",
           "title": {
            "standoff": 15
           },
           "zerolinecolor": "white",
           "zerolinewidth": 2
          },
          "yaxis": {
           "automargin": true,
           "gridcolor": "white",
           "linecolor": "white",
           "ticks": "",
           "title": {
            "standoff": 15
           },
           "zerolinecolor": "white",
           "zerolinewidth": 2
          }
         }
        },
        "title": {
         "text": "failed V1 injections (RSC) scaled counts by hemisphere [p7-13]"
        },
        "violinmode": "group",
        "xaxis": {
         "anchor": "y",
         "categoryarray": [
          "Orbital area",
          "Retrohippocampal region",
          "Cortical subplate",
          "Thalamus",
          "ventricular systems",
          "Anterior olfactory nucleus",
          "Temporal association areas",
          "Gustatory areas",
          "Hippocampal region",
          "Visual areas",
          "Agranular insular area",
          "Posterior parietal association areas",
          "Visceral area",
          "Infralimbic area",
          "Dorsal peduncular area",
          "Taenia tecta",
          "Pons",
          "Somatosensory areas",
          "Striatum",
          "Hypothalamus",
          "Pallidum",
          "Auditory areas",
          "Perirhinal area",
          "Midbrain",
          "Main olfactory bulb",
          "root",
          "Anterior cingulate area",
          "Cerebellum",
          "Cortical amygdalar area",
          "Ectorhinal area",
          "Frontal pole",
          "Somatomotor areas",
          "Piriform area",
          "Retrosplenial area",
          "Medulla",
          "Prelimbic area",
          "Postpiriform transition area",
          "Nucleus of the lateral olfactory tract",
          "Piriform-amygdalar area",
          "Accessory olfactory bulb"
         ],
         "categoryorder": "array",
         "domain": [
          0,
          1
         ],
         "title": {
          "text": "General area"
         }
        },
        "yaxis": {
         "anchor": "x",
         "domain": [
          0,
          1
         ],
         "title": {
          "text": "scaled count"
         }
        }
       }
      }
     },
     "metadata": {},
     "output_type": "display_data"
    }
   ],
   "source": [
    "fig = px.violin(\n",
    "    RSC_injection,\n",
    "    y=\"scaled count\",\n",
    "    x=\"General area\",\n",
    "    color=\"Hemisphere\",\n",
    "    \n",
    "    box=True,\n",
    "    points=\"all\",\n",
    "    color_discrete_map={\n",
    "        \"left\": \"orange\",\n",
    "        \"right\": \"magenta\"\n",
    "    },\n",
    "    title=\"failed V1 injections (RSC) scaled counts by hemisphere [p7-13]\",\n",
    "    category_orders={\"General area\": area_order_scaled}\n",
    ")\n",
    "\n",
    "fig.update_traces(meanline_visible=True)\n",
    "fig.update_layout(violinmode='group')\n",
    "fig.show()"
   ]
  },
  {
   "cell_type": "code",
   "execution_count": 21,
   "id": "6b4784fd",
   "metadata": {},
   "outputs": [
    {
     "data": {
      "application/vnd.plotly.v1+json": {
       "config": {
        "plotlyServerURL": "https://plot.ly"
       },
       "data": [
        {
         "alignmentgroup": "True",
         "box": {
          "visible": true
         },
         "hovertemplate": "Hemisphere=left<br>General area=%{x}<br>count=%{y}<extra></extra>",
         "legendgroup": "left",
         "marker": {
          "color": "orange"
         },
         "meanline": {
          "visible": true
         },
         "name": "left",
         "offsetgroup": "left",
         "orientation": "v",
         "points": "all",
         "scalegroup": "True",
         "showlegend": true,
         "type": "violin",
         "x": [
          "Main olfactory bulb",
          "Somatomotor areas",
          "Orbital area",
          "Orbital area",
          "Orbital area",
          "Somatomotor areas",
          "Orbital area",
          "Orbital area",
          "Prelimbic area",
          "Orbital area",
          "Orbital area",
          "Orbital area",
          "Orbital area",
          "Orbital area",
          "Prelimbic area",
          "Somatomotor areas",
          "Infralimbic area",
          "Anterior cingulate area",
          "Anterior cingulate area",
          "Prelimbic area",
          "Taenia tecta",
          "Anterior cingulate area",
          "Anterior cingulate area",
          "Anterior cingulate area",
          "Anterior cingulate area",
          "Striatum",
          "Anterior cingulate area",
          "Striatum",
          "Somatomotor areas",
          "Pallidum",
          "Somatomotor areas",
          "Anterior cingulate area",
          "Somatomotor areas",
          "Pallidum",
          "Somatomotor areas",
          "Piriform area",
          "Anterior cingulate area",
          "Somatomotor areas",
          "Hypothalamus",
          "Somatosensory areas",
          "Somatosensory areas",
          "Somatosensory areas",
          "Anterior cingulate area",
          "ventricular systems",
          "Agranular insular area",
          "root",
          "Thalamus",
          "Thalamus",
          "Piriform-amygdalar area",
          "Hypothalamus",
          "Posterior parietal association areas",
          "Posterior parietal association areas",
          "ventricular systems",
          "Hippocampal region",
          "Temporal association areas",
          "Visual areas",
          "Ectorhinal area",
          "Auditory areas",
          "Auditory areas",
          "Posterior parietal association areas",
          "Visual areas",
          "Visual areas",
          "Somatosensory areas",
          "Visual areas",
          "Auditory areas",
          "Visual areas",
          "Visual areas",
          "Auditory areas",
          "Visual areas",
          "Visual areas",
          "Visual areas",
          "Retrohippocampal region",
          "Visual areas",
          "Visual areas",
          "Visual areas",
          "Ectorhinal area",
          "Hypothalamus",
          "Retrohippocampal region",
          "Visual areas",
          "Visual areas",
          "Visual areas",
          "Visual areas",
          "Visual areas",
          "Visual areas",
          "Cortical amygdalar area",
          "Auditory areas",
          "Hypothalamus",
          "Midbrain",
          "Midbrain",
          "Hypothalamus",
          "Retrohippocampal region",
          "Auditory areas",
          "Hypothalamus",
          "Visual areas",
          "Visual areas",
          "Visual areas",
          "Visual areas",
          "Visual areas",
          "Midbrain",
          "Auditory areas",
          "Retrohippocampal region",
          "Visual areas",
          "Retrohippocampal region",
          "Visual areas",
          "Visual areas",
          "Visual areas",
          "Midbrain",
          "Visual areas",
          "Pons",
          "Retrohippocampal region",
          "Pons",
          "Retrohippocampal region",
          "Retrohippocampal region",
          "Retrohippocampal region",
          "Visual areas",
          "Visual areas",
          "Pons",
          "Retrohippocampal region",
          "Pons",
          "Pons",
          "Frontal pole",
          "Frontal pole",
          "Gustatory areas",
          "Striatum",
          "Somatomotor areas",
          "Somatosensory areas",
          "Somatosensory areas",
          "Retrosplenial area",
          "Retrosplenial area",
          "Retrosplenial area",
          "Retrosplenial area",
          "Retrosplenial area",
          "Somatosensory areas",
          "Retrosplenial area",
          "Somatosensory areas",
          "Retrosplenial area",
          "Hypothalamus",
          "Retrosplenial area",
          "Somatosensory areas",
          "Retrosplenial area",
          "Retrosplenial area",
          "Visceral area",
          "Retrosplenial area",
          "Thalamus",
          "Cortical subplate",
          "Retrosplenial area",
          "Hypothalamus",
          "Perirhinal area",
          "Retrosplenial area",
          "Auditory areas",
          "Cortical subplate",
          "Retrosplenial area",
          "Thalamus",
          "Hypothalamus",
          "Thalamus",
          "Retrosplenial area",
          "Visual areas",
          "Postpiriform transition area",
          "Midbrain",
          "Midbrain",
          "Pons",
          "Midbrain",
          "Midbrain",
          "Midbrain",
          "Medulla",
          "Midbrain",
          "Anterior olfactory nucleus",
          "Dorsal peduncular area"
         ],
         "x0": " ",
         "xaxis": "x",
         "y": [
          1,
          79,
          22,
          3,
          4,
          36,
          20,
          8,
          3,
          10,
          1,
          3,
          1,
          1,
          1,
          77,
          3,
          128,
          31,
          3,
          2,
          117,
          127,
          9,
          62,
          3,
          38,
          6,
          3,
          3,
          6,
          15,
          19,
          2,
          5,
          4,
          5,
          3,
          1,
          1,
          1,
          1,
          1,
          3,
          3,
          1,
          2,
          1,
          1,
          10,
          1,
          3,
          1,
          1,
          2,
          21,
          1,
          1,
          1,
          2,
          8,
          29,
          1,
          13,
          1,
          5,
          176,
          1,
          67,
          20,
          141,
          13,
          72,
          3,
          37,
          3,
          3,
          2,
          6,
          6,
          45,
          1,
          2,
          76,
          2,
          1,
          8,
          2,
          1,
          3,
          2,
          3,
          5,
          21,
          2,
          4,
          3,
          1,
          1,
          1,
          14,
          3,
          2,
          2,
          6,
          1,
          1,
          7,
          7,
          1,
          2,
          2,
          4,
          3,
          3,
          2,
          13,
          6,
          10,
          6,
          1,
          1,
          1,
          1,
          1,
          1,
          1,
          458,
          134,
          371,
          261,
          141,
          3,
          445,
          2,
          374,
          1,
          108,
          5,
          28,
          76,
          1,
          359,
          2,
          1,
          18,
          1,
          3,
          2,
          2,
          1,
          7,
          1,
          6,
          1,
          1,
          3,
          1,
          1,
          1,
          2,
          1,
          2,
          2,
          1,
          1,
          0,
          0
         ],
         "y0": " ",
         "yaxis": "y"
        },
        {
         "alignmentgroup": "True",
         "box": {
          "visible": true
         },
         "hovertemplate": "Hemisphere=right<br>General area=%{x}<br>count=%{y}<extra></extra>",
         "legendgroup": "right",
         "marker": {
          "color": "magenta"
         },
         "meanline": {
          "visible": true
         },
         "name": "right",
         "offsetgroup": "right",
         "orientation": "v",
         "points": "all",
         "scalegroup": "True",
         "showlegend": true,
         "type": "violin",
         "x": [
          "Orbital area",
          "Anterior olfactory nucleus",
          "Taenia tecta",
          "Orbital area",
          "Infralimbic area",
          "Orbital area",
          "Infralimbic area",
          "Agranular insular area",
          "Dorsal peduncular area",
          "Agranular insular area",
          "Agranular insular area",
          "Cortical subplate",
          "Somatosensory areas",
          "Hippocampal region",
          "Striatum",
          "Gustatory areas",
          "Agranular insular area",
          "Striatum",
          "Somatosensory areas",
          "Somatosensory areas",
          "Striatum",
          "Gustatory areas",
          "Somatosensory areas",
          "Hypothalamus",
          "Somatosensory areas",
          "Somatosensory areas",
          "Somatosensory areas",
          "Visceral area",
          "Somatosensory areas",
          "Pallidum",
          "Pallidum",
          "Agranular insular area",
          "Thalamus",
          "Thalamus",
          "Thalamus",
          "Visceral area",
          "Thalamus",
          "Thalamus",
          "Visceral area",
          "Posterior parietal association areas",
          "Thalamus",
          "Thalamus",
          "Hypothalamus",
          "Hippocampal region",
          "ventricular systems",
          "Pallidum",
          "Somatosensory areas",
          "Cortical subplate",
          "Striatum",
          "Posterior parietal association areas",
          "Hippocampal region",
          "Thalamus",
          "Cortical subplate",
          "Somatosensory areas",
          "Thalamus",
          "Visual areas",
          "Cortical subplate",
          "Hypothalamus",
          "Pallidum",
          "Cortical subplate",
          "Posterior parietal association areas",
          "Somatosensory areas",
          "Hippocampal region",
          "Posterior parietal association areas",
          "Thalamus",
          "Visual areas",
          "Thalamus",
          "Posterior parietal association areas",
          "Thalamus",
          "Striatum",
          "Auditory areas",
          "Auditory areas",
          "Auditory areas",
          "Temporal association areas",
          "Posterior parietal association areas",
          "Auditory areas",
          "Hypothalamus",
          "Auditory areas",
          "Midbrain",
          "Auditory areas",
          "Temporal association areas",
          "Retrohippocampal region",
          "Visual areas",
          "Midbrain",
          "Visual areas",
          "Perirhinal area",
          "Retrohippocampal region",
          "Midbrain",
          "Retrohippocampal region",
          "Visual areas",
          "Visual areas",
          "Visual areas",
          "Visual areas",
          "Retrohippocampal region",
          "Retrohippocampal region",
          "Midbrain",
          "Pons",
          "Pons",
          "Midbrain",
          "root",
          "Frontal pole",
          "Somatomotor areas",
          "Anterior cingulate area",
          "Prelimbic area",
          "Retrosplenial area",
          "Ectorhinal area",
          "Main olfactory bulb",
          "Accessory olfactory bulb",
          "Piriform area",
          "Nucleus of the lateral olfactory tract",
          "Cortical amygdalar area",
          "Piriform-amygdalar area",
          "Postpiriform transition area",
          "Medulla",
          "Cerebellum"
         ],
         "x0": " ",
         "xaxis": "x",
         "y": [
          113,
          15,
          5,
          1,
          6,
          6,
          2,
          1,
          5,
          12,
          2,
          50,
          3,
          8,
          2,
          14,
          1,
          1,
          4,
          3,
          4,
          5,
          3,
          3,
          1,
          1,
          1,
          6,
          1,
          2,
          1,
          2,
          20,
          3,
          1,
          3,
          20,
          2,
          1,
          6,
          1,
          1,
          1,
          4,
          22,
          1,
          1,
          2,
          1,
          5,
          3,
          25,
          10,
          2,
          2,
          13,
          1,
          2,
          1,
          1,
          10,
          1,
          14,
          3,
          6,
          2,
          1,
          1,
          1,
          1,
          2,
          1,
          2,
          14,
          1,
          1,
          2,
          1,
          1,
          1,
          2,
          4,
          1,
          1,
          1,
          1,
          1,
          1,
          5,
          2,
          4,
          1,
          6,
          50,
          5,
          1,
          3,
          5,
          1,
          0,
          0,
          0,
          0,
          0,
          0,
          0,
          0,
          0,
          0,
          0,
          0,
          0,
          0,
          0,
          0
         ],
         "y0": " ",
         "yaxis": "y"
        }
       ],
       "layout": {
        "legend": {
         "title": {
          "text": "Hemisphere"
         },
         "tracegroupgap": 0
        },
        "template": {
         "data": {
          "bar": [
           {
            "error_x": {
             "color": "#2a3f5f"
            },
            "error_y": {
             "color": "#2a3f5f"
            },
            "marker": {
             "line": {
              "color": "#E5ECF6",
              "width": 0.5
             },
             "pattern": {
              "fillmode": "overlay",
              "size": 10,
              "solidity": 0.2
             }
            },
            "type": "bar"
           }
          ],
          "barpolar": [
           {
            "marker": {
             "line": {
              "color": "#E5ECF6",
              "width": 0.5
             },
             "pattern": {
              "fillmode": "overlay",
              "size": 10,
              "solidity": 0.2
             }
            },
            "type": "barpolar"
           }
          ],
          "carpet": [
           {
            "aaxis": {
             "endlinecolor": "#2a3f5f",
             "gridcolor": "white",
             "linecolor": "white",
             "minorgridcolor": "white",
             "startlinecolor": "#2a3f5f"
            },
            "baxis": {
             "endlinecolor": "#2a3f5f",
             "gridcolor": "white",
             "linecolor": "white",
             "minorgridcolor": "white",
             "startlinecolor": "#2a3f5f"
            },
            "type": "carpet"
           }
          ],
          "choropleth": [
           {
            "colorbar": {
             "outlinewidth": 0,
             "ticks": ""
            },
            "type": "choropleth"
           }
          ],
          "contour": [
           {
            "colorbar": {
             "outlinewidth": 0,
             "ticks": ""
            },
            "colorscale": [
             [
              0,
              "#0d0887"
             ],
             [
              0.1111111111111111,
              "#46039f"
             ],
             [
              0.2222222222222222,
              "#7201a8"
             ],
             [
              0.3333333333333333,
              "#9c179e"
             ],
             [
              0.4444444444444444,
              "#bd3786"
             ],
             [
              0.5555555555555556,
              "#d8576b"
             ],
             [
              0.6666666666666666,
              "#ed7953"
             ],
             [
              0.7777777777777778,
              "#fb9f3a"
             ],
             [
              0.8888888888888888,
              "#fdca26"
             ],
             [
              1,
              "#f0f921"
             ]
            ],
            "type": "contour"
           }
          ],
          "contourcarpet": [
           {
            "colorbar": {
             "outlinewidth": 0,
             "ticks": ""
            },
            "type": "contourcarpet"
           }
          ],
          "heatmap": [
           {
            "colorbar": {
             "outlinewidth": 0,
             "ticks": ""
            },
            "colorscale": [
             [
              0,
              "#0d0887"
             ],
             [
              0.1111111111111111,
              "#46039f"
             ],
             [
              0.2222222222222222,
              "#7201a8"
             ],
             [
              0.3333333333333333,
              "#9c179e"
             ],
             [
              0.4444444444444444,
              "#bd3786"
             ],
             [
              0.5555555555555556,
              "#d8576b"
             ],
             [
              0.6666666666666666,
              "#ed7953"
             ],
             [
              0.7777777777777778,
              "#fb9f3a"
             ],
             [
              0.8888888888888888,
              "#fdca26"
             ],
             [
              1,
              "#f0f921"
             ]
            ],
            "type": "heatmap"
           }
          ],
          "heatmapgl": [
           {
            "colorbar": {
             "outlinewidth": 0,
             "ticks": ""
            },
            "colorscale": [
             [
              0,
              "#0d0887"
             ],
             [
              0.1111111111111111,
              "#46039f"
             ],
             [
              0.2222222222222222,
              "#7201a8"
             ],
             [
              0.3333333333333333,
              "#9c179e"
             ],
             [
              0.4444444444444444,
              "#bd3786"
             ],
             [
              0.5555555555555556,
              "#d8576b"
             ],
             [
              0.6666666666666666,
              "#ed7953"
             ],
             [
              0.7777777777777778,
              "#fb9f3a"
             ],
             [
              0.8888888888888888,
              "#fdca26"
             ],
             [
              1,
              "#f0f921"
             ]
            ],
            "type": "heatmapgl"
           }
          ],
          "histogram": [
           {
            "marker": {
             "pattern": {
              "fillmode": "overlay",
              "size": 10,
              "solidity": 0.2
             }
            },
            "type": "histogram"
           }
          ],
          "histogram2d": [
           {
            "colorbar": {
             "outlinewidth": 0,
             "ticks": ""
            },
            "colorscale": [
             [
              0,
              "#0d0887"
             ],
             [
              0.1111111111111111,
              "#46039f"
             ],
             [
              0.2222222222222222,
              "#7201a8"
             ],
             [
              0.3333333333333333,
              "#9c179e"
             ],
             [
              0.4444444444444444,
              "#bd3786"
             ],
             [
              0.5555555555555556,
              "#d8576b"
             ],
             [
              0.6666666666666666,
              "#ed7953"
             ],
             [
              0.7777777777777778,
              "#fb9f3a"
             ],
             [
              0.8888888888888888,
              "#fdca26"
             ],
             [
              1,
              "#f0f921"
             ]
            ],
            "type": "histogram2d"
           }
          ],
          "histogram2dcontour": [
           {
            "colorbar": {
             "outlinewidth": 0,
             "ticks": ""
            },
            "colorscale": [
             [
              0,
              "#0d0887"
             ],
             [
              0.1111111111111111,
              "#46039f"
             ],
             [
              0.2222222222222222,
              "#7201a8"
             ],
             [
              0.3333333333333333,
              "#9c179e"
             ],
             [
              0.4444444444444444,
              "#bd3786"
             ],
             [
              0.5555555555555556,
              "#d8576b"
             ],
             [
              0.6666666666666666,
              "#ed7953"
             ],
             [
              0.7777777777777778,
              "#fb9f3a"
             ],
             [
              0.8888888888888888,
              "#fdca26"
             ],
             [
              1,
              "#f0f921"
             ]
            ],
            "type": "histogram2dcontour"
           }
          ],
          "mesh3d": [
           {
            "colorbar": {
             "outlinewidth": 0,
             "ticks": ""
            },
            "type": "mesh3d"
           }
          ],
          "parcoords": [
           {
            "line": {
             "colorbar": {
              "outlinewidth": 0,
              "ticks": ""
             }
            },
            "type": "parcoords"
           }
          ],
          "pie": [
           {
            "automargin": true,
            "type": "pie"
           }
          ],
          "scatter": [
           {
            "fillpattern": {
             "fillmode": "overlay",
             "size": 10,
             "solidity": 0.2
            },
            "type": "scatter"
           }
          ],
          "scatter3d": [
           {
            "line": {
             "colorbar": {
              "outlinewidth": 0,
              "ticks": ""
             }
            },
            "marker": {
             "colorbar": {
              "outlinewidth": 0,
              "ticks": ""
             }
            },
            "type": "scatter3d"
           }
          ],
          "scattercarpet": [
           {
            "marker": {
             "colorbar": {
              "outlinewidth": 0,
              "ticks": ""
             }
            },
            "type": "scattercarpet"
           }
          ],
          "scattergeo": [
           {
            "marker": {
             "colorbar": {
              "outlinewidth": 0,
              "ticks": ""
             }
            },
            "type": "scattergeo"
           }
          ],
          "scattergl": [
           {
            "marker": {
             "colorbar": {
              "outlinewidth": 0,
              "ticks": ""
             }
            },
            "type": "scattergl"
           }
          ],
          "scattermapbox": [
           {
            "marker": {
             "colorbar": {
              "outlinewidth": 0,
              "ticks": ""
             }
            },
            "type": "scattermapbox"
           }
          ],
          "scatterpolar": [
           {
            "marker": {
             "colorbar": {
              "outlinewidth": 0,
              "ticks": ""
             }
            },
            "type": "scatterpolar"
           }
          ],
          "scatterpolargl": [
           {
            "marker": {
             "colorbar": {
              "outlinewidth": 0,
              "ticks": ""
             }
            },
            "type": "scatterpolargl"
           }
          ],
          "scatterternary": [
           {
            "marker": {
             "colorbar": {
              "outlinewidth": 0,
              "ticks": ""
             }
            },
            "type": "scatterternary"
           }
          ],
          "surface": [
           {
            "colorbar": {
             "outlinewidth": 0,
             "ticks": ""
            },
            "colorscale": [
             [
              0,
              "#0d0887"
             ],
             [
              0.1111111111111111,
              "#46039f"
             ],
             [
              0.2222222222222222,
              "#7201a8"
             ],
             [
              0.3333333333333333,
              "#9c179e"
             ],
             [
              0.4444444444444444,
              "#bd3786"
             ],
             [
              0.5555555555555556,
              "#d8576b"
             ],
             [
              0.6666666666666666,
              "#ed7953"
             ],
             [
              0.7777777777777778,
              "#fb9f3a"
             ],
             [
              0.8888888888888888,
              "#fdca26"
             ],
             [
              1,
              "#f0f921"
             ]
            ],
            "type": "surface"
           }
          ],
          "table": [
           {
            "cells": {
             "fill": {
              "color": "#EBF0F8"
             },
             "line": {
              "color": "white"
             }
            },
            "header": {
             "fill": {
              "color": "#C8D4E3"
             },
             "line": {
              "color": "white"
             }
            },
            "type": "table"
           }
          ]
         },
         "layout": {
          "annotationdefaults": {
           "arrowcolor": "#2a3f5f",
           "arrowhead": 0,
           "arrowwidth": 1
          },
          "autotypenumbers": "strict",
          "coloraxis": {
           "colorbar": {
            "outlinewidth": 0,
            "ticks": ""
           }
          },
          "colorscale": {
           "diverging": [
            [
             0,
             "#8e0152"
            ],
            [
             0.1,
             "#c51b7d"
            ],
            [
             0.2,
             "#de77ae"
            ],
            [
             0.3,
             "#f1b6da"
            ],
            [
             0.4,
             "#fde0ef"
            ],
            [
             0.5,
             "#f7f7f7"
            ],
            [
             0.6,
             "#e6f5d0"
            ],
            [
             0.7,
             "#b8e186"
            ],
            [
             0.8,
             "#7fbc41"
            ],
            [
             0.9,
             "#4d9221"
            ],
            [
             1,
             "#276419"
            ]
           ],
           "sequential": [
            [
             0,
             "#0d0887"
            ],
            [
             0.1111111111111111,
             "#46039f"
            ],
            [
             0.2222222222222222,
             "#7201a8"
            ],
            [
             0.3333333333333333,
             "#9c179e"
            ],
            [
             0.4444444444444444,
             "#bd3786"
            ],
            [
             0.5555555555555556,
             "#d8576b"
            ],
            [
             0.6666666666666666,
             "#ed7953"
            ],
            [
             0.7777777777777778,
             "#fb9f3a"
            ],
            [
             0.8888888888888888,
             "#fdca26"
            ],
            [
             1,
             "#f0f921"
            ]
           ],
           "sequentialminus": [
            [
             0,
             "#0d0887"
            ],
            [
             0.1111111111111111,
             "#46039f"
            ],
            [
             0.2222222222222222,
             "#7201a8"
            ],
            [
             0.3333333333333333,
             "#9c179e"
            ],
            [
             0.4444444444444444,
             "#bd3786"
            ],
            [
             0.5555555555555556,
             "#d8576b"
            ],
            [
             0.6666666666666666,
             "#ed7953"
            ],
            [
             0.7777777777777778,
             "#fb9f3a"
            ],
            [
             0.8888888888888888,
             "#fdca26"
            ],
            [
             1,
             "#f0f921"
            ]
           ]
          },
          "colorway": [
           "#636efa",
           "#EF553B",
           "#00cc96",
           "#ab63fa",
           "#FFA15A",
           "#19d3f3",
           "#FF6692",
           "#B6E880",
           "#FF97FF",
           "#FECB52"
          ],
          "font": {
           "color": "#2a3f5f"
          },
          "geo": {
           "bgcolor": "white",
           "lakecolor": "white",
           "landcolor": "#E5ECF6",
           "showlakes": true,
           "showland": true,
           "subunitcolor": "white"
          },
          "hoverlabel": {
           "align": "left"
          },
          "hovermode": "closest",
          "mapbox": {
           "style": "light"
          },
          "paper_bgcolor": "white",
          "plot_bgcolor": "#E5ECF6",
          "polar": {
           "angularaxis": {
            "gridcolor": "white",
            "linecolor": "white",
            "ticks": ""
           },
           "bgcolor": "#E5ECF6",
           "radialaxis": {
            "gridcolor": "white",
            "linecolor": "white",
            "ticks": ""
           }
          },
          "scene": {
           "xaxis": {
            "backgroundcolor": "#E5ECF6",
            "gridcolor": "white",
            "gridwidth": 2,
            "linecolor": "white",
            "showbackground": true,
            "ticks": "",
            "zerolinecolor": "white"
           },
           "yaxis": {
            "backgroundcolor": "#E5ECF6",
            "gridcolor": "white",
            "gridwidth": 2,
            "linecolor": "white",
            "showbackground": true,
            "ticks": "",
            "zerolinecolor": "white"
           },
           "zaxis": {
            "backgroundcolor": "#E5ECF6",
            "gridcolor": "white",
            "gridwidth": 2,
            "linecolor": "white",
            "showbackground": true,
            "ticks": "",
            "zerolinecolor": "white"
           }
          },
          "shapedefaults": {
           "line": {
            "color": "#2a3f5f"
           }
          },
          "ternary": {
           "aaxis": {
            "gridcolor": "white",
            "linecolor": "white",
            "ticks": ""
           },
           "baxis": {
            "gridcolor": "white",
            "linecolor": "white",
            "ticks": ""
           },
           "bgcolor": "#E5ECF6",
           "caxis": {
            "gridcolor": "white",
            "linecolor": "white",
            "ticks": ""
           }
          },
          "title": {
           "x": 0.05
          },
          "xaxis": {
           "automargin": true,
           "gridcolor": "white",
           "linecolor": "white",
           "ticks": "",
           "title": {
            "standoff": 15
           },
           "zerolinecolor": "white",
           "zerolinewidth": 2
          },
          "yaxis": {
           "automargin": true,
           "gridcolor": "white",
           "linecolor": "white",
           "ticks": "",
           "title": {
            "standoff": 15
           },
           "zerolinecolor": "white",
           "zerolinewidth": 2
          }
         }
        },
        "title": {
         "text": "failed V1 injections (RSC) counts by hemisphere [p7-13]"
        },
        "violinmode": "group",
        "xaxis": {
         "anchor": "y",
         "categoryarray": [
          "Orbital area",
          "Retrohippocampal region",
          "Cortical subplate",
          "Thalamus",
          "ventricular systems",
          "Anterior olfactory nucleus",
          "Temporal association areas",
          "Gustatory areas",
          "Hippocampal region",
          "Visual areas",
          "Agranular insular area",
          "Posterior parietal association areas",
          "Visceral area",
          "Infralimbic area",
          "Dorsal peduncular area",
          "Taenia tecta",
          "Pons",
          "Somatosensory areas",
          "Striatum",
          "Hypothalamus",
          "Pallidum",
          "Auditory areas",
          "Perirhinal area",
          "Midbrain",
          "Main olfactory bulb",
          "root",
          "Anterior cingulate area",
          "Cerebellum",
          "Cortical amygdalar area",
          "Ectorhinal area",
          "Frontal pole",
          "Somatomotor areas",
          "Piriform area",
          "Retrosplenial area",
          "Medulla",
          "Prelimbic area",
          "Postpiriform transition area",
          "Nucleus of the lateral olfactory tract",
          "Piriform-amygdalar area",
          "Accessory olfactory bulb"
         ],
         "categoryorder": "array",
         "domain": [
          0,
          1
         ],
         "title": {
          "text": "General area"
         }
        },
        "yaxis": {
         "anchor": "x",
         "domain": [
          0,
          1
         ],
         "title": {
          "text": "count"
         }
        }
       }
      }
     },
     "metadata": {},
     "output_type": "display_data"
    }
   ],
   "source": [
    "fig = px.violin(\n",
    "    RSC_injection,\n",
    "    y=\"count\",\n",
    "    x=\"General area\",\n",
    "    color=\"Hemisphere\",\n",
    "    \n",
    "    box=True,\n",
    "    points=\"all\",\n",
    "    color_discrete_map={\n",
    "        \"left\": \"orange\",\n",
    "        \"right\": \"magenta\"\n",
    "    },\n",
    "    title=\"failed V1 injections (RSC) counts by hemisphere [p7-13]\",\n",
    "    category_orders={\"General area\": area_order_scaled}\n",
    ")\n",
    "\n",
    "fig.update_traces(meanline_visible=True)\n",
    "fig.update_layout(violinmode='group')\n",
    "fig.show()"
   ]
  }
 ],
 "metadata": {
  "kernelspec": {
   "display_name": "base",
   "language": "python",
   "name": "python3"
  },
  "language_info": {
   "codemirror_mode": {
    "name": "ipython",
    "version": 3
   },
   "file_extension": ".py",
   "mimetype": "text/x-python",
   "name": "python",
   "nbconvert_exporter": "python",
   "pygments_lexer": "ipython3",
   "version": "3.11.5"
  }
 },
 "nbformat": 4,
 "nbformat_minor": 5
}
