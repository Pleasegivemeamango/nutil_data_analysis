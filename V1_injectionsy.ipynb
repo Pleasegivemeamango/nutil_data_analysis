{
 "cells": [
  {
   "cell_type": "code",
   "execution_count": 46,
   "id": "264afaac",
   "metadata": {},
   "outputs": [],
   "source": [
    "import pandas as pd\n",
    "import os\n",
    "import plotly.express as px\n",
    "import plotly.graph_objects as go\n",
    "\n",
    "regions_complete = pd.read_csv(\"regions_complete.csv\", sep=\";\")"
   ]
  },
  {
   "cell_type": "code",
   "execution_count": 47,
   "id": "2049afea",
   "metadata": {},
   "outputs": [],
   "source": [
    "# get the csv files from the size_points folder\n",
    "\n",
    "size_points_path = \"size_points_only_v1_injection\"\n",
    "min_pixel_size = 1\n",
    "max_pixel_size = 17\n",
    "\n",
    "\n",
    "# loop through the files and save the csv files as seperate dataframes with the name of the file\n",
    "brains = {}\n",
    "for file in os.listdir(size_points_path):\n",
    "    if file.endswith(\".csv\"):\n",
    "        # get the brain name from the file name\n",
    "        brain_name_first_part = file.split(\"_\")[0:4]\n",
    "        black_white = file.split(\"_\")[6]\n",
    "        # join the brain name and black_white to a string\n",
    "\n",
    "        brain_name = black_white + \"_\" + \"_\".join(brain_name_first_part)\n",
    "        # remove the .csv from the end of the string\n",
    "        brain_name = brain_name.replace(\".csv\", \"\")\n",
    "        brains[brain_name] = pd.read_csv(os.path.join(size_points_path, file), sep=\";\")"
   ]
  },
  {
   "cell_type": "markdown",
   "id": "ddfc525a",
   "metadata": {},
   "source": [
    "ipsilateral = injection site of hemisphere\n",
    "contralateral = opposite side"
   ]
  },
  {
   "cell_type": "code",
   "execution_count": 48,
   "id": "646854f3",
   "metadata": {},
   "outputs": [],
   "source": [
    "# generate one file per brain\n",
    "\n",
    "\n",
    "def end_file_per_brain(white, black, name, age, injection_side, injection_area):\n",
    "    one_brain_file = pd.DataFrame(\n",
    "        columns=[\n",
    "            \"Brain\",\n",
    "            \"Region ID\",\n",
    "            \"General area\",\n",
    "            \"Hemisphere\",\n",
    "            \"count\",\n",
    "            \"scaled count\",\n",
    "            \"age\",\n",
    "        ]\n",
    "    )\n",
    "    total_counts = 0\n",
    "    if injection_side == \"left\":\n",
    "        white_side = \"contralateral\"\n",
    "        black_side = \"ipsilateral\"\n",
    "    else:\n",
    "        white_side = \"ipsilateral\"\n",
    "        black_side = \"contralateral\"\n",
    "\n",
    "    for index, row in white.iterrows():\n",
    "\n",
    "        hemisphere = white_side\n",
    "\n",
    "        if min_pixel_size <= row[\"Object area\"] <= max_pixel_size:\n",
    "            region_id = row[\"Region ID\"]\n",
    "\n",
    "            # check for the according General area in regions_complete\n",
    "            general_region = regions_complete.loc[\n",
    "                regions_complete[\"Region ID\"] == region_id, \"General area\"\n",
    "            ].values[0]\n",
    "            subdivided = regions_complete.loc[\n",
    "                regions_complete[\"Region ID\"] == region_id, \"Subdivided\"\n",
    "            ].values[0]\n",
    "\n",
    "            if subdivided != injection_area:\n",
    "\n",
    "                # if region_id is not in one_brain_file, add it\n",
    "                if region_id not in one_brain_file[\"Region ID\"].values:\n",
    "                    one_brain_file.loc[region_id] = [\n",
    "                        name,\n",
    "                        region_id,\n",
    "                        general_region,\n",
    "                        hemisphere,\n",
    "                        1,\n",
    "                        0,\n",
    "                        age,\n",
    "                    ]\n",
    "                else:\n",
    "                    one_brain_file.loc[region_id, \"count\"] += 1\n",
    "            if subdivided == injection_area and injection_side == \"left\":\n",
    "                if region_id not in one_brain_file[\"Region ID\"].values:\n",
    "                    one_brain_file.loc[region_id] = [\n",
    "                        name,\n",
    "                        region_id,\n",
    "                        general_region,\n",
    "                        hemisphere,\n",
    "                        1,\n",
    "                        0,\n",
    "                        age,\n",
    "                    ]\n",
    "                else:\n",
    "                    one_brain_file.loc[region_id, \"count\"] += 1\n",
    "\n",
    "            # the counts for clear label and fiber tracts are not counted\n",
    "            if (\n",
    "                general_region not in [\"Clear Label\", \"fiber tracts\", \"Parent\"]\n",
    "                and subdivided != \"injection_area\"\n",
    "            ):\n",
    "                total_counts += 1\n",
    "\n",
    "    for index, row in black.iterrows():\n",
    "        hemisphere = black_side\n",
    "\n",
    "        if min_pixel_size <= row[\"Object area\"] <= max_pixel_size:\n",
    "            region_id = row[\"Region ID\"]\n",
    "\n",
    "            # check for the according General area in regions_complete\n",
    "            general_region = regions_complete.loc[\n",
    "                regions_complete[\"Region ID\"] == region_id, \"General area\"\n",
    "            ].values[0]\n",
    "            subdivided = regions_complete.loc[\n",
    "                regions_complete[\"Region ID\"] == region_id, \"Subdivided\"\n",
    "            ].values[0]\n",
    "\n",
    "            if subdivided != injection_area:\n",
    "\n",
    "                # if region_id is not in one_brain_file with \"right\" in the hemisphere, add it\n",
    "                if region_id not in one_brain_file[\"Region ID\"].values:\n",
    "                    one_brain_file.loc[region_id] = [\n",
    "                        name,\n",
    "                        region_id,\n",
    "                        general_region,\n",
    "                        hemisphere,\n",
    "                        1,\n",
    "                        0,\n",
    "                        age,\n",
    "                    ]\n",
    "\n",
    "                else:\n",
    "                    # if region_id is already in one_brain_file check if the hemisphere is opposite or same side\n",
    "                    if one_brain_file.loc[region_id, \"Hemisphere\"] == black_side:\n",
    "                        # if it is, add the count to the existing count\n",
    "                        one_brain_file.loc[region_id, \"count\"] += 1\n",
    "                    else:\n",
    "                        one_brain_file.loc[region_id] = [\n",
    "                            name,\n",
    "                            region_id,\n",
    "                            general_region,\n",
    "                            hemisphere,\n",
    "                            1,\n",
    "                            0,\n",
    "                            age,\n",
    "                        ]\n",
    "\n",
    "                if subdivided == injection_area and injection_side == \"right\":\n",
    "                    if region_id not in one_brain_file[\"Region ID\"].values:\n",
    "                        one_brain_file.loc[region_id] = [\n",
    "                            name,\n",
    "                            region_id,\n",
    "                            general_region,\n",
    "                            hemisphere,\n",
    "                            1,\n",
    "                            0,\n",
    "                            age,\n",
    "                        ]\n",
    "                    else:\n",
    "                        one_brain_file.loc[region_id, \"count\"] += 1\n",
    "\n",
    "            if (\n",
    "                general_region not in [\"Clear Label\", \"fiber tracts\", \"Parent\"]\n",
    "                and subdivided != injection_area\n",
    "            ):\n",
    "                total_counts += 1\n",
    "\n",
    "    # scale the counts\n",
    "    one_brain_file[\"scaled count\"] = 100 / total_counts * one_brain_file[\"count\"]\n",
    "\n",
    "    return one_brain_file"
   ]
  },
  {
   "cell_type": "code",
   "execution_count": 100,
   "id": "fba6b31d",
   "metadata": {},
   "outputs": [],
   "source": [
    "n3_20241010_p1_7 = end_file_per_brain(\n",
    "    brains[\"white_20241010_p1_7_n3\"],\n",
    "    brains[\"black_20241010_p1_7_n3\"],\n",
    "    \"n3_20241010_p1_7\",\n",
    "    \"p1-7\",\n",
    "    \"right\",\n",
    "    \"Primary visual area\",\n",
    ")\n",
    "n11_20241103_p1_7 = end_file_per_brain(\n",
    "    brains[\"white_20241103_p1_7_n11\"],\n",
    "    brains[\"black_20241103_p1_7_n11\"],\n",
    "    \"n11_20241103_p1_7\",\n",
    "    \"p1-7\",\n",
    "    \"right\",\n",
    "    \"Primary visual area\",\n",
    ")\n",
    "n5_20241103_p1_7 = end_file_per_brain(\n",
    "    brains[\"white_20241103_p1_7_n5\"],\n",
    "    brains[\"black_20241103_p1_7_n5\"],\n",
    "    \"n5_20241103_p1_7\",\n",
    "    \"p1-7\",\n",
    "    \"right\",\n",
    "    \"Primary visual area\",\n",
    ")\n",
    "# n1_20241203_p7_13 = end_file_per_brain(\n",
    "    # brains[\"white_20241209_p7_13_n1\"],\n",
    "    # brains[\"black_20241209_p7_13_n1\"],\n",
    "    # \"n1_20241203_p7_13\",\n",
    "    # \"p7-13\",\n",
    "    # \"right\",\n",
    "    # \"Primary visual area\",\n",
    "# )\n",
    "n2_20241203_p7_13 = end_file_per_brain(\n",
    "    brains[\"white_20241203_p7_13_n2\"],\n",
    "    brains[\"black_20241203_p7_13_n2\"],\n",
    "    \"n2_20241203_p7_13\",\n",
    "    \"p7-13\",\n",
    "    \"right\",\n",
    "    \"Primary visual area\",\n",
    ")\n",
    "n4_20241203_p7_13 = end_file_per_brain(\n",
    "    brains[\"white_20241203_p7_13_n4\"],\n",
    "    brains[\"black_20241203_p7_13_n4\"],\n",
    "    \"n4_20241203_p7_13\",\n",
    "    \"p7-13\",\n",
    "    \"right\",\n",
    "    \"Primary visual area\",\n",
    ")\n",
    "n5_20241203_p7_13 = end_file_per_brain(\n",
    "    brains[\"white_20241203_p7_13_n5\"],\n",
    "    brains[\"black_20241203_p7_13_n5\"],\n",
    "    \"n5_20241203_p7_13\",\n",
    "    \"p7-13\",\n",
    "    \"right\",\n",
    "    \"Primary visual area\",\n",
    ")\n",
    "# n8_20241203_p7_13 = end_file_per_brain(\n",
    "    # brains[\"white_20241203_p7_13_n8\"],\n",
    "    # brains[\"black_20241203_p7_13_n8\"],\n",
    "    # \"n8_20241203_p7_13\",\n",
    "    # \"p7-13\",\n",
    "    # \"right\",\n",
    "    # \"Primary visual area\",\n",
    "# )\n",
    "n1_20241209_p7_13 = end_file_per_brain(\n",
    "    brains[\"white_20241209_p7_13_n1\"],\n",
    "    brains[\"black_20241209_p7_13_n1\"],\n",
    "    \"n1_20241209_p7_13\",\n",
    "    \"p7-13\",\n",
    "    \"right\",\n",
    "    \"Primary visual area\",\n",
    ")\n",
    "n2_20241209_p7_13 = end_file_per_brain(\n",
    "    brains[\"white_20241209_p7_13_n2\"],\n",
    "    brains[\"black_20241209_p7_13_n2\"],\n",
    "    \"n2_20241209_p7_13\",\n",
    "    \"p7-13\",\n",
    "    \"right\",\n",
    "    \"Primary visual area\",\n",
    ")\n",
    "# n3_20241209_p7_13 = end_file_per_brain(\n",
    "    # brains[\"white_20241209_p7_13_n3\"],\n",
    "    # brains[\"black_20241209_p7_13_n3\"],\n",
    "    # \"n3_20241209_p7_13\",\n",
    "    # \"p7-13\",\n",
    "    # \"right\",\n",
    "    # \"Primary visual area\",\n",
    "# )\n",
    "n4_20241209_p7_13 = end_file_per_brain(\n",
    "    brains[\"white_20241209_p7_13_n4\"],\n",
    "    brains[\"black_20241209_p7_13_n4\"],\n",
    "    \"n4_20241209_p7_13\",\n",
    "    \"p7-13\",\n",
    "    \"right\",\n",
    "    \"Primary visual area\",\n",
    ")"
   ]
  },
  {
   "cell_type": "code",
   "execution_count": 101,
   "id": "8cbba3d3",
   "metadata": {},
   "outputs": [],
   "source": [
    "# make the big mega file with all the brains put the brain name in the first column\n",
    "big_file_V1_injections = pd.concat(\n",
    "    [\n",
    "        n3_20241010_p1_7,\n",
    "        n11_20241103_p1_7,\n",
    "        n5_20241103_p1_7,\n",
    "        \n",
    "        n2_20241203_p7_13,\n",
    "        n4_20241203_p7_13,\n",
    "        n5_20241203_p7_13,\n",
    "        \n",
    "        n1_20241209_p7_13,\n",
    "        n2_20241209_p7_13,\n",
    "        \n",
    "        n4_20241209_p7_13,\n",
    "    ],\n",
    "    ignore_index=True,\n",
    ")\n",
    "# n3_20241209_p7_13, n1_20241203_p7_13, n8_20241203_p7_13,"
   ]
  },
  {
   "cell_type": "code",
   "execution_count": 102,
   "id": "b8db2cb9",
   "metadata": {},
   "outputs": [],
   "source": [
    "# take out Clear label and fiber tracts\n",
    "big_file_V1_injections = big_file_V1_injections[\n",
    "    ~big_file_V1_injections[\"General area\"].isin(\n",
    "        [\"Clear Label\", \"fiber tracts\", \"Parent\"]\n",
    "    )\n",
    "]"
   ]
  },
  {
   "cell_type": "code",
   "execution_count": 103,
   "id": "eb6fba42",
   "metadata": {},
   "outputs": [],
   "source": [
    "# Find regions with zero neurons\n",
    "\n",
    "\n",
    "def find_zero_neurons(\n",
    "    big_file,\n",
    "    general_area_ipsi_age_A,\n",
    "    general_area_contra_age_A,\n",
    "    general_area_ipsi_age_B,\n",
    "    general_area_contra_age_B,\n",
    "    age_A,\n",
    "    age_B,\n",
    "):\n",
    "\n",
    "    # add General area that are in regions_complete but not in S1_injections\n",
    "    regions_complete = pd.read_csv(\"regions_complete.csv\", sep=\";\")\n",
    "    General_areas_complete = regions_complete[\"General area\"].unique()\n",
    "\n",
    "    # filter out \"Clear Label\" and \"Fiber tracts\" and \"Parent\" from General areas\n",
    "    General_areas_complete = [\n",
    "        area\n",
    "        for area in General_areas_complete\n",
    "        if area not in [\"Clear Label\", \"fiber tracts\", \"Parent\", \"retina\"]\n",
    "    ]\n",
    "\n",
    "    # make copy of the DataFrame to add missing General areas\n",
    "    big_file_long = big_file.copy()\n",
    "\n",
    "    general_area_ipsi_age_A = []\n",
    "    general_area_contra_age_A = []\n",
    "    general_area_ipsi_age_B = []\n",
    "    general_area_contra_age_B = []\n",
    "\n",
    "    # loop through big_file_long and add General area to lists\n",
    "    for index, row in big_file_long.iterrows():\n",
    "        if row[\"Hemisphere\"] == \"ipsilateral\":\n",
    "            if row[\"age\"] == age_A:\n",
    "                general_area_ipsi_age_A.append(row[\"General area\"])\n",
    "            else:\n",
    "                general_area_ipsi_age_B.append(row[\"General area\"])\n",
    "\n",
    "        else:\n",
    "            if row[\"age\"] == age_A:\n",
    "                general_area_contra_age_A.append(row[\"General area\"])\n",
    "            else:\n",
    "                general_area_contra_age_B.append(row[\"General area\"])\n",
    "\n",
    "    for area in General_areas_complete:\n",
    "        if area not in general_area_ipsi_age_A:\n",
    "            print(\"area not found in\", \"general_area_ipsi\", age_A, \":\", area)\n",
    "\n",
    "            big_file_long.loc[area] = [0, 0, area, \"ipsilateral\", 0, 0, age_A]\n",
    "\n",
    "        if area not in general_area_contra_age_A:\n",
    "            print(\"area not found in\", \"general_area_contra\", age_A, \":\", area)\n",
    "            big_file_long.loc[area] = [0, 0, area, \"contralateral\", 0, 0, age_A]\n",
    "\n",
    "        if area not in general_area_ipsi_age_B:\n",
    "            print(\"area not found in\", \"general_area_ipsi\", age_B, \":\", area)\n",
    "            big_file_long.loc[area] = [0, 0, area, \"ipsilateral\", 0, 0, age_B]\n",
    "\n",
    "        if area not in general_area_contra_age_B:\n",
    "            print(\"area not found in\", \"general_area_contra\", age_B, \":\", area)\n",
    "            big_file_long.loc[area] = [0, 0, area, \"contralateral\", 0, 0, age_B]\n",
    "\n",
    "    return big_file_long"
   ]
  },
  {
   "cell_type": "code",
   "execution_count": 104,
   "id": "95fe213e",
   "metadata": {},
   "outputs": [
    {
     "name": "stdout",
     "output_type": "stream",
     "text": [
      "area not found in general_area_ipsi p1-7 : root\n",
      "area not found in general_area_ipsi p7-13 : root\n",
      "area not found in general_area_ipsi p1-7 : Temporal association areas\n",
      "area not found in general_area_ipsi p1-7 : Ectorhinal area\n",
      "area not found in general_area_ipsi p1-7 : Main olfactory bulb\n",
      "area not found in general_area_ipsi p1-7 : Accessory olfactory bulb\n",
      "area not found in general_area_ipsi p7-13 : Accessory olfactory bulb\n",
      "area not found in general_area_contra p7-13 : Accessory olfactory bulb\n",
      "area not found in general_area_ipsi p1-7 : Anterior olfactory nucleus\n",
      "area not found in general_area_ipsi p1-7 : Taenia tecta\n",
      "area not found in general_area_ipsi p1-7 : Dorsal peduncular area\n",
      "area not found in general_area_contra p7-13 : Dorsal peduncular area\n",
      "area not found in general_area_ipsi p1-7 : Piriform area\n",
      "area not found in general_area_ipsi p7-13 : Piriform area\n",
      "area not found in general_area_contra p7-13 : Piriform-amygdalar area\n",
      "area not found in general_area_ipsi p1-7 : Postpiriform transition area\n",
      "area not found in general_area_ipsi p1-7 : Medulla\n",
      "area not found in general_area_contra p7-13 : Cerebellum\n"
     ]
    }
   ],
   "source": [
    "big_file_V1_injections_long = find_zero_neurons(\n",
    "    big_file_V1_injections,\n",
    "    \"general_area_ipsi_p1-7\",\n",
    "    \"general_area_contra_p1-7\",\n",
    "    \"general_area_ipsi_p7-13\",\n",
    "    \"general_area_contra_p7-13\",\n",
    "    \"p1-7\",\n",
    "    \"p7-13\",\n",
    ")"
   ]
  },
  {
   "cell_type": "code",
   "execution_count": 105,
   "id": "65fb65b3",
   "metadata": {},
   "outputs": [],
   "source": [
    "# save the big file as csv\n",
    "big_file_V1_injections_long.to_csv(\n",
    "    \"big_file_V1_injections_long.csv\", sep=\";\", index=False\n",
    ")"
   ]
  },
  {
   "cell_type": "code",
   "execution_count": null,
   "id": "472a5289",
   "metadata": {},
   "outputs": [],
   "source": [
    "# make a file with only general regions counts which are then scaled to the total count of the brain\n",
    "general_areas_file = pd.DataFrame(\n",
    "    columns=[\n",
    "        \"Brain\",\n",
    "        \"General area\",\n",
    "        \"Hemisphere\",\n",
    "        \"count\",\n",
    "        \"scaled count\",\n",
    "        \"age\",\n",
    "    ]\n",
    ")\n",
    "totals = pd.DataFrame(columns=[\"Brain\", \"total\"])\n",
    "totals_ipsi = pd.DataFrame(columns=[\"Brain\", \"total\"])\n",
    "for index, row in big_file_V1_injections_long.iterrows():\n",
    "    general_area = row[\"General area\"]\n",
    "    hemisphere = row[\"Hemisphere\"]\n",
    "    age = row[\"age\"]\n",
    "    name = row[\"Brain\"]\n",
    "    amount = row[\"count\"]\n",
    "    if hemisphere == \"ipsilateral\":\n",
    "        if name not in totals_ipsi[\"Brain\"].values:\n",
    "            totals_ipsi.loc[name] = [name, amount]\n",
    "        else:\n",
    "            totals_ipsi.loc[name, \"total\"] += amount\n",
    "\n",
    "\n",
    "    if name not in totals[\"Brain\"].values:\n",
    "        totals.loc[name] = [name, amount]\n",
    "    else:\n",
    "        totals.loc[name, \"total\"] += amount"
   ]
  },
  {
   "cell_type": "code",
   "execution_count": 114,
   "id": "24f61069",
   "metadata": {},
   "outputs": [],
   "source": [
    "df_filtered = big_file_V1_injections_long[\n",
    "    [\"Brain\", \"age\", \"count\", \"Hemisphere\", \"General area\"]\n",
    "]\n",
    "\n",
    "# Step 2: Group by the relevant identifiers and sum the count per group\n",
    "df_grouped = df_filtered.groupby(\n",
    "    [\"Brain\", \"General area\", \"Hemisphere\", \"age\"], as_index=False\n",
    ")[\"count\"].sum()\n",
    "\n",
    "# add scaled column with 0\n",
    "df_grouped[\"scaled count\"] = 0"
   ]
  },
  {
   "cell_type": "code",
   "execution_count": 115,
   "id": "f4402690",
   "metadata": {},
   "outputs": [
    {
     "name": "stderr",
     "output_type": "stream",
     "text": [
      "C:\\Users\\sahet\\AppData\\Local\\Temp\\ipykernel_4068\\1044406047.py:6: RuntimeWarning:\n",
      "\n",
      "divide by zero encountered in scalar divide\n",
      "\n",
      "C:\\Users\\sahet\\AppData\\Local\\Temp\\ipykernel_4068\\1044406047.py:6: RuntimeWarning:\n",
      "\n",
      "invalid value encountered in scalar multiply\n",
      "\n"
     ]
    },
    {
     "data": {
      "application/vnd.microsoft.datawrangler.viewer.v0+json": {
       "columns": [
        {
         "name": "index",
         "rawType": "int64",
         "type": "integer"
        },
        {
         "name": "Brain",
         "rawType": "object",
         "type": "unknown"
        },
        {
         "name": "General area",
         "rawType": "object",
         "type": "string"
        },
        {
         "name": "Hemisphere",
         "rawType": "object",
         "type": "string"
        },
        {
         "name": "age",
         "rawType": "object",
         "type": "string"
        },
        {
         "name": "count",
         "rawType": "int64",
         "type": "integer"
        },
        {
         "name": "scaled count",
         "rawType": "float64",
         "type": "float"
        }
       ],
       "ref": "ed563422-241f-4b39-b786-60838d86e938",
       "rows": [
        [
         "0",
         "0",
         "Accessory olfactory bulb",
         "contralateral",
         "p7-13",
         "0",
         null
        ],
        [
         "1",
         "0",
         "Anterior olfactory nucleus",
         "ipsilateral",
         "p1-7",
         "0",
         null
        ],
        [
         "2",
         "0",
         "Cerebellum",
         "contralateral",
         "p7-13",
         "0",
         null
        ],
        [
         "3",
         "0",
         "Dorsal peduncular area",
         "contralateral",
         "p7-13",
         "0",
         null
        ],
        [
         "4",
         "0",
         "Ectorhinal area",
         "ipsilateral",
         "p1-7",
         "0",
         null
        ],
        [
         "5",
         "0",
         "Main olfactory bulb",
         "ipsilateral",
         "p1-7",
         "0",
         null
        ],
        [
         "6",
         "0",
         "Medulla",
         "ipsilateral",
         "p1-7",
         "0",
         null
        ],
        [
         "7",
         "0",
         "Piriform area",
         "ipsilateral",
         "p7-13",
         "0",
         null
        ],
        [
         "8",
         "0",
         "Piriform-amygdalar area",
         "contralateral",
         "p7-13",
         "0",
         null
        ],
        [
         "9",
         "0",
         "Postpiriform transition area",
         "ipsilateral",
         "p1-7",
         "0",
         null
        ],
        [
         "10",
         "0",
         "Taenia tecta",
         "ipsilateral",
         "p1-7",
         "0",
         null
        ],
        [
         "11",
         "0",
         "Temporal association areas",
         "ipsilateral",
         "p1-7",
         "0",
         null
        ],
        [
         "12",
         "0",
         "root",
         "ipsilateral",
         "p7-13",
         "0",
         null
        ],
        [
         "13",
         "n11_20241103_p1_7",
         "Accessory olfactory bulb",
         "contralateral",
         "p1-7",
         "83",
         "0.004868320722623028"
        ],
        [
         "14",
         "n11_20241103_p1_7",
         "Agranular insular area",
         "contralateral",
         "p1-7",
         "934",
         "0.05478327174614347"
        ],
        [
         "15",
         "n11_20241103_p1_7",
         "Agranular insular area",
         "ipsilateral",
         "p1-7",
         "2",
         "0.00011730893307525368"
        ],
        [
         "16",
         "n11_20241103_p1_7",
         "Anterior cingulate area",
         "contralateral",
         "p1-7",
         "202",
         "0.011848202240600621"
        ],
        [
         "17",
         "n11_20241103_p1_7",
         "Anterior olfactory nucleus",
         "contralateral",
         "p1-7",
         "122",
         "0.007155844917590475"
        ],
        [
         "18",
         "n11_20241103_p1_7",
         "Auditory areas",
         "contralateral",
         "p1-7",
         "201",
         "0.011789547774062995"
        ],
        [
         "19",
         "n11_20241103_p1_7",
         "Auditory areas",
         "ipsilateral",
         "p1-7",
         "8",
         "0.0004692357323010147"
        ],
        [
         "20",
         "n11_20241103_p1_7",
         "Cerebellum",
         "contralateral",
         "p1-7",
         "21",
         "0.0012317437972901636"
        ],
        [
         "21",
         "n11_20241103_p1_7",
         "Cerebellum",
         "ipsilateral",
         "p1-7",
         "48",
         "0.0028154143938060885"
        ],
        [
         "22",
         "n11_20241103_p1_7",
         "Cortical amygdalar area",
         "contralateral",
         "p1-7",
         "117",
         "0.00686257258490234"
        ],
        [
         "23",
         "n11_20241103_p1_7",
         "Cortical subplate",
         "contralateral",
         "p1-7",
         "118",
         "0.006921227051439967"
        ],
        [
         "24",
         "n11_20241103_p1_7",
         "Dorsal peduncular area",
         "contralateral",
         "p1-7",
         "47",
         "0.0027567599272684614"
        ],
        [
         "25",
         "n11_20241103_p1_7",
         "Ectorhinal area",
         "contralateral",
         "p1-7",
         "273",
         "0.016012669364772126"
        ],
        [
         "26",
         "n11_20241103_p1_7",
         "Frontal pole",
         "contralateral",
         "p1-7",
         "134",
         "0.007859698516041997"
        ],
        [
         "27",
         "n11_20241103_p1_7",
         "Gustatory areas",
         "contralateral",
         "p1-7",
         "75",
         "0.004399084990322013"
        ],
        [
         "28",
         "n11_20241103_p1_7",
         "Gustatory areas",
         "ipsilateral",
         "p1-7",
         "1",
         "5.865446653762684e-05"
        ],
        [
         "29",
         "n11_20241103_p1_7",
         "Hippocampal region",
         "contralateral",
         "p1-7",
         "754",
         "0.04422546776937064"
        ],
        [
         "30",
         "n11_20241103_p1_7",
         "Hypothalamus",
         "contralateral",
         "p1-7",
         "481",
         "0.02821279840459851"
        ],
        [
         "31",
         "n11_20241103_p1_7",
         "Hypothalamus",
         "ipsilateral",
         "p1-7",
         "15",
         "0.0008798169980644026"
        ],
        [
         "32",
         "n11_20241103_p1_7",
         "Infralimbic area",
         "contralateral",
         "p1-7",
         "47",
         "0.0027567599272684614"
        ],
        [
         "33",
         "n11_20241103_p1_7",
         "Infralimbic area",
         "ipsilateral",
         "p1-7",
         "3",
         "0.00017596339961288053"
        ],
        [
         "34",
         "n11_20241103_p1_7",
         "Main olfactory bulb",
         "contralateral",
         "p1-7",
         "577",
         "0.033843627192210686"
        ],
        [
         "35",
         "n11_20241103_p1_7",
         "Medulla",
         "contralateral",
         "p1-7",
         "83",
         "0.004868320722623028"
        ],
        [
         "36",
         "n11_20241103_p1_7",
         "Midbrain",
         "contralateral",
         "p1-7",
         "1680",
         "0.09853950378321309"
        ],
        [
         "37",
         "n11_20241103_p1_7",
         "Midbrain",
         "ipsilateral",
         "p1-7",
         "38",
         "0.00222886972842982"
        ],
        [
         "38",
         "n11_20241103_p1_7",
         "Nucleus of the lateral olfactory tract",
         "contralateral",
         "p1-7",
         "2",
         "0.00011730893307525368"
        ],
        [
         "39",
         "n11_20241103_p1_7",
         "Nucleus of the lateral olfactory tract",
         "ipsilateral",
         "p1-7",
         "2",
         "0.00011730893307525368"
        ],
        [
         "40",
         "n11_20241103_p1_7",
         "Orbital area",
         "contralateral",
         "p1-7",
         "2170",
         "0.12728019238665025"
        ],
        [
         "41",
         "n11_20241103_p1_7",
         "Pallidum",
         "contralateral",
         "p1-7",
         "64",
         "0.003753885858408118"
        ],
        [
         "42",
         "n11_20241103_p1_7",
         "Perirhinal area",
         "contralateral",
         "p1-7",
         "240",
         "0.014077071969030441"
        ],
        [
         "43",
         "n11_20241103_p1_7",
         "Perirhinal area",
         "ipsilateral",
         "p1-7",
         "3",
         "0.00017596339961288053"
        ],
        [
         "44",
         "n11_20241103_p1_7",
         "Piriform area",
         "contralateral",
         "p1-7",
         "148",
         "0.008680861047568772"
        ],
        [
         "45",
         "n11_20241103_p1_7",
         "Piriform-amygdalar area",
         "contralateral",
         "p1-7",
         "8",
         "0.0004692357323010147"
        ],
        [
         "46",
         "n11_20241103_p1_7",
         "Pons",
         "contralateral",
         "p1-7",
         "417",
         "0.02445891254619039"
        ],
        [
         "47",
         "n11_20241103_p1_7",
         "Pons",
         "ipsilateral",
         "p1-7",
         "1",
         "5.865446653762684e-05"
        ],
        [
         "48",
         "n11_20241103_p1_7",
         "Posterior parietal association areas",
         "contralateral",
         "p1-7",
         "49",
         "0.002874068860343715"
        ],
        [
         "49",
         "n11_20241103_p1_7",
         "Posterior parietal association areas",
         "ipsilateral",
         "p1-7",
         "38",
         "0.00222886972842982"
        ]
       ],
       "shape": {
        "columns": 6,
        "rows": 520
       }
      },
      "text/html": [
       "<div>\n",
       "<style scoped>\n",
       "    .dataframe tbody tr th:only-of-type {\n",
       "        vertical-align: middle;\n",
       "    }\n",
       "\n",
       "    .dataframe tbody tr th {\n",
       "        vertical-align: top;\n",
       "    }\n",
       "\n",
       "    .dataframe thead th {\n",
       "        text-align: right;\n",
       "    }\n",
       "</style>\n",
       "<table border=\"1\" class=\"dataframe\">\n",
       "  <thead>\n",
       "    <tr style=\"text-align: right;\">\n",
       "      <th></th>\n",
       "      <th>Brain</th>\n",
       "      <th>General area</th>\n",
       "      <th>Hemisphere</th>\n",
       "      <th>age</th>\n",
       "      <th>count</th>\n",
       "      <th>scaled count</th>\n",
       "    </tr>\n",
       "  </thead>\n",
       "  <tbody>\n",
       "    <tr>\n",
       "      <th>0</th>\n",
       "      <td>0</td>\n",
       "      <td>Accessory olfactory bulb</td>\n",
       "      <td>contralateral</td>\n",
       "      <td>p7-13</td>\n",
       "      <td>0</td>\n",
       "      <td>NaN</td>\n",
       "    </tr>\n",
       "    <tr>\n",
       "      <th>1</th>\n",
       "      <td>0</td>\n",
       "      <td>Anterior olfactory nucleus</td>\n",
       "      <td>ipsilateral</td>\n",
       "      <td>p1-7</td>\n",
       "      <td>0</td>\n",
       "      <td>NaN</td>\n",
       "    </tr>\n",
       "    <tr>\n",
       "      <th>2</th>\n",
       "      <td>0</td>\n",
       "      <td>Cerebellum</td>\n",
       "      <td>contralateral</td>\n",
       "      <td>p7-13</td>\n",
       "      <td>0</td>\n",
       "      <td>NaN</td>\n",
       "    </tr>\n",
       "    <tr>\n",
       "      <th>3</th>\n",
       "      <td>0</td>\n",
       "      <td>Dorsal peduncular area</td>\n",
       "      <td>contralateral</td>\n",
       "      <td>p7-13</td>\n",
       "      <td>0</td>\n",
       "      <td>NaN</td>\n",
       "    </tr>\n",
       "    <tr>\n",
       "      <th>4</th>\n",
       "      <td>0</td>\n",
       "      <td>Ectorhinal area</td>\n",
       "      <td>ipsilateral</td>\n",
       "      <td>p1-7</td>\n",
       "      <td>0</td>\n",
       "      <td>NaN</td>\n",
       "    </tr>\n",
       "    <tr>\n",
       "      <th>...</th>\n",
       "      <td>...</td>\n",
       "      <td>...</td>\n",
       "      <td>...</td>\n",
       "      <td>...</td>\n",
       "      <td>...</td>\n",
       "      <td>...</td>\n",
       "    </tr>\n",
       "    <tr>\n",
       "      <th>515</th>\n",
       "      <td>n5_20241203_p7_13</td>\n",
       "      <td>Visual areas</td>\n",
       "      <td>contralateral</td>\n",
       "      <td>p7-13</td>\n",
       "      <td>329</td>\n",
       "      <td>0.113683</td>\n",
       "    </tr>\n",
       "    <tr>\n",
       "      <th>516</th>\n",
       "      <td>n5_20241203_p7_13</td>\n",
       "      <td>Visual areas</td>\n",
       "      <td>ipsilateral</td>\n",
       "      <td>p7-13</td>\n",
       "      <td>73</td>\n",
       "      <td>0.025225</td>\n",
       "    </tr>\n",
       "    <tr>\n",
       "      <th>517</th>\n",
       "      <td>n5_20241203_p7_13</td>\n",
       "      <td>root</td>\n",
       "      <td>contralateral</td>\n",
       "      <td>p7-13</td>\n",
       "      <td>5</td>\n",
       "      <td>0.001728</td>\n",
       "    </tr>\n",
       "    <tr>\n",
       "      <th>518</th>\n",
       "      <td>n5_20241203_p7_13</td>\n",
       "      <td>ventricular systems</td>\n",
       "      <td>contralateral</td>\n",
       "      <td>p7-13</td>\n",
       "      <td>5</td>\n",
       "      <td>0.001728</td>\n",
       "    </tr>\n",
       "    <tr>\n",
       "      <th>519</th>\n",
       "      <td>n5_20241203_p7_13</td>\n",
       "      <td>ventricular systems</td>\n",
       "      <td>ipsilateral</td>\n",
       "      <td>p7-13</td>\n",
       "      <td>1</td>\n",
       "      <td>0.000346</td>\n",
       "    </tr>\n",
       "  </tbody>\n",
       "</table>\n",
       "<p>520 rows × 6 columns</p>\n",
       "</div>"
      ],
      "text/plain": [
       "                 Brain                General area     Hemisphere    age  \\\n",
       "0                    0    Accessory olfactory bulb  contralateral  p7-13   \n",
       "1                    0  Anterior olfactory nucleus    ipsilateral   p1-7   \n",
       "2                    0                  Cerebellum  contralateral  p7-13   \n",
       "3                    0      Dorsal peduncular area  contralateral  p7-13   \n",
       "4                    0             Ectorhinal area    ipsilateral   p1-7   \n",
       "..                 ...                         ...            ...    ...   \n",
       "515  n5_20241203_p7_13                Visual areas  contralateral  p7-13   \n",
       "516  n5_20241203_p7_13                Visual areas    ipsilateral  p7-13   \n",
       "517  n5_20241203_p7_13                        root  contralateral  p7-13   \n",
       "518  n5_20241203_p7_13         ventricular systems  contralateral  p7-13   \n",
       "519  n5_20241203_p7_13         ventricular systems    ipsilateral  p7-13   \n",
       "\n",
       "     count  scaled count  \n",
       "0        0           NaN  \n",
       "1        0           NaN  \n",
       "2        0           NaN  \n",
       "3        0           NaN  \n",
       "4        0           NaN  \n",
       "..     ...           ...  \n",
       "515    329      0.113683  \n",
       "516     73      0.025225  \n",
       "517      5      0.001728  \n",
       "518      5      0.001728  \n",
       "519      1      0.000346  \n",
       "\n",
       "[520 rows x 6 columns]"
      ]
     },
     "execution_count": 115,
     "metadata": {},
     "output_type": "execute_result"
    }
   ],
   "source": [
    "# scale the counts\n",
    "for index, row in df_grouped.iterrows():\n",
    "    brain_name = row[\"Brain\"]\n",
    "    count = row[\"count\"]\n",
    "    total_count = totals.loc[totals[\"Brain\"] == brain_name, \"total\"].values[0]\n",
    "    scaled_count = 1 / total_count * count\n",
    "    df_grouped.loc[index, \"scaled count\"] = scaled_count\n",
    "df_grouped"
   ]
  },
  {
   "cell_type": "code",
   "execution_count": 94,
   "id": "6f3f92ed",
   "metadata": {},
   "outputs": [],
   "source": [
    "def get_area_order_by_age(big_file_long):\n",
    "    # Filter for 'ipsilateral' hemisphere and age group 'p7-13'\n",
    "    filtered = big_file_long[\n",
    "        (big_file_long[\"Hemisphere\"] == \"ipsilateral\")\n",
    "        & (big_file_long[\"age\"] == \"p7-13\")\n",
    "    ]\n",
    "\n",
    "    area_order_scaled = (\n",
    "        filtered.groupby(\"General area\")[\"scaled count\"]\n",
    "        .max()\n",
    "        .sort_values(ascending=False)\n",
    "        .index.tolist()\n",
    "    )\n",
    "\n",
    "    area_order_count = (\n",
    "        filtered.groupby(\"General area\")[\"count\"]\n",
    "        .max()\n",
    "        .sort_values(ascending=False)\n",
    "        .index.tolist()\n",
    "    )\n",
    "\n",
    "    return area_order_scaled, area_order_count"
   ]
  },
  {
   "cell_type": "code",
   "execution_count": 95,
   "id": "4b51f3fc",
   "metadata": {},
   "outputs": [],
   "source": [
    "area_order_scaled, area_order_count = get_area_order_by_age(df_grouped)"
   ]
  },
  {
   "cell_type": "code",
   "execution_count": null,
   "id": "b47976c6",
   "metadata": {},
   "outputs": [],
   "source": [
    "def plot_scaled_zoomed(big_file_long, Title):\n",
    "    filtered_areas = [\n",
    "        \"Somatosensory areas\",\n",
    "        \"Retrosplenial area\"\n",
    "        \n",
    "    ]\n",
    "    df_hemi = big_file_long[\n",
    "        (big_file_long[\"Hemisphere\"] == \"ipsilateral\")\n",
    "        & (big_file_long[\"General area\"].isin(filtered_areas))\n",
    "    ]\n",
    "    area_order_scaled = (\n",
    "        df_hemi.groupby(\"General area\")[\"scaled count\"]\n",
    "        .max()\n",
    "        .sort_values(ascending=False)\n",
    "        .index.tolist()\n",
    "    )\n",
    "    \n",
    "\n",
    "    fig = px.box(\n",
    "        df_hemi,\n",
    "        y=\"scaled count\",\n",
    "        x=\"General area\",\n",
    "        points=\"all\",\n",
    "        color=\"age\",\n",
    "        color_discrete_map={\"p1-7\": \"orange\", \"p7-13\": \"magenta\"},\n",
    "        title=Title,\n",
    "        category_orders={\"General area\": area_order_scaled},\n",
    "        labels={\"scaled count\": \"Scaled count\", \"General area\": \"General area\"},\n",
    "    )\n",
    "    fig.update_layout(\n",
    "        legend=dict(font=dict(size=20)),\n",
    "        xaxis_title_font=dict(size=24),  # x-axis label font size\n",
    "        yaxis_title_font=dict(size=24),  # y-axis label font size\n",
    "        xaxis_tickfont=dict(size=20),  # x-axis tick font size\n",
    "        yaxis_tickfont=dict(size=18),  # y-axis tick font size\n",
    "    )\n",
    "\n",
    "    return fig"
   ]
  },
  {
   "cell_type": "code",
   "execution_count": 130,
   "id": "09dc0fd7",
   "metadata": {},
   "outputs": [
    {
     "data": {
      "application/vnd.plotly.v1+json": {
       "config": {
        "plotlyServerURL": "https://plot.ly"
       },
       "data": [
        {
         "alignmentgroup": "True",
         "boxpoints": "all",
         "hovertemplate": "age=p1-7<br>General area=%{x}<br>Scaled count=%{y}<extra></extra>",
         "legendgroup": "p1-7",
         "marker": {
          "color": "orange"
         },
         "name": "p1-7",
         "notched": false,
         "offsetgroup": "p1-7",
         "orientation": "v",
         "showlegend": true,
         "type": "box",
         "x": [
          "Retrosplenial area",
          "Somatosensory areas",
          "Retrosplenial area",
          "Somatosensory areas",
          "Retrosplenial area",
          "Somatosensory areas"
         ],
         "x0": " ",
         "xaxis": "x",
         "y": [
          0.00017596339961288053,
          0.0008211625315267758,
          0.06704438149197356,
          0.014164305949008499,
          0.0007579585649317838,
          0.001768569984840829
         ],
         "y0": " ",
         "yaxis": "y"
        },
        {
         "alignmentgroup": "True",
         "boxpoints": "all",
         "hovertemplate": "age=p7-13<br>General area=%{x}<br>Scaled count=%{y}<extra></extra>",
         "legendgroup": "p7-13",
         "marker": {
          "color": "magenta"
         },
         "name": "p7-13",
         "notched": false,
         "offsetgroup": "p7-13",
         "orientation": "v",
         "showlegend": true,
         "type": "box",
         "x": [
          "Retrosplenial area",
          "Somatosensory areas",
          "Retrosplenial area",
          "Somatosensory areas",
          "Retrosplenial area",
          "Somatosensory areas",
          "Retrosplenial area",
          "Somatosensory areas",
          "Retrosplenial area",
          "Somatosensory areas",
          "Retrosplenial area",
          "Somatosensory areas"
         ],
         "x0": " ",
         "xaxis": "x",
         "y": [
          0.31088082901554404,
          0.005829015544041451,
          0.01245674740484429,
          0.015224913494809688,
          0.1983640081799591,
          0.11656441717791412,
          0.030573248407643312,
          0.003821656050955414,
          0.26822323462414577,
          0.002277904328018223,
          0.002073255010366275,
          0.0193503800967519
         ],
         "y0": " ",
         "yaxis": "y"
        }
       ],
       "layout": {
        "boxmode": "group",
        "legend": {
         "font": {
          "size": 20
         },
         "title": {
          "text": "age"
         },
         "tracegroupgap": 0
        },
        "template": {
         "data": {
          "bar": [
           {
            "error_x": {
             "color": "#2a3f5f"
            },
            "error_y": {
             "color": "#2a3f5f"
            },
            "marker": {
             "line": {
              "color": "#E5ECF6",
              "width": 0.5
             },
             "pattern": {
              "fillmode": "overlay",
              "size": 10,
              "solidity": 0.2
             }
            },
            "type": "bar"
           }
          ],
          "barpolar": [
           {
            "marker": {
             "line": {
              "color": "#E5ECF6",
              "width": 0.5
             },
             "pattern": {
              "fillmode": "overlay",
              "size": 10,
              "solidity": 0.2
             }
            },
            "type": "barpolar"
           }
          ],
          "carpet": [
           {
            "aaxis": {
             "endlinecolor": "#2a3f5f",
             "gridcolor": "white",
             "linecolor": "white",
             "minorgridcolor": "white",
             "startlinecolor": "#2a3f5f"
            },
            "baxis": {
             "endlinecolor": "#2a3f5f",
             "gridcolor": "white",
             "linecolor": "white",
             "minorgridcolor": "white",
             "startlinecolor": "#2a3f5f"
            },
            "type": "carpet"
           }
          ],
          "choropleth": [
           {
            "colorbar": {
             "outlinewidth": 0,
             "ticks": ""
            },
            "type": "choropleth"
           }
          ],
          "contour": [
           {
            "colorbar": {
             "outlinewidth": 0,
             "ticks": ""
            },
            "colorscale": [
             [
              0,
              "#0d0887"
             ],
             [
              0.1111111111111111,
              "#46039f"
             ],
             [
              0.2222222222222222,
              "#7201a8"
             ],
             [
              0.3333333333333333,
              "#9c179e"
             ],
             [
              0.4444444444444444,
              "#bd3786"
             ],
             [
              0.5555555555555556,
              "#d8576b"
             ],
             [
              0.6666666666666666,
              "#ed7953"
             ],
             [
              0.7777777777777778,
              "#fb9f3a"
             ],
             [
              0.8888888888888888,
              "#fdca26"
             ],
             [
              1,
              "#f0f921"
             ]
            ],
            "type": "contour"
           }
          ],
          "contourcarpet": [
           {
            "colorbar": {
             "outlinewidth": 0,
             "ticks": ""
            },
            "type": "contourcarpet"
           }
          ],
          "heatmap": [
           {
            "colorbar": {
             "outlinewidth": 0,
             "ticks": ""
            },
            "colorscale": [
             [
              0,
              "#0d0887"
             ],
             [
              0.1111111111111111,
              "#46039f"
             ],
             [
              0.2222222222222222,
              "#7201a8"
             ],
             [
              0.3333333333333333,
              "#9c179e"
             ],
             [
              0.4444444444444444,
              "#bd3786"
             ],
             [
              0.5555555555555556,
              "#d8576b"
             ],
             [
              0.6666666666666666,
              "#ed7953"
             ],
             [
              0.7777777777777778,
              "#fb9f3a"
             ],
             [
              0.8888888888888888,
              "#fdca26"
             ],
             [
              1,
              "#f0f921"
             ]
            ],
            "type": "heatmap"
           }
          ],
          "heatmapgl": [
           {
            "colorbar": {
             "outlinewidth": 0,
             "ticks": ""
            },
            "colorscale": [
             [
              0,
              "#0d0887"
             ],
             [
              0.1111111111111111,
              "#46039f"
             ],
             [
              0.2222222222222222,
              "#7201a8"
             ],
             [
              0.3333333333333333,
              "#9c179e"
             ],
             [
              0.4444444444444444,
              "#bd3786"
             ],
             [
              0.5555555555555556,
              "#d8576b"
             ],
             [
              0.6666666666666666,
              "#ed7953"
             ],
             [
              0.7777777777777778,
              "#fb9f3a"
             ],
             [
              0.8888888888888888,
              "#fdca26"
             ],
             [
              1,
              "#f0f921"
             ]
            ],
            "type": "heatmapgl"
           }
          ],
          "histogram": [
           {
            "marker": {
             "pattern": {
              "fillmode": "overlay",
              "size": 10,
              "solidity": 0.2
             }
            },
            "type": "histogram"
           }
          ],
          "histogram2d": [
           {
            "colorbar": {
             "outlinewidth": 0,
             "ticks": ""
            },
            "colorscale": [
             [
              0,
              "#0d0887"
             ],
             [
              0.1111111111111111,
              "#46039f"
             ],
             [
              0.2222222222222222,
              "#7201a8"
             ],
             [
              0.3333333333333333,
              "#9c179e"
             ],
             [
              0.4444444444444444,
              "#bd3786"
             ],
             [
              0.5555555555555556,
              "#d8576b"
             ],
             [
              0.6666666666666666,
              "#ed7953"
             ],
             [
              0.7777777777777778,
              "#fb9f3a"
             ],
             [
              0.8888888888888888,
              "#fdca26"
             ],
             [
              1,
              "#f0f921"
             ]
            ],
            "type": "histogram2d"
           }
          ],
          "histogram2dcontour": [
           {
            "colorbar": {
             "outlinewidth": 0,
             "ticks": ""
            },
            "colorscale": [
             [
              0,
              "#0d0887"
             ],
             [
              0.1111111111111111,
              "#46039f"
             ],
             [
              0.2222222222222222,
              "#7201a8"
             ],
             [
              0.3333333333333333,
              "#9c179e"
             ],
             [
              0.4444444444444444,
              "#bd3786"
             ],
             [
              0.5555555555555556,
              "#d8576b"
             ],
             [
              0.6666666666666666,
              "#ed7953"
             ],
             [
              0.7777777777777778,
              "#fb9f3a"
             ],
             [
              0.8888888888888888,
              "#fdca26"
             ],
             [
              1,
              "#f0f921"
             ]
            ],
            "type": "histogram2dcontour"
           }
          ],
          "mesh3d": [
           {
            "colorbar": {
             "outlinewidth": 0,
             "ticks": ""
            },
            "type": "mesh3d"
           }
          ],
          "parcoords": [
           {
            "line": {
             "colorbar": {
              "outlinewidth": 0,
              "ticks": ""
             }
            },
            "type": "parcoords"
           }
          ],
          "pie": [
           {
            "automargin": true,
            "type": "pie"
           }
          ],
          "scatter": [
           {
            "fillpattern": {
             "fillmode": "overlay",
             "size": 10,
             "solidity": 0.2
            },
            "type": "scatter"
           }
          ],
          "scatter3d": [
           {
            "line": {
             "colorbar": {
              "outlinewidth": 0,
              "ticks": ""
             }
            },
            "marker": {
             "colorbar": {
              "outlinewidth": 0,
              "ticks": ""
             }
            },
            "type": "scatter3d"
           }
          ],
          "scattercarpet": [
           {
            "marker": {
             "colorbar": {
              "outlinewidth": 0,
              "ticks": ""
             }
            },
            "type": "scattercarpet"
           }
          ],
          "scattergeo": [
           {
            "marker": {
             "colorbar": {
              "outlinewidth": 0,
              "ticks": ""
             }
            },
            "type": "scattergeo"
           }
          ],
          "scattergl": [
           {
            "marker": {
             "colorbar": {
              "outlinewidth": 0,
              "ticks": ""
             }
            },
            "type": "scattergl"
           }
          ],
          "scattermapbox": [
           {
            "marker": {
             "colorbar": {
              "outlinewidth": 0,
              "ticks": ""
             }
            },
            "type": "scattermapbox"
           }
          ],
          "scatterpolar": [
           {
            "marker": {
             "colorbar": {
              "outlinewidth": 0,
              "ticks": ""
             }
            },
            "type": "scatterpolar"
           }
          ],
          "scatterpolargl": [
           {
            "marker": {
             "colorbar": {
              "outlinewidth": 0,
              "ticks": ""
             }
            },
            "type": "scatterpolargl"
           }
          ],
          "scatterternary": [
           {
            "marker": {
             "colorbar": {
              "outlinewidth": 0,
              "ticks": ""
             }
            },
            "type": "scatterternary"
           }
          ],
          "surface": [
           {
            "colorbar": {
             "outlinewidth": 0,
             "ticks": ""
            },
            "colorscale": [
             [
              0,
              "#0d0887"
             ],
             [
              0.1111111111111111,
              "#46039f"
             ],
             [
              0.2222222222222222,
              "#7201a8"
             ],
             [
              0.3333333333333333,
              "#9c179e"
             ],
             [
              0.4444444444444444,
              "#bd3786"
             ],
             [
              0.5555555555555556,
              "#d8576b"
             ],
             [
              0.6666666666666666,
              "#ed7953"
             ],
             [
              0.7777777777777778,
              "#fb9f3a"
             ],
             [
              0.8888888888888888,
              "#fdca26"
             ],
             [
              1,
              "#f0f921"
             ]
            ],
            "type": "surface"
           }
          ],
          "table": [
           {
            "cells": {
             "fill": {
              "color": "#EBF0F8"
             },
             "line": {
              "color": "white"
             }
            },
            "header": {
             "fill": {
              "color": "#C8D4E3"
             },
             "line": {
              "color": "white"
             }
            },
            "type": "table"
           }
          ]
         },
         "layout": {
          "annotationdefaults": {
           "arrowcolor": "#2a3f5f",
           "arrowhead": 0,
           "arrowwidth": 1
          },
          "autotypenumbers": "strict",
          "coloraxis": {
           "colorbar": {
            "outlinewidth": 0,
            "ticks": ""
           }
          },
          "colorscale": {
           "diverging": [
            [
             0,
             "#8e0152"
            ],
            [
             0.1,
             "#c51b7d"
            ],
            [
             0.2,
             "#de77ae"
            ],
            [
             0.3,
             "#f1b6da"
            ],
            [
             0.4,
             "#fde0ef"
            ],
            [
             0.5,
             "#f7f7f7"
            ],
            [
             0.6,
             "#e6f5d0"
            ],
            [
             0.7,
             "#b8e186"
            ],
            [
             0.8,
             "#7fbc41"
            ],
            [
             0.9,
             "#4d9221"
            ],
            [
             1,
             "#276419"
            ]
           ],
           "sequential": [
            [
             0,
             "#0d0887"
            ],
            [
             0.1111111111111111,
             "#46039f"
            ],
            [
             0.2222222222222222,
             "#7201a8"
            ],
            [
             0.3333333333333333,
             "#9c179e"
            ],
            [
             0.4444444444444444,
             "#bd3786"
            ],
            [
             0.5555555555555556,
             "#d8576b"
            ],
            [
             0.6666666666666666,
             "#ed7953"
            ],
            [
             0.7777777777777778,
             "#fb9f3a"
            ],
            [
             0.8888888888888888,
             "#fdca26"
            ],
            [
             1,
             "#f0f921"
            ]
           ],
           "sequentialminus": [
            [
             0,
             "#0d0887"
            ],
            [
             0.1111111111111111,
             "#46039f"
            ],
            [
             0.2222222222222222,
             "#7201a8"
            ],
            [
             0.3333333333333333,
             "#9c179e"
            ],
            [
             0.4444444444444444,
             "#bd3786"
            ],
            [
             0.5555555555555556,
             "#d8576b"
            ],
            [
             0.6666666666666666,
             "#ed7953"
            ],
            [
             0.7777777777777778,
             "#fb9f3a"
            ],
            [
             0.8888888888888888,
             "#fdca26"
            ],
            [
             1,
             "#f0f921"
            ]
           ]
          },
          "colorway": [
           "#636efa",
           "#EF553B",
           "#00cc96",
           "#ab63fa",
           "#FFA15A",
           "#19d3f3",
           "#FF6692",
           "#B6E880",
           "#FF97FF",
           "#FECB52"
          ],
          "font": {
           "color": "#2a3f5f"
          },
          "geo": {
           "bgcolor": "white",
           "lakecolor": "white",
           "landcolor": "#E5ECF6",
           "showlakes": true,
           "showland": true,
           "subunitcolor": "white"
          },
          "hoverlabel": {
           "align": "left"
          },
          "hovermode": "closest",
          "mapbox": {
           "style": "light"
          },
          "paper_bgcolor": "white",
          "plot_bgcolor": "#E5ECF6",
          "polar": {
           "angularaxis": {
            "gridcolor": "white",
            "linecolor": "white",
            "ticks": ""
           },
           "bgcolor": "#E5ECF6",
           "radialaxis": {
            "gridcolor": "white",
            "linecolor": "white",
            "ticks": ""
           }
          },
          "scene": {
           "xaxis": {
            "backgroundcolor": "#E5ECF6",
            "gridcolor": "white",
            "gridwidth": 2,
            "linecolor": "white",
            "showbackground": true,
            "ticks": "",
            "zerolinecolor": "white"
           },
           "yaxis": {
            "backgroundcolor": "#E5ECF6",
            "gridcolor": "white",
            "gridwidth": 2,
            "linecolor": "white",
            "showbackground": true,
            "ticks": "",
            "zerolinecolor": "white"
           },
           "zaxis": {
            "backgroundcolor": "#E5ECF6",
            "gridcolor": "white",
            "gridwidth": 2,
            "linecolor": "white",
            "showbackground": true,
            "ticks": "",
            "zerolinecolor": "white"
           }
          },
          "shapedefaults": {
           "line": {
            "color": "#2a3f5f"
           }
          },
          "ternary": {
           "aaxis": {
            "gridcolor": "white",
            "linecolor": "white",
            "ticks": ""
           },
           "baxis": {
            "gridcolor": "white",
            "linecolor": "white",
            "ticks": ""
           },
           "bgcolor": "#E5ECF6",
           "caxis": {
            "gridcolor": "white",
            "linecolor": "white",
            "ticks": ""
           }
          },
          "title": {
           "x": 0.05
          },
          "xaxis": {
           "automargin": true,
           "gridcolor": "white",
           "linecolor": "white",
           "ticks": "",
           "title": {
            "standoff": 15
           },
           "zerolinecolor": "white",
           "zerolinewidth": 2
          },
          "yaxis": {
           "automargin": true,
           "gridcolor": "white",
           "linecolor": "white",
           "ticks": "",
           "title": {
            "standoff": 15
           },
           "zerolinecolor": "white",
           "zerolinewidth": 2
          }
         }
        },
        "title": {
         "text": "V1 injections scaled counts by hemisphere, p1-7 (n=3) and p7-13 (n=9) "
        },
        "xaxis": {
         "anchor": "y",
         "categoryarray": [
          "Retrosplenial area",
          "Somatosensory areas"
         ],
         "categoryorder": "array",
         "domain": [
          0,
          1
         ],
         "tickfont": {
          "size": 20
         },
         "title": {
          "font": {
           "size": 24
          },
          "text": "General area"
         }
        },
        "yaxis": {
         "anchor": "x",
         "domain": [
          0,
          1
         ],
         "tickfont": {
          "size": 18
         },
         "title": {
          "font": {
           "size": 24
          },
          "text": "Scaled count"
         }
        }
       }
      }
     },
     "metadata": {},
     "output_type": "display_data"
    }
   ],
   "source": [
    "plot_scaled_zoomed(\n",
    "    df_grouped, \"V1 injections scaled counts by hemisphere, p1-7 (n=3) and p7-13 (n=9) \"\n",
    ")"
   ]
  },
  {
   "cell_type": "code",
   "execution_count": 134,
   "id": "e2f3851b",
   "metadata": {},
   "outputs": [],
   "source": [
    "import plotly.graph_objects as go\n",
    "from plotly.subplots import make_subplots\n",
    "\n",
    "def plot_counts_zoomed_subplots(big_file_long, Title):\n",
    "    filtered_areas = [\n",
    "        \"Somatosensory areas\",\n",
    "        \"Retrosplenial area\"\n",
    "    ]\n",
    "    fig = make_subplots(rows=1, cols=2, subplot_titles=(\"Age: p1-7\", \"Age: p7-13\"))\n",
    "    age_labels = [\"p1-7\", \"p7-13\"]\n",
    "    colors = {\"ipsilateral\": \"orange\", \"contralateral\": \"magenta\"}\n",
    "\n",
    "    for i, age in enumerate(age_labels):\n",
    "        df_age = big_file_long[\n",
    "            (big_file_long[\"General area\"].isin(filtered_areas)) &\n",
    "            (big_file_long[\"age\"] == age)\n",
    "        ]\n",
    "        area_order_count = (\n",
    "            df_age.groupby(\"General area\")[\"count\"]\n",
    "            .max()\n",
    "            .sort_values(ascending=False)\n",
    "            .index.tolist()\n",
    "        )\n",
    "        for hemi in [\"ipsilateral\", \"contralateral\"]:\n",
    "            df_hemi = df_age[df_age[\"Hemisphere\"] == hemi]\n",
    "            fig.add_trace(\n",
    "                go.Box(\n",
    "                    y=df_hemi[\"count\"],\n",
    "                    x=df_hemi[\"General area\"],\n",
    "                    name=f\"{hemi} - {age}\",\n",
    "                    marker_color=colors[hemi],\n",
    "                    boxpoints=\"all\",\n",
    "                    legendgroup=hemi,\n",
    "                    showlegend=(i==0) # only show legend for first plot\n",
    "                ),\n",
    "                row=1, col=i+1\n",
    "            )\n",
    "\n",
    "    fig.update_layout(\n",
    "        title_text=Title,\n",
    "        legend=dict(font=dict(size=18)),\n",
    "        height=500, width=1000,\n",
    "        font=dict(size=14),\n",
    "    )\n",
    "    fig.update_xaxes(title_text=\"General area\", tickfont=dict(size=14))\n",
    "    fig.update_yaxes(title_text=\"count\", tickfont=dict(size=14))\n",
    "    return fig\n"
   ]
  },
  {
   "cell_type": "code",
   "execution_count": null,
   "id": "f34efe69",
   "metadata": {},
   "outputs": [
    {
     "data": {
      "application/vnd.plotly.v1+json": {
       "config": {
        "plotlyServerURL": "https://plot.ly"
       },
       "data": [
        {
         "boxpoints": "all",
         "legendgroup": "ipsilateral",
         "marker": {
          "color": "orange"
         },
         "name": "ipsilateral - p1-7",
         "showlegend": true,
         "type": "box",
         "x": [
          "Somatosensory areas",
          "Somatosensory areas",
          "Somatosensory areas",
          "Somatosensory areas",
          "Somatosensory areas",
          "Somatosensory areas",
          "Somatosensory areas",
          "Somatosensory areas",
          "Somatosensory areas",
          "Somatosensory areas",
          "Somatosensory areas",
          "Retrosplenial area",
          "Retrosplenial area",
          "Somatosensory areas",
          "Somatosensory areas",
          "Somatosensory areas",
          "Somatosensory areas",
          "Retrosplenial area",
          "Somatosensory areas",
          "Somatosensory areas",
          "Somatosensory areas",
          "Somatosensory areas",
          "Somatosensory areas",
          "Somatosensory areas",
          "Somatosensory areas",
          "Somatosensory areas",
          "Somatosensory areas",
          "Somatosensory areas",
          "Retrosplenial area",
          "Retrosplenial area"
         ],
         "xaxis": "x",
         "y": [
          2,
          2,
          1,
          2,
          1,
          1,
          1,
          1,
          2,
          1,
          1,
          1,
          70,
          2,
          1,
          2,
          1,
          3,
          8,
          1,
          10,
          1,
          1,
          4,
          1,
          1,
          1,
          1,
          1,
          8
         ],
         "yaxis": "y"
        },
        {
         "boxpoints": "all",
         "legendgroup": "contralateral",
         "marker": {
          "color": "magenta"
         },
         "name": "contralateral - p1-7",
         "showlegend": true,
         "type": "box",
         "x": [
          "Somatosensory areas",
          "Somatosensory areas",
          "Somatosensory areas",
          "Retrosplenial area",
          "Retrosplenial area",
          "Retrosplenial area",
          "Retrosplenial area",
          "Retrosplenial area",
          "Retrosplenial area",
          "Retrosplenial area",
          "Retrosplenial area",
          "Retrosplenial area",
          "Retrosplenial area",
          "Retrosplenial area",
          "Somatosensory areas",
          "Somatosensory areas",
          "Somatosensory areas",
          "Somatosensory areas",
          "Somatosensory areas",
          "Somatosensory areas",
          "Somatosensory areas",
          "Somatosensory areas",
          "Somatosensory areas",
          "Somatosensory areas",
          "Somatosensory areas",
          "Somatosensory areas",
          "Somatosensory areas",
          "Somatosensory areas",
          "Somatosensory areas",
          "Somatosensory areas",
          "Somatosensory areas",
          "Somatosensory areas",
          "Somatosensory areas",
          "Somatosensory areas",
          "Somatosensory areas",
          "Somatosensory areas",
          "Somatosensory areas",
          "Somatosensory areas",
          "Somatosensory areas",
          "Somatosensory areas",
          "Somatosensory areas",
          "Somatosensory areas",
          "Somatosensory areas",
          "Somatosensory areas",
          "Somatosensory areas",
          "Somatosensory areas",
          "Retrosplenial area",
          "Retrosplenial area",
          "Somatosensory areas",
          "Retrosplenial area",
          "Retrosplenial area",
          "Somatosensory areas",
          "Somatosensory areas",
          "Retrosplenial area",
          "Somatosensory areas",
          "Retrosplenial area",
          "Retrosplenial area",
          "Retrosplenial area",
          "Retrosplenial area",
          "Retrosplenial area",
          "Somatosensory areas",
          "Somatosensory areas",
          "Retrosplenial area",
          "Retrosplenial area",
          "Retrosplenial area",
          "Retrosplenial area",
          "Somatosensory areas",
          "Somatosensory areas",
          "Somatosensory areas",
          "Somatosensory areas",
          "Somatosensory areas",
          "Somatosensory areas",
          "Somatosensory areas",
          "Somatosensory areas",
          "Somatosensory areas",
          "Somatosensory areas",
          "Somatosensory areas",
          "Somatosensory areas",
          "Somatosensory areas",
          "Somatosensory areas",
          "Somatosensory areas",
          "Retrosplenial area",
          "Retrosplenial area",
          "Somatosensory areas",
          "Retrosplenial area",
          "Somatosensory areas",
          "Retrosplenial area",
          "Retrosplenial area",
          "Retrosplenial area",
          "Somatosensory areas",
          "Retrosplenial area",
          "Retrosplenial area",
          "Somatosensory areas",
          "Somatosensory areas",
          "Retrosplenial area",
          "Somatosensory areas",
          "Somatosensory areas",
          "Somatosensory areas",
          "Somatosensory areas",
          "Retrosplenial area",
          "Retrosplenial area",
          "Somatosensory areas",
          "Retrosplenial area",
          "Retrosplenial area",
          "Somatosensory areas",
          "Somatosensory areas",
          "Somatosensory areas",
          "Somatosensory areas"
         ],
         "xaxis": "x",
         "y": [
          2,
          1,
          1,
          1,
          2,
          52,
          13,
          50,
          2,
          22,
          4,
          9,
          1,
          1,
          1,
          2,
          4,
          1,
          16,
          11,
          6,
          38,
          5,
          12,
          3,
          34,
          33,
          25,
          35,
          15,
          14,
          23,
          10,
          2,
          5,
          12,
          13,
          13,
          17,
          7,
          12,
          1,
          7,
          1,
          22,
          2,
          17,
          65,
          9,
          225,
          148,
          9,
          6,
          104,
          6,
          52,
          205,
          111,
          131,
          65,
          3,
          6,
          100,
          151,
          4,
          6,
          3,
          7,
          2,
          2,
          1,
          13,
          30,
          1,
          1,
          5,
          1,
          3,
          2,
          7,
          1,
          380,
          210,
          1,
          122,
          6,
          962,
          323,
          117,
          2,
          59,
          28,
          2,
          3,
          282,
          31,
          20,
          13,
          2,
          21,
          53,
          2,
          6,
          2,
          1,
          1,
          2,
          1
         ],
         "yaxis": "y"
        },
        {
         "boxpoints": "all",
         "legendgroup": "ipsilateral",
         "marker": {
          "color": "orange"
         },
         "name": "ipsilateral - p7-13",
         "showlegend": false,
         "type": "box",
         "x": [
          "Somatosensory areas",
          "Somatosensory areas",
          "Somatosensory areas",
          "Somatosensory areas",
          "Somatosensory areas",
          "Somatosensory areas",
          "Somatosensory areas",
          "Somatosensory areas",
          "Somatosensory areas",
          "Somatosensory areas",
          "Somatosensory areas",
          "Somatosensory areas",
          "Somatosensory areas",
          "Retrosplenial area",
          "Somatosensory areas",
          "Somatosensory areas",
          "Somatosensory areas",
          "Retrosplenial area",
          "Retrosplenial area",
          "Retrosplenial area",
          "Somatosensory areas",
          "Somatosensory areas",
          "Somatosensory areas",
          "Somatosensory areas",
          "Somatosensory areas",
          "Somatosensory areas",
          "Somatosensory areas",
          "Somatosensory areas",
          "Somatosensory areas",
          "Somatosensory areas",
          "Somatosensory areas",
          "Somatosensory areas",
          "Retrosplenial area",
          "Retrosplenial area",
          "Somatosensory areas",
          "Somatosensory areas",
          "Somatosensory areas",
          "Retrosplenial area",
          "Retrosplenial area",
          "Somatosensory areas",
          "Somatosensory areas",
          "Retrosplenial area",
          "Retrosplenial area",
          "Somatosensory areas",
          "Retrosplenial area",
          "Retrosplenial area",
          "Somatosensory areas",
          "Somatosensory areas",
          "Somatosensory areas",
          "Somatosensory areas",
          "Somatosensory areas",
          "Somatosensory areas",
          "Somatosensory areas",
          "Somatosensory areas",
          "Somatosensory areas",
          "Somatosensory areas",
          "Retrosplenial area",
          "Somatosensory areas",
          "Retrosplenial area",
          "Retrosplenial area",
          "Retrosplenial area",
          "Retrosplenial area",
          "Retrosplenial area",
          "Somatosensory areas",
          "Somatosensory areas",
          "Somatosensory areas",
          "Retrosplenial area",
          "Retrosplenial area",
          "Retrosplenial area"
         ],
         "xaxis": "x2",
         "y": [
          1,
          2,
          1,
          1,
          1,
          1,
          1,
          1,
          2,
          1,
          5,
          4,
          1,
          18,
          1,
          1,
          1,
          6,
          7,
          11,
          7,
          1,
          2,
          1,
          1,
          10,
          6,
          3,
          18,
          1,
          4,
          2,
          5,
          1,
          1,
          1,
          4,
          43,
          26,
          1,
          1,
          346,
          55,
          1,
          8,
          2,
          10,
          1,
          1,
          3,
          13,
          2,
          2,
          2,
          21,
          1,
          28,
          1,
          7,
          42,
          8,
          6,
          6,
          1,
          1,
          2,
          193,
          276,
          2
         ],
         "yaxis": "y2"
        },
        {
         "boxpoints": "all",
         "legendgroup": "contralateral",
         "marker": {
          "color": "magenta"
         },
         "name": "contralateral - p7-13",
         "showlegend": false,
         "type": "box",
         "x": [
          "Somatosensory areas",
          "Somatosensory areas",
          "Somatosensory areas",
          "Retrosplenial area",
          "Retrosplenial area",
          "Retrosplenial area",
          "Retrosplenial area",
          "Retrosplenial area",
          "Retrosplenial area",
          "Retrosplenial area",
          "Retrosplenial area",
          "Retrosplenial area",
          "Somatosensory areas",
          "Retrosplenial area",
          "Retrosplenial area",
          "Retrosplenial area",
          "Retrosplenial area",
          "Somatosensory areas",
          "Somatosensory areas",
          "Somatosensory areas",
          "Somatosensory areas",
          "Somatosensory areas",
          "Somatosensory areas",
          "Retrosplenial area",
          "Somatosensory areas",
          "Somatosensory areas",
          "Retrosplenial area",
          "Retrosplenial area",
          "Retrosplenial area",
          "Retrosplenial area",
          "Retrosplenial area",
          "Retrosplenial area",
          "Retrosplenial area",
          "Retrosplenial area",
          "Somatosensory areas",
          "Retrosplenial area",
          "Somatosensory areas",
          "Somatosensory areas",
          "Somatosensory areas",
          "Somatosensory areas",
          "Somatosensory areas",
          "Somatosensory areas",
          "Somatosensory areas",
          "Somatosensory areas",
          "Somatosensory areas",
          "Somatosensory areas",
          "Somatosensory areas",
          "Somatosensory areas",
          "Somatosensory areas",
          "Somatosensory areas",
          "Somatosensory areas",
          "Somatosensory areas",
          "Somatosensory areas",
          "Somatosensory areas",
          "Somatosensory areas",
          "Somatosensory areas",
          "Retrosplenial area",
          "Retrosplenial area",
          "Somatosensory areas",
          "Retrosplenial area",
          "Retrosplenial area",
          "Retrosplenial area",
          "Somatosensory areas",
          "Retrosplenial area",
          "Somatosensory areas",
          "Retrosplenial area",
          "Retrosplenial area",
          "Retrosplenial area",
          "Somatosensory areas",
          "Retrosplenial area",
          "Somatosensory areas",
          "Somatosensory areas",
          "Retrosplenial area",
          "Retrosplenial area",
          "Somatosensory areas",
          "Somatosensory areas",
          "Retrosplenial area",
          "Somatosensory areas",
          "Somatosensory areas",
          "Somatosensory areas",
          "Somatosensory areas",
          "Somatosensory areas",
          "Somatosensory areas",
          "Somatosensory areas",
          "Retrosplenial area",
          "Retrosplenial area",
          "Retrosplenial area",
          "Retrosplenial area",
          "Retrosplenial area",
          "Retrosplenial area",
          "Retrosplenial area",
          "Somatosensory areas",
          "Somatosensory areas",
          "Somatosensory areas",
          "Somatosensory areas",
          "Somatosensory areas",
          "Somatosensory areas",
          "Somatosensory areas",
          "Somatosensory areas",
          "Somatosensory areas",
          "Somatosensory areas",
          "Somatosensory areas",
          "Retrosplenial area",
          "Retrosplenial area",
          "Retrosplenial area",
          "Retrosplenial area",
          "Retrosplenial area",
          "Retrosplenial area",
          "Somatosensory areas",
          "Somatosensory areas",
          "Somatosensory areas",
          "Somatosensory areas",
          "Somatosensory areas",
          "Somatosensory areas",
          "Retrosplenial area",
          "Retrosplenial area",
          "Retrosplenial area",
          "Retrosplenial area",
          "Somatosensory areas",
          "Somatosensory areas",
          "Somatosensory areas",
          "Retrosplenial area",
          "Retrosplenial area",
          "Retrosplenial area",
          "Retrosplenial area",
          "Retrosplenial area",
          "Retrosplenial area",
          "Somatosensory areas",
          "Somatosensory areas",
          "Somatosensory areas",
          "Somatosensory areas"
         ],
         "xaxis": "x2",
         "y": [
          1,
          5,
          2,
          4,
          6,
          28,
          19,
          15,
          23,
          2,
          65,
          25,
          2,
          1,
          3,
          5,
          2,
          1,
          3,
          1,
          1,
          1,
          2,
          1,
          5,
          3,
          21,
          24,
          29,
          14,
          2,
          2,
          1,
          10,
          1,
          9,
          3,
          1,
          1,
          2,
          1,
          3,
          2,
          1,
          11,
          1,
          20,
          1,
          2,
          13,
          1,
          1,
          8,
          5,
          1,
          8,
          45,
          18,
          6,
          33,
          20,
          12,
          1,
          19,
          2,
          1,
          98,
          7,
          7,
          52,
          3,
          9,
          2,
          4,
          2,
          4,
          5,
          1,
          1,
          2,
          6,
          2,
          2,
          2,
          1,
          3,
          5,
          2,
          1,
          2,
          1,
          3,
          3,
          9,
          1,
          1,
          2,
          1,
          2,
          1,
          2,
          1,
          1,
          1,
          2,
          1,
          1,
          1,
          1,
          2,
          1,
          1,
          1,
          3,
          4,
          22,
          7,
          5,
          4,
          4,
          1,
          11,
          6,
          4,
          5,
          3,
          3,
          1,
          1,
          2,
          3
         ],
         "yaxis": "y2"
        }
       ],
       "layout": {
        "annotations": [
         {
          "font": {
           "size": 16
          },
          "showarrow": false,
          "text": "Age: p1-7",
          "x": 0.225,
          "xanchor": "center",
          "xref": "paper",
          "y": 1,
          "yanchor": "bottom",
          "yref": "paper"
         },
         {
          "font": {
           "size": 16
          },
          "showarrow": false,
          "text": "Age: p7-13",
          "x": 0.775,
          "xanchor": "center",
          "xref": "paper",
          "y": 1,
          "yanchor": "bottom",
          "yref": "paper"
         }
        ],
        "font": {
         "size": 14
        },
        "height": 500,
        "legend": {
         "font": {
          "size": 18
         }
        },
        "template": {
         "data": {
          "bar": [
           {
            "error_x": {
             "color": "#2a3f5f"
            },
            "error_y": {
             "color": "#2a3f5f"
            },
            "marker": {
             "line": {
              "color": "#E5ECF6",
              "width": 0.5
             },
             "pattern": {
              "fillmode": "overlay",
              "size": 10,
              "solidity": 0.2
             }
            },
            "type": "bar"
           }
          ],
          "barpolar": [
           {
            "marker": {
             "line": {
              "color": "#E5ECF6",
              "width": 0.5
             },
             "pattern": {
              "fillmode": "overlay",
              "size": 10,
              "solidity": 0.2
             }
            },
            "type": "barpolar"
           }
          ],
          "carpet": [
           {
            "aaxis": {
             "endlinecolor": "#2a3f5f",
             "gridcolor": "white",
             "linecolor": "white",
             "minorgridcolor": "white",
             "startlinecolor": "#2a3f5f"
            },
            "baxis": {
             "endlinecolor": "#2a3f5f",
             "gridcolor": "white",
             "linecolor": "white",
             "minorgridcolor": "white",
             "startlinecolor": "#2a3f5f"
            },
            "type": "carpet"
           }
          ],
          "choropleth": [
           {
            "colorbar": {
             "outlinewidth": 0,
             "ticks": ""
            },
            "type": "choropleth"
           }
          ],
          "contour": [
           {
            "colorbar": {
             "outlinewidth": 0,
             "ticks": ""
            },
            "colorscale": [
             [
              0,
              "#0d0887"
             ],
             [
              0.1111111111111111,
              "#46039f"
             ],
             [
              0.2222222222222222,
              "#7201a8"
             ],
             [
              0.3333333333333333,
              "#9c179e"
             ],
             [
              0.4444444444444444,
              "#bd3786"
             ],
             [
              0.5555555555555556,
              "#d8576b"
             ],
             [
              0.6666666666666666,
              "#ed7953"
             ],
             [
              0.7777777777777778,
              "#fb9f3a"
             ],
             [
              0.8888888888888888,
              "#fdca26"
             ],
             [
              1,
              "#f0f921"
             ]
            ],
            "type": "contour"
           }
          ],
          "contourcarpet": [
           {
            "colorbar": {
             "outlinewidth": 0,
             "ticks": ""
            },
            "type": "contourcarpet"
           }
          ],
          "heatmap": [
           {
            "colorbar": {
             "outlinewidth": 0,
             "ticks": ""
            },
            "colorscale": [
             [
              0,
              "#0d0887"
             ],
             [
              0.1111111111111111,
              "#46039f"
             ],
             [
              0.2222222222222222,
              "#7201a8"
             ],
             [
              0.3333333333333333,
              "#9c179e"
             ],
             [
              0.4444444444444444,
              "#bd3786"
             ],
             [
              0.5555555555555556,
              "#d8576b"
             ],
             [
              0.6666666666666666,
              "#ed7953"
             ],
             [
              0.7777777777777778,
              "#fb9f3a"
             ],
             [
              0.8888888888888888,
              "#fdca26"
             ],
             [
              1,
              "#f0f921"
             ]
            ],
            "type": "heatmap"
           }
          ],
          "heatmapgl": [
           {
            "colorbar": {
             "outlinewidth": 0,
             "ticks": ""
            },
            "colorscale": [
             [
              0,
              "#0d0887"
             ],
             [
              0.1111111111111111,
              "#46039f"
             ],
             [
              0.2222222222222222,
              "#7201a8"
             ],
             [
              0.3333333333333333,
              "#9c179e"
             ],
             [
              0.4444444444444444,
              "#bd3786"
             ],
             [
              0.5555555555555556,
              "#d8576b"
             ],
             [
              0.6666666666666666,
              "#ed7953"
             ],
             [
              0.7777777777777778,
              "#fb9f3a"
             ],
             [
              0.8888888888888888,
              "#fdca26"
             ],
             [
              1,
              "#f0f921"
             ]
            ],
            "type": "heatmapgl"
           }
          ],
          "histogram": [
           {
            "marker": {
             "pattern": {
              "fillmode": "overlay",
              "size": 10,
              "solidity": 0.2
             }
            },
            "type": "histogram"
           }
          ],
          "histogram2d": [
           {
            "colorbar": {
             "outlinewidth": 0,
             "ticks": ""
            },
            "colorscale": [
             [
              0,
              "#0d0887"
             ],
             [
              0.1111111111111111,
              "#46039f"
             ],
             [
              0.2222222222222222,
              "#7201a8"
             ],
             [
              0.3333333333333333,
              "#9c179e"
             ],
             [
              0.4444444444444444,
              "#bd3786"
             ],
             [
              0.5555555555555556,
              "#d8576b"
             ],
             [
              0.6666666666666666,
              "#ed7953"
             ],
             [
              0.7777777777777778,
              "#fb9f3a"
             ],
             [
              0.8888888888888888,
              "#fdca26"
             ],
             [
              1,
              "#f0f921"
             ]
            ],
            "type": "histogram2d"
           }
          ],
          "histogram2dcontour": [
           {
            "colorbar": {
             "outlinewidth": 0,
             "ticks": ""
            },
            "colorscale": [
             [
              0,
              "#0d0887"
             ],
             [
              0.1111111111111111,
              "#46039f"
             ],
             [
              0.2222222222222222,
              "#7201a8"
             ],
             [
              0.3333333333333333,
              "#9c179e"
             ],
             [
              0.4444444444444444,
              "#bd3786"
             ],
             [
              0.5555555555555556,
              "#d8576b"
             ],
             [
              0.6666666666666666,
              "#ed7953"
             ],
             [
              0.7777777777777778,
              "#fb9f3a"
             ],
             [
              0.8888888888888888,
              "#fdca26"
             ],
             [
              1,
              "#f0f921"
             ]
            ],
            "type": "histogram2dcontour"
           }
          ],
          "mesh3d": [
           {
            "colorbar": {
             "outlinewidth": 0,
             "ticks": ""
            },
            "type": "mesh3d"
           }
          ],
          "parcoords": [
           {
            "line": {
             "colorbar": {
              "outlinewidth": 0,
              "ticks": ""
             }
            },
            "type": "parcoords"
           }
          ],
          "pie": [
           {
            "automargin": true,
            "type": "pie"
           }
          ],
          "scatter": [
           {
            "fillpattern": {
             "fillmode": "overlay",
             "size": 10,
             "solidity": 0.2
            },
            "type": "scatter"
           }
          ],
          "scatter3d": [
           {
            "line": {
             "colorbar": {
              "outlinewidth": 0,
              "ticks": ""
             }
            },
            "marker": {
             "colorbar": {
              "outlinewidth": 0,
              "ticks": ""
             }
            },
            "type": "scatter3d"
           }
          ],
          "scattercarpet": [
           {
            "marker": {
             "colorbar": {
              "outlinewidth": 0,
              "ticks": ""
             }
            },
            "type": "scattercarpet"
           }
          ],
          "scattergeo": [
           {
            "marker": {
             "colorbar": {
              "outlinewidth": 0,
              "ticks": ""
             }
            },
            "type": "scattergeo"
           }
          ],
          "scattergl": [
           {
            "marker": {
             "colorbar": {
              "outlinewidth": 0,
              "ticks": ""
             }
            },
            "type": "scattergl"
           }
          ],
          "scattermapbox": [
           {
            "marker": {
             "colorbar": {
              "outlinewidth": 0,
              "ticks": ""
             }
            },
            "type": "scattermapbox"
           }
          ],
          "scatterpolar": [
           {
            "marker": {
             "colorbar": {
              "outlinewidth": 0,
              "ticks": ""
             }
            },
            "type": "scatterpolar"
           }
          ],
          "scatterpolargl": [
           {
            "marker": {
             "colorbar": {
              "outlinewidth": 0,
              "ticks": ""
             }
            },
            "type": "scatterpolargl"
           }
          ],
          "scatterternary": [
           {
            "marker": {
             "colorbar": {
              "outlinewidth": 0,
              "ticks": ""
             }
            },
            "type": "scatterternary"
           }
          ],
          "surface": [
           {
            "colorbar": {
             "outlinewidth": 0,
             "ticks": ""
            },
            "colorscale": [
             [
              0,
              "#0d0887"
             ],
             [
              0.1111111111111111,
              "#46039f"
             ],
             [
              0.2222222222222222,
              "#7201a8"
             ],
             [
              0.3333333333333333,
              "#9c179e"
             ],
             [
              0.4444444444444444,
              "#bd3786"
             ],
             [
              0.5555555555555556,
              "#d8576b"
             ],
             [
              0.6666666666666666,
              "#ed7953"
             ],
             [
              0.7777777777777778,
              "#fb9f3a"
             ],
             [
              0.8888888888888888,
              "#fdca26"
             ],
             [
              1,
              "#f0f921"
             ]
            ],
            "type": "surface"
           }
          ],
          "table": [
           {
            "cells": {
             "fill": {
              "color": "#EBF0F8"
             },
             "line": {
              "color": "white"
             }
            },
            "header": {
             "fill": {
              "color": "#C8D4E3"
             },
             "line": {
              "color": "white"
             }
            },
            "type": "table"
           }
          ]
         },
         "layout": {
          "annotationdefaults": {
           "arrowcolor": "#2a3f5f",
           "arrowhead": 0,
           "arrowwidth": 1
          },
          "autotypenumbers": "strict",
          "coloraxis": {
           "colorbar": {
            "outlinewidth": 0,
            "ticks": ""
           }
          },
          "colorscale": {
           "diverging": [
            [
             0,
             "#8e0152"
            ],
            [
             0.1,
             "#c51b7d"
            ],
            [
             0.2,
             "#de77ae"
            ],
            [
             0.3,
             "#f1b6da"
            ],
            [
             0.4,
             "#fde0ef"
            ],
            [
             0.5,
             "#f7f7f7"
            ],
            [
             0.6,
             "#e6f5d0"
            ],
            [
             0.7,
             "#b8e186"
            ],
            [
             0.8,
             "#7fbc41"
            ],
            [
             0.9,
             "#4d9221"
            ],
            [
             1,
             "#276419"
            ]
           ],
           "sequential": [
            [
             0,
             "#0d0887"
            ],
            [
             0.1111111111111111,
             "#46039f"
            ],
            [
             0.2222222222222222,
             "#7201a8"
            ],
            [
             0.3333333333333333,
             "#9c179e"
            ],
            [
             0.4444444444444444,
             "#bd3786"
            ],
            [
             0.5555555555555556,
             "#d8576b"
            ],
            [
             0.6666666666666666,
             "#ed7953"
            ],
            [
             0.7777777777777778,
             "#fb9f3a"
            ],
            [
             0.8888888888888888,
             "#fdca26"
            ],
            [
             1,
             "#f0f921"
            ]
           ],
           "sequentialminus": [
            [
             0,
             "#0d0887"
            ],
            [
             0.1111111111111111,
             "#46039f"
            ],
            [
             0.2222222222222222,
             "#7201a8"
            ],
            [
             0.3333333333333333,
             "#9c179e"
            ],
            [
             0.4444444444444444,
             "#bd3786"
            ],
            [
             0.5555555555555556,
             "#d8576b"
            ],
            [
             0.6666666666666666,
             "#ed7953"
            ],
            [
             0.7777777777777778,
             "#fb9f3a"
            ],
            [
             0.8888888888888888,
             "#fdca26"
            ],
            [
             1,
             "#f0f921"
            ]
           ]
          },
          "colorway": [
           "#636efa",
           "#EF553B",
           "#00cc96",
           "#ab63fa",
           "#FFA15A",
           "#19d3f3",
           "#FF6692",
           "#B6E880",
           "#FF97FF",
           "#FECB52"
          ],
          "font": {
           "color": "#2a3f5f"
          },
          "geo": {
           "bgcolor": "white",
           "lakecolor": "white",
           "landcolor": "#E5ECF6",
           "showlakes": true,
           "showland": true,
           "subunitcolor": "white"
          },
          "hoverlabel": {
           "align": "left"
          },
          "hovermode": "closest",
          "mapbox": {
           "style": "light"
          },
          "paper_bgcolor": "white",
          "plot_bgcolor": "#E5ECF6",
          "polar": {
           "angularaxis": {
            "gridcolor": "white",
            "linecolor": "white",
            "ticks": ""
           },
           "bgcolor": "#E5ECF6",
           "radialaxis": {
            "gridcolor": "white",
            "linecolor": "white",
            "ticks": ""
           }
          },
          "scene": {
           "xaxis": {
            "backgroundcolor": "#E5ECF6",
            "gridcolor": "white",
            "gridwidth": 2,
            "linecolor": "white",
            "showbackground": true,
            "ticks": "",
            "zerolinecolor": "white"
           },
           "yaxis": {
            "backgroundcolor": "#E5ECF6",
            "gridcolor": "white",
            "gridwidth": 2,
            "linecolor": "white",
            "showbackground": true,
            "ticks": "",
            "zerolinecolor": "white"
           },
           "zaxis": {
            "backgroundcolor": "#E5ECF6",
            "gridcolor": "white",
            "gridwidth": 2,
            "linecolor": "white",
            "showbackground": true,
            "ticks": "",
            "zerolinecolor": "white"
           }
          },
          "shapedefaults": {
           "line": {
            "color": "#2a3f5f"
           }
          },
          "ternary": {
           "aaxis": {
            "gridcolor": "white",
            "linecolor": "white",
            "ticks": ""
           },
           "baxis": {
            "gridcolor": "white",
            "linecolor": "white",
            "ticks": ""
           },
           "bgcolor": "#E5ECF6",
           "caxis": {
            "gridcolor": "white",
            "linecolor": "white",
            "ticks": ""
           }
          },
          "title": {
           "x": 0.05
          },
          "xaxis": {
           "automargin": true,
           "gridcolor": "white",
           "linecolor": "white",
           "ticks": "",
           "title": {
            "standoff": 15
           },
           "zerolinecolor": "white",
           "zerolinewidth": 2
          },
          "yaxis": {
           "automargin": true,
           "gridcolor": "white",
           "linecolor": "white",
           "ticks": "",
           "title": {
            "standoff": 15
           },
           "zerolinecolor": "white",
           "zerolinewidth": 2
          }
         }
        },
        "title": {
         "text": "V1 injections  counts by hemisphere, p1-7 (n=3) and p7-13 (n=9) "
        },
        "width": 1000,
        "xaxis": {
         "anchor": "y",
         "domain": [
          0,
          0.45
         ],
         "tickfont": {
          "size": 14
         },
         "title": {
          "text": "General area"
         }
        },
        "xaxis2": {
         "anchor": "y2",
         "domain": [
          0.55,
          1
         ],
         "tickfont": {
          "size": 14
         },
         "title": {
          "text": "General area"
         }
        },
        "yaxis": {
         "anchor": "x",
         "domain": [
          0,
          1
         ],
         "tickfont": {
          "size": 14
         },
         "title": {
          "text": "count"
         }
        },
        "yaxis2": {
         "anchor": "x2",
         "domain": [
          0,
          1
         ],
         "tickfont": {
          "size": 14
         },
         "title": {
          "text": "count"
         }
        }
       }
      }
     },
     "metadata": {},
     "output_type": "display_data"
    }
   ],
   "source": [
    "plot_counts_zoomed_subplots(\n",
    "    df_filtered, \"V1 injections  counts by hemisphere, p1-7 (n=3) and p7-13 (n=9) \"\n",
    ")"
   ]
  },
  {
   "cell_type": "code",
   "execution_count": 140,
   "id": "5b2bd119",
   "metadata": {},
   "outputs": [
    {
     "name": "stdout",
     "output_type": "stream",
     "text": [
      "Brain             n5_20241103_p1_7\n",
      "Region ID                      687\n",
      "General area    Retrosplenial area\n",
      "Hemisphere           contralateral\n",
      "count                          962\n",
      "scaled count                1.3985\n",
      "age                           p1-7\n",
      "Name: 912, dtype: object\n"
     ]
    }
   ],
   "source": [
    "for index, row in big_file_V1_injections_long.iterrows():\n",
    "    hemisphere = row[\"Hemisphere\"]\n",
    "    age = row[\"age\"]\n",
    "    if row[\"count\"] == 962:\n",
    "        print(row)"
   ]
  },
  {
   "cell_type": "code",
   "execution_count": null,
   "id": "42c65e12",
   "metadata": {},
   "outputs": [],
   "source": [
    "def plot_scaled_zoomed(big_file_long, Title):\n",
    "    filtered_areas = [\n",
    "        \"Somatosensory areas\",\n",
    "        \"Retrosplenial area\"\n",
    "        \n",
    "    ]\n",
    "    df_hemi = big_file_long[\n",
    "        (big_file_long[\"Hemisphere\"] == \"ipsilateral\")\n",
    "        & (big_file_long[\"General area\"].isin(filtered_areas))\n",
    "    ]\n",
    "    area_order_scaled = (\n",
    "        df_hemi.groupby(\"General area\")[\"scaled count\"]\n",
    "        .max()\n",
    "        .sort_values(ascending=False)\n",
    "        .index.tolist()\n",
    "    )\n",
    "    \n",
    "\n",
    "    fig = px.box(\n",
    "        df_hemi,\n",
    "        y=\"scaled count\",\n",
    "        x=\"General area\",\n",
    "        points=\"all\",\n",
    "        color=\"age\",\n",
    "        color_discrete_map={\"p1-7\": \"orange\", \"p7-13\": \"magenta\"},\n",
    "        title=Title,\n",
    "        category_orders={\"General area\": area_order_scaled},\n",
    "        labels={\"scaled count\": \"Scaled count\", \"General area\": \"General area\"},\n",
    "    )\n",
    "    fig.update_layout(\n",
    "        legend=dict(font=dict(size=20)),\n",
    "        xaxis_title_font=dict(size=24),  # x-axis label font size\n",
    "        yaxis_title_font=dict(size=24),  # y-axis label font size\n",
    "        xaxis_tickfont=dict(size=20),  # x-axis tick font size\n",
    "        yaxis_tickfont=dict(size=18),  # y-axis tick font size\n",
    "    )\n",
    "\n",
    "    return fig"
   ]
  },
  {
   "cell_type": "code",
   "execution_count": null,
   "id": "b2cb3251",
   "metadata": {},
   "outputs": [],
   "source": [
    "plot_scaled_zoomed(\n",
    "    df_grouped, \"V1 injections scaled counts by hemisphere, p1-7 (n=3) and p7-13 (n=9) \"\n",
    ")"
   ]
  },
  {
   "cell_type": "code",
   "execution_count": 98,
   "id": "1bdd695c",
   "metadata": {},
   "outputs": [],
   "source": [
    "def plot_count_zoomed(big_file_long, Title):\n",
    "    filtered_areas = [\n",
    "        \"Somatosensory areas\",\n",
    "        \"Retrosplenial area\",\n",
    "        \"Thalamus\",\n",
    "        \"Orbital area\",\n",
    "        \"Anterior cingulate area\",\n",
    "        \"Auditory areas\",\n",
    "    ]\n",
    "    df_hemi = big_file_long[\n",
    "        (big_file_long[\"Hemisphere\"] == \"ipsilateral\")\n",
    "        & (big_file_long[\"General area\"].isin(filtered_areas))\n",
    "    ]\n",
    "    area_order_count = (\n",
    "        df_hemi.groupby(\"General area\")[\"count\"]\n",
    "        .max()\n",
    "        .sort_values(ascending=False)\n",
    "        .index.tolist()\n",
    "    )\n",
    "\n",
    "    fig = px.box(\n",
    "        df_hemi,\n",
    "        y=\"count\",\n",
    "        x=\"General area\",\n",
    "        color=\"age\",\n",
    "        color_discrete_map={\"p1-7\": \"orange\", \"p7-13\": \"magenta\"},\n",
    "        title=Title,\n",
    "        category_orders={\"General area\": area_order_count},\n",
    "        labels={\"count\": \"Count\", \"General area\": \"General area\"},\n",
    "    )\n",
    "    fig.update_layout(\n",
    "        legend=dict(font=dict(size=20)),\n",
    "        xaxis_title_font=dict(size=24),  # x-axis label font size\n",
    "        yaxis_title_font=dict(size=24),  # y-axis label font size\n",
    "        xaxis_tickfont=dict(size=21),  # x-axis tick font size\n",
    "        yaxis_tickfont=dict(size=18),  # y-axis tick font size\n",
    "    )\n",
    "\n",
    "    return fig"
   ]
  },
  {
   "cell_type": "code",
   "execution_count": 99,
   "id": "8689248e",
   "metadata": {},
   "outputs": [
    {
     "data": {
      "application/vnd.plotly.v1+json": {
       "config": {
        "plotlyServerURL": "https://plot.ly"
       },
       "data": [
        {
         "alignmentgroup": "True",
         "hovertemplate": "age=p1-7<br>General area=%{x}<br>Count=%{y}<extra></extra>",
         "legendgroup": "p1-7",
         "marker": {
          "color": "orange"
         },
         "name": "p1-7",
         "notched": false,
         "offsetgroup": "p1-7",
         "orientation": "v",
         "showlegend": true,
         "type": "box",
         "x": [
          "Auditory areas",
          "Retrosplenial area",
          "Somatosensory areas",
          "Thalamus",
          "Anterior cingulate area",
          "Auditory areas",
          "Orbital area",
          "Retrosplenial area",
          "Somatosensory areas",
          "Thalamus",
          "Anterior cingulate area",
          "Auditory areas",
          "Orbital area",
          "Retrosplenial area",
          "Somatosensory areas",
          "Thalamus"
         ],
         "x0": " ",
         "xaxis": "x",
         "y": [
          8,
          3,
          14,
          1,
          5,
          1,
          7,
          71,
          15,
          20,
          1,
          63,
          33,
          9,
          21,
          119
         ],
         "y0": " ",
         "yaxis": "y"
        },
        {
         "alignmentgroup": "True",
         "hovertemplate": "age=p7-13<br>General area=%{x}<br>Count=%{y}<extra></extra>",
         "legendgroup": "p7-13",
         "marker": {
          "color": "magenta"
         },
         "name": "p7-13",
         "notched": false,
         "offsetgroup": "p7-13",
         "orientation": "v",
         "showlegend": true,
         "type": "box",
         "x": [
          "Anterior cingulate area",
          "Auditory areas",
          "Orbital area",
          "Retrosplenial area",
          "Somatosensory areas",
          "Thalamus",
          "Anterior cingulate area",
          "Auditory areas",
          "Orbital area",
          "Retrosplenial area",
          "Somatosensory areas",
          "Thalamus",
          "Anterior cingulate area",
          "Auditory areas",
          "Orbital area",
          "Retrosplenial area",
          "Somatosensory areas",
          "Thalamus",
          "Anterior cingulate area",
          "Auditory areas",
          "Orbital area",
          "Retrosplenial area",
          "Somatosensory areas",
          "Thalamus",
          "Anterior cingulate area",
          "Auditory areas",
          "Orbital area",
          "Retrosplenial area",
          "Somatosensory areas",
          "Thalamus",
          "Auditory areas",
          "Orbital area",
          "Retrosplenial area",
          "Somatosensory areas",
          "Thalamus",
          "Anterior cingulate area",
          "Auditory areas",
          "Orbital area",
          "Retrosplenial area",
          "Somatosensory areas",
          "Thalamus"
         ],
         "x0": " ",
         "xaxis": "x",
         "y": [
          39,
          6,
          22,
          480,
          9,
          26,
          14,
          8,
          35,
          18,
          22,
          86,
          6,
          3,
          5,
          97,
          57,
          27,
          2,
          2,
          37,
          24,
          3,
          14,
          7,
          4,
          36,
          471,
          4,
          69,
          8,
          24,
          6,
          56,
          76,
          5,
          7,
          4,
          19,
          4,
          3
         ],
         "y0": " ",
         "yaxis": "y"
        }
       ],
       "layout": {
        "boxmode": "group",
        "legend": {
         "font": {
          "size": 20
         },
         "title": {
          "text": "age"
         },
         "tracegroupgap": 0
        },
        "template": {
         "data": {
          "bar": [
           {
            "error_x": {
             "color": "#2a3f5f"
            },
            "error_y": {
             "color": "#2a3f5f"
            },
            "marker": {
             "line": {
              "color": "#E5ECF6",
              "width": 0.5
             },
             "pattern": {
              "fillmode": "overlay",
              "size": 10,
              "solidity": 0.2
             }
            },
            "type": "bar"
           }
          ],
          "barpolar": [
           {
            "marker": {
             "line": {
              "color": "#E5ECF6",
              "width": 0.5
             },
             "pattern": {
              "fillmode": "overlay",
              "size": 10,
              "solidity": 0.2
             }
            },
            "type": "barpolar"
           }
          ],
          "carpet": [
           {
            "aaxis": {
             "endlinecolor": "#2a3f5f",
             "gridcolor": "white",
             "linecolor": "white",
             "minorgridcolor": "white",
             "startlinecolor": "#2a3f5f"
            },
            "baxis": {
             "endlinecolor": "#2a3f5f",
             "gridcolor": "white",
             "linecolor": "white",
             "minorgridcolor": "white",
             "startlinecolor": "#2a3f5f"
            },
            "type": "carpet"
           }
          ],
          "choropleth": [
           {
            "colorbar": {
             "outlinewidth": 0,
             "ticks": ""
            },
            "type": "choropleth"
           }
          ],
          "contour": [
           {
            "colorbar": {
             "outlinewidth": 0,
             "ticks": ""
            },
            "colorscale": [
             [
              0,
              "#0d0887"
             ],
             [
              0.1111111111111111,
              "#46039f"
             ],
             [
              0.2222222222222222,
              "#7201a8"
             ],
             [
              0.3333333333333333,
              "#9c179e"
             ],
             [
              0.4444444444444444,
              "#bd3786"
             ],
             [
              0.5555555555555556,
              "#d8576b"
             ],
             [
              0.6666666666666666,
              "#ed7953"
             ],
             [
              0.7777777777777778,
              "#fb9f3a"
             ],
             [
              0.8888888888888888,
              "#fdca26"
             ],
             [
              1,
              "#f0f921"
             ]
            ],
            "type": "contour"
           }
          ],
          "contourcarpet": [
           {
            "colorbar": {
             "outlinewidth": 0,
             "ticks": ""
            },
            "type": "contourcarpet"
           }
          ],
          "heatmap": [
           {
            "colorbar": {
             "outlinewidth": 0,
             "ticks": ""
            },
            "colorscale": [
             [
              0,
              "#0d0887"
             ],
             [
              0.1111111111111111,
              "#46039f"
             ],
             [
              0.2222222222222222,
              "#7201a8"
             ],
             [
              0.3333333333333333,
              "#9c179e"
             ],
             [
              0.4444444444444444,
              "#bd3786"
             ],
             [
              0.5555555555555556,
              "#d8576b"
             ],
             [
              0.6666666666666666,
              "#ed7953"
             ],
             [
              0.7777777777777778,
              "#fb9f3a"
             ],
             [
              0.8888888888888888,
              "#fdca26"
             ],
             [
              1,
              "#f0f921"
             ]
            ],
            "type": "heatmap"
           }
          ],
          "heatmapgl": [
           {
            "colorbar": {
             "outlinewidth": 0,
             "ticks": ""
            },
            "colorscale": [
             [
              0,
              "#0d0887"
             ],
             [
              0.1111111111111111,
              "#46039f"
             ],
             [
              0.2222222222222222,
              "#7201a8"
             ],
             [
              0.3333333333333333,
              "#9c179e"
             ],
             [
              0.4444444444444444,
              "#bd3786"
             ],
             [
              0.5555555555555556,
              "#d8576b"
             ],
             [
              0.6666666666666666,
              "#ed7953"
             ],
             [
              0.7777777777777778,
              "#fb9f3a"
             ],
             [
              0.8888888888888888,
              "#fdca26"
             ],
             [
              1,
              "#f0f921"
             ]
            ],
            "type": "heatmapgl"
           }
          ],
          "histogram": [
           {
            "marker": {
             "pattern": {
              "fillmode": "overlay",
              "size": 10,
              "solidity": 0.2
             }
            },
            "type": "histogram"
           }
          ],
          "histogram2d": [
           {
            "colorbar": {
             "outlinewidth": 0,
             "ticks": ""
            },
            "colorscale": [
             [
              0,
              "#0d0887"
             ],
             [
              0.1111111111111111,
              "#46039f"
             ],
             [
              0.2222222222222222,
              "#7201a8"
             ],
             [
              0.3333333333333333,
              "#9c179e"
             ],
             [
              0.4444444444444444,
              "#bd3786"
             ],
             [
              0.5555555555555556,
              "#d8576b"
             ],
             [
              0.6666666666666666,
              "#ed7953"
             ],
             [
              0.7777777777777778,
              "#fb9f3a"
             ],
             [
              0.8888888888888888,
              "#fdca26"
             ],
             [
              1,
              "#f0f921"
             ]
            ],
            "type": "histogram2d"
           }
          ],
          "histogram2dcontour": [
           {
            "colorbar": {
             "outlinewidth": 0,
             "ticks": ""
            },
            "colorscale": [
             [
              0,
              "#0d0887"
             ],
             [
              0.1111111111111111,
              "#46039f"
             ],
             [
              0.2222222222222222,
              "#7201a8"
             ],
             [
              0.3333333333333333,
              "#9c179e"
             ],
             [
              0.4444444444444444,
              "#bd3786"
             ],
             [
              0.5555555555555556,
              "#d8576b"
             ],
             [
              0.6666666666666666,
              "#ed7953"
             ],
             [
              0.7777777777777778,
              "#fb9f3a"
             ],
             [
              0.8888888888888888,
              "#fdca26"
             ],
             [
              1,
              "#f0f921"
             ]
            ],
            "type": "histogram2dcontour"
           }
          ],
          "mesh3d": [
           {
            "colorbar": {
             "outlinewidth": 0,
             "ticks": ""
            },
            "type": "mesh3d"
           }
          ],
          "parcoords": [
           {
            "line": {
             "colorbar": {
              "outlinewidth": 0,
              "ticks": ""
             }
            },
            "type": "parcoords"
           }
          ],
          "pie": [
           {
            "automargin": true,
            "type": "pie"
           }
          ],
          "scatter": [
           {
            "fillpattern": {
             "fillmode": "overlay",
             "size": 10,
             "solidity": 0.2
            },
            "type": "scatter"
           }
          ],
          "scatter3d": [
           {
            "line": {
             "colorbar": {
              "outlinewidth": 0,
              "ticks": ""
             }
            },
            "marker": {
             "colorbar": {
              "outlinewidth": 0,
              "ticks": ""
             }
            },
            "type": "scatter3d"
           }
          ],
          "scattercarpet": [
           {
            "marker": {
             "colorbar": {
              "outlinewidth": 0,
              "ticks": ""
             }
            },
            "type": "scattercarpet"
           }
          ],
          "scattergeo": [
           {
            "marker": {
             "colorbar": {
              "outlinewidth": 0,
              "ticks": ""
             }
            },
            "type": "scattergeo"
           }
          ],
          "scattergl": [
           {
            "marker": {
             "colorbar": {
              "outlinewidth": 0,
              "ticks": ""
             }
            },
            "type": "scattergl"
           }
          ],
          "scattermapbox": [
           {
            "marker": {
             "colorbar": {
              "outlinewidth": 0,
              "ticks": ""
             }
            },
            "type": "scattermapbox"
           }
          ],
          "scatterpolar": [
           {
            "marker": {
             "colorbar": {
              "outlinewidth": 0,
              "ticks": ""
             }
            },
            "type": "scatterpolar"
           }
          ],
          "scatterpolargl": [
           {
            "marker": {
             "colorbar": {
              "outlinewidth": 0,
              "ticks": ""
             }
            },
            "type": "scatterpolargl"
           }
          ],
          "scatterternary": [
           {
            "marker": {
             "colorbar": {
              "outlinewidth": 0,
              "ticks": ""
             }
            },
            "type": "scatterternary"
           }
          ],
          "surface": [
           {
            "colorbar": {
             "outlinewidth": 0,
             "ticks": ""
            },
            "colorscale": [
             [
              0,
              "#0d0887"
             ],
             [
              0.1111111111111111,
              "#46039f"
             ],
             [
              0.2222222222222222,
              "#7201a8"
             ],
             [
              0.3333333333333333,
              "#9c179e"
             ],
             [
              0.4444444444444444,
              "#bd3786"
             ],
             [
              0.5555555555555556,
              "#d8576b"
             ],
             [
              0.6666666666666666,
              "#ed7953"
             ],
             [
              0.7777777777777778,
              "#fb9f3a"
             ],
             [
              0.8888888888888888,
              "#fdca26"
             ],
             [
              1,
              "#f0f921"
             ]
            ],
            "type": "surface"
           }
          ],
          "table": [
           {
            "cells": {
             "fill": {
              "color": "#EBF0F8"
             },
             "line": {
              "color": "white"
             }
            },
            "header": {
             "fill": {
              "color": "#C8D4E3"
             },
             "line": {
              "color": "white"
             }
            },
            "type": "table"
           }
          ]
         },
         "layout": {
          "annotationdefaults": {
           "arrowcolor": "#2a3f5f",
           "arrowhead": 0,
           "arrowwidth": 1
          },
          "autotypenumbers": "strict",
          "coloraxis": {
           "colorbar": {
            "outlinewidth": 0,
            "ticks": ""
           }
          },
          "colorscale": {
           "diverging": [
            [
             0,
             "#8e0152"
            ],
            [
             0.1,
             "#c51b7d"
            ],
            [
             0.2,
             "#de77ae"
            ],
            [
             0.3,
             "#f1b6da"
            ],
            [
             0.4,
             "#fde0ef"
            ],
            [
             0.5,
             "#f7f7f7"
            ],
            [
             0.6,
             "#e6f5d0"
            ],
            [
             0.7,
             "#b8e186"
            ],
            [
             0.8,
             "#7fbc41"
            ],
            [
             0.9,
             "#4d9221"
            ],
            [
             1,
             "#276419"
            ]
           ],
           "sequential": [
            [
             0,
             "#0d0887"
            ],
            [
             0.1111111111111111,
             "#46039f"
            ],
            [
             0.2222222222222222,
             "#7201a8"
            ],
            [
             0.3333333333333333,
             "#9c179e"
            ],
            [
             0.4444444444444444,
             "#bd3786"
            ],
            [
             0.5555555555555556,
             "#d8576b"
            ],
            [
             0.6666666666666666,
             "#ed7953"
            ],
            [
             0.7777777777777778,
             "#fb9f3a"
            ],
            [
             0.8888888888888888,
             "#fdca26"
            ],
            [
             1,
             "#f0f921"
            ]
           ],
           "sequentialminus": [
            [
             0,
             "#0d0887"
            ],
            [
             0.1111111111111111,
             "#46039f"
            ],
            [
             0.2222222222222222,
             "#7201a8"
            ],
            [
             0.3333333333333333,
             "#9c179e"
            ],
            [
             0.4444444444444444,
             "#bd3786"
            ],
            [
             0.5555555555555556,
             "#d8576b"
            ],
            [
             0.6666666666666666,
             "#ed7953"
            ],
            [
             0.7777777777777778,
             "#fb9f3a"
            ],
            [
             0.8888888888888888,
             "#fdca26"
            ],
            [
             1,
             "#f0f921"
            ]
           ]
          },
          "colorway": [
           "#636efa",
           "#EF553B",
           "#00cc96",
           "#ab63fa",
           "#FFA15A",
           "#19d3f3",
           "#FF6692",
           "#B6E880",
           "#FF97FF",
           "#FECB52"
          ],
          "font": {
           "color": "#2a3f5f"
          },
          "geo": {
           "bgcolor": "white",
           "lakecolor": "white",
           "landcolor": "#E5ECF6",
           "showlakes": true,
           "showland": true,
           "subunitcolor": "white"
          },
          "hoverlabel": {
           "align": "left"
          },
          "hovermode": "closest",
          "mapbox": {
           "style": "light"
          },
          "paper_bgcolor": "white",
          "plot_bgcolor": "#E5ECF6",
          "polar": {
           "angularaxis": {
            "gridcolor": "white",
            "linecolor": "white",
            "ticks": ""
           },
           "bgcolor": "#E5ECF6",
           "radialaxis": {
            "gridcolor": "white",
            "linecolor": "white",
            "ticks": ""
           }
          },
          "scene": {
           "xaxis": {
            "backgroundcolor": "#E5ECF6",
            "gridcolor": "white",
            "gridwidth": 2,
            "linecolor": "white",
            "showbackground": true,
            "ticks": "",
            "zerolinecolor": "white"
           },
           "yaxis": {
            "backgroundcolor": "#E5ECF6",
            "gridcolor": "white",
            "gridwidth": 2,
            "linecolor": "white",
            "showbackground": true,
            "ticks": "",
            "zerolinecolor": "white"
           },
           "zaxis": {
            "backgroundcolor": "#E5ECF6",
            "gridcolor": "white",
            "gridwidth": 2,
            "linecolor": "white",
            "showbackground": true,
            "ticks": "",
            "zerolinecolor": "white"
           }
          },
          "shapedefaults": {
           "line": {
            "color": "#2a3f5f"
           }
          },
          "ternary": {
           "aaxis": {
            "gridcolor": "white",
            "linecolor": "white",
            "ticks": ""
           },
           "baxis": {
            "gridcolor": "white",
            "linecolor": "white",
            "ticks": ""
           },
           "bgcolor": "#E5ECF6",
           "caxis": {
            "gridcolor": "white",
            "linecolor": "white",
            "ticks": ""
           }
          },
          "title": {
           "x": 0.05
          },
          "xaxis": {
           "automargin": true,
           "gridcolor": "white",
           "linecolor": "white",
           "ticks": "",
           "title": {
            "standoff": 15
           },
           "zerolinecolor": "white",
           "zerolinewidth": 2
          },
          "yaxis": {
           "automargin": true,
           "gridcolor": "white",
           "linecolor": "white",
           "ticks": "",
           "title": {
            "standoff": 15
           },
           "zerolinecolor": "white",
           "zerolinewidth": 2
          }
         }
        },
        "title": {
         "text": "V1 injections counts by hemisphere, p1-7 (n=3) and p7-13 (n=9) "
        },
        "xaxis": {
         "anchor": "y",
         "categoryarray": [
          "Retrosplenial area",
          "Thalamus",
          "Auditory areas",
          "Somatosensory areas",
          "Anterior cingulate area",
          "Orbital area"
         ],
         "categoryorder": "array",
         "domain": [
          0,
          1
         ],
         "tickfont": {
          "size": 21
         },
         "title": {
          "font": {
           "size": 24
          },
          "text": "General area"
         }
        },
        "yaxis": {
         "anchor": "x",
         "domain": [
          0,
          1
         ],
         "tickfont": {
          "size": 18
         },
         "title": {
          "font": {
           "size": 24
          },
          "text": "Count"
         }
        }
       }
      }
     },
     "metadata": {},
     "output_type": "display_data"
    }
   ],
   "source": [
    "plot_count_zoomed(\n",
    "    df_grouped, \"V1 injections counts by hemisphere, p1-7 (n=3) and p7-13 (n=9) \"\n",
    ")"
   ]
  },
  {
   "cell_type": "code",
   "execution_count": 71,
   "id": "b5ab04a5",
   "metadata": {},
   "outputs": [],
   "source": [
    "def specific_interests(big_file_long, area_name, data_frame_name):\n",
    "\n",
    "    data_frame_name = pd.DataFrame(\n",
    "        big_file_long[big_file_long[\"General area\"].isin([area_name])]\n",
    "    )\n",
    "\n",
    "    data_frame_name.insert(7, \"Subdivided\", [0] * len(data_frame_name))\n",
    "\n",
    "    for index, row in data_frame_name.iterrows():\n",
    "        region_id = row[\"Region ID\"]\n",
    "        subdivided_region = regions_complete.loc[\n",
    "            regions_complete[\"Region ID\"] == region_id, \"Subdivided\"\n",
    "        ].values[0]\n",
    "        # add the Subdivided values to the Somatosensory_areas DataFrame\n",
    "        data_frame_name.at[index, \"Subdivided\"] = subdivided_region\n",
    "\n",
    "    return data_frame_name"
   ]
  },
  {
   "cell_type": "markdown",
   "id": "fc706ee6",
   "metadata": {},
   "source": [
    "area 29 (granular): ventral RSC\n",
    "area 30 (dysgranular): dorsal RSC and agranular RSC"
   ]
  },
  {
   "cell_type": "code",
   "execution_count": 72,
   "id": "7d7dba23",
   "metadata": {},
   "outputs": [
    {
     "name": "stderr",
     "output_type": "stream",
     "text": [
      "C:\\Users\\sahet\\AppData\\Local\\Temp\\ipykernel_4068\\2296359539.py:15: FutureWarning:\n",
      "\n",
      "Setting an item of incompatible dtype is deprecated and will raise in a future error of pandas. Value 'area 30' has dtype incompatible with int64, please explicitly cast to a compatible dtype first.\n",
      "\n",
      "C:\\Users\\sahet\\AppData\\Local\\Temp\\ipykernel_4068\\2296359539.py:15: FutureWarning:\n",
      "\n",
      "Setting an item of incompatible dtype is deprecated and will raise in a future error of pandas. Value 'Primary somatosensory area' has dtype incompatible with int64, please explicitly cast to a compatible dtype first.\n",
      "\n"
     ]
    }
   ],
   "source": [
    "Retrosplenial_areas = specific_interests(\n",
    "    big_file_V1_injections_long, \"Retrosplenial area\", \"Retrosplenial_areas\"\n",
    ")\n",
    "Somato_areas = specific_interests(\n",
    "    big_file_V1_injections_long, \"Somatosensory areas\", \"Somato_areas\"\n",
    ")"
   ]
  },
  {
   "cell_type": "code",
   "execution_count": 73,
   "id": "c1e69587",
   "metadata": {},
   "outputs": [
    {
     "name": "stderr",
     "output_type": "stream",
     "text": [
      "C:\\Users\\sahet\\AppData\\Local\\Temp\\ipykernel_4068\\844754293.py:17: FutureWarning:\n",
      "\n",
      "Setting an item of incompatible dtype is deprecated and will raise in a future error of pandas. Value '0.032377265528770016' has dtype incompatible with int64, please explicitly cast to a compatible dtype first.\n",
      "\n"
     ]
    },
    {
     "data": {
      "application/vnd.microsoft.datawrangler.viewer.v0+json": {
       "columns": [
        {
         "name": "index",
         "rawType": "int64",
         "type": "integer"
        },
        {
         "name": "Brain",
         "rawType": "object",
         "type": "string"
        },
        {
         "name": "Subdivided",
         "rawType": "object",
         "type": "string"
        },
        {
         "name": "Hemisphere",
         "rawType": "object",
         "type": "string"
        },
        {
         "name": "age",
         "rawType": "object",
         "type": "string"
        },
        {
         "name": "count",
         "rawType": "int64",
         "type": "integer"
        },
        {
         "name": "scaled count",
         "rawType": "float64",
         "type": "float"
        }
       ],
       "ref": "cb9e6c60-bec5-4a64-899a-c36aca71bdc5",
       "rows": [
        [
         "0",
         "n11_20241103_p1_7",
         "area 29",
         "contralateral",
         "p1-7",
         "552",
         "0.032377265528770016"
        ],
        [
         "1",
         "n11_20241103_p1_7",
         "area 29",
         "ipsilateral",
         "p1-7",
         "3",
         "0.00017596339961288053"
        ],
        [
         "2",
         "n11_20241103_p1_7",
         "area 30",
         "contralateral",
         "p1-7",
         "832",
         "0.04880051615930553"
        ],
        [
         "3",
         "n1_20241203_p7_13",
         "area 29",
         "contralateral",
         "p7-13",
         "3",
         "0.0019430051813471502"
        ],
        [
         "4",
         "n1_20241203_p7_13",
         "area 29",
         "ipsilateral",
         "p7-13",
         "391",
         "0.25323834196891193"
        ],
        [
         "5",
         "n1_20241203_p7_13",
         "area 30",
         "contralateral",
         "p7-13",
         "12",
         "0.007772020725388601"
        ],
        [
         "6",
         "n1_20241203_p7_13",
         "area 30",
         "ipsilateral",
         "p7-13",
         "89",
         "0.05764248704663213"
        ],
        [
         "7",
         "n1_20241209_p7_13",
         "area 29",
         "contralateral",
         "p7-13",
         "3",
         "0.0019430051813471502"
        ],
        [
         "8",
         "n1_20241209_p7_13",
         "area 29",
         "ipsilateral",
         "p7-13",
         "391",
         "0.25323834196891193"
        ],
        [
         "9",
         "n1_20241209_p7_13",
         "area 30",
         "contralateral",
         "p7-13",
         "12",
         "0.007772020725388601"
        ],
        [
         "10",
         "n1_20241209_p7_13",
         "area 30",
         "ipsilateral",
         "p7-13",
         "89",
         "0.05764248704663213"
        ],
        [
         "11",
         "n2_20241203_p7_13",
         "area 29",
         "contralateral",
         "p7-13",
         "46",
         "0.03183391003460208"
        ],
        [
         "12",
         "n2_20241203_p7_13",
         "area 30",
         "contralateral",
         "p7-13",
         "153",
         "0.10588235294117647"
        ],
        [
         "13",
         "n2_20241203_p7_13",
         "area 30",
         "ipsilateral",
         "p7-13",
         "18",
         "0.01245674740484429"
        ],
        [
         "14",
         "n2_20241209_p7_13",
         "area 29",
         "contralateral",
         "p7-13",
         "1",
         "0.002044989775051125"
        ],
        [
         "15",
         "n2_20241209_p7_13",
         "area 29",
         "ipsilateral",
         "p7-13",
         "40",
         "0.081799591002045"
        ],
        [
         "16",
         "n2_20241209_p7_13",
         "area 30",
         "contralateral",
         "p7-13",
         "6",
         "0.01226993865030675"
        ],
        [
         "17",
         "n2_20241209_p7_13",
         "area 30",
         "ipsilateral",
         "p7-13",
         "57",
         "0.11656441717791412"
        ],
        [
         "18",
         "n3_20241010_p1_7",
         "area 29",
         "contralateral",
         "p1-7",
         "79",
         "0.07459867799811143"
        ],
        [
         "19",
         "n3_20241010_p1_7",
         "area 30",
         "contralateral",
         "p1-7",
         "78",
         "0.0736543909348442"
        ],
        [
         "20",
         "n3_20241010_p1_7",
         "area 30",
         "ipsilateral",
         "p1-7",
         "71",
         "0.06704438149197356"
        ],
        [
         "21",
         "n3_20241209_p7_13",
         "area 29",
         "contralateral",
         "p7-13",
         "13",
         "0.010204081632653062"
        ],
        [
         "22",
         "n3_20241209_p7_13",
         "area 29",
         "ipsilateral",
         "p7-13",
         "64",
         "0.05023547880690738"
        ],
        [
         "23",
         "n3_20241209_p7_13",
         "area 30",
         "contralateral",
         "p7-13",
         "97",
         "0.076138147566719"
        ],
        [
         "24",
         "n3_20241209_p7_13",
         "area 30",
         "ipsilateral",
         "p7-13",
         "409",
         "0.32103610675039246"
        ],
        [
         "25",
         "n4_20241203_p7_13",
         "area 29",
         "contralateral",
         "p7-13",
         "26",
         "0.033121019108280254"
        ],
        [
         "26",
         "n4_20241203_p7_13",
         "area 29",
         "ipsilateral",
         "p7-13",
         "7",
         "0.008917197452229299"
        ],
        [
         "27",
         "n4_20241203_p7_13",
         "area 30",
         "contralateral",
         "p7-13",
         "86",
         "0.10955414012738852"
        ],
        [
         "28",
         "n4_20241203_p7_13",
         "area 30",
         "ipsilateral",
         "p7-13",
         "17",
         "0.02165605095541401"
        ],
        [
         "29",
         "n4_20241209_p7_13",
         "area 29",
         "contralateral",
         "p7-13",
         "10",
         "0.005694760820045558"
        ],
        [
         "30",
         "n4_20241209_p7_13",
         "area 29",
         "ipsilateral",
         "p7-13",
         "193",
         "0.10990888382687927"
        ],
        [
         "31",
         "n4_20241209_p7_13",
         "area 30",
         "contralateral",
         "p7-13",
         "60",
         "0.03416856492027335"
        ],
        [
         "32",
         "n4_20241209_p7_13",
         "area 30",
         "ipsilateral",
         "p7-13",
         "278",
         "0.1583143507972665"
        ],
        [
         "33",
         "n5_20241103_p1_7",
         "area 29",
         "contralateral",
         "p1-7",
         "1356",
         "0.1141990904497221"
        ],
        [
         "34",
         "n5_20241103_p1_7",
         "area 29",
         "ipsilateral",
         "p1-7",
         "1",
         "8.421761832575375e-05"
        ],
        [
         "35",
         "n5_20241103_p1_7",
         "area 30",
         "contralateral",
         "p1-7",
         "1209",
         "0.10181910055583629"
        ],
        [
         "36",
         "n5_20241103_p1_7",
         "area 30",
         "ipsilateral",
         "p1-7",
         "8",
         "0.00067374094660603"
        ],
        [
         "37",
         "n5_20241203_p7_13",
         "area 29",
         "contralateral",
         "p7-13",
         "50",
         "0.017277125086385625"
        ],
        [
         "38",
         "n5_20241203_p7_13",
         "area 29",
         "ipsilateral",
         "p7-13",
         "1",
         "0.0003455425017277125"
        ],
        [
         "39",
         "n5_20241203_p7_13",
         "area 30",
         "contralateral",
         "p7-13",
         "266",
         "0.09191430545957152"
        ],
        [
         "40",
         "n5_20241203_p7_13",
         "area 30",
         "ipsilateral",
         "p7-13",
         "5",
         "0.0017277125086385624"
        ],
        [
         "41",
         "n8_20241203_p7_13",
         "area 29",
         "contralateral",
         "p7-13",
         "12",
         "0.03183023872679045"
        ],
        [
         "42",
         "n8_20241203_p7_13",
         "area 29",
         "ipsilateral",
         "p7-13",
         "19",
         "0.05039787798408488"
        ],
        [
         "43",
         "n8_20241203_p7_13",
         "area 30",
         "contralateral",
         "p7-13",
         "46",
         "0.12201591511936338"
        ]
       ],
       "shape": {
        "columns": 6,
        "rows": 44
       }
      },
      "text/html": [
       "<div>\n",
       "<style scoped>\n",
       "    .dataframe tbody tr th:only-of-type {\n",
       "        vertical-align: middle;\n",
       "    }\n",
       "\n",
       "    .dataframe tbody tr th {\n",
       "        vertical-align: top;\n",
       "    }\n",
       "\n",
       "    .dataframe thead th {\n",
       "        text-align: right;\n",
       "    }\n",
       "</style>\n",
       "<table border=\"1\" class=\"dataframe\">\n",
       "  <thead>\n",
       "    <tr style=\"text-align: right;\">\n",
       "      <th></th>\n",
       "      <th>Brain</th>\n",
       "      <th>Subdivided</th>\n",
       "      <th>Hemisphere</th>\n",
       "      <th>age</th>\n",
       "      <th>count</th>\n",
       "      <th>scaled count</th>\n",
       "    </tr>\n",
       "  </thead>\n",
       "  <tbody>\n",
       "    <tr>\n",
       "      <th>0</th>\n",
       "      <td>n11_20241103_p1_7</td>\n",
       "      <td>area 29</td>\n",
       "      <td>contralateral</td>\n",
       "      <td>p1-7</td>\n",
       "      <td>552</td>\n",
       "      <td>0.032377</td>\n",
       "    </tr>\n",
       "    <tr>\n",
       "      <th>1</th>\n",
       "      <td>n11_20241103_p1_7</td>\n",
       "      <td>area 29</td>\n",
       "      <td>ipsilateral</td>\n",
       "      <td>p1-7</td>\n",
       "      <td>3</td>\n",
       "      <td>0.000176</td>\n",
       "    </tr>\n",
       "    <tr>\n",
       "      <th>2</th>\n",
       "      <td>n11_20241103_p1_7</td>\n",
       "      <td>area 30</td>\n",
       "      <td>contralateral</td>\n",
       "      <td>p1-7</td>\n",
       "      <td>832</td>\n",
       "      <td>0.048801</td>\n",
       "    </tr>\n",
       "    <tr>\n",
       "      <th>3</th>\n",
       "      <td>n1_20241203_p7_13</td>\n",
       "      <td>area 29</td>\n",
       "      <td>contralateral</td>\n",
       "      <td>p7-13</td>\n",
       "      <td>3</td>\n",
       "      <td>0.001943</td>\n",
       "    </tr>\n",
       "    <tr>\n",
       "      <th>4</th>\n",
       "      <td>n1_20241203_p7_13</td>\n",
       "      <td>area 29</td>\n",
       "      <td>ipsilateral</td>\n",
       "      <td>p7-13</td>\n",
       "      <td>391</td>\n",
       "      <td>0.253238</td>\n",
       "    </tr>\n",
       "    <tr>\n",
       "      <th>5</th>\n",
       "      <td>n1_20241203_p7_13</td>\n",
       "      <td>area 30</td>\n",
       "      <td>contralateral</td>\n",
       "      <td>p7-13</td>\n",
       "      <td>12</td>\n",
       "      <td>0.007772</td>\n",
       "    </tr>\n",
       "    <tr>\n",
       "      <th>6</th>\n",
       "      <td>n1_20241203_p7_13</td>\n",
       "      <td>area 30</td>\n",
       "      <td>ipsilateral</td>\n",
       "      <td>p7-13</td>\n",
       "      <td>89</td>\n",
       "      <td>0.057642</td>\n",
       "    </tr>\n",
       "    <tr>\n",
       "      <th>7</th>\n",
       "      <td>n1_20241209_p7_13</td>\n",
       "      <td>area 29</td>\n",
       "      <td>contralateral</td>\n",
       "      <td>p7-13</td>\n",
       "      <td>3</td>\n",
       "      <td>0.001943</td>\n",
       "    </tr>\n",
       "    <tr>\n",
       "      <th>8</th>\n",
       "      <td>n1_20241209_p7_13</td>\n",
       "      <td>area 29</td>\n",
       "      <td>ipsilateral</td>\n",
       "      <td>p7-13</td>\n",
       "      <td>391</td>\n",
       "      <td>0.253238</td>\n",
       "    </tr>\n",
       "    <tr>\n",
       "      <th>9</th>\n",
       "      <td>n1_20241209_p7_13</td>\n",
       "      <td>area 30</td>\n",
       "      <td>contralateral</td>\n",
       "      <td>p7-13</td>\n",
       "      <td>12</td>\n",
       "      <td>0.007772</td>\n",
       "    </tr>\n",
       "    <tr>\n",
       "      <th>10</th>\n",
       "      <td>n1_20241209_p7_13</td>\n",
       "      <td>area 30</td>\n",
       "      <td>ipsilateral</td>\n",
       "      <td>p7-13</td>\n",
       "      <td>89</td>\n",
       "      <td>0.057642</td>\n",
       "    </tr>\n",
       "    <tr>\n",
       "      <th>11</th>\n",
       "      <td>n2_20241203_p7_13</td>\n",
       "      <td>area 29</td>\n",
       "      <td>contralateral</td>\n",
       "      <td>p7-13</td>\n",
       "      <td>46</td>\n",
       "      <td>0.031834</td>\n",
       "    </tr>\n",
       "    <tr>\n",
       "      <th>12</th>\n",
       "      <td>n2_20241203_p7_13</td>\n",
       "      <td>area 30</td>\n",
       "      <td>contralateral</td>\n",
       "      <td>p7-13</td>\n",
       "      <td>153</td>\n",
       "      <td>0.105882</td>\n",
       "    </tr>\n",
       "    <tr>\n",
       "      <th>13</th>\n",
       "      <td>n2_20241203_p7_13</td>\n",
       "      <td>area 30</td>\n",
       "      <td>ipsilateral</td>\n",
       "      <td>p7-13</td>\n",
       "      <td>18</td>\n",
       "      <td>0.012457</td>\n",
       "    </tr>\n",
       "    <tr>\n",
       "      <th>14</th>\n",
       "      <td>n2_20241209_p7_13</td>\n",
       "      <td>area 29</td>\n",
       "      <td>contralateral</td>\n",
       "      <td>p7-13</td>\n",
       "      <td>1</td>\n",
       "      <td>0.002045</td>\n",
       "    </tr>\n",
       "    <tr>\n",
       "      <th>15</th>\n",
       "      <td>n2_20241209_p7_13</td>\n",
       "      <td>area 29</td>\n",
       "      <td>ipsilateral</td>\n",
       "      <td>p7-13</td>\n",
       "      <td>40</td>\n",
       "      <td>0.081800</td>\n",
       "    </tr>\n",
       "    <tr>\n",
       "      <th>16</th>\n",
       "      <td>n2_20241209_p7_13</td>\n",
       "      <td>area 30</td>\n",
       "      <td>contralateral</td>\n",
       "      <td>p7-13</td>\n",
       "      <td>6</td>\n",
       "      <td>0.012270</td>\n",
       "    </tr>\n",
       "    <tr>\n",
       "      <th>17</th>\n",
       "      <td>n2_20241209_p7_13</td>\n",
       "      <td>area 30</td>\n",
       "      <td>ipsilateral</td>\n",
       "      <td>p7-13</td>\n",
       "      <td>57</td>\n",
       "      <td>0.116564</td>\n",
       "    </tr>\n",
       "    <tr>\n",
       "      <th>18</th>\n",
       "      <td>n3_20241010_p1_7</td>\n",
       "      <td>area 29</td>\n",
       "      <td>contralateral</td>\n",
       "      <td>p1-7</td>\n",
       "      <td>79</td>\n",
       "      <td>0.074599</td>\n",
       "    </tr>\n",
       "    <tr>\n",
       "      <th>19</th>\n",
       "      <td>n3_20241010_p1_7</td>\n",
       "      <td>area 30</td>\n",
       "      <td>contralateral</td>\n",
       "      <td>p1-7</td>\n",
       "      <td>78</td>\n",
       "      <td>0.073654</td>\n",
       "    </tr>\n",
       "    <tr>\n",
       "      <th>20</th>\n",
       "      <td>n3_20241010_p1_7</td>\n",
       "      <td>area 30</td>\n",
       "      <td>ipsilateral</td>\n",
       "      <td>p1-7</td>\n",
       "      <td>71</td>\n",
       "      <td>0.067044</td>\n",
       "    </tr>\n",
       "    <tr>\n",
       "      <th>21</th>\n",
       "      <td>n3_20241209_p7_13</td>\n",
       "      <td>area 29</td>\n",
       "      <td>contralateral</td>\n",
       "      <td>p7-13</td>\n",
       "      <td>13</td>\n",
       "      <td>0.010204</td>\n",
       "    </tr>\n",
       "    <tr>\n",
       "      <th>22</th>\n",
       "      <td>n3_20241209_p7_13</td>\n",
       "      <td>area 29</td>\n",
       "      <td>ipsilateral</td>\n",
       "      <td>p7-13</td>\n",
       "      <td>64</td>\n",
       "      <td>0.050235</td>\n",
       "    </tr>\n",
       "    <tr>\n",
       "      <th>23</th>\n",
       "      <td>n3_20241209_p7_13</td>\n",
       "      <td>area 30</td>\n",
       "      <td>contralateral</td>\n",
       "      <td>p7-13</td>\n",
       "      <td>97</td>\n",
       "      <td>0.076138</td>\n",
       "    </tr>\n",
       "    <tr>\n",
       "      <th>24</th>\n",
       "      <td>n3_20241209_p7_13</td>\n",
       "      <td>area 30</td>\n",
       "      <td>ipsilateral</td>\n",
       "      <td>p7-13</td>\n",
       "      <td>409</td>\n",
       "      <td>0.321036</td>\n",
       "    </tr>\n",
       "    <tr>\n",
       "      <th>25</th>\n",
       "      <td>n4_20241203_p7_13</td>\n",
       "      <td>area 29</td>\n",
       "      <td>contralateral</td>\n",
       "      <td>p7-13</td>\n",
       "      <td>26</td>\n",
       "      <td>0.033121</td>\n",
       "    </tr>\n",
       "    <tr>\n",
       "      <th>26</th>\n",
       "      <td>n4_20241203_p7_13</td>\n",
       "      <td>area 29</td>\n",
       "      <td>ipsilateral</td>\n",
       "      <td>p7-13</td>\n",
       "      <td>7</td>\n",
       "      <td>0.008917</td>\n",
       "    </tr>\n",
       "    <tr>\n",
       "      <th>27</th>\n",
       "      <td>n4_20241203_p7_13</td>\n",
       "      <td>area 30</td>\n",
       "      <td>contralateral</td>\n",
       "      <td>p7-13</td>\n",
       "      <td>86</td>\n",
       "      <td>0.109554</td>\n",
       "    </tr>\n",
       "    <tr>\n",
       "      <th>28</th>\n",
       "      <td>n4_20241203_p7_13</td>\n",
       "      <td>area 30</td>\n",
       "      <td>ipsilateral</td>\n",
       "      <td>p7-13</td>\n",
       "      <td>17</td>\n",
       "      <td>0.021656</td>\n",
       "    </tr>\n",
       "    <tr>\n",
       "      <th>29</th>\n",
       "      <td>n4_20241209_p7_13</td>\n",
       "      <td>area 29</td>\n",
       "      <td>contralateral</td>\n",
       "      <td>p7-13</td>\n",
       "      <td>10</td>\n",
       "      <td>0.005695</td>\n",
       "    </tr>\n",
       "    <tr>\n",
       "      <th>30</th>\n",
       "      <td>n4_20241209_p7_13</td>\n",
       "      <td>area 29</td>\n",
       "      <td>ipsilateral</td>\n",
       "      <td>p7-13</td>\n",
       "      <td>193</td>\n",
       "      <td>0.109909</td>\n",
       "    </tr>\n",
       "    <tr>\n",
       "      <th>31</th>\n",
       "      <td>n4_20241209_p7_13</td>\n",
       "      <td>area 30</td>\n",
       "      <td>contralateral</td>\n",
       "      <td>p7-13</td>\n",
       "      <td>60</td>\n",
       "      <td>0.034169</td>\n",
       "    </tr>\n",
       "    <tr>\n",
       "      <th>32</th>\n",
       "      <td>n4_20241209_p7_13</td>\n",
       "      <td>area 30</td>\n",
       "      <td>ipsilateral</td>\n",
       "      <td>p7-13</td>\n",
       "      <td>278</td>\n",
       "      <td>0.158314</td>\n",
       "    </tr>\n",
       "    <tr>\n",
       "      <th>33</th>\n",
       "      <td>n5_20241103_p1_7</td>\n",
       "      <td>area 29</td>\n",
       "      <td>contralateral</td>\n",
       "      <td>p1-7</td>\n",
       "      <td>1356</td>\n",
       "      <td>0.114199</td>\n",
       "    </tr>\n",
       "    <tr>\n",
       "      <th>34</th>\n",
       "      <td>n5_20241103_p1_7</td>\n",
       "      <td>area 29</td>\n",
       "      <td>ipsilateral</td>\n",
       "      <td>p1-7</td>\n",
       "      <td>1</td>\n",
       "      <td>0.000084</td>\n",
       "    </tr>\n",
       "    <tr>\n",
       "      <th>35</th>\n",
       "      <td>n5_20241103_p1_7</td>\n",
       "      <td>area 30</td>\n",
       "      <td>contralateral</td>\n",
       "      <td>p1-7</td>\n",
       "      <td>1209</td>\n",
       "      <td>0.101819</td>\n",
       "    </tr>\n",
       "    <tr>\n",
       "      <th>36</th>\n",
       "      <td>n5_20241103_p1_7</td>\n",
       "      <td>area 30</td>\n",
       "      <td>ipsilateral</td>\n",
       "      <td>p1-7</td>\n",
       "      <td>8</td>\n",
       "      <td>0.000674</td>\n",
       "    </tr>\n",
       "    <tr>\n",
       "      <th>37</th>\n",
       "      <td>n5_20241203_p7_13</td>\n",
       "      <td>area 29</td>\n",
       "      <td>contralateral</td>\n",
       "      <td>p7-13</td>\n",
       "      <td>50</td>\n",
       "      <td>0.017277</td>\n",
       "    </tr>\n",
       "    <tr>\n",
       "      <th>38</th>\n",
       "      <td>n5_20241203_p7_13</td>\n",
       "      <td>area 29</td>\n",
       "      <td>ipsilateral</td>\n",
       "      <td>p7-13</td>\n",
       "      <td>1</td>\n",
       "      <td>0.000346</td>\n",
       "    </tr>\n",
       "    <tr>\n",
       "      <th>39</th>\n",
       "      <td>n5_20241203_p7_13</td>\n",
       "      <td>area 30</td>\n",
       "      <td>contralateral</td>\n",
       "      <td>p7-13</td>\n",
       "      <td>266</td>\n",
       "      <td>0.091914</td>\n",
       "    </tr>\n",
       "    <tr>\n",
       "      <th>40</th>\n",
       "      <td>n5_20241203_p7_13</td>\n",
       "      <td>area 30</td>\n",
       "      <td>ipsilateral</td>\n",
       "      <td>p7-13</td>\n",
       "      <td>5</td>\n",
       "      <td>0.001728</td>\n",
       "    </tr>\n",
       "    <tr>\n",
       "      <th>41</th>\n",
       "      <td>n8_20241203_p7_13</td>\n",
       "      <td>area 29</td>\n",
       "      <td>contralateral</td>\n",
       "      <td>p7-13</td>\n",
       "      <td>12</td>\n",
       "      <td>0.031830</td>\n",
       "    </tr>\n",
       "    <tr>\n",
       "      <th>42</th>\n",
       "      <td>n8_20241203_p7_13</td>\n",
       "      <td>area 29</td>\n",
       "      <td>ipsilateral</td>\n",
       "      <td>p7-13</td>\n",
       "      <td>19</td>\n",
       "      <td>0.050398</td>\n",
       "    </tr>\n",
       "    <tr>\n",
       "      <th>43</th>\n",
       "      <td>n8_20241203_p7_13</td>\n",
       "      <td>area 30</td>\n",
       "      <td>contralateral</td>\n",
       "      <td>p7-13</td>\n",
       "      <td>46</td>\n",
       "      <td>0.122016</td>\n",
       "    </tr>\n",
       "  </tbody>\n",
       "</table>\n",
       "</div>"
      ],
      "text/plain": [
       "                Brain Subdivided     Hemisphere    age  count  scaled count\n",
       "0   n11_20241103_p1_7    area 29  contralateral   p1-7    552      0.032377\n",
       "1   n11_20241103_p1_7    area 29    ipsilateral   p1-7      3      0.000176\n",
       "2   n11_20241103_p1_7    area 30  contralateral   p1-7    832      0.048801\n",
       "3   n1_20241203_p7_13    area 29  contralateral  p7-13      3      0.001943\n",
       "4   n1_20241203_p7_13    area 29    ipsilateral  p7-13    391      0.253238\n",
       "5   n1_20241203_p7_13    area 30  contralateral  p7-13     12      0.007772\n",
       "6   n1_20241203_p7_13    area 30    ipsilateral  p7-13     89      0.057642\n",
       "7   n1_20241209_p7_13    area 29  contralateral  p7-13      3      0.001943\n",
       "8   n1_20241209_p7_13    area 29    ipsilateral  p7-13    391      0.253238\n",
       "9   n1_20241209_p7_13    area 30  contralateral  p7-13     12      0.007772\n",
       "10  n1_20241209_p7_13    area 30    ipsilateral  p7-13     89      0.057642\n",
       "11  n2_20241203_p7_13    area 29  contralateral  p7-13     46      0.031834\n",
       "12  n2_20241203_p7_13    area 30  contralateral  p7-13    153      0.105882\n",
       "13  n2_20241203_p7_13    area 30    ipsilateral  p7-13     18      0.012457\n",
       "14  n2_20241209_p7_13    area 29  contralateral  p7-13      1      0.002045\n",
       "15  n2_20241209_p7_13    area 29    ipsilateral  p7-13     40      0.081800\n",
       "16  n2_20241209_p7_13    area 30  contralateral  p7-13      6      0.012270\n",
       "17  n2_20241209_p7_13    area 30    ipsilateral  p7-13     57      0.116564\n",
       "18   n3_20241010_p1_7    area 29  contralateral   p1-7     79      0.074599\n",
       "19   n3_20241010_p1_7    area 30  contralateral   p1-7     78      0.073654\n",
       "20   n3_20241010_p1_7    area 30    ipsilateral   p1-7     71      0.067044\n",
       "21  n3_20241209_p7_13    area 29  contralateral  p7-13     13      0.010204\n",
       "22  n3_20241209_p7_13    area 29    ipsilateral  p7-13     64      0.050235\n",
       "23  n3_20241209_p7_13    area 30  contralateral  p7-13     97      0.076138\n",
       "24  n3_20241209_p7_13    area 30    ipsilateral  p7-13    409      0.321036\n",
       "25  n4_20241203_p7_13    area 29  contralateral  p7-13     26      0.033121\n",
       "26  n4_20241203_p7_13    area 29    ipsilateral  p7-13      7      0.008917\n",
       "27  n4_20241203_p7_13    area 30  contralateral  p7-13     86      0.109554\n",
       "28  n4_20241203_p7_13    area 30    ipsilateral  p7-13     17      0.021656\n",
       "29  n4_20241209_p7_13    area 29  contralateral  p7-13     10      0.005695\n",
       "30  n4_20241209_p7_13    area 29    ipsilateral  p7-13    193      0.109909\n",
       "31  n4_20241209_p7_13    area 30  contralateral  p7-13     60      0.034169\n",
       "32  n4_20241209_p7_13    area 30    ipsilateral  p7-13    278      0.158314\n",
       "33   n5_20241103_p1_7    area 29  contralateral   p1-7   1356      0.114199\n",
       "34   n5_20241103_p1_7    area 29    ipsilateral   p1-7      1      0.000084\n",
       "35   n5_20241103_p1_7    area 30  contralateral   p1-7   1209      0.101819\n",
       "36   n5_20241103_p1_7    area 30    ipsilateral   p1-7      8      0.000674\n",
       "37  n5_20241203_p7_13    area 29  contralateral  p7-13     50      0.017277\n",
       "38  n5_20241203_p7_13    area 29    ipsilateral  p7-13      1      0.000346\n",
       "39  n5_20241203_p7_13    area 30  contralateral  p7-13    266      0.091914\n",
       "40  n5_20241203_p7_13    area 30    ipsilateral  p7-13      5      0.001728\n",
       "41  n8_20241203_p7_13    area 29  contralateral  p7-13     12      0.031830\n",
       "42  n8_20241203_p7_13    area 29    ipsilateral  p7-13     19      0.050398\n",
       "43  n8_20241203_p7_13    area 30  contralateral  p7-13     46      0.122016"
      ]
     },
     "execution_count": 73,
     "metadata": {},
     "output_type": "execute_result"
    }
   ],
   "source": [
    "subdivided_rsc_filtered = Retrosplenial_areas[\n",
    "    [\"Brain\", \"age\", \"count\", \"Hemisphere\", \"Subdivided\"]\n",
    "]\n",
    "\n",
    "subdivided_rsc_grouped = subdivided_rsc_filtered.groupby(\n",
    "    [\"Brain\", \"Subdivided\", \"Hemisphere\", \"age\"], as_index=False\n",
    ")[\"count\"].sum()\n",
    "\n",
    "# add scaled column with 0\n",
    "subdivided_rsc_grouped[\"scaled count\"] = 0\n",
    "# scale the counts\n",
    "for index, row in subdivided_rsc_grouped.iterrows():\n",
    "    brain_name = row[\"Brain\"]\n",
    "    count = row[\"count\"]\n",
    "    total_count = totals.loc[totals[\"Brain\"] == brain_name, \"total\"].values[0]\n",
    "    scaled_count = 1 / total_count * count\n",
    "    subdivided_rsc_grouped.loc[index, \"scaled count\"] = scaled_count\n",
    "subdivided_rsc_grouped"
   ]
  },
  {
   "cell_type": "code",
   "execution_count": 74,
   "id": "12117637",
   "metadata": {},
   "outputs": [],
   "source": [
    "def plot_count_zoomed_sub(big_file_long, Title):\n",
    "\n",
    "    df_hemi = big_file_long[big_file_long[\"Hemisphere\"] == \"ipsilateral\"]\n",
    "\n",
    "    fig = px.box(\n",
    "        df_hemi,\n",
    "        y=\"count\",\n",
    "        x=\"Subdivided\",\n",
    "        color=\"age\",\n",
    "        # points=\"all\",\n",
    "        color_discrete_map={\"p1-7\": \"darkorange\", \"p7-13\": \"magenta\"},\n",
    "        title=Title,\n",
    "        \n",
    "        labels={\"count\": \"Count\", \"Subdivided\": \"Subdivided region\"},\n",
    "    )\n",
    "    fig.update_layout(\n",
    "        legend=dict(font=dict(size=20)),\n",
    "        xaxis_title_font=dict(size=24),  # x-axis label font size\n",
    "        yaxis_title_font=dict(size=24),  # y-axis label font size\n",
    "        xaxis_tickfont=dict(size=20),  # x-axis tick font size\n",
    "        yaxis_tickfont=dict(size=18),  # y-axis tick font size\n",
    "    )\n",
    "    return fig"
   ]
  },
  {
   "cell_type": "code",
   "execution_count": 75,
   "id": "d33c1fab",
   "metadata": {},
   "outputs": [
    {
     "data": {
      "application/vnd.plotly.v1+json": {
       "config": {
        "plotlyServerURL": "https://plot.ly"
       },
       "data": [
        {
         "alignmentgroup": "True",
         "hovertemplate": "age=p1-7<br>Subdivided region=%{x}<br>Count=%{y}<extra></extra>",
         "legendgroup": "p1-7",
         "marker": {
          "color": "darkorange"
         },
         "name": "p1-7",
         "notched": false,
         "offsetgroup": "p1-7",
         "orientation": "v",
         "showlegend": true,
         "type": "box",
         "x": [
          "area 29",
          "area 30",
          "area 29",
          "area 30"
         ],
         "x0": " ",
         "xaxis": "x",
         "y": [
          3,
          71,
          1,
          8
         ],
         "y0": " ",
         "yaxis": "y"
        },
        {
         "alignmentgroup": "True",
         "hovertemplate": "age=p7-13<br>Subdivided region=%{x}<br>Count=%{y}<extra></extra>",
         "legendgroup": "p7-13",
         "marker": {
          "color": "magenta"
         },
         "name": "p7-13",
         "notched": false,
         "offsetgroup": "p7-13",
         "orientation": "v",
         "showlegend": true,
         "type": "box",
         "x": [
          "area 29",
          "area 30",
          "area 29",
          "area 30",
          "area 30",
          "area 29",
          "area 30",
          "area 29",
          "area 30",
          "area 29",
          "area 30",
          "area 29",
          "area 30",
          "area 29",
          "area 30",
          "area 29"
         ],
         "x0": " ",
         "xaxis": "x",
         "y": [
          391,
          89,
          391,
          89,
          18,
          40,
          57,
          64,
          409,
          7,
          17,
          193,
          278,
          1,
          5,
          19
         ],
         "y0": " ",
         "yaxis": "y"
        }
       ],
       "layout": {
        "boxmode": "group",
        "legend": {
         "font": {
          "size": 20
         },
         "title": {
          "text": "age"
         },
         "tracegroupgap": 0
        },
        "template": {
         "data": {
          "bar": [
           {
            "error_x": {
             "color": "#2a3f5f"
            },
            "error_y": {
             "color": "#2a3f5f"
            },
            "marker": {
             "line": {
              "color": "#E5ECF6",
              "width": 0.5
             },
             "pattern": {
              "fillmode": "overlay",
              "size": 10,
              "solidity": 0.2
             }
            },
            "type": "bar"
           }
          ],
          "barpolar": [
           {
            "marker": {
             "line": {
              "color": "#E5ECF6",
              "width": 0.5
             },
             "pattern": {
              "fillmode": "overlay",
              "size": 10,
              "solidity": 0.2
             }
            },
            "type": "barpolar"
           }
          ],
          "carpet": [
           {
            "aaxis": {
             "endlinecolor": "#2a3f5f",
             "gridcolor": "white",
             "linecolor": "white",
             "minorgridcolor": "white",
             "startlinecolor": "#2a3f5f"
            },
            "baxis": {
             "endlinecolor": "#2a3f5f",
             "gridcolor": "white",
             "linecolor": "white",
             "minorgridcolor": "white",
             "startlinecolor": "#2a3f5f"
            },
            "type": "carpet"
           }
          ],
          "choropleth": [
           {
            "colorbar": {
             "outlinewidth": 0,
             "ticks": ""
            },
            "type": "choropleth"
           }
          ],
          "contour": [
           {
            "colorbar": {
             "outlinewidth": 0,
             "ticks": ""
            },
            "colorscale": [
             [
              0,
              "#0d0887"
             ],
             [
              0.1111111111111111,
              "#46039f"
             ],
             [
              0.2222222222222222,
              "#7201a8"
             ],
             [
              0.3333333333333333,
              "#9c179e"
             ],
             [
              0.4444444444444444,
              "#bd3786"
             ],
             [
              0.5555555555555556,
              "#d8576b"
             ],
             [
              0.6666666666666666,
              "#ed7953"
             ],
             [
              0.7777777777777778,
              "#fb9f3a"
             ],
             [
              0.8888888888888888,
              "#fdca26"
             ],
             [
              1,
              "#f0f921"
             ]
            ],
            "type": "contour"
           }
          ],
          "contourcarpet": [
           {
            "colorbar": {
             "outlinewidth": 0,
             "ticks": ""
            },
            "type": "contourcarpet"
           }
          ],
          "heatmap": [
           {
            "colorbar": {
             "outlinewidth": 0,
             "ticks": ""
            },
            "colorscale": [
             [
              0,
              "#0d0887"
             ],
             [
              0.1111111111111111,
              "#46039f"
             ],
             [
              0.2222222222222222,
              "#7201a8"
             ],
             [
              0.3333333333333333,
              "#9c179e"
             ],
             [
              0.4444444444444444,
              "#bd3786"
             ],
             [
              0.5555555555555556,
              "#d8576b"
             ],
             [
              0.6666666666666666,
              "#ed7953"
             ],
             [
              0.7777777777777778,
              "#fb9f3a"
             ],
             [
              0.8888888888888888,
              "#fdca26"
             ],
             [
              1,
              "#f0f921"
             ]
            ],
            "type": "heatmap"
           }
          ],
          "heatmapgl": [
           {
            "colorbar": {
             "outlinewidth": 0,
             "ticks": ""
            },
            "colorscale": [
             [
              0,
              "#0d0887"
             ],
             [
              0.1111111111111111,
              "#46039f"
             ],
             [
              0.2222222222222222,
              "#7201a8"
             ],
             [
              0.3333333333333333,
              "#9c179e"
             ],
             [
              0.4444444444444444,
              "#bd3786"
             ],
             [
              0.5555555555555556,
              "#d8576b"
             ],
             [
              0.6666666666666666,
              "#ed7953"
             ],
             [
              0.7777777777777778,
              "#fb9f3a"
             ],
             [
              0.8888888888888888,
              "#fdca26"
             ],
             [
              1,
              "#f0f921"
             ]
            ],
            "type": "heatmapgl"
           }
          ],
          "histogram": [
           {
            "marker": {
             "pattern": {
              "fillmode": "overlay",
              "size": 10,
              "solidity": 0.2
             }
            },
            "type": "histogram"
           }
          ],
          "histogram2d": [
           {
            "colorbar": {
             "outlinewidth": 0,
             "ticks": ""
            },
            "colorscale": [
             [
              0,
              "#0d0887"
             ],
             [
              0.1111111111111111,
              "#46039f"
             ],
             [
              0.2222222222222222,
              "#7201a8"
             ],
             [
              0.3333333333333333,
              "#9c179e"
             ],
             [
              0.4444444444444444,
              "#bd3786"
             ],
             [
              0.5555555555555556,
              "#d8576b"
             ],
             [
              0.6666666666666666,
              "#ed7953"
             ],
             [
              0.7777777777777778,
              "#fb9f3a"
             ],
             [
              0.8888888888888888,
              "#fdca26"
             ],
             [
              1,
              "#f0f921"
             ]
            ],
            "type": "histogram2d"
           }
          ],
          "histogram2dcontour": [
           {
            "colorbar": {
             "outlinewidth": 0,
             "ticks": ""
            },
            "colorscale": [
             [
              0,
              "#0d0887"
             ],
             [
              0.1111111111111111,
              "#46039f"
             ],
             [
              0.2222222222222222,
              "#7201a8"
             ],
             [
              0.3333333333333333,
              "#9c179e"
             ],
             [
              0.4444444444444444,
              "#bd3786"
             ],
             [
              0.5555555555555556,
              "#d8576b"
             ],
             [
              0.6666666666666666,
              "#ed7953"
             ],
             [
              0.7777777777777778,
              "#fb9f3a"
             ],
             [
              0.8888888888888888,
              "#fdca26"
             ],
             [
              1,
              "#f0f921"
             ]
            ],
            "type": "histogram2dcontour"
           }
          ],
          "mesh3d": [
           {
            "colorbar": {
             "outlinewidth": 0,
             "ticks": ""
            },
            "type": "mesh3d"
           }
          ],
          "parcoords": [
           {
            "line": {
             "colorbar": {
              "outlinewidth": 0,
              "ticks": ""
             }
            },
            "type": "parcoords"
           }
          ],
          "pie": [
           {
            "automargin": true,
            "type": "pie"
           }
          ],
          "scatter": [
           {
            "fillpattern": {
             "fillmode": "overlay",
             "size": 10,
             "solidity": 0.2
            },
            "type": "scatter"
           }
          ],
          "scatter3d": [
           {
            "line": {
             "colorbar": {
              "outlinewidth": 0,
              "ticks": ""
             }
            },
            "marker": {
             "colorbar": {
              "outlinewidth": 0,
              "ticks": ""
             }
            },
            "type": "scatter3d"
           }
          ],
          "scattercarpet": [
           {
            "marker": {
             "colorbar": {
              "outlinewidth": 0,
              "ticks": ""
             }
            },
            "type": "scattercarpet"
           }
          ],
          "scattergeo": [
           {
            "marker": {
             "colorbar": {
              "outlinewidth": 0,
              "ticks": ""
             }
            },
            "type": "scattergeo"
           }
          ],
          "scattergl": [
           {
            "marker": {
             "colorbar": {
              "outlinewidth": 0,
              "ticks": ""
             }
            },
            "type": "scattergl"
           }
          ],
          "scattermapbox": [
           {
            "marker": {
             "colorbar": {
              "outlinewidth": 0,
              "ticks": ""
             }
            },
            "type": "scattermapbox"
           }
          ],
          "scatterpolar": [
           {
            "marker": {
             "colorbar": {
              "outlinewidth": 0,
              "ticks": ""
             }
            },
            "type": "scatterpolar"
           }
          ],
          "scatterpolargl": [
           {
            "marker": {
             "colorbar": {
              "outlinewidth": 0,
              "ticks": ""
             }
            },
            "type": "scatterpolargl"
           }
          ],
          "scatterternary": [
           {
            "marker": {
             "colorbar": {
              "outlinewidth": 0,
              "ticks": ""
             }
            },
            "type": "scatterternary"
           }
          ],
          "surface": [
           {
            "colorbar": {
             "outlinewidth": 0,
             "ticks": ""
            },
            "colorscale": [
             [
              0,
              "#0d0887"
             ],
             [
              0.1111111111111111,
              "#46039f"
             ],
             [
              0.2222222222222222,
              "#7201a8"
             ],
             [
              0.3333333333333333,
              "#9c179e"
             ],
             [
              0.4444444444444444,
              "#bd3786"
             ],
             [
              0.5555555555555556,
              "#d8576b"
             ],
             [
              0.6666666666666666,
              "#ed7953"
             ],
             [
              0.7777777777777778,
              "#fb9f3a"
             ],
             [
              0.8888888888888888,
              "#fdca26"
             ],
             [
              1,
              "#f0f921"
             ]
            ],
            "type": "surface"
           }
          ],
          "table": [
           {
            "cells": {
             "fill": {
              "color": "#EBF0F8"
             },
             "line": {
              "color": "white"
             }
            },
            "header": {
             "fill": {
              "color": "#C8D4E3"
             },
             "line": {
              "color": "white"
             }
            },
            "type": "table"
           }
          ]
         },
         "layout": {
          "annotationdefaults": {
           "arrowcolor": "#2a3f5f",
           "arrowhead": 0,
           "arrowwidth": 1
          },
          "autotypenumbers": "strict",
          "coloraxis": {
           "colorbar": {
            "outlinewidth": 0,
            "ticks": ""
           }
          },
          "colorscale": {
           "diverging": [
            [
             0,
             "#8e0152"
            ],
            [
             0.1,
             "#c51b7d"
            ],
            [
             0.2,
             "#de77ae"
            ],
            [
             0.3,
             "#f1b6da"
            ],
            [
             0.4,
             "#fde0ef"
            ],
            [
             0.5,
             "#f7f7f7"
            ],
            [
             0.6,
             "#e6f5d0"
            ],
            [
             0.7,
             "#b8e186"
            ],
            [
             0.8,
             "#7fbc41"
            ],
            [
             0.9,
             "#4d9221"
            ],
            [
             1,
             "#276419"
            ]
           ],
           "sequential": [
            [
             0,
             "#0d0887"
            ],
            [
             0.1111111111111111,
             "#46039f"
            ],
            [
             0.2222222222222222,
             "#7201a8"
            ],
            [
             0.3333333333333333,
             "#9c179e"
            ],
            [
             0.4444444444444444,
             "#bd3786"
            ],
            [
             0.5555555555555556,
             "#d8576b"
            ],
            [
             0.6666666666666666,
             "#ed7953"
            ],
            [
             0.7777777777777778,
             "#fb9f3a"
            ],
            [
             0.8888888888888888,
             "#fdca26"
            ],
            [
             1,
             "#f0f921"
            ]
           ],
           "sequentialminus": [
            [
             0,
             "#0d0887"
            ],
            [
             0.1111111111111111,
             "#46039f"
            ],
            [
             0.2222222222222222,
             "#7201a8"
            ],
            [
             0.3333333333333333,
             "#9c179e"
            ],
            [
             0.4444444444444444,
             "#bd3786"
            ],
            [
             0.5555555555555556,
             "#d8576b"
            ],
            [
             0.6666666666666666,
             "#ed7953"
            ],
            [
             0.7777777777777778,
             "#fb9f3a"
            ],
            [
             0.8888888888888888,
             "#fdca26"
            ],
            [
             1,
             "#f0f921"
            ]
           ]
          },
          "colorway": [
           "#636efa",
           "#EF553B",
           "#00cc96",
           "#ab63fa",
           "#FFA15A",
           "#19d3f3",
           "#FF6692",
           "#B6E880",
           "#FF97FF",
           "#FECB52"
          ],
          "font": {
           "color": "#2a3f5f"
          },
          "geo": {
           "bgcolor": "white",
           "lakecolor": "white",
           "landcolor": "#E5ECF6",
           "showlakes": true,
           "showland": true,
           "subunitcolor": "white"
          },
          "hoverlabel": {
           "align": "left"
          },
          "hovermode": "closest",
          "mapbox": {
           "style": "light"
          },
          "paper_bgcolor": "white",
          "plot_bgcolor": "#E5ECF6",
          "polar": {
           "angularaxis": {
            "gridcolor": "white",
            "linecolor": "white",
            "ticks": ""
           },
           "bgcolor": "#E5ECF6",
           "radialaxis": {
            "gridcolor": "white",
            "linecolor": "white",
            "ticks": ""
           }
          },
          "scene": {
           "xaxis": {
            "backgroundcolor": "#E5ECF6",
            "gridcolor": "white",
            "gridwidth": 2,
            "linecolor": "white",
            "showbackground": true,
            "ticks": "",
            "zerolinecolor": "white"
           },
           "yaxis": {
            "backgroundcolor": "#E5ECF6",
            "gridcolor": "white",
            "gridwidth": 2,
            "linecolor": "white",
            "showbackground": true,
            "ticks": "",
            "zerolinecolor": "white"
           },
           "zaxis": {
            "backgroundcolor": "#E5ECF6",
            "gridcolor": "white",
            "gridwidth": 2,
            "linecolor": "white",
            "showbackground": true,
            "ticks": "",
            "zerolinecolor": "white"
           }
          },
          "shapedefaults": {
           "line": {
            "color": "#2a3f5f"
           }
          },
          "ternary": {
           "aaxis": {
            "gridcolor": "white",
            "linecolor": "white",
            "ticks": ""
           },
           "baxis": {
            "gridcolor": "white",
            "linecolor": "white",
            "ticks": ""
           },
           "bgcolor": "#E5ECF6",
           "caxis": {
            "gridcolor": "white",
            "linecolor": "white",
            "ticks": ""
           }
          },
          "title": {
           "x": 0.05
          },
          "xaxis": {
           "automargin": true,
           "gridcolor": "white",
           "linecolor": "white",
           "ticks": "",
           "title": {
            "standoff": 15
           },
           "zerolinecolor": "white",
           "zerolinewidth": 2
          },
          "yaxis": {
           "automargin": true,
           "gridcolor": "white",
           "linecolor": "white",
           "ticks": "",
           "title": {
            "standoff": 15
           },
           "zerolinecolor": "white",
           "zerolinewidth": 2
          }
         }
        },
        "title": {
         "text": "V1 injections counts in Retrosplenial area subdivisions by hemisphere, p1-7 (n=3) and p7-13 (n=9) "
        },
        "xaxis": {
         "anchor": "y",
         "domain": [
          0,
          1
         ],
         "tickfont": {
          "size": 20
         },
         "title": {
          "font": {
           "size": 24
          },
          "text": "Subdivided region"
         }
        },
        "yaxis": {
         "anchor": "x",
         "domain": [
          0,
          1
         ],
         "tickfont": {
          "size": 18
         },
         "title": {
          "font": {
           "size": 24
          },
          "text": "Count"
         }
        }
       }
      }
     },
     "metadata": {},
     "output_type": "display_data"
    }
   ],
   "source": [
    "plot_count_zoomed_sub(\n",
    "    subdivided_rsc_grouped,\n",
    "    \"V1 injections counts in Retrosplenial area subdivisions by hemisphere, p1-7 (n=3) and p7-13 (n=9) \",\n",
    ")"
   ]
  },
  {
   "cell_type": "code",
   "execution_count": 76,
   "id": "b5a26e54",
   "metadata": {},
   "outputs": [],
   "source": [
    "def plot_scaledcount_zoomed_sub(big_file_long, Title):\n",
    "\n",
    "    df_hemi = big_file_long[big_file_long[\"Hemisphere\"] == \"ipsilateral\"]\n",
    "\n",
    "    fig = px.box(\n",
    "        df_hemi,\n",
    "        y=\"scaled count\",\n",
    "        x=\"Subdivided\",\n",
    "        color=\"age\",\n",
    "        # points = \"all\",\n",
    "        color_discrete_map={\"p1-7\": \"orange\", \"p7-13\": \"magenta\"},\n",
    "        title=Title,\n",
    "        labels={\"count\": \"Count\", \"Subdivided\": \"Subdivided region\"},\n",
    "    )\n",
    "    fig.update_layout(\n",
    "        legend=dict(font=dict(size=20)),\n",
    "        xaxis_title_font=dict(size=24),  # x-axis label font size\n",
    "        yaxis_title_font=dict(size=24),  # y-axis label font size\n",
    "        xaxis_tickfont=dict(size=20),  # x-axis tick font size\n",
    "        yaxis_tickfont=dict(size=18),  # y-axis tick font size\n",
    "    )\n",
    "\n",
    "    return fig"
   ]
  },
  {
   "cell_type": "code",
   "execution_count": 77,
   "id": "90c899c2",
   "metadata": {},
   "outputs": [
    {
     "data": {
      "application/vnd.plotly.v1+json": {
       "config": {
        "plotlyServerURL": "https://plot.ly"
       },
       "data": [
        {
         "alignmentgroup": "True",
         "hovertemplate": "age=p1-7<br>Subdivided region=%{x}<br>scaled count=%{y}<extra></extra>",
         "legendgroup": "p1-7",
         "marker": {
          "color": "orange"
         },
         "name": "p1-7",
         "notched": false,
         "offsetgroup": "p1-7",
         "orientation": "v",
         "showlegend": true,
         "type": "box",
         "x": [
          "area 29",
          "area 30",
          "area 29",
          "area 30"
         ],
         "x0": " ",
         "xaxis": "x",
         "y": [
          0.00017596339961288053,
          0.06704438149197356,
          0.00008421761832575375,
          0.00067374094660603
         ],
         "y0": " ",
         "yaxis": "y"
        },
        {
         "alignmentgroup": "True",
         "hovertemplate": "age=p7-13<br>Subdivided region=%{x}<br>scaled count=%{y}<extra></extra>",
         "legendgroup": "p7-13",
         "marker": {
          "color": "magenta"
         },
         "name": "p7-13",
         "notched": false,
         "offsetgroup": "p7-13",
         "orientation": "v",
         "showlegend": true,
         "type": "box",
         "x": [
          "area 29",
          "area 30",
          "area 29",
          "area 30",
          "area 30",
          "area 29",
          "area 30",
          "area 29",
          "area 30",
          "area 29",
          "area 30",
          "area 29",
          "area 30",
          "area 29",
          "area 30",
          "area 29"
         ],
         "x0": " ",
         "xaxis": "x",
         "y": [
          0.25323834196891193,
          0.05764248704663213,
          0.25323834196891193,
          0.05764248704663213,
          0.01245674740484429,
          0.081799591002045,
          0.11656441717791412,
          0.05023547880690738,
          0.32103610675039246,
          0.008917197452229299,
          0.02165605095541401,
          0.10990888382687927,
          0.1583143507972665,
          0.0003455425017277125,
          0.0017277125086385624,
          0.05039787798408488
         ],
         "y0": " ",
         "yaxis": "y"
        }
       ],
       "layout": {
        "boxmode": "group",
        "legend": {
         "font": {
          "size": 20
         },
         "title": {
          "text": "age"
         },
         "tracegroupgap": 0
        },
        "template": {
         "data": {
          "bar": [
           {
            "error_x": {
             "color": "#2a3f5f"
            },
            "error_y": {
             "color": "#2a3f5f"
            },
            "marker": {
             "line": {
              "color": "#E5ECF6",
              "width": 0.5
             },
             "pattern": {
              "fillmode": "overlay",
              "size": 10,
              "solidity": 0.2
             }
            },
            "type": "bar"
           }
          ],
          "barpolar": [
           {
            "marker": {
             "line": {
              "color": "#E5ECF6",
              "width": 0.5
             },
             "pattern": {
              "fillmode": "overlay",
              "size": 10,
              "solidity": 0.2
             }
            },
            "type": "barpolar"
           }
          ],
          "carpet": [
           {
            "aaxis": {
             "endlinecolor": "#2a3f5f",
             "gridcolor": "white",
             "linecolor": "white",
             "minorgridcolor": "white",
             "startlinecolor": "#2a3f5f"
            },
            "baxis": {
             "endlinecolor": "#2a3f5f",
             "gridcolor": "white",
             "linecolor": "white",
             "minorgridcolor": "white",
             "startlinecolor": "#2a3f5f"
            },
            "type": "carpet"
           }
          ],
          "choropleth": [
           {
            "colorbar": {
             "outlinewidth": 0,
             "ticks": ""
            },
            "type": "choropleth"
           }
          ],
          "contour": [
           {
            "colorbar": {
             "outlinewidth": 0,
             "ticks": ""
            },
            "colorscale": [
             [
              0,
              "#0d0887"
             ],
             [
              0.1111111111111111,
              "#46039f"
             ],
             [
              0.2222222222222222,
              "#7201a8"
             ],
             [
              0.3333333333333333,
              "#9c179e"
             ],
             [
              0.4444444444444444,
              "#bd3786"
             ],
             [
              0.5555555555555556,
              "#d8576b"
             ],
             [
              0.6666666666666666,
              "#ed7953"
             ],
             [
              0.7777777777777778,
              "#fb9f3a"
             ],
             [
              0.8888888888888888,
              "#fdca26"
             ],
             [
              1,
              "#f0f921"
             ]
            ],
            "type": "contour"
           }
          ],
          "contourcarpet": [
           {
            "colorbar": {
             "outlinewidth": 0,
             "ticks": ""
            },
            "type": "contourcarpet"
           }
          ],
          "heatmap": [
           {
            "colorbar": {
             "outlinewidth": 0,
             "ticks": ""
            },
            "colorscale": [
             [
              0,
              "#0d0887"
             ],
             [
              0.1111111111111111,
              "#46039f"
             ],
             [
              0.2222222222222222,
              "#7201a8"
             ],
             [
              0.3333333333333333,
              "#9c179e"
             ],
             [
              0.4444444444444444,
              "#bd3786"
             ],
             [
              0.5555555555555556,
              "#d8576b"
             ],
             [
              0.6666666666666666,
              "#ed7953"
             ],
             [
              0.7777777777777778,
              "#fb9f3a"
             ],
             [
              0.8888888888888888,
              "#fdca26"
             ],
             [
              1,
              "#f0f921"
             ]
            ],
            "type": "heatmap"
           }
          ],
          "heatmapgl": [
           {
            "colorbar": {
             "outlinewidth": 0,
             "ticks": ""
            },
            "colorscale": [
             [
              0,
              "#0d0887"
             ],
             [
              0.1111111111111111,
              "#46039f"
             ],
             [
              0.2222222222222222,
              "#7201a8"
             ],
             [
              0.3333333333333333,
              "#9c179e"
             ],
             [
              0.4444444444444444,
              "#bd3786"
             ],
             [
              0.5555555555555556,
              "#d8576b"
             ],
             [
              0.6666666666666666,
              "#ed7953"
             ],
             [
              0.7777777777777778,
              "#fb9f3a"
             ],
             [
              0.8888888888888888,
              "#fdca26"
             ],
             [
              1,
              "#f0f921"
             ]
            ],
            "type": "heatmapgl"
           }
          ],
          "histogram": [
           {
            "marker": {
             "pattern": {
              "fillmode": "overlay",
              "size": 10,
              "solidity": 0.2
             }
            },
            "type": "histogram"
           }
          ],
          "histogram2d": [
           {
            "colorbar": {
             "outlinewidth": 0,
             "ticks": ""
            },
            "colorscale": [
             [
              0,
              "#0d0887"
             ],
             [
              0.1111111111111111,
              "#46039f"
             ],
             [
              0.2222222222222222,
              "#7201a8"
             ],
             [
              0.3333333333333333,
              "#9c179e"
             ],
             [
              0.4444444444444444,
              "#bd3786"
             ],
             [
              0.5555555555555556,
              "#d8576b"
             ],
             [
              0.6666666666666666,
              "#ed7953"
             ],
             [
              0.7777777777777778,
              "#fb9f3a"
             ],
             [
              0.8888888888888888,
              "#fdca26"
             ],
             [
              1,
              "#f0f921"
             ]
            ],
            "type": "histogram2d"
           }
          ],
          "histogram2dcontour": [
           {
            "colorbar": {
             "outlinewidth": 0,
             "ticks": ""
            },
            "colorscale": [
             [
              0,
              "#0d0887"
             ],
             [
              0.1111111111111111,
              "#46039f"
             ],
             [
              0.2222222222222222,
              "#7201a8"
             ],
             [
              0.3333333333333333,
              "#9c179e"
             ],
             [
              0.4444444444444444,
              "#bd3786"
             ],
             [
              0.5555555555555556,
              "#d8576b"
             ],
             [
              0.6666666666666666,
              "#ed7953"
             ],
             [
              0.7777777777777778,
              "#fb9f3a"
             ],
             [
              0.8888888888888888,
              "#fdca26"
             ],
             [
              1,
              "#f0f921"
             ]
            ],
            "type": "histogram2dcontour"
           }
          ],
          "mesh3d": [
           {
            "colorbar": {
             "outlinewidth": 0,
             "ticks": ""
            },
            "type": "mesh3d"
           }
          ],
          "parcoords": [
           {
            "line": {
             "colorbar": {
              "outlinewidth": 0,
              "ticks": ""
             }
            },
            "type": "parcoords"
           }
          ],
          "pie": [
           {
            "automargin": true,
            "type": "pie"
           }
          ],
          "scatter": [
           {
            "fillpattern": {
             "fillmode": "overlay",
             "size": 10,
             "solidity": 0.2
            },
            "type": "scatter"
           }
          ],
          "scatter3d": [
           {
            "line": {
             "colorbar": {
              "outlinewidth": 0,
              "ticks": ""
             }
            },
            "marker": {
             "colorbar": {
              "outlinewidth": 0,
              "ticks": ""
             }
            },
            "type": "scatter3d"
           }
          ],
          "scattercarpet": [
           {
            "marker": {
             "colorbar": {
              "outlinewidth": 0,
              "ticks": ""
             }
            },
            "type": "scattercarpet"
           }
          ],
          "scattergeo": [
           {
            "marker": {
             "colorbar": {
              "outlinewidth": 0,
              "ticks": ""
             }
            },
            "type": "scattergeo"
           }
          ],
          "scattergl": [
           {
            "marker": {
             "colorbar": {
              "outlinewidth": 0,
              "ticks": ""
             }
            },
            "type": "scattergl"
           }
          ],
          "scattermapbox": [
           {
            "marker": {
             "colorbar": {
              "outlinewidth": 0,
              "ticks": ""
             }
            },
            "type": "scattermapbox"
           }
          ],
          "scatterpolar": [
           {
            "marker": {
             "colorbar": {
              "outlinewidth": 0,
              "ticks": ""
             }
            },
            "type": "scatterpolar"
           }
          ],
          "scatterpolargl": [
           {
            "marker": {
             "colorbar": {
              "outlinewidth": 0,
              "ticks": ""
             }
            },
            "type": "scatterpolargl"
           }
          ],
          "scatterternary": [
           {
            "marker": {
             "colorbar": {
              "outlinewidth": 0,
              "ticks": ""
             }
            },
            "type": "scatterternary"
           }
          ],
          "surface": [
           {
            "colorbar": {
             "outlinewidth": 0,
             "ticks": ""
            },
            "colorscale": [
             [
              0,
              "#0d0887"
             ],
             [
              0.1111111111111111,
              "#46039f"
             ],
             [
              0.2222222222222222,
              "#7201a8"
             ],
             [
              0.3333333333333333,
              "#9c179e"
             ],
             [
              0.4444444444444444,
              "#bd3786"
             ],
             [
              0.5555555555555556,
              "#d8576b"
             ],
             [
              0.6666666666666666,
              "#ed7953"
             ],
             [
              0.7777777777777778,
              "#fb9f3a"
             ],
             [
              0.8888888888888888,
              "#fdca26"
             ],
             [
              1,
              "#f0f921"
             ]
            ],
            "type": "surface"
           }
          ],
          "table": [
           {
            "cells": {
             "fill": {
              "color": "#EBF0F8"
             },
             "line": {
              "color": "white"
             }
            },
            "header": {
             "fill": {
              "color": "#C8D4E3"
             },
             "line": {
              "color": "white"
             }
            },
            "type": "table"
           }
          ]
         },
         "layout": {
          "annotationdefaults": {
           "arrowcolor": "#2a3f5f",
           "arrowhead": 0,
           "arrowwidth": 1
          },
          "autotypenumbers": "strict",
          "coloraxis": {
           "colorbar": {
            "outlinewidth": 0,
            "ticks": ""
           }
          },
          "colorscale": {
           "diverging": [
            [
             0,
             "#8e0152"
            ],
            [
             0.1,
             "#c51b7d"
            ],
            [
             0.2,
             "#de77ae"
            ],
            [
             0.3,
             "#f1b6da"
            ],
            [
             0.4,
             "#fde0ef"
            ],
            [
             0.5,
             "#f7f7f7"
            ],
            [
             0.6,
             "#e6f5d0"
            ],
            [
             0.7,
             "#b8e186"
            ],
            [
             0.8,
             "#7fbc41"
            ],
            [
             0.9,
             "#4d9221"
            ],
            [
             1,
             "#276419"
            ]
           ],
           "sequential": [
            [
             0,
             "#0d0887"
            ],
            [
             0.1111111111111111,
             "#46039f"
            ],
            [
             0.2222222222222222,
             "#7201a8"
            ],
            [
             0.3333333333333333,
             "#9c179e"
            ],
            [
             0.4444444444444444,
             "#bd3786"
            ],
            [
             0.5555555555555556,
             "#d8576b"
            ],
            [
             0.6666666666666666,
             "#ed7953"
            ],
            [
             0.7777777777777778,
             "#fb9f3a"
            ],
            [
             0.8888888888888888,
             "#fdca26"
            ],
            [
             1,
             "#f0f921"
            ]
           ],
           "sequentialminus": [
            [
             0,
             "#0d0887"
            ],
            [
             0.1111111111111111,
             "#46039f"
            ],
            [
             0.2222222222222222,
             "#7201a8"
            ],
            [
             0.3333333333333333,
             "#9c179e"
            ],
            [
             0.4444444444444444,
             "#bd3786"
            ],
            [
             0.5555555555555556,
             "#d8576b"
            ],
            [
             0.6666666666666666,
             "#ed7953"
            ],
            [
             0.7777777777777778,
             "#fb9f3a"
            ],
            [
             0.8888888888888888,
             "#fdca26"
            ],
            [
             1,
             "#f0f921"
            ]
           ]
          },
          "colorway": [
           "#636efa",
           "#EF553B",
           "#00cc96",
           "#ab63fa",
           "#FFA15A",
           "#19d3f3",
           "#FF6692",
           "#B6E880",
           "#FF97FF",
           "#FECB52"
          ],
          "font": {
           "color": "#2a3f5f"
          },
          "geo": {
           "bgcolor": "white",
           "lakecolor": "white",
           "landcolor": "#E5ECF6",
           "showlakes": true,
           "showland": true,
           "subunitcolor": "white"
          },
          "hoverlabel": {
           "align": "left"
          },
          "hovermode": "closest",
          "mapbox": {
           "style": "light"
          },
          "paper_bgcolor": "white",
          "plot_bgcolor": "#E5ECF6",
          "polar": {
           "angularaxis": {
            "gridcolor": "white",
            "linecolor": "white",
            "ticks": ""
           },
           "bgcolor": "#E5ECF6",
           "radialaxis": {
            "gridcolor": "white",
            "linecolor": "white",
            "ticks": ""
           }
          },
          "scene": {
           "xaxis": {
            "backgroundcolor": "#E5ECF6",
            "gridcolor": "white",
            "gridwidth": 2,
            "linecolor": "white",
            "showbackground": true,
            "ticks": "",
            "zerolinecolor": "white"
           },
           "yaxis": {
            "backgroundcolor": "#E5ECF6",
            "gridcolor": "white",
            "gridwidth": 2,
            "linecolor": "white",
            "showbackground": true,
            "ticks": "",
            "zerolinecolor": "white"
           },
           "zaxis": {
            "backgroundcolor": "#E5ECF6",
            "gridcolor": "white",
            "gridwidth": 2,
            "linecolor": "white",
            "showbackground": true,
            "ticks": "",
            "zerolinecolor": "white"
           }
          },
          "shapedefaults": {
           "line": {
            "color": "#2a3f5f"
           }
          },
          "ternary": {
           "aaxis": {
            "gridcolor": "white",
            "linecolor": "white",
            "ticks": ""
           },
           "baxis": {
            "gridcolor": "white",
            "linecolor": "white",
            "ticks": ""
           },
           "bgcolor": "#E5ECF6",
           "caxis": {
            "gridcolor": "white",
            "linecolor": "white",
            "ticks": ""
           }
          },
          "title": {
           "x": 0.05
          },
          "xaxis": {
           "automargin": true,
           "gridcolor": "white",
           "linecolor": "white",
           "ticks": "",
           "title": {
            "standoff": 15
           },
           "zerolinecolor": "white",
           "zerolinewidth": 2
          },
          "yaxis": {
           "automargin": true,
           "gridcolor": "white",
           "linecolor": "white",
           "ticks": "",
           "title": {
            "standoff": 15
           },
           "zerolinecolor": "white",
           "zerolinewidth": 2
          }
         }
        },
        "title": {
         "text": "V1 injections scaled counts in Retrosplenial area subdivisions by hemisphere, p1-7 (n=3) and p7-13 (n=9) "
        },
        "xaxis": {
         "anchor": "y",
         "domain": [
          0,
          1
         ],
         "tickfont": {
          "size": 20
         },
         "title": {
          "font": {
           "size": 24
          },
          "text": "Subdivided region"
         }
        },
        "yaxis": {
         "anchor": "x",
         "domain": [
          0,
          1
         ],
         "tickfont": {
          "size": 18
         },
         "title": {
          "font": {
           "size": 24
          },
          "text": "scaled count"
         }
        }
       }
      }
     },
     "metadata": {},
     "output_type": "display_data"
    }
   ],
   "source": [
    "plot_scaledcount_zoomed_sub(\n",
    "    subdivided_rsc_grouped,\n",
    "    \"V1 injections scaled counts in Retrosplenial area subdivisions by hemisphere, p1-7 (n=3) and p7-13 (n=9) \",\n",
    ")"
   ]
  },
  {
   "cell_type": "code",
   "execution_count": 78,
   "id": "11d388cd",
   "metadata": {},
   "outputs": [
    {
     "data": {
      "application/vnd.plotly.v1+json": {
       "config": {
        "plotlyServerURL": "https://plot.ly"
       },
       "data": [
        {
         "alignmentgroup": "True",
         "hovertemplate": "age=p1-7<br>Subdivided region=%{x}<br>Count=%{y}<extra></extra>",
         "legendgroup": "p1-7",
         "marker": {
          "color": "darkorange"
         },
         "name": "p1-7",
         "notched": false,
         "offsetgroup": "p1-7",
         "orientation": "v",
         "showlegend": true,
         "type": "box",
         "x": [
          "Primary somatosensory area",
          "Primary somatosensory area",
          "Supplemental somatosensory area",
          "Supplemental somatosensory area",
          "Primary somatosensory area",
          "Primary somatosensory area",
          "Primary somatosensory area",
          "Primary somatosensory area",
          "Primary somatosensory area",
          "Primary somatosensory area",
          "Supplemental somatosensory area",
          "Primary somatosensory area",
          "Primary somatosensory area",
          "Primary somatosensory area",
          "Primary somatosensory area",
          "Primary somatosensory area",
          "Primary somatosensory area",
          "Primary somatosensory area",
          "Primary somatosensory area",
          "Primary somatosensory area",
          "Supplemental somatosensory area",
          "Primary somatosensory area",
          "Primary somatosensory area",
          "Primary somatosensory area",
          "Primary somatosensory area"
         ],
         "x0": " ",
         "xaxis": "x",
         "y": [
          2,
          2,
          1,
          2,
          1,
          1,
          1,
          1,
          2,
          1,
          1,
          2,
          1,
          2,
          1,
          8,
          1,
          10,
          1,
          1,
          4,
          1,
          1,
          1,
          1
         ],
         "y0": " ",
         "yaxis": "y"
        },
        {
         "alignmentgroup": "True",
         "hovertemplate": "age=p7-13<br>Subdivided region=%{x}<br>Count=%{y}<extra></extra>",
         "legendgroup": "p7-13",
         "marker": {
          "color": "magenta"
         },
         "name": "p7-13",
         "notched": false,
         "offsetgroup": "p7-13",
         "orientation": "v",
         "showlegend": true,
         "type": "box",
         "x": [
          "Primary somatosensory area",
          "Primary somatosensory area",
          "Primary somatosensory area",
          "Primary somatosensory area",
          "Primary somatosensory area",
          "Primary somatosensory area",
          "Primary somatosensory area",
          "Primary somatosensory area",
          "Primary somatosensory area",
          "Primary somatosensory area",
          "Primary somatosensory area",
          "Primary somatosensory area",
          "Primary somatosensory area",
          "Primary somatosensory area",
          "Primary somatosensory area",
          "Primary somatosensory area",
          "Primary somatosensory area",
          "Primary somatosensory area",
          "Supplemental somatosensory area",
          "Primary somatosensory area",
          "Primary somatosensory area",
          "Primary somatosensory area",
          "Supplemental somatosensory area",
          "Primary somatosensory area",
          "Supplemental somatosensory area",
          "Primary somatosensory area",
          "Primary somatosensory area",
          "Primary somatosensory area",
          "Primary somatosensory area",
          "Primary somatosensory area",
          "Primary somatosensory area",
          "Primary somatosensory area",
          "Primary somatosensory area",
          "Primary somatosensory area",
          "Primary somatosensory area",
          "Primary somatosensory area",
          "Primary somatosensory area",
          "Primary somatosensory area",
          "Primary somatosensory area",
          "Primary somatosensory area",
          "Primary somatosensory area",
          "Primary somatosensory area",
          "Primary somatosensory area",
          "Supplemental somatosensory area",
          "Supplemental somatosensory area",
          "Primary somatosensory area",
          "Primary somatosensory area",
          "Supplemental somatosensory area",
          "Primary somatosensory area",
          "Primary somatosensory area",
          "Primary somatosensory area",
          "Supplemental somatosensory area",
          "Primary somatosensory area",
          "Primary somatosensory area",
          "Primary somatosensory area",
          "Supplemental somatosensory area",
          "Primary somatosensory area"
         ],
         "x0": " ",
         "xaxis": "x",
         "y": [
          1,
          1,
          4,
          1,
          1,
          1,
          1,
          2,
          1,
          1,
          1,
          1,
          1,
          1,
          2,
          1,
          5,
          4,
          1,
          1,
          1,
          1,
          7,
          1,
          2,
          1,
          1,
          10,
          6,
          3,
          18,
          1,
          4,
          2,
          1,
          1,
          2,
          1,
          1,
          4,
          1,
          1,
          1,
          10,
          1,
          1,
          3,
          13,
          2,
          2,
          2,
          21,
          1,
          1,
          1,
          1,
          2
         ],
         "y0": " ",
         "yaxis": "y"
        }
       ],
       "layout": {
        "boxmode": "group",
        "legend": {
         "font": {
          "size": 20
         },
         "title": {
          "text": "age"
         },
         "tracegroupgap": 0
        },
        "template": {
         "data": {
          "bar": [
           {
            "error_x": {
             "color": "#2a3f5f"
            },
            "error_y": {
             "color": "#2a3f5f"
            },
            "marker": {
             "line": {
              "color": "#E5ECF6",
              "width": 0.5
             },
             "pattern": {
              "fillmode": "overlay",
              "size": 10,
              "solidity": 0.2
             }
            },
            "type": "bar"
           }
          ],
          "barpolar": [
           {
            "marker": {
             "line": {
              "color": "#E5ECF6",
              "width": 0.5
             },
             "pattern": {
              "fillmode": "overlay",
              "size": 10,
              "solidity": 0.2
             }
            },
            "type": "barpolar"
           }
          ],
          "carpet": [
           {
            "aaxis": {
             "endlinecolor": "#2a3f5f",
             "gridcolor": "white",
             "linecolor": "white",
             "minorgridcolor": "white",
             "startlinecolor": "#2a3f5f"
            },
            "baxis": {
             "endlinecolor": "#2a3f5f",
             "gridcolor": "white",
             "linecolor": "white",
             "minorgridcolor": "white",
             "startlinecolor": "#2a3f5f"
            },
            "type": "carpet"
           }
          ],
          "choropleth": [
           {
            "colorbar": {
             "outlinewidth": 0,
             "ticks": ""
            },
            "type": "choropleth"
           }
          ],
          "contour": [
           {
            "colorbar": {
             "outlinewidth": 0,
             "ticks": ""
            },
            "colorscale": [
             [
              0,
              "#0d0887"
             ],
             [
              0.1111111111111111,
              "#46039f"
             ],
             [
              0.2222222222222222,
              "#7201a8"
             ],
             [
              0.3333333333333333,
              "#9c179e"
             ],
             [
              0.4444444444444444,
              "#bd3786"
             ],
             [
              0.5555555555555556,
              "#d8576b"
             ],
             [
              0.6666666666666666,
              "#ed7953"
             ],
             [
              0.7777777777777778,
              "#fb9f3a"
             ],
             [
              0.8888888888888888,
              "#fdca26"
             ],
             [
              1,
              "#f0f921"
             ]
            ],
            "type": "contour"
           }
          ],
          "contourcarpet": [
           {
            "colorbar": {
             "outlinewidth": 0,
             "ticks": ""
            },
            "type": "contourcarpet"
           }
          ],
          "heatmap": [
           {
            "colorbar": {
             "outlinewidth": 0,
             "ticks": ""
            },
            "colorscale": [
             [
              0,
              "#0d0887"
             ],
             [
              0.1111111111111111,
              "#46039f"
             ],
             [
              0.2222222222222222,
              "#7201a8"
             ],
             [
              0.3333333333333333,
              "#9c179e"
             ],
             [
              0.4444444444444444,
              "#bd3786"
             ],
             [
              0.5555555555555556,
              "#d8576b"
             ],
             [
              0.6666666666666666,
              "#ed7953"
             ],
             [
              0.7777777777777778,
              "#fb9f3a"
             ],
             [
              0.8888888888888888,
              "#fdca26"
             ],
             [
              1,
              "#f0f921"
             ]
            ],
            "type": "heatmap"
           }
          ],
          "heatmapgl": [
           {
            "colorbar": {
             "outlinewidth": 0,
             "ticks": ""
            },
            "colorscale": [
             [
              0,
              "#0d0887"
             ],
             [
              0.1111111111111111,
              "#46039f"
             ],
             [
              0.2222222222222222,
              "#7201a8"
             ],
             [
              0.3333333333333333,
              "#9c179e"
             ],
             [
              0.4444444444444444,
              "#bd3786"
             ],
             [
              0.5555555555555556,
              "#d8576b"
             ],
             [
              0.6666666666666666,
              "#ed7953"
             ],
             [
              0.7777777777777778,
              "#fb9f3a"
             ],
             [
              0.8888888888888888,
              "#fdca26"
             ],
             [
              1,
              "#f0f921"
             ]
            ],
            "type": "heatmapgl"
           }
          ],
          "histogram": [
           {
            "marker": {
             "pattern": {
              "fillmode": "overlay",
              "size": 10,
              "solidity": 0.2
             }
            },
            "type": "histogram"
           }
          ],
          "histogram2d": [
           {
            "colorbar": {
             "outlinewidth": 0,
             "ticks": ""
            },
            "colorscale": [
             [
              0,
              "#0d0887"
             ],
             [
              0.1111111111111111,
              "#46039f"
             ],
             [
              0.2222222222222222,
              "#7201a8"
             ],
             [
              0.3333333333333333,
              "#9c179e"
             ],
             [
              0.4444444444444444,
              "#bd3786"
             ],
             [
              0.5555555555555556,
              "#d8576b"
             ],
             [
              0.6666666666666666,
              "#ed7953"
             ],
             [
              0.7777777777777778,
              "#fb9f3a"
             ],
             [
              0.8888888888888888,
              "#fdca26"
             ],
             [
              1,
              "#f0f921"
             ]
            ],
            "type": "histogram2d"
           }
          ],
          "histogram2dcontour": [
           {
            "colorbar": {
             "outlinewidth": 0,
             "ticks": ""
            },
            "colorscale": [
             [
              0,
              "#0d0887"
             ],
             [
              0.1111111111111111,
              "#46039f"
             ],
             [
              0.2222222222222222,
              "#7201a8"
             ],
             [
              0.3333333333333333,
              "#9c179e"
             ],
             [
              0.4444444444444444,
              "#bd3786"
             ],
             [
              0.5555555555555556,
              "#d8576b"
             ],
             [
              0.6666666666666666,
              "#ed7953"
             ],
             [
              0.7777777777777778,
              "#fb9f3a"
             ],
             [
              0.8888888888888888,
              "#fdca26"
             ],
             [
              1,
              "#f0f921"
             ]
            ],
            "type": "histogram2dcontour"
           }
          ],
          "mesh3d": [
           {
            "colorbar": {
             "outlinewidth": 0,
             "ticks": ""
            },
            "type": "mesh3d"
           }
          ],
          "parcoords": [
           {
            "line": {
             "colorbar": {
              "outlinewidth": 0,
              "ticks": ""
             }
            },
            "type": "parcoords"
           }
          ],
          "pie": [
           {
            "automargin": true,
            "type": "pie"
           }
          ],
          "scatter": [
           {
            "fillpattern": {
             "fillmode": "overlay",
             "size": 10,
             "solidity": 0.2
            },
            "type": "scatter"
           }
          ],
          "scatter3d": [
           {
            "line": {
             "colorbar": {
              "outlinewidth": 0,
              "ticks": ""
             }
            },
            "marker": {
             "colorbar": {
              "outlinewidth": 0,
              "ticks": ""
             }
            },
            "type": "scatter3d"
           }
          ],
          "scattercarpet": [
           {
            "marker": {
             "colorbar": {
              "outlinewidth": 0,
              "ticks": ""
             }
            },
            "type": "scattercarpet"
           }
          ],
          "scattergeo": [
           {
            "marker": {
             "colorbar": {
              "outlinewidth": 0,
              "ticks": ""
             }
            },
            "type": "scattergeo"
           }
          ],
          "scattergl": [
           {
            "marker": {
             "colorbar": {
              "outlinewidth": 0,
              "ticks": ""
             }
            },
            "type": "scattergl"
           }
          ],
          "scattermapbox": [
           {
            "marker": {
             "colorbar": {
              "outlinewidth": 0,
              "ticks": ""
             }
            },
            "type": "scattermapbox"
           }
          ],
          "scatterpolar": [
           {
            "marker": {
             "colorbar": {
              "outlinewidth": 0,
              "ticks": ""
             }
            },
            "type": "scatterpolar"
           }
          ],
          "scatterpolargl": [
           {
            "marker": {
             "colorbar": {
              "outlinewidth": 0,
              "ticks": ""
             }
            },
            "type": "scatterpolargl"
           }
          ],
          "scatterternary": [
           {
            "marker": {
             "colorbar": {
              "outlinewidth": 0,
              "ticks": ""
             }
            },
            "type": "scatterternary"
           }
          ],
          "surface": [
           {
            "colorbar": {
             "outlinewidth": 0,
             "ticks": ""
            },
            "colorscale": [
             [
              0,
              "#0d0887"
             ],
             [
              0.1111111111111111,
              "#46039f"
             ],
             [
              0.2222222222222222,
              "#7201a8"
             ],
             [
              0.3333333333333333,
              "#9c179e"
             ],
             [
              0.4444444444444444,
              "#bd3786"
             ],
             [
              0.5555555555555556,
              "#d8576b"
             ],
             [
              0.6666666666666666,
              "#ed7953"
             ],
             [
              0.7777777777777778,
              "#fb9f3a"
             ],
             [
              0.8888888888888888,
              "#fdca26"
             ],
             [
              1,
              "#f0f921"
             ]
            ],
            "type": "surface"
           }
          ],
          "table": [
           {
            "cells": {
             "fill": {
              "color": "#EBF0F8"
             },
             "line": {
              "color": "white"
             }
            },
            "header": {
             "fill": {
              "color": "#C8D4E3"
             },
             "line": {
              "color": "white"
             }
            },
            "type": "table"
           }
          ]
         },
         "layout": {
          "annotationdefaults": {
           "arrowcolor": "#2a3f5f",
           "arrowhead": 0,
           "arrowwidth": 1
          },
          "autotypenumbers": "strict",
          "coloraxis": {
           "colorbar": {
            "outlinewidth": 0,
            "ticks": ""
           }
          },
          "colorscale": {
           "diverging": [
            [
             0,
             "#8e0152"
            ],
            [
             0.1,
             "#c51b7d"
            ],
            [
             0.2,
             "#de77ae"
            ],
            [
             0.3,
             "#f1b6da"
            ],
            [
             0.4,
             "#fde0ef"
            ],
            [
             0.5,
             "#f7f7f7"
            ],
            [
             0.6,
             "#e6f5d0"
            ],
            [
             0.7,
             "#b8e186"
            ],
            [
             0.8,
             "#7fbc41"
            ],
            [
             0.9,
             "#4d9221"
            ],
            [
             1,
             "#276419"
            ]
           ],
           "sequential": [
            [
             0,
             "#0d0887"
            ],
            [
             0.1111111111111111,
             "#46039f"
            ],
            [
             0.2222222222222222,
             "#7201a8"
            ],
            [
             0.3333333333333333,
             "#9c179e"
            ],
            [
             0.4444444444444444,
             "#bd3786"
            ],
            [
             0.5555555555555556,
             "#d8576b"
            ],
            [
             0.6666666666666666,
             "#ed7953"
            ],
            [
             0.7777777777777778,
             "#fb9f3a"
            ],
            [
             0.8888888888888888,
             "#fdca26"
            ],
            [
             1,
             "#f0f921"
            ]
           ],
           "sequentialminus": [
            [
             0,
             "#0d0887"
            ],
            [
             0.1111111111111111,
             "#46039f"
            ],
            [
             0.2222222222222222,
             "#7201a8"
            ],
            [
             0.3333333333333333,
             "#9c179e"
            ],
            [
             0.4444444444444444,
             "#bd3786"
            ],
            [
             0.5555555555555556,
             "#d8576b"
            ],
            [
             0.6666666666666666,
             "#ed7953"
            ],
            [
             0.7777777777777778,
             "#fb9f3a"
            ],
            [
             0.8888888888888888,
             "#fdca26"
            ],
            [
             1,
             "#f0f921"
            ]
           ]
          },
          "colorway": [
           "#636efa",
           "#EF553B",
           "#00cc96",
           "#ab63fa",
           "#FFA15A",
           "#19d3f3",
           "#FF6692",
           "#B6E880",
           "#FF97FF",
           "#FECB52"
          ],
          "font": {
           "color": "#2a3f5f"
          },
          "geo": {
           "bgcolor": "white",
           "lakecolor": "white",
           "landcolor": "#E5ECF6",
           "showlakes": true,
           "showland": true,
           "subunitcolor": "white"
          },
          "hoverlabel": {
           "align": "left"
          },
          "hovermode": "closest",
          "mapbox": {
           "style": "light"
          },
          "paper_bgcolor": "white",
          "plot_bgcolor": "#E5ECF6",
          "polar": {
           "angularaxis": {
            "gridcolor": "white",
            "linecolor": "white",
            "ticks": ""
           },
           "bgcolor": "#E5ECF6",
           "radialaxis": {
            "gridcolor": "white",
            "linecolor": "white",
            "ticks": ""
           }
          },
          "scene": {
           "xaxis": {
            "backgroundcolor": "#E5ECF6",
            "gridcolor": "white",
            "gridwidth": 2,
            "linecolor": "white",
            "showbackground": true,
            "ticks": "",
            "zerolinecolor": "white"
           },
           "yaxis": {
            "backgroundcolor": "#E5ECF6",
            "gridcolor": "white",
            "gridwidth": 2,
            "linecolor": "white",
            "showbackground": true,
            "ticks": "",
            "zerolinecolor": "white"
           },
           "zaxis": {
            "backgroundcolor": "#E5ECF6",
            "gridcolor": "white",
            "gridwidth": 2,
            "linecolor": "white",
            "showbackground": true,
            "ticks": "",
            "zerolinecolor": "white"
           }
          },
          "shapedefaults": {
           "line": {
            "color": "#2a3f5f"
           }
          },
          "ternary": {
           "aaxis": {
            "gridcolor": "white",
            "linecolor": "white",
            "ticks": ""
           },
           "baxis": {
            "gridcolor": "white",
            "linecolor": "white",
            "ticks": ""
           },
           "bgcolor": "#E5ECF6",
           "caxis": {
            "gridcolor": "white",
            "linecolor": "white",
            "ticks": ""
           }
          },
          "title": {
           "x": 0.05
          },
          "xaxis": {
           "automargin": true,
           "gridcolor": "white",
           "linecolor": "white",
           "ticks": "",
           "title": {
            "standoff": 15
           },
           "zerolinecolor": "white",
           "zerolinewidth": 2
          },
          "yaxis": {
           "automargin": true,
           "gridcolor": "white",
           "linecolor": "white",
           "ticks": "",
           "title": {
            "standoff": 15
           },
           "zerolinecolor": "white",
           "zerolinewidth": 2
          }
         }
        },
        "title": {
         "text": "Primary Somatosensory areas by hemisphere, p1-7 (n=3) and p7-13 (n=9)"
        },
        "xaxis": {
         "anchor": "y",
         "domain": [
          0,
          1
         ],
         "tickfont": {
          "size": 20
         },
         "title": {
          "font": {
           "size": 24
          },
          "text": "Subdivided region"
         }
        },
        "yaxis": {
         "anchor": "x",
         "domain": [
          0,
          1
         ],
         "tickfont": {
          "size": 18
         },
         "title": {
          "font": {
           "size": 24
          },
          "text": "Count"
         }
        }
       }
      }
     },
     "metadata": {},
     "output_type": "display_data"
    }
   ],
   "source": [
    "plot_count_zoomed_sub(\n",
    "    Somato_areas,\n",
    "    \"Primary Somatosensory areas by hemisphere, p1-7 (n=3) and p7-13 (n=9)\",\n",
    ")"
   ]
  },
  {
   "cell_type": "code",
   "execution_count": 79,
   "id": "0fffd7f6",
   "metadata": {},
   "outputs": [
    {
     "data": {
      "application/vnd.plotly.v1+json": {
       "config": {
        "plotlyServerURL": "https://plot.ly"
       },
       "data": [
        {
         "alignmentgroup": "True",
         "hovertemplate": "age=p1-7<br>Subdivided region=%{x}<br>scaled count=%{y}<extra></extra>",
         "legendgroup": "p1-7",
         "marker": {
          "color": "orange"
         },
         "name": "p1-7",
         "notched": false,
         "offsetgroup": "p1-7",
         "orientation": "v",
         "showlegend": true,
         "type": "box",
         "x": [
          "Primary somatosensory area",
          "Primary somatosensory area",
          "Supplemental somatosensory area",
          "Supplemental somatosensory area",
          "Primary somatosensory area",
          "Primary somatosensory area",
          "Primary somatosensory area",
          "Primary somatosensory area",
          "Primary somatosensory area",
          "Primary somatosensory area",
          "Supplemental somatosensory area",
          "Primary somatosensory area",
          "Primary somatosensory area",
          "Primary somatosensory area",
          "Primary somatosensory area",
          "Primary somatosensory area",
          "Primary somatosensory area",
          "Primary somatosensory area",
          "Primary somatosensory area",
          "Primary somatosensory area",
          "Supplemental somatosensory area",
          "Primary somatosensory area",
          "Primary somatosensory area",
          "Primary somatosensory area",
          "Primary somatosensory area"
         ],
         "x0": " ",
         "xaxis": "x",
         "y": [
          0.04112687641373638,
          0.04112687641373638,
          0.02056343820686819,
          0.04112687641373638,
          0.02056343820686819,
          0.02056343820686819,
          0.02056343820686819,
          0.02056343820686819,
          0.04112687641373638,
          0.02056343820686819,
          0.02056343820686819,
          0.003356493135971537,
          0.0016782465679857684,
          0.003356493135971537,
          0.0016782465679857684,
          0.013425972543886147,
          0.001453741931732279,
          0.014537419317322789,
          0.001453741931732279,
          0.001453741931732279,
          0.005814967726929116,
          0.001453741931732279,
          0.001453741931732279,
          0.001453741931732279,
          0.001453741931732279
         ],
         "y0": " ",
         "yaxis": "y"
        },
        {
         "alignmentgroup": "True",
         "hovertemplate": "age=p7-13<br>Subdivided region=%{x}<br>scaled count=%{y}<extra></extra>",
         "legendgroup": "p7-13",
         "marker": {
          "color": "magenta"
         },
         "name": "p7-13",
         "notched": false,
         "offsetgroup": "p7-13",
         "orientation": "v",
         "showlegend": true,
         "type": "box",
         "x": [
          "Primary somatosensory area",
          "Primary somatosensory area",
          "Primary somatosensory area",
          "Primary somatosensory area",
          "Primary somatosensory area",
          "Primary somatosensory area",
          "Primary somatosensory area",
          "Primary somatosensory area",
          "Primary somatosensory area",
          "Primary somatosensory area",
          "Primary somatosensory area",
          "Primary somatosensory area",
          "Primary somatosensory area",
          "Primary somatosensory area",
          "Primary somatosensory area",
          "Primary somatosensory area",
          "Primary somatosensory area",
          "Primary somatosensory area",
          "Supplemental somatosensory area",
          "Primary somatosensory area",
          "Primary somatosensory area",
          "Primary somatosensory area",
          "Supplemental somatosensory area",
          "Primary somatosensory area",
          "Supplemental somatosensory area",
          "Primary somatosensory area",
          "Primary somatosensory area",
          "Primary somatosensory area",
          "Primary somatosensory area",
          "Primary somatosensory area",
          "Primary somatosensory area",
          "Primary somatosensory area",
          "Primary somatosensory area",
          "Primary somatosensory area",
          "Primary somatosensory area",
          "Primary somatosensory area",
          "Primary somatosensory area",
          "Primary somatosensory area",
          "Primary somatosensory area",
          "Primary somatosensory area",
          "Primary somatosensory area",
          "Primary somatosensory area",
          "Primary somatosensory area",
          "Supplemental somatosensory area",
          "Supplemental somatosensory area",
          "Primary somatosensory area",
          "Primary somatosensory area",
          "Supplemental somatosensory area",
          "Primary somatosensory area",
          "Primary somatosensory area",
          "Primary somatosensory area",
          "Supplemental somatosensory area",
          "Primary somatosensory area",
          "Primary somatosensory area",
          "Primary somatosensory area",
          "Supplemental somatosensory area",
          "Primary somatosensory area"
         ],
         "x0": " ",
         "xaxis": "x",
         "y": [
          0.018656716417910446,
          0.018656716417910446,
          0.07462686567164178,
          0.018656716417910446,
          0.018656716417910446,
          0.018656716417910446,
          0.010215548064153642,
          0.020431096128307284,
          0.010215548064153642,
          0.010215548064153642,
          0.010215548064153642,
          0.010215548064153642,
          0.010215548064153642,
          0.010215548064153642,
          0.020431096128307284,
          0.010215548064153642,
          0.051077740320768214,
          0.04086219225661457,
          0.010215548064153642,
          0.025310048089091368,
          0.025310048089091368,
          0.025310048089091368,
          0.04031097034264325,
          0.005758710048949035,
          0.01151742009789807,
          0.005758710048949035,
          0.005758710048949035,
          0.05758710048949035,
          0.03455226029369421,
          0.017276130146847105,
          0.10365678088108263,
          0.005758710048949035,
          0.02303484019579614,
          0.01151742009789807,
          0.046620046620046623,
          0.046620046620046623,
          0.09324009324009325,
          0.018656716417910446,
          0.018656716417910446,
          0.07462686567164178,
          0.018656716417910446,
          0.018656716417910446,
          0.018656716417910446,
          0.8116883116883117,
          0.08116883116883117,
          0.08116883116883117,
          0.2435064935064935,
          1.0551948051948052,
          0.16233766233766234,
          0.16233766233766234,
          0.16233766233766234,
          1.7045454545454546,
          0.08116883116883117,
          0.08116883116883117,
          0.012132977432661975,
          0.012132977432661975,
          0.02426595486532395
         ],
         "y0": " ",
         "yaxis": "y"
        }
       ],
       "layout": {
        "boxmode": "group",
        "legend": {
         "font": {
          "size": 20
         },
         "title": {
          "text": "age"
         },
         "tracegroupgap": 0
        },
        "template": {
         "data": {
          "bar": [
           {
            "error_x": {
             "color": "#2a3f5f"
            },
            "error_y": {
             "color": "#2a3f5f"
            },
            "marker": {
             "line": {
              "color": "#E5ECF6",
              "width": 0.5
             },
             "pattern": {
              "fillmode": "overlay",
              "size": 10,
              "solidity": 0.2
             }
            },
            "type": "bar"
           }
          ],
          "barpolar": [
           {
            "marker": {
             "line": {
              "color": "#E5ECF6",
              "width": 0.5
             },
             "pattern": {
              "fillmode": "overlay",
              "size": 10,
              "solidity": 0.2
             }
            },
            "type": "barpolar"
           }
          ],
          "carpet": [
           {
            "aaxis": {
             "endlinecolor": "#2a3f5f",
             "gridcolor": "white",
             "linecolor": "white",
             "minorgridcolor": "white",
             "startlinecolor": "#2a3f5f"
            },
            "baxis": {
             "endlinecolor": "#2a3f5f",
             "gridcolor": "white",
             "linecolor": "white",
             "minorgridcolor": "white",
             "startlinecolor": "#2a3f5f"
            },
            "type": "carpet"
           }
          ],
          "choropleth": [
           {
            "colorbar": {
             "outlinewidth": 0,
             "ticks": ""
            },
            "type": "choropleth"
           }
          ],
          "contour": [
           {
            "colorbar": {
             "outlinewidth": 0,
             "ticks": ""
            },
            "colorscale": [
             [
              0,
              "#0d0887"
             ],
             [
              0.1111111111111111,
              "#46039f"
             ],
             [
              0.2222222222222222,
              "#7201a8"
             ],
             [
              0.3333333333333333,
              "#9c179e"
             ],
             [
              0.4444444444444444,
              "#bd3786"
             ],
             [
              0.5555555555555556,
              "#d8576b"
             ],
             [
              0.6666666666666666,
              "#ed7953"
             ],
             [
              0.7777777777777778,
              "#fb9f3a"
             ],
             [
              0.8888888888888888,
              "#fdca26"
             ],
             [
              1,
              "#f0f921"
             ]
            ],
            "type": "contour"
           }
          ],
          "contourcarpet": [
           {
            "colorbar": {
             "outlinewidth": 0,
             "ticks": ""
            },
            "type": "contourcarpet"
           }
          ],
          "heatmap": [
           {
            "colorbar": {
             "outlinewidth": 0,
             "ticks": ""
            },
            "colorscale": [
             [
              0,
              "#0d0887"
             ],
             [
              0.1111111111111111,
              "#46039f"
             ],
             [
              0.2222222222222222,
              "#7201a8"
             ],
             [
              0.3333333333333333,
              "#9c179e"
             ],
             [
              0.4444444444444444,
              "#bd3786"
             ],
             [
              0.5555555555555556,
              "#d8576b"
             ],
             [
              0.6666666666666666,
              "#ed7953"
             ],
             [
              0.7777777777777778,
              "#fb9f3a"
             ],
             [
              0.8888888888888888,
              "#fdca26"
             ],
             [
              1,
              "#f0f921"
             ]
            ],
            "type": "heatmap"
           }
          ],
          "heatmapgl": [
           {
            "colorbar": {
             "outlinewidth": 0,
             "ticks": ""
            },
            "colorscale": [
             [
              0,
              "#0d0887"
             ],
             [
              0.1111111111111111,
              "#46039f"
             ],
             [
              0.2222222222222222,
              "#7201a8"
             ],
             [
              0.3333333333333333,
              "#9c179e"
             ],
             [
              0.4444444444444444,
              "#bd3786"
             ],
             [
              0.5555555555555556,
              "#d8576b"
             ],
             [
              0.6666666666666666,
              "#ed7953"
             ],
             [
              0.7777777777777778,
              "#fb9f3a"
             ],
             [
              0.8888888888888888,
              "#fdca26"
             ],
             [
              1,
              "#f0f921"
             ]
            ],
            "type": "heatmapgl"
           }
          ],
          "histogram": [
           {
            "marker": {
             "pattern": {
              "fillmode": "overlay",
              "size": 10,
              "solidity": 0.2
             }
            },
            "type": "histogram"
           }
          ],
          "histogram2d": [
           {
            "colorbar": {
             "outlinewidth": 0,
             "ticks": ""
            },
            "colorscale": [
             [
              0,
              "#0d0887"
             ],
             [
              0.1111111111111111,
              "#46039f"
             ],
             [
              0.2222222222222222,
              "#7201a8"
             ],
             [
              0.3333333333333333,
              "#9c179e"
             ],
             [
              0.4444444444444444,
              "#bd3786"
             ],
             [
              0.5555555555555556,
              "#d8576b"
             ],
             [
              0.6666666666666666,
              "#ed7953"
             ],
             [
              0.7777777777777778,
              "#fb9f3a"
             ],
             [
              0.8888888888888888,
              "#fdca26"
             ],
             [
              1,
              "#f0f921"
             ]
            ],
            "type": "histogram2d"
           }
          ],
          "histogram2dcontour": [
           {
            "colorbar": {
             "outlinewidth": 0,
             "ticks": ""
            },
            "colorscale": [
             [
              0,
              "#0d0887"
             ],
             [
              0.1111111111111111,
              "#46039f"
             ],
             [
              0.2222222222222222,
              "#7201a8"
             ],
             [
              0.3333333333333333,
              "#9c179e"
             ],
             [
              0.4444444444444444,
              "#bd3786"
             ],
             [
              0.5555555555555556,
              "#d8576b"
             ],
             [
              0.6666666666666666,
              "#ed7953"
             ],
             [
              0.7777777777777778,
              "#fb9f3a"
             ],
             [
              0.8888888888888888,
              "#fdca26"
             ],
             [
              1,
              "#f0f921"
             ]
            ],
            "type": "histogram2dcontour"
           }
          ],
          "mesh3d": [
           {
            "colorbar": {
             "outlinewidth": 0,
             "ticks": ""
            },
            "type": "mesh3d"
           }
          ],
          "parcoords": [
           {
            "line": {
             "colorbar": {
              "outlinewidth": 0,
              "ticks": ""
             }
            },
            "type": "parcoords"
           }
          ],
          "pie": [
           {
            "automargin": true,
            "type": "pie"
           }
          ],
          "scatter": [
           {
            "fillpattern": {
             "fillmode": "overlay",
             "size": 10,
             "solidity": 0.2
            },
            "type": "scatter"
           }
          ],
          "scatter3d": [
           {
            "line": {
             "colorbar": {
              "outlinewidth": 0,
              "ticks": ""
             }
            },
            "marker": {
             "colorbar": {
              "outlinewidth": 0,
              "ticks": ""
             }
            },
            "type": "scatter3d"
           }
          ],
          "scattercarpet": [
           {
            "marker": {
             "colorbar": {
              "outlinewidth": 0,
              "ticks": ""
             }
            },
            "type": "scattercarpet"
           }
          ],
          "scattergeo": [
           {
            "marker": {
             "colorbar": {
              "outlinewidth": 0,
              "ticks": ""
             }
            },
            "type": "scattergeo"
           }
          ],
          "scattergl": [
           {
            "marker": {
             "colorbar": {
              "outlinewidth": 0,
              "ticks": ""
             }
            },
            "type": "scattergl"
           }
          ],
          "scattermapbox": [
           {
            "marker": {
             "colorbar": {
              "outlinewidth": 0,
              "ticks": ""
             }
            },
            "type": "scattermapbox"
           }
          ],
          "scatterpolar": [
           {
            "marker": {
             "colorbar": {
              "outlinewidth": 0,
              "ticks": ""
             }
            },
            "type": "scatterpolar"
           }
          ],
          "scatterpolargl": [
           {
            "marker": {
             "colorbar": {
              "outlinewidth": 0,
              "ticks": ""
             }
            },
            "type": "scatterpolargl"
           }
          ],
          "scatterternary": [
           {
            "marker": {
             "colorbar": {
              "outlinewidth": 0,
              "ticks": ""
             }
            },
            "type": "scatterternary"
           }
          ],
          "surface": [
           {
            "colorbar": {
             "outlinewidth": 0,
             "ticks": ""
            },
            "colorscale": [
             [
              0,
              "#0d0887"
             ],
             [
              0.1111111111111111,
              "#46039f"
             ],
             [
              0.2222222222222222,
              "#7201a8"
             ],
             [
              0.3333333333333333,
              "#9c179e"
             ],
             [
              0.4444444444444444,
              "#bd3786"
             ],
             [
              0.5555555555555556,
              "#d8576b"
             ],
             [
              0.6666666666666666,
              "#ed7953"
             ],
             [
              0.7777777777777778,
              "#fb9f3a"
             ],
             [
              0.8888888888888888,
              "#fdca26"
             ],
             [
              1,
              "#f0f921"
             ]
            ],
            "type": "surface"
           }
          ],
          "table": [
           {
            "cells": {
             "fill": {
              "color": "#EBF0F8"
             },
             "line": {
              "color": "white"
             }
            },
            "header": {
             "fill": {
              "color": "#C8D4E3"
             },
             "line": {
              "color": "white"
             }
            },
            "type": "table"
           }
          ]
         },
         "layout": {
          "annotationdefaults": {
           "arrowcolor": "#2a3f5f",
           "arrowhead": 0,
           "arrowwidth": 1
          },
          "autotypenumbers": "strict",
          "coloraxis": {
           "colorbar": {
            "outlinewidth": 0,
            "ticks": ""
           }
          },
          "colorscale": {
           "diverging": [
            [
             0,
             "#8e0152"
            ],
            [
             0.1,
             "#c51b7d"
            ],
            [
             0.2,
             "#de77ae"
            ],
            [
             0.3,
             "#f1b6da"
            ],
            [
             0.4,
             "#fde0ef"
            ],
            [
             0.5,
             "#f7f7f7"
            ],
            [
             0.6,
             "#e6f5d0"
            ],
            [
             0.7,
             "#b8e186"
            ],
            [
             0.8,
             "#7fbc41"
            ],
            [
             0.9,
             "#4d9221"
            ],
            [
             1,
             "#276419"
            ]
           ],
           "sequential": [
            [
             0,
             "#0d0887"
            ],
            [
             0.1111111111111111,
             "#46039f"
            ],
            [
             0.2222222222222222,
             "#7201a8"
            ],
            [
             0.3333333333333333,
             "#9c179e"
            ],
            [
             0.4444444444444444,
             "#bd3786"
            ],
            [
             0.5555555555555556,
             "#d8576b"
            ],
            [
             0.6666666666666666,
             "#ed7953"
            ],
            [
             0.7777777777777778,
             "#fb9f3a"
            ],
            [
             0.8888888888888888,
             "#fdca26"
            ],
            [
             1,
             "#f0f921"
            ]
           ],
           "sequentialminus": [
            [
             0,
             "#0d0887"
            ],
            [
             0.1111111111111111,
             "#46039f"
            ],
            [
             0.2222222222222222,
             "#7201a8"
            ],
            [
             0.3333333333333333,
             "#9c179e"
            ],
            [
             0.4444444444444444,
             "#bd3786"
            ],
            [
             0.5555555555555556,
             "#d8576b"
            ],
            [
             0.6666666666666666,
             "#ed7953"
            ],
            [
             0.7777777777777778,
             "#fb9f3a"
            ],
            [
             0.8888888888888888,
             "#fdca26"
            ],
            [
             1,
             "#f0f921"
            ]
           ]
          },
          "colorway": [
           "#636efa",
           "#EF553B",
           "#00cc96",
           "#ab63fa",
           "#FFA15A",
           "#19d3f3",
           "#FF6692",
           "#B6E880",
           "#FF97FF",
           "#FECB52"
          ],
          "font": {
           "color": "#2a3f5f"
          },
          "geo": {
           "bgcolor": "white",
           "lakecolor": "white",
           "landcolor": "#E5ECF6",
           "showlakes": true,
           "showland": true,
           "subunitcolor": "white"
          },
          "hoverlabel": {
           "align": "left"
          },
          "hovermode": "closest",
          "mapbox": {
           "style": "light"
          },
          "paper_bgcolor": "white",
          "plot_bgcolor": "#E5ECF6",
          "polar": {
           "angularaxis": {
            "gridcolor": "white",
            "linecolor": "white",
            "ticks": ""
           },
           "bgcolor": "#E5ECF6",
           "radialaxis": {
            "gridcolor": "white",
            "linecolor": "white",
            "ticks": ""
           }
          },
          "scene": {
           "xaxis": {
            "backgroundcolor": "#E5ECF6",
            "gridcolor": "white",
            "gridwidth": 2,
            "linecolor": "white",
            "showbackground": true,
            "ticks": "",
            "zerolinecolor": "white"
           },
           "yaxis": {
            "backgroundcolor": "#E5ECF6",
            "gridcolor": "white",
            "gridwidth": 2,
            "linecolor": "white",
            "showbackground": true,
            "ticks": "",
            "zerolinecolor": "white"
           },
           "zaxis": {
            "backgroundcolor": "#E5ECF6",
            "gridcolor": "white",
            "gridwidth": 2,
            "linecolor": "white",
            "showbackground": true,
            "ticks": "",
            "zerolinecolor": "white"
           }
          },
          "shapedefaults": {
           "line": {
            "color": "#2a3f5f"
           }
          },
          "ternary": {
           "aaxis": {
            "gridcolor": "white",
            "linecolor": "white",
            "ticks": ""
           },
           "baxis": {
            "gridcolor": "white",
            "linecolor": "white",
            "ticks": ""
           },
           "bgcolor": "#E5ECF6",
           "caxis": {
            "gridcolor": "white",
            "linecolor": "white",
            "ticks": ""
           }
          },
          "title": {
           "x": 0.05
          },
          "xaxis": {
           "automargin": true,
           "gridcolor": "white",
           "linecolor": "white",
           "ticks": "",
           "title": {
            "standoff": 15
           },
           "zerolinecolor": "white",
           "zerolinewidth": 2
          },
          "yaxis": {
           "automargin": true,
           "gridcolor": "white",
           "linecolor": "white",
           "ticks": "",
           "title": {
            "standoff": 15
           },
           "zerolinecolor": "white",
           "zerolinewidth": 2
          }
         }
        },
        "title": {
         "text": ", Somatosensory areas, p1-7 (n=3) and p7-13 (n=9)"
        },
        "xaxis": {
         "anchor": "y",
         "domain": [
          0,
          1
         ],
         "tickfont": {
          "size": 20
         },
         "title": {
          "font": {
           "size": 24
          },
          "text": "Subdivided region"
         }
        },
        "yaxis": {
         "anchor": "x",
         "domain": [
          0,
          1
         ],
         "tickfont": {
          "size": 18
         },
         "title": {
          "font": {
           "size": 24
          },
          "text": "scaled count"
         }
        }
       }
      }
     },
     "metadata": {},
     "output_type": "display_data"
    }
   ],
   "source": [
    "plot_scaledcount_zoomed_sub(\n",
    "    Somato_areas, \", Somatosensory areas, p1-7 (n=3) and p7-13 (n=9)\"\n",
    ")"
   ]
  },
  {
   "cell_type": "code",
   "execution_count": 80,
   "id": "c13d54ce",
   "metadata": {},
   "outputs": [
    {
     "name": "stderr",
     "output_type": "stream",
     "text": [
      "C:\\Users\\sahet\\AppData\\Local\\Temp\\ipykernel_4068\\4166316725.py:16: FutureWarning:\n",
      "\n",
      "Setting an item of incompatible dtype is deprecated and will raise in a future error of pandas. Value 'mouth' has dtype incompatible with int64, please explicitly cast to a compatible dtype first.\n",
      "\n"
     ]
    },
    {
     "data": {
      "application/vnd.microsoft.datawrangler.viewer.v0+json": {
       "columns": [
        {
         "name": "index",
         "rawType": "object",
         "type": "unknown"
        },
        {
         "name": "Brain",
         "rawType": "object",
         "type": "string"
        },
        {
         "name": "Region ID",
         "rawType": "int64",
         "type": "integer"
        },
        {
         "name": "General area",
         "rawType": "object",
         "type": "string"
        },
        {
         "name": "Hemisphere",
         "rawType": "object",
         "type": "string"
        },
        {
         "name": "count",
         "rawType": "int64",
         "type": "integer"
        },
        {
         "name": "scaled count",
         "rawType": "float64",
         "type": "float"
        },
        {
         "name": "age",
         "rawType": "object",
         "type": "string"
        },
        {
         "name": "Subdivided",
         "rawType": "object",
         "type": "string"
        },
        {
         "name": "Special Interest",
         "rawType": "object",
         "type": "string"
        }
       ],
       "ref": "efe6ca0a-8a2c-4f3b-bc79-d9d4b43592de",
       "rows": [
        [
         "33",
         "n3_20241010_p1_7",
         "1102",
         "Somatosensory areas",
         "ipsilateral",
         "2",
         "0.04112687641373638",
         "p1-7",
         "Primary somatosensory area",
         "mouth"
        ],
        [
         "38",
         "n3_20241010_p1_7",
         "854",
         "Somatosensory areas",
         "ipsilateral",
         "2",
         "0.04112687641373638",
         "p1-7",
         "Primary somatosensory area",
         "upper limb"
        ],
        [
         "48",
         "n3_20241010_p1_7",
         "201",
         "Somatosensory areas",
         "contralateral",
         "1",
         "0.02056343820686819",
         "p1-7",
         "Primary somatosensory area",
         "S1BF"
        ],
        [
         "50",
         "n3_20241010_p1_7",
         "478",
         "Somatosensory areas",
         "contralateral",
         "1",
         "0.02056343820686819",
         "p1-7",
         "Primary somatosensory area",
         "lower limb"
        ],
        [
         "58",
         "n3_20241010_p1_7",
         "1030",
         "Somatosensory areas",
         "ipsilateral",
         "1",
         "0.02056343820686819",
         "p1-7",
         "Primary somatosensory area",
         "lower limb"
        ],
        [
         "71",
         "n3_20241010_p1_7",
         "1038",
         "Somatosensory areas",
         "ipsilateral",
         "1",
         "0.02056343820686819",
         "p1-7",
         "Primary somatosensory area",
         "S1BF"
        ],
        [
         "77",
         "n3_20241010_p1_7",
         "1047",
         "Somatosensory areas",
         "ipsilateral",
         "1",
         "0.02056343820686819",
         "p1-7",
         "Primary somatosensory area",
         "S1BF"
        ],
        [
         "83",
         "n3_20241010_p1_7",
         "182305713",
         "Somatosensory areas",
         "ipsilateral",
         "1",
         "0.02056343820686819",
         "p1-7",
         "Primary somatosensory area",
         "unassigned"
        ],
        [
         "92",
         "n3_20241010_p1_7",
         "670",
         "Somatosensory areas",
         "ipsilateral",
         "2",
         "0.04112687641373638",
         "p1-7",
         "Primary somatosensory area",
         "trunk"
        ],
        [
         "98",
         "n3_20241010_p1_7",
         "1070",
         "Somatosensory areas",
         "ipsilateral",
         "1",
         "0.02056343820686819",
         "p1-7",
         "Primary somatosensory area",
         "S1BF"
        ],
        [
         "235",
         "n3_20241010_p1_7",
         "1026",
         "Somatosensory areas",
         "contralateral",
         "1",
         "0.02056343820686819",
         "p1-7",
         "Primary somatosensory area",
         "upper limb"
        ],
        [
         "238",
         "n3_20241010_p1_7",
         "945",
         "Somatosensory areas",
         "contralateral",
         "2",
         "0.04112687641373638",
         "p1-7",
         "Primary somatosensory area",
         "upper limb"
        ],
        [
         "243",
         "n3_20241010_p1_7",
         "981",
         "Somatosensory areas",
         "contralateral",
         "4",
         "0.08225375282747276",
         "p1-7",
         "Primary somatosensory area",
         "S1BF"
        ],
        [
         "245",
         "n3_20241010_p1_7",
         "510",
         "Somatosensory areas",
         "contralateral",
         "1",
         "0.02056343820686819",
         "p1-7",
         "Primary somatosensory area",
         "lower limb"
        ],
        [
         "330",
         "n11_20241103_p1_7",
         "878",
         "Somatosensory areas",
         "contralateral",
         "16",
         "0.026851945087772295",
         "p1-7",
         "Primary somatosensory area",
         "mouth"
        ],
        [
         "335",
         "n11_20241103_p1_7",
         "657",
         "Somatosensory areas",
         "contralateral",
         "11",
         "0.01846071224784345",
         "p1-7",
         "Primary somatosensory area",
         "mouth"
        ],
        [
         "340",
         "n11_20241103_p1_7",
         "974",
         "Somatosensory areas",
         "contralateral",
         "6",
         "0.010069479407914611",
         "p1-7",
         "Primary somatosensory area",
         "mouth"
        ],
        [
         "347",
         "n11_20241103_p1_7",
         "1102",
         "Somatosensory areas",
         "contralateral",
         "38",
         "0.0637733695834592",
         "p1-7",
         "Primary somatosensory area",
         "mouth"
        ],
        [
         "350",
         "n11_20241103_p1_7",
         "950",
         "Somatosensory areas",
         "contralateral",
         "5",
         "0.008391232839928842",
         "p1-7",
         "Primary somatosensory area",
         "mouth"
        ],
        [
         "356",
         "n11_20241103_p1_7",
         "945",
         "Somatosensory areas",
         "contralateral",
         "12",
         "0.020138958815829222",
         "p1-7",
         "Primary somatosensory area",
         "upper limb"
        ],
        [
         "360",
         "n11_20241103_p1_7",
         "450",
         "Somatosensory areas",
         "contralateral",
         "3",
         "0.0050347397039573055",
         "p1-7",
         "Primary somatosensory area",
         "upper limb"
        ],
        [
         "374",
         "n11_20241103_p1_7",
         "654",
         "Somatosensory areas",
         "contralateral",
         "15",
         "0.025173698519786528",
         "p1-7",
         "Primary somatosensory area",
         "nose"
        ],
        [
         "376",
         "n11_20241103_p1_7",
         "558",
         "Somatosensory areas",
         "contralateral",
         "14",
         "0.023495451951800757",
         "p1-7",
         "Primary somatosensory area",
         "nose"
        ],
        [
         "379",
         "n11_20241103_p1_7",
         "182305697",
         "Somatosensory areas",
         "contralateral",
         "10",
         "0.016782465679857684",
         "p1-7",
         "Primary somatosensory area",
         "unassigned"
        ],
        [
         "380",
         "n11_20241103_p1_7",
         "1094",
         "Somatosensory areas",
         "contralateral",
         "2",
         "0.003356493135971537",
         "p1-7",
         "Primary somatosensory area",
         "lower limb"
        ],
        [
         "381",
         "n11_20241103_p1_7",
         "1030",
         "Somatosensory areas",
         "ipsilateral",
         "2",
         "0.003356493135971537",
         "p1-7",
         "Primary somatosensory area",
         "lower limb"
        ],
        [
         "383",
         "n11_20241103_p1_7",
         "854",
         "Somatosensory areas",
         "contralateral",
         "5",
         "0.008391232839928842",
         "p1-7",
         "Primary somatosensory area",
         "upper limb"
        ],
        [
         "384",
         "n11_20241103_p1_7",
         "838",
         "Somatosensory areas",
         "contralateral",
         "12",
         "0.020138958815829222",
         "p1-7",
         "Primary somatosensory area",
         "nose"
        ],
        [
         "385",
         "n11_20241103_p1_7",
         "702",
         "Somatosensory areas",
         "contralateral",
         "13",
         "0.02181720538381499",
         "p1-7",
         "Primary somatosensory area",
         "nose"
        ],
        [
         "390",
         "n11_20241103_p1_7",
         "113",
         "Somatosensory areas",
         "ipsilateral",
         "1",
         "0.0016782465679857684",
         "p1-7",
         "Primary somatosensory area",
         "lower limb"
        ],
        [
         "392",
         "n11_20241103_p1_7",
         "478",
         "Somatosensory areas",
         "contralateral",
         "13",
         "0.02181720538381499",
         "p1-7",
         "Primary somatosensory area",
         "lower limb"
        ],
        [
         "394",
         "n11_20241103_p1_7",
         "889",
         "Somatosensory areas",
         "contralateral",
         "17",
         "0.028530191655758062",
         "p1-7",
         "Primary somatosensory area",
         "nose"
        ],
        [
         "395",
         "n11_20241103_p1_7",
         "182305705",
         "Somatosensory areas",
         "contralateral",
         "7",
         "0.011747725975900378",
         "p1-7",
         "Primary somatosensory area",
         "unassigned"
        ],
        [
         "398",
         "n11_20241103_p1_7",
         "1047",
         "Somatosensory areas",
         "contralateral",
         "12",
         "0.020138958815829222",
         "p1-7",
         "Primary somatosensory area",
         "S1BF"
        ],
        [
         "400",
         "n11_20241103_p1_7",
         "182305701",
         "Somatosensory areas",
         "contralateral",
         "1",
         "0.0016782465679857684",
         "p1-7",
         "Primary somatosensory area",
         "unassigned"
        ],
        [
         "401",
         "n11_20241103_p1_7",
         "1128",
         "Somatosensory areas",
         "contralateral",
         "7",
         "0.011747725975900378",
         "p1-7",
         "Primary somatosensory area",
         "lower limb"
        ],
        [
         "405",
         "n11_20241103_p1_7",
         "182305709",
         "Somatosensory areas",
         "contralateral",
         "1",
         "0.0016782465679857684",
         "p1-7",
         "Primary somatosensory area",
         "unassigned"
        ],
        [
         "407",
         "n11_20241103_p1_7",
         "201",
         "Somatosensory areas",
         "contralateral",
         "22",
         "0.0369214244956869",
         "p1-7",
         "Primary somatosensory area",
         "S1BF"
        ],
        [
         "408",
         "n11_20241103_p1_7",
         "625",
         "Somatosensory areas",
         "contralateral",
         "2",
         "0.003356493135971537",
         "p1-7",
         "Primary somatosensory area",
         "upper limb"
        ],
        [
         "411",
         "n11_20241103_p1_7",
         "981",
         "Somatosensory areas",
         "contralateral",
         "9",
         "0.015104219111871917",
         "p1-7",
         "Primary somatosensory area",
         "S1BF"
        ],
        [
         "416",
         "n11_20241103_p1_7",
         "1038",
         "Somatosensory areas",
         "contralateral",
         "9",
         "0.015104219111871917",
         "p1-7",
         "Primary somatosensory area",
         "S1BF"
        ],
        [
         "417",
         "n11_20241103_p1_7",
         "1111",
         "Somatosensory areas",
         "contralateral",
         "6",
         "0.010069479407914611",
         "p1-7",
         "Primary somatosensory area",
         "trunk"
        ],
        [
         "421",
         "n11_20241103_p1_7",
         "1070",
         "Somatosensory areas",
         "contralateral",
         "6",
         "0.010069479407914611",
         "p1-7",
         "Primary somatosensory area",
         "S1BF"
        ],
        [
         "438",
         "n11_20241103_p1_7",
         "1026",
         "Somatosensory areas",
         "ipsilateral",
         "2",
         "0.003356493135971537",
         "p1-7",
         "Primary somatosensory area",
         "upper limb"
        ],
        [
         "440",
         "n11_20241103_p1_7",
         "929",
         "Somatosensory areas",
         "ipsilateral",
         "1",
         "0.0016782465679857684",
         "p1-7",
         "Primary somatosensory area",
         "nose"
        ],
        [
         "444",
         "n11_20241103_p1_7",
         "9",
         "Somatosensory areas",
         "contralateral",
         "6",
         "0.010069479407914611",
         "p1-7",
         "Primary somatosensory area",
         "trunk"
        ],
        [
         "482",
         "n11_20241103_p1_7",
         "1062",
         "Somatosensory areas",
         "ipsilateral",
         "8",
         "0.013425972543886147",
         "p1-7",
         "Primary somatosensory area",
         "S1BF"
        ],
        [
         "785",
         "n11_20241103_p1_7",
         "577",
         "Somatosensory areas",
         "contralateral",
         "3",
         "0.0050347397039573055",
         "p1-7",
         "Primary somatosensory area",
         "upper limb"
        ],
        [
         "790",
         "n11_20241103_p1_7",
         "670",
         "Somatosensory areas",
         "contralateral",
         "7",
         "0.011747725975900378",
         "p1-7",
         "Primary somatosensory area",
         "trunk"
        ],
        [
         "791",
         "n11_20241103_p1_7",
         "1086",
         "Somatosensory areas",
         "contralateral",
         "2",
         "0.003356493135971537",
         "p1-7",
         "Primary somatosensory area",
         "trunk"
        ]
       ],
       "shape": {
        "columns": 9,
        "rows": 196
       }
      },
      "text/html": [
       "<div>\n",
       "<style scoped>\n",
       "    .dataframe tbody tr th:only-of-type {\n",
       "        vertical-align: middle;\n",
       "    }\n",
       "\n",
       "    .dataframe tbody tr th {\n",
       "        vertical-align: top;\n",
       "    }\n",
       "\n",
       "    .dataframe thead th {\n",
       "        text-align: right;\n",
       "    }\n",
       "</style>\n",
       "<table border=\"1\" class=\"dataframe\">\n",
       "  <thead>\n",
       "    <tr style=\"text-align: right;\">\n",
       "      <th></th>\n",
       "      <th>Brain</th>\n",
       "      <th>Region ID</th>\n",
       "      <th>General area</th>\n",
       "      <th>Hemisphere</th>\n",
       "      <th>count</th>\n",
       "      <th>scaled count</th>\n",
       "      <th>age</th>\n",
       "      <th>Subdivided</th>\n",
       "      <th>Special Interest</th>\n",
       "    </tr>\n",
       "  </thead>\n",
       "  <tbody>\n",
       "    <tr>\n",
       "      <th>33</th>\n",
       "      <td>n3_20241010_p1_7</td>\n",
       "      <td>1102</td>\n",
       "      <td>Somatosensory areas</td>\n",
       "      <td>ipsilateral</td>\n",
       "      <td>2</td>\n",
       "      <td>0.041127</td>\n",
       "      <td>p1-7</td>\n",
       "      <td>Primary somatosensory area</td>\n",
       "      <td>mouth</td>\n",
       "    </tr>\n",
       "    <tr>\n",
       "      <th>38</th>\n",
       "      <td>n3_20241010_p1_7</td>\n",
       "      <td>854</td>\n",
       "      <td>Somatosensory areas</td>\n",
       "      <td>ipsilateral</td>\n",
       "      <td>2</td>\n",
       "      <td>0.041127</td>\n",
       "      <td>p1-7</td>\n",
       "      <td>Primary somatosensory area</td>\n",
       "      <td>upper limb</td>\n",
       "    </tr>\n",
       "    <tr>\n",
       "      <th>48</th>\n",
       "      <td>n3_20241010_p1_7</td>\n",
       "      <td>201</td>\n",
       "      <td>Somatosensory areas</td>\n",
       "      <td>contralateral</td>\n",
       "      <td>1</td>\n",
       "      <td>0.020563</td>\n",
       "      <td>p1-7</td>\n",
       "      <td>Primary somatosensory area</td>\n",
       "      <td>S1BF</td>\n",
       "    </tr>\n",
       "    <tr>\n",
       "      <th>50</th>\n",
       "      <td>n3_20241010_p1_7</td>\n",
       "      <td>478</td>\n",
       "      <td>Somatosensory areas</td>\n",
       "      <td>contralateral</td>\n",
       "      <td>1</td>\n",
       "      <td>0.020563</td>\n",
       "      <td>p1-7</td>\n",
       "      <td>Primary somatosensory area</td>\n",
       "      <td>lower limb</td>\n",
       "    </tr>\n",
       "    <tr>\n",
       "      <th>58</th>\n",
       "      <td>n3_20241010_p1_7</td>\n",
       "      <td>1030</td>\n",
       "      <td>Somatosensory areas</td>\n",
       "      <td>ipsilateral</td>\n",
       "      <td>1</td>\n",
       "      <td>0.020563</td>\n",
       "      <td>p1-7</td>\n",
       "      <td>Primary somatosensory area</td>\n",
       "      <td>lower limb</td>\n",
       "    </tr>\n",
       "    <tr>\n",
       "      <th>...</th>\n",
       "      <td>...</td>\n",
       "      <td>...</td>\n",
       "      <td>...</td>\n",
       "      <td>...</td>\n",
       "      <td>...</td>\n",
       "      <td>...</td>\n",
       "      <td>...</td>\n",
       "      <td>...</td>\n",
       "      <td>...</td>\n",
       "    </tr>\n",
       "    <tr>\n",
       "      <th>3308</th>\n",
       "      <td>n4_20241209_p7_13</td>\n",
       "      <td>1062</td>\n",
       "      <td>Somatosensory areas</td>\n",
       "      <td>ipsilateral</td>\n",
       "      <td>2</td>\n",
       "      <td>0.024266</td>\n",
       "      <td>p7-13</td>\n",
       "      <td>Primary somatosensory area</td>\n",
       "      <td>S1BF</td>\n",
       "    </tr>\n",
       "    <tr>\n",
       "      <th>3454</th>\n",
       "      <td>n4_20241209_p7_13</td>\n",
       "      <td>950</td>\n",
       "      <td>Somatosensory areas</td>\n",
       "      <td>contralateral</td>\n",
       "      <td>1</td>\n",
       "      <td>0.012133</td>\n",
       "      <td>p7-13</td>\n",
       "      <td>Primary somatosensory area</td>\n",
       "      <td>mouth</td>\n",
       "    </tr>\n",
       "    <tr>\n",
       "      <th>3457</th>\n",
       "      <td>n4_20241209_p7_13</td>\n",
       "      <td>974</td>\n",
       "      <td>Somatosensory areas</td>\n",
       "      <td>contralateral</td>\n",
       "      <td>1</td>\n",
       "      <td>0.012133</td>\n",
       "      <td>p7-13</td>\n",
       "      <td>Primary somatosensory area</td>\n",
       "      <td>mouth</td>\n",
       "    </tr>\n",
       "    <tr>\n",
       "      <th>3464</th>\n",
       "      <td>n4_20241209_p7_13</td>\n",
       "      <td>1111</td>\n",
       "      <td>Somatosensory areas</td>\n",
       "      <td>contralateral</td>\n",
       "      <td>2</td>\n",
       "      <td>0.024266</td>\n",
       "      <td>p7-13</td>\n",
       "      <td>Primary somatosensory area</td>\n",
       "      <td>trunk</td>\n",
       "    </tr>\n",
       "    <tr>\n",
       "      <th>3465</th>\n",
       "      <td>n4_20241209_p7_13</td>\n",
       "      <td>9</td>\n",
       "      <td>Somatosensory areas</td>\n",
       "      <td>contralateral</td>\n",
       "      <td>3</td>\n",
       "      <td>0.036399</td>\n",
       "      <td>p7-13</td>\n",
       "      <td>Primary somatosensory area</td>\n",
       "      <td>trunk</td>\n",
       "    </tr>\n",
       "  </tbody>\n",
       "</table>\n",
       "<p>196 rows × 9 columns</p>\n",
       "</div>"
      ],
      "text/plain": [
       "                  Brain  Region ID         General area     Hemisphere  count  \\\n",
       "33     n3_20241010_p1_7       1102  Somatosensory areas    ipsilateral      2   \n",
       "38     n3_20241010_p1_7        854  Somatosensory areas    ipsilateral      2   \n",
       "48     n3_20241010_p1_7        201  Somatosensory areas  contralateral      1   \n",
       "50     n3_20241010_p1_7        478  Somatosensory areas  contralateral      1   \n",
       "58     n3_20241010_p1_7       1030  Somatosensory areas    ipsilateral      1   \n",
       "...                 ...        ...                  ...            ...    ...   \n",
       "3308  n4_20241209_p7_13       1062  Somatosensory areas    ipsilateral      2   \n",
       "3454  n4_20241209_p7_13        950  Somatosensory areas  contralateral      1   \n",
       "3457  n4_20241209_p7_13        974  Somatosensory areas  contralateral      1   \n",
       "3464  n4_20241209_p7_13       1111  Somatosensory areas  contralateral      2   \n",
       "3465  n4_20241209_p7_13          9  Somatosensory areas  contralateral      3   \n",
       "\n",
       "      scaled count    age                  Subdivided Special Interest  \n",
       "33        0.041127   p1-7  Primary somatosensory area            mouth  \n",
       "38        0.041127   p1-7  Primary somatosensory area       upper limb  \n",
       "48        0.020563   p1-7  Primary somatosensory area             S1BF  \n",
       "50        0.020563   p1-7  Primary somatosensory area       lower limb  \n",
       "58        0.020563   p1-7  Primary somatosensory area       lower limb  \n",
       "...            ...    ...                         ...              ...  \n",
       "3308      0.024266  p7-13  Primary somatosensory area             S1BF  \n",
       "3454      0.012133  p7-13  Primary somatosensory area            mouth  \n",
       "3457      0.012133  p7-13  Primary somatosensory area            mouth  \n",
       "3464      0.024266  p7-13  Primary somatosensory area            trunk  \n",
       "3465      0.036399  p7-13  Primary somatosensory area            trunk  \n",
       "\n",
       "[196 rows x 9 columns]"
      ]
     },
     "execution_count": 80,
     "metadata": {},
     "output_type": "execute_result"
    }
   ],
   "source": [
    "# dataframe with only the primary somatosensory areas and added Special Interest\n",
    "primary_somatosensory_areas = Somato_areas[\n",
    "    Somato_areas[\"Subdivided\"].isin([\"Primary somatosensory area\", \"Special Interest\"])\n",
    "].copy()\n",
    "\n",
    "primary_somatosensory_areas.insert(\n",
    "    8, \"Special Interest\", [0] * len(primary_somatosensory_areas)\n",
    ")\n",
    "\n",
    "for index, row in primary_somatosensory_areas.iterrows():\n",
    "    region_id = row[\"Region ID\"]\n",
    "    special_interest = regions_complete.loc[\n",
    "        regions_complete[\"Region ID\"] == region_id, \"Special Interest\"\n",
    "    ].values[0]\n",
    "    # add the Subdivided values to the Somatosensory_areas DataFrame\n",
    "    primary_somatosensory_areas.at[index, \"Special Interest\"] = special_interest\n",
    "primary_somatosensory_areas"
   ]
  },
  {
   "cell_type": "code",
   "execution_count": 81,
   "id": "75c66689",
   "metadata": {},
   "outputs": [
    {
     "name": "stderr",
     "output_type": "stream",
     "text": [
      "C:\\Users\\sahet\\AppData\\Local\\Temp\\ipykernel_4068\\2186435091.py:17: FutureWarning:\n",
      "\n",
      "Setting an item of incompatible dtype is deprecated and will raise in a future error of pandas. Value '0.003401959059182357' has dtype incompatible with int64, please explicitly cast to a compatible dtype first.\n",
      "\n"
     ]
    },
    {
     "data": {
      "application/vnd.microsoft.datawrangler.viewer.v0+json": {
       "columns": [
        {
         "name": "index",
         "rawType": "int64",
         "type": "integer"
        },
        {
         "name": "Brain",
         "rawType": "object",
         "type": "string"
        },
        {
         "name": "Special Interest",
         "rawType": "object",
         "type": "string"
        },
        {
         "name": "Hemisphere",
         "rawType": "object",
         "type": "string"
        },
        {
         "name": "age",
         "rawType": "object",
         "type": "string"
        },
        {
         "name": "count",
         "rawType": "int64",
         "type": "integer"
        },
        {
         "name": "scaled count",
         "rawType": "float64",
         "type": "float"
        }
       ],
       "ref": "4edcab9e-6879-4556-85de-f7d3a91a098e",
       "rows": [
        [
         "0",
         "n11_20241103_p1_7",
         "S1BF",
         "contralateral",
         "p1-7",
         "58",
         "0.003401959059182357"
        ],
        [
         "1",
         "n11_20241103_p1_7",
         "S1BF",
         "ipsilateral",
         "p1-7",
         "8",
         "0.0004692357323010147"
        ],
        [
         "2",
         "n11_20241103_p1_7",
         "lower limb",
         "contralateral",
         "p1-7",
         "24",
         "0.0014077071969030442"
        ],
        [
         "3",
         "n11_20241103_p1_7",
         "lower limb",
         "ipsilateral",
         "p1-7",
         "3",
         "0.00017596339961288053"
        ],
        [
         "4",
         "n11_20241103_p1_7",
         "mouth",
         "contralateral",
         "p1-7",
         "76",
         "0.00445773945685964"
        ],
        [
         "5",
         "n11_20241103_p1_7",
         "nose",
         "contralateral",
         "p1-7",
         "71",
         "0.004164467124171505"
        ],
        [
         "6",
         "n11_20241103_p1_7",
         "nose",
         "ipsilateral",
         "p1-7",
         "1",
         "5.865446653762684e-05"
        ],
        [
         "7",
         "n11_20241103_p1_7",
         "trunk",
         "contralateral",
         "p1-7",
         "22",
         "0.0012903982638277905"
        ],
        [
         "8",
         "n11_20241103_p1_7",
         "unassigned",
         "contralateral",
         "p1-7",
         "19",
         "0.00111443486421491"
        ],
        [
         "9",
         "n11_20241103_p1_7",
         "upper limb",
         "contralateral",
         "p1-7",
         "25",
         "0.0014663616634406711"
        ],
        [
         "10",
         "n11_20241103_p1_7",
         "upper limb",
         "ipsilateral",
         "p1-7",
         "2",
         "0.00011730893307525368"
        ],
        [
         "11",
         "n1_20241203_p7_13",
         "S1BF",
         "ipsilateral",
         "p7-13",
         "5",
         "0.0032383419689119173"
        ],
        [
         "12",
         "n1_20241203_p7_13",
         "lower limb",
         "ipsilateral",
         "p7-13",
         "1",
         "0.0006476683937823834"
        ],
        [
         "13",
         "n1_20241203_p7_13",
         "mouth",
         "contralateral",
         "p7-13",
         "3",
         "0.0019430051813471502"
        ],
        [
         "14",
         "n1_20241203_p7_13",
         "mouth",
         "ipsilateral",
         "p7-13",
         "1",
         "0.0006476683937823834"
        ],
        [
         "15",
         "n1_20241203_p7_13",
         "nose",
         "contralateral",
         "p7-13",
         "13",
         "0.008419689119170985"
        ],
        [
         "16",
         "n1_20241203_p7_13",
         "trunk",
         "ipsilateral",
         "p7-13",
         "1",
         "0.0006476683937823834"
        ],
        [
         "17",
         "n1_20241203_p7_13",
         "unassigned",
         "contralateral",
         "p7-13",
         "1",
         "0.0006476683937823834"
        ],
        [
         "18",
         "n1_20241203_p7_13",
         "upper limb",
         "ipsilateral",
         "p7-13",
         "1",
         "0.0006476683937823834"
        ],
        [
         "19",
         "n1_20241209_p7_13",
         "S1BF",
         "ipsilateral",
         "p7-13",
         "5",
         "0.0032383419689119173"
        ],
        [
         "20",
         "n1_20241209_p7_13",
         "lower limb",
         "ipsilateral",
         "p7-13",
         "1",
         "0.0006476683937823834"
        ],
        [
         "21",
         "n1_20241209_p7_13",
         "mouth",
         "contralateral",
         "p7-13",
         "3",
         "0.0019430051813471502"
        ],
        [
         "22",
         "n1_20241209_p7_13",
         "mouth",
         "ipsilateral",
         "p7-13",
         "1",
         "0.0006476683937823834"
        ],
        [
         "23",
         "n1_20241209_p7_13",
         "nose",
         "contralateral",
         "p7-13",
         "13",
         "0.008419689119170985"
        ],
        [
         "24",
         "n1_20241209_p7_13",
         "trunk",
         "ipsilateral",
         "p7-13",
         "1",
         "0.0006476683937823834"
        ],
        [
         "25",
         "n1_20241209_p7_13",
         "unassigned",
         "contralateral",
         "p7-13",
         "1",
         "0.0006476683937823834"
        ],
        [
         "26",
         "n1_20241209_p7_13",
         "upper limb",
         "ipsilateral",
         "p7-13",
         "1",
         "0.0006476683937823834"
        ],
        [
         "27",
         "n2_20241203_p7_13",
         "S1BF",
         "contralateral",
         "p7-13",
         "3",
         "0.002076124567474048"
        ],
        [
         "28",
         "n2_20241203_p7_13",
         "S1BF",
         "ipsilateral",
         "p7-13",
         "9",
         "0.006228373702422145"
        ],
        [
         "29",
         "n2_20241203_p7_13",
         "lower limb",
         "contralateral",
         "p7-13",
         "1",
         "0.0006920415224913495"
        ],
        [
         "30",
         "n2_20241203_p7_13",
         "lower limb",
         "ipsilateral",
         "p7-13",
         "3",
         "0.002076124567474048"
        ],
        [
         "31",
         "n2_20241203_p7_13",
         "mouth",
         "contralateral",
         "p7-13",
         "1",
         "0.0006920415224913495"
        ],
        [
         "32",
         "n2_20241203_p7_13",
         "mouth",
         "ipsilateral",
         "p7-13",
         "4",
         "0.002768166089965398"
        ],
        [
         "33",
         "n2_20241203_p7_13",
         "nose",
         "ipsilateral",
         "p7-13",
         "1",
         "0.0006920415224913495"
        ],
        [
         "34",
         "n2_20241203_p7_13",
         "trunk",
         "contralateral",
         "p7-13",
         "2",
         "0.001384083044982699"
        ],
        [
         "35",
         "n2_20241203_p7_13",
         "trunk",
         "ipsilateral",
         "p7-13",
         "3",
         "0.002076124567474048"
        ],
        [
         "36",
         "n2_20241203_p7_13",
         "upper limb",
         "contralateral",
         "p7-13",
         "3",
         "0.002076124567474048"
        ],
        [
         "37",
         "n2_20241203_p7_13",
         "upper limb",
         "ipsilateral",
         "p7-13",
         "1",
         "0.0006920415224913495"
        ],
        [
         "38",
         "n2_20241209_p7_13",
         "S1BF",
         "contralateral",
         "p7-13",
         "1",
         "0.002044989775051125"
        ],
        [
         "39",
         "n2_20241209_p7_13",
         "S1BF",
         "ipsilateral",
         "p7-13",
         "1",
         "0.002044989775051125"
        ],
        [
         "40",
         "n2_20241209_p7_13",
         "lower limb",
         "ipsilateral",
         "p7-13",
         "2",
         "0.00408997955010225"
        ],
        [
         "41",
         "n2_20241209_p7_13",
         "mouth",
         "ipsilateral",
         "p7-13",
         "1",
         "0.002044989775051125"
        ],
        [
         "42",
         "n2_20241209_p7_13",
         "trunk",
         "contralateral",
         "p7-13",
         "1",
         "0.002044989775051125"
        ],
        [
         "43",
         "n2_20241209_p7_13",
         "trunk",
         "ipsilateral",
         "p7-13",
         "1",
         "0.002044989775051125"
        ],
        [
         "44",
         "n2_20241209_p7_13",
         "unassigned",
         "contralateral",
         "p7-13",
         "1",
         "0.002044989775051125"
        ],
        [
         "45",
         "n2_20241209_p7_13",
         "unassigned",
         "ipsilateral",
         "p7-13",
         "3",
         "0.006134969325153375"
        ],
        [
         "46",
         "n2_20241209_p7_13",
         "upper limb",
         "contralateral",
         "p7-13",
         "1",
         "0.002044989775051125"
        ],
        [
         "47",
         "n2_20241209_p7_13",
         "upper limb",
         "ipsilateral",
         "p7-13",
         "4",
         "0.0081799591002045"
        ],
        [
         "48",
         "n3_20241010_p1_7",
         "S1BF",
         "contralateral",
         "p1-7",
         "5",
         "0.004721435316336167"
        ],
        [
         "49",
         "n3_20241010_p1_7",
         "S1BF",
         "ipsilateral",
         "p1-7",
         "3",
         "0.0028328611898017"
        ]
       ],
       "shape": {
        "columns": 6,
        "rows": 100
       }
      },
      "text/html": [
       "<div>\n",
       "<style scoped>\n",
       "    .dataframe tbody tr th:only-of-type {\n",
       "        vertical-align: middle;\n",
       "    }\n",
       "\n",
       "    .dataframe tbody tr th {\n",
       "        vertical-align: top;\n",
       "    }\n",
       "\n",
       "    .dataframe thead th {\n",
       "        text-align: right;\n",
       "    }\n",
       "</style>\n",
       "<table border=\"1\" class=\"dataframe\">\n",
       "  <thead>\n",
       "    <tr style=\"text-align: right;\">\n",
       "      <th></th>\n",
       "      <th>Brain</th>\n",
       "      <th>Special Interest</th>\n",
       "      <th>Hemisphere</th>\n",
       "      <th>age</th>\n",
       "      <th>count</th>\n",
       "      <th>scaled count</th>\n",
       "    </tr>\n",
       "  </thead>\n",
       "  <tbody>\n",
       "    <tr>\n",
       "      <th>0</th>\n",
       "      <td>n11_20241103_p1_7</td>\n",
       "      <td>S1BF</td>\n",
       "      <td>contralateral</td>\n",
       "      <td>p1-7</td>\n",
       "      <td>58</td>\n",
       "      <td>0.003402</td>\n",
       "    </tr>\n",
       "    <tr>\n",
       "      <th>1</th>\n",
       "      <td>n11_20241103_p1_7</td>\n",
       "      <td>S1BF</td>\n",
       "      <td>ipsilateral</td>\n",
       "      <td>p1-7</td>\n",
       "      <td>8</td>\n",
       "      <td>0.000469</td>\n",
       "    </tr>\n",
       "    <tr>\n",
       "      <th>2</th>\n",
       "      <td>n11_20241103_p1_7</td>\n",
       "      <td>lower limb</td>\n",
       "      <td>contralateral</td>\n",
       "      <td>p1-7</td>\n",
       "      <td>24</td>\n",
       "      <td>0.001408</td>\n",
       "    </tr>\n",
       "    <tr>\n",
       "      <th>3</th>\n",
       "      <td>n11_20241103_p1_7</td>\n",
       "      <td>lower limb</td>\n",
       "      <td>ipsilateral</td>\n",
       "      <td>p1-7</td>\n",
       "      <td>3</td>\n",
       "      <td>0.000176</td>\n",
       "    </tr>\n",
       "    <tr>\n",
       "      <th>4</th>\n",
       "      <td>n11_20241103_p1_7</td>\n",
       "      <td>mouth</td>\n",
       "      <td>contralateral</td>\n",
       "      <td>p1-7</td>\n",
       "      <td>76</td>\n",
       "      <td>0.004458</td>\n",
       "    </tr>\n",
       "    <tr>\n",
       "      <th>...</th>\n",
       "      <td>...</td>\n",
       "      <td>...</td>\n",
       "      <td>...</td>\n",
       "      <td>...</td>\n",
       "      <td>...</td>\n",
       "      <td>...</td>\n",
       "    </tr>\n",
       "    <tr>\n",
       "      <th>95</th>\n",
       "      <td>n5_20241203_p7_13</td>\n",
       "      <td>upper limb</td>\n",
       "      <td>contralateral</td>\n",
       "      <td>p7-13</td>\n",
       "      <td>24</td>\n",
       "      <td>0.008293</td>\n",
       "    </tr>\n",
       "    <tr>\n",
       "      <th>96</th>\n",
       "      <td>n5_20241203_p7_13</td>\n",
       "      <td>upper limb</td>\n",
       "      <td>ipsilateral</td>\n",
       "      <td>p7-13</td>\n",
       "      <td>1</td>\n",
       "      <td>0.000346</td>\n",
       "    </tr>\n",
       "    <tr>\n",
       "      <th>97</th>\n",
       "      <td>n8_20241203_p7_13</td>\n",
       "      <td>S1BF</td>\n",
       "      <td>ipsilateral</td>\n",
       "      <td>p7-13</td>\n",
       "      <td>3</td>\n",
       "      <td>0.007958</td>\n",
       "    </tr>\n",
       "    <tr>\n",
       "      <th>98</th>\n",
       "      <td>n8_20241203_p7_13</td>\n",
       "      <td>mouth</td>\n",
       "      <td>contralateral</td>\n",
       "      <td>p7-13</td>\n",
       "      <td>2</td>\n",
       "      <td>0.005305</td>\n",
       "    </tr>\n",
       "    <tr>\n",
       "      <th>99</th>\n",
       "      <td>n8_20241203_p7_13</td>\n",
       "      <td>mouth</td>\n",
       "      <td>ipsilateral</td>\n",
       "      <td>p7-13</td>\n",
       "      <td>1</td>\n",
       "      <td>0.002653</td>\n",
       "    </tr>\n",
       "  </tbody>\n",
       "</table>\n",
       "<p>100 rows × 6 columns</p>\n",
       "</div>"
      ],
      "text/plain": [
       "                Brain Special Interest     Hemisphere    age  count  \\\n",
       "0   n11_20241103_p1_7             S1BF  contralateral   p1-7     58   \n",
       "1   n11_20241103_p1_7             S1BF    ipsilateral   p1-7      8   \n",
       "2   n11_20241103_p1_7       lower limb  contralateral   p1-7     24   \n",
       "3   n11_20241103_p1_7       lower limb    ipsilateral   p1-7      3   \n",
       "4   n11_20241103_p1_7            mouth  contralateral   p1-7     76   \n",
       "..                ...              ...            ...    ...    ...   \n",
       "95  n5_20241203_p7_13       upper limb  contralateral  p7-13     24   \n",
       "96  n5_20241203_p7_13       upper limb    ipsilateral  p7-13      1   \n",
       "97  n8_20241203_p7_13             S1BF    ipsilateral  p7-13      3   \n",
       "98  n8_20241203_p7_13            mouth  contralateral  p7-13      2   \n",
       "99  n8_20241203_p7_13            mouth    ipsilateral  p7-13      1   \n",
       "\n",
       "    scaled count  \n",
       "0       0.003402  \n",
       "1       0.000469  \n",
       "2       0.001408  \n",
       "3       0.000176  \n",
       "4       0.004458  \n",
       "..           ...  \n",
       "95      0.008293  \n",
       "96      0.000346  \n",
       "97      0.007958  \n",
       "98      0.005305  \n",
       "99      0.002653  \n",
       "\n",
       "[100 rows x 6 columns]"
      ]
     },
     "execution_count": 81,
     "metadata": {},
     "output_type": "execute_result"
    }
   ],
   "source": [
    "subdivided_S1_filtered = primary_somatosensory_areas[\n",
    "    [\"Brain\", \"age\", \"count\", \"Hemisphere\", \"Special Interest\"]\n",
    "]\n",
    "\n",
    "subdivided_S1_grouped = subdivided_S1_filtered.groupby(\n",
    "    [\"Brain\", \"Special Interest\", \"Hemisphere\", \"age\"], as_index=False\n",
    ")[\"count\"].sum()\n",
    "\n",
    "# add scaled column with 0\n",
    "subdivided_S1_grouped[\"scaled count\"] = 0\n",
    "# scale the counts\n",
    "for index, row in subdivided_S1_grouped.iterrows():\n",
    "    brain_name = row[\"Brain\"]\n",
    "    count = row[\"count\"]\n",
    "    total_count = totals.loc[totals[\"Brain\"] == brain_name, \"total\"].values[0]\n",
    "    scaled_count = 1 / total_count * count\n",
    "    subdivided_S1_grouped.loc[index, \"scaled count\"] = scaled_count\n",
    "subdivided_S1_grouped"
   ]
  },
  {
   "cell_type": "code",
   "execution_count": 82,
   "id": "cf347e5b",
   "metadata": {},
   "outputs": [],
   "source": [
    "def plot_count_zoomed_spec(big_file_long, Title):\n",
    "\n",
    "    df_hemi = big_file_long[big_file_long[\"Hemisphere\"] == \"ipsilateral\"]\n",
    "\n",
    "    area_order_count = (\n",
    "        df_hemi.groupby(\"Special Interest\")[\"count\"]\n",
    "        .max()\n",
    "        .sort_values(ascending=False)\n",
    "        .index.tolist()\n",
    "    )\n",
    "\n",
    "    fig = px.box(\n",
    "        df_hemi,\n",
    "        y=\"count\",\n",
    "        x=\"Special Interest\",\n",
    "        color=\"age\",\n",
    "        # points = \"all\",\n",
    "        color_discrete_map={\"p1-7\": \"orange\", \"p7-13\": \"magenta\"},\n",
    "        title=Title,\n",
    "        category_orders={\"General area\": area_order_count},\n",
    "        labels={\"count\": \"Count\", \"Special Interest\": \"Subdivided region\"},\n",
    "    )\n",
    "    fig.update_layout(\n",
    "        legend=dict(font=dict(size=20)),\n",
    "        xaxis_title_font=dict(size=24),  # x-axis label font size\n",
    "        yaxis_title_font=dict(size=24),  # y-axis label font size\n",
    "        xaxis_tickfont=dict(size=20),  # x-axis tick font size\n",
    "        yaxis_tickfont=dict(size=18),  # y-axis tick font size\n",
    "    )\n",
    "\n",
    "    return fig"
   ]
  },
  {
   "cell_type": "code",
   "execution_count": 83,
   "id": "bb8e73be",
   "metadata": {},
   "outputs": [],
   "source": [
    "def plot_scaledcount_zoomed_spec(big_file_long, Title):\n",
    "\n",
    "    df_hemi = big_file_long[big_file_long[\"Hemisphere\"] == \"ipsilateral\"]\n",
    "    area_order_scaled_count = (\n",
    "        df_hemi.groupby(\"Special Interest\")[\"count\"]\n",
    "        .max()\n",
    "        .sort_values(ascending=False)\n",
    "        .index.tolist()\n",
    "    )\n",
    "\n",
    "    fig = px.box(\n",
    "        df_hemi,\n",
    "        y=\"scaled count\",\n",
    "        x=\"Special Interest\",\n",
    "        color=\"age\",\n",
    "        # points = \"all\",\n",
    "        color_discrete_map={\"p1-7\": \"orange\", \"p7-13\": \"magenta\"},\n",
    "        title=Title,\n",
    "        category_orders={\"General area\": area_order_scaled_count},\n",
    "        labels={\"count\": \"Count\", \"Special Interest\": \"Subdivided region\"},\n",
    "    )\n",
    "    fig.update_layout(\n",
    "        legend=dict(font=dict(size=20)),\n",
    "        xaxis_title_font=dict(size=24),  # x-axis label font size\n",
    "        yaxis_title_font=dict(size=24),  # y-axis label font size\n",
    "        xaxis_tickfont=dict(size=20),  # x-axis tick font size\n",
    "        yaxis_tickfont=dict(size=18),  # y-axis tick font size\n",
    "    )\n",
    "\n",
    "    return fig"
   ]
  },
  {
   "cell_type": "code",
   "execution_count": 84,
   "id": "fb386c1a",
   "metadata": {},
   "outputs": [
    {
     "data": {
      "application/vnd.plotly.v1+json": {
       "config": {
        "plotlyServerURL": "https://plot.ly"
       },
       "data": [
        {
         "alignmentgroup": "True",
         "hovertemplate": "age=p1-7<br>Subdivided region=%{x}<br>Count=%{y}<extra></extra>",
         "legendgroup": "p1-7",
         "marker": {
          "color": "orange"
         },
         "name": "p1-7",
         "notched": false,
         "offsetgroup": "p1-7",
         "orientation": "v",
         "showlegend": true,
         "type": "box",
         "x": [
          "S1BF",
          "lower limb",
          "nose",
          "upper limb",
          "S1BF",
          "lower limb",
          "mouth",
          "trunk",
          "unassigned",
          "upper limb",
          "lower limb",
          "mouth",
          "unassigned"
         ],
         "x0": " ",
         "xaxis": "x",
         "y": [
          8,
          3,
          1,
          2,
          3,
          1,
          2,
          2,
          1,
          2,
          3,
          12,
          2
         ],
         "y0": " ",
         "yaxis": "y"
        },
        {
         "alignmentgroup": "True",
         "hovertemplate": "age=p7-13<br>Subdivided region=%{x}<br>Count=%{y}<extra></extra>",
         "legendgroup": "p7-13",
         "marker": {
          "color": "magenta"
         },
         "name": "p7-13",
         "notched": false,
         "offsetgroup": "p7-13",
         "orientation": "v",
         "showlegend": true,
         "type": "box",
         "x": [
          "S1BF",
          "lower limb",
          "mouth",
          "trunk",
          "upper limb",
          "S1BF",
          "lower limb",
          "mouth",
          "trunk",
          "upper limb",
          "S1BF",
          "lower limb",
          "mouth",
          "nose",
          "trunk",
          "upper limb",
          "S1BF",
          "lower limb",
          "mouth",
          "trunk",
          "unassigned",
          "upper limb",
          "S1BF",
          "mouth",
          "nose",
          "S1BF",
          "mouth",
          "S1BF",
          "lower limb",
          "mouth",
          "nose",
          "trunk",
          "unassigned",
          "upper limb",
          "S1BF",
          "mouth"
         ],
         "x0": " ",
         "xaxis": "x",
         "y": [
          5,
          1,
          1,
          1,
          1,
          5,
          1,
          1,
          1,
          1,
          9,
          3,
          4,
          1,
          3,
          1,
          1,
          2,
          1,
          1,
          3,
          4,
          1,
          1,
          1,
          2,
          1,
          10,
          1,
          1,
          10,
          23,
          1,
          1,
          3,
          1
         ],
         "y0": " ",
         "yaxis": "y"
        }
       ],
       "layout": {
        "boxmode": "group",
        "legend": {
         "font": {
          "size": 20
         },
         "title": {
          "text": "age"
         },
         "tracegroupgap": 0
        },
        "template": {
         "data": {
          "bar": [
           {
            "error_x": {
             "color": "#2a3f5f"
            },
            "error_y": {
             "color": "#2a3f5f"
            },
            "marker": {
             "line": {
              "color": "#E5ECF6",
              "width": 0.5
             },
             "pattern": {
              "fillmode": "overlay",
              "size": 10,
              "solidity": 0.2
             }
            },
            "type": "bar"
           }
          ],
          "barpolar": [
           {
            "marker": {
             "line": {
              "color": "#E5ECF6",
              "width": 0.5
             },
             "pattern": {
              "fillmode": "overlay",
              "size": 10,
              "solidity": 0.2
             }
            },
            "type": "barpolar"
           }
          ],
          "carpet": [
           {
            "aaxis": {
             "endlinecolor": "#2a3f5f",
             "gridcolor": "white",
             "linecolor": "white",
             "minorgridcolor": "white",
             "startlinecolor": "#2a3f5f"
            },
            "baxis": {
             "endlinecolor": "#2a3f5f",
             "gridcolor": "white",
             "linecolor": "white",
             "minorgridcolor": "white",
             "startlinecolor": "#2a3f5f"
            },
            "type": "carpet"
           }
          ],
          "choropleth": [
           {
            "colorbar": {
             "outlinewidth": 0,
             "ticks": ""
            },
            "type": "choropleth"
           }
          ],
          "contour": [
           {
            "colorbar": {
             "outlinewidth": 0,
             "ticks": ""
            },
            "colorscale": [
             [
              0,
              "#0d0887"
             ],
             [
              0.1111111111111111,
              "#46039f"
             ],
             [
              0.2222222222222222,
              "#7201a8"
             ],
             [
              0.3333333333333333,
              "#9c179e"
             ],
             [
              0.4444444444444444,
              "#bd3786"
             ],
             [
              0.5555555555555556,
              "#d8576b"
             ],
             [
              0.6666666666666666,
              "#ed7953"
             ],
             [
              0.7777777777777778,
              "#fb9f3a"
             ],
             [
              0.8888888888888888,
              "#fdca26"
             ],
             [
              1,
              "#f0f921"
             ]
            ],
            "type": "contour"
           }
          ],
          "contourcarpet": [
           {
            "colorbar": {
             "outlinewidth": 0,
             "ticks": ""
            },
            "type": "contourcarpet"
           }
          ],
          "heatmap": [
           {
            "colorbar": {
             "outlinewidth": 0,
             "ticks": ""
            },
            "colorscale": [
             [
              0,
              "#0d0887"
             ],
             [
              0.1111111111111111,
              "#46039f"
             ],
             [
              0.2222222222222222,
              "#7201a8"
             ],
             [
              0.3333333333333333,
              "#9c179e"
             ],
             [
              0.4444444444444444,
              "#bd3786"
             ],
             [
              0.5555555555555556,
              "#d8576b"
             ],
             [
              0.6666666666666666,
              "#ed7953"
             ],
             [
              0.7777777777777778,
              "#fb9f3a"
             ],
             [
              0.8888888888888888,
              "#fdca26"
             ],
             [
              1,
              "#f0f921"
             ]
            ],
            "type": "heatmap"
           }
          ],
          "heatmapgl": [
           {
            "colorbar": {
             "outlinewidth": 0,
             "ticks": ""
            },
            "colorscale": [
             [
              0,
              "#0d0887"
             ],
             [
              0.1111111111111111,
              "#46039f"
             ],
             [
              0.2222222222222222,
              "#7201a8"
             ],
             [
              0.3333333333333333,
              "#9c179e"
             ],
             [
              0.4444444444444444,
              "#bd3786"
             ],
             [
              0.5555555555555556,
              "#d8576b"
             ],
             [
              0.6666666666666666,
              "#ed7953"
             ],
             [
              0.7777777777777778,
              "#fb9f3a"
             ],
             [
              0.8888888888888888,
              "#fdca26"
             ],
             [
              1,
              "#f0f921"
             ]
            ],
            "type": "heatmapgl"
           }
          ],
          "histogram": [
           {
            "marker": {
             "pattern": {
              "fillmode": "overlay",
              "size": 10,
              "solidity": 0.2
             }
            },
            "type": "histogram"
           }
          ],
          "histogram2d": [
           {
            "colorbar": {
             "outlinewidth": 0,
             "ticks": ""
            },
            "colorscale": [
             [
              0,
              "#0d0887"
             ],
             [
              0.1111111111111111,
              "#46039f"
             ],
             [
              0.2222222222222222,
              "#7201a8"
             ],
             [
              0.3333333333333333,
              "#9c179e"
             ],
             [
              0.4444444444444444,
              "#bd3786"
             ],
             [
              0.5555555555555556,
              "#d8576b"
             ],
             [
              0.6666666666666666,
              "#ed7953"
             ],
             [
              0.7777777777777778,
              "#fb9f3a"
             ],
             [
              0.8888888888888888,
              "#fdca26"
             ],
             [
              1,
              "#f0f921"
             ]
            ],
            "type": "histogram2d"
           }
          ],
          "histogram2dcontour": [
           {
            "colorbar": {
             "outlinewidth": 0,
             "ticks": ""
            },
            "colorscale": [
             [
              0,
              "#0d0887"
             ],
             [
              0.1111111111111111,
              "#46039f"
             ],
             [
              0.2222222222222222,
              "#7201a8"
             ],
             [
              0.3333333333333333,
              "#9c179e"
             ],
             [
              0.4444444444444444,
              "#bd3786"
             ],
             [
              0.5555555555555556,
              "#d8576b"
             ],
             [
              0.6666666666666666,
              "#ed7953"
             ],
             [
              0.7777777777777778,
              "#fb9f3a"
             ],
             [
              0.8888888888888888,
              "#fdca26"
             ],
             [
              1,
              "#f0f921"
             ]
            ],
            "type": "histogram2dcontour"
           }
          ],
          "mesh3d": [
           {
            "colorbar": {
             "outlinewidth": 0,
             "ticks": ""
            },
            "type": "mesh3d"
           }
          ],
          "parcoords": [
           {
            "line": {
             "colorbar": {
              "outlinewidth": 0,
              "ticks": ""
             }
            },
            "type": "parcoords"
           }
          ],
          "pie": [
           {
            "automargin": true,
            "type": "pie"
           }
          ],
          "scatter": [
           {
            "fillpattern": {
             "fillmode": "overlay",
             "size": 10,
             "solidity": 0.2
            },
            "type": "scatter"
           }
          ],
          "scatter3d": [
           {
            "line": {
             "colorbar": {
              "outlinewidth": 0,
              "ticks": ""
             }
            },
            "marker": {
             "colorbar": {
              "outlinewidth": 0,
              "ticks": ""
             }
            },
            "type": "scatter3d"
           }
          ],
          "scattercarpet": [
           {
            "marker": {
             "colorbar": {
              "outlinewidth": 0,
              "ticks": ""
             }
            },
            "type": "scattercarpet"
           }
          ],
          "scattergeo": [
           {
            "marker": {
             "colorbar": {
              "outlinewidth": 0,
              "ticks": ""
             }
            },
            "type": "scattergeo"
           }
          ],
          "scattergl": [
           {
            "marker": {
             "colorbar": {
              "outlinewidth": 0,
              "ticks": ""
             }
            },
            "type": "scattergl"
           }
          ],
          "scattermapbox": [
           {
            "marker": {
             "colorbar": {
              "outlinewidth": 0,
              "ticks": ""
             }
            },
            "type": "scattermapbox"
           }
          ],
          "scatterpolar": [
           {
            "marker": {
             "colorbar": {
              "outlinewidth": 0,
              "ticks": ""
             }
            },
            "type": "scatterpolar"
           }
          ],
          "scatterpolargl": [
           {
            "marker": {
             "colorbar": {
              "outlinewidth": 0,
              "ticks": ""
             }
            },
            "type": "scatterpolargl"
           }
          ],
          "scatterternary": [
           {
            "marker": {
             "colorbar": {
              "outlinewidth": 0,
              "ticks": ""
             }
            },
            "type": "scatterternary"
           }
          ],
          "surface": [
           {
            "colorbar": {
             "outlinewidth": 0,
             "ticks": ""
            },
            "colorscale": [
             [
              0,
              "#0d0887"
             ],
             [
              0.1111111111111111,
              "#46039f"
             ],
             [
              0.2222222222222222,
              "#7201a8"
             ],
             [
              0.3333333333333333,
              "#9c179e"
             ],
             [
              0.4444444444444444,
              "#bd3786"
             ],
             [
              0.5555555555555556,
              "#d8576b"
             ],
             [
              0.6666666666666666,
              "#ed7953"
             ],
             [
              0.7777777777777778,
              "#fb9f3a"
             ],
             [
              0.8888888888888888,
              "#fdca26"
             ],
             [
              1,
              "#f0f921"
             ]
            ],
            "type": "surface"
           }
          ],
          "table": [
           {
            "cells": {
             "fill": {
              "color": "#EBF0F8"
             },
             "line": {
              "color": "white"
             }
            },
            "header": {
             "fill": {
              "color": "#C8D4E3"
             },
             "line": {
              "color": "white"
             }
            },
            "type": "table"
           }
          ]
         },
         "layout": {
          "annotationdefaults": {
           "arrowcolor": "#2a3f5f",
           "arrowhead": 0,
           "arrowwidth": 1
          },
          "autotypenumbers": "strict",
          "coloraxis": {
           "colorbar": {
            "outlinewidth": 0,
            "ticks": ""
           }
          },
          "colorscale": {
           "diverging": [
            [
             0,
             "#8e0152"
            ],
            [
             0.1,
             "#c51b7d"
            ],
            [
             0.2,
             "#de77ae"
            ],
            [
             0.3,
             "#f1b6da"
            ],
            [
             0.4,
             "#fde0ef"
            ],
            [
             0.5,
             "#f7f7f7"
            ],
            [
             0.6,
             "#e6f5d0"
            ],
            [
             0.7,
             "#b8e186"
            ],
            [
             0.8,
             "#7fbc41"
            ],
            [
             0.9,
             "#4d9221"
            ],
            [
             1,
             "#276419"
            ]
           ],
           "sequential": [
            [
             0,
             "#0d0887"
            ],
            [
             0.1111111111111111,
             "#46039f"
            ],
            [
             0.2222222222222222,
             "#7201a8"
            ],
            [
             0.3333333333333333,
             "#9c179e"
            ],
            [
             0.4444444444444444,
             "#bd3786"
            ],
            [
             0.5555555555555556,
             "#d8576b"
            ],
            [
             0.6666666666666666,
             "#ed7953"
            ],
            [
             0.7777777777777778,
             "#fb9f3a"
            ],
            [
             0.8888888888888888,
             "#fdca26"
            ],
            [
             1,
             "#f0f921"
            ]
           ],
           "sequentialminus": [
            [
             0,
             "#0d0887"
            ],
            [
             0.1111111111111111,
             "#46039f"
            ],
            [
             0.2222222222222222,
             "#7201a8"
            ],
            [
             0.3333333333333333,
             "#9c179e"
            ],
            [
             0.4444444444444444,
             "#bd3786"
            ],
            [
             0.5555555555555556,
             "#d8576b"
            ],
            [
             0.6666666666666666,
             "#ed7953"
            ],
            [
             0.7777777777777778,
             "#fb9f3a"
            ],
            [
             0.8888888888888888,
             "#fdca26"
            ],
            [
             1,
             "#f0f921"
            ]
           ]
          },
          "colorway": [
           "#636efa",
           "#EF553B",
           "#00cc96",
           "#ab63fa",
           "#FFA15A",
           "#19d3f3",
           "#FF6692",
           "#B6E880",
           "#FF97FF",
           "#FECB52"
          ],
          "font": {
           "color": "#2a3f5f"
          },
          "geo": {
           "bgcolor": "white",
           "lakecolor": "white",
           "landcolor": "#E5ECF6",
           "showlakes": true,
           "showland": true,
           "subunitcolor": "white"
          },
          "hoverlabel": {
           "align": "left"
          },
          "hovermode": "closest",
          "mapbox": {
           "style": "light"
          },
          "paper_bgcolor": "white",
          "plot_bgcolor": "#E5ECF6",
          "polar": {
           "angularaxis": {
            "gridcolor": "white",
            "linecolor": "white",
            "ticks": ""
           },
           "bgcolor": "#E5ECF6",
           "radialaxis": {
            "gridcolor": "white",
            "linecolor": "white",
            "ticks": ""
           }
          },
          "scene": {
           "xaxis": {
            "backgroundcolor": "#E5ECF6",
            "gridcolor": "white",
            "gridwidth": 2,
            "linecolor": "white",
            "showbackground": true,
            "ticks": "",
            "zerolinecolor": "white"
           },
           "yaxis": {
            "backgroundcolor": "#E5ECF6",
            "gridcolor": "white",
            "gridwidth": 2,
            "linecolor": "white",
            "showbackground": true,
            "ticks": "",
            "zerolinecolor": "white"
           },
           "zaxis": {
            "backgroundcolor": "#E5ECF6",
            "gridcolor": "white",
            "gridwidth": 2,
            "linecolor": "white",
            "showbackground": true,
            "ticks": "",
            "zerolinecolor": "white"
           }
          },
          "shapedefaults": {
           "line": {
            "color": "#2a3f5f"
           }
          },
          "ternary": {
           "aaxis": {
            "gridcolor": "white",
            "linecolor": "white",
            "ticks": ""
           },
           "baxis": {
            "gridcolor": "white",
            "linecolor": "white",
            "ticks": ""
           },
           "bgcolor": "#E5ECF6",
           "caxis": {
            "gridcolor": "white",
            "linecolor": "white",
            "ticks": ""
           }
          },
          "title": {
           "x": 0.05
          },
          "xaxis": {
           "automargin": true,
           "gridcolor": "white",
           "linecolor": "white",
           "ticks": "",
           "title": {
            "standoff": 15
           },
           "zerolinecolor": "white",
           "zerolinewidth": 2
          },
          "yaxis": {
           "automargin": true,
           "gridcolor": "white",
           "linecolor": "white",
           "ticks": "",
           "title": {
            "standoff": 15
           },
           "zerolinecolor": "white",
           "zerolinewidth": 2
          }
         }
        },
        "title": {
         "text": "Primary Somatosensory areas, p1-7 (n=3) and p7-13 (n=9)"
        },
        "xaxis": {
         "anchor": "y",
         "domain": [
          0,
          1
         ],
         "tickfont": {
          "size": 20
         },
         "title": {
          "font": {
           "size": 24
          },
          "text": "Subdivided region"
         }
        },
        "yaxis": {
         "anchor": "x",
         "domain": [
          0,
          1
         ],
         "tickfont": {
          "size": 18
         },
         "title": {
          "font": {
           "size": 24
          },
          "text": "Count"
         }
        }
       }
      }
     },
     "metadata": {},
     "output_type": "display_data"
    }
   ],
   "source": [
    "plot_count_zoomed_spec(\n",
    "    subdivided_S1_grouped, \"Primary Somatosensory areas, p1-7 (n=3) and p7-13 (n=9)\"\n",
    ")"
   ]
  },
  {
   "cell_type": "code",
   "execution_count": 85,
   "id": "dca9dad3",
   "metadata": {},
   "outputs": [
    {
     "data": {
      "application/vnd.plotly.v1+json": {
       "config": {
        "plotlyServerURL": "https://plot.ly"
       },
       "data": [
        {
         "alignmentgroup": "True",
         "hovertemplate": "age=p1-7<br>Subdivided region=%{x}<br>scaled count=%{y}<extra></extra>",
         "legendgroup": "p1-7",
         "marker": {
          "color": "orange"
         },
         "name": "p1-7",
         "notched": false,
         "offsetgroup": "p1-7",
         "orientation": "v",
         "showlegend": true,
         "type": "box",
         "x": [
          "S1BF",
          "lower limb",
          "nose",
          "upper limb",
          "S1BF",
          "lower limb",
          "mouth",
          "trunk",
          "unassigned",
          "upper limb",
          "lower limb",
          "mouth",
          "unassigned"
         ],
         "x0": " ",
         "xaxis": "x",
         "y": [
          0.0004692357323010147,
          0.00017596339961288053,
          0.00005865446653762684,
          0.00011730893307525368,
          0.0028328611898017,
          0.0009442870632672333,
          0.0018885741265344666,
          0.0018885741265344666,
          0.0009442870632672333,
          0.0018885741265344666,
          0.00025265285497726126,
          0.001010611419909045,
          0.0001684352366515075
         ],
         "y0": " ",
         "yaxis": "y"
        },
        {
         "alignmentgroup": "True",
         "hovertemplate": "age=p7-13<br>Subdivided region=%{x}<br>scaled count=%{y}<extra></extra>",
         "legendgroup": "p7-13",
         "marker": {
          "color": "magenta"
         },
         "name": "p7-13",
         "notched": false,
         "offsetgroup": "p7-13",
         "orientation": "v",
         "showlegend": true,
         "type": "box",
         "x": [
          "S1BF",
          "lower limb",
          "mouth",
          "trunk",
          "upper limb",
          "S1BF",
          "lower limb",
          "mouth",
          "trunk",
          "upper limb",
          "S1BF",
          "lower limb",
          "mouth",
          "nose",
          "trunk",
          "upper limb",
          "S1BF",
          "lower limb",
          "mouth",
          "trunk",
          "unassigned",
          "upper limb",
          "S1BF",
          "mouth",
          "nose",
          "S1BF",
          "mouth",
          "S1BF",
          "lower limb",
          "mouth",
          "nose",
          "trunk",
          "unassigned",
          "upper limb",
          "S1BF",
          "mouth"
         ],
         "x0": " ",
         "xaxis": "x",
         "y": [
          0.0032383419689119173,
          0.0006476683937823834,
          0.0006476683937823834,
          0.0006476683937823834,
          0.0006476683937823834,
          0.0032383419689119173,
          0.0006476683937823834,
          0.0006476683937823834,
          0.0006476683937823834,
          0.0006476683937823834,
          0.006228373702422145,
          0.002076124567474048,
          0.002768166089965398,
          0.0006920415224913495,
          0.002076124567474048,
          0.0006920415224913495,
          0.002044989775051125,
          0.00408997955010225,
          0.002044989775051125,
          0.002044989775051125,
          0.006134969325153375,
          0.0081799591002045,
          0.0012738853503184713,
          0.0012738853503184713,
          0.0012738853503184713,
          0.0011389521640091116,
          0.0005694760820045558,
          0.003455425017277125,
          0.0003455425017277125,
          0.0003455425017277125,
          0.003455425017277125,
          0.007947477539737388,
          0.0003455425017277125,
          0.0003455425017277125,
          0.007957559681697613,
          0.002652519893899204
         ],
         "y0": " ",
         "yaxis": "y"
        }
       ],
       "layout": {
        "boxmode": "group",
        "legend": {
         "font": {
          "size": 20
         },
         "title": {
          "text": "age"
         },
         "tracegroupgap": 0
        },
        "template": {
         "data": {
          "bar": [
           {
            "error_x": {
             "color": "#2a3f5f"
            },
            "error_y": {
             "color": "#2a3f5f"
            },
            "marker": {
             "line": {
              "color": "#E5ECF6",
              "width": 0.5
             },
             "pattern": {
              "fillmode": "overlay",
              "size": 10,
              "solidity": 0.2
             }
            },
            "type": "bar"
           }
          ],
          "barpolar": [
           {
            "marker": {
             "line": {
              "color": "#E5ECF6",
              "width": 0.5
             },
             "pattern": {
              "fillmode": "overlay",
              "size": 10,
              "solidity": 0.2
             }
            },
            "type": "barpolar"
           }
          ],
          "carpet": [
           {
            "aaxis": {
             "endlinecolor": "#2a3f5f",
             "gridcolor": "white",
             "linecolor": "white",
             "minorgridcolor": "white",
             "startlinecolor": "#2a3f5f"
            },
            "baxis": {
             "endlinecolor": "#2a3f5f",
             "gridcolor": "white",
             "linecolor": "white",
             "minorgridcolor": "white",
             "startlinecolor": "#2a3f5f"
            },
            "type": "carpet"
           }
          ],
          "choropleth": [
           {
            "colorbar": {
             "outlinewidth": 0,
             "ticks": ""
            },
            "type": "choropleth"
           }
          ],
          "contour": [
           {
            "colorbar": {
             "outlinewidth": 0,
             "ticks": ""
            },
            "colorscale": [
             [
              0,
              "#0d0887"
             ],
             [
              0.1111111111111111,
              "#46039f"
             ],
             [
              0.2222222222222222,
              "#7201a8"
             ],
             [
              0.3333333333333333,
              "#9c179e"
             ],
             [
              0.4444444444444444,
              "#bd3786"
             ],
             [
              0.5555555555555556,
              "#d8576b"
             ],
             [
              0.6666666666666666,
              "#ed7953"
             ],
             [
              0.7777777777777778,
              "#fb9f3a"
             ],
             [
              0.8888888888888888,
              "#fdca26"
             ],
             [
              1,
              "#f0f921"
             ]
            ],
            "type": "contour"
           }
          ],
          "contourcarpet": [
           {
            "colorbar": {
             "outlinewidth": 0,
             "ticks": ""
            },
            "type": "contourcarpet"
           }
          ],
          "heatmap": [
           {
            "colorbar": {
             "outlinewidth": 0,
             "ticks": ""
            },
            "colorscale": [
             [
              0,
              "#0d0887"
             ],
             [
              0.1111111111111111,
              "#46039f"
             ],
             [
              0.2222222222222222,
              "#7201a8"
             ],
             [
              0.3333333333333333,
              "#9c179e"
             ],
             [
              0.4444444444444444,
              "#bd3786"
             ],
             [
              0.5555555555555556,
              "#d8576b"
             ],
             [
              0.6666666666666666,
              "#ed7953"
             ],
             [
              0.7777777777777778,
              "#fb9f3a"
             ],
             [
              0.8888888888888888,
              "#fdca26"
             ],
             [
              1,
              "#f0f921"
             ]
            ],
            "type": "heatmap"
           }
          ],
          "heatmapgl": [
           {
            "colorbar": {
             "outlinewidth": 0,
             "ticks": ""
            },
            "colorscale": [
             [
              0,
              "#0d0887"
             ],
             [
              0.1111111111111111,
              "#46039f"
             ],
             [
              0.2222222222222222,
              "#7201a8"
             ],
             [
              0.3333333333333333,
              "#9c179e"
             ],
             [
              0.4444444444444444,
              "#bd3786"
             ],
             [
              0.5555555555555556,
              "#d8576b"
             ],
             [
              0.6666666666666666,
              "#ed7953"
             ],
             [
              0.7777777777777778,
              "#fb9f3a"
             ],
             [
              0.8888888888888888,
              "#fdca26"
             ],
             [
              1,
              "#f0f921"
             ]
            ],
            "type": "heatmapgl"
           }
          ],
          "histogram": [
           {
            "marker": {
             "pattern": {
              "fillmode": "overlay",
              "size": 10,
              "solidity": 0.2
             }
            },
            "type": "histogram"
           }
          ],
          "histogram2d": [
           {
            "colorbar": {
             "outlinewidth": 0,
             "ticks": ""
            },
            "colorscale": [
             [
              0,
              "#0d0887"
             ],
             [
              0.1111111111111111,
              "#46039f"
             ],
             [
              0.2222222222222222,
              "#7201a8"
             ],
             [
              0.3333333333333333,
              "#9c179e"
             ],
             [
              0.4444444444444444,
              "#bd3786"
             ],
             [
              0.5555555555555556,
              "#d8576b"
             ],
             [
              0.6666666666666666,
              "#ed7953"
             ],
             [
              0.7777777777777778,
              "#fb9f3a"
             ],
             [
              0.8888888888888888,
              "#fdca26"
             ],
             [
              1,
              "#f0f921"
             ]
            ],
            "type": "histogram2d"
           }
          ],
          "histogram2dcontour": [
           {
            "colorbar": {
             "outlinewidth": 0,
             "ticks": ""
            },
            "colorscale": [
             [
              0,
              "#0d0887"
             ],
             [
              0.1111111111111111,
              "#46039f"
             ],
             [
              0.2222222222222222,
              "#7201a8"
             ],
             [
              0.3333333333333333,
              "#9c179e"
             ],
             [
              0.4444444444444444,
              "#bd3786"
             ],
             [
              0.5555555555555556,
              "#d8576b"
             ],
             [
              0.6666666666666666,
              "#ed7953"
             ],
             [
              0.7777777777777778,
              "#fb9f3a"
             ],
             [
              0.8888888888888888,
              "#fdca26"
             ],
             [
              1,
              "#f0f921"
             ]
            ],
            "type": "histogram2dcontour"
           }
          ],
          "mesh3d": [
           {
            "colorbar": {
             "outlinewidth": 0,
             "ticks": ""
            },
            "type": "mesh3d"
           }
          ],
          "parcoords": [
           {
            "line": {
             "colorbar": {
              "outlinewidth": 0,
              "ticks": ""
             }
            },
            "type": "parcoords"
           }
          ],
          "pie": [
           {
            "automargin": true,
            "type": "pie"
           }
          ],
          "scatter": [
           {
            "fillpattern": {
             "fillmode": "overlay",
             "size": 10,
             "solidity": 0.2
            },
            "type": "scatter"
           }
          ],
          "scatter3d": [
           {
            "line": {
             "colorbar": {
              "outlinewidth": 0,
              "ticks": ""
             }
            },
            "marker": {
             "colorbar": {
              "outlinewidth": 0,
              "ticks": ""
             }
            },
            "type": "scatter3d"
           }
          ],
          "scattercarpet": [
           {
            "marker": {
             "colorbar": {
              "outlinewidth": 0,
              "ticks": ""
             }
            },
            "type": "scattercarpet"
           }
          ],
          "scattergeo": [
           {
            "marker": {
             "colorbar": {
              "outlinewidth": 0,
              "ticks": ""
             }
            },
            "type": "scattergeo"
           }
          ],
          "scattergl": [
           {
            "marker": {
             "colorbar": {
              "outlinewidth": 0,
              "ticks": ""
             }
            },
            "type": "scattergl"
           }
          ],
          "scattermapbox": [
           {
            "marker": {
             "colorbar": {
              "outlinewidth": 0,
              "ticks": ""
             }
            },
            "type": "scattermapbox"
           }
          ],
          "scatterpolar": [
           {
            "marker": {
             "colorbar": {
              "outlinewidth": 0,
              "ticks": ""
             }
            },
            "type": "scatterpolar"
           }
          ],
          "scatterpolargl": [
           {
            "marker": {
             "colorbar": {
              "outlinewidth": 0,
              "ticks": ""
             }
            },
            "type": "scatterpolargl"
           }
          ],
          "scatterternary": [
           {
            "marker": {
             "colorbar": {
              "outlinewidth": 0,
              "ticks": ""
             }
            },
            "type": "scatterternary"
           }
          ],
          "surface": [
           {
            "colorbar": {
             "outlinewidth": 0,
             "ticks": ""
            },
            "colorscale": [
             [
              0,
              "#0d0887"
             ],
             [
              0.1111111111111111,
              "#46039f"
             ],
             [
              0.2222222222222222,
              "#7201a8"
             ],
             [
              0.3333333333333333,
              "#9c179e"
             ],
             [
              0.4444444444444444,
              "#bd3786"
             ],
             [
              0.5555555555555556,
              "#d8576b"
             ],
             [
              0.6666666666666666,
              "#ed7953"
             ],
             [
              0.7777777777777778,
              "#fb9f3a"
             ],
             [
              0.8888888888888888,
              "#fdca26"
             ],
             [
              1,
              "#f0f921"
             ]
            ],
            "type": "surface"
           }
          ],
          "table": [
           {
            "cells": {
             "fill": {
              "color": "#EBF0F8"
             },
             "line": {
              "color": "white"
             }
            },
            "header": {
             "fill": {
              "color": "#C8D4E3"
             },
             "line": {
              "color": "white"
             }
            },
            "type": "table"
           }
          ]
         },
         "layout": {
          "annotationdefaults": {
           "arrowcolor": "#2a3f5f",
           "arrowhead": 0,
           "arrowwidth": 1
          },
          "autotypenumbers": "strict",
          "coloraxis": {
           "colorbar": {
            "outlinewidth": 0,
            "ticks": ""
           }
          },
          "colorscale": {
           "diverging": [
            [
             0,
             "#8e0152"
            ],
            [
             0.1,
             "#c51b7d"
            ],
            [
             0.2,
             "#de77ae"
            ],
            [
             0.3,
             "#f1b6da"
            ],
            [
             0.4,
             "#fde0ef"
            ],
            [
             0.5,
             "#f7f7f7"
            ],
            [
             0.6,
             "#e6f5d0"
            ],
            [
             0.7,
             "#b8e186"
            ],
            [
             0.8,
             "#7fbc41"
            ],
            [
             0.9,
             "#4d9221"
            ],
            [
             1,
             "#276419"
            ]
           ],
           "sequential": [
            [
             0,
             "#0d0887"
            ],
            [
             0.1111111111111111,
             "#46039f"
            ],
            [
             0.2222222222222222,
             "#7201a8"
            ],
            [
             0.3333333333333333,
             "#9c179e"
            ],
            [
             0.4444444444444444,
             "#bd3786"
            ],
            [
             0.5555555555555556,
             "#d8576b"
            ],
            [
             0.6666666666666666,
             "#ed7953"
            ],
            [
             0.7777777777777778,
             "#fb9f3a"
            ],
            [
             0.8888888888888888,
             "#fdca26"
            ],
            [
             1,
             "#f0f921"
            ]
           ],
           "sequentialminus": [
            [
             0,
             "#0d0887"
            ],
            [
             0.1111111111111111,
             "#46039f"
            ],
            [
             0.2222222222222222,
             "#7201a8"
            ],
            [
             0.3333333333333333,
             "#9c179e"
            ],
            [
             0.4444444444444444,
             "#bd3786"
            ],
            [
             0.5555555555555556,
             "#d8576b"
            ],
            [
             0.6666666666666666,
             "#ed7953"
            ],
            [
             0.7777777777777778,
             "#fb9f3a"
            ],
            [
             0.8888888888888888,
             "#fdca26"
            ],
            [
             1,
             "#f0f921"
            ]
           ]
          },
          "colorway": [
           "#636efa",
           "#EF553B",
           "#00cc96",
           "#ab63fa",
           "#FFA15A",
           "#19d3f3",
           "#FF6692",
           "#B6E880",
           "#FF97FF",
           "#FECB52"
          ],
          "font": {
           "color": "#2a3f5f"
          },
          "geo": {
           "bgcolor": "white",
           "lakecolor": "white",
           "landcolor": "#E5ECF6",
           "showlakes": true,
           "showland": true,
           "subunitcolor": "white"
          },
          "hoverlabel": {
           "align": "left"
          },
          "hovermode": "closest",
          "mapbox": {
           "style": "light"
          },
          "paper_bgcolor": "white",
          "plot_bgcolor": "#E5ECF6",
          "polar": {
           "angularaxis": {
            "gridcolor": "white",
            "linecolor": "white",
            "ticks": ""
           },
           "bgcolor": "#E5ECF6",
           "radialaxis": {
            "gridcolor": "white",
            "linecolor": "white",
            "ticks": ""
           }
          },
          "scene": {
           "xaxis": {
            "backgroundcolor": "#E5ECF6",
            "gridcolor": "white",
            "gridwidth": 2,
            "linecolor": "white",
            "showbackground": true,
            "ticks": "",
            "zerolinecolor": "white"
           },
           "yaxis": {
            "backgroundcolor": "#E5ECF6",
            "gridcolor": "white",
            "gridwidth": 2,
            "linecolor": "white",
            "showbackground": true,
            "ticks": "",
            "zerolinecolor": "white"
           },
           "zaxis": {
            "backgroundcolor": "#E5ECF6",
            "gridcolor": "white",
            "gridwidth": 2,
            "linecolor": "white",
            "showbackground": true,
            "ticks": "",
            "zerolinecolor": "white"
           }
          },
          "shapedefaults": {
           "line": {
            "color": "#2a3f5f"
           }
          },
          "ternary": {
           "aaxis": {
            "gridcolor": "white",
            "linecolor": "white",
            "ticks": ""
           },
           "baxis": {
            "gridcolor": "white",
            "linecolor": "white",
            "ticks": ""
           },
           "bgcolor": "#E5ECF6",
           "caxis": {
            "gridcolor": "white",
            "linecolor": "white",
            "ticks": ""
           }
          },
          "title": {
           "x": 0.05
          },
          "xaxis": {
           "automargin": true,
           "gridcolor": "white",
           "linecolor": "white",
           "ticks": "",
           "title": {
            "standoff": 15
           },
           "zerolinecolor": "white",
           "zerolinewidth": 2
          },
          "yaxis": {
           "automargin": true,
           "gridcolor": "white",
           "linecolor": "white",
           "ticks": "",
           "title": {
            "standoff": 15
           },
           "zerolinecolor": "white",
           "zerolinewidth": 2
          }
         }
        },
        "title": {
         "text": "scaled Primary Somatosensory areas, p1-7 (n=3) and p7-13 (n=9)"
        },
        "xaxis": {
         "anchor": "y",
         "domain": [
          0,
          1
         ],
         "tickfont": {
          "size": 20
         },
         "title": {
          "font": {
           "size": 24
          },
          "text": "Subdivided region"
         }
        },
        "yaxis": {
         "anchor": "x",
         "domain": [
          0,
          1
         ],
         "tickfont": {
          "size": 18
         },
         "title": {
          "font": {
           "size": 24
          },
          "text": "scaled count"
         }
        }
       }
      }
     },
     "metadata": {},
     "output_type": "display_data"
    }
   ],
   "source": [
    "plot_scaledcount_zoomed_spec(\n",
    "    subdivided_S1_grouped,\n",
    "    \"scaled Primary Somatosensory areas, p1-7 (n=3) and p7-13 (n=9)\",\n",
    ")"
   ]
  }
 ],
 "metadata": {
  "kernelspec": {
   "display_name": "Python 3",
   "language": "python",
   "name": "python3"
  },
  "language_info": {
   "codemirror_mode": {
    "name": "ipython",
    "version": 3
   },
   "file_extension": ".py",
   "mimetype": "text/x-python",
   "name": "python",
   "nbconvert_exporter": "python",
   "pygments_lexer": "ipython3",
   "version": "3.13.7"
  }
 },
 "nbformat": 4,
 "nbformat_minor": 5
}
