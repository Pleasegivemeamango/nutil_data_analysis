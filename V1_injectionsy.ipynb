{
 "cells": [
  {
   "cell_type": "code",
   "execution_count": 1,
   "id": "264afaac",
   "metadata": {},
   "outputs": [],
   "source": [
    "import pandas as pd\n",
    "import os\n",
    "import plotly.express as px\n",
    "import plotly.graph_objects as go\n",
    "\n",
    "regions_complete = pd.read_csv(\"regions_complete.csv\", sep=\";\")"
   ]
  },
  {
   "cell_type": "code",
   "execution_count": 2,
   "id": "2049afea",
   "metadata": {},
   "outputs": [],
   "source": [
    "# get the csv files from the size_points folder\n",
    "\n",
    "size_points_path = \"size_points_only_v1_injection\"\n",
    "min_pixel_size = 1\n",
    "max_pixel_size = 17\n",
    "\n",
    "\n",
    "# loop through the files and save the csv files as seperate dataframes with the name of the file\n",
    "brains = {}\n",
    "for file in os.listdir(size_points_path):\n",
    "    if file.endswith(\".csv\"):\n",
    "        # get the brain name from the file name\n",
    "        brain_name_first_part = file.split(\"_\")[0:4]\n",
    "        black_white = file.split(\"_\")[6]\n",
    "        # join the brain name and black_white to a string\n",
    "\n",
    "        brain_name = black_white + \"_\" + \"_\".join(brain_name_first_part)\n",
    "        # remove the .csv from the end of the string\n",
    "        brain_name = brain_name.replace(\".csv\", \"\")\n",
    "        brains[brain_name] = pd.read_csv(os.path.join(size_points_path, file), sep=\";\")"
   ]
  },
  {
   "cell_type": "markdown",
   "id": "ddfc525a",
   "metadata": {},
   "source": [
    "ipsilateral = injection site of hemisphere\n",
    "contralateral = opposite side"
   ]
  },
  {
   "cell_type": "code",
   "execution_count": 4,
   "id": "646854f3",
   "metadata": {},
   "outputs": [],
   "source": [
    "# generate one file per brain\n",
    "\n",
    "\n",
    "def end_file_per_brain(white, black, name, age, injection_side, injection_area):\n",
    "    one_brain_file = pd.DataFrame(\n",
    "        columns=[\n",
    "            \"Brain\",\n",
    "            \"Region ID\",\n",
    "            \"General area\",\n",
    "            \"Hemisphere\",\n",
    "            \"count\",\n",
    "            \"scaled count\",\n",
    "            \"age\",\n",
    "        ]\n",
    "    )\n",
    "    total_counts = 0\n",
    "    if injection_side == \"left\":\n",
    "        white_side = \"contralateral\"\n",
    "        black_side = \"ipsilateral\"\n",
    "    else:\n",
    "        white_side = \"ipsilateral\"\n",
    "        black_side = \"contralateral\"\n",
    "\n",
    "    for index, row in white.iterrows():\n",
    "\n",
    "        hemisphere = white_side\n",
    "\n",
    "        if min_pixel_size <= row[\"Object area\"] <= max_pixel_size:\n",
    "            region_id = row[\"Region ID\"]\n",
    "\n",
    "            # check for the according General area in regions_complete\n",
    "            general_region = regions_complete.loc[\n",
    "                regions_complete[\"Region ID\"] == region_id, \"General area\"\n",
    "            ].values[0]\n",
    "            subdivided = regions_complete.loc[\n",
    "                regions_complete[\"Region ID\"] == region_id, \"Subdivided\"\n",
    "            ].values[0]\n",
    "\n",
    "            if subdivided != injection_area:\n",
    "\n",
    "                # if region_id is not in one_brain_file, add it\n",
    "                if region_id not in one_brain_file[\"Region ID\"].values:\n",
    "                    one_brain_file.loc[region_id] = [\n",
    "                        name,\n",
    "                        region_id,\n",
    "                        general_region,\n",
    "                        hemisphere,\n",
    "                        1,\n",
    "                        0,\n",
    "                        age,\n",
    "                    ]\n",
    "                else:\n",
    "                    one_brain_file.loc[region_id, \"count\"] += 1\n",
    "            if subdivided == injection_area and injection_side == \"left\":\n",
    "                if region_id not in one_brain_file[\"Region ID\"].values:\n",
    "                    one_brain_file.loc[region_id] = [\n",
    "                        name,\n",
    "                        region_id,\n",
    "                        general_region,\n",
    "                        hemisphere,\n",
    "                        1,\n",
    "                        0,\n",
    "                        age,\n",
    "                    ]\n",
    "                else:\n",
    "                    one_brain_file.loc[region_id, \"count\"] += 1\n",
    "\n",
    "            # the counts for clear label and fiber tracts are not counted\n",
    "            if (\n",
    "                general_region not in [\"Clear Label\", \"fiber tracts\", \"Parent\"]\n",
    "                and subdivided != \"injection_area\"\n",
    "            ):\n",
    "                total_counts += 1\n",
    "\n",
    "    for index, row in black.iterrows():\n",
    "        hemisphere = black_side\n",
    "\n",
    "        if min_pixel_size <= row[\"Object area\"] <= max_pixel_size:\n",
    "            region_id = row[\"Region ID\"]\n",
    "\n",
    "            # check for the according General area in regions_complete\n",
    "            general_region = regions_complete.loc[\n",
    "                regions_complete[\"Region ID\"] == region_id, \"General area\"\n",
    "            ].values[0]\n",
    "            subdivided = regions_complete.loc[\n",
    "                regions_complete[\"Region ID\"] == region_id, \"Subdivided\"\n",
    "            ].values[0]\n",
    "\n",
    "            if subdivided != injection_area:\n",
    "\n",
    "                # if region_id is not in one_brain_file with \"right\" in the hemisphere, add it\n",
    "                if region_id not in one_brain_file[\"Region ID\"].values:\n",
    "                    one_brain_file.loc[region_id] = [\n",
    "                        name,\n",
    "                        region_id,\n",
    "                        general_region,\n",
    "                        hemisphere,\n",
    "                        1,\n",
    "                        0,\n",
    "                        age,\n",
    "                    ]\n",
    "\n",
    "                else:\n",
    "                    # if region_id is already in one_brain_file check if the hemisphere is opposite or same side\n",
    "                    if one_brain_file.loc[region_id, \"Hemisphere\"] == black_side:\n",
    "                        # if it is, add the count to the existing count\n",
    "                        one_brain_file.loc[region_id, \"count\"] += 1\n",
    "                    else:\n",
    "                        one_brain_file.loc[region_id] = [\n",
    "                            name,\n",
    "                            region_id,\n",
    "                            general_region,\n",
    "                            hemisphere,\n",
    "                            1,\n",
    "                            0,\n",
    "                            age,\n",
    "                        ]\n",
    "\n",
    "                if subdivided == injection_area and injection_side == \"right\":\n",
    "                    if region_id not in one_brain_file[\"Region ID\"].values:\n",
    "                        one_brain_file.loc[region_id] = [\n",
    "                            name,\n",
    "                            region_id,\n",
    "                            general_region,\n",
    "                            hemisphere,\n",
    "                            1,\n",
    "                            0,\n",
    "                            age,\n",
    "                        ]\n",
    "                    else:\n",
    "                        one_brain_file.loc[region_id, \"count\"] += 1\n",
    "\n",
    "            if (\n",
    "                general_region not in [\"Clear Label\", \"fiber tracts\", \"Parent\"]\n",
    "                and subdivided != injection_area\n",
    "            ):\n",
    "                total_counts += 1\n",
    "\n",
    "    # scale the counts\n",
    "    one_brain_file[\"scaled count\"] = 100 / total_counts * one_brain_file[\"count\"]\n",
    "\n",
    "    return one_brain_file"
   ]
  },
  {
   "cell_type": "code",
   "execution_count": 5,
   "id": "fba6b31d",
   "metadata": {},
   "outputs": [],
   "source": [
    "n3_20241010_p1_7 = end_file_per_brain(\n",
    "    brains[\"white_20241010_p1_7_n3\"],\n",
    "    brains[\"black_20241010_p1_7_n3\"],\n",
    "    \"n3_20241010_p1_7\",\n",
    "    \"p1-7\",\n",
    "    \"right\",\n",
    "    \"Primary visual area\",\n",
    ")\n",
    "n11_20241103_p1_7 = end_file_per_brain(\n",
    "    brains[\"white_20241103_p1_7_n11\"],\n",
    "    brains[\"black_20241103_p1_7_n11\"],\n",
    "    \"n11_20241103_p1_7\",\n",
    "    \"p1-7\",\n",
    "    \"right\",\n",
    "    \"Primary visual area\",\n",
    ")\n",
    "n5_20241103_p1_7 = end_file_per_brain(\n",
    "    brains[\"white_20241103_p1_7_n5\"],\n",
    "    brains[\"black_20241103_p1_7_n5\"],\n",
    "    \"n5_20241103_p1_7\",\n",
    "    \"p1-7\",\n",
    "    \"right\",\n",
    "    \"Primary visual area\",\n",
    ")\n",
    "n1_20241203_p7_13 = end_file_per_brain(\n",
    "    brains[\"white_20241209_p7_13_n1\"],\n",
    "    brains[\"black_20241209_p7_13_n1\"],\n",
    "    \"n1_20241203_p7_13\",\n",
    "    \"p7-13\",\n",
    "    \"right\",\n",
    "    \"Primary visual area\",\n",
    ")\n",
    "n2_20241203_p7_13 = end_file_per_brain(\n",
    "    brains[\"white_20241203_p7_13_n2\"],\n",
    "    brains[\"black_20241203_p7_13_n2\"],\n",
    "    \"n2_20241203_p7_13\",\n",
    "    \"p7-13\",\n",
    "    \"right\",\n",
    "    \"Primary visual area\",\n",
    ")\n",
    "n4_20241203_p7_13 = end_file_per_brain(\n",
    "    brains[\"white_20241203_p7_13_n4\"],\n",
    "    brains[\"black_20241203_p7_13_n4\"],\n",
    "    \"n4_20241203_p7_13\",\n",
    "    \"p7-13\",\n",
    "    \"right\",\n",
    "    \"Primary visual area\",\n",
    ")\n",
    "n5_20241203_p7_13 = end_file_per_brain(\n",
    "    brains[\"white_20241203_p7_13_n5\"],\n",
    "    brains[\"black_20241203_p7_13_n5\"],\n",
    "    \"n5_20241203_p7_13\",\n",
    "    \"p7-13\",\n",
    "    \"right\",\n",
    "    \"Primary visual area\",\n",
    ")\n",
    "n8_20241203_p7_13 = end_file_per_brain(\n",
    "    brains[\"white_20241203_p7_13_n8\"],\n",
    "    brains[\"black_20241203_p7_13_n8\"],\n",
    "    \"n8_20241203_p7_13\",\n",
    "    \"p7-13\",\n",
    "    \"right\",\n",
    "    \"Primary visual area\",\n",
    ")\n",
    "n1_20241209_p7_13 = end_file_per_brain(\n",
    "    brains[\"white_20241209_p7_13_n1\"],\n",
    "    brains[\"black_20241209_p7_13_n1\"],\n",
    "    \"n1_20241209_p7_13\",\n",
    "    \"p7-13\",\n",
    "    \"right\",\n",
    "    \"Primary visual area\",\n",
    ")\n",
    "n2_20241209_p7_13 = end_file_per_brain(\n",
    "    brains[\"white_20241209_p7_13_n2\"],\n",
    "    brains[\"black_20241209_p7_13_n2\"],\n",
    "    \"n2_20241209_p7_13\",\n",
    "    \"p7-13\",\n",
    "    \"right\",\n",
    "    \"Primary visual area\",\n",
    ")\n",
    "n3_20241209_p7_13 = end_file_per_brain(\n",
    "    brains[\"white_20241209_p7_13_n3\"],\n",
    "    brains[\"black_20241209_p7_13_n3\"],\n",
    "    \"n3_20241209_p7_13\",\n",
    "    \"p7-13\",\n",
    "    \"right\",\n",
    "    \"Primary visual area\",\n",
    ")\n",
    "n4_20241209_p7_13 = end_file_per_brain(\n",
    "    brains[\"white_20241209_p7_13_n4\"],\n",
    "    brains[\"black_20241209_p7_13_n4\"],\n",
    "    \"n4_20241209_p7_13\",\n",
    "    \"p7-13\",\n",
    "    \"right\",\n",
    "    \"Primary visual area\",\n",
    ")"
   ]
  },
  {
   "cell_type": "code",
   "execution_count": 6,
   "id": "8cbba3d3",
   "metadata": {},
   "outputs": [],
   "source": [
    "# make the big mega file with all the brains put the brain name in the first column\n",
    "big_file_V1_injections = pd.concat(\n",
    "    [\n",
    "        n3_20241010_p1_7,\n",
    "        n11_20241103_p1_7,\n",
    "        n5_20241103_p1_7,\n",
    "        n1_20241203_p7_13,\n",
    "        n2_20241203_p7_13,\n",
    "        n4_20241203_p7_13,\n",
    "        n5_20241203_p7_13,\n",
    "        n8_20241203_p7_13,\n",
    "        n1_20241209_p7_13,\n",
    "        n2_20241209_p7_13,\n",
    "        n3_20241209_p7_13,\n",
    "        n4_20241209_p7_13,\n",
    "    ],\n",
    "    ignore_index=True,\n",
    ")"
   ]
  },
  {
   "cell_type": "code",
   "execution_count": 7,
   "id": "b8db2cb9",
   "metadata": {},
   "outputs": [],
   "source": [
    "# take out Clear label and fiber tracts\n",
    "big_file_V1_injections = big_file_V1_injections[\n",
    "    ~big_file_V1_injections[\"General area\"].isin(\n",
    "        [\"Clear Label\", \"fiber tracts\", \"Parent\"]\n",
    "    )\n",
    "]"
   ]
  },
  {
   "cell_type": "code",
   "execution_count": 8,
   "id": "eb6fba42",
   "metadata": {},
   "outputs": [],
   "source": [
    "# Find regions with zero neurons\n",
    "\n",
    "\n",
    "def find_zero_neurons(\n",
    "    big_file,\n",
    "    general_area_ipsi_age_A,\n",
    "    general_area_contra_age_A,\n",
    "    general_area_ipsi_age_B,\n",
    "    general_area_contra_age_B,\n",
    "    age_A,\n",
    "    age_B,\n",
    "):\n",
    "\n",
    "    # add General area that are in regions_complete but not in S1_injections\n",
    "    regions_complete = pd.read_csv(\"regions_complete.csv\", sep=\";\")\n",
    "    General_areas_complete = regions_complete[\"General area\"].unique()\n",
    "\n",
    "    # filter out \"Clear Label\" and \"Fiber tracts\" and \"Parent\" from General areas\n",
    "    General_areas_complete = [\n",
    "        area\n",
    "        for area in General_areas_complete\n",
    "        if area not in [\"Clear Label\", \"fiber tracts\", \"Parent\", \"retina\"]\n",
    "    ]\n",
    "\n",
    "    # make copy of the DataFrame to add missing General areas\n",
    "    big_file_long = big_file.copy()\n",
    "\n",
    "    general_area_ipsi_age_A = []\n",
    "    general_area_contra_age_A = []\n",
    "    general_area_ipsi_age_B = []\n",
    "    general_area_contra_age_B = []\n",
    "\n",
    "    # loop through big_file_long and add General area to lists\n",
    "    for index, row in big_file_long.iterrows():\n",
    "        if row[\"Hemisphere\"] == \"ipsilateral\":\n",
    "            if row[\"age\"] == age_A:\n",
    "                general_area_ipsi_age_A.append(row[\"General area\"])\n",
    "            else:\n",
    "                general_area_ipsi_age_B.append(row[\"General area\"])\n",
    "\n",
    "        else:\n",
    "            if row[\"age\"] == age_A:\n",
    "                general_area_contra_age_A.append(row[\"General area\"])\n",
    "            else:\n",
    "                general_area_contra_age_B.append(row[\"General area\"])\n",
    "\n",
    "    for area in General_areas_complete:\n",
    "        if area not in general_area_ipsi_age_A:\n",
    "            print(\"area not found in\", \"general_area_ipsi\", age_A, \":\", area)\n",
    "\n",
    "            big_file_long.loc[area] = [0, 0, area, \"ipsilateral\", 0, 0, age_A]\n",
    "\n",
    "        if area not in general_area_contra_age_A:\n",
    "            print(\"area not found in\", \"general_area_contra\", age_A, \":\", area)\n",
    "            big_file_long.loc[area] = [0, 0, area, \"contralateral\", 0, 0, age_A]\n",
    "\n",
    "        if area not in general_area_ipsi_age_B:\n",
    "            print(\"area not found in\", \"general_area_ipsi\", age_B, \":\", area)\n",
    "            big_file_long.loc[area] = [0, 0, area, \"ipsilateral\", 0, 0, age_B]\n",
    "\n",
    "        if area not in general_area_contra_age_B:\n",
    "            print(\"area not found in\", \"general_area_contra\", age_B, \":\", area)\n",
    "            big_file_long.loc[area] = [0, 0, area, \"contralateral\", 0, 0, age_B]\n",
    "\n",
    "    return big_file_long"
   ]
  },
  {
   "cell_type": "code",
   "execution_count": 9,
   "id": "95fe213e",
   "metadata": {},
   "outputs": [
    {
     "name": "stdout",
     "output_type": "stream",
     "text": [
      "area not found in general_area_ipsi p1-7 : root\n",
      "area not found in general_area_ipsi p1-7 : Temporal association areas\n",
      "area not found in general_area_ipsi p1-7 : Ectorhinal area\n",
      "area not found in general_area_ipsi p1-7 : Main olfactory bulb\n",
      "area not found in general_area_ipsi p1-7 : Accessory olfactory bulb\n",
      "area not found in general_area_ipsi p7-13 : Accessory olfactory bulb\n",
      "area not found in general_area_ipsi p1-7 : Anterior olfactory nucleus\n",
      "area not found in general_area_ipsi p1-7 : Taenia tecta\n",
      "area not found in general_area_ipsi p1-7 : Dorsal peduncular area\n",
      "area not found in general_area_contra p7-13 : Dorsal peduncular area\n",
      "area not found in general_area_ipsi p1-7 : Piriform area\n",
      "area not found in general_area_contra p7-13 : Piriform-amygdalar area\n",
      "area not found in general_area_ipsi p1-7 : Postpiriform transition area\n",
      "area not found in general_area_ipsi p1-7 : Medulla\n",
      "area not found in general_area_contra p7-13 : Cerebellum\n"
     ]
    }
   ],
   "source": [
    "big_file_V1_injections_long = find_zero_neurons(\n",
    "    big_file_V1_injections,\n",
    "    \"general_area_ipsi_p1-7\",\n",
    "    \"general_area_contra_p1-7\",\n",
    "    \"general_area_ipsi_p7-13\",\n",
    "    \"general_area_contra_p7-13\",\n",
    "    \"p1-7\",\n",
    "    \"p7-13\",\n",
    ")"
   ]
  },
  {
   "cell_type": "code",
   "execution_count": 10,
   "id": "65fb65b3",
   "metadata": {},
   "outputs": [],
   "source": [
    "# save the big file as csv\n",
    "big_file_V1_injections_long.to_csv(\n",
    "    \"big_file_V1_injections_long.csv\", sep=\";\", index=False\n",
    ")"
   ]
  },
  {
   "cell_type": "code",
   "execution_count": 11,
   "id": "472a5289",
   "metadata": {},
   "outputs": [],
   "source": [
    "# make a file with only general regions counts which are then scaled to the total count of the brain\n",
    "general_areas_file = pd.DataFrame(\n",
    "    columns=[\n",
    "        \"Brain\",\n",
    "        \"General area\",\n",
    "        \"Hemisphere\",\n",
    "        \"count\",\n",
    "        \"scaled count\",\n",
    "        \"age\",\n",
    "    ]\n",
    ")\n",
    "totals = pd.DataFrame(columns=[\"Brain\", \"total\"])\n",
    "for index, row in big_file_V1_injections_long.iterrows():\n",
    "    general_area = row[\"General area\"]\n",
    "    hemisphere = row[\"Hemisphere\"]\n",
    "    age = row[\"age\"]\n",
    "    name = row[\"Brain\"]\n",
    "    amount = row[\"count\"]\n",
    "\n",
    "    if name not in totals[\"Brain\"].values:\n",
    "        totals.loc[name] = [name, amount]\n",
    "    else:\n",
    "        totals.loc[name, \"total\"] += amount"
   ]
  },
  {
   "cell_type": "code",
   "execution_count": 12,
   "id": "24f61069",
   "metadata": {},
   "outputs": [],
   "source": [
    "df_filtered = big_file_V1_injections_long[\n",
    "    [\"Brain\", \"age\", \"count\", \"Hemisphere\", \"General area\"]\n",
    "]\n",
    "\n",
    "# Step 2: Group by the relevant identifiers and sum the count per group\n",
    "df_grouped = df_filtered.groupby(\n",
    "    [\"Brain\", \"General area\", \"Hemisphere\", \"age\"], as_index=False\n",
    ")[\"count\"].sum()\n",
    "\n",
    "# add scaled column with 0\n",
    "df_grouped[\"scaled count\"] = 0"
   ]
  },
  {
   "cell_type": "code",
   "execution_count": 13,
   "id": "f4402690",
   "metadata": {},
   "outputs": [
    {
     "name": "stderr",
     "output_type": "stream",
     "text": [
      "C:\\Users\\sahet\\AppData\\Local\\Temp\\ipykernel_4516\\1044406047.py:6: RuntimeWarning: divide by zero encountered in scalar divide\n",
      "  scaled_count = 1 / total_count * count\n",
      "C:\\Users\\sahet\\AppData\\Local\\Temp\\ipykernel_4516\\1044406047.py:6: RuntimeWarning: invalid value encountered in scalar multiply\n",
      "  scaled_count = 1 / total_count * count\n",
      "C:\\Users\\sahet\\AppData\\Local\\Temp\\ipykernel_4516\\1044406047.py:6: RuntimeWarning: divide by zero encountered in scalar divide\n",
      "  scaled_count = 1 / total_count * count\n",
      "C:\\Users\\sahet\\AppData\\Local\\Temp\\ipykernel_4516\\1044406047.py:6: RuntimeWarning: invalid value encountered in scalar multiply\n",
      "  scaled_count = 1 / total_count * count\n",
      "C:\\Users\\sahet\\AppData\\Local\\Temp\\ipykernel_4516\\1044406047.py:6: RuntimeWarning: divide by zero encountered in scalar divide\n",
      "  scaled_count = 1 / total_count * count\n",
      "C:\\Users\\sahet\\AppData\\Local\\Temp\\ipykernel_4516\\1044406047.py:6: RuntimeWarning: invalid value encountered in scalar multiply\n",
      "  scaled_count = 1 / total_count * count\n",
      "C:\\Users\\sahet\\AppData\\Local\\Temp\\ipykernel_4516\\1044406047.py:6: RuntimeWarning: divide by zero encountered in scalar divide\n",
      "  scaled_count = 1 / total_count * count\n",
      "C:\\Users\\sahet\\AppData\\Local\\Temp\\ipykernel_4516\\1044406047.py:6: RuntimeWarning: invalid value encountered in scalar multiply\n",
      "  scaled_count = 1 / total_count * count\n",
      "C:\\Users\\sahet\\AppData\\Local\\Temp\\ipykernel_4516\\1044406047.py:6: RuntimeWarning: divide by zero encountered in scalar divide\n",
      "  scaled_count = 1 / total_count * count\n",
      "C:\\Users\\sahet\\AppData\\Local\\Temp\\ipykernel_4516\\1044406047.py:6: RuntimeWarning: invalid value encountered in scalar multiply\n",
      "  scaled_count = 1 / total_count * count\n",
      "C:\\Users\\sahet\\AppData\\Local\\Temp\\ipykernel_4516\\1044406047.py:6: RuntimeWarning: divide by zero encountered in scalar divide\n",
      "  scaled_count = 1 / total_count * count\n",
      "C:\\Users\\sahet\\AppData\\Local\\Temp\\ipykernel_4516\\1044406047.py:6: RuntimeWarning: invalid value encountered in scalar multiply\n",
      "  scaled_count = 1 / total_count * count\n",
      "C:\\Users\\sahet\\AppData\\Local\\Temp\\ipykernel_4516\\1044406047.py:6: RuntimeWarning: divide by zero encountered in scalar divide\n",
      "  scaled_count = 1 / total_count * count\n",
      "C:\\Users\\sahet\\AppData\\Local\\Temp\\ipykernel_4516\\1044406047.py:6: RuntimeWarning: invalid value encountered in scalar multiply\n",
      "  scaled_count = 1 / total_count * count\n",
      "C:\\Users\\sahet\\AppData\\Local\\Temp\\ipykernel_4516\\1044406047.py:6: RuntimeWarning: divide by zero encountered in scalar divide\n",
      "  scaled_count = 1 / total_count * count\n",
      "C:\\Users\\sahet\\AppData\\Local\\Temp\\ipykernel_4516\\1044406047.py:6: RuntimeWarning: invalid value encountered in scalar multiply\n",
      "  scaled_count = 1 / total_count * count\n",
      "C:\\Users\\sahet\\AppData\\Local\\Temp\\ipykernel_4516\\1044406047.py:6: RuntimeWarning: divide by zero encountered in scalar divide\n",
      "  scaled_count = 1 / total_count * count\n",
      "C:\\Users\\sahet\\AppData\\Local\\Temp\\ipykernel_4516\\1044406047.py:6: RuntimeWarning: invalid value encountered in scalar multiply\n",
      "  scaled_count = 1 / total_count * count\n",
      "C:\\Users\\sahet\\AppData\\Local\\Temp\\ipykernel_4516\\1044406047.py:6: RuntimeWarning: divide by zero encountered in scalar divide\n",
      "  scaled_count = 1 / total_count * count\n",
      "C:\\Users\\sahet\\AppData\\Local\\Temp\\ipykernel_4516\\1044406047.py:6: RuntimeWarning: invalid value encountered in scalar multiply\n",
      "  scaled_count = 1 / total_count * count\n",
      "C:\\Users\\sahet\\AppData\\Local\\Temp\\ipykernel_4516\\1044406047.py:6: RuntimeWarning: divide by zero encountered in scalar divide\n",
      "  scaled_count = 1 / total_count * count\n",
      "C:\\Users\\sahet\\AppData\\Local\\Temp\\ipykernel_4516\\1044406047.py:6: RuntimeWarning: invalid value encountered in scalar multiply\n",
      "  scaled_count = 1 / total_count * count\n",
      "C:\\Users\\sahet\\AppData\\Local\\Temp\\ipykernel_4516\\1044406047.py:6: RuntimeWarning: divide by zero encountered in scalar divide\n",
      "  scaled_count = 1 / total_count * count\n",
      "C:\\Users\\sahet\\AppData\\Local\\Temp\\ipykernel_4516\\1044406047.py:6: RuntimeWarning: invalid value encountered in scalar multiply\n",
      "  scaled_count = 1 / total_count * count\n",
      "C:\\Users\\sahet\\AppData\\Local\\Temp\\ipykernel_4516\\1044406047.py:6: RuntimeWarning: divide by zero encountered in scalar divide\n",
      "  scaled_count = 1 / total_count * count\n",
      "C:\\Users\\sahet\\AppData\\Local\\Temp\\ipykernel_4516\\1044406047.py:6: RuntimeWarning: invalid value encountered in scalar multiply\n",
      "  scaled_count = 1 / total_count * count\n"
     ]
    },
    {
     "data": {
      "text/html": [
       "<div>\n",
       "<style scoped>\n",
       "    .dataframe tbody tr th:only-of-type {\n",
       "        vertical-align: middle;\n",
       "    }\n",
       "\n",
       "    .dataframe tbody tr th {\n",
       "        vertical-align: top;\n",
       "    }\n",
       "\n",
       "    .dataframe thead th {\n",
       "        text-align: right;\n",
       "    }\n",
       "</style>\n",
       "<table border=\"1\" class=\"dataframe\">\n",
       "  <thead>\n",
       "    <tr style=\"text-align: right;\">\n",
       "      <th></th>\n",
       "      <th>Brain</th>\n",
       "      <th>General area</th>\n",
       "      <th>Hemisphere</th>\n",
       "      <th>age</th>\n",
       "      <th>count</th>\n",
       "      <th>scaled count</th>\n",
       "    </tr>\n",
       "  </thead>\n",
       "  <tbody>\n",
       "    <tr>\n",
       "      <th>0</th>\n",
       "      <td>0</td>\n",
       "      <td>Accessory olfactory bulb</td>\n",
       "      <td>ipsilateral</td>\n",
       "      <td>p7-13</td>\n",
       "      <td>0</td>\n",
       "      <td>NaN</td>\n",
       "    </tr>\n",
       "    <tr>\n",
       "      <th>1</th>\n",
       "      <td>0</td>\n",
       "      <td>Anterior olfactory nucleus</td>\n",
       "      <td>ipsilateral</td>\n",
       "      <td>p1-7</td>\n",
       "      <td>0</td>\n",
       "      <td>NaN</td>\n",
       "    </tr>\n",
       "    <tr>\n",
       "      <th>2</th>\n",
       "      <td>0</td>\n",
       "      <td>Cerebellum</td>\n",
       "      <td>contralateral</td>\n",
       "      <td>p7-13</td>\n",
       "      <td>0</td>\n",
       "      <td>NaN</td>\n",
       "    </tr>\n",
       "    <tr>\n",
       "      <th>3</th>\n",
       "      <td>0</td>\n",
       "      <td>Dorsal peduncular area</td>\n",
       "      <td>contralateral</td>\n",
       "      <td>p7-13</td>\n",
       "      <td>0</td>\n",
       "      <td>NaN</td>\n",
       "    </tr>\n",
       "    <tr>\n",
       "      <th>4</th>\n",
       "      <td>0</td>\n",
       "      <td>Ectorhinal area</td>\n",
       "      <td>ipsilateral</td>\n",
       "      <td>p1-7</td>\n",
       "      <td>0</td>\n",
       "      <td>NaN</td>\n",
       "    </tr>\n",
       "    <tr>\n",
       "      <th>...</th>\n",
       "      <td>...</td>\n",
       "      <td>...</td>\n",
       "      <td>...</td>\n",
       "      <td>...</td>\n",
       "      <td>...</td>\n",
       "      <td>...</td>\n",
       "    </tr>\n",
       "    <tr>\n",
       "      <th>667</th>\n",
       "      <td>n8_20241203_p7_13</td>\n",
       "      <td>Visceral area</td>\n",
       "      <td>ipsilateral</td>\n",
       "      <td>p7-13</td>\n",
       "      <td>7</td>\n",
       "      <td>0.018568</td>\n",
       "    </tr>\n",
       "    <tr>\n",
       "      <th>668</th>\n",
       "      <td>n8_20241203_p7_13</td>\n",
       "      <td>Visual areas</td>\n",
       "      <td>contralateral</td>\n",
       "      <td>p7-13</td>\n",
       "      <td>29</td>\n",
       "      <td>0.076923</td>\n",
       "    </tr>\n",
       "    <tr>\n",
       "      <th>669</th>\n",
       "      <td>n8_20241203_p7_13</td>\n",
       "      <td>Visual areas</td>\n",
       "      <td>ipsilateral</td>\n",
       "      <td>p7-13</td>\n",
       "      <td>55</td>\n",
       "      <td>0.145889</td>\n",
       "    </tr>\n",
       "    <tr>\n",
       "      <th>670</th>\n",
       "      <td>n8_20241203_p7_13</td>\n",
       "      <td>root</td>\n",
       "      <td>ipsilateral</td>\n",
       "      <td>p7-13</td>\n",
       "      <td>1</td>\n",
       "      <td>0.002653</td>\n",
       "    </tr>\n",
       "    <tr>\n",
       "      <th>671</th>\n",
       "      <td>n8_20241203_p7_13</td>\n",
       "      <td>ventricular systems</td>\n",
       "      <td>contralateral</td>\n",
       "      <td>p7-13</td>\n",
       "      <td>1</td>\n",
       "      <td>0.002653</td>\n",
       "    </tr>\n",
       "  </tbody>\n",
       "</table>\n",
       "<p>672 rows × 6 columns</p>\n",
       "</div>"
      ],
      "text/plain": [
       "                 Brain                General area     Hemisphere    age  \\\n",
       "0                    0    Accessory olfactory bulb    ipsilateral  p7-13   \n",
       "1                    0  Anterior olfactory nucleus    ipsilateral   p1-7   \n",
       "2                    0                  Cerebellum  contralateral  p7-13   \n",
       "3                    0      Dorsal peduncular area  contralateral  p7-13   \n",
       "4                    0             Ectorhinal area    ipsilateral   p1-7   \n",
       "..                 ...                         ...            ...    ...   \n",
       "667  n8_20241203_p7_13               Visceral area    ipsilateral  p7-13   \n",
       "668  n8_20241203_p7_13                Visual areas  contralateral  p7-13   \n",
       "669  n8_20241203_p7_13                Visual areas    ipsilateral  p7-13   \n",
       "670  n8_20241203_p7_13                        root    ipsilateral  p7-13   \n",
       "671  n8_20241203_p7_13         ventricular systems  contralateral  p7-13   \n",
       "\n",
       "     count  scaled count  \n",
       "0        0           NaN  \n",
       "1        0           NaN  \n",
       "2        0           NaN  \n",
       "3        0           NaN  \n",
       "4        0           NaN  \n",
       "..     ...           ...  \n",
       "667      7      0.018568  \n",
       "668     29      0.076923  \n",
       "669     55      0.145889  \n",
       "670      1      0.002653  \n",
       "671      1      0.002653  \n",
       "\n",
       "[672 rows x 6 columns]"
      ]
     },
     "execution_count": 13,
     "metadata": {},
     "output_type": "execute_result"
    }
   ],
   "source": [
    "# scale the counts\n",
    "for index, row in df_grouped.iterrows():\n",
    "    brain_name = row[\"Brain\"]\n",
    "    count = row[\"count\"]\n",
    "    total_count = totals.loc[totals[\"Brain\"] == brain_name, \"total\"].values[0]\n",
    "    scaled_count = 1 / total_count * count\n",
    "    df_grouped.loc[index, \"scaled count\"] = scaled_count\n",
    "df_grouped"
   ]
  },
  {
   "cell_type": "code",
   "execution_count": 14,
   "id": "6f3f92ed",
   "metadata": {},
   "outputs": [],
   "source": [
    "def get_area_order_by_age(big_file_long):\n",
    "    # Filter for 'ipsilateral' hemisphere and age group 'p7-13'\n",
    "    filtered = big_file_long[\n",
    "        (big_file_long[\"Hemisphere\"] == \"ipsilateral\")\n",
    "        & (big_file_long[\"age\"] == \"p7-13\")\n",
    "    ]\n",
    "\n",
    "    area_order_scaled = (\n",
    "        filtered.groupby(\"General area\")[\"scaled count\"]\n",
    "        .max()\n",
    "        .sort_values(ascending=False)\n",
    "        .index.tolist()\n",
    "    )\n",
    "\n",
    "    area_order_count = (\n",
    "        filtered.groupby(\"General area\")[\"count\"]\n",
    "        .max()\n",
    "        .sort_values(ascending=False)\n",
    "        .index.tolist()\n",
    "    )\n",
    "\n",
    "    return area_order_scaled, area_order_count"
   ]
  },
  {
   "cell_type": "code",
   "execution_count": 15,
   "id": "4b51f3fc",
   "metadata": {},
   "outputs": [],
   "source": [
    "area_order_scaled, area_order_count = get_area_order_by_age(df_grouped)"
   ]
  },
  {
   "cell_type": "code",
   "execution_count": 37,
   "id": "39917f91",
   "metadata": {},
   "outputs": [],
   "source": [
    "def plot_count(big_file_long, Title, area_order_count):\n",
    "\n",
    "    fig = px.violin(\n",
    "        big_file_long,\n",
    "        y=\"count\",\n",
    "        x=\"General area\",\n",
    "        facet_col=\"age\",\n",
    "        color=\"Hemisphere\",\n",
    "        box=True,\n",
    "        color_discrete_map={\"contralateral\": \"orange\", \"ipsilateral\": \"magenta\"},\n",
    "        title=Title,\n",
    "        category_orders={\"General area\": area_order_count},\n",
    "    )\n",
    "    fig.update_traces(\n",
    "        meanline_visible=True\n",
    "    )  # displays the arithmetic mean of the distribution\n",
    "    fig.update_layout(violinmode=\"group\")  # group left(right violins side-by-side)\n",
    "\n",
    "    return fig"
   ]
  },
  {
   "cell_type": "code",
   "execution_count": 31,
   "id": "f72bcc1f",
   "metadata": {},
   "outputs": [],
   "source": [
    "def plot_scaled(big_file_long, Title, area_order_scaled):\n",
    "\n",
    "    fig = px.violin(\n",
    "        big_file_long,\n",
    "        y=\"scaled count\",\n",
    "        x=\"General area\",\n",
    "        facet_col=\"age\",\n",
    "        color=\"Hemisphere\",\n",
    "        box=True,\n",
    "        color_discrete_map={\"contralateral\": \"orange\", \"ipsilateral\": \"magenta\"},\n",
    "        title=Title,\n",
    "        category_orders={\"General area\": area_order_scaled},\n",
    "    )\n",
    "    fig.update_traces(\n",
    "        meanline_visible=True\n",
    "    )  # displays the arithmetic mean of the distribution\n",
    "    fig.update_layout(violinmode=\"group\")  # group left(right violins side-by-side)\n",
    "\n",
    "    return fig"
   ]
  },
  {
   "cell_type": "code",
   "execution_count": 34,
   "id": "a396df42",
   "metadata": {},
   "outputs": [],
   "source": [
    "def plot_scaled_single(big_file_long, Title, area_order_scaled, age_group):\n",
    "    df_age = big_file_long[big_file_long[\"age\"] == age_group]\n",
    "\n",
    "    fig = px.violin(\n",
    "        df_age,\n",
    "        y=\"scaled count\",\n",
    "        x=\"General area\",\n",
    "        color=\"Hemisphere\",\n",
    "        box=True,\n",
    "        color_discrete_map={\"contralateral\": \"orange\", \"ipsilateral\": \"magenta\"},\n",
    "        title=Title,\n",
    "        category_orders={\"General area\": area_order_scaled},\n",
    "    )\n",
    "    fig.update_traces(\n",
    "        meanline_visible=True\n",
    "    )  # displays the arithmetic mean of the distribution\n",
    "    fig.update_layout(violinmode=\"group\")  # group left(right violins side-by-side)\n",
    "\n",
    "    return fig"
   ]
  },
  {
   "cell_type": "code",
   "execution_count": 35,
   "id": "ff31582c",
   "metadata": {},
   "outputs": [
    {
     "data": {
      "application/vnd.plotly.v1+json": {
       "config": {
        "plotlyServerURL": "https://plotly.com"
       },
       "data": [
        {
         "alignmentgroup": "True",
         "box": {
          "visible": true
         },
         "hovertemplate": "Hemisphere=ipsilateral<br>General area=%{x}<br>scaled count=%{y}<extra></extra>",
         "legendgroup": "ipsilateral",
         "marker": {
          "color": "magenta"
         },
         "meanline": {
          "visible": true
         },
         "name": "ipsilateral",
         "offsetgroup": "ipsilateral",
         "orientation": "v",
         "scalegroup": "True",
         "showlegend": true,
         "type": "violin",
         "x": [
          "Accessory olfactory bulb",
          "Agranular insular area",
          "Anterior cingulate area",
          "Anterior olfactory nucleus",
          "Auditory areas",
          "Cortical amygdalar area",
          "Cortical subplate",
          "Dorsal peduncular area",
          "Ectorhinal area",
          "Hippocampal region",
          "Hypothalamus",
          "Infralimbic area",
          "Medulla",
          "Midbrain",
          "Nucleus of the lateral olfactory tract",
          "Orbital area",
          "Pallidum",
          "Perirhinal area",
          "Posterior parietal association areas",
          "Postpiriform transition area",
          "Prelimbic area",
          "Retrohippocampal region",
          "Retrosplenial area",
          "Somatomotor areas",
          "Somatosensory areas",
          "Striatum",
          "Thalamus",
          "Visceral area",
          "Visual areas",
          "Agranular insular area",
          "Anterior cingulate area",
          "Anterior olfactory nucleus",
          "Auditory areas",
          "Cortical amygdalar area",
          "Cortical subplate",
          "Dorsal peduncular area",
          "Ectorhinal area",
          "Hippocampal region",
          "Hypothalamus",
          "Infralimbic area",
          "Medulla",
          "Midbrain",
          "Nucleus of the lateral olfactory tract",
          "Orbital area",
          "Pallidum",
          "Perirhinal area",
          "Posterior parietal association areas",
          "Postpiriform transition area",
          "Prelimbic area",
          "Retrohippocampal region",
          "Retrosplenial area",
          "Somatomotor areas",
          "Somatosensory areas",
          "Striatum",
          "Thalamus",
          "Visceral area",
          "Visual areas",
          "Agranular insular area",
          "Anterior cingulate area",
          "Anterior olfactory nucleus",
          "Auditory areas",
          "Cortical amygdalar area",
          "Cortical subplate",
          "Ectorhinal area",
          "Frontal pole",
          "Gustatory areas",
          "Hippocampal region",
          "Hypothalamus",
          "Infralimbic area",
          "Medulla",
          "Midbrain",
          "Orbital area",
          "Pallidum",
          "Perirhinal area",
          "Piriform-amygdalar area",
          "Pons",
          "Posterior parietal association areas",
          "Retrohippocampal region",
          "Retrosplenial area",
          "Somatomotor areas",
          "Somatosensory areas",
          "Striatum",
          "Thalamus",
          "Visceral area",
          "Visual areas",
          "Agranular insular area",
          "Anterior cingulate area",
          "Auditory areas",
          "Cortical amygdalar area",
          "Cortical subplate",
          "Ectorhinal area",
          "Gustatory areas",
          "Hippocampal region",
          "Hypothalamus",
          "Main olfactory bulb",
          "Midbrain",
          "Orbital area",
          "Retrohippocampal region",
          "Retrosplenial area",
          "Somatomotor areas",
          "Somatosensory areas",
          "Striatum",
          "Temporal association areas",
          "Thalamus",
          "Visceral area",
          "Visual areas",
          "ventricular systems",
          "Agranular insular area",
          "Anterior cingulate area",
          "Anterior olfactory nucleus",
          "Auditory areas",
          "Cortical subplate",
          "Dorsal peduncular area",
          "Ectorhinal area",
          "Frontal pole",
          "Gustatory areas",
          "Hippocampal region",
          "Hypothalamus",
          "Infralimbic area",
          "Midbrain",
          "Orbital area",
          "Perirhinal area",
          "Piriform-amygdalar area",
          "Pons",
          "Posterior parietal association areas",
          "Postpiriform transition area",
          "Prelimbic area",
          "Retrohippocampal region",
          "Retrosplenial area",
          "Somatomotor areas",
          "Striatum",
          "Temporal association areas",
          "Thalamus",
          "Visual areas",
          "root",
          "Agranular insular area",
          "Anterior cingulate area",
          "Auditory areas",
          "Cerebellum",
          "Cortical subplate",
          "Ectorhinal area",
          "Frontal pole",
          "Gustatory areas",
          "Hypothalamus",
          "Medulla",
          "Midbrain",
          "Nucleus of the lateral olfactory tract",
          "Orbital area",
          "Pallidum",
          "Pons",
          "Posterior parietal association areas",
          "Prelimbic area",
          "Retrohippocampal region",
          "Retrosplenial area",
          "Somatomotor areas",
          "Somatosensory areas",
          "Striatum",
          "Taenia tecta",
          "Thalamus",
          "Visceral area",
          "Visual areas",
          "ventricular systems",
          "Agranular insular area",
          "Anterior cingulate area",
          "Auditory areas",
          "Cortical amygdalar area",
          "Cortical subplate",
          "Dorsal peduncular area",
          "Ectorhinal area",
          "Frontal pole",
          "Gustatory areas",
          "Hypothalamus",
          "Infralimbic area",
          "Midbrain",
          "Orbital area",
          "Pallidum",
          "Perirhinal area",
          "Piriform-amygdalar area",
          "Pons",
          "Posterior parietal association areas",
          "Postpiriform transition area",
          "Prelimbic area",
          "Retrohippocampal region",
          "Retrosplenial area",
          "Somatomotor areas",
          "Somatosensory areas",
          "Striatum",
          "Taenia tecta",
          "Temporal association areas",
          "Thalamus",
          "Visceral area",
          "Visual areas",
          "ventricular systems",
          "Agranular insular area",
          "Auditory areas",
          "Cortical amygdalar area",
          "Cortical subplate",
          "Ectorhinal area",
          "Frontal pole",
          "Gustatory areas",
          "Hippocampal region",
          "Hypothalamus",
          "Medulla",
          "Midbrain",
          "Nucleus of the lateral olfactory tract",
          "Orbital area",
          "Pallidum",
          "Perirhinal area",
          "Posterior parietal association areas",
          "Retrohippocampal region",
          "Retrosplenial area",
          "Somatomotor areas",
          "Somatosensory areas",
          "Striatum",
          "Taenia tecta",
          "Thalamus",
          "Visceral area",
          "Visual areas",
          "ventricular systems",
          "Anterior cingulate area",
          "Auditory areas",
          "Cortical subplate",
          "Ectorhinal area",
          "Gustatory areas",
          "Hippocampal region",
          "Hypothalamus",
          "Midbrain",
          "Orbital area",
          "Perirhinal area",
          "Piriform area",
          "Pons",
          "Posterior parietal association areas",
          "Prelimbic area",
          "Retrohippocampal region",
          "Retrosplenial area",
          "Somatomotor areas",
          "Somatosensory areas",
          "Striatum",
          "Thalamus",
          "Visceral area",
          "Visual areas",
          "root"
         ],
         "x0": " ",
         "xaxis": "x",
         "y": {
          "bdata": "AAAAAAAA+H/gF27tjdVfP2Zz6VCD3Zk/6w/0SAk5RT/gF27tjdVvP+AXbu2N1V8/70xGi1c+gT/rD/RICTl1P+sP9EgJOYU/4Bdu7Y3VXz/i1t5Y/YGOP+6N1R/okXI/4Bdu7Y3VXz/gF27tjdVvP+sP9EgJOVU/45VPxGwujT/gF27tjdVfP+OVT8RsLn0/afHKJ2I2lz/rD/RICTlFP+YTMZtLh2o/VcAv3Nob0z/szmS0eOXTP+YTMZtLh4o/6JEScirgdz/ujdUf6JFyP+9MRotXPpE/6w/0SAk5RT+rP9AjJeSkP+AXbu2N1V8/ZnPpUIPdmT/rD/RICTlFP+AXbu2N1W8/4Bdu7Y3VXz/vTEaLVz6BP+sP9EgJOXU/6w/0SAk5hT/gF27tjdVfP+LW3lj9gY4/7o3VH+iRcj/gF27tjdVfP+AXbu2N1W8/6w/0SAk5VT/jlU/EbC6NP+AXbu2N1V8/45VPxGwufT9p8conYjaXP+sP9EgJOUU/5hMxm0uHaj9VwC/c2hvTP+zOZLR45dM/5hMxm0uHij/okRJyKuB3P+6N1R/okXI/70xGi1c+kT/rD/RICTlFP6s/0CMl5KQ/MNZ7Icdsgj+q5iJfm9eDP54HcdpDrVY/ngdx2kOtdj+eB3HaQ61GPzDWeyHHbII/ngdx2kOtZj+eB3HaQ61GP5gBa9Q9p6A/ngdx2kOtVj+2xdTj8gGBP54HcdpDrWY/ngdx2kOtZj+q5iJfm9eDP1Wg6zaCzZg/ngdx2kOtdj+eB3HaQ61mP54HcdpDrUY/ngdx2kOtdj+eB3HaQ612P54HcdpDrYY/kii/VeyCiT+GSQ3RlFhsP3lqW0w9Lo8/eWpbTD0ufz884oct03iuP7bF1OPyAXE/tsXU4/IBoT+fqVx3vNiSPyri0En7IIk/KuLQSfsgeT/NES5o0fCEP3FBi4anwGA/KuLQSfsgiT9xQYuGp8BgP3FBi4anwJA/KuLQSfsgeT9xQYuGp8BwP3FBi4anwJA/zREuaNHwhD+I9fP+sczBPy8P6+f9Y8k/KuLQSfsgiT+RDKhnKte9P3FBi4anwIA/hrJzKyVRjT9v/gqzGkWsP3FBi4anwHA/8B/LHOGCxj9xQYuGp8BwP12i3DdZSnM/XaLcN1lKkz/RLSb1drhpPxdogRZogXY/XaLcN1lKYz9dotw3WUpjPxdogRZogYY/0S0m9Xa4ST/RLSb1drhJP9EtJvV2uEk/i/PK04XvjD/RLSb1drhJPzoFL6fg5YQ/g2xay/5+pD/RLSb1drhZP9EtJvV2uFk/XaLcN1lKcz9dotw3WUpjP12i3DdZSmM/XaLcN1lKcz8dwiEcwiG8P1TFeeXpwtc/i/PK04XvjD86BS+n4OWEP9EtJvV2uGk/F2iBFmiBdj+47sYlyn3DP9EtJvV2uFk/Alos+JdOjz8BPMj6D99kPwE8yPoP32Q/ATzI+g/fVD8BPMj6D990PwJaLPiXTm8/ATzI+g/fVD8BS3r50xaKPwJaLPiXTn8/Alos+JdObz8BS3r50xaKPwE8yPoP32Q/YYX3eeohqD8BS3r50xZ6PwJaLPiXTn8/ATzI+g/fVD+BUtP4tbKMPyH68XoXOKQ/Alos+JdOnz8CWiz4l05/PwJaLPiXTm8/ATzI+g/fdD8BPMj6D99kP4E0b/stQ5I/Alos+JdOfz+BUtP4tbKcPwE8yPoP31Q/BcHzkhypgj/kSJUA+VNwPwXB85IcqWI/BcHzkhypYj+Y3ZylPCidP4ihbdyq/Vs/RrGwt2NTZz+IoW3cqv1bPwXB85IcqYI/JjlSJUD+dD8FwfOSHKlyPw1fi3dlPpM/JjlSJUD+lD+IoW3cqv1bPwXB85IcqVI/BcHzkhypQj8FwfOSHKlyP0axsLdjU2c/Ff0iXK7Tgz8FwfOSHKlyP2cpD0qHqHk/EDwvyZEq0T9GsbC3Y1N3PwXB85IcqWI/RrGwt2NTZz+IoW3cqv1bPwXB85IcqWI/GcxuzlIepD8FwfOSHKlSP9q/Aev7MMQ/BcHzkhypUj+2pFt25XlpP4VZir49pWY/hVmKvj2lZj+31Xij/LSXPyTD507u+1A/hVmKvj2lRj9UDrkGltBzP4VZir49pUY/VA65BpbQcz/m7ywujU5cPyTD507u+3A/JMPnTu77YD8kw+dO7vuAP4VZir49pTY/hVmKvj2lNj/wFdw8GLGBP4VZir49pVY/JMPnTu77YD8kw+dO7vtQP1QOuQaW0JM/7bOh4uk6dT+FWYq+PaVGP05KRFI55Jo/JMPnTu77UD8czlVtetSZP4VZir49pTY/NfnZ92spiz8/+34tZQOTPzX52fdrKYs/P/t+LWUDkz+R+kfGvLp1P+37tZQNTJA/NfnZ92spiz+WexphuaehP5H6R8a8uoU/kfpHxry6ZT+R+kfGvLplPz/7fi1lA5M/kfpHxry6dT+R+kfGvLplP4f4opDD4K0/jHl1K8DNqT/t+7WUDUyAP5H6R8a8uoU/kfpHxry6ZT/t+7WUDUyAPz/7fi1lA5M/VdtlOnqswj+R+kfGvLplPw==",
          "dtype": "f8"
         },
         "y0": " ",
         "yaxis": "y"
        },
        {
         "alignmentgroup": "True",
         "box": {
          "visible": true
         },
         "hovertemplate": "Hemisphere=contralateral<br>General area=%{x}<br>scaled count=%{y}<extra></extra>",
         "legendgroup": "contralateral",
         "marker": {
          "color": "orange"
         },
         "meanline": {
          "visible": true
         },
         "name": "contralateral",
         "offsetgroup": "contralateral",
         "orientation": "v",
         "scalegroup": "True",
         "showlegend": true,
         "type": "violin",
         "x": [
          "Cerebellum",
          "Dorsal peduncular area",
          "Piriform-amygdalar area",
          "Agranular insular area",
          "Anterior cingulate area",
          "Auditory areas",
          "Ectorhinal area",
          "Hippocampal region",
          "Hypothalamus",
          "Main olfactory bulb",
          "Midbrain",
          "Orbital area",
          "Pallidum",
          "Piriform area",
          "Pons",
          "Posterior parietal association areas",
          "Prelimbic area",
          "Retrohippocampal region",
          "Retrosplenial area",
          "Somatomotor areas",
          "Somatosensory areas",
          "Striatum",
          "Taenia tecta",
          "Temporal association areas",
          "Thalamus",
          "Visceral area",
          "Visual areas",
          "root",
          "ventricular systems",
          "Agranular insular area",
          "Anterior cingulate area",
          "Auditory areas",
          "Ectorhinal area",
          "Hippocampal region",
          "Hypothalamus",
          "Main olfactory bulb",
          "Midbrain",
          "Orbital area",
          "Pallidum",
          "Piriform area",
          "Pons",
          "Posterior parietal association areas",
          "Prelimbic area",
          "Retrohippocampal region",
          "Retrosplenial area",
          "Somatomotor areas",
          "Somatosensory areas",
          "Striatum",
          "Taenia tecta",
          "Temporal association areas",
          "Thalamus",
          "Visceral area",
          "Visual areas",
          "root",
          "ventricular systems",
          "Agranular insular area",
          "Anterior cingulate area",
          "Auditory areas",
          "Cortical amygdalar area",
          "Cortical subplate",
          "Ectorhinal area",
          "Gustatory areas",
          "Hippocampal region",
          "Hypothalamus",
          "Infralimbic area",
          "Main olfactory bulb",
          "Medulla",
          "Midbrain",
          "Orbital area",
          "Pallidum",
          "Perirhinal area",
          "Piriform area",
          "Pons",
          "Posterior parietal association areas",
          "Postpiriform transition area",
          "Prelimbic area",
          "Retrohippocampal region",
          "Retrosplenial area",
          "Somatomotor areas",
          "Somatosensory areas",
          "Striatum",
          "Taenia tecta",
          "Temporal association areas",
          "Thalamus",
          "Visceral area",
          "Visual areas",
          "root",
          "ventricular systems",
          "Agranular insular area",
          "Anterior cingulate area",
          "Anterior olfactory nucleus",
          "Auditory areas",
          "Gustatory areas",
          "Hippocampal region",
          "Midbrain",
          "Orbital area",
          "Pallidum",
          "Piriform area",
          "Pons",
          "Retrohippocampal region",
          "Retrosplenial area",
          "Somatomotor areas",
          "Somatosensory areas",
          "Striatum",
          "Taenia tecta",
          "Thalamus",
          "Visual areas",
          "root",
          "Accessory olfactory bulb",
          "Agranular insular area",
          "Anterior cingulate area",
          "Auditory areas",
          "Cortical amygdalar area",
          "Cortical subplate",
          "Ectorhinal area",
          "Gustatory areas",
          "Hippocampal region",
          "Hypothalamus",
          "Main olfactory bulb",
          "Midbrain",
          "Orbital area",
          "Perirhinal area",
          "Piriform area",
          "Pons",
          "Prelimbic area",
          "Retrohippocampal region",
          "Retrosplenial area",
          "Somatomotor areas",
          "Somatosensory areas",
          "Striatum",
          "Temporal association areas",
          "Thalamus",
          "Visceral area",
          "Visual areas",
          "ventricular systems",
          "Agranular insular area",
          "Anterior cingulate area",
          "Auditory areas",
          "Cortical subplate",
          "Ectorhinal area",
          "Hippocampal region",
          "Hypothalamus",
          "Infralimbic area",
          "Main olfactory bulb",
          "Medulla",
          "Midbrain",
          "Orbital area",
          "Pallidum",
          "Perirhinal area",
          "Piriform area",
          "Pons",
          "Posterior parietal association areas",
          "Postpiriform transition area",
          "Prelimbic area",
          "Retrohippocampal region",
          "Retrosplenial area",
          "Somatomotor areas",
          "Somatosensory areas",
          "Striatum",
          "Temporal association areas",
          "Thalamus",
          "Visceral area",
          "Visual areas",
          "Agranular insular area",
          "Anterior cingulate area",
          "Anterior olfactory nucleus",
          "Auditory areas",
          "Cortical subplate",
          "Ectorhinal area",
          "Hippocampal region",
          "Hypothalamus",
          "Infralimbic area",
          "Main olfactory bulb",
          "Midbrain",
          "Nucleus of the lateral olfactory tract",
          "Orbital area",
          "Pallidum",
          "Perirhinal area",
          "Piriform area",
          "Pons",
          "Posterior parietal association areas",
          "Retrohippocampal region",
          "Retrosplenial area",
          "Somatomotor areas",
          "Somatosensory areas",
          "Striatum",
          "Temporal association areas",
          "Thalamus",
          "Visceral area",
          "Visual areas",
          "root",
          "ventricular systems",
          "Agranular insular area",
          "Anterior cingulate area",
          "Anterior olfactory nucleus",
          "Auditory areas",
          "Cortical subplate",
          "Ectorhinal area",
          "Frontal pole",
          "Gustatory areas",
          "Hippocampal region",
          "Hypothalamus",
          "Infralimbic area",
          "Main olfactory bulb",
          "Medulla",
          "Midbrain",
          "Orbital area",
          "Pallidum",
          "Perirhinal area",
          "Piriform area",
          "Pons",
          "Posterior parietal association areas",
          "Postpiriform transition area",
          "Prelimbic area",
          "Retrohippocampal region",
          "Retrosplenial area",
          "Somatomotor areas",
          "Somatosensory areas",
          "Striatum",
          "Temporal association areas",
          "Thalamus",
          "Visceral area",
          "Visual areas",
          "root",
          "ventricular systems",
          "Agranular insular area",
          "Anterior olfactory nucleus",
          "Auditory areas",
          "Cortical subplate",
          "Hippocampal region",
          "Hypothalamus",
          "Main olfactory bulb",
          "Midbrain",
          "Orbital area",
          "Pons",
          "Posterior parietal association areas",
          "Postpiriform transition area",
          "Retrohippocampal region",
          "Retrosplenial area",
          "Somatomotor areas",
          "Somatosensory areas",
          "Temporal association areas",
          "Thalamus",
          "Visual areas",
          "ventricular systems"
         ],
         "x0": " ",
         "xaxis": "x",
         "y": {
          "bdata": "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",
          "dtype": "f8"
         },
         "y0": " ",
         "yaxis": "y"
        }
       ],
       "layout": {
        "legend": {
         "title": {
          "text": "Hemisphere"
         },
         "tracegroupgap": 0
        },
        "template": {
         "data": {
          "bar": [
           {
            "error_x": {
             "color": "#2a3f5f"
            },
            "error_y": {
             "color": "#2a3f5f"
            },
            "marker": {
             "line": {
              "color": "#E5ECF6",
              "width": 0.5
             },
             "pattern": {
              "fillmode": "overlay",
              "size": 10,
              "solidity": 0.2
             }
            },
            "type": "bar"
           }
          ],
          "barpolar": [
           {
            "marker": {
             "line": {
              "color": "#E5ECF6",
              "width": 0.5
             },
             "pattern": {
              "fillmode": "overlay",
              "size": 10,
              "solidity": 0.2
             }
            },
            "type": "barpolar"
           }
          ],
          "carpet": [
           {
            "aaxis": {
             "endlinecolor": "#2a3f5f",
             "gridcolor": "white",
             "linecolor": "white",
             "minorgridcolor": "white",
             "startlinecolor": "#2a3f5f"
            },
            "baxis": {
             "endlinecolor": "#2a3f5f",
             "gridcolor": "white",
             "linecolor": "white",
             "minorgridcolor": "white",
             "startlinecolor": "#2a3f5f"
            },
            "type": "carpet"
           }
          ],
          "choropleth": [
           {
            "colorbar": {
             "outlinewidth": 0,
             "ticks": ""
            },
            "type": "choropleth"
           }
          ],
          "contour": [
           {
            "colorbar": {
             "outlinewidth": 0,
             "ticks": ""
            },
            "colorscale": [
             [
              0,
              "#0d0887"
             ],
             [
              0.1111111111111111,
              "#46039f"
             ],
             [
              0.2222222222222222,
              "#7201a8"
             ],
             [
              0.3333333333333333,
              "#9c179e"
             ],
             [
              0.4444444444444444,
              "#bd3786"
             ],
             [
              0.5555555555555556,
              "#d8576b"
             ],
             [
              0.6666666666666666,
              "#ed7953"
             ],
             [
              0.7777777777777778,
              "#fb9f3a"
             ],
             [
              0.8888888888888888,
              "#fdca26"
             ],
             [
              1,
              "#f0f921"
             ]
            ],
            "type": "contour"
           }
          ],
          "contourcarpet": [
           {
            "colorbar": {
             "outlinewidth": 0,
             "ticks": ""
            },
            "type": "contourcarpet"
           }
          ],
          "heatmap": [
           {
            "colorbar": {
             "outlinewidth": 0,
             "ticks": ""
            },
            "colorscale": [
             [
              0,
              "#0d0887"
             ],
             [
              0.1111111111111111,
              "#46039f"
             ],
             [
              0.2222222222222222,
              "#7201a8"
             ],
             [
              0.3333333333333333,
              "#9c179e"
             ],
             [
              0.4444444444444444,
              "#bd3786"
             ],
             [
              0.5555555555555556,
              "#d8576b"
             ],
             [
              0.6666666666666666,
              "#ed7953"
             ],
             [
              0.7777777777777778,
              "#fb9f3a"
             ],
             [
              0.8888888888888888,
              "#fdca26"
             ],
             [
              1,
              "#f0f921"
             ]
            ],
            "type": "heatmap"
           }
          ],
          "histogram": [
           {
            "marker": {
             "pattern": {
              "fillmode": "overlay",
              "size": 10,
              "solidity": 0.2
             }
            },
            "type": "histogram"
           }
          ],
          "histogram2d": [
           {
            "colorbar": {
             "outlinewidth": 0,
             "ticks": ""
            },
            "colorscale": [
             [
              0,
              "#0d0887"
             ],
             [
              0.1111111111111111,
              "#46039f"
             ],
             [
              0.2222222222222222,
              "#7201a8"
             ],
             [
              0.3333333333333333,
              "#9c179e"
             ],
             [
              0.4444444444444444,
              "#bd3786"
             ],
             [
              0.5555555555555556,
              "#d8576b"
             ],
             [
              0.6666666666666666,
              "#ed7953"
             ],
             [
              0.7777777777777778,
              "#fb9f3a"
             ],
             [
              0.8888888888888888,
              "#fdca26"
             ],
             [
              1,
              "#f0f921"
             ]
            ],
            "type": "histogram2d"
           }
          ],
          "histogram2dcontour": [
           {
            "colorbar": {
             "outlinewidth": 0,
             "ticks": ""
            },
            "colorscale": [
             [
              0,
              "#0d0887"
             ],
             [
              0.1111111111111111,
              "#46039f"
             ],
             [
              0.2222222222222222,
              "#7201a8"
             ],
             [
              0.3333333333333333,
              "#9c179e"
             ],
             [
              0.4444444444444444,
              "#bd3786"
             ],
             [
              0.5555555555555556,
              "#d8576b"
             ],
             [
              0.6666666666666666,
              "#ed7953"
             ],
             [
              0.7777777777777778,
              "#fb9f3a"
             ],
             [
              0.8888888888888888,
              "#fdca26"
             ],
             [
              1,
              "#f0f921"
             ]
            ],
            "type": "histogram2dcontour"
           }
          ],
          "mesh3d": [
           {
            "colorbar": {
             "outlinewidth": 0,
             "ticks": ""
            },
            "type": "mesh3d"
           }
          ],
          "parcoords": [
           {
            "line": {
             "colorbar": {
              "outlinewidth": 0,
              "ticks": ""
             }
            },
            "type": "parcoords"
           }
          ],
          "pie": [
           {
            "automargin": true,
            "type": "pie"
           }
          ],
          "scatter": [
           {
            "fillpattern": {
             "fillmode": "overlay",
             "size": 10,
             "solidity": 0.2
            },
            "type": "scatter"
           }
          ],
          "scatter3d": [
           {
            "line": {
             "colorbar": {
              "outlinewidth": 0,
              "ticks": ""
             }
            },
            "marker": {
             "colorbar": {
              "outlinewidth": 0,
              "ticks": ""
             }
            },
            "type": "scatter3d"
           }
          ],
          "scattercarpet": [
           {
            "marker": {
             "colorbar": {
              "outlinewidth": 0,
              "ticks": ""
             }
            },
            "type": "scattercarpet"
           }
          ],
          "scattergeo": [
           {
            "marker": {
             "colorbar": {
              "outlinewidth": 0,
              "ticks": ""
             }
            },
            "type": "scattergeo"
           }
          ],
          "scattergl": [
           {
            "marker": {
             "colorbar": {
              "outlinewidth": 0,
              "ticks": ""
             }
            },
            "type": "scattergl"
           }
          ],
          "scattermap": [
           {
            "marker": {
             "colorbar": {
              "outlinewidth": 0,
              "ticks": ""
             }
            },
            "type": "scattermap"
           }
          ],
          "scattermapbox": [
           {
            "marker": {
             "colorbar": {
              "outlinewidth": 0,
              "ticks": ""
             }
            },
            "type": "scattermapbox"
           }
          ],
          "scatterpolar": [
           {
            "marker": {
             "colorbar": {
              "outlinewidth": 0,
              "ticks": ""
             }
            },
            "type": "scatterpolar"
           }
          ],
          "scatterpolargl": [
           {
            "marker": {
             "colorbar": {
              "outlinewidth": 0,
              "ticks": ""
             }
            },
            "type": "scatterpolargl"
           }
          ],
          "scatterternary": [
           {
            "marker": {
             "colorbar": {
              "outlinewidth": 0,
              "ticks": ""
             }
            },
            "type": "scatterternary"
           }
          ],
          "surface": [
           {
            "colorbar": {
             "outlinewidth": 0,
             "ticks": ""
            },
            "colorscale": [
             [
              0,
              "#0d0887"
             ],
             [
              0.1111111111111111,
              "#46039f"
             ],
             [
              0.2222222222222222,
              "#7201a8"
             ],
             [
              0.3333333333333333,
              "#9c179e"
             ],
             [
              0.4444444444444444,
              "#bd3786"
             ],
             [
              0.5555555555555556,
              "#d8576b"
             ],
             [
              0.6666666666666666,
              "#ed7953"
             ],
             [
              0.7777777777777778,
              "#fb9f3a"
             ],
             [
              0.8888888888888888,
              "#fdca26"
             ],
             [
              1,
              "#f0f921"
             ]
            ],
            "type": "surface"
           }
          ],
          "table": [
           {
            "cells": {
             "fill": {
              "color": "#EBF0F8"
             },
             "line": {
              "color": "white"
             }
            },
            "header": {
             "fill": {
              "color": "#C8D4E3"
             },
             "line": {
              "color": "white"
             }
            },
            "type": "table"
           }
          ]
         },
         "layout": {
          "annotationdefaults": {
           "arrowcolor": "#2a3f5f",
           "arrowhead": 0,
           "arrowwidth": 1
          },
          "autotypenumbers": "strict",
          "coloraxis": {
           "colorbar": {
            "outlinewidth": 0,
            "ticks": ""
           }
          },
          "colorscale": {
           "diverging": [
            [
             0,
             "#8e0152"
            ],
            [
             0.1,
             "#c51b7d"
            ],
            [
             0.2,
             "#de77ae"
            ],
            [
             0.3,
             "#f1b6da"
            ],
            [
             0.4,
             "#fde0ef"
            ],
            [
             0.5,
             "#f7f7f7"
            ],
            [
             0.6,
             "#e6f5d0"
            ],
            [
             0.7,
             "#b8e186"
            ],
            [
             0.8,
             "#7fbc41"
            ],
            [
             0.9,
             "#4d9221"
            ],
            [
             1,
             "#276419"
            ]
           ],
           "sequential": [
            [
             0,
             "#0d0887"
            ],
            [
             0.1111111111111111,
             "#46039f"
            ],
            [
             0.2222222222222222,
             "#7201a8"
            ],
            [
             0.3333333333333333,
             "#9c179e"
            ],
            [
             0.4444444444444444,
             "#bd3786"
            ],
            [
             0.5555555555555556,
             "#d8576b"
            ],
            [
             0.6666666666666666,
             "#ed7953"
            ],
            [
             0.7777777777777778,
             "#fb9f3a"
            ],
            [
             0.8888888888888888,
             "#fdca26"
            ],
            [
             1,
             "#f0f921"
            ]
           ],
           "sequentialminus": [
            [
             0,
             "#0d0887"
            ],
            [
             0.1111111111111111,
             "#46039f"
            ],
            [
             0.2222222222222222,
             "#7201a8"
            ],
            [
             0.3333333333333333,
             "#9c179e"
            ],
            [
             0.4444444444444444,
             "#bd3786"
            ],
            [
             0.5555555555555556,
             "#d8576b"
            ],
            [
             0.6666666666666666,
             "#ed7953"
            ],
            [
             0.7777777777777778,
             "#fb9f3a"
            ],
            [
             0.8888888888888888,
             "#fdca26"
            ],
            [
             1,
             "#f0f921"
            ]
           ]
          },
          "colorway": [
           "#636efa",
           "#EF553B",
           "#00cc96",
           "#ab63fa",
           "#FFA15A",
           "#19d3f3",
           "#FF6692",
           "#B6E880",
           "#FF97FF",
           "#FECB52"
          ],
          "font": {
           "color": "#2a3f5f"
          },
          "geo": {
           "bgcolor": "white",
           "lakecolor": "white",
           "landcolor": "#E5ECF6",
           "showlakes": true,
           "showland": true,
           "subunitcolor": "white"
          },
          "hoverlabel": {
           "align": "left"
          },
          "hovermode": "closest",
          "mapbox": {
           "style": "light"
          },
          "paper_bgcolor": "white",
          "plot_bgcolor": "#E5ECF6",
          "polar": {
           "angularaxis": {
            "gridcolor": "white",
            "linecolor": "white",
            "ticks": ""
           },
           "bgcolor": "#E5ECF6",
           "radialaxis": {
            "gridcolor": "white",
            "linecolor": "white",
            "ticks": ""
           }
          },
          "scene": {
           "xaxis": {
            "backgroundcolor": "#E5ECF6",
            "gridcolor": "white",
            "gridwidth": 2,
            "linecolor": "white",
            "showbackground": true,
            "ticks": "",
            "zerolinecolor": "white"
           },
           "yaxis": {
            "backgroundcolor": "#E5ECF6",
            "gridcolor": "white",
            "gridwidth": 2,
            "linecolor": "white",
            "showbackground": true,
            "ticks": "",
            "zerolinecolor": "white"
           },
           "zaxis": {
            "backgroundcolor": "#E5ECF6",
            "gridcolor": "white",
            "gridwidth": 2,
            "linecolor": "white",
            "showbackground": true,
            "ticks": "",
            "zerolinecolor": "white"
           }
          },
          "shapedefaults": {
           "line": {
            "color": "#2a3f5f"
           }
          },
          "ternary": {
           "aaxis": {
            "gridcolor": "white",
            "linecolor": "white",
            "ticks": ""
           },
           "baxis": {
            "gridcolor": "white",
            "linecolor": "white",
            "ticks": ""
           },
           "bgcolor": "#E5ECF6",
           "caxis": {
            "gridcolor": "white",
            "linecolor": "white",
            "ticks": ""
           }
          },
          "title": {
           "x": 0.05
          },
          "xaxis": {
           "automargin": true,
           "gridcolor": "white",
           "linecolor": "white",
           "ticks": "",
           "title": {
            "standoff": 15
           },
           "zerolinecolor": "white",
           "zerolinewidth": 2
          },
          "yaxis": {
           "automargin": true,
           "gridcolor": "white",
           "linecolor": "white",
           "ticks": "",
           "title": {
            "standoff": 15
           },
           "zerolinecolor": "white",
           "zerolinewidth": 2
          }
         }
        },
        "title": {
         "text": "V1 injections scaled counts by hemisphere, p7-13 (n=9)"
        },
        "violinmode": "group",
        "xaxis": {
         "anchor": "y",
         "categoryarray": [
          "Retrosplenial area",
          "Retrohippocampal region",
          "Visual areas",
          "Somatosensory areas",
          "Thalamus",
          "Orbital area",
          "Midbrain",
          "Gustatory areas",
          "Cortical subplate",
          "Anterior cingulate area",
          "Posterior parietal association areas",
          "Auditory areas",
          "Pons",
          "Visceral area",
          "Ectorhinal area",
          "Agranular insular area",
          "Hippocampal region",
          "Hypothalamus",
          "Temporal association areas",
          "Somatomotor areas",
          "Prelimbic area",
          "Cortical amygdalar area",
          "Striatum",
          "Postpiriform transition area",
          "Perirhinal area",
          "Pallidum",
          "Dorsal peduncular area",
          "Infralimbic area",
          "Main olfactory bulb",
          "ventricular systems",
          "Medulla",
          "Anterior olfactory nucleus",
          "root",
          "Piriform area",
          "Nucleus of the lateral olfactory tract",
          "Taenia tecta",
          "Frontal pole",
          "Piriform-amygdalar area",
          "Cerebellum",
          "Accessory olfactory bulb"
         ],
         "categoryorder": "array",
         "domain": [
          0,
          1
         ],
         "title": {
          "text": "General area"
         }
        },
        "yaxis": {
         "anchor": "x",
         "domain": [
          0,
          1
         ],
         "title": {
          "text": "scaled count"
         }
        }
       }
      }
     },
     "metadata": {},
     "output_type": "display_data"
    }
   ],
   "source": [
    "plot_scaled_single(\n",
    "    df_grouped,\n",
    "    \"V1 injections scaled counts by hemisphere, p7-13 (n=9)\",\n",
    "    area_order_scaled,\n",
    "    \"p7-13\",\n",
    ")"
   ]
  },
  {
   "cell_type": "code",
   "execution_count": 36,
   "id": "94340289",
   "metadata": {},
   "outputs": [
    {
     "data": {
      "application/vnd.plotly.v1+json": {
       "config": {
        "plotlyServerURL": "https://plotly.com"
       },
       "data": [
        {
         "alignmentgroup": "True",
         "box": {
          "visible": true
         },
         "hovertemplate": "Hemisphere=ipsilateral<br>General area=%{x}<br>scaled count=%{y}<extra></extra>",
         "legendgroup": "ipsilateral",
         "marker": {
          "color": "magenta"
         },
         "meanline": {
          "visible": true
         },
         "name": "ipsilateral",
         "offsetgroup": "ipsilateral",
         "orientation": "v",
         "scalegroup": "True",
         "showlegend": true,
         "type": "violin",
         "x": [
          "Anterior olfactory nucleus",
          "Ectorhinal area",
          "Main olfactory bulb",
          "Medulla",
          "Piriform area",
          "Postpiriform transition area",
          "Taenia tecta",
          "Temporal association areas",
          "root",
          "Agranular insular area",
          "Auditory areas",
          "Cerebellum",
          "Gustatory areas",
          "Hypothalamus",
          "Infralimbic area",
          "Midbrain",
          "Nucleus of the lateral olfactory tract",
          "Perirhinal area",
          "Pons",
          "Posterior parietal association areas",
          "Retrosplenial area",
          "Somatosensory areas",
          "Striatum",
          "Thalamus",
          "Visceral area",
          "Visual areas",
          "ventricular systems",
          "Agranular insular area",
          "Anterior cingulate area",
          "Auditory areas",
          "Cerebellum",
          "Cortical amygdalar area",
          "Cortical subplate",
          "Frontal pole",
          "Hippocampal region",
          "Hypothalamus",
          "Midbrain",
          "Nucleus of the lateral olfactory tract",
          "Orbital area",
          "Pallidum",
          "Perirhinal area",
          "Piriform-amygdalar area",
          "Pons",
          "Posterior parietal association areas",
          "Prelimbic area",
          "Retrohippocampal region",
          "Retrosplenial area",
          "Somatomotor areas",
          "Somatosensory areas",
          "Striatum",
          "Thalamus",
          "Visceral area",
          "Visual areas",
          "ventricular systems",
          "Agranular insular area",
          "Anterior cingulate area",
          "Auditory areas",
          "Cortical amygdalar area",
          "Cortical subplate",
          "Frontal pole",
          "Gustatory areas",
          "Hypothalamus",
          "Midbrain",
          "Orbital area",
          "Pallidum",
          "Piriform-amygdalar area",
          "Pons",
          "Posterior parietal association areas",
          "Prelimbic area",
          "Retrohippocampal region",
          "Retrosplenial area",
          "Somatomotor areas",
          "Somatosensory areas",
          "Striatum",
          "Thalamus",
          "Visceral area",
          "Visual areas",
          "ventricular systems"
         ],
         "x0": " ",
         "xaxis": "x",
         "y": {
          "bdata": "AAAAAAAA+H8AAAAAAAD4fwAAAAAAAPh/AAAAAAAA+H8AAAAAAAD4fwAAAAAAAPh/AAAAAAAA+H8AAAAAAAD4fwAAAAAAAPh/WTzVH3jAHj9ZPNUfeMA+P0Pt3xdaEGc/WTzVH3jADj+T6NedcNRMP0Pt3xdaECc/1ZvmUkdCYj9ZPNUfeMAeP0Pt3xdaECc/WTzVH3jADj/Vm+ZSR0JiP0Pt3xdaECc/zpTaG2noSj9ZPNUfeMAOP1k81R94wA4/WTzVH3jALj/OlNobaehqP0Pt3xdaECc/AdTRtNxFhT92qWGkyFZzP7yoAgdB8U4/vKgCB0HxTj+N/kHF8DRnP7yoAgdB8W4/vKgCB0HxXj+8qAIHQfFOP6RTIuYYE3s/u76ZrFJOlD+8qAIHQfFOP6RTIuYYE3s/jf5BxfA0dz+N/kHF8DSHP7yoAgdB8U4/pFMi5hgTez+8qAIHQfFuP7yoAgdB8U4/vKgCB0Hxjj+YeeMR0imxP7yoAgdB8V4/MH6S9iwCjT+8qAIHQfF+P3apYaTIVpM/vKgCB0HxTj+8M87ZyZ+pP3apYaTIVnM/IgoltUdRcz9MeXOqvxMWP2eryatwu3U/THlzqr8TFj/5mta/z45QP0x5c6q/ExY/4bAapft0Zz9MeXOqvxNmPwogaZpzN2o/FhXHp13EZj926MGfN9ZoP7dBzK+DslQ/THlzqr8TNj/84nCmrBx3P0x5c6q/ExY/dujBnzfWSD926MGfN9ZIP0x5c6q/EyY/NI+3j+v5XD9MeXOqvxNmP8VadzBchoQ/n1cQla+YOz8UFgBePAixP/ma1r/PjjA/",
          "dtype": "f8"
         },
         "y0": " ",
         "yaxis": "y"
        },
        {
         "alignmentgroup": "True",
         "box": {
          "visible": true
         },
         "hovertemplate": "Hemisphere=contralateral<br>General area=%{x}<br>scaled count=%{y}<extra></extra>",
         "legendgroup": "contralateral",
         "marker": {
          "color": "orange"
         },
         "meanline": {
          "visible": true
         },
         "name": "contralateral",
         "offsetgroup": "contralateral",
         "orientation": "v",
         "scalegroup": "True",
         "showlegend": true,
         "type": "violin",
         "x": [
          "Accessory olfactory bulb",
          "Agranular insular area",
          "Anterior cingulate area",
          "Anterior olfactory nucleus",
          "Auditory areas",
          "Cerebellum",
          "Cortical amygdalar area",
          "Cortical subplate",
          "Dorsal peduncular area",
          "Ectorhinal area",
          "Frontal pole",
          "Gustatory areas",
          "Hippocampal region",
          "Hypothalamus",
          "Infralimbic area",
          "Main olfactory bulb",
          "Medulla",
          "Midbrain",
          "Nucleus of the lateral olfactory tract",
          "Orbital area",
          "Pallidum",
          "Perirhinal area",
          "Piriform area",
          "Piriform-amygdalar area",
          "Pons",
          "Posterior parietal association areas",
          "Postpiriform transition area",
          "Prelimbic area",
          "Retrohippocampal region",
          "Retrosplenial area",
          "Somatomotor areas",
          "Somatosensory areas",
          "Striatum",
          "Taenia tecta",
          "Temporal association areas",
          "Thalamus",
          "Visceral area",
          "Visual areas",
          "root",
          "ventricular systems",
          "Accessory olfactory bulb",
          "Agranular insular area",
          "Anterior olfactory nucleus",
          "Auditory areas",
          "Cortical amygdalar area",
          "Cortical subplate",
          "Dorsal peduncular area",
          "Ectorhinal area",
          "Gustatory areas",
          "Hippocampal region",
          "Hypothalamus",
          "Infralimbic area",
          "Main olfactory bulb",
          "Midbrain",
          "Orbital area",
          "Pallidum",
          "Perirhinal area",
          "Piriform area",
          "Postpiriform transition area",
          "Prelimbic area",
          "Retrohippocampal region",
          "Retrosplenial area",
          "Somatomotor areas",
          "Somatosensory areas",
          "Striatum",
          "Taenia tecta",
          "Temporal association areas",
          "Thalamus",
          "Visceral area",
          "Visual areas",
          "root",
          "ventricular systems",
          "Accessory olfactory bulb",
          "Agranular insular area",
          "Anterior cingulate area",
          "Anterior olfactory nucleus",
          "Auditory areas",
          "Cerebellum",
          "Cortical amygdalar area",
          "Cortical subplate",
          "Ectorhinal area",
          "Frontal pole",
          "Hippocampal region",
          "Hypothalamus",
          "Main olfactory bulb",
          "Medulla",
          "Midbrain",
          "Nucleus of the lateral olfactory tract",
          "Orbital area",
          "Pallidum",
          "Perirhinal area",
          "Piriform area",
          "Pons",
          "Posterior parietal association areas",
          "Postpiriform transition area",
          "Prelimbic area",
          "Retrohippocampal region",
          "Retrosplenial area",
          "Somatomotor areas",
          "Somatosensory areas",
          "Striatum",
          "Temporal association areas",
          "Thalamus",
          "Visceral area",
          "Visual areas",
          "root",
          "ventricular systems"
         ],
         "x0": " ",
         "xaxis": "x",
         "y": {
          "bdata": "IkWk5M3wcz+L/giRjQysP55BHsneQ4g/hT1XfnJPfT9ibP5QHiWIP5rv49ROLlQ/KekYze0bfD+ik1i9bll8P1GYYDdYlWY/rTL5DKBlkD+XnangvhiAP1zxpmLGBHI/8IJwc7ikpj8y0+fZ0OOcP1GYYDdYlWY/Qefvr/NToT8iRaTkzfBzP4HrHIriObk/WTzVH3jAHj8ZWN2jt0rAP1k81R94wG4/k+jXnXDUjD/jRmdyRceBP1k81R94wD4/pivt1cELmT80Ql/4W4tnPyJFpOTN8HM/kJadqeC+eD+l4pp9y5C9P8gZgy0RyLQ/2xY+QZ9iuD/OlNobaeiaPyAch+oF5pE/Q+3fF1oQRz9eGsRcjg+EP5rv49ROLqQ/IkWk5M3wcz+t7J7o3MinP4U9V35yT20/SpFUAHo7bz92qWGkyFZzP7yoAgdB8Y4/jf5BxfA0Zz+8qAIHQfFeP7yoAgdB8U4/vKgCB0Hxfj+8qAIHQfFOP7yoAgdB8X4/dqlhpMhWcz+8qAIHQfGeP+poWu6iCpw/vKgCB0HxTj9HXj7q3Y67P6RTIuYYE5s/MJQpnD5fkj+kUyLmGBN7P7yoAgdB8U4/jf5BxfA0Zz+8qAIHQfFeP7yoAgdB8V4/armLKnAQtD97oUzh9PnCP7yoAgdB8Z4/jf5BxfA0hz+8qAIHQfGOP43+QcXwNGc/jf5BxfA0lz+N/kHF8DSnP43+QcXwNIc/JKRTIuYYsz+kUyLmGBOLP43+QcXwNHc/+ZrWv8+OMD/Vu7yXEehqPyIKJbVHUVM/+ZrWv8+OQD/tpXiy5QGUP/ma1r/PjjA/CiBpmnM3aj+ge10Int+OP2nzY5JNSZw/+ZrWv8+OMD92MZU886epP7gcRoa2J6c/Z6vJq3C7dT9MeXOqvxMWP7utswlPh54/THlzqr8TJj+3Qcyvg7JkP+GwGqX7dFc/aM8WH18CiT+fVxCVr5hbP4LdH60hY2U/+ZrWv8+OYD+6iWaWYEB7P/ma1r/PjjA/wPlg5yqt0D/L39rse6bLPxTNLMGANoA/GDkUG0wLij+3Qcyvg7J0P2X11f4K0aA/gibzSd00pj/sgSs/97qAP3jniOlYkq4/CiBpmnM3aj+C3R+tIWNlPw==",
          "dtype": "f8"
         },
         "y0": " ",
         "yaxis": "y"
        }
       ],
       "layout": {
        "legend": {
         "title": {
          "text": "Hemisphere"
         },
         "tracegroupgap": 0
        },
        "template": {
         "data": {
          "bar": [
           {
            "error_x": {
             "color": "#2a3f5f"
            },
            "error_y": {
             "color": "#2a3f5f"
            },
            "marker": {
             "line": {
              "color": "#E5ECF6",
              "width": 0.5
             },
             "pattern": {
              "fillmode": "overlay",
              "size": 10,
              "solidity": 0.2
             }
            },
            "type": "bar"
           }
          ],
          "barpolar": [
           {
            "marker": {
             "line": {
              "color": "#E5ECF6",
              "width": 0.5
             },
             "pattern": {
              "fillmode": "overlay",
              "size": 10,
              "solidity": 0.2
             }
            },
            "type": "barpolar"
           }
          ],
          "carpet": [
           {
            "aaxis": {
             "endlinecolor": "#2a3f5f",
             "gridcolor": "white",
             "linecolor": "white",
             "minorgridcolor": "white",
             "startlinecolor": "#2a3f5f"
            },
            "baxis": {
             "endlinecolor": "#2a3f5f",
             "gridcolor": "white",
             "linecolor": "white",
             "minorgridcolor": "white",
             "startlinecolor": "#2a3f5f"
            },
            "type": "carpet"
           }
          ],
          "choropleth": [
           {
            "colorbar": {
             "outlinewidth": 0,
             "ticks": ""
            },
            "type": "choropleth"
           }
          ],
          "contour": [
           {
            "colorbar": {
             "outlinewidth": 0,
             "ticks": ""
            },
            "colorscale": [
             [
              0,
              "#0d0887"
             ],
             [
              0.1111111111111111,
              "#46039f"
             ],
             [
              0.2222222222222222,
              "#7201a8"
             ],
             [
              0.3333333333333333,
              "#9c179e"
             ],
             [
              0.4444444444444444,
              "#bd3786"
             ],
             [
              0.5555555555555556,
              "#d8576b"
             ],
             [
              0.6666666666666666,
              "#ed7953"
             ],
             [
              0.7777777777777778,
              "#fb9f3a"
             ],
             [
              0.8888888888888888,
              "#fdca26"
             ],
             [
              1,
              "#f0f921"
             ]
            ],
            "type": "contour"
           }
          ],
          "contourcarpet": [
           {
            "colorbar": {
             "outlinewidth": 0,
             "ticks": ""
            },
            "type": "contourcarpet"
           }
          ],
          "heatmap": [
           {
            "colorbar": {
             "outlinewidth": 0,
             "ticks": ""
            },
            "colorscale": [
             [
              0,
              "#0d0887"
             ],
             [
              0.1111111111111111,
              "#46039f"
             ],
             [
              0.2222222222222222,
              "#7201a8"
             ],
             [
              0.3333333333333333,
              "#9c179e"
             ],
             [
              0.4444444444444444,
              "#bd3786"
             ],
             [
              0.5555555555555556,
              "#d8576b"
             ],
             [
              0.6666666666666666,
              "#ed7953"
             ],
             [
              0.7777777777777778,
              "#fb9f3a"
             ],
             [
              0.8888888888888888,
              "#fdca26"
             ],
             [
              1,
              "#f0f921"
             ]
            ],
            "type": "heatmap"
           }
          ],
          "histogram": [
           {
            "marker": {
             "pattern": {
              "fillmode": "overlay",
              "size": 10,
              "solidity": 0.2
             }
            },
            "type": "histogram"
           }
          ],
          "histogram2d": [
           {
            "colorbar": {
             "outlinewidth": 0,
             "ticks": ""
            },
            "colorscale": [
             [
              0,
              "#0d0887"
             ],
             [
              0.1111111111111111,
              "#46039f"
             ],
             [
              0.2222222222222222,
              "#7201a8"
             ],
             [
              0.3333333333333333,
              "#9c179e"
             ],
             [
              0.4444444444444444,
              "#bd3786"
             ],
             [
              0.5555555555555556,
              "#d8576b"
             ],
             [
              0.6666666666666666,
              "#ed7953"
             ],
             [
              0.7777777777777778,
              "#fb9f3a"
             ],
             [
              0.8888888888888888,
              "#fdca26"
             ],
             [
              1,
              "#f0f921"
             ]
            ],
            "type": "histogram2d"
           }
          ],
          "histogram2dcontour": [
           {
            "colorbar": {
             "outlinewidth": 0,
             "ticks": ""
            },
            "colorscale": [
             [
              0,
              "#0d0887"
             ],
             [
              0.1111111111111111,
              "#46039f"
             ],
             [
              0.2222222222222222,
              "#7201a8"
             ],
             [
              0.3333333333333333,
              "#9c179e"
             ],
             [
              0.4444444444444444,
              "#bd3786"
             ],
             [
              0.5555555555555556,
              "#d8576b"
             ],
             [
              0.6666666666666666,
              "#ed7953"
             ],
             [
              0.7777777777777778,
              "#fb9f3a"
             ],
             [
              0.8888888888888888,
              "#fdca26"
             ],
             [
              1,
              "#f0f921"
             ]
            ],
            "type": "histogram2dcontour"
           }
          ],
          "mesh3d": [
           {
            "colorbar": {
             "outlinewidth": 0,
             "ticks": ""
            },
            "type": "mesh3d"
           }
          ],
          "parcoords": [
           {
            "line": {
             "colorbar": {
              "outlinewidth": 0,
              "ticks": ""
             }
            },
            "type": "parcoords"
           }
          ],
          "pie": [
           {
            "automargin": true,
            "type": "pie"
           }
          ],
          "scatter": [
           {
            "fillpattern": {
             "fillmode": "overlay",
             "size": 10,
             "solidity": 0.2
            },
            "type": "scatter"
           }
          ],
          "scatter3d": [
           {
            "line": {
             "colorbar": {
              "outlinewidth": 0,
              "ticks": ""
             }
            },
            "marker": {
             "colorbar": {
              "outlinewidth": 0,
              "ticks": ""
             }
            },
            "type": "scatter3d"
           }
          ],
          "scattercarpet": [
           {
            "marker": {
             "colorbar": {
              "outlinewidth": 0,
              "ticks": ""
             }
            },
            "type": "scattercarpet"
           }
          ],
          "scattergeo": [
           {
            "marker": {
             "colorbar": {
              "outlinewidth": 0,
              "ticks": ""
             }
            },
            "type": "scattergeo"
           }
          ],
          "scattergl": [
           {
            "marker": {
             "colorbar": {
              "outlinewidth": 0,
              "ticks": ""
             }
            },
            "type": "scattergl"
           }
          ],
          "scattermap": [
           {
            "marker": {
             "colorbar": {
              "outlinewidth": 0,
              "ticks": ""
             }
            },
            "type": "scattermap"
           }
          ],
          "scattermapbox": [
           {
            "marker": {
             "colorbar": {
              "outlinewidth": 0,
              "ticks": ""
             }
            },
            "type": "scattermapbox"
           }
          ],
          "scatterpolar": [
           {
            "marker": {
             "colorbar": {
              "outlinewidth": 0,
              "ticks": ""
             }
            },
            "type": "scatterpolar"
           }
          ],
          "scatterpolargl": [
           {
            "marker": {
             "colorbar": {
              "outlinewidth": 0,
              "ticks": ""
             }
            },
            "type": "scatterpolargl"
           }
          ],
          "scatterternary": [
           {
            "marker": {
             "colorbar": {
              "outlinewidth": 0,
              "ticks": ""
             }
            },
            "type": "scatterternary"
           }
          ],
          "surface": [
           {
            "colorbar": {
             "outlinewidth": 0,
             "ticks": ""
            },
            "colorscale": [
             [
              0,
              "#0d0887"
             ],
             [
              0.1111111111111111,
              "#46039f"
             ],
             [
              0.2222222222222222,
              "#7201a8"
             ],
             [
              0.3333333333333333,
              "#9c179e"
             ],
             [
              0.4444444444444444,
              "#bd3786"
             ],
             [
              0.5555555555555556,
              "#d8576b"
             ],
             [
              0.6666666666666666,
              "#ed7953"
             ],
             [
              0.7777777777777778,
              "#fb9f3a"
             ],
             [
              0.8888888888888888,
              "#fdca26"
             ],
             [
              1,
              "#f0f921"
             ]
            ],
            "type": "surface"
           }
          ],
          "table": [
           {
            "cells": {
             "fill": {
              "color": "#EBF0F8"
             },
             "line": {
              "color": "white"
             }
            },
            "header": {
             "fill": {
              "color": "#C8D4E3"
             },
             "line": {
              "color": "white"
             }
            },
            "type": "table"
           }
          ]
         },
         "layout": {
          "annotationdefaults": {
           "arrowcolor": "#2a3f5f",
           "arrowhead": 0,
           "arrowwidth": 1
          },
          "autotypenumbers": "strict",
          "coloraxis": {
           "colorbar": {
            "outlinewidth": 0,
            "ticks": ""
           }
          },
          "colorscale": {
           "diverging": [
            [
             0,
             "#8e0152"
            ],
            [
             0.1,
             "#c51b7d"
            ],
            [
             0.2,
             "#de77ae"
            ],
            [
             0.3,
             "#f1b6da"
            ],
            [
             0.4,
             "#fde0ef"
            ],
            [
             0.5,
             "#f7f7f7"
            ],
            [
             0.6,
             "#e6f5d0"
            ],
            [
             0.7,
             "#b8e186"
            ],
            [
             0.8,
             "#7fbc41"
            ],
            [
             0.9,
             "#4d9221"
            ],
            [
             1,
             "#276419"
            ]
           ],
           "sequential": [
            [
             0,
             "#0d0887"
            ],
            [
             0.1111111111111111,
             "#46039f"
            ],
            [
             0.2222222222222222,
             "#7201a8"
            ],
            [
             0.3333333333333333,
             "#9c179e"
            ],
            [
             0.4444444444444444,
             "#bd3786"
            ],
            [
             0.5555555555555556,
             "#d8576b"
            ],
            [
             0.6666666666666666,
             "#ed7953"
            ],
            [
             0.7777777777777778,
             "#fb9f3a"
            ],
            [
             0.8888888888888888,
             "#fdca26"
            ],
            [
             1,
             "#f0f921"
            ]
           ],
           "sequentialminus": [
            [
             0,
             "#0d0887"
            ],
            [
             0.1111111111111111,
             "#46039f"
            ],
            [
             0.2222222222222222,
             "#7201a8"
            ],
            [
             0.3333333333333333,
             "#9c179e"
            ],
            [
             0.4444444444444444,
             "#bd3786"
            ],
            [
             0.5555555555555556,
             "#d8576b"
            ],
            [
             0.6666666666666666,
             "#ed7953"
            ],
            [
             0.7777777777777778,
             "#fb9f3a"
            ],
            [
             0.8888888888888888,
             "#fdca26"
            ],
            [
             1,
             "#f0f921"
            ]
           ]
          },
          "colorway": [
           "#636efa",
           "#EF553B",
           "#00cc96",
           "#ab63fa",
           "#FFA15A",
           "#19d3f3",
           "#FF6692",
           "#B6E880",
           "#FF97FF",
           "#FECB52"
          ],
          "font": {
           "color": "#2a3f5f"
          },
          "geo": {
           "bgcolor": "white",
           "lakecolor": "white",
           "landcolor": "#E5ECF6",
           "showlakes": true,
           "showland": true,
           "subunitcolor": "white"
          },
          "hoverlabel": {
           "align": "left"
          },
          "hovermode": "closest",
          "mapbox": {
           "style": "light"
          },
          "paper_bgcolor": "white",
          "plot_bgcolor": "#E5ECF6",
          "polar": {
           "angularaxis": {
            "gridcolor": "white",
            "linecolor": "white",
            "ticks": ""
           },
           "bgcolor": "#E5ECF6",
           "radialaxis": {
            "gridcolor": "white",
            "linecolor": "white",
            "ticks": ""
           }
          },
          "scene": {
           "xaxis": {
            "backgroundcolor": "#E5ECF6",
            "gridcolor": "white",
            "gridwidth": 2,
            "linecolor": "white",
            "showbackground": true,
            "ticks": "",
            "zerolinecolor": "white"
           },
           "yaxis": {
            "backgroundcolor": "#E5ECF6",
            "gridcolor": "white",
            "gridwidth": 2,
            "linecolor": "white",
            "showbackground": true,
            "ticks": "",
            "zerolinecolor": "white"
           },
           "zaxis": {
            "backgroundcolor": "#E5ECF6",
            "gridcolor": "white",
            "gridwidth": 2,
            "linecolor": "white",
            "showbackground": true,
            "ticks": "",
            "zerolinecolor": "white"
           }
          },
          "shapedefaults": {
           "line": {
            "color": "#2a3f5f"
           }
          },
          "ternary": {
           "aaxis": {
            "gridcolor": "white",
            "linecolor": "white",
            "ticks": ""
           },
           "baxis": {
            "gridcolor": "white",
            "linecolor": "white",
            "ticks": ""
           },
           "bgcolor": "#E5ECF6",
           "caxis": {
            "gridcolor": "white",
            "linecolor": "white",
            "ticks": ""
           }
          },
          "title": {
           "x": 0.05
          },
          "xaxis": {
           "automargin": true,
           "gridcolor": "white",
           "linecolor": "white",
           "ticks": "",
           "title": {
            "standoff": 15
           },
           "zerolinecolor": "white",
           "zerolinewidth": 2
          },
          "yaxis": {
           "automargin": true,
           "gridcolor": "white",
           "linecolor": "white",
           "ticks": "",
           "title": {
            "standoff": 15
           },
           "zerolinecolor": "white",
           "zerolinewidth": 2
          }
         }
        },
        "title": {
         "text": "V1 injections scaled counts by hemisphere, p1-7 (n=3)"
        },
        "violinmode": "group",
        "xaxis": {
         "anchor": "y",
         "categoryarray": [
          "Retrosplenial area",
          "Retrohippocampal region",
          "Visual areas",
          "Somatosensory areas",
          "Thalamus",
          "Orbital area",
          "Midbrain",
          "Gustatory areas",
          "Cortical subplate",
          "Anterior cingulate area",
          "Posterior parietal association areas",
          "Auditory areas",
          "Pons",
          "Visceral area",
          "Ectorhinal area",
          "Agranular insular area",
          "Hippocampal region",
          "Hypothalamus",
          "Temporal association areas",
          "Somatomotor areas",
          "Prelimbic area",
          "Cortical amygdalar area",
          "Striatum",
          "Postpiriform transition area",
          "Perirhinal area",
          "Pallidum",
          "Dorsal peduncular area",
          "Infralimbic area",
          "Main olfactory bulb",
          "ventricular systems",
          "Medulla",
          "Anterior olfactory nucleus",
          "root",
          "Piriform area",
          "Nucleus of the lateral olfactory tract",
          "Taenia tecta",
          "Frontal pole",
          "Piriform-amygdalar area",
          "Cerebellum",
          "Accessory olfactory bulb"
         ],
         "categoryorder": "array",
         "domain": [
          0,
          1
         ],
         "title": {
          "text": "General area"
         }
        },
        "yaxis": {
         "anchor": "x",
         "domain": [
          0,
          1
         ],
         "title": {
          "text": "scaled count"
         }
        }
       }
      }
     },
     "metadata": {},
     "output_type": "display_data"
    }
   ],
   "source": [
    "plot_scaled_single(\n",
    "    df_grouped,\n",
    "    \"V1 injections scaled counts by hemisphere, p1-7 (n=3)\",\n",
    "    area_order_scaled,\n",
    "    \"p1-7\",\n",
    ")"
   ]
  },
  {
   "cell_type": "code",
   "execution_count": 38,
   "id": "9e0d8095",
   "metadata": {},
   "outputs": [
    {
     "data": {
      "application/vnd.plotly.v1+json": {
       "config": {
        "plotlyServerURL": "https://plotly.com"
       },
       "data": [
        {
         "alignmentgroup": "True",
         "box": {
          "visible": true
         },
         "hovertemplate": "Hemisphere=ipsilateral<br>age=p7-13<br>General area=%{x}<br>count=%{y}<extra></extra>",
         "legendgroup": "ipsilateral",
         "marker": {
          "color": "magenta"
         },
         "meanline": {
          "visible": true
         },
         "name": "ipsilateral",
         "offsetgroup": "ipsilateral",
         "orientation": "v",
         "scalegroup": "True",
         "showlegend": true,
         "type": "violin",
         "x": [
          "Accessory olfactory bulb",
          "Agranular insular area",
          "Anterior cingulate area",
          "Anterior olfactory nucleus",
          "Auditory areas",
          "Cortical amygdalar area",
          "Cortical subplate",
          "Dorsal peduncular area",
          "Ectorhinal area",
          "Hippocampal region",
          "Hypothalamus",
          "Infralimbic area",
          "Medulla",
          "Midbrain",
          "Nucleus of the lateral olfactory tract",
          "Orbital area",
          "Pallidum",
          "Perirhinal area",
          "Posterior parietal association areas",
          "Postpiriform transition area",
          "Prelimbic area",
          "Retrohippocampal region",
          "Retrosplenial area",
          "Somatomotor areas",
          "Somatosensory areas",
          "Striatum",
          "Thalamus",
          "Visceral area",
          "Visual areas",
          "Agranular insular area",
          "Anterior cingulate area",
          "Anterior olfactory nucleus",
          "Auditory areas",
          "Cortical amygdalar area",
          "Cortical subplate",
          "Dorsal peduncular area",
          "Ectorhinal area",
          "Hippocampal region",
          "Hypothalamus",
          "Infralimbic area",
          "Medulla",
          "Midbrain",
          "Nucleus of the lateral olfactory tract",
          "Orbital area",
          "Pallidum",
          "Perirhinal area",
          "Posterior parietal association areas",
          "Postpiriform transition area",
          "Prelimbic area",
          "Retrohippocampal region",
          "Retrosplenial area",
          "Somatomotor areas",
          "Somatosensory areas",
          "Striatum",
          "Thalamus",
          "Visceral area",
          "Visual areas",
          "Agranular insular area",
          "Anterior cingulate area",
          "Anterior olfactory nucleus",
          "Auditory areas",
          "Cortical amygdalar area",
          "Cortical subplate",
          "Ectorhinal area",
          "Frontal pole",
          "Gustatory areas",
          "Hippocampal region",
          "Hypothalamus",
          "Infralimbic area",
          "Medulla",
          "Midbrain",
          "Orbital area",
          "Pallidum",
          "Perirhinal area",
          "Piriform-amygdalar area",
          "Pons",
          "Posterior parietal association areas",
          "Retrohippocampal region",
          "Retrosplenial area",
          "Somatomotor areas",
          "Somatosensory areas",
          "Striatum",
          "Thalamus",
          "Visceral area",
          "Visual areas",
          "Agranular insular area",
          "Anterior cingulate area",
          "Auditory areas",
          "Cortical amygdalar area",
          "Cortical subplate",
          "Ectorhinal area",
          "Gustatory areas",
          "Hippocampal region",
          "Hypothalamus",
          "Main olfactory bulb",
          "Midbrain",
          "Orbital area",
          "Retrohippocampal region",
          "Retrosplenial area",
          "Somatomotor areas",
          "Somatosensory areas",
          "Striatum",
          "Temporal association areas",
          "Thalamus",
          "Visceral area",
          "Visual areas",
          "ventricular systems",
          "Agranular insular area",
          "Anterior cingulate area",
          "Anterior olfactory nucleus",
          "Auditory areas",
          "Cortical subplate",
          "Dorsal peduncular area",
          "Ectorhinal area",
          "Frontal pole",
          "Gustatory areas",
          "Hippocampal region",
          "Hypothalamus",
          "Infralimbic area",
          "Midbrain",
          "Orbital area",
          "Perirhinal area",
          "Piriform-amygdalar area",
          "Pons",
          "Posterior parietal association areas",
          "Postpiriform transition area",
          "Prelimbic area",
          "Retrohippocampal region",
          "Retrosplenial area",
          "Somatomotor areas",
          "Striatum",
          "Temporal association areas",
          "Thalamus",
          "Visual areas",
          "root",
          "Agranular insular area",
          "Anterior cingulate area",
          "Auditory areas",
          "Cerebellum",
          "Cortical subplate",
          "Ectorhinal area",
          "Frontal pole",
          "Gustatory areas",
          "Hypothalamus",
          "Medulla",
          "Midbrain",
          "Nucleus of the lateral olfactory tract",
          "Orbital area",
          "Pallidum",
          "Pons",
          "Posterior parietal association areas",
          "Prelimbic area",
          "Retrohippocampal region",
          "Retrosplenial area",
          "Somatomotor areas",
          "Somatosensory areas",
          "Striatum",
          "Taenia tecta",
          "Thalamus",
          "Visceral area",
          "Visual areas",
          "ventricular systems",
          "Agranular insular area",
          "Anterior cingulate area",
          "Auditory areas",
          "Cortical amygdalar area",
          "Cortical subplate",
          "Dorsal peduncular area",
          "Ectorhinal area",
          "Frontal pole",
          "Gustatory areas",
          "Hypothalamus",
          "Infralimbic area",
          "Midbrain",
          "Orbital area",
          "Pallidum",
          "Perirhinal area",
          "Piriform-amygdalar area",
          "Pons",
          "Posterior parietal association areas",
          "Postpiriform transition area",
          "Prelimbic area",
          "Retrohippocampal region",
          "Retrosplenial area",
          "Somatomotor areas",
          "Somatosensory areas",
          "Striatum",
          "Taenia tecta",
          "Temporal association areas",
          "Thalamus",
          "Visceral area",
          "Visual areas",
          "ventricular systems",
          "Agranular insular area",
          "Auditory areas",
          "Cortical amygdalar area",
          "Cortical subplate",
          "Ectorhinal area",
          "Frontal pole",
          "Gustatory areas",
          "Hippocampal region",
          "Hypothalamus",
          "Medulla",
          "Midbrain",
          "Nucleus of the lateral olfactory tract",
          "Orbital area",
          "Pallidum",
          "Perirhinal area",
          "Posterior parietal association areas",
          "Retrohippocampal region",
          "Retrosplenial area",
          "Somatomotor areas",
          "Somatosensory areas",
          "Striatum",
          "Taenia tecta",
          "Thalamus",
          "Visceral area",
          "Visual areas",
          "ventricular systems",
          "Anterior cingulate area",
          "Auditory areas",
          "Cortical subplate",
          "Ectorhinal area",
          "Gustatory areas",
          "Hippocampal region",
          "Hypothalamus",
          "Midbrain",
          "Orbital area",
          "Perirhinal area",
          "Piriform area",
          "Pons",
          "Posterior parietal association areas",
          "Prelimbic area",
          "Retrohippocampal region",
          "Retrosplenial area",
          "Somatomotor areas",
          "Somatosensory areas",
          "Striatum",
          "Thalamus",
          "Visceral area",
          "Visual areas",
          "root"
         ],
         "x0": " ",
         "xaxis": "x",
         "y": {
          "bdata": "AAADACcAAQAGAAMADQAIABAAAwAXAAcAAwAGAAIAFgADAAsAIwABAAUAzQHgARQACQAHABoAAQA/AAMAJwABAAYAAwANAAgAEAADABcABwADAAYAAgAWAAMACwAjAAEABQDNAeABFAAJAAcAGgABAD8ADQAOAAIACAABAA0ABAABAC8AAgAMAAQABAAOACMACAAEAAEACAAIABAAEgAFABYACwBWAAYAMAAJAAYAAwAFAAEABgABAAgAAwACAAgABQBEAGEABgA5AAQABwAbAAIAVgACAAYAGAAEAAcAAwADAA4AAQABAAEAEgABAA0AMwACAAIABgADAAMABgCMANkBEgANAAQABwDCAAIADAACAAIAAQAEAAMAAQAKAAYAAwAKAAIAJQAFAAYAAQALAB8AGAAGAAMABAACAA4ABgAWAAEAEAAHAAQABAAyAAMABQADABAACQAIACEAJAADAAIAAQAIAAUAEQAIAAsA1wEKAAQABQADAAQARQACABUBAgAJAAgACABDAAMAAgAOAAIADgAFAAwABgAYAAEAAQAZAAQABgADADgADwACAEwAAwBJAAEABQAHAAUABwACAAYABQANAAQAAQABAAcAAgABABYAEwADAAQAAQADAAcANwABAA==",
          "dtype": "i2"
         },
         "y0": " ",
         "yaxis": "y"
        },
        {
         "alignmentgroup": "True",
         "box": {
          "visible": true
         },
         "hovertemplate": "Hemisphere=ipsilateral<br>age=p1-7<br>General area=%{x}<br>count=%{y}<extra></extra>",
         "legendgroup": "ipsilateral",
         "marker": {
          "color": "magenta"
         },
         "meanline": {
          "visible": true
         },
         "name": "ipsilateral",
         "offsetgroup": "ipsilateral",
         "orientation": "v",
         "scalegroup": "True",
         "showlegend": false,
         "type": "violin",
         "x": [
          "Anterior olfactory nucleus",
          "Ectorhinal area",
          "Main olfactory bulb",
          "Medulla",
          "Piriform area",
          "Postpiriform transition area",
          "Taenia tecta",
          "Temporal association areas",
          "root",
          "Agranular insular area",
          "Auditory areas",
          "Cerebellum",
          "Gustatory areas",
          "Hypothalamus",
          "Infralimbic area",
          "Midbrain",
          "Nucleus of the lateral olfactory tract",
          "Perirhinal area",
          "Pons",
          "Posterior parietal association areas",
          "Retrosplenial area",
          "Somatosensory areas",
          "Striatum",
          "Thalamus",
          "Visceral area",
          "Visual areas",
          "ventricular systems",
          "Agranular insular area",
          "Anterior cingulate area",
          "Auditory areas",
          "Cerebellum",
          "Cortical amygdalar area",
          "Cortical subplate",
          "Frontal pole",
          "Hippocampal region",
          "Hypothalamus",
          "Midbrain",
          "Nucleus of the lateral olfactory tract",
          "Orbital area",
          "Pallidum",
          "Perirhinal area",
          "Piriform-amygdalar area",
          "Pons",
          "Posterior parietal association areas",
          "Prelimbic area",
          "Retrohippocampal region",
          "Retrosplenial area",
          "Somatomotor areas",
          "Somatosensory areas",
          "Striatum",
          "Thalamus",
          "Visceral area",
          "Visual areas",
          "ventricular systems",
          "Agranular insular area",
          "Anterior cingulate area",
          "Auditory areas",
          "Cortical amygdalar area",
          "Cortical subplate",
          "Frontal pole",
          "Gustatory areas",
          "Hypothalamus",
          "Midbrain",
          "Orbital area",
          "Pallidum",
          "Piriform-amygdalar area",
          "Pons",
          "Posterior parietal association areas",
          "Prelimbic area",
          "Retrohippocampal region",
          "Retrosplenial area",
          "Somatomotor areas",
          "Somatosensory areas",
          "Striatum",
          "Thalamus",
          "Visceral area",
          "Visual areas",
          "ventricular systems"
         ],
         "x0": " ",
         "xaxis": "x2",
         "y": {
          "bdata": "AAAAAAAAAAAAAAAAAAAAAAAAAgAIADAAAQAPAAMAJgACAAMAAQAmAAMADgABAAEABAA4AAMACwAFAAEAAQADAAQAAgABAAcAFQABAAcABgAMAAEABwAEAAEAEABHAAIADwAIABQAAQA1AAUAOAABAD8AAQAMAAEAIgAgACYAIQAkAA8ABABDAAEACQAJAAIAFQAgAHcABQAWAwMA",
          "dtype": "i2"
         },
         "y0": " ",
         "yaxis": "y2"
        },
        {
         "alignmentgroup": "True",
         "box": {
          "visible": true
         },
         "hovertemplate": "Hemisphere=contralateral<br>age=p7-13<br>General area=%{x}<br>count=%{y}<extra></extra>",
         "legendgroup": "contralateral",
         "marker": {
          "color": "orange"
         },
         "meanline": {
          "visible": true
         },
         "name": "contralateral",
         "offsetgroup": "contralateral",
         "orientation": "v",
         "scalegroup": "True",
         "showlegend": true,
         "type": "violin",
         "x": [
          "Cerebellum",
          "Dorsal peduncular area",
          "Piriform-amygdalar area",
          "Agranular insular area",
          "Anterior cingulate area",
          "Auditory areas",
          "Ectorhinal area",
          "Hippocampal region",
          "Hypothalamus",
          "Main olfactory bulb",
          "Midbrain",
          "Orbital area",
          "Pallidum",
          "Piriform area",
          "Pons",
          "Posterior parietal association areas",
          "Prelimbic area",
          "Retrohippocampal region",
          "Retrosplenial area",
          "Somatomotor areas",
          "Somatosensory areas",
          "Striatum",
          "Taenia tecta",
          "Temporal association areas",
          "Thalamus",
          "Visceral area",
          "Visual areas",
          "root",
          "ventricular systems",
          "Agranular insular area",
          "Anterior cingulate area",
          "Auditory areas",
          "Ectorhinal area",
          "Hippocampal region",
          "Hypothalamus",
          "Main olfactory bulb",
          "Midbrain",
          "Orbital area",
          "Pallidum",
          "Piriform area",
          "Pons",
          "Posterior parietal association areas",
          "Prelimbic area",
          "Retrohippocampal region",
          "Retrosplenial area",
          "Somatomotor areas",
          "Somatosensory areas",
          "Striatum",
          "Taenia tecta",
          "Temporal association areas",
          "Thalamus",
          "Visceral area",
          "Visual areas",
          "root",
          "ventricular systems",
          "Agranular insular area",
          "Anterior cingulate area",
          "Auditory areas",
          "Cortical amygdalar area",
          "Cortical subplate",
          "Ectorhinal area",
          "Gustatory areas",
          "Hippocampal region",
          "Hypothalamus",
          "Infralimbic area",
          "Main olfactory bulb",
          "Medulla",
          "Midbrain",
          "Orbital area",
          "Pallidum",
          "Perirhinal area",
          "Piriform area",
          "Pons",
          "Posterior parietal association areas",
          "Postpiriform transition area",
          "Prelimbic area",
          "Retrohippocampal region",
          "Retrosplenial area",
          "Somatomotor areas",
          "Somatosensory areas",
          "Striatum",
          "Taenia tecta",
          "Temporal association areas",
          "Thalamus",
          "Visceral area",
          "Visual areas",
          "root",
          "ventricular systems",
          "Agranular insular area",
          "Anterior cingulate area",
          "Anterior olfactory nucleus",
          "Auditory areas",
          "Gustatory areas",
          "Hippocampal region",
          "Midbrain",
          "Orbital area",
          "Pallidum",
          "Piriform area",
          "Pons",
          "Retrohippocampal region",
          "Retrosplenial area",
          "Somatomotor areas",
          "Somatosensory areas",
          "Striatum",
          "Taenia tecta",
          "Thalamus",
          "Visual areas",
          "root",
          "Accessory olfactory bulb",
          "Agranular insular area",
          "Anterior cingulate area",
          "Auditory areas",
          "Cortical amygdalar area",
          "Cortical subplate",
          "Ectorhinal area",
          "Gustatory areas",
          "Hippocampal region",
          "Hypothalamus",
          "Main olfactory bulb",
          "Midbrain",
          "Orbital area",
          "Perirhinal area",
          "Piriform area",
          "Pons",
          "Prelimbic area",
          "Retrohippocampal region",
          "Retrosplenial area",
          "Somatomotor areas",
          "Somatosensory areas",
          "Striatum",
          "Temporal association areas",
          "Thalamus",
          "Visceral area",
          "Visual areas",
          "ventricular systems",
          "Agranular insular area",
          "Anterior cingulate area",
          "Auditory areas",
          "Cortical subplate",
          "Ectorhinal area",
          "Hippocampal region",
          "Hypothalamus",
          "Infralimbic area",
          "Main olfactory bulb",
          "Medulla",
          "Midbrain",
          "Orbital area",
          "Pallidum",
          "Perirhinal area",
          "Piriform area",
          "Pons",
          "Posterior parietal association areas",
          "Postpiriform transition area",
          "Prelimbic area",
          "Retrohippocampal region",
          "Retrosplenial area",
          "Somatomotor areas",
          "Somatosensory areas",
          "Striatum",
          "Temporal association areas",
          "Thalamus",
          "Visceral area",
          "Visual areas",
          "Agranular insular area",
          "Anterior cingulate area",
          "Anterior olfactory nucleus",
          "Auditory areas",
          "Cortical subplate",
          "Ectorhinal area",
          "Hippocampal region",
          "Hypothalamus",
          "Infralimbic area",
          "Main olfactory bulb",
          "Midbrain",
          "Nucleus of the lateral olfactory tract",
          "Orbital area",
          "Pallidum",
          "Perirhinal area",
          "Piriform area",
          "Pons",
          "Posterior parietal association areas",
          "Retrohippocampal region",
          "Retrosplenial area",
          "Somatomotor areas",
          "Somatosensory areas",
          "Striatum",
          "Temporal association areas",
          "Thalamus",
          "Visceral area",
          "Visual areas",
          "root",
          "ventricular systems",
          "Agranular insular area",
          "Anterior cingulate area",
          "Anterior olfactory nucleus",
          "Auditory areas",
          "Cortical subplate",
          "Ectorhinal area",
          "Frontal pole",
          "Gustatory areas",
          "Hippocampal region",
          "Hypothalamus",
          "Infralimbic area",
          "Main olfactory bulb",
          "Medulla",
          "Midbrain",
          "Orbital area",
          "Pallidum",
          "Perirhinal area",
          "Piriform area",
          "Pons",
          "Posterior parietal association areas",
          "Postpiriform transition area",
          "Prelimbic area",
          "Retrohippocampal region",
          "Retrosplenial area",
          "Somatomotor areas",
          "Somatosensory areas",
          "Striatum",
          "Temporal association areas",
          "Thalamus",
          "Visceral area",
          "Visual areas",
          "root",
          "ventricular systems",
          "Agranular insular area",
          "Anterior olfactory nucleus",
          "Auditory areas",
          "Cortical subplate",
          "Hippocampal region",
          "Hypothalamus",
          "Main olfactory bulb",
          "Midbrain",
          "Orbital area",
          "Pons",
          "Posterior parietal association areas",
          "Postpiriform transition area",
          "Retrohippocampal region",
          "Retrosplenial area",
          "Somatomotor areas",
          "Somatosensory areas",
          "Temporal association areas",
          "Thalamus",
          "Visual areas",
          "ventricular systems"
         ],
         "x0": " ",
         "xaxis": "x",
         "y": {
          "bdata": "AAAAAAAADQAHAB8ABwAFAAgAAgAJAAQABQACAAYAAQABAAYADwAEABcAFAACABEACAAYACwAAgABAA0ABwAfAAcABQAIAAIACQAEAAUAAgAGAAEAAQAGAA8ABAAXABQAAgARAAgAGAAsAAIAAQALABoAZwAEAAQAGwABABsADwADAAMAAwAYACQAAgAHAAMADQAGAAEAAgCIAMcAGQATABIAAQBQABIAAwDMAAIABAAEAAUAAQADAAEAAwAGAAEAAgABAAMABwAHAAQACAAJAAEABQADAAIAAQAJAAwAAwABAAIABQABAAcAAQABAAoAAwABAAQABwABAA8AbgAJAAsAAwAGAAEAAQAbAAIAAQAfABYAAQAGAAwACQABAAMAAQAoAAQAAQADAAcACgACAAIAAQBiAHAAEwAWACwAEgAKAAIASgATAA0AAQAfAAMADAAmABYAAgALAA8AAQAJAAIAAwAHAAwABgCjAEYADAAUAAsAFwAEAAUAjAABAAQAEABDAAIAbAEOAIIAAQACACIAHwABAAUAAwAyAD8ARQAgAAwAHwAVAAEABACUADwBSAB7AFQAQgFaAAcASQEFAAUAAQABAAcABAAFAAIAAQAiAAMABgABAAEAGgA6AAEAAgAKAAMAHQABAA==",
          "dtype": "i2"
         },
         "y0": " ",
         "yaxis": "y"
        },
        {
         "alignmentgroup": "True",
         "box": {
          "visible": true
         },
         "hovertemplate": "Hemisphere=contralateral<br>age=p1-7<br>General area=%{x}<br>count=%{y}<extra></extra>",
         "legendgroup": "contralateral",
         "marker": {
          "color": "orange"
         },
         "meanline": {
          "visible": true
         },
         "name": "contralateral",
         "offsetgroup": "contralateral",
         "orientation": "v",
         "scalegroup": "True",
         "showlegend": false,
         "type": "violin",
         "x": [
          "Accessory olfactory bulb",
          "Agranular insular area",
          "Anterior cingulate area",
          "Anterior olfactory nucleus",
          "Auditory areas",
          "Cerebellum",
          "Cortical amygdalar area",
          "Cortical subplate",
          "Dorsal peduncular area",
          "Ectorhinal area",
          "Frontal pole",
          "Gustatory areas",
          "Hippocampal region",
          "Hypothalamus",
          "Infralimbic area",
          "Main olfactory bulb",
          "Medulla",
          "Midbrain",
          "Nucleus of the lateral olfactory tract",
          "Orbital area",
          "Pallidum",
          "Perirhinal area",
          "Piriform area",
          "Piriform-amygdalar area",
          "Pons",
          "Posterior parietal association areas",
          "Postpiriform transition area",
          "Prelimbic area",
          "Retrohippocampal region",
          "Retrosplenial area",
          "Somatomotor areas",
          "Somatosensory areas",
          "Striatum",
          "Taenia tecta",
          "Temporal association areas",
          "Thalamus",
          "Visceral area",
          "Visual areas",
          "root",
          "ventricular systems",
          "Accessory olfactory bulb",
          "Agranular insular area",
          "Anterior olfactory nucleus",
          "Auditory areas",
          "Cortical amygdalar area",
          "Cortical subplate",
          "Dorsal peduncular area",
          "Ectorhinal area",
          "Gustatory areas",
          "Hippocampal region",
          "Hypothalamus",
          "Infralimbic area",
          "Main olfactory bulb",
          "Midbrain",
          "Orbital area",
          "Pallidum",
          "Perirhinal area",
          "Piriform area",
          "Postpiriform transition area",
          "Prelimbic area",
          "Retrohippocampal region",
          "Retrosplenial area",
          "Somatomotor areas",
          "Somatosensory areas",
          "Striatum",
          "Taenia tecta",
          "Temporal association areas",
          "Thalamus",
          "Visceral area",
          "Visual areas",
          "root",
          "ventricular systems",
          "Accessory olfactory bulb",
          "Agranular insular area",
          "Anterior cingulate area",
          "Anterior olfactory nucleus",
          "Auditory areas",
          "Cerebellum",
          "Cortical amygdalar area",
          "Cortical subplate",
          "Ectorhinal area",
          "Frontal pole",
          "Hippocampal region",
          "Hypothalamus",
          "Main olfactory bulb",
          "Medulla",
          "Midbrain",
          "Nucleus of the lateral olfactory tract",
          "Orbital area",
          "Pallidum",
          "Perirhinal area",
          "Piriform area",
          "Pons",
          "Posterior parietal association areas",
          "Postpiriform transition area",
          "Prelimbic area",
          "Retrohippocampal region",
          "Retrosplenial area",
          "Somatomotor areas",
          "Somatosensory areas",
          "Striatum",
          "Temporal association areas",
          "Thalamus",
          "Visceral area",
          "Visual areas",
          "root",
          "ventricular systems"
         ],
         "x0": " ",
         "xaxis": "x2",
         "y": {
          "bdata": "UwCmA8oAegDJABUAdQB2AC8AEQGGAEsA8gLhAS8AQQJTAJAGAgB6CEAA8ACUAAgAoQExAFMAZwCxB2gFWAbAASoBDACnAKACUwAYAz0AQQAFABAAAwACAAEACAABAAgABQAgAB0AAQByABwAEwAHAAEAAwACAAIAUwCdACAADAAQAAMAGAAwAAwATwAOAAYAAwAnAA4ABgDoAAMAJgCzAEgBAwBTAhkCPwABAGIBAgAeABEAkQAUAB8AGABPAAMAFgwFCl4AlwA8AIYBAwJhAMUCJgAfAA==",
          "dtype": "i2"
         },
         "y0": " ",
         "yaxis": "y2"
        }
       ],
       "layout": {
        "annotations": [
         {
          "font": {},
          "showarrow": false,
          "text": "age=p7-13",
          "x": 0.245,
          "xanchor": "center",
          "xref": "paper",
          "y": 1,
          "yanchor": "bottom",
          "yref": "paper"
         },
         {
          "font": {},
          "showarrow": false,
          "text": "age=p1-7",
          "x": 0.755,
          "xanchor": "center",
          "xref": "paper",
          "y": 1,
          "yanchor": "bottom",
          "yref": "paper"
         }
        ],
        "legend": {
         "title": {
          "text": "Hemisphere"
         },
         "tracegroupgap": 0
        },
        "template": {
         "data": {
          "bar": [
           {
            "error_x": {
             "color": "#2a3f5f"
            },
            "error_y": {
             "color": "#2a3f5f"
            },
            "marker": {
             "line": {
              "color": "#E5ECF6",
              "width": 0.5
             },
             "pattern": {
              "fillmode": "overlay",
              "size": 10,
              "solidity": 0.2
             }
            },
            "type": "bar"
           }
          ],
          "barpolar": [
           {
            "marker": {
             "line": {
              "color": "#E5ECF6",
              "width": 0.5
             },
             "pattern": {
              "fillmode": "overlay",
              "size": 10,
              "solidity": 0.2
             }
            },
            "type": "barpolar"
           }
          ],
          "carpet": [
           {
            "aaxis": {
             "endlinecolor": "#2a3f5f",
             "gridcolor": "white",
             "linecolor": "white",
             "minorgridcolor": "white",
             "startlinecolor": "#2a3f5f"
            },
            "baxis": {
             "endlinecolor": "#2a3f5f",
             "gridcolor": "white",
             "linecolor": "white",
             "minorgridcolor": "white",
             "startlinecolor": "#2a3f5f"
            },
            "type": "carpet"
           }
          ],
          "choropleth": [
           {
            "colorbar": {
             "outlinewidth": 0,
             "ticks": ""
            },
            "type": "choropleth"
           }
          ],
          "contour": [
           {
            "colorbar": {
             "outlinewidth": 0,
             "ticks": ""
            },
            "colorscale": [
             [
              0,
              "#0d0887"
             ],
             [
              0.1111111111111111,
              "#46039f"
             ],
             [
              0.2222222222222222,
              "#7201a8"
             ],
             [
              0.3333333333333333,
              "#9c179e"
             ],
             [
              0.4444444444444444,
              "#bd3786"
             ],
             [
              0.5555555555555556,
              "#d8576b"
             ],
             [
              0.6666666666666666,
              "#ed7953"
             ],
             [
              0.7777777777777778,
              "#fb9f3a"
             ],
             [
              0.8888888888888888,
              "#fdca26"
             ],
             [
              1,
              "#f0f921"
             ]
            ],
            "type": "contour"
           }
          ],
          "contourcarpet": [
           {
            "colorbar": {
             "outlinewidth": 0,
             "ticks": ""
            },
            "type": "contourcarpet"
           }
          ],
          "heatmap": [
           {
            "colorbar": {
             "outlinewidth": 0,
             "ticks": ""
            },
            "colorscale": [
             [
              0,
              "#0d0887"
             ],
             [
              0.1111111111111111,
              "#46039f"
             ],
             [
              0.2222222222222222,
              "#7201a8"
             ],
             [
              0.3333333333333333,
              "#9c179e"
             ],
             [
              0.4444444444444444,
              "#bd3786"
             ],
             [
              0.5555555555555556,
              "#d8576b"
             ],
             [
              0.6666666666666666,
              "#ed7953"
             ],
             [
              0.7777777777777778,
              "#fb9f3a"
             ],
             [
              0.8888888888888888,
              "#fdca26"
             ],
             [
              1,
              "#f0f921"
             ]
            ],
            "type": "heatmap"
           }
          ],
          "histogram": [
           {
            "marker": {
             "pattern": {
              "fillmode": "overlay",
              "size": 10,
              "solidity": 0.2
             }
            },
            "type": "histogram"
           }
          ],
          "histogram2d": [
           {
            "colorbar": {
             "outlinewidth": 0,
             "ticks": ""
            },
            "colorscale": [
             [
              0,
              "#0d0887"
             ],
             [
              0.1111111111111111,
              "#46039f"
             ],
             [
              0.2222222222222222,
              "#7201a8"
             ],
             [
              0.3333333333333333,
              "#9c179e"
             ],
             [
              0.4444444444444444,
              "#bd3786"
             ],
             [
              0.5555555555555556,
              "#d8576b"
             ],
             [
              0.6666666666666666,
              "#ed7953"
             ],
             [
              0.7777777777777778,
              "#fb9f3a"
             ],
             [
              0.8888888888888888,
              "#fdca26"
             ],
             [
              1,
              "#f0f921"
             ]
            ],
            "type": "histogram2d"
           }
          ],
          "histogram2dcontour": [
           {
            "colorbar": {
             "outlinewidth": 0,
             "ticks": ""
            },
            "colorscale": [
             [
              0,
              "#0d0887"
             ],
             [
              0.1111111111111111,
              "#46039f"
             ],
             [
              0.2222222222222222,
              "#7201a8"
             ],
             [
              0.3333333333333333,
              "#9c179e"
             ],
             [
              0.4444444444444444,
              "#bd3786"
             ],
             [
              0.5555555555555556,
              "#d8576b"
             ],
             [
              0.6666666666666666,
              "#ed7953"
             ],
             [
              0.7777777777777778,
              "#fb9f3a"
             ],
             [
              0.8888888888888888,
              "#fdca26"
             ],
             [
              1,
              "#f0f921"
             ]
            ],
            "type": "histogram2dcontour"
           }
          ],
          "mesh3d": [
           {
            "colorbar": {
             "outlinewidth": 0,
             "ticks": ""
            },
            "type": "mesh3d"
           }
          ],
          "parcoords": [
           {
            "line": {
             "colorbar": {
              "outlinewidth": 0,
              "ticks": ""
             }
            },
            "type": "parcoords"
           }
          ],
          "pie": [
           {
            "automargin": true,
            "type": "pie"
           }
          ],
          "scatter": [
           {
            "fillpattern": {
             "fillmode": "overlay",
             "size": 10,
             "solidity": 0.2
            },
            "type": "scatter"
           }
          ],
          "scatter3d": [
           {
            "line": {
             "colorbar": {
              "outlinewidth": 0,
              "ticks": ""
             }
            },
            "marker": {
             "colorbar": {
              "outlinewidth": 0,
              "ticks": ""
             }
            },
            "type": "scatter3d"
           }
          ],
          "scattercarpet": [
           {
            "marker": {
             "colorbar": {
              "outlinewidth": 0,
              "ticks": ""
             }
            },
            "type": "scattercarpet"
           }
          ],
          "scattergeo": [
           {
            "marker": {
             "colorbar": {
              "outlinewidth": 0,
              "ticks": ""
             }
            },
            "type": "scattergeo"
           }
          ],
          "scattergl": [
           {
            "marker": {
             "colorbar": {
              "outlinewidth": 0,
              "ticks": ""
             }
            },
            "type": "scattergl"
           }
          ],
          "scattermap": [
           {
            "marker": {
             "colorbar": {
              "outlinewidth": 0,
              "ticks": ""
             }
            },
            "type": "scattermap"
           }
          ],
          "scattermapbox": [
           {
            "marker": {
             "colorbar": {
              "outlinewidth": 0,
              "ticks": ""
             }
            },
            "type": "scattermapbox"
           }
          ],
          "scatterpolar": [
           {
            "marker": {
             "colorbar": {
              "outlinewidth": 0,
              "ticks": ""
             }
            },
            "type": "scatterpolar"
           }
          ],
          "scatterpolargl": [
           {
            "marker": {
             "colorbar": {
              "outlinewidth": 0,
              "ticks": ""
             }
            },
            "type": "scatterpolargl"
           }
          ],
          "scatterternary": [
           {
            "marker": {
             "colorbar": {
              "outlinewidth": 0,
              "ticks": ""
             }
            },
            "type": "scatterternary"
           }
          ],
          "surface": [
           {
            "colorbar": {
             "outlinewidth": 0,
             "ticks": ""
            },
            "colorscale": [
             [
              0,
              "#0d0887"
             ],
             [
              0.1111111111111111,
              "#46039f"
             ],
             [
              0.2222222222222222,
              "#7201a8"
             ],
             [
              0.3333333333333333,
              "#9c179e"
             ],
             [
              0.4444444444444444,
              "#bd3786"
             ],
             [
              0.5555555555555556,
              "#d8576b"
             ],
             [
              0.6666666666666666,
              "#ed7953"
             ],
             [
              0.7777777777777778,
              "#fb9f3a"
             ],
             [
              0.8888888888888888,
              "#fdca26"
             ],
             [
              1,
              "#f0f921"
             ]
            ],
            "type": "surface"
           }
          ],
          "table": [
           {
            "cells": {
             "fill": {
              "color": "#EBF0F8"
             },
             "line": {
              "color": "white"
             }
            },
            "header": {
             "fill": {
              "color": "#C8D4E3"
             },
             "line": {
              "color": "white"
             }
            },
            "type": "table"
           }
          ]
         },
         "layout": {
          "annotationdefaults": {
           "arrowcolor": "#2a3f5f",
           "arrowhead": 0,
           "arrowwidth": 1
          },
          "autotypenumbers": "strict",
          "coloraxis": {
           "colorbar": {
            "outlinewidth": 0,
            "ticks": ""
           }
          },
          "colorscale": {
           "diverging": [
            [
             0,
             "#8e0152"
            ],
            [
             0.1,
             "#c51b7d"
            ],
            [
             0.2,
             "#de77ae"
            ],
            [
             0.3,
             "#f1b6da"
            ],
            [
             0.4,
             "#fde0ef"
            ],
            [
             0.5,
             "#f7f7f7"
            ],
            [
             0.6,
             "#e6f5d0"
            ],
            [
             0.7,
             "#b8e186"
            ],
            [
             0.8,
             "#7fbc41"
            ],
            [
             0.9,
             "#4d9221"
            ],
            [
             1,
             "#276419"
            ]
           ],
           "sequential": [
            [
             0,
             "#0d0887"
            ],
            [
             0.1111111111111111,
             "#46039f"
            ],
            [
             0.2222222222222222,
             "#7201a8"
            ],
            [
             0.3333333333333333,
             "#9c179e"
            ],
            [
             0.4444444444444444,
             "#bd3786"
            ],
            [
             0.5555555555555556,
             "#d8576b"
            ],
            [
             0.6666666666666666,
             "#ed7953"
            ],
            [
             0.7777777777777778,
             "#fb9f3a"
            ],
            [
             0.8888888888888888,
             "#fdca26"
            ],
            [
             1,
             "#f0f921"
            ]
           ],
           "sequentialminus": [
            [
             0,
             "#0d0887"
            ],
            [
             0.1111111111111111,
             "#46039f"
            ],
            [
             0.2222222222222222,
             "#7201a8"
            ],
            [
             0.3333333333333333,
             "#9c179e"
            ],
            [
             0.4444444444444444,
             "#bd3786"
            ],
            [
             0.5555555555555556,
             "#d8576b"
            ],
            [
             0.6666666666666666,
             "#ed7953"
            ],
            [
             0.7777777777777778,
             "#fb9f3a"
            ],
            [
             0.8888888888888888,
             "#fdca26"
            ],
            [
             1,
             "#f0f921"
            ]
           ]
          },
          "colorway": [
           "#636efa",
           "#EF553B",
           "#00cc96",
           "#ab63fa",
           "#FFA15A",
           "#19d3f3",
           "#FF6692",
           "#B6E880",
           "#FF97FF",
           "#FECB52"
          ],
          "font": {
           "color": "#2a3f5f"
          },
          "geo": {
           "bgcolor": "white",
           "lakecolor": "white",
           "landcolor": "#E5ECF6",
           "showlakes": true,
           "showland": true,
           "subunitcolor": "white"
          },
          "hoverlabel": {
           "align": "left"
          },
          "hovermode": "closest",
          "mapbox": {
           "style": "light"
          },
          "paper_bgcolor": "white",
          "plot_bgcolor": "#E5ECF6",
          "polar": {
           "angularaxis": {
            "gridcolor": "white",
            "linecolor": "white",
            "ticks": ""
           },
           "bgcolor": "#E5ECF6",
           "radialaxis": {
            "gridcolor": "white",
            "linecolor": "white",
            "ticks": ""
           }
          },
          "scene": {
           "xaxis": {
            "backgroundcolor": "#E5ECF6",
            "gridcolor": "white",
            "gridwidth": 2,
            "linecolor": "white",
            "showbackground": true,
            "ticks": "",
            "zerolinecolor": "white"
           },
           "yaxis": {
            "backgroundcolor": "#E5ECF6",
            "gridcolor": "white",
            "gridwidth": 2,
            "linecolor": "white",
            "showbackground": true,
            "ticks": "",
            "zerolinecolor": "white"
           },
           "zaxis": {
            "backgroundcolor": "#E5ECF6",
            "gridcolor": "white",
            "gridwidth": 2,
            "linecolor": "white",
            "showbackground": true,
            "ticks": "",
            "zerolinecolor": "white"
           }
          },
          "shapedefaults": {
           "line": {
            "color": "#2a3f5f"
           }
          },
          "ternary": {
           "aaxis": {
            "gridcolor": "white",
            "linecolor": "white",
            "ticks": ""
           },
           "baxis": {
            "gridcolor": "white",
            "linecolor": "white",
            "ticks": ""
           },
           "bgcolor": "#E5ECF6",
           "caxis": {
            "gridcolor": "white",
            "linecolor": "white",
            "ticks": ""
           }
          },
          "title": {
           "x": 0.05
          },
          "xaxis": {
           "automargin": true,
           "gridcolor": "white",
           "linecolor": "white",
           "ticks": "",
           "title": {
            "standoff": 15
           },
           "zerolinecolor": "white",
           "zerolinewidth": 2
          },
          "yaxis": {
           "automargin": true,
           "gridcolor": "white",
           "linecolor": "white",
           "ticks": "",
           "title": {
            "standoff": 15
           },
           "zerolinecolor": "white",
           "zerolinewidth": 2
          }
         }
        },
        "title": {
         "text": "V1 injections counts by hemisphere, p1-7 (n=3) and p7-13 (n=9)"
        },
        "violinmode": "group",
        "xaxis": {
         "anchor": "y",
         "categoryarray": [
          "Retrosplenial area",
          "Retrohippocampal region",
          "Visual areas",
          "Thalamus",
          "Cortical subplate",
          "Somatosensory areas",
          "Orbital area",
          "Gustatory areas",
          "Anterior cingulate area",
          "Posterior parietal association areas",
          "Midbrain",
          "Hypothalamus",
          "Somatomotor areas",
          "Postpiriform transition area",
          "Ectorhinal area",
          "Agranular insular area",
          "Striatum",
          "Prelimbic area",
          "Perirhinal area",
          "Dorsal peduncular area",
          "Auditory areas",
          "Infralimbic area",
          "Pons",
          "Cortical amygdalar area",
          "Pallidum",
          "Hippocampal region",
          "Visceral area",
          "Temporal association areas",
          "Nucleus of the lateral olfactory tract",
          "Medulla",
          "Anterior olfactory nucleus",
          "Taenia tecta",
          "Frontal pole",
          "Piriform-amygdalar area",
          "root",
          "Main olfactory bulb",
          "ventricular systems",
          "Cerebellum",
          "Piriform area",
          "Accessory olfactory bulb"
         ],
         "categoryorder": "array",
         "domain": [
          0,
          0.49
         ],
         "title": {
          "text": "General area"
         }
        },
        "xaxis2": {
         "anchor": "y2",
         "categoryarray": [
          "Retrosplenial area",
          "Retrohippocampal region",
          "Visual areas",
          "Thalamus",
          "Cortical subplate",
          "Somatosensory areas",
          "Orbital area",
          "Gustatory areas",
          "Anterior cingulate area",
          "Posterior parietal association areas",
          "Midbrain",
          "Hypothalamus",
          "Somatomotor areas",
          "Postpiriform transition area",
          "Ectorhinal area",
          "Agranular insular area",
          "Striatum",
          "Prelimbic area",
          "Perirhinal area",
          "Dorsal peduncular area",
          "Auditory areas",
          "Infralimbic area",
          "Pons",
          "Cortical amygdalar area",
          "Pallidum",
          "Hippocampal region",
          "Visceral area",
          "Temporal association areas",
          "Nucleus of the lateral olfactory tract",
          "Medulla",
          "Anterior olfactory nucleus",
          "Taenia tecta",
          "Frontal pole",
          "Piriform-amygdalar area",
          "root",
          "Main olfactory bulb",
          "ventricular systems",
          "Cerebellum",
          "Piriform area",
          "Accessory olfactory bulb"
         ],
         "categoryorder": "array",
         "domain": [
          0.51,
          1
         ],
         "matches": "x",
         "title": {
          "text": "General area"
         }
        },
        "yaxis": {
         "anchor": "x",
         "domain": [
          0,
          1
         ],
         "title": {
          "text": "count"
         }
        },
        "yaxis2": {
         "anchor": "x2",
         "domain": [
          0,
          1
         ],
         "matches": "y",
         "showticklabels": false
        }
       }
      }
     },
     "metadata": {},
     "output_type": "display_data"
    }
   ],
   "source": [
    "plot_count(\n",
    "    df_grouped,\n",
    "    \"V1 injections counts by hemisphere, p1-7 (n=3) and p7-13 (n=9)\",\n",
    "    area_order_count,\n",
    ")"
   ]
  },
  {
   "cell_type": "code",
   "execution_count": 39,
   "id": "39f9f295",
   "metadata": {},
   "outputs": [
    {
     "data": {
      "application/vnd.plotly.v1+json": {
       "config": {
        "plotlyServerURL": "https://plotly.com"
       },
       "data": [
        {
         "alignmentgroup": "True",
         "box": {
          "visible": true
         },
         "hovertemplate": "Hemisphere=ipsilateral<br>age=p7-13<br>General area=%{x}<br>scaled count=%{y}<extra></extra>",
         "legendgroup": "ipsilateral",
         "marker": {
          "color": "magenta"
         },
         "meanline": {
          "visible": true
         },
         "name": "ipsilateral",
         "offsetgroup": "ipsilateral",
         "orientation": "v",
         "scalegroup": "True",
         "showlegend": true,
         "type": "violin",
         "x": [
          "Accessory olfactory bulb",
          "Agranular insular area",
          "Anterior cingulate area",
          "Anterior olfactory nucleus",
          "Auditory areas",
          "Cortical amygdalar area",
          "Cortical subplate",
          "Dorsal peduncular area",
          "Ectorhinal area",
          "Hippocampal region",
          "Hypothalamus",
          "Infralimbic area",
          "Medulla",
          "Midbrain",
          "Nucleus of the lateral olfactory tract",
          "Orbital area",
          "Pallidum",
          "Perirhinal area",
          "Posterior parietal association areas",
          "Postpiriform transition area",
          "Prelimbic area",
          "Retrohippocampal region",
          "Retrosplenial area",
          "Somatomotor areas",
          "Somatosensory areas",
          "Striatum",
          "Thalamus",
          "Visceral area",
          "Visual areas",
          "Agranular insular area",
          "Anterior cingulate area",
          "Anterior olfactory nucleus",
          "Auditory areas",
          "Cortical amygdalar area",
          "Cortical subplate",
          "Dorsal peduncular area",
          "Ectorhinal area",
          "Hippocampal region",
          "Hypothalamus",
          "Infralimbic area",
          "Medulla",
          "Midbrain",
          "Nucleus of the lateral olfactory tract",
          "Orbital area",
          "Pallidum",
          "Perirhinal area",
          "Posterior parietal association areas",
          "Postpiriform transition area",
          "Prelimbic area",
          "Retrohippocampal region",
          "Retrosplenial area",
          "Somatomotor areas",
          "Somatosensory areas",
          "Striatum",
          "Thalamus",
          "Visceral area",
          "Visual areas",
          "Agranular insular area",
          "Anterior cingulate area",
          "Anterior olfactory nucleus",
          "Auditory areas",
          "Cortical amygdalar area",
          "Cortical subplate",
          "Ectorhinal area",
          "Frontal pole",
          "Gustatory areas",
          "Hippocampal region",
          "Hypothalamus",
          "Infralimbic area",
          "Medulla",
          "Midbrain",
          "Orbital area",
          "Pallidum",
          "Perirhinal area",
          "Piriform-amygdalar area",
          "Pons",
          "Posterior parietal association areas",
          "Retrohippocampal region",
          "Retrosplenial area",
          "Somatomotor areas",
          "Somatosensory areas",
          "Striatum",
          "Thalamus",
          "Visceral area",
          "Visual areas",
          "Agranular insular area",
          "Anterior cingulate area",
          "Auditory areas",
          "Cortical amygdalar area",
          "Cortical subplate",
          "Ectorhinal area",
          "Gustatory areas",
          "Hippocampal region",
          "Hypothalamus",
          "Main olfactory bulb",
          "Midbrain",
          "Orbital area",
          "Retrohippocampal region",
          "Retrosplenial area",
          "Somatomotor areas",
          "Somatosensory areas",
          "Striatum",
          "Temporal association areas",
          "Thalamus",
          "Visceral area",
          "Visual areas",
          "ventricular systems",
          "Agranular insular area",
          "Anterior cingulate area",
          "Anterior olfactory nucleus",
          "Auditory areas",
          "Cortical subplate",
          "Dorsal peduncular area",
          "Ectorhinal area",
          "Frontal pole",
          "Gustatory areas",
          "Hippocampal region",
          "Hypothalamus",
          "Infralimbic area",
          "Midbrain",
          "Orbital area",
          "Perirhinal area",
          "Piriform-amygdalar area",
          "Pons",
          "Posterior parietal association areas",
          "Postpiriform transition area",
          "Prelimbic area",
          "Retrohippocampal region",
          "Retrosplenial area",
          "Somatomotor areas",
          "Striatum",
          "Temporal association areas",
          "Thalamus",
          "Visual areas",
          "root",
          "Agranular insular area",
          "Anterior cingulate area",
          "Auditory areas",
          "Cerebellum",
          "Cortical subplate",
          "Ectorhinal area",
          "Frontal pole",
          "Gustatory areas",
          "Hypothalamus",
          "Medulla",
          "Midbrain",
          "Nucleus of the lateral olfactory tract",
          "Orbital area",
          "Pallidum",
          "Pons",
          "Posterior parietal association areas",
          "Prelimbic area",
          "Retrohippocampal region",
          "Retrosplenial area",
          "Somatomotor areas",
          "Somatosensory areas",
          "Striatum",
          "Taenia tecta",
          "Thalamus",
          "Visceral area",
          "Visual areas",
          "ventricular systems",
          "Agranular insular area",
          "Anterior cingulate area",
          "Auditory areas",
          "Cortical amygdalar area",
          "Cortical subplate",
          "Dorsal peduncular area",
          "Ectorhinal area",
          "Frontal pole",
          "Gustatory areas",
          "Hypothalamus",
          "Infralimbic area",
          "Midbrain",
          "Orbital area",
          "Pallidum",
          "Perirhinal area",
          "Piriform-amygdalar area",
          "Pons",
          "Posterior parietal association areas",
          "Postpiriform transition area",
          "Prelimbic area",
          "Retrohippocampal region",
          "Retrosplenial area",
          "Somatomotor areas",
          "Somatosensory areas",
          "Striatum",
          "Taenia tecta",
          "Temporal association areas",
          "Thalamus",
          "Visceral area",
          "Visual areas",
          "ventricular systems",
          "Agranular insular area",
          "Auditory areas",
          "Cortical amygdalar area",
          "Cortical subplate",
          "Ectorhinal area",
          "Frontal pole",
          "Gustatory areas",
          "Hippocampal region",
          "Hypothalamus",
          "Medulla",
          "Midbrain",
          "Nucleus of the lateral olfactory tract",
          "Orbital area",
          "Pallidum",
          "Perirhinal area",
          "Posterior parietal association areas",
          "Retrohippocampal region",
          "Retrosplenial area",
          "Somatomotor areas",
          "Somatosensory areas",
          "Striatum",
          "Taenia tecta",
          "Thalamus",
          "Visceral area",
          "Visual areas",
          "ventricular systems",
          "Anterior cingulate area",
          "Auditory areas",
          "Cortical subplate",
          "Ectorhinal area",
          "Gustatory areas",
          "Hippocampal region",
          "Hypothalamus",
          "Midbrain",
          "Orbital area",
          "Perirhinal area",
          "Piriform area",
          "Pons",
          "Posterior parietal association areas",
          "Prelimbic area",
          "Retrohippocampal region",
          "Retrosplenial area",
          "Somatomotor areas",
          "Somatosensory areas",
          "Striatum",
          "Thalamus",
          "Visceral area",
          "Visual areas",
          "root"
         ],
         "x0": " ",
         "xaxis": "x",
         "y": {
          "bdata": "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",
          "dtype": "f8"
         },
         "y0": " ",
         "yaxis": "y"
        },
        {
         "alignmentgroup": "True",
         "box": {
          "visible": true
         },
         "hovertemplate": "Hemisphere=ipsilateral<br>age=p1-7<br>General area=%{x}<br>scaled count=%{y}<extra></extra>",
         "legendgroup": "ipsilateral",
         "marker": {
          "color": "magenta"
         },
         "meanline": {
          "visible": true
         },
         "name": "ipsilateral",
         "offsetgroup": "ipsilateral",
         "orientation": "v",
         "scalegroup": "True",
         "showlegend": false,
         "type": "violin",
         "x": [
          "Anterior olfactory nucleus",
          "Ectorhinal area",
          "Main olfactory bulb",
          "Medulla",
          "Piriform area",
          "Postpiriform transition area",
          "Taenia tecta",
          "Temporal association areas",
          "root",
          "Agranular insular area",
          "Auditory areas",
          "Cerebellum",
          "Gustatory areas",
          "Hypothalamus",
          "Infralimbic area",
          "Midbrain",
          "Nucleus of the lateral olfactory tract",
          "Perirhinal area",
          "Pons",
          "Posterior parietal association areas",
          "Retrosplenial area",
          "Somatosensory areas",
          "Striatum",
          "Thalamus",
          "Visceral area",
          "Visual areas",
          "ventricular systems",
          "Agranular insular area",
          "Anterior cingulate area",
          "Auditory areas",
          "Cerebellum",
          "Cortical amygdalar area",
          "Cortical subplate",
          "Frontal pole",
          "Hippocampal region",
          "Hypothalamus",
          "Midbrain",
          "Nucleus of the lateral olfactory tract",
          "Orbital area",
          "Pallidum",
          "Perirhinal area",
          "Piriform-amygdalar area",
          "Pons",
          "Posterior parietal association areas",
          "Prelimbic area",
          "Retrohippocampal region",
          "Retrosplenial area",
          "Somatomotor areas",
          "Somatosensory areas",
          "Striatum",
          "Thalamus",
          "Visceral area",
          "Visual areas",
          "ventricular systems",
          "Agranular insular area",
          "Anterior cingulate area",
          "Auditory areas",
          "Cortical amygdalar area",
          "Cortical subplate",
          "Frontal pole",
          "Gustatory areas",
          "Hypothalamus",
          "Midbrain",
          "Orbital area",
          "Pallidum",
          "Piriform-amygdalar area",
          "Pons",
          "Posterior parietal association areas",
          "Prelimbic area",
          "Retrohippocampal region",
          "Retrosplenial area",
          "Somatomotor areas",
          "Somatosensory areas",
          "Striatum",
          "Thalamus",
          "Visceral area",
          "Visual areas",
          "ventricular systems"
         ],
         "x0": " ",
         "xaxis": "x2",
         "y": {
          "bdata": "AAAAAAAA+H8AAAAAAAD4fwAAAAAAAPh/AAAAAAAA+H8AAAAAAAD4fwAAAAAAAPh/AAAAAAAA+H8AAAAAAAD4fwAAAAAAAPh/WTzVH3jAHj9ZPNUfeMA+P0Pt3xdaEGc/WTzVH3jADj+T6NedcNRMP0Pt3xdaECc/1ZvmUkdCYj9ZPNUfeMAeP0Pt3xdaECc/WTzVH3jADj/Vm+ZSR0JiP0Pt3xdaECc/zpTaG2noSj9ZPNUfeMAOP1k81R94wA4/WTzVH3jALj/OlNobaehqP0Pt3xdaECc/AdTRtNxFhT92qWGkyFZzP7yoAgdB8U4/vKgCB0HxTj+N/kHF8DRnP7yoAgdB8W4/vKgCB0HxXj+8qAIHQfFOP6RTIuYYE3s/u76ZrFJOlD+8qAIHQfFOP6RTIuYYE3s/jf5BxfA0dz+N/kHF8DSHP7yoAgdB8U4/pFMi5hgTez+8qAIHQfFuP7yoAgdB8U4/vKgCB0Hxjj+YeeMR0imxP7yoAgdB8V4/MH6S9iwCjT+8qAIHQfF+P3apYaTIVpM/vKgCB0HxTj+8M87ZyZ+pP3apYaTIVnM/IgoltUdRcz9MeXOqvxMWP2eryatwu3U/THlzqr8TFj/5mta/z45QP0x5c6q/ExY/4bAapft0Zz9MeXOqvxNmPwogaZpzN2o/FhXHp13EZj926MGfN9ZoP7dBzK+DslQ/THlzqr8TNj/84nCmrBx3P0x5c6q/ExY/dujBnzfWSD926MGfN9ZIP0x5c6q/EyY/NI+3j+v5XD9MeXOqvxNmP8VadzBchoQ/n1cQla+YOz8UFgBePAixP/ma1r/PjjA/",
          "dtype": "f8"
         },
         "y0": " ",
         "yaxis": "y2"
        },
        {
         "alignmentgroup": "True",
         "box": {
          "visible": true
         },
         "hovertemplate": "Hemisphere=contralateral<br>age=p7-13<br>General area=%{x}<br>scaled count=%{y}<extra></extra>",
         "legendgroup": "contralateral",
         "marker": {
          "color": "orange"
         },
         "meanline": {
          "visible": true
         },
         "name": "contralateral",
         "offsetgroup": "contralateral",
         "orientation": "v",
         "scalegroup": "True",
         "showlegend": true,
         "type": "violin",
         "x": [
          "Cerebellum",
          "Dorsal peduncular area",
          "Piriform-amygdalar area",
          "Agranular insular area",
          "Anterior cingulate area",
          "Auditory areas",
          "Ectorhinal area",
          "Hippocampal region",
          "Hypothalamus",
          "Main olfactory bulb",
          "Midbrain",
          "Orbital area",
          "Pallidum",
          "Piriform area",
          "Pons",
          "Posterior parietal association areas",
          "Prelimbic area",
          "Retrohippocampal region",
          "Retrosplenial area",
          "Somatomotor areas",
          "Somatosensory areas",
          "Striatum",
          "Taenia tecta",
          "Temporal association areas",
          "Thalamus",
          "Visceral area",
          "Visual areas",
          "root",
          "ventricular systems",
          "Agranular insular area",
          "Anterior cingulate area",
          "Auditory areas",
          "Ectorhinal area",
          "Hippocampal region",
          "Hypothalamus",
          "Main olfactory bulb",
          "Midbrain",
          "Orbital area",
          "Pallidum",
          "Piriform area",
          "Pons",
          "Posterior parietal association areas",
          "Prelimbic area",
          "Retrohippocampal region",
          "Retrosplenial area",
          "Somatomotor areas",
          "Somatosensory areas",
          "Striatum",
          "Taenia tecta",
          "Temporal association areas",
          "Thalamus",
          "Visceral area",
          "Visual areas",
          "root",
          "ventricular systems",
          "Agranular insular area",
          "Anterior cingulate area",
          "Auditory areas",
          "Cortical amygdalar area",
          "Cortical subplate",
          "Ectorhinal area",
          "Gustatory areas",
          "Hippocampal region",
          "Hypothalamus",
          "Infralimbic area",
          "Main olfactory bulb",
          "Medulla",
          "Midbrain",
          "Orbital area",
          "Pallidum",
          "Perirhinal area",
          "Piriform area",
          "Pons",
          "Posterior parietal association areas",
          "Postpiriform transition area",
          "Prelimbic area",
          "Retrohippocampal region",
          "Retrosplenial area",
          "Somatomotor areas",
          "Somatosensory areas",
          "Striatum",
          "Taenia tecta",
          "Temporal association areas",
          "Thalamus",
          "Visceral area",
          "Visual areas",
          "root",
          "ventricular systems",
          "Agranular insular area",
          "Anterior cingulate area",
          "Anterior olfactory nucleus",
          "Auditory areas",
          "Gustatory areas",
          "Hippocampal region",
          "Midbrain",
          "Orbital area",
          "Pallidum",
          "Piriform area",
          "Pons",
          "Retrohippocampal region",
          "Retrosplenial area",
          "Somatomotor areas",
          "Somatosensory areas",
          "Striatum",
          "Taenia tecta",
          "Thalamus",
          "Visual areas",
          "root",
          "Accessory olfactory bulb",
          "Agranular insular area",
          "Anterior cingulate area",
          "Auditory areas",
          "Cortical amygdalar area",
          "Cortical subplate",
          "Ectorhinal area",
          "Gustatory areas",
          "Hippocampal region",
          "Hypothalamus",
          "Main olfactory bulb",
          "Midbrain",
          "Orbital area",
          "Perirhinal area",
          "Piriform area",
          "Pons",
          "Prelimbic area",
          "Retrohippocampal region",
          "Retrosplenial area",
          "Somatomotor areas",
          "Somatosensory areas",
          "Striatum",
          "Temporal association areas",
          "Thalamus",
          "Visceral area",
          "Visual areas",
          "ventricular systems",
          "Agranular insular area",
          "Anterior cingulate area",
          "Auditory areas",
          "Cortical subplate",
          "Ectorhinal area",
          "Hippocampal region",
          "Hypothalamus",
          "Infralimbic area",
          "Main olfactory bulb",
          "Medulla",
          "Midbrain",
          "Orbital area",
          "Pallidum",
          "Perirhinal area",
          "Piriform area",
          "Pons",
          "Posterior parietal association areas",
          "Postpiriform transition area",
          "Prelimbic area",
          "Retrohippocampal region",
          "Retrosplenial area",
          "Somatomotor areas",
          "Somatosensory areas",
          "Striatum",
          "Temporal association areas",
          "Thalamus",
          "Visceral area",
          "Visual areas",
          "Agranular insular area",
          "Anterior cingulate area",
          "Anterior olfactory nucleus",
          "Auditory areas",
          "Cortical subplate",
          "Ectorhinal area",
          "Hippocampal region",
          "Hypothalamus",
          "Infralimbic area",
          "Main olfactory bulb",
          "Midbrain",
          "Nucleus of the lateral olfactory tract",
          "Orbital area",
          "Pallidum",
          "Perirhinal area",
          "Piriform area",
          "Pons",
          "Posterior parietal association areas",
          "Retrohippocampal region",
          "Retrosplenial area",
          "Somatomotor areas",
          "Somatosensory areas",
          "Striatum",
          "Temporal association areas",
          "Thalamus",
          "Visceral area",
          "Visual areas",
          "root",
          "ventricular systems",
          "Agranular insular area",
          "Anterior cingulate area",
          "Anterior olfactory nucleus",
          "Auditory areas",
          "Cortical subplate",
          "Ectorhinal area",
          "Frontal pole",
          "Gustatory areas",
          "Hippocampal region",
          "Hypothalamus",
          "Infralimbic area",
          "Main olfactory bulb",
          "Medulla",
          "Midbrain",
          "Orbital area",
          "Pallidum",
          "Perirhinal area",
          "Piriform area",
          "Pons",
          "Posterior parietal association areas",
          "Postpiriform transition area",
          "Prelimbic area",
          "Retrohippocampal region",
          "Retrosplenial area",
          "Somatomotor areas",
          "Somatosensory areas",
          "Striatum",
          "Temporal association areas",
          "Thalamus",
          "Visceral area",
          "Visual areas",
          "root",
          "ventricular systems",
          "Agranular insular area",
          "Anterior olfactory nucleus",
          "Auditory areas",
          "Cortical subplate",
          "Hippocampal region",
          "Hypothalamus",
          "Main olfactory bulb",
          "Midbrain",
          "Orbital area",
          "Pons",
          "Posterior parietal association areas",
          "Postpiriform transition area",
          "Retrohippocampal region",
          "Retrosplenial area",
          "Somatomotor areas",
          "Somatosensory areas",
          "Temporal association areas",
          "Thalamus",
          "Visual areas",
          "ventricular systems"
         ],
         "x0": " ",
         "xaxis": "x",
         "y": {
          "bdata": "AAAAAAAA+H8AAAAAAAD4fwAAAAAAAPh/70xGi1c+gT/ujdUf6JFyP2xvrP5Aj5Q/7o3VH+iRcj/mEzGbS4dqP+sP9EgJOXU/6w/0SAk5VT/okRJyKuB3P+sP9EgJOWU/5hMxm0uHaj/rD/RICTlVP+AXbu2N1W8/6w/0SAk5RT/rD/RICTlFP+AXbu2N1W8/7M5ktHjlgz/rD/RICTllP+LW3lj9gY4/5hMxm0uHij/rD/RICTlVP+pQg92ZjIY/6w/0SAk5dT/gF27tjdWPP+OVT8RsLp0/6w/0SAk5VT/rD/RICTlFP+9MRotXPoE/7o3VH+iRcj9sb6z+QI+UP+6N1R/okXI/5hMxm0uHaj/rD/RICTl1P+sP9EgJOVU/6JEScirgdz/rD/RICTllP+YTMZtLh2o/6w/0SAk5VT/gF27tjdVvP+sP9EgJOUU/6w/0SAk5RT/gF27tjdVvP+zOZLR45YM/6w/0SAk5ZT/i1t5Y/YGOP+YTMZtLh4o/6w/0SAk5VT/qUIPdmYyGP+sP9EgJOXU/4Bdu7Y3Vjz/jlU/EbC6dP+sP9EgJOVU/6w/0SAk5RT95altMPS5/PzDWeyHHbJI/IfTGmWw/sj+eB3HaQ61mP54HcdpDrWY/bV5PQDEikz+eB3HaQ61GP21eT0AxIpM/JPfJnG9ChT+2xdTj8gFhP7bF1OPyAWE/tsXU4/IBYT+2xdTj8gGRP5Iov1Xsgpk/ngdx2kOtVj+q5iJfm9dzP7bF1OPyAWE/MNZ7Icdsgj+2xdTj8gFxP54HcdpDrUY/ngdx2kOtVj8YGBgYGBi4P+zczb6voME/802oAl23kT8MOWaTwO2KP5Iov1Xsgok/ngdx2kOtRj+GSQ3RlFisP5Iov1Xsgok/tsXU4/IBYT8SEhISEhLCP54HcdpDrVY/ngdx2kOtZj9xQYuGp8CAP80RLmjR8IQ/cUGLhqfAYD8q4tBJ+yB5P3FBi4anwGA/KuLQSfsgeT8q4tBJ+yCJP3FBi4anwGA/cUGLhqfAcD9xQYuGp8BgPyri0En7IHk/hrJzKyVRjT+GsnMrJVGNP3FBi4anwIA/cUGLhqfAkD+fqVx3vNiSP3FBi4anwGA/zREuaNHwhD8q4tBJ+yB5P3FBi4anwHA/0S0m9Xa4ST+L88rThe98P12i3DdZSoM/XaLcN1lKYz/RLSb1drhJP9EtJvV2uFk/o9w3WUoTcD/RLSb1drhJPxdogRZogXY/0S0m9Xa4ST/RLSb1drhJP6PcN1lKE4A/XaLcN1lKYz/RLSb1drhJP9EtJvV2uGk/F2iBFmiBdj/RLSb1drhJP/TK04XvHIg/YM+sOoYatj+L88rThe98P4A/isjRroE/XaLcN1lKYz9dotw3WUpzP9EtJvV2uEk/0S0m9Xa4ST+oNthepLOVP9EtJvV2uFk/ATzI+g/fVD8h+vF6FzikP4FS0/i1spw/ATzI+g/fVD8CWiz4l05/PwJaLPiXTo8/gUMh+vF6hz8BPMj6D99UPwJaLPiXTm8/ATzI+g/fVD8BS3r50xaqPwE8yPoP33Q/ATzI+g/fVD8CWiz4l05vP4E0b/stQ4I/AUt6+dMWij8BPMj6D99kPwE8yPoP32Q/ATzI+g/fVD/imwJ4kPW/P4E0b/stQ8I/QcfN+eLImD+BUtP4tbKcP4FS0/i1sqw/gUMh+vF6lz8BS3r50xaKPwE8yPoP32Q/YYX3eeohuD82dYHu0SiGP6gZzG7OUn4/BcHzkhypQj/9Ilyu0xOSP4ihbdyq/Vs/iKFt3Kr9ez82dYHu0SiWP2cpD0qHqIk/BcHzkhypUj9nKQ9Kh6h5P/WExMmKfoE/BcHzkhypQj8mOVIlQP50PwXB85IcqVI/iKFt3Kr9Wz/kSJUA+VNwP4ihbdyq/Xs/iKFt3Kr9az/MZyJjWsO3Px2bukD3aKQ/iKFt3Kr9ez9GsbC3Y1OHP2cpD0qHqHk/d2U+ExnTij8FwfOSHKliP0axsLdjU2c/HZu6QPdotD8FwfOSHKlCPwXB85IcqWI/hVmKvj2ldj+31Xij/LSXP4VZir49pUY/pVt25XkZwD9UDrkGltBzP+uChLXS/6Y/hVmKvj2lNj+FWYq+PaVGPx3/cpqRD4g/uQaW0BPwhT+FWYq+PaU2P+bvLC6NTlw/JMPnTu77UD/wFdw8GLGRPx8wkMeoSpY/gyhtkSZqmD+FWYq+PaWGPyTD507u+3A/uQaW0BPwhT9/lRUK4bh9P4VZir49pTY/hVmKvj2lVj+C909kDy+qP4DGMjf487s/tqRbduV5mT8G8hhVycKlP3+VFQrhuJ0/mQSqqdd7vD/jjfLTXtifP1QOuQaW0GM/DM3fWVwavT/m7ywujU5cP+bvLC6NTlw/kfpHxry6ZT+R+kfGvLplPz/7fi1lA5M/kfpHxry6hT81+dn3aymLP5H6R8a8unU/kfpHxry6ZT86eqySaBa3P+37tZQNTIA/7fu1lA1MkD+R+kfGvLplP5H6R8a8umU/lnsaYbmnsT8TO7ETO7HDP5H6R8a8umU/kfpHxry6dT81+dn3aymbP+37tZQNTIA/EzuxEzuxsz+R+kfGvLplPw==",
          "dtype": "f8"
         },
         "y0": " ",
         "yaxis": "y"
        },
        {
         "alignmentgroup": "True",
         "box": {
          "visible": true
         },
         "hovertemplate": "Hemisphere=contralateral<br>age=p1-7<br>General area=%{x}<br>scaled count=%{y}<extra></extra>",
         "legendgroup": "contralateral",
         "marker": {
          "color": "orange"
         },
         "meanline": {
          "visible": true
         },
         "name": "contralateral",
         "offsetgroup": "contralateral",
         "orientation": "v",
         "scalegroup": "True",
         "showlegend": false,
         "type": "violin",
         "x": [
          "Accessory olfactory bulb",
          "Agranular insular area",
          "Anterior cingulate area",
          "Anterior olfactory nucleus",
          "Auditory areas",
          "Cerebellum",
          "Cortical amygdalar area",
          "Cortical subplate",
          "Dorsal peduncular area",
          "Ectorhinal area",
          "Frontal pole",
          "Gustatory areas",
          "Hippocampal region",
          "Hypothalamus",
          "Infralimbic area",
          "Main olfactory bulb",
          "Medulla",
          "Midbrain",
          "Nucleus of the lateral olfactory tract",
          "Orbital area",
          "Pallidum",
          "Perirhinal area",
          "Piriform area",
          "Piriform-amygdalar area",
          "Pons",
          "Posterior parietal association areas",
          "Postpiriform transition area",
          "Prelimbic area",
          "Retrohippocampal region",
          "Retrosplenial area",
          "Somatomotor areas",
          "Somatosensory areas",
          "Striatum",
          "Taenia tecta",
          "Temporal association areas",
          "Thalamus",
          "Visceral area",
          "Visual areas",
          "root",
          "ventricular systems",
          "Accessory olfactory bulb",
          "Agranular insular area",
          "Anterior olfactory nucleus",
          "Auditory areas",
          "Cortical amygdalar area",
          "Cortical subplate",
          "Dorsal peduncular area",
          "Ectorhinal area",
          "Gustatory areas",
          "Hippocampal region",
          "Hypothalamus",
          "Infralimbic area",
          "Main olfactory bulb",
          "Midbrain",
          "Orbital area",
          "Pallidum",
          "Perirhinal area",
          "Piriform area",
          "Postpiriform transition area",
          "Prelimbic area",
          "Retrohippocampal region",
          "Retrosplenial area",
          "Somatomotor areas",
          "Somatosensory areas",
          "Striatum",
          "Taenia tecta",
          "Temporal association areas",
          "Thalamus",
          "Visceral area",
          "Visual areas",
          "root",
          "ventricular systems",
          "Accessory olfactory bulb",
          "Agranular insular area",
          "Anterior cingulate area",
          "Anterior olfactory nucleus",
          "Auditory areas",
          "Cerebellum",
          "Cortical amygdalar area",
          "Cortical subplate",
          "Ectorhinal area",
          "Frontal pole",
          "Hippocampal region",
          "Hypothalamus",
          "Main olfactory bulb",
          "Medulla",
          "Midbrain",
          "Nucleus of the lateral olfactory tract",
          "Orbital area",
          "Pallidum",
          "Perirhinal area",
          "Piriform area",
          "Pons",
          "Posterior parietal association areas",
          "Postpiriform transition area",
          "Prelimbic area",
          "Retrohippocampal region",
          "Retrosplenial area",
          "Somatomotor areas",
          "Somatosensory areas",
          "Striatum",
          "Temporal association areas",
          "Thalamus",
          "Visceral area",
          "Visual areas",
          "root",
          "ventricular systems"
         ],
         "x0": " ",
         "xaxis": "x2",
         "y": {
          "bdata": "IkWk5M3wcz+L/giRjQysP55BHsneQ4g/hT1XfnJPfT9ibP5QHiWIP5rv49ROLlQ/KekYze0bfD+ik1i9bll8P1GYYDdYlWY/rTL5DKBlkD+XnangvhiAP1zxpmLGBHI/8IJwc7ikpj8y0+fZ0OOcP1GYYDdYlWY/Qefvr/NToT8iRaTkzfBzP4HrHIriObk/WTzVH3jAHj8ZWN2jt0rAP1k81R94wG4/k+jXnXDUjD/jRmdyRceBP1k81R94wD4/pivt1cELmT80Ql/4W4tnPyJFpOTN8HM/kJadqeC+eD+l4pp9y5C9P8gZgy0RyLQ/2xY+QZ9iuD/OlNobaeiaPyAch+oF5pE/Q+3fF1oQRz9eGsRcjg+EP5rv49ROLqQ/IkWk5M3wcz+t7J7o3MinP4U9V35yT20/SpFUAHo7bz92qWGkyFZzP7yoAgdB8Y4/jf5BxfA0Zz+8qAIHQfFeP7yoAgdB8U4/vKgCB0Hxfj+8qAIHQfFOP7yoAgdB8X4/dqlhpMhWcz+8qAIHQfGeP+poWu6iCpw/vKgCB0HxTj9HXj7q3Y67P6RTIuYYE5s/MJQpnD5fkj+kUyLmGBN7P7yoAgdB8U4/jf5BxfA0Zz+8qAIHQfFeP7yoAgdB8V4/armLKnAQtD97oUzh9PnCP7yoAgdB8Z4/jf5BxfA0hz+8qAIHQfGOP43+QcXwNGc/jf5BxfA0lz+N/kHF8DSnP43+QcXwNIc/JKRTIuYYsz+kUyLmGBOLP43+QcXwNHc/+ZrWv8+OMD/Vu7yXEehqPyIKJbVHUVM/+ZrWv8+OQD/tpXiy5QGUP/ma1r/PjjA/CiBpmnM3aj+ge10Int+OP2nzY5JNSZw/+ZrWv8+OMD92MZU886epP7gcRoa2J6c/Z6vJq3C7dT9MeXOqvxMWP7utswlPh54/THlzqr8TJj+3Qcyvg7JkP+GwGqX7dFc/aM8WH18CiT+fVxCVr5hbP4LdH60hY2U/+ZrWv8+OYD+6iWaWYEB7P/ma1r/PjjA/wPlg5yqt0D/L39rse6bLPxTNLMGANoA/GDkUG0wLij+3Qcyvg7J0P2X11f4K0aA/gibzSd00pj/sgSs/97qAP3jniOlYkq4/CiBpmnM3aj+C3R+tIWNlPw==",
          "dtype": "f8"
         },
         "y0": " ",
         "yaxis": "y2"
        }
       ],
       "layout": {
        "annotations": [
         {
          "font": {},
          "showarrow": false,
          "text": "age=p7-13",
          "x": 0.245,
          "xanchor": "center",
          "xref": "paper",
          "y": 1,
          "yanchor": "bottom",
          "yref": "paper"
         },
         {
          "font": {},
          "showarrow": false,
          "text": "age=p1-7",
          "x": 0.755,
          "xanchor": "center",
          "xref": "paper",
          "y": 1,
          "yanchor": "bottom",
          "yref": "paper"
         }
        ],
        "legend": {
         "title": {
          "text": "Hemisphere"
         },
         "tracegroupgap": 0
        },
        "template": {
         "data": {
          "bar": [
           {
            "error_x": {
             "color": "#2a3f5f"
            },
            "error_y": {
             "color": "#2a3f5f"
            },
            "marker": {
             "line": {
              "color": "#E5ECF6",
              "width": 0.5
             },
             "pattern": {
              "fillmode": "overlay",
              "size": 10,
              "solidity": 0.2
             }
            },
            "type": "bar"
           }
          ],
          "barpolar": [
           {
            "marker": {
             "line": {
              "color": "#E5ECF6",
              "width": 0.5
             },
             "pattern": {
              "fillmode": "overlay",
              "size": 10,
              "solidity": 0.2
             }
            },
            "type": "barpolar"
           }
          ],
          "carpet": [
           {
            "aaxis": {
             "endlinecolor": "#2a3f5f",
             "gridcolor": "white",
             "linecolor": "white",
             "minorgridcolor": "white",
             "startlinecolor": "#2a3f5f"
            },
            "baxis": {
             "endlinecolor": "#2a3f5f",
             "gridcolor": "white",
             "linecolor": "white",
             "minorgridcolor": "white",
             "startlinecolor": "#2a3f5f"
            },
            "type": "carpet"
           }
          ],
          "choropleth": [
           {
            "colorbar": {
             "outlinewidth": 0,
             "ticks": ""
            },
            "type": "choropleth"
           }
          ],
          "contour": [
           {
            "colorbar": {
             "outlinewidth": 0,
             "ticks": ""
            },
            "colorscale": [
             [
              0,
              "#0d0887"
             ],
             [
              0.1111111111111111,
              "#46039f"
             ],
             [
              0.2222222222222222,
              "#7201a8"
             ],
             [
              0.3333333333333333,
              "#9c179e"
             ],
             [
              0.4444444444444444,
              "#bd3786"
             ],
             [
              0.5555555555555556,
              "#d8576b"
             ],
             [
              0.6666666666666666,
              "#ed7953"
             ],
             [
              0.7777777777777778,
              "#fb9f3a"
             ],
             [
              0.8888888888888888,
              "#fdca26"
             ],
             [
              1,
              "#f0f921"
             ]
            ],
            "type": "contour"
           }
          ],
          "contourcarpet": [
           {
            "colorbar": {
             "outlinewidth": 0,
             "ticks": ""
            },
            "type": "contourcarpet"
           }
          ],
          "heatmap": [
           {
            "colorbar": {
             "outlinewidth": 0,
             "ticks": ""
            },
            "colorscale": [
             [
              0,
              "#0d0887"
             ],
             [
              0.1111111111111111,
              "#46039f"
             ],
             [
              0.2222222222222222,
              "#7201a8"
             ],
             [
              0.3333333333333333,
              "#9c179e"
             ],
             [
              0.4444444444444444,
              "#bd3786"
             ],
             [
              0.5555555555555556,
              "#d8576b"
             ],
             [
              0.6666666666666666,
              "#ed7953"
             ],
             [
              0.7777777777777778,
              "#fb9f3a"
             ],
             [
              0.8888888888888888,
              "#fdca26"
             ],
             [
              1,
              "#f0f921"
             ]
            ],
            "type": "heatmap"
           }
          ],
          "histogram": [
           {
            "marker": {
             "pattern": {
              "fillmode": "overlay",
              "size": 10,
              "solidity": 0.2
             }
            },
            "type": "histogram"
           }
          ],
          "histogram2d": [
           {
            "colorbar": {
             "outlinewidth": 0,
             "ticks": ""
            },
            "colorscale": [
             [
              0,
              "#0d0887"
             ],
             [
              0.1111111111111111,
              "#46039f"
             ],
             [
              0.2222222222222222,
              "#7201a8"
             ],
             [
              0.3333333333333333,
              "#9c179e"
             ],
             [
              0.4444444444444444,
              "#bd3786"
             ],
             [
              0.5555555555555556,
              "#d8576b"
             ],
             [
              0.6666666666666666,
              "#ed7953"
             ],
             [
              0.7777777777777778,
              "#fb9f3a"
             ],
             [
              0.8888888888888888,
              "#fdca26"
             ],
             [
              1,
              "#f0f921"
             ]
            ],
            "type": "histogram2d"
           }
          ],
          "histogram2dcontour": [
           {
            "colorbar": {
             "outlinewidth": 0,
             "ticks": ""
            },
            "colorscale": [
             [
              0,
              "#0d0887"
             ],
             [
              0.1111111111111111,
              "#46039f"
             ],
             [
              0.2222222222222222,
              "#7201a8"
             ],
             [
              0.3333333333333333,
              "#9c179e"
             ],
             [
              0.4444444444444444,
              "#bd3786"
             ],
             [
              0.5555555555555556,
              "#d8576b"
             ],
             [
              0.6666666666666666,
              "#ed7953"
             ],
             [
              0.7777777777777778,
              "#fb9f3a"
             ],
             [
              0.8888888888888888,
              "#fdca26"
             ],
             [
              1,
              "#f0f921"
             ]
            ],
            "type": "histogram2dcontour"
           }
          ],
          "mesh3d": [
           {
            "colorbar": {
             "outlinewidth": 0,
             "ticks": ""
            },
            "type": "mesh3d"
           }
          ],
          "parcoords": [
           {
            "line": {
             "colorbar": {
              "outlinewidth": 0,
              "ticks": ""
             }
            },
            "type": "parcoords"
           }
          ],
          "pie": [
           {
            "automargin": true,
            "type": "pie"
           }
          ],
          "scatter": [
           {
            "fillpattern": {
             "fillmode": "overlay",
             "size": 10,
             "solidity": 0.2
            },
            "type": "scatter"
           }
          ],
          "scatter3d": [
           {
            "line": {
             "colorbar": {
              "outlinewidth": 0,
              "ticks": ""
             }
            },
            "marker": {
             "colorbar": {
              "outlinewidth": 0,
              "ticks": ""
             }
            },
            "type": "scatter3d"
           }
          ],
          "scattercarpet": [
           {
            "marker": {
             "colorbar": {
              "outlinewidth": 0,
              "ticks": ""
             }
            },
            "type": "scattercarpet"
           }
          ],
          "scattergeo": [
           {
            "marker": {
             "colorbar": {
              "outlinewidth": 0,
              "ticks": ""
             }
            },
            "type": "scattergeo"
           }
          ],
          "scattergl": [
           {
            "marker": {
             "colorbar": {
              "outlinewidth": 0,
              "ticks": ""
             }
            },
            "type": "scattergl"
           }
          ],
          "scattermap": [
           {
            "marker": {
             "colorbar": {
              "outlinewidth": 0,
              "ticks": ""
             }
            },
            "type": "scattermap"
           }
          ],
          "scattermapbox": [
           {
            "marker": {
             "colorbar": {
              "outlinewidth": 0,
              "ticks": ""
             }
            },
            "type": "scattermapbox"
           }
          ],
          "scatterpolar": [
           {
            "marker": {
             "colorbar": {
              "outlinewidth": 0,
              "ticks": ""
             }
            },
            "type": "scatterpolar"
           }
          ],
          "scatterpolargl": [
           {
            "marker": {
             "colorbar": {
              "outlinewidth": 0,
              "ticks": ""
             }
            },
            "type": "scatterpolargl"
           }
          ],
          "scatterternary": [
           {
            "marker": {
             "colorbar": {
              "outlinewidth": 0,
              "ticks": ""
             }
            },
            "type": "scatterternary"
           }
          ],
          "surface": [
           {
            "colorbar": {
             "outlinewidth": 0,
             "ticks": ""
            },
            "colorscale": [
             [
              0,
              "#0d0887"
             ],
             [
              0.1111111111111111,
              "#46039f"
             ],
             [
              0.2222222222222222,
              "#7201a8"
             ],
             [
              0.3333333333333333,
              "#9c179e"
             ],
             [
              0.4444444444444444,
              "#bd3786"
             ],
             [
              0.5555555555555556,
              "#d8576b"
             ],
             [
              0.6666666666666666,
              "#ed7953"
             ],
             [
              0.7777777777777778,
              "#fb9f3a"
             ],
             [
              0.8888888888888888,
              "#fdca26"
             ],
             [
              1,
              "#f0f921"
             ]
            ],
            "type": "surface"
           }
          ],
          "table": [
           {
            "cells": {
             "fill": {
              "color": "#EBF0F8"
             },
             "line": {
              "color": "white"
             }
            },
            "header": {
             "fill": {
              "color": "#C8D4E3"
             },
             "line": {
              "color": "white"
             }
            },
            "type": "table"
           }
          ]
         },
         "layout": {
          "annotationdefaults": {
           "arrowcolor": "#2a3f5f",
           "arrowhead": 0,
           "arrowwidth": 1
          },
          "autotypenumbers": "strict",
          "coloraxis": {
           "colorbar": {
            "outlinewidth": 0,
            "ticks": ""
           }
          },
          "colorscale": {
           "diverging": [
            [
             0,
             "#8e0152"
            ],
            [
             0.1,
             "#c51b7d"
            ],
            [
             0.2,
             "#de77ae"
            ],
            [
             0.3,
             "#f1b6da"
            ],
            [
             0.4,
             "#fde0ef"
            ],
            [
             0.5,
             "#f7f7f7"
            ],
            [
             0.6,
             "#e6f5d0"
            ],
            [
             0.7,
             "#b8e186"
            ],
            [
             0.8,
             "#7fbc41"
            ],
            [
             0.9,
             "#4d9221"
            ],
            [
             1,
             "#276419"
            ]
           ],
           "sequential": [
            [
             0,
             "#0d0887"
            ],
            [
             0.1111111111111111,
             "#46039f"
            ],
            [
             0.2222222222222222,
             "#7201a8"
            ],
            [
             0.3333333333333333,
             "#9c179e"
            ],
            [
             0.4444444444444444,
             "#bd3786"
            ],
            [
             0.5555555555555556,
             "#d8576b"
            ],
            [
             0.6666666666666666,
             "#ed7953"
            ],
            [
             0.7777777777777778,
             "#fb9f3a"
            ],
            [
             0.8888888888888888,
             "#fdca26"
            ],
            [
             1,
             "#f0f921"
            ]
           ],
           "sequentialminus": [
            [
             0,
             "#0d0887"
            ],
            [
             0.1111111111111111,
             "#46039f"
            ],
            [
             0.2222222222222222,
             "#7201a8"
            ],
            [
             0.3333333333333333,
             "#9c179e"
            ],
            [
             0.4444444444444444,
             "#bd3786"
            ],
            [
             0.5555555555555556,
             "#d8576b"
            ],
            [
             0.6666666666666666,
             "#ed7953"
            ],
            [
             0.7777777777777778,
             "#fb9f3a"
            ],
            [
             0.8888888888888888,
             "#fdca26"
            ],
            [
             1,
             "#f0f921"
            ]
           ]
          },
          "colorway": [
           "#636efa",
           "#EF553B",
           "#00cc96",
           "#ab63fa",
           "#FFA15A",
           "#19d3f3",
           "#FF6692",
           "#B6E880",
           "#FF97FF",
           "#FECB52"
          ],
          "font": {
           "color": "#2a3f5f"
          },
          "geo": {
           "bgcolor": "white",
           "lakecolor": "white",
           "landcolor": "#E5ECF6",
           "showlakes": true,
           "showland": true,
           "subunitcolor": "white"
          },
          "hoverlabel": {
           "align": "left"
          },
          "hovermode": "closest",
          "mapbox": {
           "style": "light"
          },
          "paper_bgcolor": "white",
          "plot_bgcolor": "#E5ECF6",
          "polar": {
           "angularaxis": {
            "gridcolor": "white",
            "linecolor": "white",
            "ticks": ""
           },
           "bgcolor": "#E5ECF6",
           "radialaxis": {
            "gridcolor": "white",
            "linecolor": "white",
            "ticks": ""
           }
          },
          "scene": {
           "xaxis": {
            "backgroundcolor": "#E5ECF6",
            "gridcolor": "white",
            "gridwidth": 2,
            "linecolor": "white",
            "showbackground": true,
            "ticks": "",
            "zerolinecolor": "white"
           },
           "yaxis": {
            "backgroundcolor": "#E5ECF6",
            "gridcolor": "white",
            "gridwidth": 2,
            "linecolor": "white",
            "showbackground": true,
            "ticks": "",
            "zerolinecolor": "white"
           },
           "zaxis": {
            "backgroundcolor": "#E5ECF6",
            "gridcolor": "white",
            "gridwidth": 2,
            "linecolor": "white",
            "showbackground": true,
            "ticks": "",
            "zerolinecolor": "white"
           }
          },
          "shapedefaults": {
           "line": {
            "color": "#2a3f5f"
           }
          },
          "ternary": {
           "aaxis": {
            "gridcolor": "white",
            "linecolor": "white",
            "ticks": ""
           },
           "baxis": {
            "gridcolor": "white",
            "linecolor": "white",
            "ticks": ""
           },
           "bgcolor": "#E5ECF6",
           "caxis": {
            "gridcolor": "white",
            "linecolor": "white",
            "ticks": ""
           }
          },
          "title": {
           "x": 0.05
          },
          "xaxis": {
           "automargin": true,
           "gridcolor": "white",
           "linecolor": "white",
           "ticks": "",
           "title": {
            "standoff": 15
           },
           "zerolinecolor": "white",
           "zerolinewidth": 2
          },
          "yaxis": {
           "automargin": true,
           "gridcolor": "white",
           "linecolor": "white",
           "ticks": "",
           "title": {
            "standoff": 15
           },
           "zerolinecolor": "white",
           "zerolinewidth": 2
          }
         }
        },
        "title": {
         "text": "V1 injections scaled counts by hemisphere, p1-7 (n=3) and p7-13 (n=9) "
        },
        "violinmode": "group",
        "xaxis": {
         "anchor": "y",
         "categoryarray": [
          "Retrosplenial area",
          "Retrohippocampal region",
          "Visual areas",
          "Somatosensory areas",
          "Thalamus",
          "Orbital area",
          "Midbrain",
          "Gustatory areas",
          "Cortical subplate",
          "Anterior cingulate area",
          "Posterior parietal association areas",
          "Auditory areas",
          "Pons",
          "Visceral area",
          "Ectorhinal area",
          "Agranular insular area",
          "Hippocampal region",
          "Hypothalamus",
          "Temporal association areas",
          "Somatomotor areas",
          "Prelimbic area",
          "Cortical amygdalar area",
          "Striatum",
          "Postpiriform transition area",
          "Perirhinal area",
          "Pallidum",
          "Dorsal peduncular area",
          "Infralimbic area",
          "Main olfactory bulb",
          "ventricular systems",
          "Medulla",
          "Anterior olfactory nucleus",
          "root",
          "Piriform area",
          "Nucleus of the lateral olfactory tract",
          "Taenia tecta",
          "Frontal pole",
          "Piriform-amygdalar area",
          "Cerebellum",
          "Accessory olfactory bulb"
         ],
         "categoryorder": "array",
         "domain": [
          0,
          0.49
         ],
         "title": {
          "text": "General area"
         }
        },
        "xaxis2": {
         "anchor": "y2",
         "categoryarray": [
          "Retrosplenial area",
          "Retrohippocampal region",
          "Visual areas",
          "Somatosensory areas",
          "Thalamus",
          "Orbital area",
          "Midbrain",
          "Gustatory areas",
          "Cortical subplate",
          "Anterior cingulate area",
          "Posterior parietal association areas",
          "Auditory areas",
          "Pons",
          "Visceral area",
          "Ectorhinal area",
          "Agranular insular area",
          "Hippocampal region",
          "Hypothalamus",
          "Temporal association areas",
          "Somatomotor areas",
          "Prelimbic area",
          "Cortical amygdalar area",
          "Striatum",
          "Postpiriform transition area",
          "Perirhinal area",
          "Pallidum",
          "Dorsal peduncular area",
          "Infralimbic area",
          "Main olfactory bulb",
          "ventricular systems",
          "Medulla",
          "Anterior olfactory nucleus",
          "root",
          "Piriform area",
          "Nucleus of the lateral olfactory tract",
          "Taenia tecta",
          "Frontal pole",
          "Piriform-amygdalar area",
          "Cerebellum",
          "Accessory olfactory bulb"
         ],
         "categoryorder": "array",
         "domain": [
          0.51,
          1
         ],
         "matches": "x",
         "title": {
          "text": "General area"
         }
        },
        "yaxis": {
         "anchor": "x",
         "domain": [
          0,
          1
         ],
         "title": {
          "text": "scaled count"
         }
        },
        "yaxis2": {
         "anchor": "x2",
         "domain": [
          0,
          1
         ],
         "matches": "y",
         "showticklabels": false
        }
       }
      }
     },
     "metadata": {},
     "output_type": "display_data"
    }
   ],
   "source": [
    "plot_scaled(\n",
    "    df_grouped,\n",
    "    \"V1 injections scaled counts by hemisphere, p1-7 (n=3) and p7-13 (n=9) \",\n",
    "    area_order_scaled,\n",
    ")"
   ]
  },
  {
   "cell_type": "code",
   "execution_count": 45,
   "id": "b47976c6",
   "metadata": {},
   "outputs": [],
   "source": [
    "def plot_scaled_zoomed(big_file_long, Title):\n",
    "    filtered_areas = [\n",
    "        \"Somatosensory areas\",\n",
    "        \"Retrosplenial area\",\n",
    "        \"Thalamus\",\n",
    "        \"Orbital area\",\n",
    "        \"Anterior cingulate area\",\n",
    "        \"Auditory areas\",\n",
    "    ]\n",
    "    df_hemi = big_file_long[\n",
    "        (big_file_long[\"Hemisphere\"] == \"ipsilateral\")\n",
    "        & (big_file_long[\"General area\"].isin(filtered_areas))\n",
    "    ]\n",
    "    area_order_scaled = (\n",
    "        df_hemi.groupby(\"General area\")[\"scaled count\"]\n",
    "        .max()\n",
    "        .sort_values(ascending=False)\n",
    "        .index.tolist()\n",
    "    )\n",
    "\n",
    "    fig = px.violin(\n",
    "        df_hemi,\n",
    "        y=\"scaled count\",\n",
    "        x=\"General area\",\n",
    "        color=\"age\",\n",
    "        box=True,\n",
    "        color_discrete_map={\"p1-7\": \"orange\", \"p7-13\": \"magenta\"},\n",
    "        title=Title,\n",
    "        category_orders={\"General area\": area_order_scaled},\n",
    "    )\n",
    "    fig.update_traces(\n",
    "        meanline_visible=True\n",
    "    )  # displays the arithmetic mean of the distribution\n",
    "\n",
    "    return fig"
   ]
  },
  {
   "cell_type": "code",
   "execution_count": 46,
   "id": "09dc0fd7",
   "metadata": {},
   "outputs": [
    {
     "data": {
      "application/vnd.plotly.v1+json": {
       "config": {
        "plotlyServerURL": "https://plotly.com"
       },
       "data": [
        {
         "alignmentgroup": "True",
         "box": {
          "visible": true
         },
         "hovertemplate": "age=p1-7<br>General area=%{x}<br>scaled count=%{y}<extra></extra>",
         "legendgroup": "p1-7",
         "marker": {
          "color": "orange"
         },
         "meanline": {
          "visible": true
         },
         "name": "p1-7",
         "offsetgroup": "p1-7",
         "orientation": "v",
         "scalegroup": "True",
         "showlegend": true,
         "type": "violin",
         "x": [
          "Auditory areas",
          "Retrosplenial area",
          "Somatosensory areas",
          "Thalamus",
          "Anterior cingulate area",
          "Auditory areas",
          "Orbital area",
          "Retrosplenial area",
          "Somatosensory areas",
          "Thalamus",
          "Anterior cingulate area",
          "Auditory areas",
          "Orbital area",
          "Retrosplenial area",
          "Somatosensory areas",
          "Thalamus"
         ],
         "x0": " ",
         "xaxis": "x",
         "y": {
          "bdata": "WTzVH3jAPj9D7d8XWhAnP86U2htp6Eo/WTzVH3jADj92qWGkyFZzP7yoAgdB8U4/pFMi5hgTez+YeeMR0imxPzB+kvYsAo0/dqlhpMhWkz9MeXOqvxMWP2eryatwu3U/FhXHp13EZj926MGfN9ZIPzSPt4/r+Vw/xVp3MFyGhD8=",
          "dtype": "f8"
         },
         "y0": " ",
         "yaxis": "y"
        },
        {
         "alignmentgroup": "True",
         "box": {
          "visible": true
         },
         "hovertemplate": "age=p7-13<br>General area=%{x}<br>scaled count=%{y}<extra></extra>",
         "legendgroup": "p7-13",
         "marker": {
          "color": "magenta"
         },
         "meanline": {
          "visible": true
         },
         "name": "p7-13",
         "offsetgroup": "p7-13",
         "orientation": "v",
         "scalegroup": "True",
         "showlegend": true,
         "type": "violin",
         "x": [
          "Anterior cingulate area",
          "Auditory areas",
          "Orbital area",
          "Retrosplenial area",
          "Somatosensory areas",
          "Thalamus",
          "Anterior cingulate area",
          "Auditory areas",
          "Orbital area",
          "Retrosplenial area",
          "Somatosensory areas",
          "Thalamus",
          "Anterior cingulate area",
          "Auditory areas",
          "Orbital area",
          "Retrosplenial area",
          "Somatosensory areas",
          "Thalamus",
          "Anterior cingulate area",
          "Auditory areas",
          "Orbital area",
          "Retrosplenial area",
          "Somatosensory areas",
          "Thalamus",
          "Anterior cingulate area",
          "Auditory areas",
          "Orbital area",
          "Retrosplenial area",
          "Thalamus",
          "Anterior cingulate area",
          "Auditory areas",
          "Orbital area",
          "Retrosplenial area",
          "Somatosensory areas",
          "Thalamus",
          "Anterior cingulate area",
          "Auditory areas",
          "Orbital area",
          "Retrosplenial area",
          "Somatosensory areas",
          "Thalamus",
          "Auditory areas",
          "Orbital area",
          "Retrosplenial area",
          "Somatosensory areas",
          "Thalamus",
          "Anterior cingulate area",
          "Auditory areas",
          "Orbital area",
          "Retrosplenial area",
          "Somatosensory areas",
          "Thalamus"
         ],
         "x0": " ",
         "xaxis": "x",
         "y": {
          "bdata": "ZnPpUIPdmT/gF27tjdVvP+OVT8RsLo0/7M5ktHjl0z/okRJyKuB3P+9MRotXPpE/ZnPpUIPdmT/gF27tjdVvP+OVT8RsLo0/7M5ktHjl0z/okRJyKuB3P+9MRotXPpE/quYiX5vXgz+eB3HaQ612P1Wg6zaCzZg/kii/VeyCiT95altMPS6PPzzihy3TeK4/KuLQSfsgiT8q4tBJ+yB5P80RLmjR8IQ/Lw/r5/1jyT+RDKhnKte9P2/+CrMaRaw/XaLcN1lKkz8XaIEWaIF2P4NsWsv+fqQ/VMV55enC1z8XaIEWaIF2PwE8yPoP32Q/ATzI+g/fZD9hhfd56iGoPwJaLPiXTp8/Alos+JdObz+BNG/7LUOSP+RIlQD5U3A/BcHzkhypYj8mOVIlQP6UPxA8L8mRKtE/BcHzkhypYj8ZzG7OUh6kP4VZir49pWY/JMPnTu77gD8kw+dO7vtgP1QOuQaW0JM/TkpEUjnkmj81+dn3aymLPz/7fi1lA5M/kfpHxry6hT+MeXUrwM2pP5H6R8a8uoU/7fu1lA1MgD8=",
          "dtype": "f8"
         },
         "y0": " ",
         "yaxis": "y"
        }
       ],
       "layout": {
        "legend": {
         "title": {
          "text": "age"
         },
         "tracegroupgap": 0
        },
        "template": {
         "data": {
          "bar": [
           {
            "error_x": {
             "color": "#2a3f5f"
            },
            "error_y": {
             "color": "#2a3f5f"
            },
            "marker": {
             "line": {
              "color": "#E5ECF6",
              "width": 0.5
             },
             "pattern": {
              "fillmode": "overlay",
              "size": 10,
              "solidity": 0.2
             }
            },
            "type": "bar"
           }
          ],
          "barpolar": [
           {
            "marker": {
             "line": {
              "color": "#E5ECF6",
              "width": 0.5
             },
             "pattern": {
              "fillmode": "overlay",
              "size": 10,
              "solidity": 0.2
             }
            },
            "type": "barpolar"
           }
          ],
          "carpet": [
           {
            "aaxis": {
             "endlinecolor": "#2a3f5f",
             "gridcolor": "white",
             "linecolor": "white",
             "minorgridcolor": "white",
             "startlinecolor": "#2a3f5f"
            },
            "baxis": {
             "endlinecolor": "#2a3f5f",
             "gridcolor": "white",
             "linecolor": "white",
             "minorgridcolor": "white",
             "startlinecolor": "#2a3f5f"
            },
            "type": "carpet"
           }
          ],
          "choropleth": [
           {
            "colorbar": {
             "outlinewidth": 0,
             "ticks": ""
            },
            "type": "choropleth"
           }
          ],
          "contour": [
           {
            "colorbar": {
             "outlinewidth": 0,
             "ticks": ""
            },
            "colorscale": [
             [
              0,
              "#0d0887"
             ],
             [
              0.1111111111111111,
              "#46039f"
             ],
             [
              0.2222222222222222,
              "#7201a8"
             ],
             [
              0.3333333333333333,
              "#9c179e"
             ],
             [
              0.4444444444444444,
              "#bd3786"
             ],
             [
              0.5555555555555556,
              "#d8576b"
             ],
             [
              0.6666666666666666,
              "#ed7953"
             ],
             [
              0.7777777777777778,
              "#fb9f3a"
             ],
             [
              0.8888888888888888,
              "#fdca26"
             ],
             [
              1,
              "#f0f921"
             ]
            ],
            "type": "contour"
           }
          ],
          "contourcarpet": [
           {
            "colorbar": {
             "outlinewidth": 0,
             "ticks": ""
            },
            "type": "contourcarpet"
           }
          ],
          "heatmap": [
           {
            "colorbar": {
             "outlinewidth": 0,
             "ticks": ""
            },
            "colorscale": [
             [
              0,
              "#0d0887"
             ],
             [
              0.1111111111111111,
              "#46039f"
             ],
             [
              0.2222222222222222,
              "#7201a8"
             ],
             [
              0.3333333333333333,
              "#9c179e"
             ],
             [
              0.4444444444444444,
              "#bd3786"
             ],
             [
              0.5555555555555556,
              "#d8576b"
             ],
             [
              0.6666666666666666,
              "#ed7953"
             ],
             [
              0.7777777777777778,
              "#fb9f3a"
             ],
             [
              0.8888888888888888,
              "#fdca26"
             ],
             [
              1,
              "#f0f921"
             ]
            ],
            "type": "heatmap"
           }
          ],
          "histogram": [
           {
            "marker": {
             "pattern": {
              "fillmode": "overlay",
              "size": 10,
              "solidity": 0.2
             }
            },
            "type": "histogram"
           }
          ],
          "histogram2d": [
           {
            "colorbar": {
             "outlinewidth": 0,
             "ticks": ""
            },
            "colorscale": [
             [
              0,
              "#0d0887"
             ],
             [
              0.1111111111111111,
              "#46039f"
             ],
             [
              0.2222222222222222,
              "#7201a8"
             ],
             [
              0.3333333333333333,
              "#9c179e"
             ],
             [
              0.4444444444444444,
              "#bd3786"
             ],
             [
              0.5555555555555556,
              "#d8576b"
             ],
             [
              0.6666666666666666,
              "#ed7953"
             ],
             [
              0.7777777777777778,
              "#fb9f3a"
             ],
             [
              0.8888888888888888,
              "#fdca26"
             ],
             [
              1,
              "#f0f921"
             ]
            ],
            "type": "histogram2d"
           }
          ],
          "histogram2dcontour": [
           {
            "colorbar": {
             "outlinewidth": 0,
             "ticks": ""
            },
            "colorscale": [
             [
              0,
              "#0d0887"
             ],
             [
              0.1111111111111111,
              "#46039f"
             ],
             [
              0.2222222222222222,
              "#7201a8"
             ],
             [
              0.3333333333333333,
              "#9c179e"
             ],
             [
              0.4444444444444444,
              "#bd3786"
             ],
             [
              0.5555555555555556,
              "#d8576b"
             ],
             [
              0.6666666666666666,
              "#ed7953"
             ],
             [
              0.7777777777777778,
              "#fb9f3a"
             ],
             [
              0.8888888888888888,
              "#fdca26"
             ],
             [
              1,
              "#f0f921"
             ]
            ],
            "type": "histogram2dcontour"
           }
          ],
          "mesh3d": [
           {
            "colorbar": {
             "outlinewidth": 0,
             "ticks": ""
            },
            "type": "mesh3d"
           }
          ],
          "parcoords": [
           {
            "line": {
             "colorbar": {
              "outlinewidth": 0,
              "ticks": ""
             }
            },
            "type": "parcoords"
           }
          ],
          "pie": [
           {
            "automargin": true,
            "type": "pie"
           }
          ],
          "scatter": [
           {
            "fillpattern": {
             "fillmode": "overlay",
             "size": 10,
             "solidity": 0.2
            },
            "type": "scatter"
           }
          ],
          "scatter3d": [
           {
            "line": {
             "colorbar": {
              "outlinewidth": 0,
              "ticks": ""
             }
            },
            "marker": {
             "colorbar": {
              "outlinewidth": 0,
              "ticks": ""
             }
            },
            "type": "scatter3d"
           }
          ],
          "scattercarpet": [
           {
            "marker": {
             "colorbar": {
              "outlinewidth": 0,
              "ticks": ""
             }
            },
            "type": "scattercarpet"
           }
          ],
          "scattergeo": [
           {
            "marker": {
             "colorbar": {
              "outlinewidth": 0,
              "ticks": ""
             }
            },
            "type": "scattergeo"
           }
          ],
          "scattergl": [
           {
            "marker": {
             "colorbar": {
              "outlinewidth": 0,
              "ticks": ""
             }
            },
            "type": "scattergl"
           }
          ],
          "scattermap": [
           {
            "marker": {
             "colorbar": {
              "outlinewidth": 0,
              "ticks": ""
             }
            },
            "type": "scattermap"
           }
          ],
          "scattermapbox": [
           {
            "marker": {
             "colorbar": {
              "outlinewidth": 0,
              "ticks": ""
             }
            },
            "type": "scattermapbox"
           }
          ],
          "scatterpolar": [
           {
            "marker": {
             "colorbar": {
              "outlinewidth": 0,
              "ticks": ""
             }
            },
            "type": "scatterpolar"
           }
          ],
          "scatterpolargl": [
           {
            "marker": {
             "colorbar": {
              "outlinewidth": 0,
              "ticks": ""
             }
            },
            "type": "scatterpolargl"
           }
          ],
          "scatterternary": [
           {
            "marker": {
             "colorbar": {
              "outlinewidth": 0,
              "ticks": ""
             }
            },
            "type": "scatterternary"
           }
          ],
          "surface": [
           {
            "colorbar": {
             "outlinewidth": 0,
             "ticks": ""
            },
            "colorscale": [
             [
              0,
              "#0d0887"
             ],
             [
              0.1111111111111111,
              "#46039f"
             ],
             [
              0.2222222222222222,
              "#7201a8"
             ],
             [
              0.3333333333333333,
              "#9c179e"
             ],
             [
              0.4444444444444444,
              "#bd3786"
             ],
             [
              0.5555555555555556,
              "#d8576b"
             ],
             [
              0.6666666666666666,
              "#ed7953"
             ],
             [
              0.7777777777777778,
              "#fb9f3a"
             ],
             [
              0.8888888888888888,
              "#fdca26"
             ],
             [
              1,
              "#f0f921"
             ]
            ],
            "type": "surface"
           }
          ],
          "table": [
           {
            "cells": {
             "fill": {
              "color": "#EBF0F8"
             },
             "line": {
              "color": "white"
             }
            },
            "header": {
             "fill": {
              "color": "#C8D4E3"
             },
             "line": {
              "color": "white"
             }
            },
            "type": "table"
           }
          ]
         },
         "layout": {
          "annotationdefaults": {
           "arrowcolor": "#2a3f5f",
           "arrowhead": 0,
           "arrowwidth": 1
          },
          "autotypenumbers": "strict",
          "coloraxis": {
           "colorbar": {
            "outlinewidth": 0,
            "ticks": ""
           }
          },
          "colorscale": {
           "diverging": [
            [
             0,
             "#8e0152"
            ],
            [
             0.1,
             "#c51b7d"
            ],
            [
             0.2,
             "#de77ae"
            ],
            [
             0.3,
             "#f1b6da"
            ],
            [
             0.4,
             "#fde0ef"
            ],
            [
             0.5,
             "#f7f7f7"
            ],
            [
             0.6,
             "#e6f5d0"
            ],
            [
             0.7,
             "#b8e186"
            ],
            [
             0.8,
             "#7fbc41"
            ],
            [
             0.9,
             "#4d9221"
            ],
            [
             1,
             "#276419"
            ]
           ],
           "sequential": [
            [
             0,
             "#0d0887"
            ],
            [
             0.1111111111111111,
             "#46039f"
            ],
            [
             0.2222222222222222,
             "#7201a8"
            ],
            [
             0.3333333333333333,
             "#9c179e"
            ],
            [
             0.4444444444444444,
             "#bd3786"
            ],
            [
             0.5555555555555556,
             "#d8576b"
            ],
            [
             0.6666666666666666,
             "#ed7953"
            ],
            [
             0.7777777777777778,
             "#fb9f3a"
            ],
            [
             0.8888888888888888,
             "#fdca26"
            ],
            [
             1,
             "#f0f921"
            ]
           ],
           "sequentialminus": [
            [
             0,
             "#0d0887"
            ],
            [
             0.1111111111111111,
             "#46039f"
            ],
            [
             0.2222222222222222,
             "#7201a8"
            ],
            [
             0.3333333333333333,
             "#9c179e"
            ],
            [
             0.4444444444444444,
             "#bd3786"
            ],
            [
             0.5555555555555556,
             "#d8576b"
            ],
            [
             0.6666666666666666,
             "#ed7953"
            ],
            [
             0.7777777777777778,
             "#fb9f3a"
            ],
            [
             0.8888888888888888,
             "#fdca26"
            ],
            [
             1,
             "#f0f921"
            ]
           ]
          },
          "colorway": [
           "#636efa",
           "#EF553B",
           "#00cc96",
           "#ab63fa",
           "#FFA15A",
           "#19d3f3",
           "#FF6692",
           "#B6E880",
           "#FF97FF",
           "#FECB52"
          ],
          "font": {
           "color": "#2a3f5f"
          },
          "geo": {
           "bgcolor": "white",
           "lakecolor": "white",
           "landcolor": "#E5ECF6",
           "showlakes": true,
           "showland": true,
           "subunitcolor": "white"
          },
          "hoverlabel": {
           "align": "left"
          },
          "hovermode": "closest",
          "mapbox": {
           "style": "light"
          },
          "paper_bgcolor": "white",
          "plot_bgcolor": "#E5ECF6",
          "polar": {
           "angularaxis": {
            "gridcolor": "white",
            "linecolor": "white",
            "ticks": ""
           },
           "bgcolor": "#E5ECF6",
           "radialaxis": {
            "gridcolor": "white",
            "linecolor": "white",
            "ticks": ""
           }
          },
          "scene": {
           "xaxis": {
            "backgroundcolor": "#E5ECF6",
            "gridcolor": "white",
            "gridwidth": 2,
            "linecolor": "white",
            "showbackground": true,
            "ticks": "",
            "zerolinecolor": "white"
           },
           "yaxis": {
            "backgroundcolor": "#E5ECF6",
            "gridcolor": "white",
            "gridwidth": 2,
            "linecolor": "white",
            "showbackground": true,
            "ticks": "",
            "zerolinecolor": "white"
           },
           "zaxis": {
            "backgroundcolor": "#E5ECF6",
            "gridcolor": "white",
            "gridwidth": 2,
            "linecolor": "white",
            "showbackground": true,
            "ticks": "",
            "zerolinecolor": "white"
           }
          },
          "shapedefaults": {
           "line": {
            "color": "#2a3f5f"
           }
          },
          "ternary": {
           "aaxis": {
            "gridcolor": "white",
            "linecolor": "white",
            "ticks": ""
           },
           "baxis": {
            "gridcolor": "white",
            "linecolor": "white",
            "ticks": ""
           },
           "bgcolor": "#E5ECF6",
           "caxis": {
            "gridcolor": "white",
            "linecolor": "white",
            "ticks": ""
           }
          },
          "title": {
           "x": 0.05
          },
          "xaxis": {
           "automargin": true,
           "gridcolor": "white",
           "linecolor": "white",
           "ticks": "",
           "title": {
            "standoff": 15
           },
           "zerolinecolor": "white",
           "zerolinewidth": 2
          },
          "yaxis": {
           "automargin": true,
           "gridcolor": "white",
           "linecolor": "white",
           "ticks": "",
           "title": {
            "standoff": 15
           },
           "zerolinecolor": "white",
           "zerolinewidth": 2
          }
         }
        },
        "title": {
         "text": "V1 injections scaled counts by hemisphere, p1-7 (n=3) and p7-13 (n=9) "
        },
        "violinmode": "group",
        "xaxis": {
         "anchor": "y",
         "categoryarray": [
          "Retrosplenial area",
          "Somatosensory areas",
          "Thalamus",
          "Orbital area",
          "Anterior cingulate area",
          "Auditory areas"
         ],
         "categoryorder": "array",
         "domain": [
          0,
          1
         ],
         "title": {
          "text": "General area"
         }
        },
        "yaxis": {
         "anchor": "x",
         "domain": [
          0,
          1
         ],
         "title": {
          "text": "scaled count"
         }
        }
       }
      }
     },
     "metadata": {},
     "output_type": "display_data"
    }
   ],
   "source": [
    "plot_scaled_zoomed(\n",
    "    df_grouped, \"V1 injections scaled counts by hemisphere, p1-7 (n=3) and p7-13 (n=9) \"\n",
    ")"
   ]
  },
  {
   "cell_type": "code",
   "execution_count": null,
   "id": "1bdd695c",
   "metadata": {},
   "outputs": [],
   "source": [
    "def plot_count_zoomed(big_file_long, Title):\n",
    "    filtered_areas = [\n",
    "        \"Somatosensory areas\",\n",
    "        \"Retrosplenial area\",\n",
    "        \"Thalamus\",\n",
    "        \"Orbital area\",\n",
    "        \"Anterior cingulate area\",\n",
    "        \"Auditory areas\",\n",
    "    ]\n",
    "    df_hemi = big_file_long[\n",
    "        (big_file_long[\"Hemisphere\"] == \"ipsilateral\")\n",
    "        & (big_file_long[\"General area\"].isin(filtered_areas))\n",
    "    ]\n",
    "    area_order_count = (\n",
    "        df_hemi.groupby(\"General area\")[\"count\"]\n",
    "        .max()\n",
    "        .sort_values(ascending=False)\n",
    "        .index.tolist()\n",
    "    )\n",
    "\n",
    "    fig = px.violin(\n",
    "        df_hemi,\n",
    "        y=\"count\",\n",
    "        x=\"General area\",\n",
    "        color=\"age\",\n",
    "        box=True,\n",
    "        color_discrete_map={\"p1-7\": \"orange\", \"p7-13\": \"magenta\"},\n",
    "        title=Title,\n",
    "        category_orders={\"General area\": area_order_count},\n",
    "    )\n",
    "    fig.update_traces(\n",
    "        meanline_visible=True\n",
    "    )  # displays the arithmetic mean of the distribution\n",
    "    fig.update_layout(violinmode=\"group\")  # group left(right violins side-by-side)\n",
    "\n",
    "    return fig"
   ]
  },
  {
   "cell_type": "code",
   "execution_count": 54,
   "id": "8689248e",
   "metadata": {},
   "outputs": [
    {
     "data": {
      "application/vnd.plotly.v1+json": {
       "config": {
        "plotlyServerURL": "https://plotly.com"
       },
       "data": [
        {
         "alignmentgroup": "True",
         "box": {
          "visible": true
         },
         "hovertemplate": "age=p1-7<br>General area=%{x}<br>count=%{y}<extra></extra>",
         "legendgroup": "p1-7",
         "marker": {
          "color": "orange"
         },
         "meanline": {
          "visible": true
         },
         "name": "p1-7",
         "offsetgroup": "p1-7",
         "orientation": "v",
         "scalegroup": "True",
         "showlegend": true,
         "type": "violin",
         "x": [
          "Retrosplenial area",
          "Somatosensory areas",
          "Retrosplenial area",
          "Somatosensory areas",
          "Retrosplenial area",
          "Somatosensory areas"
         ],
         "x0": " ",
         "xaxis": "x",
         "y": {
          "bdata": "Aw5HDwkV",
          "dtype": "i1"
         },
         "y0": " ",
         "yaxis": "y"
        },
        {
         "alignmentgroup": "True",
         "box": {
          "visible": true
         },
         "hovertemplate": "age=p7-13<br>General area=%{x}<br>count=%{y}<extra></extra>",
         "legendgroup": "p7-13",
         "marker": {
          "color": "magenta"
         },
         "meanline": {
          "visible": true
         },
         "name": "p7-13",
         "offsetgroup": "p7-13",
         "orientation": "v",
         "scalegroup": "True",
         "showlegend": true,
         "type": "violin",
         "x": [
          "Retrosplenial area",
          "Somatosensory areas",
          "Retrosplenial area",
          "Somatosensory areas",
          "Retrosplenial area",
          "Somatosensory areas",
          "Retrosplenial area",
          "Somatosensory areas",
          "Retrosplenial area",
          "Retrosplenial area",
          "Somatosensory areas",
          "Retrosplenial area",
          "Somatosensory areas",
          "Retrosplenial area",
          "Somatosensory areas",
          "Retrosplenial area",
          "Somatosensory areas"
         ],
         "x0": " ",
         "xaxis": "x",
         "y": {
          "bdata": "4AEJAOABCQASABYAYQA5ANkBGAADANcBBAAGADgAEwAEAA==",
          "dtype": "i2"
         },
         "y0": " ",
         "yaxis": "y"
        }
       ],
       "layout": {
        "legend": {
         "title": {
          "text": "age"
         },
         "tracegroupgap": 0
        },
        "template": {
         "data": {
          "bar": [
           {
            "error_x": {
             "color": "#2a3f5f"
            },
            "error_y": {
             "color": "#2a3f5f"
            },
            "marker": {
             "line": {
              "color": "#E5ECF6",
              "width": 0.5
             },
             "pattern": {
              "fillmode": "overlay",
              "size": 10,
              "solidity": 0.2
             }
            },
            "type": "bar"
           }
          ],
          "barpolar": [
           {
            "marker": {
             "line": {
              "color": "#E5ECF6",
              "width": 0.5
             },
             "pattern": {
              "fillmode": "overlay",
              "size": 10,
              "solidity": 0.2
             }
            },
            "type": "barpolar"
           }
          ],
          "carpet": [
           {
            "aaxis": {
             "endlinecolor": "#2a3f5f",
             "gridcolor": "white",
             "linecolor": "white",
             "minorgridcolor": "white",
             "startlinecolor": "#2a3f5f"
            },
            "baxis": {
             "endlinecolor": "#2a3f5f",
             "gridcolor": "white",
             "linecolor": "white",
             "minorgridcolor": "white",
             "startlinecolor": "#2a3f5f"
            },
            "type": "carpet"
           }
          ],
          "choropleth": [
           {
            "colorbar": {
             "outlinewidth": 0,
             "ticks": ""
            },
            "type": "choropleth"
           }
          ],
          "contour": [
           {
            "colorbar": {
             "outlinewidth": 0,
             "ticks": ""
            },
            "colorscale": [
             [
              0,
              "#0d0887"
             ],
             [
              0.1111111111111111,
              "#46039f"
             ],
             [
              0.2222222222222222,
              "#7201a8"
             ],
             [
              0.3333333333333333,
              "#9c179e"
             ],
             [
              0.4444444444444444,
              "#bd3786"
             ],
             [
              0.5555555555555556,
              "#d8576b"
             ],
             [
              0.6666666666666666,
              "#ed7953"
             ],
             [
              0.7777777777777778,
              "#fb9f3a"
             ],
             [
              0.8888888888888888,
              "#fdca26"
             ],
             [
              1,
              "#f0f921"
             ]
            ],
            "type": "contour"
           }
          ],
          "contourcarpet": [
           {
            "colorbar": {
             "outlinewidth": 0,
             "ticks": ""
            },
            "type": "contourcarpet"
           }
          ],
          "heatmap": [
           {
            "colorbar": {
             "outlinewidth": 0,
             "ticks": ""
            },
            "colorscale": [
             [
              0,
              "#0d0887"
             ],
             [
              0.1111111111111111,
              "#46039f"
             ],
             [
              0.2222222222222222,
              "#7201a8"
             ],
             [
              0.3333333333333333,
              "#9c179e"
             ],
             [
              0.4444444444444444,
              "#bd3786"
             ],
             [
              0.5555555555555556,
              "#d8576b"
             ],
             [
              0.6666666666666666,
              "#ed7953"
             ],
             [
              0.7777777777777778,
              "#fb9f3a"
             ],
             [
              0.8888888888888888,
              "#fdca26"
             ],
             [
              1,
              "#f0f921"
             ]
            ],
            "type": "heatmap"
           }
          ],
          "histogram": [
           {
            "marker": {
             "pattern": {
              "fillmode": "overlay",
              "size": 10,
              "solidity": 0.2
             }
            },
            "type": "histogram"
           }
          ],
          "histogram2d": [
           {
            "colorbar": {
             "outlinewidth": 0,
             "ticks": ""
            },
            "colorscale": [
             [
              0,
              "#0d0887"
             ],
             [
              0.1111111111111111,
              "#46039f"
             ],
             [
              0.2222222222222222,
              "#7201a8"
             ],
             [
              0.3333333333333333,
              "#9c179e"
             ],
             [
              0.4444444444444444,
              "#bd3786"
             ],
             [
              0.5555555555555556,
              "#d8576b"
             ],
             [
              0.6666666666666666,
              "#ed7953"
             ],
             [
              0.7777777777777778,
              "#fb9f3a"
             ],
             [
              0.8888888888888888,
              "#fdca26"
             ],
             [
              1,
              "#f0f921"
             ]
            ],
            "type": "histogram2d"
           }
          ],
          "histogram2dcontour": [
           {
            "colorbar": {
             "outlinewidth": 0,
             "ticks": ""
            },
            "colorscale": [
             [
              0,
              "#0d0887"
             ],
             [
              0.1111111111111111,
              "#46039f"
             ],
             [
              0.2222222222222222,
              "#7201a8"
             ],
             [
              0.3333333333333333,
              "#9c179e"
             ],
             [
              0.4444444444444444,
              "#bd3786"
             ],
             [
              0.5555555555555556,
              "#d8576b"
             ],
             [
              0.6666666666666666,
              "#ed7953"
             ],
             [
              0.7777777777777778,
              "#fb9f3a"
             ],
             [
              0.8888888888888888,
              "#fdca26"
             ],
             [
              1,
              "#f0f921"
             ]
            ],
            "type": "histogram2dcontour"
           }
          ],
          "mesh3d": [
           {
            "colorbar": {
             "outlinewidth": 0,
             "ticks": ""
            },
            "type": "mesh3d"
           }
          ],
          "parcoords": [
           {
            "line": {
             "colorbar": {
              "outlinewidth": 0,
              "ticks": ""
             }
            },
            "type": "parcoords"
           }
          ],
          "pie": [
           {
            "automargin": true,
            "type": "pie"
           }
          ],
          "scatter": [
           {
            "fillpattern": {
             "fillmode": "overlay",
             "size": 10,
             "solidity": 0.2
            },
            "type": "scatter"
           }
          ],
          "scatter3d": [
           {
            "line": {
             "colorbar": {
              "outlinewidth": 0,
              "ticks": ""
             }
            },
            "marker": {
             "colorbar": {
              "outlinewidth": 0,
              "ticks": ""
             }
            },
            "type": "scatter3d"
           }
          ],
          "scattercarpet": [
           {
            "marker": {
             "colorbar": {
              "outlinewidth": 0,
              "ticks": ""
             }
            },
            "type": "scattercarpet"
           }
          ],
          "scattergeo": [
           {
            "marker": {
             "colorbar": {
              "outlinewidth": 0,
              "ticks": ""
             }
            },
            "type": "scattergeo"
           }
          ],
          "scattergl": [
           {
            "marker": {
             "colorbar": {
              "outlinewidth": 0,
              "ticks": ""
             }
            },
            "type": "scattergl"
           }
          ],
          "scattermap": [
           {
            "marker": {
             "colorbar": {
              "outlinewidth": 0,
              "ticks": ""
             }
            },
            "type": "scattermap"
           }
          ],
          "scattermapbox": [
           {
            "marker": {
             "colorbar": {
              "outlinewidth": 0,
              "ticks": ""
             }
            },
            "type": "scattermapbox"
           }
          ],
          "scatterpolar": [
           {
            "marker": {
             "colorbar": {
              "outlinewidth": 0,
              "ticks": ""
             }
            },
            "type": "scatterpolar"
           }
          ],
          "scatterpolargl": [
           {
            "marker": {
             "colorbar": {
              "outlinewidth": 0,
              "ticks": ""
             }
            },
            "type": "scatterpolargl"
           }
          ],
          "scatterternary": [
           {
            "marker": {
             "colorbar": {
              "outlinewidth": 0,
              "ticks": ""
             }
            },
            "type": "scatterternary"
           }
          ],
          "surface": [
           {
            "colorbar": {
             "outlinewidth": 0,
             "ticks": ""
            },
            "colorscale": [
             [
              0,
              "#0d0887"
             ],
             [
              0.1111111111111111,
              "#46039f"
             ],
             [
              0.2222222222222222,
              "#7201a8"
             ],
             [
              0.3333333333333333,
              "#9c179e"
             ],
             [
              0.4444444444444444,
              "#bd3786"
             ],
             [
              0.5555555555555556,
              "#d8576b"
             ],
             [
              0.6666666666666666,
              "#ed7953"
             ],
             [
              0.7777777777777778,
              "#fb9f3a"
             ],
             [
              0.8888888888888888,
              "#fdca26"
             ],
             [
              1,
              "#f0f921"
             ]
            ],
            "type": "surface"
           }
          ],
          "table": [
           {
            "cells": {
             "fill": {
              "color": "#EBF0F8"
             },
             "line": {
              "color": "white"
             }
            },
            "header": {
             "fill": {
              "color": "#C8D4E3"
             },
             "line": {
              "color": "white"
             }
            },
            "type": "table"
           }
          ]
         },
         "layout": {
          "annotationdefaults": {
           "arrowcolor": "#2a3f5f",
           "arrowhead": 0,
           "arrowwidth": 1
          },
          "autotypenumbers": "strict",
          "coloraxis": {
           "colorbar": {
            "outlinewidth": 0,
            "ticks": ""
           }
          },
          "colorscale": {
           "diverging": [
            [
             0,
             "#8e0152"
            ],
            [
             0.1,
             "#c51b7d"
            ],
            [
             0.2,
             "#de77ae"
            ],
            [
             0.3,
             "#f1b6da"
            ],
            [
             0.4,
             "#fde0ef"
            ],
            [
             0.5,
             "#f7f7f7"
            ],
            [
             0.6,
             "#e6f5d0"
            ],
            [
             0.7,
             "#b8e186"
            ],
            [
             0.8,
             "#7fbc41"
            ],
            [
             0.9,
             "#4d9221"
            ],
            [
             1,
             "#276419"
            ]
           ],
           "sequential": [
            [
             0,
             "#0d0887"
            ],
            [
             0.1111111111111111,
             "#46039f"
            ],
            [
             0.2222222222222222,
             "#7201a8"
            ],
            [
             0.3333333333333333,
             "#9c179e"
            ],
            [
             0.4444444444444444,
             "#bd3786"
            ],
            [
             0.5555555555555556,
             "#d8576b"
            ],
            [
             0.6666666666666666,
             "#ed7953"
            ],
            [
             0.7777777777777778,
             "#fb9f3a"
            ],
            [
             0.8888888888888888,
             "#fdca26"
            ],
            [
             1,
             "#f0f921"
            ]
           ],
           "sequentialminus": [
            [
             0,
             "#0d0887"
            ],
            [
             0.1111111111111111,
             "#46039f"
            ],
            [
             0.2222222222222222,
             "#7201a8"
            ],
            [
             0.3333333333333333,
             "#9c179e"
            ],
            [
             0.4444444444444444,
             "#bd3786"
            ],
            [
             0.5555555555555556,
             "#d8576b"
            ],
            [
             0.6666666666666666,
             "#ed7953"
            ],
            [
             0.7777777777777778,
             "#fb9f3a"
            ],
            [
             0.8888888888888888,
             "#fdca26"
            ],
            [
             1,
             "#f0f921"
            ]
           ]
          },
          "colorway": [
           "#636efa",
           "#EF553B",
           "#00cc96",
           "#ab63fa",
           "#FFA15A",
           "#19d3f3",
           "#FF6692",
           "#B6E880",
           "#FF97FF",
           "#FECB52"
          ],
          "font": {
           "color": "#2a3f5f"
          },
          "geo": {
           "bgcolor": "white",
           "lakecolor": "white",
           "landcolor": "#E5ECF6",
           "showlakes": true,
           "showland": true,
           "subunitcolor": "white"
          },
          "hoverlabel": {
           "align": "left"
          },
          "hovermode": "closest",
          "mapbox": {
           "style": "light"
          },
          "paper_bgcolor": "white",
          "plot_bgcolor": "#E5ECF6",
          "polar": {
           "angularaxis": {
            "gridcolor": "white",
            "linecolor": "white",
            "ticks": ""
           },
           "bgcolor": "#E5ECF6",
           "radialaxis": {
            "gridcolor": "white",
            "linecolor": "white",
            "ticks": ""
           }
          },
          "scene": {
           "xaxis": {
            "backgroundcolor": "#E5ECF6",
            "gridcolor": "white",
            "gridwidth": 2,
            "linecolor": "white",
            "showbackground": true,
            "ticks": "",
            "zerolinecolor": "white"
           },
           "yaxis": {
            "backgroundcolor": "#E5ECF6",
            "gridcolor": "white",
            "gridwidth": 2,
            "linecolor": "white",
            "showbackground": true,
            "ticks": "",
            "zerolinecolor": "white"
           },
           "zaxis": {
            "backgroundcolor": "#E5ECF6",
            "gridcolor": "white",
            "gridwidth": 2,
            "linecolor": "white",
            "showbackground": true,
            "ticks": "",
            "zerolinecolor": "white"
           }
          },
          "shapedefaults": {
           "line": {
            "color": "#2a3f5f"
           }
          },
          "ternary": {
           "aaxis": {
            "gridcolor": "white",
            "linecolor": "white",
            "ticks": ""
           },
           "baxis": {
            "gridcolor": "white",
            "linecolor": "white",
            "ticks": ""
           },
           "bgcolor": "#E5ECF6",
           "caxis": {
            "gridcolor": "white",
            "linecolor": "white",
            "ticks": ""
           }
          },
          "title": {
           "x": 0.05
          },
          "xaxis": {
           "automargin": true,
           "gridcolor": "white",
           "linecolor": "white",
           "ticks": "",
           "title": {
            "standoff": 15
           },
           "zerolinecolor": "white",
           "zerolinewidth": 2
          },
          "yaxis": {
           "automargin": true,
           "gridcolor": "white",
           "linecolor": "white",
           "ticks": "",
           "title": {
            "standoff": 15
           },
           "zerolinecolor": "white",
           "zerolinewidth": 2
          }
         }
        },
        "title": {
         "text": "V1 injections counts by hemisphere, p1-7 (n=3) and p7-13 (n=9) "
        },
        "violinmode": "group",
        "xaxis": {
         "anchor": "y",
         "categoryarray": [
          "Retrosplenial area",
          "Somatosensory areas"
         ],
         "categoryorder": "array",
         "domain": [
          0,
          1
         ],
         "title": {
          "text": "General area"
         }
        },
        "yaxis": {
         "anchor": "x",
         "domain": [
          0,
          1
         ],
         "title": {
          "text": "count"
         }
        }
       }
      }
     },
     "metadata": {},
     "output_type": "display_data"
    }
   ],
   "source": [
    "plot_count_zoomed(\n",
    "    df_grouped, \"V1 injections counts by hemisphere, p1-7 (n=3) and p7-13 (n=9) \"\n",
    ")"
   ]
  },
  {
   "cell_type": "code",
   "execution_count": 29,
   "id": "b5ab04a5",
   "metadata": {},
   "outputs": [],
   "source": [
    "def specific_interests(big_file_long, area_name, data_frame_name):\n",
    "\n",
    "    data_frame_name = pd.DataFrame(\n",
    "        big_file_long[big_file_long[\"General area\"].isin([area_name])]\n",
    "    )\n",
    "\n",
    "    data_frame_name.insert(7, \"Subdivided\", [0] * len(data_frame_name))\n",
    "\n",
    "    for index, row in data_frame_name.iterrows():\n",
    "        region_id = row[\"Region ID\"]\n",
    "        subdivided_region = regions_complete.loc[\n",
    "            regions_complete[\"Region ID\"] == region_id, \"Subdivided\"\n",
    "        ].values[0]\n",
    "        # add the Subdivided values to the Somatosensory_areas DataFrame\n",
    "        data_frame_name.at[index, \"Subdivided\"] = subdivided_region\n",
    "\n",
    "    return data_frame_name"
   ]
  },
  {
   "cell_type": "markdown",
   "id": "fc706ee6",
   "metadata": {},
   "source": [
    "area 29 (granular): ventral RSC\n",
    "area 30 (dysgranular): dorsal RSC and agranular RSC"
   ]
  },
  {
   "cell_type": "code",
   "execution_count": 56,
   "id": "7d7dba23",
   "metadata": {},
   "outputs": [
    {
     "name": "stderr",
     "output_type": "stream",
     "text": [
      "C:\\Users\\sahet\\AppData\\Local\\Temp\\ipykernel_4516\\2296359539.py:15: FutureWarning:\n",
      "\n",
      "Setting an item of incompatible dtype is deprecated and will raise an error in a future version of pandas. Value 'area 30' has dtype incompatible with int64, please explicitly cast to a compatible dtype first.\n",
      "\n",
      "C:\\Users\\sahet\\AppData\\Local\\Temp\\ipykernel_4516\\2296359539.py:15: FutureWarning:\n",
      "\n",
      "Setting an item of incompatible dtype is deprecated and will raise an error in a future version of pandas. Value 'Primary somatosensory area' has dtype incompatible with int64, please explicitly cast to a compatible dtype first.\n",
      "\n"
     ]
    }
   ],
   "source": [
    "Retrosplenial_areas = specific_interests(\n",
    "    big_file_V1_injections_long, \"Retrosplenial area\", \"Retrosplenial_areas\"\n",
    ")\n",
    "Somato_areas = specific_interests(\n",
    "    big_file_V1_injections_long, \"Somatosensory areas\", \"Somato_areas\"\n",
    ")"
   ]
  },
  {
   "cell_type": "code",
   "execution_count": 57,
   "id": "c1e69587",
   "metadata": {},
   "outputs": [
    {
     "name": "stderr",
     "output_type": "stream",
     "text": [
      "C:\\Users\\sahet\\AppData\\Local\\Temp\\ipykernel_4516\\844754293.py:17: FutureWarning:\n",
      "\n",
      "Setting an item of incompatible dtype is deprecated and will raise an error in a future version of pandas. Value '0.032377265528770016' has dtype incompatible with int64, please explicitly cast to a compatible dtype first.\n",
      "\n"
     ]
    },
    {
     "data": {
      "text/html": [
       "<div>\n",
       "<style scoped>\n",
       "    .dataframe tbody tr th:only-of-type {\n",
       "        vertical-align: middle;\n",
       "    }\n",
       "\n",
       "    .dataframe tbody tr th {\n",
       "        vertical-align: top;\n",
       "    }\n",
       "\n",
       "    .dataframe thead th {\n",
       "        text-align: right;\n",
       "    }\n",
       "</style>\n",
       "<table border=\"1\" class=\"dataframe\">\n",
       "  <thead>\n",
       "    <tr style=\"text-align: right;\">\n",
       "      <th></th>\n",
       "      <th>Brain</th>\n",
       "      <th>Subdivided</th>\n",
       "      <th>Hemisphere</th>\n",
       "      <th>age</th>\n",
       "      <th>count</th>\n",
       "      <th>scaled count</th>\n",
       "    </tr>\n",
       "  </thead>\n",
       "  <tbody>\n",
       "    <tr>\n",
       "      <th>0</th>\n",
       "      <td>n11_20241103_p1_7</td>\n",
       "      <td>area 29</td>\n",
       "      <td>contralateral</td>\n",
       "      <td>p1-7</td>\n",
       "      <td>552</td>\n",
       "      <td>0.032377</td>\n",
       "    </tr>\n",
       "    <tr>\n",
       "      <th>1</th>\n",
       "      <td>n11_20241103_p1_7</td>\n",
       "      <td>area 29</td>\n",
       "      <td>ipsilateral</td>\n",
       "      <td>p1-7</td>\n",
       "      <td>3</td>\n",
       "      <td>0.000176</td>\n",
       "    </tr>\n",
       "    <tr>\n",
       "      <th>2</th>\n",
       "      <td>n11_20241103_p1_7</td>\n",
       "      <td>area 30</td>\n",
       "      <td>contralateral</td>\n",
       "      <td>p1-7</td>\n",
       "      <td>832</td>\n",
       "      <td>0.048801</td>\n",
       "    </tr>\n",
       "    <tr>\n",
       "      <th>3</th>\n",
       "      <td>n1_20241203_p7_13</td>\n",
       "      <td>area 29</td>\n",
       "      <td>contralateral</td>\n",
       "      <td>p7-13</td>\n",
       "      <td>3</td>\n",
       "      <td>0.001943</td>\n",
       "    </tr>\n",
       "    <tr>\n",
       "      <th>4</th>\n",
       "      <td>n1_20241203_p7_13</td>\n",
       "      <td>area 29</td>\n",
       "      <td>ipsilateral</td>\n",
       "      <td>p7-13</td>\n",
       "      <td>391</td>\n",
       "      <td>0.253238</td>\n",
       "    </tr>\n",
       "    <tr>\n",
       "      <th>5</th>\n",
       "      <td>n1_20241203_p7_13</td>\n",
       "      <td>area 30</td>\n",
       "      <td>contralateral</td>\n",
       "      <td>p7-13</td>\n",
       "      <td>12</td>\n",
       "      <td>0.007772</td>\n",
       "    </tr>\n",
       "    <tr>\n",
       "      <th>6</th>\n",
       "      <td>n1_20241203_p7_13</td>\n",
       "      <td>area 30</td>\n",
       "      <td>ipsilateral</td>\n",
       "      <td>p7-13</td>\n",
       "      <td>89</td>\n",
       "      <td>0.057642</td>\n",
       "    </tr>\n",
       "    <tr>\n",
       "      <th>7</th>\n",
       "      <td>n1_20241209_p7_13</td>\n",
       "      <td>area 29</td>\n",
       "      <td>contralateral</td>\n",
       "      <td>p7-13</td>\n",
       "      <td>3</td>\n",
       "      <td>0.001943</td>\n",
       "    </tr>\n",
       "    <tr>\n",
       "      <th>8</th>\n",
       "      <td>n1_20241209_p7_13</td>\n",
       "      <td>area 29</td>\n",
       "      <td>ipsilateral</td>\n",
       "      <td>p7-13</td>\n",
       "      <td>391</td>\n",
       "      <td>0.253238</td>\n",
       "    </tr>\n",
       "    <tr>\n",
       "      <th>9</th>\n",
       "      <td>n1_20241209_p7_13</td>\n",
       "      <td>area 30</td>\n",
       "      <td>contralateral</td>\n",
       "      <td>p7-13</td>\n",
       "      <td>12</td>\n",
       "      <td>0.007772</td>\n",
       "    </tr>\n",
       "    <tr>\n",
       "      <th>10</th>\n",
       "      <td>n1_20241209_p7_13</td>\n",
       "      <td>area 30</td>\n",
       "      <td>ipsilateral</td>\n",
       "      <td>p7-13</td>\n",
       "      <td>89</td>\n",
       "      <td>0.057642</td>\n",
       "    </tr>\n",
       "    <tr>\n",
       "      <th>11</th>\n",
       "      <td>n2_20241203_p7_13</td>\n",
       "      <td>area 29</td>\n",
       "      <td>contralateral</td>\n",
       "      <td>p7-13</td>\n",
       "      <td>46</td>\n",
       "      <td>0.031834</td>\n",
       "    </tr>\n",
       "    <tr>\n",
       "      <th>12</th>\n",
       "      <td>n2_20241203_p7_13</td>\n",
       "      <td>area 30</td>\n",
       "      <td>contralateral</td>\n",
       "      <td>p7-13</td>\n",
       "      <td>153</td>\n",
       "      <td>0.105882</td>\n",
       "    </tr>\n",
       "    <tr>\n",
       "      <th>13</th>\n",
       "      <td>n2_20241203_p7_13</td>\n",
       "      <td>area 30</td>\n",
       "      <td>ipsilateral</td>\n",
       "      <td>p7-13</td>\n",
       "      <td>18</td>\n",
       "      <td>0.012457</td>\n",
       "    </tr>\n",
       "    <tr>\n",
       "      <th>14</th>\n",
       "      <td>n2_20241209_p7_13</td>\n",
       "      <td>area 29</td>\n",
       "      <td>contralateral</td>\n",
       "      <td>p7-13</td>\n",
       "      <td>1</td>\n",
       "      <td>0.002045</td>\n",
       "    </tr>\n",
       "    <tr>\n",
       "      <th>15</th>\n",
       "      <td>n2_20241209_p7_13</td>\n",
       "      <td>area 29</td>\n",
       "      <td>ipsilateral</td>\n",
       "      <td>p7-13</td>\n",
       "      <td>40</td>\n",
       "      <td>0.081800</td>\n",
       "    </tr>\n",
       "    <tr>\n",
       "      <th>16</th>\n",
       "      <td>n2_20241209_p7_13</td>\n",
       "      <td>area 30</td>\n",
       "      <td>contralateral</td>\n",
       "      <td>p7-13</td>\n",
       "      <td>6</td>\n",
       "      <td>0.012270</td>\n",
       "    </tr>\n",
       "    <tr>\n",
       "      <th>17</th>\n",
       "      <td>n2_20241209_p7_13</td>\n",
       "      <td>area 30</td>\n",
       "      <td>ipsilateral</td>\n",
       "      <td>p7-13</td>\n",
       "      <td>57</td>\n",
       "      <td>0.116564</td>\n",
       "    </tr>\n",
       "    <tr>\n",
       "      <th>18</th>\n",
       "      <td>n3_20241010_p1_7</td>\n",
       "      <td>area 29</td>\n",
       "      <td>contralateral</td>\n",
       "      <td>p1-7</td>\n",
       "      <td>79</td>\n",
       "      <td>0.074599</td>\n",
       "    </tr>\n",
       "    <tr>\n",
       "      <th>19</th>\n",
       "      <td>n3_20241010_p1_7</td>\n",
       "      <td>area 30</td>\n",
       "      <td>contralateral</td>\n",
       "      <td>p1-7</td>\n",
       "      <td>78</td>\n",
       "      <td>0.073654</td>\n",
       "    </tr>\n",
       "    <tr>\n",
       "      <th>20</th>\n",
       "      <td>n3_20241010_p1_7</td>\n",
       "      <td>area 30</td>\n",
       "      <td>ipsilateral</td>\n",
       "      <td>p1-7</td>\n",
       "      <td>71</td>\n",
       "      <td>0.067044</td>\n",
       "    </tr>\n",
       "    <tr>\n",
       "      <th>21</th>\n",
       "      <td>n3_20241209_p7_13</td>\n",
       "      <td>area 29</td>\n",
       "      <td>contralateral</td>\n",
       "      <td>p7-13</td>\n",
       "      <td>13</td>\n",
       "      <td>0.010204</td>\n",
       "    </tr>\n",
       "    <tr>\n",
       "      <th>22</th>\n",
       "      <td>n3_20241209_p7_13</td>\n",
       "      <td>area 29</td>\n",
       "      <td>ipsilateral</td>\n",
       "      <td>p7-13</td>\n",
       "      <td>64</td>\n",
       "      <td>0.050235</td>\n",
       "    </tr>\n",
       "    <tr>\n",
       "      <th>23</th>\n",
       "      <td>n3_20241209_p7_13</td>\n",
       "      <td>area 30</td>\n",
       "      <td>contralateral</td>\n",
       "      <td>p7-13</td>\n",
       "      <td>97</td>\n",
       "      <td>0.076138</td>\n",
       "    </tr>\n",
       "    <tr>\n",
       "      <th>24</th>\n",
       "      <td>n3_20241209_p7_13</td>\n",
       "      <td>area 30</td>\n",
       "      <td>ipsilateral</td>\n",
       "      <td>p7-13</td>\n",
       "      <td>409</td>\n",
       "      <td>0.321036</td>\n",
       "    </tr>\n",
       "    <tr>\n",
       "      <th>25</th>\n",
       "      <td>n4_20241203_p7_13</td>\n",
       "      <td>area 29</td>\n",
       "      <td>contralateral</td>\n",
       "      <td>p7-13</td>\n",
       "      <td>26</td>\n",
       "      <td>0.033121</td>\n",
       "    </tr>\n",
       "    <tr>\n",
       "      <th>26</th>\n",
       "      <td>n4_20241203_p7_13</td>\n",
       "      <td>area 29</td>\n",
       "      <td>ipsilateral</td>\n",
       "      <td>p7-13</td>\n",
       "      <td>7</td>\n",
       "      <td>0.008917</td>\n",
       "    </tr>\n",
       "    <tr>\n",
       "      <th>27</th>\n",
       "      <td>n4_20241203_p7_13</td>\n",
       "      <td>area 30</td>\n",
       "      <td>contralateral</td>\n",
       "      <td>p7-13</td>\n",
       "      <td>86</td>\n",
       "      <td>0.109554</td>\n",
       "    </tr>\n",
       "    <tr>\n",
       "      <th>28</th>\n",
       "      <td>n4_20241203_p7_13</td>\n",
       "      <td>area 30</td>\n",
       "      <td>ipsilateral</td>\n",
       "      <td>p7-13</td>\n",
       "      <td>17</td>\n",
       "      <td>0.021656</td>\n",
       "    </tr>\n",
       "    <tr>\n",
       "      <th>29</th>\n",
       "      <td>n4_20241209_p7_13</td>\n",
       "      <td>area 29</td>\n",
       "      <td>contralateral</td>\n",
       "      <td>p7-13</td>\n",
       "      <td>10</td>\n",
       "      <td>0.005695</td>\n",
       "    </tr>\n",
       "    <tr>\n",
       "      <th>30</th>\n",
       "      <td>n4_20241209_p7_13</td>\n",
       "      <td>area 29</td>\n",
       "      <td>ipsilateral</td>\n",
       "      <td>p7-13</td>\n",
       "      <td>193</td>\n",
       "      <td>0.109909</td>\n",
       "    </tr>\n",
       "    <tr>\n",
       "      <th>31</th>\n",
       "      <td>n4_20241209_p7_13</td>\n",
       "      <td>area 30</td>\n",
       "      <td>contralateral</td>\n",
       "      <td>p7-13</td>\n",
       "      <td>60</td>\n",
       "      <td>0.034169</td>\n",
       "    </tr>\n",
       "    <tr>\n",
       "      <th>32</th>\n",
       "      <td>n4_20241209_p7_13</td>\n",
       "      <td>area 30</td>\n",
       "      <td>ipsilateral</td>\n",
       "      <td>p7-13</td>\n",
       "      <td>278</td>\n",
       "      <td>0.158314</td>\n",
       "    </tr>\n",
       "    <tr>\n",
       "      <th>33</th>\n",
       "      <td>n5_20241103_p1_7</td>\n",
       "      <td>area 29</td>\n",
       "      <td>contralateral</td>\n",
       "      <td>p1-7</td>\n",
       "      <td>1356</td>\n",
       "      <td>0.114199</td>\n",
       "    </tr>\n",
       "    <tr>\n",
       "      <th>34</th>\n",
       "      <td>n5_20241103_p1_7</td>\n",
       "      <td>area 29</td>\n",
       "      <td>ipsilateral</td>\n",
       "      <td>p1-7</td>\n",
       "      <td>1</td>\n",
       "      <td>0.000084</td>\n",
       "    </tr>\n",
       "    <tr>\n",
       "      <th>35</th>\n",
       "      <td>n5_20241103_p1_7</td>\n",
       "      <td>area 30</td>\n",
       "      <td>contralateral</td>\n",
       "      <td>p1-7</td>\n",
       "      <td>1209</td>\n",
       "      <td>0.101819</td>\n",
       "    </tr>\n",
       "    <tr>\n",
       "      <th>36</th>\n",
       "      <td>n5_20241103_p1_7</td>\n",
       "      <td>area 30</td>\n",
       "      <td>ipsilateral</td>\n",
       "      <td>p1-7</td>\n",
       "      <td>8</td>\n",
       "      <td>0.000674</td>\n",
       "    </tr>\n",
       "    <tr>\n",
       "      <th>37</th>\n",
       "      <td>n5_20241203_p7_13</td>\n",
       "      <td>area 29</td>\n",
       "      <td>contralateral</td>\n",
       "      <td>p7-13</td>\n",
       "      <td>50</td>\n",
       "      <td>0.017277</td>\n",
       "    </tr>\n",
       "    <tr>\n",
       "      <th>38</th>\n",
       "      <td>n5_20241203_p7_13</td>\n",
       "      <td>area 29</td>\n",
       "      <td>ipsilateral</td>\n",
       "      <td>p7-13</td>\n",
       "      <td>1</td>\n",
       "      <td>0.000346</td>\n",
       "    </tr>\n",
       "    <tr>\n",
       "      <th>39</th>\n",
       "      <td>n5_20241203_p7_13</td>\n",
       "      <td>area 30</td>\n",
       "      <td>contralateral</td>\n",
       "      <td>p7-13</td>\n",
       "      <td>266</td>\n",
       "      <td>0.091914</td>\n",
       "    </tr>\n",
       "    <tr>\n",
       "      <th>40</th>\n",
       "      <td>n5_20241203_p7_13</td>\n",
       "      <td>area 30</td>\n",
       "      <td>ipsilateral</td>\n",
       "      <td>p7-13</td>\n",
       "      <td>5</td>\n",
       "      <td>0.001728</td>\n",
       "    </tr>\n",
       "    <tr>\n",
       "      <th>41</th>\n",
       "      <td>n8_20241203_p7_13</td>\n",
       "      <td>area 29</td>\n",
       "      <td>contralateral</td>\n",
       "      <td>p7-13</td>\n",
       "      <td>12</td>\n",
       "      <td>0.031830</td>\n",
       "    </tr>\n",
       "    <tr>\n",
       "      <th>42</th>\n",
       "      <td>n8_20241203_p7_13</td>\n",
       "      <td>area 29</td>\n",
       "      <td>ipsilateral</td>\n",
       "      <td>p7-13</td>\n",
       "      <td>19</td>\n",
       "      <td>0.050398</td>\n",
       "    </tr>\n",
       "    <tr>\n",
       "      <th>43</th>\n",
       "      <td>n8_20241203_p7_13</td>\n",
       "      <td>area 30</td>\n",
       "      <td>contralateral</td>\n",
       "      <td>p7-13</td>\n",
       "      <td>46</td>\n",
       "      <td>0.122016</td>\n",
       "    </tr>\n",
       "  </tbody>\n",
       "</table>\n",
       "</div>"
      ],
      "text/plain": [
       "                Brain Subdivided     Hemisphere    age  count  scaled count\n",
       "0   n11_20241103_p1_7    area 29  contralateral   p1-7    552      0.032377\n",
       "1   n11_20241103_p1_7    area 29    ipsilateral   p1-7      3      0.000176\n",
       "2   n11_20241103_p1_7    area 30  contralateral   p1-7    832      0.048801\n",
       "3   n1_20241203_p7_13    area 29  contralateral  p7-13      3      0.001943\n",
       "4   n1_20241203_p7_13    area 29    ipsilateral  p7-13    391      0.253238\n",
       "5   n1_20241203_p7_13    area 30  contralateral  p7-13     12      0.007772\n",
       "6   n1_20241203_p7_13    area 30    ipsilateral  p7-13     89      0.057642\n",
       "7   n1_20241209_p7_13    area 29  contralateral  p7-13      3      0.001943\n",
       "8   n1_20241209_p7_13    area 29    ipsilateral  p7-13    391      0.253238\n",
       "9   n1_20241209_p7_13    area 30  contralateral  p7-13     12      0.007772\n",
       "10  n1_20241209_p7_13    area 30    ipsilateral  p7-13     89      0.057642\n",
       "11  n2_20241203_p7_13    area 29  contralateral  p7-13     46      0.031834\n",
       "12  n2_20241203_p7_13    area 30  contralateral  p7-13    153      0.105882\n",
       "13  n2_20241203_p7_13    area 30    ipsilateral  p7-13     18      0.012457\n",
       "14  n2_20241209_p7_13    area 29  contralateral  p7-13      1      0.002045\n",
       "15  n2_20241209_p7_13    area 29    ipsilateral  p7-13     40      0.081800\n",
       "16  n2_20241209_p7_13    area 30  contralateral  p7-13      6      0.012270\n",
       "17  n2_20241209_p7_13    area 30    ipsilateral  p7-13     57      0.116564\n",
       "18   n3_20241010_p1_7    area 29  contralateral   p1-7     79      0.074599\n",
       "19   n3_20241010_p1_7    area 30  contralateral   p1-7     78      0.073654\n",
       "20   n3_20241010_p1_7    area 30    ipsilateral   p1-7     71      0.067044\n",
       "21  n3_20241209_p7_13    area 29  contralateral  p7-13     13      0.010204\n",
       "22  n3_20241209_p7_13    area 29    ipsilateral  p7-13     64      0.050235\n",
       "23  n3_20241209_p7_13    area 30  contralateral  p7-13     97      0.076138\n",
       "24  n3_20241209_p7_13    area 30    ipsilateral  p7-13    409      0.321036\n",
       "25  n4_20241203_p7_13    area 29  contralateral  p7-13     26      0.033121\n",
       "26  n4_20241203_p7_13    area 29    ipsilateral  p7-13      7      0.008917\n",
       "27  n4_20241203_p7_13    area 30  contralateral  p7-13     86      0.109554\n",
       "28  n4_20241203_p7_13    area 30    ipsilateral  p7-13     17      0.021656\n",
       "29  n4_20241209_p7_13    area 29  contralateral  p7-13     10      0.005695\n",
       "30  n4_20241209_p7_13    area 29    ipsilateral  p7-13    193      0.109909\n",
       "31  n4_20241209_p7_13    area 30  contralateral  p7-13     60      0.034169\n",
       "32  n4_20241209_p7_13    area 30    ipsilateral  p7-13    278      0.158314\n",
       "33   n5_20241103_p1_7    area 29  contralateral   p1-7   1356      0.114199\n",
       "34   n5_20241103_p1_7    area 29    ipsilateral   p1-7      1      0.000084\n",
       "35   n5_20241103_p1_7    area 30  contralateral   p1-7   1209      0.101819\n",
       "36   n5_20241103_p1_7    area 30    ipsilateral   p1-7      8      0.000674\n",
       "37  n5_20241203_p7_13    area 29  contralateral  p7-13     50      0.017277\n",
       "38  n5_20241203_p7_13    area 29    ipsilateral  p7-13      1      0.000346\n",
       "39  n5_20241203_p7_13    area 30  contralateral  p7-13    266      0.091914\n",
       "40  n5_20241203_p7_13    area 30    ipsilateral  p7-13      5      0.001728\n",
       "41  n8_20241203_p7_13    area 29  contralateral  p7-13     12      0.031830\n",
       "42  n8_20241203_p7_13    area 29    ipsilateral  p7-13     19      0.050398\n",
       "43  n8_20241203_p7_13    area 30  contralateral  p7-13     46      0.122016"
      ]
     },
     "execution_count": 57,
     "metadata": {},
     "output_type": "execute_result"
    }
   ],
   "source": [
    "subdivided_rsc_filtered = Retrosplenial_areas[\n",
    "    [\"Brain\", \"age\", \"count\", \"Hemisphere\", \"Subdivided\"]\n",
    "]\n",
    "\n",
    "subdivided_rsc_grouped = subdivided_rsc_filtered.groupby(\n",
    "    [\"Brain\", \"Subdivided\", \"Hemisphere\", \"age\"], as_index=False\n",
    ")[\"count\"].sum()\n",
    "\n",
    "# add scaled column with 0\n",
    "subdivided_rsc_grouped[\"scaled count\"] = 0\n",
    "# scale the counts\n",
    "for index, row in subdivided_rsc_grouped.iterrows():\n",
    "    brain_name = row[\"Brain\"]\n",
    "    count = row[\"count\"]\n",
    "    total_count = totals.loc[totals[\"Brain\"] == brain_name, \"total\"].values[0]\n",
    "    scaled_count = 1 / total_count * count\n",
    "    subdivided_rsc_grouped.loc[index, \"scaled count\"] = scaled_count\n",
    "subdivided_rsc_grouped"
   ]
  },
  {
   "cell_type": "code",
   "execution_count": 60,
   "id": "12117637",
   "metadata": {},
   "outputs": [],
   "source": [
    "def plot_count_zoomed_sub(big_file_long, Title):\n",
    "\n",
    "    df_hemi = big_file_long[big_file_long[\"Hemisphere\"] == \"ipsilateral\"]\n",
    "\n",
    "    fig = px.violin(\n",
    "        df_hemi,\n",
    "        y=\"count\",\n",
    "        x=\"Subdivided\",\n",
    "        color=\"age\",\n",
    "        box=True,\n",
    "        color_discrete_map={\"p1-7\": \"orange\", \"p7-13\": \"magenta\"},\n",
    "        title=Title,\n",
    "    )\n",
    "    fig.update_traces(\n",
    "        meanline_visible=True\n",
    "    )  # displays the arithmetic mean of the distribution\n",
    "    fig.update_layout(violinmode=\"group\")  # group left(right violins side-by-side)\n",
    "\n",
    "    return fig"
   ]
  },
  {
   "cell_type": "code",
   "execution_count": 61,
   "id": "d33c1fab",
   "metadata": {},
   "outputs": [
    {
     "data": {
      "application/vnd.plotly.v1+json": {
       "config": {
        "plotlyServerURL": "https://plotly.com"
       },
       "data": [
        {
         "alignmentgroup": "True",
         "box": {
          "visible": true
         },
         "hovertemplate": "age=p1-7<br>Subdivided=%{x}<br>count=%{y}<extra></extra>",
         "legendgroup": "p1-7",
         "marker": {
          "color": "orange"
         },
         "meanline": {
          "visible": true
         },
         "name": "p1-7",
         "offsetgroup": "p1-7",
         "orientation": "v",
         "scalegroup": "True",
         "showlegend": true,
         "type": "violin",
         "x": [
          "area 29",
          "area 30",
          "area 29",
          "area 30"
         ],
         "x0": " ",
         "xaxis": "x",
         "y": {
          "bdata": "A0cBCA==",
          "dtype": "i1"
         },
         "y0": " ",
         "yaxis": "y"
        },
        {
         "alignmentgroup": "True",
         "box": {
          "visible": true
         },
         "hovertemplate": "age=p7-13<br>Subdivided=%{x}<br>count=%{y}<extra></extra>",
         "legendgroup": "p7-13",
         "marker": {
          "color": "magenta"
         },
         "meanline": {
          "visible": true
         },
         "name": "p7-13",
         "offsetgroup": "p7-13",
         "orientation": "v",
         "scalegroup": "True",
         "showlegend": true,
         "type": "violin",
         "x": [
          "area 29",
          "area 30",
          "area 29",
          "area 30",
          "area 30",
          "area 29",
          "area 30",
          "area 29",
          "area 30",
          "area 29",
          "area 30",
          "area 29",
          "area 30",
          "area 29",
          "area 30",
          "area 29"
         ],
         "x0": " ",
         "xaxis": "x",
         "y": {
          "bdata": "hwFZAIcBWQASACgAOQBAAJkBBwARAMEAFgEBAAUAEwA=",
          "dtype": "i2"
         },
         "y0": " ",
         "yaxis": "y"
        }
       ],
       "layout": {
        "legend": {
         "title": {
          "text": "age"
         },
         "tracegroupgap": 0
        },
        "template": {
         "data": {
          "bar": [
           {
            "error_x": {
             "color": "#2a3f5f"
            },
            "error_y": {
             "color": "#2a3f5f"
            },
            "marker": {
             "line": {
              "color": "#E5ECF6",
              "width": 0.5
             },
             "pattern": {
              "fillmode": "overlay",
              "size": 10,
              "solidity": 0.2
             }
            },
            "type": "bar"
           }
          ],
          "barpolar": [
           {
            "marker": {
             "line": {
              "color": "#E5ECF6",
              "width": 0.5
             },
             "pattern": {
              "fillmode": "overlay",
              "size": 10,
              "solidity": 0.2
             }
            },
            "type": "barpolar"
           }
          ],
          "carpet": [
           {
            "aaxis": {
             "endlinecolor": "#2a3f5f",
             "gridcolor": "white",
             "linecolor": "white",
             "minorgridcolor": "white",
             "startlinecolor": "#2a3f5f"
            },
            "baxis": {
             "endlinecolor": "#2a3f5f",
             "gridcolor": "white",
             "linecolor": "white",
             "minorgridcolor": "white",
             "startlinecolor": "#2a3f5f"
            },
            "type": "carpet"
           }
          ],
          "choropleth": [
           {
            "colorbar": {
             "outlinewidth": 0,
             "ticks": ""
            },
            "type": "choropleth"
           }
          ],
          "contour": [
           {
            "colorbar": {
             "outlinewidth": 0,
             "ticks": ""
            },
            "colorscale": [
             [
              0,
              "#0d0887"
             ],
             [
              0.1111111111111111,
              "#46039f"
             ],
             [
              0.2222222222222222,
              "#7201a8"
             ],
             [
              0.3333333333333333,
              "#9c179e"
             ],
             [
              0.4444444444444444,
              "#bd3786"
             ],
             [
              0.5555555555555556,
              "#d8576b"
             ],
             [
              0.6666666666666666,
              "#ed7953"
             ],
             [
              0.7777777777777778,
              "#fb9f3a"
             ],
             [
              0.8888888888888888,
              "#fdca26"
             ],
             [
              1,
              "#f0f921"
             ]
            ],
            "type": "contour"
           }
          ],
          "contourcarpet": [
           {
            "colorbar": {
             "outlinewidth": 0,
             "ticks": ""
            },
            "type": "contourcarpet"
           }
          ],
          "heatmap": [
           {
            "colorbar": {
             "outlinewidth": 0,
             "ticks": ""
            },
            "colorscale": [
             [
              0,
              "#0d0887"
             ],
             [
              0.1111111111111111,
              "#46039f"
             ],
             [
              0.2222222222222222,
              "#7201a8"
             ],
             [
              0.3333333333333333,
              "#9c179e"
             ],
             [
              0.4444444444444444,
              "#bd3786"
             ],
             [
              0.5555555555555556,
              "#d8576b"
             ],
             [
              0.6666666666666666,
              "#ed7953"
             ],
             [
              0.7777777777777778,
              "#fb9f3a"
             ],
             [
              0.8888888888888888,
              "#fdca26"
             ],
             [
              1,
              "#f0f921"
             ]
            ],
            "type": "heatmap"
           }
          ],
          "histogram": [
           {
            "marker": {
             "pattern": {
              "fillmode": "overlay",
              "size": 10,
              "solidity": 0.2
             }
            },
            "type": "histogram"
           }
          ],
          "histogram2d": [
           {
            "colorbar": {
             "outlinewidth": 0,
             "ticks": ""
            },
            "colorscale": [
             [
              0,
              "#0d0887"
             ],
             [
              0.1111111111111111,
              "#46039f"
             ],
             [
              0.2222222222222222,
              "#7201a8"
             ],
             [
              0.3333333333333333,
              "#9c179e"
             ],
             [
              0.4444444444444444,
              "#bd3786"
             ],
             [
              0.5555555555555556,
              "#d8576b"
             ],
             [
              0.6666666666666666,
              "#ed7953"
             ],
             [
              0.7777777777777778,
              "#fb9f3a"
             ],
             [
              0.8888888888888888,
              "#fdca26"
             ],
             [
              1,
              "#f0f921"
             ]
            ],
            "type": "histogram2d"
           }
          ],
          "histogram2dcontour": [
           {
            "colorbar": {
             "outlinewidth": 0,
             "ticks": ""
            },
            "colorscale": [
             [
              0,
              "#0d0887"
             ],
             [
              0.1111111111111111,
              "#46039f"
             ],
             [
              0.2222222222222222,
              "#7201a8"
             ],
             [
              0.3333333333333333,
              "#9c179e"
             ],
             [
              0.4444444444444444,
              "#bd3786"
             ],
             [
              0.5555555555555556,
              "#d8576b"
             ],
             [
              0.6666666666666666,
              "#ed7953"
             ],
             [
              0.7777777777777778,
              "#fb9f3a"
             ],
             [
              0.8888888888888888,
              "#fdca26"
             ],
             [
              1,
              "#f0f921"
             ]
            ],
            "type": "histogram2dcontour"
           }
          ],
          "mesh3d": [
           {
            "colorbar": {
             "outlinewidth": 0,
             "ticks": ""
            },
            "type": "mesh3d"
           }
          ],
          "parcoords": [
           {
            "line": {
             "colorbar": {
              "outlinewidth": 0,
              "ticks": ""
             }
            },
            "type": "parcoords"
           }
          ],
          "pie": [
           {
            "automargin": true,
            "type": "pie"
           }
          ],
          "scatter": [
           {
            "fillpattern": {
             "fillmode": "overlay",
             "size": 10,
             "solidity": 0.2
            },
            "type": "scatter"
           }
          ],
          "scatter3d": [
           {
            "line": {
             "colorbar": {
              "outlinewidth": 0,
              "ticks": ""
             }
            },
            "marker": {
             "colorbar": {
              "outlinewidth": 0,
              "ticks": ""
             }
            },
            "type": "scatter3d"
           }
          ],
          "scattercarpet": [
           {
            "marker": {
             "colorbar": {
              "outlinewidth": 0,
              "ticks": ""
             }
            },
            "type": "scattercarpet"
           }
          ],
          "scattergeo": [
           {
            "marker": {
             "colorbar": {
              "outlinewidth": 0,
              "ticks": ""
             }
            },
            "type": "scattergeo"
           }
          ],
          "scattergl": [
           {
            "marker": {
             "colorbar": {
              "outlinewidth": 0,
              "ticks": ""
             }
            },
            "type": "scattergl"
           }
          ],
          "scattermap": [
           {
            "marker": {
             "colorbar": {
              "outlinewidth": 0,
              "ticks": ""
             }
            },
            "type": "scattermap"
           }
          ],
          "scattermapbox": [
           {
            "marker": {
             "colorbar": {
              "outlinewidth": 0,
              "ticks": ""
             }
            },
            "type": "scattermapbox"
           }
          ],
          "scatterpolar": [
           {
            "marker": {
             "colorbar": {
              "outlinewidth": 0,
              "ticks": ""
             }
            },
            "type": "scatterpolar"
           }
          ],
          "scatterpolargl": [
           {
            "marker": {
             "colorbar": {
              "outlinewidth": 0,
              "ticks": ""
             }
            },
            "type": "scatterpolargl"
           }
          ],
          "scatterternary": [
           {
            "marker": {
             "colorbar": {
              "outlinewidth": 0,
              "ticks": ""
             }
            },
            "type": "scatterternary"
           }
          ],
          "surface": [
           {
            "colorbar": {
             "outlinewidth": 0,
             "ticks": ""
            },
            "colorscale": [
             [
              0,
              "#0d0887"
             ],
             [
              0.1111111111111111,
              "#46039f"
             ],
             [
              0.2222222222222222,
              "#7201a8"
             ],
             [
              0.3333333333333333,
              "#9c179e"
             ],
             [
              0.4444444444444444,
              "#bd3786"
             ],
             [
              0.5555555555555556,
              "#d8576b"
             ],
             [
              0.6666666666666666,
              "#ed7953"
             ],
             [
              0.7777777777777778,
              "#fb9f3a"
             ],
             [
              0.8888888888888888,
              "#fdca26"
             ],
             [
              1,
              "#f0f921"
             ]
            ],
            "type": "surface"
           }
          ],
          "table": [
           {
            "cells": {
             "fill": {
              "color": "#EBF0F8"
             },
             "line": {
              "color": "white"
             }
            },
            "header": {
             "fill": {
              "color": "#C8D4E3"
             },
             "line": {
              "color": "white"
             }
            },
            "type": "table"
           }
          ]
         },
         "layout": {
          "annotationdefaults": {
           "arrowcolor": "#2a3f5f",
           "arrowhead": 0,
           "arrowwidth": 1
          },
          "autotypenumbers": "strict",
          "coloraxis": {
           "colorbar": {
            "outlinewidth": 0,
            "ticks": ""
           }
          },
          "colorscale": {
           "diverging": [
            [
             0,
             "#8e0152"
            ],
            [
             0.1,
             "#c51b7d"
            ],
            [
             0.2,
             "#de77ae"
            ],
            [
             0.3,
             "#f1b6da"
            ],
            [
             0.4,
             "#fde0ef"
            ],
            [
             0.5,
             "#f7f7f7"
            ],
            [
             0.6,
             "#e6f5d0"
            ],
            [
             0.7,
             "#b8e186"
            ],
            [
             0.8,
             "#7fbc41"
            ],
            [
             0.9,
             "#4d9221"
            ],
            [
             1,
             "#276419"
            ]
           ],
           "sequential": [
            [
             0,
             "#0d0887"
            ],
            [
             0.1111111111111111,
             "#46039f"
            ],
            [
             0.2222222222222222,
             "#7201a8"
            ],
            [
             0.3333333333333333,
             "#9c179e"
            ],
            [
             0.4444444444444444,
             "#bd3786"
            ],
            [
             0.5555555555555556,
             "#d8576b"
            ],
            [
             0.6666666666666666,
             "#ed7953"
            ],
            [
             0.7777777777777778,
             "#fb9f3a"
            ],
            [
             0.8888888888888888,
             "#fdca26"
            ],
            [
             1,
             "#f0f921"
            ]
           ],
           "sequentialminus": [
            [
             0,
             "#0d0887"
            ],
            [
             0.1111111111111111,
             "#46039f"
            ],
            [
             0.2222222222222222,
             "#7201a8"
            ],
            [
             0.3333333333333333,
             "#9c179e"
            ],
            [
             0.4444444444444444,
             "#bd3786"
            ],
            [
             0.5555555555555556,
             "#d8576b"
            ],
            [
             0.6666666666666666,
             "#ed7953"
            ],
            [
             0.7777777777777778,
             "#fb9f3a"
            ],
            [
             0.8888888888888888,
             "#fdca26"
            ],
            [
             1,
             "#f0f921"
            ]
           ]
          },
          "colorway": [
           "#636efa",
           "#EF553B",
           "#00cc96",
           "#ab63fa",
           "#FFA15A",
           "#19d3f3",
           "#FF6692",
           "#B6E880",
           "#FF97FF",
           "#FECB52"
          ],
          "font": {
           "color": "#2a3f5f"
          },
          "geo": {
           "bgcolor": "white",
           "lakecolor": "white",
           "landcolor": "#E5ECF6",
           "showlakes": true,
           "showland": true,
           "subunitcolor": "white"
          },
          "hoverlabel": {
           "align": "left"
          },
          "hovermode": "closest",
          "mapbox": {
           "style": "light"
          },
          "paper_bgcolor": "white",
          "plot_bgcolor": "#E5ECF6",
          "polar": {
           "angularaxis": {
            "gridcolor": "white",
            "linecolor": "white",
            "ticks": ""
           },
           "bgcolor": "#E5ECF6",
           "radialaxis": {
            "gridcolor": "white",
            "linecolor": "white",
            "ticks": ""
           }
          },
          "scene": {
           "xaxis": {
            "backgroundcolor": "#E5ECF6",
            "gridcolor": "white",
            "gridwidth": 2,
            "linecolor": "white",
            "showbackground": true,
            "ticks": "",
            "zerolinecolor": "white"
           },
           "yaxis": {
            "backgroundcolor": "#E5ECF6",
            "gridcolor": "white",
            "gridwidth": 2,
            "linecolor": "white",
            "showbackground": true,
            "ticks": "",
            "zerolinecolor": "white"
           },
           "zaxis": {
            "backgroundcolor": "#E5ECF6",
            "gridcolor": "white",
            "gridwidth": 2,
            "linecolor": "white",
            "showbackground": true,
            "ticks": "",
            "zerolinecolor": "white"
           }
          },
          "shapedefaults": {
           "line": {
            "color": "#2a3f5f"
           }
          },
          "ternary": {
           "aaxis": {
            "gridcolor": "white",
            "linecolor": "white",
            "ticks": ""
           },
           "baxis": {
            "gridcolor": "white",
            "linecolor": "white",
            "ticks": ""
           },
           "bgcolor": "#E5ECF6",
           "caxis": {
            "gridcolor": "white",
            "linecolor": "white",
            "ticks": ""
           }
          },
          "title": {
           "x": 0.05
          },
          "xaxis": {
           "automargin": true,
           "gridcolor": "white",
           "linecolor": "white",
           "ticks": "",
           "title": {
            "standoff": 15
           },
           "zerolinecolor": "white",
           "zerolinewidth": 2
          },
          "yaxis": {
           "automargin": true,
           "gridcolor": "white",
           "linecolor": "white",
           "ticks": "",
           "title": {
            "standoff": 15
           },
           "zerolinecolor": "white",
           "zerolinewidth": 2
          }
         }
        },
        "title": {
         "text": "V1 injections counts in Retrosplenial area subdivisions by hemisphere, p1-7 (n=3) and p7-13 (n=9) "
        },
        "violinmode": "group",
        "xaxis": {
         "anchor": "y",
         "domain": [
          0,
          1
         ],
         "title": {
          "text": "Subdivided"
         }
        },
        "yaxis": {
         "anchor": "x",
         "domain": [
          0,
          1
         ],
         "title": {
          "text": "count"
         }
        }
       }
      }
     },
     "metadata": {},
     "output_type": "display_data"
    }
   ],
   "source": [
    "plot_count_zoomed_sub(\n",
    "    subdivided_rsc_grouped,\n",
    "    \"V1 injections counts in Retrosplenial area subdivisions by hemisphere, p1-7 (n=3) and p7-13 (n=9) \",\n",
    ")"
   ]
  },
  {
   "cell_type": "code",
   "execution_count": 63,
   "id": "b5a26e54",
   "metadata": {},
   "outputs": [],
   "source": [
    "def plot_scaledcount_zoomed_sub(big_file_long, Title):\n",
    "\n",
    "    df_hemi = big_file_long[big_file_long[\"Hemisphere\"] == \"ipsilateral\"]\n",
    "\n",
    "    fig = px.violin(\n",
    "        df_hemi,\n",
    "        y=\"scaled count\",\n",
    "        x=\"Subdivided\",\n",
    "        color=\"age\",\n",
    "        box=True,\n",
    "        # points = \"all\",\n",
    "        color_discrete_map={\"p1-7\": \"orange\", \"p7-13\": \"magenta\"},\n",
    "        title=Title,\n",
    "    )\n",
    "    fig.update_traces(\n",
    "        meanline_visible=True\n",
    "    )  # displays the arithmetic mean of the distribution\n",
    "    fig.update_layout(violinmode=\"group\")  # group left(right violins side-by-side)\n",
    "\n",
    "    return fig"
   ]
  },
  {
   "cell_type": "code",
   "execution_count": 64,
   "id": "90c899c2",
   "metadata": {},
   "outputs": [
    {
     "data": {
      "application/vnd.plotly.v1+json": {
       "config": {
        "plotlyServerURL": "https://plotly.com"
       },
       "data": [
        {
         "alignmentgroup": "True",
         "box": {
          "visible": true
         },
         "hovertemplate": "age=p1-7<br>Subdivided=%{x}<br>scaled count=%{y}<extra></extra>",
         "legendgroup": "p1-7",
         "marker": {
          "color": "orange"
         },
         "meanline": {
          "visible": true
         },
         "name": "p1-7",
         "offsetgroup": "p1-7",
         "orientation": "v",
         "scalegroup": "True",
         "showlegend": true,
         "type": "violin",
         "x": [
          "area 29",
          "area 30",
          "area 29",
          "area 30"
         ],
         "x0": " ",
         "xaxis": "x",
         "y": {
          "bdata": "Q+3fF1oQJz+YeeMR0imxP0x5c6q/ExY/THlzqr8TRj8=",
          "dtype": "f8"
         },
         "y0": " ",
         "yaxis": "y"
        },
        {
         "alignmentgroup": "True",
         "box": {
          "visible": true
         },
         "hovertemplate": "age=p7-13<br>Subdivided=%{x}<br>scaled count=%{y}<extra></extra>",
         "legendgroup": "p7-13",
         "marker": {
          "color": "magenta"
         },
         "meanline": {
          "visible": true
         },
         "name": "p7-13",
         "offsetgroup": "p7-13",
         "orientation": "v",
         "scalegroup": "True",
         "showlegend": true,
         "type": "violin",
         "x": [
          "area 29",
          "area 30",
          "area 29",
          "area 30",
          "area 30",
          "area 29",
          "area 30",
          "area 29",
          "area 30",
          "area 29",
          "area 30",
          "area 29",
          "area 30",
          "area 29",
          "area 30",
          "area 29"
         ],
         "x0": " ",
         "xaxis": "x",
         "y": {
          "bdata": "KGI2lw410D8jZnPpUIOtPyhiNpcONdA/I2Zz6VCDrT+SKL9V7IKJP80RLmjR8LQ/kQyoZyrXvT/RLSb1dripP5n/1Abbi9Q/gTRv+y1Dgj/Bv3T6AC2WPwqJkxX9Irw/m7OUB6VDxD+FWYq+PaU2P+bvLC6NTlw/jHl1K8DNqT8=",
          "dtype": "f8"
         },
         "y0": " ",
         "yaxis": "y"
        }
       ],
       "layout": {
        "legend": {
         "title": {
          "text": "age"
         },
         "tracegroupgap": 0
        },
        "template": {
         "data": {
          "bar": [
           {
            "error_x": {
             "color": "#2a3f5f"
            },
            "error_y": {
             "color": "#2a3f5f"
            },
            "marker": {
             "line": {
              "color": "#E5ECF6",
              "width": 0.5
             },
             "pattern": {
              "fillmode": "overlay",
              "size": 10,
              "solidity": 0.2
             }
            },
            "type": "bar"
           }
          ],
          "barpolar": [
           {
            "marker": {
             "line": {
              "color": "#E5ECF6",
              "width": 0.5
             },
             "pattern": {
              "fillmode": "overlay",
              "size": 10,
              "solidity": 0.2
             }
            },
            "type": "barpolar"
           }
          ],
          "carpet": [
           {
            "aaxis": {
             "endlinecolor": "#2a3f5f",
             "gridcolor": "white",
             "linecolor": "white",
             "minorgridcolor": "white",
             "startlinecolor": "#2a3f5f"
            },
            "baxis": {
             "endlinecolor": "#2a3f5f",
             "gridcolor": "white",
             "linecolor": "white",
             "minorgridcolor": "white",
             "startlinecolor": "#2a3f5f"
            },
            "type": "carpet"
           }
          ],
          "choropleth": [
           {
            "colorbar": {
             "outlinewidth": 0,
             "ticks": ""
            },
            "type": "choropleth"
           }
          ],
          "contour": [
           {
            "colorbar": {
             "outlinewidth": 0,
             "ticks": ""
            },
            "colorscale": [
             [
              0,
              "#0d0887"
             ],
             [
              0.1111111111111111,
              "#46039f"
             ],
             [
              0.2222222222222222,
              "#7201a8"
             ],
             [
              0.3333333333333333,
              "#9c179e"
             ],
             [
              0.4444444444444444,
              "#bd3786"
             ],
             [
              0.5555555555555556,
              "#d8576b"
             ],
             [
              0.6666666666666666,
              "#ed7953"
             ],
             [
              0.7777777777777778,
              "#fb9f3a"
             ],
             [
              0.8888888888888888,
              "#fdca26"
             ],
             [
              1,
              "#f0f921"
             ]
            ],
            "type": "contour"
           }
          ],
          "contourcarpet": [
           {
            "colorbar": {
             "outlinewidth": 0,
             "ticks": ""
            },
            "type": "contourcarpet"
           }
          ],
          "heatmap": [
           {
            "colorbar": {
             "outlinewidth": 0,
             "ticks": ""
            },
            "colorscale": [
             [
              0,
              "#0d0887"
             ],
             [
              0.1111111111111111,
              "#46039f"
             ],
             [
              0.2222222222222222,
              "#7201a8"
             ],
             [
              0.3333333333333333,
              "#9c179e"
             ],
             [
              0.4444444444444444,
              "#bd3786"
             ],
             [
              0.5555555555555556,
              "#d8576b"
             ],
             [
              0.6666666666666666,
              "#ed7953"
             ],
             [
              0.7777777777777778,
              "#fb9f3a"
             ],
             [
              0.8888888888888888,
              "#fdca26"
             ],
             [
              1,
              "#f0f921"
             ]
            ],
            "type": "heatmap"
           }
          ],
          "histogram": [
           {
            "marker": {
             "pattern": {
              "fillmode": "overlay",
              "size": 10,
              "solidity": 0.2
             }
            },
            "type": "histogram"
           }
          ],
          "histogram2d": [
           {
            "colorbar": {
             "outlinewidth": 0,
             "ticks": ""
            },
            "colorscale": [
             [
              0,
              "#0d0887"
             ],
             [
              0.1111111111111111,
              "#46039f"
             ],
             [
              0.2222222222222222,
              "#7201a8"
             ],
             [
              0.3333333333333333,
              "#9c179e"
             ],
             [
              0.4444444444444444,
              "#bd3786"
             ],
             [
              0.5555555555555556,
              "#d8576b"
             ],
             [
              0.6666666666666666,
              "#ed7953"
             ],
             [
              0.7777777777777778,
              "#fb9f3a"
             ],
             [
              0.8888888888888888,
              "#fdca26"
             ],
             [
              1,
              "#f0f921"
             ]
            ],
            "type": "histogram2d"
           }
          ],
          "histogram2dcontour": [
           {
            "colorbar": {
             "outlinewidth": 0,
             "ticks": ""
            },
            "colorscale": [
             [
              0,
              "#0d0887"
             ],
             [
              0.1111111111111111,
              "#46039f"
             ],
             [
              0.2222222222222222,
              "#7201a8"
             ],
             [
              0.3333333333333333,
              "#9c179e"
             ],
             [
              0.4444444444444444,
              "#bd3786"
             ],
             [
              0.5555555555555556,
              "#d8576b"
             ],
             [
              0.6666666666666666,
              "#ed7953"
             ],
             [
              0.7777777777777778,
              "#fb9f3a"
             ],
             [
              0.8888888888888888,
              "#fdca26"
             ],
             [
              1,
              "#f0f921"
             ]
            ],
            "type": "histogram2dcontour"
           }
          ],
          "mesh3d": [
           {
            "colorbar": {
             "outlinewidth": 0,
             "ticks": ""
            },
            "type": "mesh3d"
           }
          ],
          "parcoords": [
           {
            "line": {
             "colorbar": {
              "outlinewidth": 0,
              "ticks": ""
             }
            },
            "type": "parcoords"
           }
          ],
          "pie": [
           {
            "automargin": true,
            "type": "pie"
           }
          ],
          "scatter": [
           {
            "fillpattern": {
             "fillmode": "overlay",
             "size": 10,
             "solidity": 0.2
            },
            "type": "scatter"
           }
          ],
          "scatter3d": [
           {
            "line": {
             "colorbar": {
              "outlinewidth": 0,
              "ticks": ""
             }
            },
            "marker": {
             "colorbar": {
              "outlinewidth": 0,
              "ticks": ""
             }
            },
            "type": "scatter3d"
           }
          ],
          "scattercarpet": [
           {
            "marker": {
             "colorbar": {
              "outlinewidth": 0,
              "ticks": ""
             }
            },
            "type": "scattercarpet"
           }
          ],
          "scattergeo": [
           {
            "marker": {
             "colorbar": {
              "outlinewidth": 0,
              "ticks": ""
             }
            },
            "type": "scattergeo"
           }
          ],
          "scattergl": [
           {
            "marker": {
             "colorbar": {
              "outlinewidth": 0,
              "ticks": ""
             }
            },
            "type": "scattergl"
           }
          ],
          "scattermap": [
           {
            "marker": {
             "colorbar": {
              "outlinewidth": 0,
              "ticks": ""
             }
            },
            "type": "scattermap"
           }
          ],
          "scattermapbox": [
           {
            "marker": {
             "colorbar": {
              "outlinewidth": 0,
              "ticks": ""
             }
            },
            "type": "scattermapbox"
           }
          ],
          "scatterpolar": [
           {
            "marker": {
             "colorbar": {
              "outlinewidth": 0,
              "ticks": ""
             }
            },
            "type": "scatterpolar"
           }
          ],
          "scatterpolargl": [
           {
            "marker": {
             "colorbar": {
              "outlinewidth": 0,
              "ticks": ""
             }
            },
            "type": "scatterpolargl"
           }
          ],
          "scatterternary": [
           {
            "marker": {
             "colorbar": {
              "outlinewidth": 0,
              "ticks": ""
             }
            },
            "type": "scatterternary"
           }
          ],
          "surface": [
           {
            "colorbar": {
             "outlinewidth": 0,
             "ticks": ""
            },
            "colorscale": [
             [
              0,
              "#0d0887"
             ],
             [
              0.1111111111111111,
              "#46039f"
             ],
             [
              0.2222222222222222,
              "#7201a8"
             ],
             [
              0.3333333333333333,
              "#9c179e"
             ],
             [
              0.4444444444444444,
              "#bd3786"
             ],
             [
              0.5555555555555556,
              "#d8576b"
             ],
             [
              0.6666666666666666,
              "#ed7953"
             ],
             [
              0.7777777777777778,
              "#fb9f3a"
             ],
             [
              0.8888888888888888,
              "#fdca26"
             ],
             [
              1,
              "#f0f921"
             ]
            ],
            "type": "surface"
           }
          ],
          "table": [
           {
            "cells": {
             "fill": {
              "color": "#EBF0F8"
             },
             "line": {
              "color": "white"
             }
            },
            "header": {
             "fill": {
              "color": "#C8D4E3"
             },
             "line": {
              "color": "white"
             }
            },
            "type": "table"
           }
          ]
         },
         "layout": {
          "annotationdefaults": {
           "arrowcolor": "#2a3f5f",
           "arrowhead": 0,
           "arrowwidth": 1
          },
          "autotypenumbers": "strict",
          "coloraxis": {
           "colorbar": {
            "outlinewidth": 0,
            "ticks": ""
           }
          },
          "colorscale": {
           "diverging": [
            [
             0,
             "#8e0152"
            ],
            [
             0.1,
             "#c51b7d"
            ],
            [
             0.2,
             "#de77ae"
            ],
            [
             0.3,
             "#f1b6da"
            ],
            [
             0.4,
             "#fde0ef"
            ],
            [
             0.5,
             "#f7f7f7"
            ],
            [
             0.6,
             "#e6f5d0"
            ],
            [
             0.7,
             "#b8e186"
            ],
            [
             0.8,
             "#7fbc41"
            ],
            [
             0.9,
             "#4d9221"
            ],
            [
             1,
             "#276419"
            ]
           ],
           "sequential": [
            [
             0,
             "#0d0887"
            ],
            [
             0.1111111111111111,
             "#46039f"
            ],
            [
             0.2222222222222222,
             "#7201a8"
            ],
            [
             0.3333333333333333,
             "#9c179e"
            ],
            [
             0.4444444444444444,
             "#bd3786"
            ],
            [
             0.5555555555555556,
             "#d8576b"
            ],
            [
             0.6666666666666666,
             "#ed7953"
            ],
            [
             0.7777777777777778,
             "#fb9f3a"
            ],
            [
             0.8888888888888888,
             "#fdca26"
            ],
            [
             1,
             "#f0f921"
            ]
           ],
           "sequentialminus": [
            [
             0,
             "#0d0887"
            ],
            [
             0.1111111111111111,
             "#46039f"
            ],
            [
             0.2222222222222222,
             "#7201a8"
            ],
            [
             0.3333333333333333,
             "#9c179e"
            ],
            [
             0.4444444444444444,
             "#bd3786"
            ],
            [
             0.5555555555555556,
             "#d8576b"
            ],
            [
             0.6666666666666666,
             "#ed7953"
            ],
            [
             0.7777777777777778,
             "#fb9f3a"
            ],
            [
             0.8888888888888888,
             "#fdca26"
            ],
            [
             1,
             "#f0f921"
            ]
           ]
          },
          "colorway": [
           "#636efa",
           "#EF553B",
           "#00cc96",
           "#ab63fa",
           "#FFA15A",
           "#19d3f3",
           "#FF6692",
           "#B6E880",
           "#FF97FF",
           "#FECB52"
          ],
          "font": {
           "color": "#2a3f5f"
          },
          "geo": {
           "bgcolor": "white",
           "lakecolor": "white",
           "landcolor": "#E5ECF6",
           "showlakes": true,
           "showland": true,
           "subunitcolor": "white"
          },
          "hoverlabel": {
           "align": "left"
          },
          "hovermode": "closest",
          "mapbox": {
           "style": "light"
          },
          "paper_bgcolor": "white",
          "plot_bgcolor": "#E5ECF6",
          "polar": {
           "angularaxis": {
            "gridcolor": "white",
            "linecolor": "white",
            "ticks": ""
           },
           "bgcolor": "#E5ECF6",
           "radialaxis": {
            "gridcolor": "white",
            "linecolor": "white",
            "ticks": ""
           }
          },
          "scene": {
           "xaxis": {
            "backgroundcolor": "#E5ECF6",
            "gridcolor": "white",
            "gridwidth": 2,
            "linecolor": "white",
            "showbackground": true,
            "ticks": "",
            "zerolinecolor": "white"
           },
           "yaxis": {
            "backgroundcolor": "#E5ECF6",
            "gridcolor": "white",
            "gridwidth": 2,
            "linecolor": "white",
            "showbackground": true,
            "ticks": "",
            "zerolinecolor": "white"
           },
           "zaxis": {
            "backgroundcolor": "#E5ECF6",
            "gridcolor": "white",
            "gridwidth": 2,
            "linecolor": "white",
            "showbackground": true,
            "ticks": "",
            "zerolinecolor": "white"
           }
          },
          "shapedefaults": {
           "line": {
            "color": "#2a3f5f"
           }
          },
          "ternary": {
           "aaxis": {
            "gridcolor": "white",
            "linecolor": "white",
            "ticks": ""
           },
           "baxis": {
            "gridcolor": "white",
            "linecolor": "white",
            "ticks": ""
           },
           "bgcolor": "#E5ECF6",
           "caxis": {
            "gridcolor": "white",
            "linecolor": "white",
            "ticks": ""
           }
          },
          "title": {
           "x": 0.05
          },
          "xaxis": {
           "automargin": true,
           "gridcolor": "white",
           "linecolor": "white",
           "ticks": "",
           "title": {
            "standoff": 15
           },
           "zerolinecolor": "white",
           "zerolinewidth": 2
          },
          "yaxis": {
           "automargin": true,
           "gridcolor": "white",
           "linecolor": "white",
           "ticks": "",
           "title": {
            "standoff": 15
           },
           "zerolinecolor": "white",
           "zerolinewidth": 2
          }
         }
        },
        "title": {
         "text": "V1 injections scaled counts in Retrosplenial area subdivisions by hemisphere, p1-7 (n=3) and p7-13 (n=9) "
        },
        "violinmode": "group",
        "xaxis": {
         "anchor": "y",
         "domain": [
          0,
          1
         ],
         "title": {
          "text": "Subdivided"
         }
        },
        "yaxis": {
         "anchor": "x",
         "domain": [
          0,
          1
         ],
         "title": {
          "text": "scaled count"
         }
        }
       }
      }
     },
     "metadata": {},
     "output_type": "display_data"
    }
   ],
   "source": [
    "plot_scaledcount_zoomed_sub(\n",
    "    subdivided_rsc_grouped,\n",
    "    \"V1 injections scaled counts in Retrosplenial area subdivisions by hemisphere, p1-7 (n=3) and p7-13 (n=9) \",\n",
    ")"
   ]
  },
  {
   "cell_type": "code",
   "execution_count": 67,
   "id": "11d388cd",
   "metadata": {},
   "outputs": [
    {
     "data": {
      "application/vnd.plotly.v1+json": {
       "config": {
        "plotlyServerURL": "https://plotly.com"
       },
       "data": [
        {
         "alignmentgroup": "True",
         "box": {
          "visible": true
         },
         "hovertemplate": "age=p1-7<br>Subdivided=%{x}<br>count=%{y}<extra></extra>",
         "legendgroup": "p1-7",
         "marker": {
          "color": "orange"
         },
         "meanline": {
          "visible": true
         },
         "name": "p1-7",
         "offsetgroup": "p1-7",
         "orientation": "v",
         "scalegroup": "True",
         "showlegend": true,
         "type": "violin",
         "x": [
          "Primary somatosensory area",
          "Primary somatosensory area",
          "Supplemental somatosensory area",
          "Supplemental somatosensory area",
          "Primary somatosensory area",
          "Primary somatosensory area",
          "Primary somatosensory area",
          "Primary somatosensory area",
          "Primary somatosensory area",
          "Primary somatosensory area",
          "Supplemental somatosensory area",
          "Primary somatosensory area",
          "Primary somatosensory area",
          "Primary somatosensory area",
          "Primary somatosensory area",
          "Primary somatosensory area",
          "Primary somatosensory area",
          "Primary somatosensory area",
          "Primary somatosensory area",
          "Primary somatosensory area",
          "Supplemental somatosensory area",
          "Primary somatosensory area",
          "Primary somatosensory area",
          "Primary somatosensory area",
          "Primary somatosensory area"
         ],
         "x0": " ",
         "xaxis": "x",
         "y": {
          "bdata": "AgIBAgEBAQECAQECAQIBCAEKAQEEAQEBAQ==",
          "dtype": "i1"
         },
         "y0": " ",
         "yaxis": "y"
        },
        {
         "alignmentgroup": "True",
         "box": {
          "visible": true
         },
         "hovertemplate": "age=p7-13<br>Subdivided=%{x}<br>count=%{y}<extra></extra>",
         "legendgroup": "p7-13",
         "marker": {
          "color": "magenta"
         },
         "meanline": {
          "visible": true
         },
         "name": "p7-13",
         "offsetgroup": "p7-13",
         "orientation": "v",
         "scalegroup": "True",
         "showlegend": true,
         "type": "violin",
         "x": [
          "Primary somatosensory area",
          "Primary somatosensory area",
          "Primary somatosensory area",
          "Primary somatosensory area",
          "Primary somatosensory area",
          "Primary somatosensory area",
          "Primary somatosensory area",
          "Primary somatosensory area",
          "Primary somatosensory area",
          "Primary somatosensory area",
          "Primary somatosensory area",
          "Primary somatosensory area",
          "Primary somatosensory area",
          "Primary somatosensory area",
          "Primary somatosensory area",
          "Primary somatosensory area",
          "Primary somatosensory area",
          "Primary somatosensory area",
          "Supplemental somatosensory area",
          "Primary somatosensory area",
          "Primary somatosensory area",
          "Primary somatosensory area",
          "Supplemental somatosensory area",
          "Primary somatosensory area",
          "Supplemental somatosensory area",
          "Primary somatosensory area",
          "Primary somatosensory area",
          "Primary somatosensory area",
          "Primary somatosensory area",
          "Primary somatosensory area",
          "Primary somatosensory area",
          "Primary somatosensory area",
          "Primary somatosensory area",
          "Primary somatosensory area",
          "Primary somatosensory area",
          "Primary somatosensory area",
          "Primary somatosensory area",
          "Primary somatosensory area",
          "Primary somatosensory area",
          "Primary somatosensory area",
          "Primary somatosensory area",
          "Primary somatosensory area",
          "Primary somatosensory area",
          "Supplemental somatosensory area",
          "Supplemental somatosensory area",
          "Primary somatosensory area",
          "Primary somatosensory area",
          "Supplemental somatosensory area",
          "Primary somatosensory area",
          "Primary somatosensory area",
          "Primary somatosensory area",
          "Supplemental somatosensory area",
          "Primary somatosensory area",
          "Primary somatosensory area",
          "Primary somatosensory area",
          "Supplemental somatosensory area",
          "Primary somatosensory area"
         ],
         "x0": " ",
         "xaxis": "x",
         "y": {
          "bdata": "AQEEAQEBAQIBAQEBAQECAQUEAQEBAQcBAgEBCgYDEgEEAgEBAgEBBAEBAQoBAQMNAgICFQEBAQEC",
          "dtype": "i1"
         },
         "y0": " ",
         "yaxis": "y"
        }
       ],
       "layout": {
        "legend": {
         "title": {
          "text": "age"
         },
         "tracegroupgap": 0
        },
        "template": {
         "data": {
          "bar": [
           {
            "error_x": {
             "color": "#2a3f5f"
            },
            "error_y": {
             "color": "#2a3f5f"
            },
            "marker": {
             "line": {
              "color": "#E5ECF6",
              "width": 0.5
             },
             "pattern": {
              "fillmode": "overlay",
              "size": 10,
              "solidity": 0.2
             }
            },
            "type": "bar"
           }
          ],
          "barpolar": [
           {
            "marker": {
             "line": {
              "color": "#E5ECF6",
              "width": 0.5
             },
             "pattern": {
              "fillmode": "overlay",
              "size": 10,
              "solidity": 0.2
             }
            },
            "type": "barpolar"
           }
          ],
          "carpet": [
           {
            "aaxis": {
             "endlinecolor": "#2a3f5f",
             "gridcolor": "white",
             "linecolor": "white",
             "minorgridcolor": "white",
             "startlinecolor": "#2a3f5f"
            },
            "baxis": {
             "endlinecolor": "#2a3f5f",
             "gridcolor": "white",
             "linecolor": "white",
             "minorgridcolor": "white",
             "startlinecolor": "#2a3f5f"
            },
            "type": "carpet"
           }
          ],
          "choropleth": [
           {
            "colorbar": {
             "outlinewidth": 0,
             "ticks": ""
            },
            "type": "choropleth"
           }
          ],
          "contour": [
           {
            "colorbar": {
             "outlinewidth": 0,
             "ticks": ""
            },
            "colorscale": [
             [
              0,
              "#0d0887"
             ],
             [
              0.1111111111111111,
              "#46039f"
             ],
             [
              0.2222222222222222,
              "#7201a8"
             ],
             [
              0.3333333333333333,
              "#9c179e"
             ],
             [
              0.4444444444444444,
              "#bd3786"
             ],
             [
              0.5555555555555556,
              "#d8576b"
             ],
             [
              0.6666666666666666,
              "#ed7953"
             ],
             [
              0.7777777777777778,
              "#fb9f3a"
             ],
             [
              0.8888888888888888,
              "#fdca26"
             ],
             [
              1,
              "#f0f921"
             ]
            ],
            "type": "contour"
           }
          ],
          "contourcarpet": [
           {
            "colorbar": {
             "outlinewidth": 0,
             "ticks": ""
            },
            "type": "contourcarpet"
           }
          ],
          "heatmap": [
           {
            "colorbar": {
             "outlinewidth": 0,
             "ticks": ""
            },
            "colorscale": [
             [
              0,
              "#0d0887"
             ],
             [
              0.1111111111111111,
              "#46039f"
             ],
             [
              0.2222222222222222,
              "#7201a8"
             ],
             [
              0.3333333333333333,
              "#9c179e"
             ],
             [
              0.4444444444444444,
              "#bd3786"
             ],
             [
              0.5555555555555556,
              "#d8576b"
             ],
             [
              0.6666666666666666,
              "#ed7953"
             ],
             [
              0.7777777777777778,
              "#fb9f3a"
             ],
             [
              0.8888888888888888,
              "#fdca26"
             ],
             [
              1,
              "#f0f921"
             ]
            ],
            "type": "heatmap"
           }
          ],
          "histogram": [
           {
            "marker": {
             "pattern": {
              "fillmode": "overlay",
              "size": 10,
              "solidity": 0.2
             }
            },
            "type": "histogram"
           }
          ],
          "histogram2d": [
           {
            "colorbar": {
             "outlinewidth": 0,
             "ticks": ""
            },
            "colorscale": [
             [
              0,
              "#0d0887"
             ],
             [
              0.1111111111111111,
              "#46039f"
             ],
             [
              0.2222222222222222,
              "#7201a8"
             ],
             [
              0.3333333333333333,
              "#9c179e"
             ],
             [
              0.4444444444444444,
              "#bd3786"
             ],
             [
              0.5555555555555556,
              "#d8576b"
             ],
             [
              0.6666666666666666,
              "#ed7953"
             ],
             [
              0.7777777777777778,
              "#fb9f3a"
             ],
             [
              0.8888888888888888,
              "#fdca26"
             ],
             [
              1,
              "#f0f921"
             ]
            ],
            "type": "histogram2d"
           }
          ],
          "histogram2dcontour": [
           {
            "colorbar": {
             "outlinewidth": 0,
             "ticks": ""
            },
            "colorscale": [
             [
              0,
              "#0d0887"
             ],
             [
              0.1111111111111111,
              "#46039f"
             ],
             [
              0.2222222222222222,
              "#7201a8"
             ],
             [
              0.3333333333333333,
              "#9c179e"
             ],
             [
              0.4444444444444444,
              "#bd3786"
             ],
             [
              0.5555555555555556,
              "#d8576b"
             ],
             [
              0.6666666666666666,
              "#ed7953"
             ],
             [
              0.7777777777777778,
              "#fb9f3a"
             ],
             [
              0.8888888888888888,
              "#fdca26"
             ],
             [
              1,
              "#f0f921"
             ]
            ],
            "type": "histogram2dcontour"
           }
          ],
          "mesh3d": [
           {
            "colorbar": {
             "outlinewidth": 0,
             "ticks": ""
            },
            "type": "mesh3d"
           }
          ],
          "parcoords": [
           {
            "line": {
             "colorbar": {
              "outlinewidth": 0,
              "ticks": ""
             }
            },
            "type": "parcoords"
           }
          ],
          "pie": [
           {
            "automargin": true,
            "type": "pie"
           }
          ],
          "scatter": [
           {
            "fillpattern": {
             "fillmode": "overlay",
             "size": 10,
             "solidity": 0.2
            },
            "type": "scatter"
           }
          ],
          "scatter3d": [
           {
            "line": {
             "colorbar": {
              "outlinewidth": 0,
              "ticks": ""
             }
            },
            "marker": {
             "colorbar": {
              "outlinewidth": 0,
              "ticks": ""
             }
            },
            "type": "scatter3d"
           }
          ],
          "scattercarpet": [
           {
            "marker": {
             "colorbar": {
              "outlinewidth": 0,
              "ticks": ""
             }
            },
            "type": "scattercarpet"
           }
          ],
          "scattergeo": [
           {
            "marker": {
             "colorbar": {
              "outlinewidth": 0,
              "ticks": ""
             }
            },
            "type": "scattergeo"
           }
          ],
          "scattergl": [
           {
            "marker": {
             "colorbar": {
              "outlinewidth": 0,
              "ticks": ""
             }
            },
            "type": "scattergl"
           }
          ],
          "scattermap": [
           {
            "marker": {
             "colorbar": {
              "outlinewidth": 0,
              "ticks": ""
             }
            },
            "type": "scattermap"
           }
          ],
          "scattermapbox": [
           {
            "marker": {
             "colorbar": {
              "outlinewidth": 0,
              "ticks": ""
             }
            },
            "type": "scattermapbox"
           }
          ],
          "scatterpolar": [
           {
            "marker": {
             "colorbar": {
              "outlinewidth": 0,
              "ticks": ""
             }
            },
            "type": "scatterpolar"
           }
          ],
          "scatterpolargl": [
           {
            "marker": {
             "colorbar": {
              "outlinewidth": 0,
              "ticks": ""
             }
            },
            "type": "scatterpolargl"
           }
          ],
          "scatterternary": [
           {
            "marker": {
             "colorbar": {
              "outlinewidth": 0,
              "ticks": ""
             }
            },
            "type": "scatterternary"
           }
          ],
          "surface": [
           {
            "colorbar": {
             "outlinewidth": 0,
             "ticks": ""
            },
            "colorscale": [
             [
              0,
              "#0d0887"
             ],
             [
              0.1111111111111111,
              "#46039f"
             ],
             [
              0.2222222222222222,
              "#7201a8"
             ],
             [
              0.3333333333333333,
              "#9c179e"
             ],
             [
              0.4444444444444444,
              "#bd3786"
             ],
             [
              0.5555555555555556,
              "#d8576b"
             ],
             [
              0.6666666666666666,
              "#ed7953"
             ],
             [
              0.7777777777777778,
              "#fb9f3a"
             ],
             [
              0.8888888888888888,
              "#fdca26"
             ],
             [
              1,
              "#f0f921"
             ]
            ],
            "type": "surface"
           }
          ],
          "table": [
           {
            "cells": {
             "fill": {
              "color": "#EBF0F8"
             },
             "line": {
              "color": "white"
             }
            },
            "header": {
             "fill": {
              "color": "#C8D4E3"
             },
             "line": {
              "color": "white"
             }
            },
            "type": "table"
           }
          ]
         },
         "layout": {
          "annotationdefaults": {
           "arrowcolor": "#2a3f5f",
           "arrowhead": 0,
           "arrowwidth": 1
          },
          "autotypenumbers": "strict",
          "coloraxis": {
           "colorbar": {
            "outlinewidth": 0,
            "ticks": ""
           }
          },
          "colorscale": {
           "diverging": [
            [
             0,
             "#8e0152"
            ],
            [
             0.1,
             "#c51b7d"
            ],
            [
             0.2,
             "#de77ae"
            ],
            [
             0.3,
             "#f1b6da"
            ],
            [
             0.4,
             "#fde0ef"
            ],
            [
             0.5,
             "#f7f7f7"
            ],
            [
             0.6,
             "#e6f5d0"
            ],
            [
             0.7,
             "#b8e186"
            ],
            [
             0.8,
             "#7fbc41"
            ],
            [
             0.9,
             "#4d9221"
            ],
            [
             1,
             "#276419"
            ]
           ],
           "sequential": [
            [
             0,
             "#0d0887"
            ],
            [
             0.1111111111111111,
             "#46039f"
            ],
            [
             0.2222222222222222,
             "#7201a8"
            ],
            [
             0.3333333333333333,
             "#9c179e"
            ],
            [
             0.4444444444444444,
             "#bd3786"
            ],
            [
             0.5555555555555556,
             "#d8576b"
            ],
            [
             0.6666666666666666,
             "#ed7953"
            ],
            [
             0.7777777777777778,
             "#fb9f3a"
            ],
            [
             0.8888888888888888,
             "#fdca26"
            ],
            [
             1,
             "#f0f921"
            ]
           ],
           "sequentialminus": [
            [
             0,
             "#0d0887"
            ],
            [
             0.1111111111111111,
             "#46039f"
            ],
            [
             0.2222222222222222,
             "#7201a8"
            ],
            [
             0.3333333333333333,
             "#9c179e"
            ],
            [
             0.4444444444444444,
             "#bd3786"
            ],
            [
             0.5555555555555556,
             "#d8576b"
            ],
            [
             0.6666666666666666,
             "#ed7953"
            ],
            [
             0.7777777777777778,
             "#fb9f3a"
            ],
            [
             0.8888888888888888,
             "#fdca26"
            ],
            [
             1,
             "#f0f921"
            ]
           ]
          },
          "colorway": [
           "#636efa",
           "#EF553B",
           "#00cc96",
           "#ab63fa",
           "#FFA15A",
           "#19d3f3",
           "#FF6692",
           "#B6E880",
           "#FF97FF",
           "#FECB52"
          ],
          "font": {
           "color": "#2a3f5f"
          },
          "geo": {
           "bgcolor": "white",
           "lakecolor": "white",
           "landcolor": "#E5ECF6",
           "showlakes": true,
           "showland": true,
           "subunitcolor": "white"
          },
          "hoverlabel": {
           "align": "left"
          },
          "hovermode": "closest",
          "mapbox": {
           "style": "light"
          },
          "paper_bgcolor": "white",
          "plot_bgcolor": "#E5ECF6",
          "polar": {
           "angularaxis": {
            "gridcolor": "white",
            "linecolor": "white",
            "ticks": ""
           },
           "bgcolor": "#E5ECF6",
           "radialaxis": {
            "gridcolor": "white",
            "linecolor": "white",
            "ticks": ""
           }
          },
          "scene": {
           "xaxis": {
            "backgroundcolor": "#E5ECF6",
            "gridcolor": "white",
            "gridwidth": 2,
            "linecolor": "white",
            "showbackground": true,
            "ticks": "",
            "zerolinecolor": "white"
           },
           "yaxis": {
            "backgroundcolor": "#E5ECF6",
            "gridcolor": "white",
            "gridwidth": 2,
            "linecolor": "white",
            "showbackground": true,
            "ticks": "",
            "zerolinecolor": "white"
           },
           "zaxis": {
            "backgroundcolor": "#E5ECF6",
            "gridcolor": "white",
            "gridwidth": 2,
            "linecolor": "white",
            "showbackground": true,
            "ticks": "",
            "zerolinecolor": "white"
           }
          },
          "shapedefaults": {
           "line": {
            "color": "#2a3f5f"
           }
          },
          "ternary": {
           "aaxis": {
            "gridcolor": "white",
            "linecolor": "white",
            "ticks": ""
           },
           "baxis": {
            "gridcolor": "white",
            "linecolor": "white",
            "ticks": ""
           },
           "bgcolor": "#E5ECF6",
           "caxis": {
            "gridcolor": "white",
            "linecolor": "white",
            "ticks": ""
           }
          },
          "title": {
           "x": 0.05
          },
          "xaxis": {
           "automargin": true,
           "gridcolor": "white",
           "linecolor": "white",
           "ticks": "",
           "title": {
            "standoff": 15
           },
           "zerolinecolor": "white",
           "zerolinewidth": 2
          },
          "yaxis": {
           "automargin": true,
           "gridcolor": "white",
           "linecolor": "white",
           "ticks": "",
           "title": {
            "standoff": 15
           },
           "zerolinecolor": "white",
           "zerolinewidth": 2
          }
         }
        },
        "title": {
         "text": "Primary Somatosensory areas by hemisphere, p1-7 (n=3) and p7-13 (n=9)"
        },
        "violinmode": "group",
        "xaxis": {
         "anchor": "y",
         "domain": [
          0,
          1
         ],
         "title": {
          "text": "Subdivided"
         }
        },
        "yaxis": {
         "anchor": "x",
         "domain": [
          0,
          1
         ],
         "title": {
          "text": "count"
         }
        }
       }
      }
     },
     "metadata": {},
     "output_type": "display_data"
    }
   ],
   "source": [
    "plot_count_zoomed_sub(\n",
    "    Somato_areas,\n",
    "    \"Primary Somatosensory areas by hemisphere, p1-7 (n=3) and p7-13 (n=9)\",\n",
    ")"
   ]
  },
  {
   "cell_type": "code",
   "execution_count": 68,
   "id": "0fffd7f6",
   "metadata": {},
   "outputs": [
    {
     "data": {
      "application/vnd.plotly.v1+json": {
       "config": {
        "plotlyServerURL": "https://plotly.com"
       },
       "data": [
        {
         "alignmentgroup": "True",
         "box": {
          "visible": true
         },
         "hovertemplate": "age=p1-7<br>Subdivided=%{x}<br>scaled count=%{y}<extra></extra>",
         "legendgroup": "p1-7",
         "marker": {
          "color": "orange"
         },
         "meanline": {
          "visible": true
         },
         "name": "p1-7",
         "offsetgroup": "p1-7",
         "orientation": "v",
         "scalegroup": "True",
         "showlegend": true,
         "type": "violin",
         "x": [
          "Primary somatosensory area",
          "Primary somatosensory area",
          "Supplemental somatosensory area",
          "Supplemental somatosensory area",
          "Primary somatosensory area",
          "Primary somatosensory area",
          "Primary somatosensory area",
          "Primary somatosensory area",
          "Primary somatosensory area",
          "Primary somatosensory area",
          "Supplemental somatosensory area",
          "Primary somatosensory area",
          "Primary somatosensory area",
          "Primary somatosensory area",
          "Primary somatosensory area",
          "Primary somatosensory area",
          "Primary somatosensory area",
          "Primary somatosensory area",
          "Primary somatosensory area",
          "Primary somatosensory area",
          "Supplemental somatosensory area",
          "Primary somatosensory area",
          "Primary somatosensory area",
          "Primary somatosensory area",
          "Primary somatosensory area"
         ],
         "x0": " ",
         "xaxis": "x",
         "y": {
          "bdata": "8wRe+pQOpT/zBF76lA6lP/MEXvqUDpU/8wRe+pQOpT/zBF76lA6VP/MEXvqUDpU/8wRe+pQOlT/zBF76lA6VP/MEXvqUDqU/8wRe+pQOlT/zBF76lA6VPxWi8YcTf2s/FaLxhxN/Wz8VovGHE39rPxWi8YcTf1s/FaLxhxN/iz9taW6Db9FXP8gDSmTLxY0/bWlug2/RVz9taW6Db9FXP21pboNv0Xc/bWlug2/RVz9taW6Db9FXP21pboNv0Vc/bWlug2/RVz8=",
          "dtype": "f8"
         },
         "y0": " ",
         "yaxis": "y"
        },
        {
         "alignmentgroup": "True",
         "box": {
          "visible": true
         },
         "hovertemplate": "age=p7-13<br>Subdivided=%{x}<br>scaled count=%{y}<extra></extra>",
         "legendgroup": "p7-13",
         "marker": {
          "color": "magenta"
         },
         "meanline": {
          "visible": true
         },
         "name": "p7-13",
         "offsetgroup": "p7-13",
         "orientation": "v",
         "scalegroup": "True",
         "showlegend": true,
         "type": "violin",
         "x": [
          "Primary somatosensory area",
          "Primary somatosensory area",
          "Primary somatosensory area",
          "Primary somatosensory area",
          "Primary somatosensory area",
          "Primary somatosensory area",
          "Primary somatosensory area",
          "Primary somatosensory area",
          "Primary somatosensory area",
          "Primary somatosensory area",
          "Primary somatosensory area",
          "Primary somatosensory area",
          "Primary somatosensory area",
          "Primary somatosensory area",
          "Primary somatosensory area",
          "Primary somatosensory area",
          "Primary somatosensory area",
          "Primary somatosensory area",
          "Supplemental somatosensory area",
          "Primary somatosensory area",
          "Primary somatosensory area",
          "Primary somatosensory area",
          "Supplemental somatosensory area",
          "Primary somatosensory area",
          "Supplemental somatosensory area",
          "Primary somatosensory area",
          "Primary somatosensory area",
          "Primary somatosensory area",
          "Primary somatosensory area",
          "Primary somatosensory area",
          "Primary somatosensory area",
          "Primary somatosensory area",
          "Primary somatosensory area",
          "Primary somatosensory area",
          "Primary somatosensory area",
          "Primary somatosensory area",
          "Primary somatosensory area",
          "Primary somatosensory area",
          "Primary somatosensory area",
          "Primary somatosensory area",
          "Primary somatosensory area",
          "Primary somatosensory area",
          "Primary somatosensory area",
          "Supplemental somatosensory area",
          "Supplemental somatosensory area",
          "Primary somatosensory area",
          "Primary somatosensory area",
          "Supplemental somatosensory area",
          "Primary somatosensory area",
          "Primary somatosensory area",
          "Primary somatosensory area",
          "Supplemental somatosensory area",
          "Primary somatosensory area",
          "Primary somatosensory area",
          "Primary somatosensory area",
          "Supplemental somatosensory area",
          "Primary somatosensory area"
         ],
         "x0": " ",
         "xaxis": "x",
         "y": {
          "bdata": "oHJ2C78akz+gcnYLvxqTP6Bydgu/GrM/oHJ2C78akz+gcnYLvxqTP6Bydgu/GpM/3iHFpuPrhD/eIcWm4+uUP94hxabj64Q/3iHFpuPrhD/eIcWm4+uEP94hxabj64Q/3iHFpuPrhD/eIcWm4+uEP94hxabj65Q/3iHFpuPrhD9WanaQ3CaqP94hxabj66Q/3iHFpuPrhD9OGjaT4OqZP04aNpPg6pk/Tho2k+DqmT/oVpW2o6OkP5v1PPVxlnc/m/U89XGWhz+b9Tz1cZZ3P5v1PPVxlnc/AjOMcg58rT80uO131bChPzS47XfVsJE/TpTkM0CJuj+b9Tz1cZZ3P5v1PPVxlpc/m/U89XGWhz+kZiQvld6nP6RmJC+V3qc/pGYkL5Xetz+gcnYLvxqTP6Bydgu/GpM/oHJ2C78asz+gcnYLvxqTP6Bydgu/GpM/oHJ2C78akz9n5SfEWfnpP+wdUwN7x7Q/7B1TA3vHtD/irPyEOCvPP1CIs/IT4vA/7B1TA3vHxD/sHVMDe8fEP+wdUwN7x8Q/RhdddNFF+z/sHVMDe8e0P+wdUwN7x7Q/jgs2qizZiD+OCzaqLNmIP44LNqos2Zg/",
          "dtype": "f8"
         },
         "y0": " ",
         "yaxis": "y"
        }
       ],
       "layout": {
        "legend": {
         "title": {
          "text": "age"
         },
         "tracegroupgap": 0
        },
        "template": {
         "data": {
          "bar": [
           {
            "error_x": {
             "color": "#2a3f5f"
            },
            "error_y": {
             "color": "#2a3f5f"
            },
            "marker": {
             "line": {
              "color": "#E5ECF6",
              "width": 0.5
             },
             "pattern": {
              "fillmode": "overlay",
              "size": 10,
              "solidity": 0.2
             }
            },
            "type": "bar"
           }
          ],
          "barpolar": [
           {
            "marker": {
             "line": {
              "color": "#E5ECF6",
              "width": 0.5
             },
             "pattern": {
              "fillmode": "overlay",
              "size": 10,
              "solidity": 0.2
             }
            },
            "type": "barpolar"
           }
          ],
          "carpet": [
           {
            "aaxis": {
             "endlinecolor": "#2a3f5f",
             "gridcolor": "white",
             "linecolor": "white",
             "minorgridcolor": "white",
             "startlinecolor": "#2a3f5f"
            },
            "baxis": {
             "endlinecolor": "#2a3f5f",
             "gridcolor": "white",
             "linecolor": "white",
             "minorgridcolor": "white",
             "startlinecolor": "#2a3f5f"
            },
            "type": "carpet"
           }
          ],
          "choropleth": [
           {
            "colorbar": {
             "outlinewidth": 0,
             "ticks": ""
            },
            "type": "choropleth"
           }
          ],
          "contour": [
           {
            "colorbar": {
             "outlinewidth": 0,
             "ticks": ""
            },
            "colorscale": [
             [
              0,
              "#0d0887"
             ],
             [
              0.1111111111111111,
              "#46039f"
             ],
             [
              0.2222222222222222,
              "#7201a8"
             ],
             [
              0.3333333333333333,
              "#9c179e"
             ],
             [
              0.4444444444444444,
              "#bd3786"
             ],
             [
              0.5555555555555556,
              "#d8576b"
             ],
             [
              0.6666666666666666,
              "#ed7953"
             ],
             [
              0.7777777777777778,
              "#fb9f3a"
             ],
             [
              0.8888888888888888,
              "#fdca26"
             ],
             [
              1,
              "#f0f921"
             ]
            ],
            "type": "contour"
           }
          ],
          "contourcarpet": [
           {
            "colorbar": {
             "outlinewidth": 0,
             "ticks": ""
            },
            "type": "contourcarpet"
           }
          ],
          "heatmap": [
           {
            "colorbar": {
             "outlinewidth": 0,
             "ticks": ""
            },
            "colorscale": [
             [
              0,
              "#0d0887"
             ],
             [
              0.1111111111111111,
              "#46039f"
             ],
             [
              0.2222222222222222,
              "#7201a8"
             ],
             [
              0.3333333333333333,
              "#9c179e"
             ],
             [
              0.4444444444444444,
              "#bd3786"
             ],
             [
              0.5555555555555556,
              "#d8576b"
             ],
             [
              0.6666666666666666,
              "#ed7953"
             ],
             [
              0.7777777777777778,
              "#fb9f3a"
             ],
             [
              0.8888888888888888,
              "#fdca26"
             ],
             [
              1,
              "#f0f921"
             ]
            ],
            "type": "heatmap"
           }
          ],
          "histogram": [
           {
            "marker": {
             "pattern": {
              "fillmode": "overlay",
              "size": 10,
              "solidity": 0.2
             }
            },
            "type": "histogram"
           }
          ],
          "histogram2d": [
           {
            "colorbar": {
             "outlinewidth": 0,
             "ticks": ""
            },
            "colorscale": [
             [
              0,
              "#0d0887"
             ],
             [
              0.1111111111111111,
              "#46039f"
             ],
             [
              0.2222222222222222,
              "#7201a8"
             ],
             [
              0.3333333333333333,
              "#9c179e"
             ],
             [
              0.4444444444444444,
              "#bd3786"
             ],
             [
              0.5555555555555556,
              "#d8576b"
             ],
             [
              0.6666666666666666,
              "#ed7953"
             ],
             [
              0.7777777777777778,
              "#fb9f3a"
             ],
             [
              0.8888888888888888,
              "#fdca26"
             ],
             [
              1,
              "#f0f921"
             ]
            ],
            "type": "histogram2d"
           }
          ],
          "histogram2dcontour": [
           {
            "colorbar": {
             "outlinewidth": 0,
             "ticks": ""
            },
            "colorscale": [
             [
              0,
              "#0d0887"
             ],
             [
              0.1111111111111111,
              "#46039f"
             ],
             [
              0.2222222222222222,
              "#7201a8"
             ],
             [
              0.3333333333333333,
              "#9c179e"
             ],
             [
              0.4444444444444444,
              "#bd3786"
             ],
             [
              0.5555555555555556,
              "#d8576b"
             ],
             [
              0.6666666666666666,
              "#ed7953"
             ],
             [
              0.7777777777777778,
              "#fb9f3a"
             ],
             [
              0.8888888888888888,
              "#fdca26"
             ],
             [
              1,
              "#f0f921"
             ]
            ],
            "type": "histogram2dcontour"
           }
          ],
          "mesh3d": [
           {
            "colorbar": {
             "outlinewidth": 0,
             "ticks": ""
            },
            "type": "mesh3d"
           }
          ],
          "parcoords": [
           {
            "line": {
             "colorbar": {
              "outlinewidth": 0,
              "ticks": ""
             }
            },
            "type": "parcoords"
           }
          ],
          "pie": [
           {
            "automargin": true,
            "type": "pie"
           }
          ],
          "scatter": [
           {
            "fillpattern": {
             "fillmode": "overlay",
             "size": 10,
             "solidity": 0.2
            },
            "type": "scatter"
           }
          ],
          "scatter3d": [
           {
            "line": {
             "colorbar": {
              "outlinewidth": 0,
              "ticks": ""
             }
            },
            "marker": {
             "colorbar": {
              "outlinewidth": 0,
              "ticks": ""
             }
            },
            "type": "scatter3d"
           }
          ],
          "scattercarpet": [
           {
            "marker": {
             "colorbar": {
              "outlinewidth": 0,
              "ticks": ""
             }
            },
            "type": "scattercarpet"
           }
          ],
          "scattergeo": [
           {
            "marker": {
             "colorbar": {
              "outlinewidth": 0,
              "ticks": ""
             }
            },
            "type": "scattergeo"
           }
          ],
          "scattergl": [
           {
            "marker": {
             "colorbar": {
              "outlinewidth": 0,
              "ticks": ""
             }
            },
            "type": "scattergl"
           }
          ],
          "scattermap": [
           {
            "marker": {
             "colorbar": {
              "outlinewidth": 0,
              "ticks": ""
             }
            },
            "type": "scattermap"
           }
          ],
          "scattermapbox": [
           {
            "marker": {
             "colorbar": {
              "outlinewidth": 0,
              "ticks": ""
             }
            },
            "type": "scattermapbox"
           }
          ],
          "scatterpolar": [
           {
            "marker": {
             "colorbar": {
              "outlinewidth": 0,
              "ticks": ""
             }
            },
            "type": "scatterpolar"
           }
          ],
          "scatterpolargl": [
           {
            "marker": {
             "colorbar": {
              "outlinewidth": 0,
              "ticks": ""
             }
            },
            "type": "scatterpolargl"
           }
          ],
          "scatterternary": [
           {
            "marker": {
             "colorbar": {
              "outlinewidth": 0,
              "ticks": ""
             }
            },
            "type": "scatterternary"
           }
          ],
          "surface": [
           {
            "colorbar": {
             "outlinewidth": 0,
             "ticks": ""
            },
            "colorscale": [
             [
              0,
              "#0d0887"
             ],
             [
              0.1111111111111111,
              "#46039f"
             ],
             [
              0.2222222222222222,
              "#7201a8"
             ],
             [
              0.3333333333333333,
              "#9c179e"
             ],
             [
              0.4444444444444444,
              "#bd3786"
             ],
             [
              0.5555555555555556,
              "#d8576b"
             ],
             [
              0.6666666666666666,
              "#ed7953"
             ],
             [
              0.7777777777777778,
              "#fb9f3a"
             ],
             [
              0.8888888888888888,
              "#fdca26"
             ],
             [
              1,
              "#f0f921"
             ]
            ],
            "type": "surface"
           }
          ],
          "table": [
           {
            "cells": {
             "fill": {
              "color": "#EBF0F8"
             },
             "line": {
              "color": "white"
             }
            },
            "header": {
             "fill": {
              "color": "#C8D4E3"
             },
             "line": {
              "color": "white"
             }
            },
            "type": "table"
           }
          ]
         },
         "layout": {
          "annotationdefaults": {
           "arrowcolor": "#2a3f5f",
           "arrowhead": 0,
           "arrowwidth": 1
          },
          "autotypenumbers": "strict",
          "coloraxis": {
           "colorbar": {
            "outlinewidth": 0,
            "ticks": ""
           }
          },
          "colorscale": {
           "diverging": [
            [
             0,
             "#8e0152"
            ],
            [
             0.1,
             "#c51b7d"
            ],
            [
             0.2,
             "#de77ae"
            ],
            [
             0.3,
             "#f1b6da"
            ],
            [
             0.4,
             "#fde0ef"
            ],
            [
             0.5,
             "#f7f7f7"
            ],
            [
             0.6,
             "#e6f5d0"
            ],
            [
             0.7,
             "#b8e186"
            ],
            [
             0.8,
             "#7fbc41"
            ],
            [
             0.9,
             "#4d9221"
            ],
            [
             1,
             "#276419"
            ]
           ],
           "sequential": [
            [
             0,
             "#0d0887"
            ],
            [
             0.1111111111111111,
             "#46039f"
            ],
            [
             0.2222222222222222,
             "#7201a8"
            ],
            [
             0.3333333333333333,
             "#9c179e"
            ],
            [
             0.4444444444444444,
             "#bd3786"
            ],
            [
             0.5555555555555556,
             "#d8576b"
            ],
            [
             0.6666666666666666,
             "#ed7953"
            ],
            [
             0.7777777777777778,
             "#fb9f3a"
            ],
            [
             0.8888888888888888,
             "#fdca26"
            ],
            [
             1,
             "#f0f921"
            ]
           ],
           "sequentialminus": [
            [
             0,
             "#0d0887"
            ],
            [
             0.1111111111111111,
             "#46039f"
            ],
            [
             0.2222222222222222,
             "#7201a8"
            ],
            [
             0.3333333333333333,
             "#9c179e"
            ],
            [
             0.4444444444444444,
             "#bd3786"
            ],
            [
             0.5555555555555556,
             "#d8576b"
            ],
            [
             0.6666666666666666,
             "#ed7953"
            ],
            [
             0.7777777777777778,
             "#fb9f3a"
            ],
            [
             0.8888888888888888,
             "#fdca26"
            ],
            [
             1,
             "#f0f921"
            ]
           ]
          },
          "colorway": [
           "#636efa",
           "#EF553B",
           "#00cc96",
           "#ab63fa",
           "#FFA15A",
           "#19d3f3",
           "#FF6692",
           "#B6E880",
           "#FF97FF",
           "#FECB52"
          ],
          "font": {
           "color": "#2a3f5f"
          },
          "geo": {
           "bgcolor": "white",
           "lakecolor": "white",
           "landcolor": "#E5ECF6",
           "showlakes": true,
           "showland": true,
           "subunitcolor": "white"
          },
          "hoverlabel": {
           "align": "left"
          },
          "hovermode": "closest",
          "mapbox": {
           "style": "light"
          },
          "paper_bgcolor": "white",
          "plot_bgcolor": "#E5ECF6",
          "polar": {
           "angularaxis": {
            "gridcolor": "white",
            "linecolor": "white",
            "ticks": ""
           },
           "bgcolor": "#E5ECF6",
           "radialaxis": {
            "gridcolor": "white",
            "linecolor": "white",
            "ticks": ""
           }
          },
          "scene": {
           "xaxis": {
            "backgroundcolor": "#E5ECF6",
            "gridcolor": "white",
            "gridwidth": 2,
            "linecolor": "white",
            "showbackground": true,
            "ticks": "",
            "zerolinecolor": "white"
           },
           "yaxis": {
            "backgroundcolor": "#E5ECF6",
            "gridcolor": "white",
            "gridwidth": 2,
            "linecolor": "white",
            "showbackground": true,
            "ticks": "",
            "zerolinecolor": "white"
           },
           "zaxis": {
            "backgroundcolor": "#E5ECF6",
            "gridcolor": "white",
            "gridwidth": 2,
            "linecolor": "white",
            "showbackground": true,
            "ticks": "",
            "zerolinecolor": "white"
           }
          },
          "shapedefaults": {
           "line": {
            "color": "#2a3f5f"
           }
          },
          "ternary": {
           "aaxis": {
            "gridcolor": "white",
            "linecolor": "white",
            "ticks": ""
           },
           "baxis": {
            "gridcolor": "white",
            "linecolor": "white",
            "ticks": ""
           },
           "bgcolor": "#E5ECF6",
           "caxis": {
            "gridcolor": "white",
            "linecolor": "white",
            "ticks": ""
           }
          },
          "title": {
           "x": 0.05
          },
          "xaxis": {
           "automargin": true,
           "gridcolor": "white",
           "linecolor": "white",
           "ticks": "",
           "title": {
            "standoff": 15
           },
           "zerolinecolor": "white",
           "zerolinewidth": 2
          },
          "yaxis": {
           "automargin": true,
           "gridcolor": "white",
           "linecolor": "white",
           "ticks": "",
           "title": {
            "standoff": 15
           },
           "zerolinecolor": "white",
           "zerolinewidth": 2
          }
         }
        },
        "title": {
         "text": ", Somatosensory areas, p1-7 (n=3) and p7-13 (n=9)"
        },
        "violinmode": "group",
        "xaxis": {
         "anchor": "y",
         "domain": [
          0,
          1
         ],
         "title": {
          "text": "Subdivided"
         }
        },
        "yaxis": {
         "anchor": "x",
         "domain": [
          0,
          1
         ],
         "title": {
          "text": "scaled count"
         }
        }
       }
      }
     },
     "metadata": {},
     "output_type": "display_data"
    }
   ],
   "source": [
    "plot_scaledcount_zoomed_sub(\n",
    "    Somato_areas, \", Somatosensory areas, p1-7 (n=3) and p7-13 (n=9)\"\n",
    ")"
   ]
  },
  {
   "cell_type": "code",
   "execution_count": 69,
   "id": "c13d54ce",
   "metadata": {},
   "outputs": [
    {
     "name": "stderr",
     "output_type": "stream",
     "text": [
      "C:\\Users\\sahet\\AppData\\Local\\Temp\\ipykernel_4516\\4166316725.py:16: FutureWarning:\n",
      "\n",
      "Setting an item of incompatible dtype is deprecated and will raise an error in a future version of pandas. Value 'mouth' has dtype incompatible with int64, please explicitly cast to a compatible dtype first.\n",
      "\n"
     ]
    },
    {
     "data": {
      "text/html": [
       "<div>\n",
       "<style scoped>\n",
       "    .dataframe tbody tr th:only-of-type {\n",
       "        vertical-align: middle;\n",
       "    }\n",
       "\n",
       "    .dataframe tbody tr th {\n",
       "        vertical-align: top;\n",
       "    }\n",
       "\n",
       "    .dataframe thead th {\n",
       "        text-align: right;\n",
       "    }\n",
       "</style>\n",
       "<table border=\"1\" class=\"dataframe\">\n",
       "  <thead>\n",
       "    <tr style=\"text-align: right;\">\n",
       "      <th></th>\n",
       "      <th>Brain</th>\n",
       "      <th>Region ID</th>\n",
       "      <th>General area</th>\n",
       "      <th>Hemisphere</th>\n",
       "      <th>count</th>\n",
       "      <th>scaled count</th>\n",
       "      <th>age</th>\n",
       "      <th>Subdivided</th>\n",
       "      <th>Special Interest</th>\n",
       "    </tr>\n",
       "  </thead>\n",
       "  <tbody>\n",
       "    <tr>\n",
       "      <th>33</th>\n",
       "      <td>n3_20241010_p1_7</td>\n",
       "      <td>1102</td>\n",
       "      <td>Somatosensory areas</td>\n",
       "      <td>ipsilateral</td>\n",
       "      <td>2</td>\n",
       "      <td>0.041127</td>\n",
       "      <td>p1-7</td>\n",
       "      <td>Primary somatosensory area</td>\n",
       "      <td>mouth</td>\n",
       "    </tr>\n",
       "    <tr>\n",
       "      <th>38</th>\n",
       "      <td>n3_20241010_p1_7</td>\n",
       "      <td>854</td>\n",
       "      <td>Somatosensory areas</td>\n",
       "      <td>ipsilateral</td>\n",
       "      <td>2</td>\n",
       "      <td>0.041127</td>\n",
       "      <td>p1-7</td>\n",
       "      <td>Primary somatosensory area</td>\n",
       "      <td>upper limb</td>\n",
       "    </tr>\n",
       "    <tr>\n",
       "      <th>48</th>\n",
       "      <td>n3_20241010_p1_7</td>\n",
       "      <td>201</td>\n",
       "      <td>Somatosensory areas</td>\n",
       "      <td>contralateral</td>\n",
       "      <td>1</td>\n",
       "      <td>0.020563</td>\n",
       "      <td>p1-7</td>\n",
       "      <td>Primary somatosensory area</td>\n",
       "      <td>S1BF</td>\n",
       "    </tr>\n",
       "    <tr>\n",
       "      <th>50</th>\n",
       "      <td>n3_20241010_p1_7</td>\n",
       "      <td>478</td>\n",
       "      <td>Somatosensory areas</td>\n",
       "      <td>contralateral</td>\n",
       "      <td>1</td>\n",
       "      <td>0.020563</td>\n",
       "      <td>p1-7</td>\n",
       "      <td>Primary somatosensory area</td>\n",
       "      <td>lower limb</td>\n",
       "    </tr>\n",
       "    <tr>\n",
       "      <th>58</th>\n",
       "      <td>n3_20241010_p1_7</td>\n",
       "      <td>1030</td>\n",
       "      <td>Somatosensory areas</td>\n",
       "      <td>ipsilateral</td>\n",
       "      <td>1</td>\n",
       "      <td>0.020563</td>\n",
       "      <td>p1-7</td>\n",
       "      <td>Primary somatosensory area</td>\n",
       "      <td>lower limb</td>\n",
       "    </tr>\n",
       "    <tr>\n",
       "      <th>...</th>\n",
       "      <td>...</td>\n",
       "      <td>...</td>\n",
       "      <td>...</td>\n",
       "      <td>...</td>\n",
       "      <td>...</td>\n",
       "      <td>...</td>\n",
       "      <td>...</td>\n",
       "      <td>...</td>\n",
       "      <td>...</td>\n",
       "    </tr>\n",
       "    <tr>\n",
       "      <th>3308</th>\n",
       "      <td>n4_20241209_p7_13</td>\n",
       "      <td>1062</td>\n",
       "      <td>Somatosensory areas</td>\n",
       "      <td>ipsilateral</td>\n",
       "      <td>2</td>\n",
       "      <td>0.024266</td>\n",
       "      <td>p7-13</td>\n",
       "      <td>Primary somatosensory area</td>\n",
       "      <td>S1BF</td>\n",
       "    </tr>\n",
       "    <tr>\n",
       "      <th>3454</th>\n",
       "      <td>n4_20241209_p7_13</td>\n",
       "      <td>950</td>\n",
       "      <td>Somatosensory areas</td>\n",
       "      <td>contralateral</td>\n",
       "      <td>1</td>\n",
       "      <td>0.012133</td>\n",
       "      <td>p7-13</td>\n",
       "      <td>Primary somatosensory area</td>\n",
       "      <td>mouth</td>\n",
       "    </tr>\n",
       "    <tr>\n",
       "      <th>3457</th>\n",
       "      <td>n4_20241209_p7_13</td>\n",
       "      <td>974</td>\n",
       "      <td>Somatosensory areas</td>\n",
       "      <td>contralateral</td>\n",
       "      <td>1</td>\n",
       "      <td>0.012133</td>\n",
       "      <td>p7-13</td>\n",
       "      <td>Primary somatosensory area</td>\n",
       "      <td>mouth</td>\n",
       "    </tr>\n",
       "    <tr>\n",
       "      <th>3464</th>\n",
       "      <td>n4_20241209_p7_13</td>\n",
       "      <td>1111</td>\n",
       "      <td>Somatosensory areas</td>\n",
       "      <td>contralateral</td>\n",
       "      <td>2</td>\n",
       "      <td>0.024266</td>\n",
       "      <td>p7-13</td>\n",
       "      <td>Primary somatosensory area</td>\n",
       "      <td>trunk</td>\n",
       "    </tr>\n",
       "    <tr>\n",
       "      <th>3465</th>\n",
       "      <td>n4_20241209_p7_13</td>\n",
       "      <td>9</td>\n",
       "      <td>Somatosensory areas</td>\n",
       "      <td>contralateral</td>\n",
       "      <td>3</td>\n",
       "      <td>0.036399</td>\n",
       "      <td>p7-13</td>\n",
       "      <td>Primary somatosensory area</td>\n",
       "      <td>trunk</td>\n",
       "    </tr>\n",
       "  </tbody>\n",
       "</table>\n",
       "<p>196 rows × 9 columns</p>\n",
       "</div>"
      ],
      "text/plain": [
       "                  Brain  Region ID         General area     Hemisphere  count  \\\n",
       "33     n3_20241010_p1_7       1102  Somatosensory areas    ipsilateral      2   \n",
       "38     n3_20241010_p1_7        854  Somatosensory areas    ipsilateral      2   \n",
       "48     n3_20241010_p1_7        201  Somatosensory areas  contralateral      1   \n",
       "50     n3_20241010_p1_7        478  Somatosensory areas  contralateral      1   \n",
       "58     n3_20241010_p1_7       1030  Somatosensory areas    ipsilateral      1   \n",
       "...                 ...        ...                  ...            ...    ...   \n",
       "3308  n4_20241209_p7_13       1062  Somatosensory areas    ipsilateral      2   \n",
       "3454  n4_20241209_p7_13        950  Somatosensory areas  contralateral      1   \n",
       "3457  n4_20241209_p7_13        974  Somatosensory areas  contralateral      1   \n",
       "3464  n4_20241209_p7_13       1111  Somatosensory areas  contralateral      2   \n",
       "3465  n4_20241209_p7_13          9  Somatosensory areas  contralateral      3   \n",
       "\n",
       "      scaled count    age                  Subdivided Special Interest  \n",
       "33        0.041127   p1-7  Primary somatosensory area            mouth  \n",
       "38        0.041127   p1-7  Primary somatosensory area       upper limb  \n",
       "48        0.020563   p1-7  Primary somatosensory area             S1BF  \n",
       "50        0.020563   p1-7  Primary somatosensory area       lower limb  \n",
       "58        0.020563   p1-7  Primary somatosensory area       lower limb  \n",
       "...            ...    ...                         ...              ...  \n",
       "3308      0.024266  p7-13  Primary somatosensory area             S1BF  \n",
       "3454      0.012133  p7-13  Primary somatosensory area            mouth  \n",
       "3457      0.012133  p7-13  Primary somatosensory area            mouth  \n",
       "3464      0.024266  p7-13  Primary somatosensory area            trunk  \n",
       "3465      0.036399  p7-13  Primary somatosensory area            trunk  \n",
       "\n",
       "[196 rows x 9 columns]"
      ]
     },
     "execution_count": 69,
     "metadata": {},
     "output_type": "execute_result"
    }
   ],
   "source": [
    "# dataframe with only the primary somatosensory areas and added Special Interest\n",
    "primary_somatosensory_areas = Somato_areas[\n",
    "    Somato_areas[\"Subdivided\"].isin([\"Primary somatosensory area\", \"Special Interest\"])\n",
    "].copy()\n",
    "\n",
    "primary_somatosensory_areas.insert(\n",
    "    8, \"Special Interest\", [0] * len(primary_somatosensory_areas)\n",
    ")\n",
    "\n",
    "for index, row in primary_somatosensory_areas.iterrows():\n",
    "    region_id = row[\"Region ID\"]\n",
    "    special_interest = regions_complete.loc[\n",
    "        regions_complete[\"Region ID\"] == region_id, \"Special Interest\"\n",
    "    ].values[0]\n",
    "    # add the Subdivided values to the Somatosensory_areas DataFrame\n",
    "    primary_somatosensory_areas.at[index, \"Special Interest\"] = special_interest\n",
    "primary_somatosensory_areas"
   ]
  },
  {
   "cell_type": "code",
   "execution_count": 70,
   "id": "75c66689",
   "metadata": {},
   "outputs": [
    {
     "name": "stderr",
     "output_type": "stream",
     "text": [
      "C:\\Users\\sahet\\AppData\\Local\\Temp\\ipykernel_4516\\2186435091.py:17: FutureWarning:\n",
      "\n",
      "Setting an item of incompatible dtype is deprecated and will raise an error in a future version of pandas. Value '0.003401959059182357' has dtype incompatible with int64, please explicitly cast to a compatible dtype first.\n",
      "\n"
     ]
    },
    {
     "data": {
      "text/html": [
       "<div>\n",
       "<style scoped>\n",
       "    .dataframe tbody tr th:only-of-type {\n",
       "        vertical-align: middle;\n",
       "    }\n",
       "\n",
       "    .dataframe tbody tr th {\n",
       "        vertical-align: top;\n",
       "    }\n",
       "\n",
       "    .dataframe thead th {\n",
       "        text-align: right;\n",
       "    }\n",
       "</style>\n",
       "<table border=\"1\" class=\"dataframe\">\n",
       "  <thead>\n",
       "    <tr style=\"text-align: right;\">\n",
       "      <th></th>\n",
       "      <th>Brain</th>\n",
       "      <th>Special Interest</th>\n",
       "      <th>Hemisphere</th>\n",
       "      <th>age</th>\n",
       "      <th>count</th>\n",
       "      <th>scaled count</th>\n",
       "    </tr>\n",
       "  </thead>\n",
       "  <tbody>\n",
       "    <tr>\n",
       "      <th>0</th>\n",
       "      <td>n11_20241103_p1_7</td>\n",
       "      <td>S1BF</td>\n",
       "      <td>contralateral</td>\n",
       "      <td>p1-7</td>\n",
       "      <td>58</td>\n",
       "      <td>0.003402</td>\n",
       "    </tr>\n",
       "    <tr>\n",
       "      <th>1</th>\n",
       "      <td>n11_20241103_p1_7</td>\n",
       "      <td>S1BF</td>\n",
       "      <td>ipsilateral</td>\n",
       "      <td>p1-7</td>\n",
       "      <td>8</td>\n",
       "      <td>0.000469</td>\n",
       "    </tr>\n",
       "    <tr>\n",
       "      <th>2</th>\n",
       "      <td>n11_20241103_p1_7</td>\n",
       "      <td>lower limb</td>\n",
       "      <td>contralateral</td>\n",
       "      <td>p1-7</td>\n",
       "      <td>24</td>\n",
       "      <td>0.001408</td>\n",
       "    </tr>\n",
       "    <tr>\n",
       "      <th>3</th>\n",
       "      <td>n11_20241103_p1_7</td>\n",
       "      <td>lower limb</td>\n",
       "      <td>ipsilateral</td>\n",
       "      <td>p1-7</td>\n",
       "      <td>3</td>\n",
       "      <td>0.000176</td>\n",
       "    </tr>\n",
       "    <tr>\n",
       "      <th>4</th>\n",
       "      <td>n11_20241103_p1_7</td>\n",
       "      <td>mouth</td>\n",
       "      <td>contralateral</td>\n",
       "      <td>p1-7</td>\n",
       "      <td>76</td>\n",
       "      <td>0.004458</td>\n",
       "    </tr>\n",
       "    <tr>\n",
       "      <th>...</th>\n",
       "      <td>...</td>\n",
       "      <td>...</td>\n",
       "      <td>...</td>\n",
       "      <td>...</td>\n",
       "      <td>...</td>\n",
       "      <td>...</td>\n",
       "    </tr>\n",
       "    <tr>\n",
       "      <th>95</th>\n",
       "      <td>n5_20241203_p7_13</td>\n",
       "      <td>upper limb</td>\n",
       "      <td>contralateral</td>\n",
       "      <td>p7-13</td>\n",
       "      <td>24</td>\n",
       "      <td>0.008293</td>\n",
       "    </tr>\n",
       "    <tr>\n",
       "      <th>96</th>\n",
       "      <td>n5_20241203_p7_13</td>\n",
       "      <td>upper limb</td>\n",
       "      <td>ipsilateral</td>\n",
       "      <td>p7-13</td>\n",
       "      <td>1</td>\n",
       "      <td>0.000346</td>\n",
       "    </tr>\n",
       "    <tr>\n",
       "      <th>97</th>\n",
       "      <td>n8_20241203_p7_13</td>\n",
       "      <td>S1BF</td>\n",
       "      <td>ipsilateral</td>\n",
       "      <td>p7-13</td>\n",
       "      <td>3</td>\n",
       "      <td>0.007958</td>\n",
       "    </tr>\n",
       "    <tr>\n",
       "      <th>98</th>\n",
       "      <td>n8_20241203_p7_13</td>\n",
       "      <td>mouth</td>\n",
       "      <td>contralateral</td>\n",
       "      <td>p7-13</td>\n",
       "      <td>2</td>\n",
       "      <td>0.005305</td>\n",
       "    </tr>\n",
       "    <tr>\n",
       "      <th>99</th>\n",
       "      <td>n8_20241203_p7_13</td>\n",
       "      <td>mouth</td>\n",
       "      <td>ipsilateral</td>\n",
       "      <td>p7-13</td>\n",
       "      <td>1</td>\n",
       "      <td>0.002653</td>\n",
       "    </tr>\n",
       "  </tbody>\n",
       "</table>\n",
       "<p>100 rows × 6 columns</p>\n",
       "</div>"
      ],
      "text/plain": [
       "                Brain Special Interest     Hemisphere    age  count  \\\n",
       "0   n11_20241103_p1_7             S1BF  contralateral   p1-7     58   \n",
       "1   n11_20241103_p1_7             S1BF    ipsilateral   p1-7      8   \n",
       "2   n11_20241103_p1_7       lower limb  contralateral   p1-7     24   \n",
       "3   n11_20241103_p1_7       lower limb    ipsilateral   p1-7      3   \n",
       "4   n11_20241103_p1_7            mouth  contralateral   p1-7     76   \n",
       "..                ...              ...            ...    ...    ...   \n",
       "95  n5_20241203_p7_13       upper limb  contralateral  p7-13     24   \n",
       "96  n5_20241203_p7_13       upper limb    ipsilateral  p7-13      1   \n",
       "97  n8_20241203_p7_13             S1BF    ipsilateral  p7-13      3   \n",
       "98  n8_20241203_p7_13            mouth  contralateral  p7-13      2   \n",
       "99  n8_20241203_p7_13            mouth    ipsilateral  p7-13      1   \n",
       "\n",
       "    scaled count  \n",
       "0       0.003402  \n",
       "1       0.000469  \n",
       "2       0.001408  \n",
       "3       0.000176  \n",
       "4       0.004458  \n",
       "..           ...  \n",
       "95      0.008293  \n",
       "96      0.000346  \n",
       "97      0.007958  \n",
       "98      0.005305  \n",
       "99      0.002653  \n",
       "\n",
       "[100 rows x 6 columns]"
      ]
     },
     "execution_count": 70,
     "metadata": {},
     "output_type": "execute_result"
    }
   ],
   "source": [
    "subdivided_S1_filtered = primary_somatosensory_areas[\n",
    "    [\"Brain\", \"age\", \"count\", \"Hemisphere\", \"Special Interest\"]\n",
    "]\n",
    "\n",
    "subdivided_S1_grouped = subdivided_S1_filtered.groupby(\n",
    "    [\"Brain\", \"Special Interest\", \"Hemisphere\", \"age\"], as_index=False\n",
    ")[\"count\"].sum()\n",
    "\n",
    "# add scaled column with 0\n",
    "subdivided_S1_grouped[\"scaled count\"] = 0\n",
    "# scale the counts\n",
    "for index, row in subdivided_S1_grouped.iterrows():\n",
    "    brain_name = row[\"Brain\"]\n",
    "    count = row[\"count\"]\n",
    "    total_count = totals.loc[totals[\"Brain\"] == brain_name, \"total\"].values[0]\n",
    "    scaled_count = 1 / total_count * count\n",
    "    subdivided_S1_grouped.loc[index, \"scaled count\"] = scaled_count\n",
    "subdivided_S1_grouped"
   ]
  },
  {
   "cell_type": "code",
   "execution_count": 82,
   "id": "cf347e5b",
   "metadata": {},
   "outputs": [],
   "source": [
    "def plot_count_zoomed_spec(big_file_long, Title):\n",
    "\n",
    "    df_hemi = big_file_long[big_file_long[\"Hemisphere\"] == \"ipsilateral\"]\n",
    "\n",
    "    area_order_count = (\n",
    "        df_hemi.groupby(\"Special Interest\")[\"count\"]\n",
    "        .max()\n",
    "        .sort_values(ascending=False)\n",
    "        .index.tolist()\n",
    "    )\n",
    "\n",
    "    fig = px.violin(\n",
    "        df_hemi,\n",
    "        y=\"count\",\n",
    "        x=\"Special Interest\",\n",
    "        color=\"age\",\n",
    "        box=True,\n",
    "        # points = \"all\",\n",
    "        color_discrete_map={\"p1-7\": \"orange\", \"p7-13\": \"magenta\"},\n",
    "        title=Title,\n",
    "        category_orders={\"General area\": area_order_count},\n",
    "    )\n",
    "    fig.update_traces(\n",
    "        meanline_visible=True\n",
    "    )  # displays the arithmetic mean of the distribution\n",
    "    fig.update_layout(violinmode=\"group\")  # group left(right violins side-by-side)\n",
    "\n",
    "    return fig"
   ]
  },
  {
   "cell_type": "code",
   "execution_count": 84,
   "id": "bb8e73be",
   "metadata": {},
   "outputs": [],
   "source": [
    "def plot_scaledcount_zoomed_spec(big_file_long, Title):\n",
    "\n",
    "    df_hemi = big_file_long[big_file_long[\"Hemisphere\"] == \"ipsilateral\"]\n",
    "    area_order_scaled_count = (\n",
    "        df_hemi.groupby(\"Special Interest\")[\"count\"]\n",
    "        .max()\n",
    "        .sort_values(ascending=False)\n",
    "        .index.tolist()\n",
    "    )\n",
    "\n",
    "    fig = px.violin(\n",
    "        df_hemi,\n",
    "        y=\"scaled count\",\n",
    "        x=\"Special Interest\",\n",
    "        color=\"age\",\n",
    "        box=True,\n",
    "        # points = \"all\",\n",
    "        color_discrete_map={\"p1-7\": \"orange\", \"p7-13\": \"magenta\"},\n",
    "        title=Title,\n",
    "        category_orders={\"General area\": area_order_scaled_count},\n",
    "    )\n",
    "    fig.update_traces(\n",
    "        meanline_visible=True\n",
    "    )  # displays the arithmetic mean of the distribution\n",
    "    fig.update_layout(violinmode=\"group\")  # group left(right violins side-by-side)\n",
    "\n",
    "    return fig"
   ]
  },
  {
   "cell_type": "code",
   "execution_count": 83,
   "id": "fb386c1a",
   "metadata": {},
   "outputs": [
    {
     "data": {
      "application/vnd.plotly.v1+json": {
       "config": {
        "plotlyServerURL": "https://plotly.com"
       },
       "data": [
        {
         "alignmentgroup": "True",
         "box": {
          "visible": true
         },
         "hovertemplate": "age=p1-7<br>Special Interest=%{x}<br>count=%{y}<extra></extra>",
         "legendgroup": "p1-7",
         "marker": {
          "color": "orange"
         },
         "meanline": {
          "visible": true
         },
         "name": "p1-7",
         "offsetgroup": "p1-7",
         "orientation": "v",
         "scalegroup": "True",
         "showlegend": true,
         "type": "violin",
         "x": [
          "S1BF",
          "lower limb",
          "nose",
          "upper limb",
          "S1BF",
          "lower limb",
          "mouth",
          "trunk",
          "unassigned",
          "upper limb",
          "lower limb",
          "mouth",
          "unassigned"
         ],
         "x0": " ",
         "xaxis": "x",
         "y": {
          "bdata": "CAMBAgMBAgIBAgMMAg==",
          "dtype": "i1"
         },
         "y0": " ",
         "yaxis": "y"
        },
        {
         "alignmentgroup": "True",
         "box": {
          "visible": true
         },
         "hovertemplate": "age=p7-13<br>Special Interest=%{x}<br>count=%{y}<extra></extra>",
         "legendgroup": "p7-13",
         "marker": {
          "color": "magenta"
         },
         "meanline": {
          "visible": true
         },
         "name": "p7-13",
         "offsetgroup": "p7-13",
         "orientation": "v",
         "scalegroup": "True",
         "showlegend": true,
         "type": "violin",
         "x": [
          "S1BF",
          "lower limb",
          "mouth",
          "trunk",
          "upper limb",
          "S1BF",
          "lower limb",
          "mouth",
          "trunk",
          "upper limb",
          "S1BF",
          "lower limb",
          "mouth",
          "nose",
          "trunk",
          "upper limb",
          "S1BF",
          "lower limb",
          "mouth",
          "trunk",
          "unassigned",
          "upper limb",
          "S1BF",
          "mouth",
          "nose",
          "S1BF",
          "mouth",
          "S1BF",
          "lower limb",
          "mouth",
          "nose",
          "trunk",
          "unassigned",
          "upper limb",
          "S1BF",
          "mouth"
         ],
         "x0": " ",
         "xaxis": "x",
         "y": {
          "bdata": "BQEBAQEFAQEBAQkDBAEDAQECAQEDBAEBAQIBCgEBChcBAQMB",
          "dtype": "i1"
         },
         "y0": " ",
         "yaxis": "y"
        }
       ],
       "layout": {
        "legend": {
         "title": {
          "text": "age"
         },
         "tracegroupgap": 0
        },
        "template": {
         "data": {
          "bar": [
           {
            "error_x": {
             "color": "#2a3f5f"
            },
            "error_y": {
             "color": "#2a3f5f"
            },
            "marker": {
             "line": {
              "color": "#E5ECF6",
              "width": 0.5
             },
             "pattern": {
              "fillmode": "overlay",
              "size": 10,
              "solidity": 0.2
             }
            },
            "type": "bar"
           }
          ],
          "barpolar": [
           {
            "marker": {
             "line": {
              "color": "#E5ECF6",
              "width": 0.5
             },
             "pattern": {
              "fillmode": "overlay",
              "size": 10,
              "solidity": 0.2
             }
            },
            "type": "barpolar"
           }
          ],
          "carpet": [
           {
            "aaxis": {
             "endlinecolor": "#2a3f5f",
             "gridcolor": "white",
             "linecolor": "white",
             "minorgridcolor": "white",
             "startlinecolor": "#2a3f5f"
            },
            "baxis": {
             "endlinecolor": "#2a3f5f",
             "gridcolor": "white",
             "linecolor": "white",
             "minorgridcolor": "white",
             "startlinecolor": "#2a3f5f"
            },
            "type": "carpet"
           }
          ],
          "choropleth": [
           {
            "colorbar": {
             "outlinewidth": 0,
             "ticks": ""
            },
            "type": "choropleth"
           }
          ],
          "contour": [
           {
            "colorbar": {
             "outlinewidth": 0,
             "ticks": ""
            },
            "colorscale": [
             [
              0,
              "#0d0887"
             ],
             [
              0.1111111111111111,
              "#46039f"
             ],
             [
              0.2222222222222222,
              "#7201a8"
             ],
             [
              0.3333333333333333,
              "#9c179e"
             ],
             [
              0.4444444444444444,
              "#bd3786"
             ],
             [
              0.5555555555555556,
              "#d8576b"
             ],
             [
              0.6666666666666666,
              "#ed7953"
             ],
             [
              0.7777777777777778,
              "#fb9f3a"
             ],
             [
              0.8888888888888888,
              "#fdca26"
             ],
             [
              1,
              "#f0f921"
             ]
            ],
            "type": "contour"
           }
          ],
          "contourcarpet": [
           {
            "colorbar": {
             "outlinewidth": 0,
             "ticks": ""
            },
            "type": "contourcarpet"
           }
          ],
          "heatmap": [
           {
            "colorbar": {
             "outlinewidth": 0,
             "ticks": ""
            },
            "colorscale": [
             [
              0,
              "#0d0887"
             ],
             [
              0.1111111111111111,
              "#46039f"
             ],
             [
              0.2222222222222222,
              "#7201a8"
             ],
             [
              0.3333333333333333,
              "#9c179e"
             ],
             [
              0.4444444444444444,
              "#bd3786"
             ],
             [
              0.5555555555555556,
              "#d8576b"
             ],
             [
              0.6666666666666666,
              "#ed7953"
             ],
             [
              0.7777777777777778,
              "#fb9f3a"
             ],
             [
              0.8888888888888888,
              "#fdca26"
             ],
             [
              1,
              "#f0f921"
             ]
            ],
            "type": "heatmap"
           }
          ],
          "histogram": [
           {
            "marker": {
             "pattern": {
              "fillmode": "overlay",
              "size": 10,
              "solidity": 0.2
             }
            },
            "type": "histogram"
           }
          ],
          "histogram2d": [
           {
            "colorbar": {
             "outlinewidth": 0,
             "ticks": ""
            },
            "colorscale": [
             [
              0,
              "#0d0887"
             ],
             [
              0.1111111111111111,
              "#46039f"
             ],
             [
              0.2222222222222222,
              "#7201a8"
             ],
             [
              0.3333333333333333,
              "#9c179e"
             ],
             [
              0.4444444444444444,
              "#bd3786"
             ],
             [
              0.5555555555555556,
              "#d8576b"
             ],
             [
              0.6666666666666666,
              "#ed7953"
             ],
             [
              0.7777777777777778,
              "#fb9f3a"
             ],
             [
              0.8888888888888888,
              "#fdca26"
             ],
             [
              1,
              "#f0f921"
             ]
            ],
            "type": "histogram2d"
           }
          ],
          "histogram2dcontour": [
           {
            "colorbar": {
             "outlinewidth": 0,
             "ticks": ""
            },
            "colorscale": [
             [
              0,
              "#0d0887"
             ],
             [
              0.1111111111111111,
              "#46039f"
             ],
             [
              0.2222222222222222,
              "#7201a8"
             ],
             [
              0.3333333333333333,
              "#9c179e"
             ],
             [
              0.4444444444444444,
              "#bd3786"
             ],
             [
              0.5555555555555556,
              "#d8576b"
             ],
             [
              0.6666666666666666,
              "#ed7953"
             ],
             [
              0.7777777777777778,
              "#fb9f3a"
             ],
             [
              0.8888888888888888,
              "#fdca26"
             ],
             [
              1,
              "#f0f921"
             ]
            ],
            "type": "histogram2dcontour"
           }
          ],
          "mesh3d": [
           {
            "colorbar": {
             "outlinewidth": 0,
             "ticks": ""
            },
            "type": "mesh3d"
           }
          ],
          "parcoords": [
           {
            "line": {
             "colorbar": {
              "outlinewidth": 0,
              "ticks": ""
             }
            },
            "type": "parcoords"
           }
          ],
          "pie": [
           {
            "automargin": true,
            "type": "pie"
           }
          ],
          "scatter": [
           {
            "fillpattern": {
             "fillmode": "overlay",
             "size": 10,
             "solidity": 0.2
            },
            "type": "scatter"
           }
          ],
          "scatter3d": [
           {
            "line": {
             "colorbar": {
              "outlinewidth": 0,
              "ticks": ""
             }
            },
            "marker": {
             "colorbar": {
              "outlinewidth": 0,
              "ticks": ""
             }
            },
            "type": "scatter3d"
           }
          ],
          "scattercarpet": [
           {
            "marker": {
             "colorbar": {
              "outlinewidth": 0,
              "ticks": ""
             }
            },
            "type": "scattercarpet"
           }
          ],
          "scattergeo": [
           {
            "marker": {
             "colorbar": {
              "outlinewidth": 0,
              "ticks": ""
             }
            },
            "type": "scattergeo"
           }
          ],
          "scattergl": [
           {
            "marker": {
             "colorbar": {
              "outlinewidth": 0,
              "ticks": ""
             }
            },
            "type": "scattergl"
           }
          ],
          "scattermap": [
           {
            "marker": {
             "colorbar": {
              "outlinewidth": 0,
              "ticks": ""
             }
            },
            "type": "scattermap"
           }
          ],
          "scattermapbox": [
           {
            "marker": {
             "colorbar": {
              "outlinewidth": 0,
              "ticks": ""
             }
            },
            "type": "scattermapbox"
           }
          ],
          "scatterpolar": [
           {
            "marker": {
             "colorbar": {
              "outlinewidth": 0,
              "ticks": ""
             }
            },
            "type": "scatterpolar"
           }
          ],
          "scatterpolargl": [
           {
            "marker": {
             "colorbar": {
              "outlinewidth": 0,
              "ticks": ""
             }
            },
            "type": "scatterpolargl"
           }
          ],
          "scatterternary": [
           {
            "marker": {
             "colorbar": {
              "outlinewidth": 0,
              "ticks": ""
             }
            },
            "type": "scatterternary"
           }
          ],
          "surface": [
           {
            "colorbar": {
             "outlinewidth": 0,
             "ticks": ""
            },
            "colorscale": [
             [
              0,
              "#0d0887"
             ],
             [
              0.1111111111111111,
              "#46039f"
             ],
             [
              0.2222222222222222,
              "#7201a8"
             ],
             [
              0.3333333333333333,
              "#9c179e"
             ],
             [
              0.4444444444444444,
              "#bd3786"
             ],
             [
              0.5555555555555556,
              "#d8576b"
             ],
             [
              0.6666666666666666,
              "#ed7953"
             ],
             [
              0.7777777777777778,
              "#fb9f3a"
             ],
             [
              0.8888888888888888,
              "#fdca26"
             ],
             [
              1,
              "#f0f921"
             ]
            ],
            "type": "surface"
           }
          ],
          "table": [
           {
            "cells": {
             "fill": {
              "color": "#EBF0F8"
             },
             "line": {
              "color": "white"
             }
            },
            "header": {
             "fill": {
              "color": "#C8D4E3"
             },
             "line": {
              "color": "white"
             }
            },
            "type": "table"
           }
          ]
         },
         "layout": {
          "annotationdefaults": {
           "arrowcolor": "#2a3f5f",
           "arrowhead": 0,
           "arrowwidth": 1
          },
          "autotypenumbers": "strict",
          "coloraxis": {
           "colorbar": {
            "outlinewidth": 0,
            "ticks": ""
           }
          },
          "colorscale": {
           "diverging": [
            [
             0,
             "#8e0152"
            ],
            [
             0.1,
             "#c51b7d"
            ],
            [
             0.2,
             "#de77ae"
            ],
            [
             0.3,
             "#f1b6da"
            ],
            [
             0.4,
             "#fde0ef"
            ],
            [
             0.5,
             "#f7f7f7"
            ],
            [
             0.6,
             "#e6f5d0"
            ],
            [
             0.7,
             "#b8e186"
            ],
            [
             0.8,
             "#7fbc41"
            ],
            [
             0.9,
             "#4d9221"
            ],
            [
             1,
             "#276419"
            ]
           ],
           "sequential": [
            [
             0,
             "#0d0887"
            ],
            [
             0.1111111111111111,
             "#46039f"
            ],
            [
             0.2222222222222222,
             "#7201a8"
            ],
            [
             0.3333333333333333,
             "#9c179e"
            ],
            [
             0.4444444444444444,
             "#bd3786"
            ],
            [
             0.5555555555555556,
             "#d8576b"
            ],
            [
             0.6666666666666666,
             "#ed7953"
            ],
            [
             0.7777777777777778,
             "#fb9f3a"
            ],
            [
             0.8888888888888888,
             "#fdca26"
            ],
            [
             1,
             "#f0f921"
            ]
           ],
           "sequentialminus": [
            [
             0,
             "#0d0887"
            ],
            [
             0.1111111111111111,
             "#46039f"
            ],
            [
             0.2222222222222222,
             "#7201a8"
            ],
            [
             0.3333333333333333,
             "#9c179e"
            ],
            [
             0.4444444444444444,
             "#bd3786"
            ],
            [
             0.5555555555555556,
             "#d8576b"
            ],
            [
             0.6666666666666666,
             "#ed7953"
            ],
            [
             0.7777777777777778,
             "#fb9f3a"
            ],
            [
             0.8888888888888888,
             "#fdca26"
            ],
            [
             1,
             "#f0f921"
            ]
           ]
          },
          "colorway": [
           "#636efa",
           "#EF553B",
           "#00cc96",
           "#ab63fa",
           "#FFA15A",
           "#19d3f3",
           "#FF6692",
           "#B6E880",
           "#FF97FF",
           "#FECB52"
          ],
          "font": {
           "color": "#2a3f5f"
          },
          "geo": {
           "bgcolor": "white",
           "lakecolor": "white",
           "landcolor": "#E5ECF6",
           "showlakes": true,
           "showland": true,
           "subunitcolor": "white"
          },
          "hoverlabel": {
           "align": "left"
          },
          "hovermode": "closest",
          "mapbox": {
           "style": "light"
          },
          "paper_bgcolor": "white",
          "plot_bgcolor": "#E5ECF6",
          "polar": {
           "angularaxis": {
            "gridcolor": "white",
            "linecolor": "white",
            "ticks": ""
           },
           "bgcolor": "#E5ECF6",
           "radialaxis": {
            "gridcolor": "white",
            "linecolor": "white",
            "ticks": ""
           }
          },
          "scene": {
           "xaxis": {
            "backgroundcolor": "#E5ECF6",
            "gridcolor": "white",
            "gridwidth": 2,
            "linecolor": "white",
            "showbackground": true,
            "ticks": "",
            "zerolinecolor": "white"
           },
           "yaxis": {
            "backgroundcolor": "#E5ECF6",
            "gridcolor": "white",
            "gridwidth": 2,
            "linecolor": "white",
            "showbackground": true,
            "ticks": "",
            "zerolinecolor": "white"
           },
           "zaxis": {
            "backgroundcolor": "#E5ECF6",
            "gridcolor": "white",
            "gridwidth": 2,
            "linecolor": "white",
            "showbackground": true,
            "ticks": "",
            "zerolinecolor": "white"
           }
          },
          "shapedefaults": {
           "line": {
            "color": "#2a3f5f"
           }
          },
          "ternary": {
           "aaxis": {
            "gridcolor": "white",
            "linecolor": "white",
            "ticks": ""
           },
           "baxis": {
            "gridcolor": "white",
            "linecolor": "white",
            "ticks": ""
           },
           "bgcolor": "#E5ECF6",
           "caxis": {
            "gridcolor": "white",
            "linecolor": "white",
            "ticks": ""
           }
          },
          "title": {
           "x": 0.05
          },
          "xaxis": {
           "automargin": true,
           "gridcolor": "white",
           "linecolor": "white",
           "ticks": "",
           "title": {
            "standoff": 15
           },
           "zerolinecolor": "white",
           "zerolinewidth": 2
          },
          "yaxis": {
           "automargin": true,
           "gridcolor": "white",
           "linecolor": "white",
           "ticks": "",
           "title": {
            "standoff": 15
           },
           "zerolinecolor": "white",
           "zerolinewidth": 2
          }
         }
        },
        "title": {
         "text": "Primary Somatosensory areas, p1-7 (n=3) and p7-13 (n=9)"
        },
        "violinmode": "group",
        "xaxis": {
         "anchor": "y",
         "domain": [
          0,
          1
         ],
         "title": {
          "text": "Special Interest"
         }
        },
        "yaxis": {
         "anchor": "x",
         "domain": [
          0,
          1
         ],
         "title": {
          "text": "count"
         }
        }
       }
      }
     },
     "metadata": {},
     "output_type": "display_data"
    }
   ],
   "source": [
    "plot_count_zoomed_spec(\n",
    "    subdivided_S1_grouped, \"Primary Somatosensory areas, p1-7 (n=3) and p7-13 (n=9)\"\n",
    ")"
   ]
  },
  {
   "cell_type": "code",
   "execution_count": 85,
   "id": "dca9dad3",
   "metadata": {},
   "outputs": [
    {
     "data": {
      "application/vnd.plotly.v1+json": {
       "config": {
        "plotlyServerURL": "https://plotly.com"
       },
       "data": [
        {
         "alignmentgroup": "True",
         "box": {
          "visible": true
         },
         "hovertemplate": "age=p1-7<br>Special Interest=%{x}<br>scaled count=%{y}<extra></extra>",
         "legendgroup": "p1-7",
         "marker": {
          "color": "orange"
         },
         "meanline": {
          "visible": true
         },
         "name": "p1-7",
         "offsetgroup": "p1-7",
         "orientation": "v",
         "scalegroup": "True",
         "showlegend": true,
         "type": "violin",
         "x": [
          "S1BF",
          "lower limb",
          "nose",
          "upper limb",
          "S1BF",
          "lower limb",
          "mouth",
          "trunk",
          "unassigned",
          "upper limb",
          "lower limb",
          "mouth",
          "unassigned"
         ],
         "x0": " ",
         "xaxis": "x",
         "y": {
          "bdata": "WTzVH3jAPj9D7d8XWhAnP1k81R94wA4/WTzVH3jAHj+N/kHF8DRnP7yoAgdB8U4/vKgCB0HxXj+8qAIHQfFeP7yoAgdB8U4/vKgCB0HxXj/5mta/z44wP/ma1r/PjlA/THlzqr8TJj8=",
          "dtype": "f8"
         },
         "y0": " ",
         "yaxis": "y"
        },
        {
         "alignmentgroup": "True",
         "box": {
          "visible": true
         },
         "hovertemplate": "age=p7-13<br>Special Interest=%{x}<br>scaled count=%{y}<extra></extra>",
         "legendgroup": "p7-13",
         "marker": {
          "color": "magenta"
         },
         "meanline": {
          "visible": true
         },
         "name": "p7-13",
         "offsetgroup": "p7-13",
         "orientation": "v",
         "scalegroup": "True",
         "showlegend": true,
         "type": "violin",
         "x": [
          "S1BF",
          "lower limb",
          "mouth",
          "trunk",
          "upper limb",
          "S1BF",
          "lower limb",
          "mouth",
          "trunk",
          "upper limb",
          "S1BF",
          "lower limb",
          "mouth",
          "nose",
          "trunk",
          "upper limb",
          "S1BF",
          "lower limb",
          "mouth",
          "trunk",
          "unassigned",
          "upper limb",
          "S1BF",
          "mouth",
          "nose",
          "S1BF",
          "mouth",
          "S1BF",
          "lower limb",
          "mouth",
          "nose",
          "trunk",
          "unassigned",
          "upper limb",
          "S1BF",
          "mouth"
         ],
         "x0": " ",
         "xaxis": "x",
         "y": {
          "bdata": "5hMxm0uHaj/rD/RICTlFP+sP9EgJOUU/6w/0SAk5RT/rD/RICTlFP+YTMZtLh2o/6w/0SAk5RT/rD/RICTlFP+sP9EgJOUU/6w/0SAk5RT+SKL9V7IJ5P7bF1OPyAWE/ngdx2kOtZj+eB3HaQ61GP7bF1OPyAWE/ngdx2kOtRj9xQYuGp8BgP3FBi4anwHA/cUGLhqfAYD9xQYuGp8BgPyri0En7IHk/cUGLhqfAgD8BPMj6D99UPwE8yPoP31Q/ATzI+g/fVD8FwfOSHKlSPwXB85IcqUI/5u8sLo1ObD+FWYq+PaU2P4VZir49pTY/5u8sLo1ObD9YcPNgxEaAP4VZir49pTY/hVmKvj2lNj/t+7WUDUyAP5H6R8a8umU/",
          "dtype": "f8"
         },
         "y0": " ",
         "yaxis": "y"
        }
       ],
       "layout": {
        "legend": {
         "title": {
          "text": "age"
         },
         "tracegroupgap": 0
        },
        "template": {
         "data": {
          "bar": [
           {
            "error_x": {
             "color": "#2a3f5f"
            },
            "error_y": {
             "color": "#2a3f5f"
            },
            "marker": {
             "line": {
              "color": "#E5ECF6",
              "width": 0.5
             },
             "pattern": {
              "fillmode": "overlay",
              "size": 10,
              "solidity": 0.2
             }
            },
            "type": "bar"
           }
          ],
          "barpolar": [
           {
            "marker": {
             "line": {
              "color": "#E5ECF6",
              "width": 0.5
             },
             "pattern": {
              "fillmode": "overlay",
              "size": 10,
              "solidity": 0.2
             }
            },
            "type": "barpolar"
           }
          ],
          "carpet": [
           {
            "aaxis": {
             "endlinecolor": "#2a3f5f",
             "gridcolor": "white",
             "linecolor": "white",
             "minorgridcolor": "white",
             "startlinecolor": "#2a3f5f"
            },
            "baxis": {
             "endlinecolor": "#2a3f5f",
             "gridcolor": "white",
             "linecolor": "white",
             "minorgridcolor": "white",
             "startlinecolor": "#2a3f5f"
            },
            "type": "carpet"
           }
          ],
          "choropleth": [
           {
            "colorbar": {
             "outlinewidth": 0,
             "ticks": ""
            },
            "type": "choropleth"
           }
          ],
          "contour": [
           {
            "colorbar": {
             "outlinewidth": 0,
             "ticks": ""
            },
            "colorscale": [
             [
              0,
              "#0d0887"
             ],
             [
              0.1111111111111111,
              "#46039f"
             ],
             [
              0.2222222222222222,
              "#7201a8"
             ],
             [
              0.3333333333333333,
              "#9c179e"
             ],
             [
              0.4444444444444444,
              "#bd3786"
             ],
             [
              0.5555555555555556,
              "#d8576b"
             ],
             [
              0.6666666666666666,
              "#ed7953"
             ],
             [
              0.7777777777777778,
              "#fb9f3a"
             ],
             [
              0.8888888888888888,
              "#fdca26"
             ],
             [
              1,
              "#f0f921"
             ]
            ],
            "type": "contour"
           }
          ],
          "contourcarpet": [
           {
            "colorbar": {
             "outlinewidth": 0,
             "ticks": ""
            },
            "type": "contourcarpet"
           }
          ],
          "heatmap": [
           {
            "colorbar": {
             "outlinewidth": 0,
             "ticks": ""
            },
            "colorscale": [
             [
              0,
              "#0d0887"
             ],
             [
              0.1111111111111111,
              "#46039f"
             ],
             [
              0.2222222222222222,
              "#7201a8"
             ],
             [
              0.3333333333333333,
              "#9c179e"
             ],
             [
              0.4444444444444444,
              "#bd3786"
             ],
             [
              0.5555555555555556,
              "#d8576b"
             ],
             [
              0.6666666666666666,
              "#ed7953"
             ],
             [
              0.7777777777777778,
              "#fb9f3a"
             ],
             [
              0.8888888888888888,
              "#fdca26"
             ],
             [
              1,
              "#f0f921"
             ]
            ],
            "type": "heatmap"
           }
          ],
          "histogram": [
           {
            "marker": {
             "pattern": {
              "fillmode": "overlay",
              "size": 10,
              "solidity": 0.2
             }
            },
            "type": "histogram"
           }
          ],
          "histogram2d": [
           {
            "colorbar": {
             "outlinewidth": 0,
             "ticks": ""
            },
            "colorscale": [
             [
              0,
              "#0d0887"
             ],
             [
              0.1111111111111111,
              "#46039f"
             ],
             [
              0.2222222222222222,
              "#7201a8"
             ],
             [
              0.3333333333333333,
              "#9c179e"
             ],
             [
              0.4444444444444444,
              "#bd3786"
             ],
             [
              0.5555555555555556,
              "#d8576b"
             ],
             [
              0.6666666666666666,
              "#ed7953"
             ],
             [
              0.7777777777777778,
              "#fb9f3a"
             ],
             [
              0.8888888888888888,
              "#fdca26"
             ],
             [
              1,
              "#f0f921"
             ]
            ],
            "type": "histogram2d"
           }
          ],
          "histogram2dcontour": [
           {
            "colorbar": {
             "outlinewidth": 0,
             "ticks": ""
            },
            "colorscale": [
             [
              0,
              "#0d0887"
             ],
             [
              0.1111111111111111,
              "#46039f"
             ],
             [
              0.2222222222222222,
              "#7201a8"
             ],
             [
              0.3333333333333333,
              "#9c179e"
             ],
             [
              0.4444444444444444,
              "#bd3786"
             ],
             [
              0.5555555555555556,
              "#d8576b"
             ],
             [
              0.6666666666666666,
              "#ed7953"
             ],
             [
              0.7777777777777778,
              "#fb9f3a"
             ],
             [
              0.8888888888888888,
              "#fdca26"
             ],
             [
              1,
              "#f0f921"
             ]
            ],
            "type": "histogram2dcontour"
           }
          ],
          "mesh3d": [
           {
            "colorbar": {
             "outlinewidth": 0,
             "ticks": ""
            },
            "type": "mesh3d"
           }
          ],
          "parcoords": [
           {
            "line": {
             "colorbar": {
              "outlinewidth": 0,
              "ticks": ""
             }
            },
            "type": "parcoords"
           }
          ],
          "pie": [
           {
            "automargin": true,
            "type": "pie"
           }
          ],
          "scatter": [
           {
            "fillpattern": {
             "fillmode": "overlay",
             "size": 10,
             "solidity": 0.2
            },
            "type": "scatter"
           }
          ],
          "scatter3d": [
           {
            "line": {
             "colorbar": {
              "outlinewidth": 0,
              "ticks": ""
             }
            },
            "marker": {
             "colorbar": {
              "outlinewidth": 0,
              "ticks": ""
             }
            },
            "type": "scatter3d"
           }
          ],
          "scattercarpet": [
           {
            "marker": {
             "colorbar": {
              "outlinewidth": 0,
              "ticks": ""
             }
            },
            "type": "scattercarpet"
           }
          ],
          "scattergeo": [
           {
            "marker": {
             "colorbar": {
              "outlinewidth": 0,
              "ticks": ""
             }
            },
            "type": "scattergeo"
           }
          ],
          "scattergl": [
           {
            "marker": {
             "colorbar": {
              "outlinewidth": 0,
              "ticks": ""
             }
            },
            "type": "scattergl"
           }
          ],
          "scattermap": [
           {
            "marker": {
             "colorbar": {
              "outlinewidth": 0,
              "ticks": ""
             }
            },
            "type": "scattermap"
           }
          ],
          "scattermapbox": [
           {
            "marker": {
             "colorbar": {
              "outlinewidth": 0,
              "ticks": ""
             }
            },
            "type": "scattermapbox"
           }
          ],
          "scatterpolar": [
           {
            "marker": {
             "colorbar": {
              "outlinewidth": 0,
              "ticks": ""
             }
            },
            "type": "scatterpolar"
           }
          ],
          "scatterpolargl": [
           {
            "marker": {
             "colorbar": {
              "outlinewidth": 0,
              "ticks": ""
             }
            },
            "type": "scatterpolargl"
           }
          ],
          "scatterternary": [
           {
            "marker": {
             "colorbar": {
              "outlinewidth": 0,
              "ticks": ""
             }
            },
            "type": "scatterternary"
           }
          ],
          "surface": [
           {
            "colorbar": {
             "outlinewidth": 0,
             "ticks": ""
            },
            "colorscale": [
             [
              0,
              "#0d0887"
             ],
             [
              0.1111111111111111,
              "#46039f"
             ],
             [
              0.2222222222222222,
              "#7201a8"
             ],
             [
              0.3333333333333333,
              "#9c179e"
             ],
             [
              0.4444444444444444,
              "#bd3786"
             ],
             [
              0.5555555555555556,
              "#d8576b"
             ],
             [
              0.6666666666666666,
              "#ed7953"
             ],
             [
              0.7777777777777778,
              "#fb9f3a"
             ],
             [
              0.8888888888888888,
              "#fdca26"
             ],
             [
              1,
              "#f0f921"
             ]
            ],
            "type": "surface"
           }
          ],
          "table": [
           {
            "cells": {
             "fill": {
              "color": "#EBF0F8"
             },
             "line": {
              "color": "white"
             }
            },
            "header": {
             "fill": {
              "color": "#C8D4E3"
             },
             "line": {
              "color": "white"
             }
            },
            "type": "table"
           }
          ]
         },
         "layout": {
          "annotationdefaults": {
           "arrowcolor": "#2a3f5f",
           "arrowhead": 0,
           "arrowwidth": 1
          },
          "autotypenumbers": "strict",
          "coloraxis": {
           "colorbar": {
            "outlinewidth": 0,
            "ticks": ""
           }
          },
          "colorscale": {
           "diverging": [
            [
             0,
             "#8e0152"
            ],
            [
             0.1,
             "#c51b7d"
            ],
            [
             0.2,
             "#de77ae"
            ],
            [
             0.3,
             "#f1b6da"
            ],
            [
             0.4,
             "#fde0ef"
            ],
            [
             0.5,
             "#f7f7f7"
            ],
            [
             0.6,
             "#e6f5d0"
            ],
            [
             0.7,
             "#b8e186"
            ],
            [
             0.8,
             "#7fbc41"
            ],
            [
             0.9,
             "#4d9221"
            ],
            [
             1,
             "#276419"
            ]
           ],
           "sequential": [
            [
             0,
             "#0d0887"
            ],
            [
             0.1111111111111111,
             "#46039f"
            ],
            [
             0.2222222222222222,
             "#7201a8"
            ],
            [
             0.3333333333333333,
             "#9c179e"
            ],
            [
             0.4444444444444444,
             "#bd3786"
            ],
            [
             0.5555555555555556,
             "#d8576b"
            ],
            [
             0.6666666666666666,
             "#ed7953"
            ],
            [
             0.7777777777777778,
             "#fb9f3a"
            ],
            [
             0.8888888888888888,
             "#fdca26"
            ],
            [
             1,
             "#f0f921"
            ]
           ],
           "sequentialminus": [
            [
             0,
             "#0d0887"
            ],
            [
             0.1111111111111111,
             "#46039f"
            ],
            [
             0.2222222222222222,
             "#7201a8"
            ],
            [
             0.3333333333333333,
             "#9c179e"
            ],
            [
             0.4444444444444444,
             "#bd3786"
            ],
            [
             0.5555555555555556,
             "#d8576b"
            ],
            [
             0.6666666666666666,
             "#ed7953"
            ],
            [
             0.7777777777777778,
             "#fb9f3a"
            ],
            [
             0.8888888888888888,
             "#fdca26"
            ],
            [
             1,
             "#f0f921"
            ]
           ]
          },
          "colorway": [
           "#636efa",
           "#EF553B",
           "#00cc96",
           "#ab63fa",
           "#FFA15A",
           "#19d3f3",
           "#FF6692",
           "#B6E880",
           "#FF97FF",
           "#FECB52"
          ],
          "font": {
           "color": "#2a3f5f"
          },
          "geo": {
           "bgcolor": "white",
           "lakecolor": "white",
           "landcolor": "#E5ECF6",
           "showlakes": true,
           "showland": true,
           "subunitcolor": "white"
          },
          "hoverlabel": {
           "align": "left"
          },
          "hovermode": "closest",
          "mapbox": {
           "style": "light"
          },
          "paper_bgcolor": "white",
          "plot_bgcolor": "#E5ECF6",
          "polar": {
           "angularaxis": {
            "gridcolor": "white",
            "linecolor": "white",
            "ticks": ""
           },
           "bgcolor": "#E5ECF6",
           "radialaxis": {
            "gridcolor": "white",
            "linecolor": "white",
            "ticks": ""
           }
          },
          "scene": {
           "xaxis": {
            "backgroundcolor": "#E5ECF6",
            "gridcolor": "white",
            "gridwidth": 2,
            "linecolor": "white",
            "showbackground": true,
            "ticks": "",
            "zerolinecolor": "white"
           },
           "yaxis": {
            "backgroundcolor": "#E5ECF6",
            "gridcolor": "white",
            "gridwidth": 2,
            "linecolor": "white",
            "showbackground": true,
            "ticks": "",
            "zerolinecolor": "white"
           },
           "zaxis": {
            "backgroundcolor": "#E5ECF6",
            "gridcolor": "white",
            "gridwidth": 2,
            "linecolor": "white",
            "showbackground": true,
            "ticks": "",
            "zerolinecolor": "white"
           }
          },
          "shapedefaults": {
           "line": {
            "color": "#2a3f5f"
           }
          },
          "ternary": {
           "aaxis": {
            "gridcolor": "white",
            "linecolor": "white",
            "ticks": ""
           },
           "baxis": {
            "gridcolor": "white",
            "linecolor": "white",
            "ticks": ""
           },
           "bgcolor": "#E5ECF6",
           "caxis": {
            "gridcolor": "white",
            "linecolor": "white",
            "ticks": ""
           }
          },
          "title": {
           "x": 0.05
          },
          "xaxis": {
           "automargin": true,
           "gridcolor": "white",
           "linecolor": "white",
           "ticks": "",
           "title": {
            "standoff": 15
           },
           "zerolinecolor": "white",
           "zerolinewidth": 2
          },
          "yaxis": {
           "automargin": true,
           "gridcolor": "white",
           "linecolor": "white",
           "ticks": "",
           "title": {
            "standoff": 15
           },
           "zerolinecolor": "white",
           "zerolinewidth": 2
          }
         }
        },
        "title": {
         "text": "scaled Primary Somatosensory areas, p1-7 (n=3) and p7-13 (n=9)"
        },
        "violinmode": "group",
        "xaxis": {
         "anchor": "y",
         "domain": [
          0,
          1
         ],
         "title": {
          "text": "Special Interest"
         }
        },
        "yaxis": {
         "anchor": "x",
         "domain": [
          0,
          1
         ],
         "title": {
          "text": "scaled count"
         }
        }
       }
      }
     },
     "metadata": {},
     "output_type": "display_data"
    }
   ],
   "source": [
    "plot_scaledcount_zoomed_spec(\n",
    "    subdivided_S1_grouped,\n",
    "    \"scaled Primary Somatosensory areas, p1-7 (n=3) and p7-13 (n=9)\",\n",
    ")"
   ]
  }
 ],
 "metadata": {
  "kernelspec": {
   "display_name": "Python 3",
   "language": "python",
   "name": "python3"
  },
  "language_info": {
   "codemirror_mode": {
    "name": "ipython",
    "version": 3
   },
   "file_extension": ".py",
   "mimetype": "text/x-python",
   "name": "python",
   "nbconvert_exporter": "python",
   "pygments_lexer": "ipython3",
   "version": "3.13.7"
  }
 },
 "nbformat": 4,
 "nbformat_minor": 5
}
