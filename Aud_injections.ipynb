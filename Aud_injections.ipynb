{
 "cells": [
  {
   "cell_type": "code",
   "execution_count": 2,
   "id": "9a9fa5d7",
   "metadata": {},
   "outputs": [],
   "source": [
    "import pandas as pd\n",
    "import os\n",
    "import plotly.express as px\n",
    "\n",
    "regions_complete = pd.read_csv(\"regions_complete.csv\", sep=\";\")"
   ]
  },
  {
   "cell_type": "code",
   "execution_count": 3,
   "id": "020e8030",
   "metadata": {},
   "outputs": [],
   "source": [
    "# get the csv files from the size_points folder\n",
    "\n",
    "size_points_path = \"size_points_Aud_injection\"\n",
    "min_pixel_size = 1\n",
    "max_pixel_size = 17\n",
    "\n",
    "\n",
    "\n",
    "# loop through the files and save the csv files as seperate dataframes with the name of the file\n",
    "brains = {}\n",
    "for file in os.listdir(size_points_path):\n",
    "    if file.endswith(\".csv\"):\n",
    "        # get the brain name from the file name\n",
    "        brain_name_first_part = file.split(\"_\")[0:4]\n",
    "        black_white = file.split(\"_\")[6]\n",
    "        # join the brain name and black_white to a string\n",
    "\n",
    "        brain_name = black_white + \"_\" + \"_\".join(brain_name_first_part)\n",
    "        # remove the .csv from the end of the string\n",
    "        brain_name = brain_name.replace(\".csv\", \"\")\n",
    "        brains[brain_name] = pd.read_csv(os.path.join(size_points_path, file), sep=\";\")"
   ]
  },
  {
   "cell_type": "code",
   "execution_count": 14,
   "id": "57557975",
   "metadata": {},
   "outputs": [],
   "source": [
    "# generate one file per brain with the same data frame \n",
    "\n",
    "\n",
    "def end_file_per_brain(white, black, name, age):\n",
    "    one_brain_file = pd.DataFrame(\n",
    "        columns=[\n",
    "        \"Brain\",\n",
    "        \"Region ID\",\n",
    "        \"General area\",\n",
    "        \"Hemisphere\",\n",
    "        \"count\",\n",
    "        \"scaled count\",\n",
    "        \"age\",\n",
    "        ]\n",
    "    )\n",
    "    total_counts = 0\n",
    "\n",
    "    for index, row in white.iterrows():\n",
    "        hemisphere = \"right\"\n",
    "\n",
    "        if min_pixel_size <= row[\"Object area\"] <= max_pixel_size:\n",
    "            region_id = row[\"Region ID\"]\n",
    "\n",
    "            # check for the according General area in regions_complete\n",
    "            general_region = regions_complete.loc[\n",
    "                regions_complete[\"Region ID\"] == region_id, \"General area\"\n",
    "            ].values[0]\n",
    "            \n",
    "            if general_region != \"Auditory areas\":\n",
    "                \n",
    "                # if region_id is not in one_brain_file, add it\n",
    "                if region_id not in one_brain_file[\"Region ID\"].values:\n",
    "                    one_brain_file.loc[region_id] = [name, region_id, general_region, hemisphere, 1, 0, age]\n",
    "                else:\n",
    "                    one_brain_file.loc[region_id, \"count\"] += 1\n",
    "\n",
    "            # the counts for clear label and fiber tracts are not counted\n",
    "            if general_region not in [\"Clear Label\", \"fiber tracts\", \"Primary visual area\", \"Parent\"]:\n",
    "                total_counts += 1\n",
    "    for index, row in black.iterrows():\n",
    "        hemisphere = \"left\"\n",
    "        if min_pixel_size <= row[\"Object area\"] <= max_pixel_size:\n",
    "            region_id = row[\"Region ID\"]\n",
    "\n",
    "            # check for the according General area in regions_complete\n",
    "            general_region = regions_complete.loc[\n",
    "                regions_complete[\"Region ID\"] == region_id, \"General area\"\n",
    "            ].values[0]\n",
    "            # if region_id is not in one_brain_file with \"right\" in the hemisphere, add it\n",
    "            if region_id not in one_brain_file[\"Region ID\"].values:\n",
    "                one_brain_file.loc[region_id] = [name, region_id, general_region, hemisphere, 1, 0, age]\n",
    "\n",
    "            else:\n",
    "                # if region_id is already in one_brain_file check if the hemisphere is \"left\"\n",
    "                if one_brain_file.loc[region_id, \"Hemisphere\"] == \"left\":\n",
    "                    # if it is, add the count to the existing count\n",
    "                    one_brain_file.loc[region_id, \"count\"] += 1\n",
    "                else:\n",
    "                    one_brain_file.loc[region_id] = [name, region_id, general_region, hemisphere, 1, 0, age]\n",
    "            \n",
    "\n",
    "            if general_region not in [\"Clear Label\", \"fiber tracts\", \"Parent\"]:\n",
    "                total_counts += 1\n",
    "\n",
    "    # scale the counts\n",
    "    one_brain_file[\"scaled count\"] = one_brain_file[\"count\"] / total_counts\n",
    "    one_brain_file[\"scaled count\"] = one_brain_file[\"count\"] / total_counts\n",
    "\n",
    "    return one_brain_file"
   ]
  },
  {
   "cell_type": "code",
   "execution_count": 15,
   "id": "16491393",
   "metadata": {},
   "outputs": [],
   "source": [
    "n1_20250215_p7_13 = end_file_per_brain(\n",
    "    brains[\"white_20250215_p7_13_n1\"], brains[\"black_20250215_p7_13_n1\"], \"n1_20250215_p7_13\", \"p7-13\"\n",
    ")\n",
    "n3_20250215_p7_13 = end_file_per_brain(\n",
    "    brains[\"white_20250215_p7_13_n3\"], brains[\"black_20250215_p7_13_n3\"], \"n3_20250215_p7_13\", \"p7-13\"\n",
    ")\n"
   ]
  },
  {
   "cell_type": "code",
   "execution_count": 16,
   "id": "7f75a6a0",
   "metadata": {},
   "outputs": [],
   "source": [
    "big_file_Aud_injections = pd.concat(\n",
    "    [\n",
    "        n1_20250215_p7_13,\n",
    "        n3_20250215_p7_13,\n",
    "    ],\n",
    "    ignore_index=True,\n",
    ")\n"
   ]
  },
  {
   "cell_type": "code",
   "execution_count": 17,
   "id": "37d669a7",
   "metadata": {},
   "outputs": [],
   "source": [
    "# take out Clear label and fiber tracts \n",
    "big_file_Aud_injections = big_file_Aud_injections[\n",
    "    ~big_file_Aud_injections[\"General area\"].isin([\"Clear Label\", \"fiber tracts\", \"Parent\"])\n",
    "]"
   ]
  },
  {
   "cell_type": "code",
   "execution_count": 18,
   "id": "39aa3dda",
   "metadata": {},
   "outputs": [
    {
     "name": "stdout",
     "output_type": "stream",
     "text": [
      "area not found in left hemisphere in p7_13: root\n",
      "area not found in left hemisphere in p7_13: Frontal pole\n",
      "area not found in right hemisphere in p7_13: Frontal pole\n",
      "area not found in right hemisphere in p7_13: Auditory areas\n",
      "area not found in right hemisphere in p7_13: Perirhinal area\n",
      "area not found in right hemisphere in p7_13: Ectorhinal area\n",
      "area not found in right hemisphere in p7_13: Main olfactory bulb\n",
      "area not found in left hemisphere in p7_13: Accessory olfactory bulb\n",
      "area not found in right hemisphere in p7_13: Accessory olfactory bulb\n",
      "area not found in right hemisphere in p7_13: Anterior olfactory nucleus\n",
      "area not found in right hemisphere in p7_13: Taenia tecta\n",
      "area not found in left hemisphere in p7_13: Dorsal peduncular area\n",
      "area not found in right hemisphere in p7_13: Piriform area\n",
      "area not found in left hemisphere in p7_13: Nucleus of the lateral olfactory tract\n",
      "area not found in right hemisphere in p7_13: Nucleus of the lateral olfactory tract\n",
      "area not found in left hemisphere in p7_13: Cortical amygdalar area\n",
      "area not found in left hemisphere in p7_13: Piriform-amygdalar area\n",
      "area not found in right hemisphere in p7_13: Piriform-amygdalar area\n",
      "area not found in left hemisphere in p7_13: Postpiriform transition area\n",
      "area not found in right hemisphere in p7_13: Cerebellum\n",
      "area not found in left hemisphere in p7_13: ventricular systems\n"
     ]
    }
   ],
   "source": [
    "# Find regions with zero neurons\n",
    "\n",
    "# add General area that are in regions_complete but not in Aud_injections\n",
    "regions_complete = pd.read_csv(\"regions_complete.csv\", sep=\";\")\n",
    "General_areas_complete= regions_complete[\"General area\"].unique()\n",
    "\n",
    "# filter out \"Clear Label\" and \"Fiber tracts\" and \"Parent\" from General areas\n",
    "General_areas_complete = [\n",
    "    area for area in General_areas_complete if area not in [\"Clear Label\", \"fiber tracts\", \"Parent\", \"retina\"]\n",
    "]\n",
    "\n",
    "# make copy of the DataFrame to add missing General areas\n",
    "big_file_Aud_injections = big_file_Aud_injections.copy()\n",
    "\n",
    "\n",
    "\n",
    "general_area_left_p7_13 = []\n",
    "general_area_right_p7_13  = []\n",
    "\n",
    "# loop through big_file_V1_injections_long and add General area to general_area_left and general_area_right\n",
    "for index, row in big_file_Aud_injections.iterrows():\n",
    "    if row[\"Hemisphere\"] == \"left\":\n",
    "        general_area_left_p7_13.append(row[\"General area\"])\n",
    "         \n",
    "        \n",
    "    else:\n",
    "        general_area_right_p7_13.append(row[\"General area\"])\n",
    "\n",
    "\n",
    "for area in General_areas_complete:\n",
    "     \n",
    "        \n",
    "    \n",
    "    \n",
    "    if area not in general_area_left_p7_13:\n",
    "        print(\"area not found in left hemisphere in p7_13:\", area)\n",
    "        big_file_Aud_injections.loc[area] = [0, 0, area, \"left\", 0, 0, \"p7-13\"]\n",
    "    \n",
    "    if area not in general_area_right_p7_13:\n",
    "        print(\"area not found in right hemisphere in p7_13:\", area)\n",
    "        big_file_Aud_injections.loc[area] = [0, 0, area, \"right\", 0, 0, \"p7-13\"]\n",
    "        \n",
    "       \n",
    "\n",
    "\n",
    "\n",
    "        \n",
    "\n"
   ]
  },
  {
   "cell_type": "code",
   "execution_count": 19,
   "id": "48ee05b7",
   "metadata": {},
   "outputs": [],
   "source": [
    "# save the big file as csv\n",
    "big_file_Aud_injections.to_csv(\"big_file_Aud_injections.csv\", sep=\";\", index=False)"
   ]
  },
  {
   "cell_type": "code",
   "execution_count": 20,
   "id": "a12a2c4a",
   "metadata": {},
   "outputs": [],
   "source": [
    "# Get the highest scaled count for 'right' hemisphere in each area\n",
    "area_order_scaled = (\n",
    "    big_file_Aud_injections[big_file_Aud_injections['Hemisphere'] == 'right']\n",
    "    .groupby('General area')['scaled count']\n",
    "    .max()\n",
    "    .sort_values(ascending=False)\n",
    "    .index.tolist()\n",
    ")\n",
    "\n",
    "area_order_count = (\n",
    "    big_file_Aud_injections[big_file_Aud_injections['Hemisphere'] == 'right']\n",
    "    .groupby('General area')['count']\n",
    "    .max()\n",
    "    .sort_values(ascending=False)\n",
    "    .index.tolist()\n",
    ")\n"
   ]
  },
  {
   "cell_type": "code",
   "execution_count": 21,
   "id": "f1d602a4",
   "metadata": {},
   "outputs": [
    {
     "data": {
      "application/vnd.plotly.v1+json": {
       "config": {
        "plotlyServerURL": "https://plot.ly"
       },
       "data": [
        {
         "alignmentgroup": "True",
         "box": {
          "visible": true
         },
         "hovertemplate": "Hemisphere=left<br>General area=%{x}<br>scaled count=%{y}<extra></extra>",
         "legendgroup": "left",
         "marker": {
          "color": "orange"
         },
         "meanline": {
          "visible": true
         },
         "name": "left",
         "offsetgroup": "left",
         "orientation": "v",
         "points": "all",
         "scalegroup": "True",
         "showlegend": true,
         "type": "violin",
         "x": [
          "Main olfactory bulb",
          "Orbital area",
          "Orbital area",
          "Orbital area",
          "Somatomotor areas",
          "Orbital area",
          "Anterior olfactory nucleus",
          "Orbital area",
          "Orbital area",
          "Orbital area",
          "Prelimbic area",
          "Anterior cingulate area",
          "Agranular insular area",
          "Somatomotor areas",
          "Somatomotor areas",
          "Piriform area",
          "Agranular insular area",
          "Cortical subplate",
          "Somatomotor areas",
          "Anterior cingulate area",
          "Anterior cingulate area",
          "Striatum",
          "Somatomotor areas",
          "Pallidum",
          "Striatum",
          "Somatosensory areas",
          "Somatosensory areas",
          "Somatomotor areas",
          "Somatosensory areas",
          "Visceral area",
          "Anterior cingulate area",
          "Striatum",
          "Somatosensory areas",
          "Agranular insular area",
          "Somatosensory areas",
          "Somatosensory areas",
          "Cortical subplate",
          "Retrosplenial area",
          "Somatosensory areas",
          "Somatosensory areas",
          "Somatosensory areas",
          "Retrosplenial area",
          "Retrosplenial area",
          "Somatosensory areas",
          "Retrosplenial area",
          "Thalamus",
          "Cortical subplate",
          "Retrosplenial area",
          "Retrosplenial area",
          "Retrosplenial area",
          "Retrosplenial area",
          "Agranular insular area",
          "Somatosensory areas",
          "Retrosplenial area",
          "Somatosensory areas",
          "Somatosensory areas",
          "Somatosensory areas",
          "Ectorhinal area",
          "Posterior parietal association areas",
          "Hypothalamus",
          "Pallidum",
          "Hypothalamus",
          "Posterior parietal association areas",
          "Striatum",
          "Hippocampal region",
          "Hippocampal region",
          "Hippocampal region",
          "Temporal association areas",
          "Temporal association areas",
          "Ectorhinal area",
          "Ectorhinal area",
          "Temporal association areas",
          "Temporal association areas",
          "Posterior parietal association areas",
          "Cortical subplate",
          "Hypothalamus",
          "Perirhinal area",
          "Visual areas",
          "Visual areas",
          "Visual areas",
          "Retrohippocampal region",
          "Visual areas",
          "Visual areas",
          "Perirhinal area",
          "Visual areas",
          "Visual areas",
          "Visual areas",
          "Retrohippocampal region",
          "Visual areas",
          "Visual areas",
          "Visual areas",
          "Visual areas",
          "Visual areas",
          "Perirhinal area",
          "Visual areas",
          "Retrohippocampal region",
          "Hypothalamus",
          "Hippocampal region",
          "Midbrain",
          "Visual areas",
          "Midbrain",
          "Visual areas",
          "Visual areas",
          "Visual areas",
          "Visual areas",
          "Midbrain",
          "Thalamus",
          "Retrohippocampal region",
          "Retrohippocampal region",
          "Midbrain",
          "Retrohippocampal region",
          "Retrohippocampal region",
          "Visual areas",
          "Visual areas",
          "Retrohippocampal region",
          "Visual areas",
          "Retrohippocampal region",
          "Retrohippocampal region",
          "Pons",
          "Visual areas",
          "Visual areas",
          "Midbrain",
          "Striatum",
          "Infralimbic area",
          "Pallidum",
          "Agranular insular area",
          "Striatum",
          "Pallidum",
          "Hypothalamus",
          "Hypothalamus",
          "Thalamus",
          "Hypothalamus",
          "Pallidum",
          "Cortical subplate",
          "Cortical subplate",
          "Auditory areas",
          "Auditory areas",
          "Auditory areas",
          "Auditory areas",
          "Auditory areas",
          "Auditory areas",
          "Thalamus",
          "Thalamus",
          "Hippocampal region",
          "Hypothalamus",
          "Auditory areas",
          "Auditory areas",
          "Auditory areas",
          "Auditory areas",
          "Auditory areas",
          "Auditory areas",
          "Auditory areas",
          "Auditory areas",
          "Ectorhinal area",
          "Auditory areas",
          "Midbrain",
          "Midbrain",
          "Midbrain",
          "Midbrain",
          "Pons",
          "Medulla",
          "Cerebellum",
          "Orbital area",
          "Orbital area",
          "Orbital area",
          "Orbital area",
          "Orbital area",
          "Somatomotor areas",
          "Orbital area",
          "Anterior cingulate area",
          "Anterior cingulate area",
          "Somatomotor areas",
          "Piriform area",
          "Anterior cingulate area",
          "Retrosplenial area",
          "Retrosplenial area",
          "Thalamus",
          "Retrosplenial area",
          "Temporal association areas",
          "Retrosplenial area",
          "Ectorhinal area",
          "Somatosensory areas",
          "Temporal association areas",
          "Ectorhinal area",
          "Visual areas",
          "Visual areas",
          "Visual areas",
          "Retrohippocampal region",
          "Hippocampal region",
          "Visual areas",
          "Visual areas",
          "Retrohippocampal region",
          "Visual areas",
          "Visual areas",
          "Pons",
          "Visual areas",
          "Retrohippocampal region",
          "Main olfactory bulb",
          "Anterior olfactory nucleus",
          "Taenia tecta",
          "Somatomotor areas",
          "Agranular insular area",
          "Agranular insular area",
          "Gustatory areas",
          "Cortical subplate",
          "Somatosensory areas",
          "Auditory areas",
          "Retrosplenial area",
          "Auditory areas",
          "Auditory areas",
          "Auditory areas",
          "Auditory areas",
          "Auditory areas",
          "Auditory areas",
          "Auditory areas",
          "Cortical subplate",
          "Retrohippocampal region",
          "Perirhinal area",
          "Auditory areas",
          "Visual areas",
          "Retrohippocampal region",
          "Midbrain",
          "Midbrain",
          "Midbrain",
          "Midbrain",
          "root",
          "Dorsal peduncular area",
          "Cortical amygdalar area",
          "Postpiriform transition area",
          "ventricular systems"
         ],
         "x0": " ",
         "xaxis": "x",
         "y": [
          0.00023880597014925374,
          0.0022686567164179106,
          0.00011940298507462687,
          0.0003582089552238806,
          0.002507462686567164,
          0.0003582089552238806,
          0.0004776119402985075,
          0.0004776119402985075,
          0.0004776119402985075,
          0.00011940298507462687,
          0.00011940298507462687,
          0.0004776119402985075,
          0.00023880597014925374,
          0.0010746268656716418,
          0.00011940298507462687,
          0.000955223880597015,
          0.00023880597014925374,
          0.00011940298507462687,
          0.002029850746268657,
          0.00011940298507462687,
          0.0004776119402985075,
          0.0005970149253731343,
          0.0010746268656716418,
          0.00011940298507462687,
          0.00011940298507462687,
          0.00023880597014925374,
          0.0005970149253731343,
          0.00011940298507462687,
          0.00023880597014925374,
          0.00023880597014925374,
          0.00023880597014925374,
          0.00011940298507462687,
          0.00023880597014925374,
          0.000835820895522388,
          0.0005970149253731343,
          0.00023880597014925374,
          0.00011940298507462687,
          0.00023880597014925374,
          0.00011940298507462687,
          0.00023880597014925374,
          0.00011940298507462687,
          0.0013134328358208956,
          0.0015522388059701492,
          0.000835820895522388,
          0.00023880597014925374,
          0.00011940298507462687,
          0.0004776119402985075,
          0.00011940298507462687,
          0.0003582089552238806,
          0.00023880597014925374,
          0.00011940298507462687,
          0.00011940298507462687,
          0.00023880597014925374,
          0.00011940298507462687,
          0.00011940298507462687,
          0.00011940298507462687,
          0.0003582089552238806,
          0.0015522388059701492,
          0.00011940298507462687,
          0.0003582089552238806,
          0.00023880597014925374,
          0.00011940298507462687,
          0.00011940298507462687,
          0.00023880597014925374,
          0.00011940298507462687,
          0.005134328358208955,
          0.001671641791044776,
          0.0022686567164179106,
          0.004537313432835821,
          0.0004776119402985075,
          0.00011940298507462687,
          0.00023880597014925374,
          0.00023880597014925374,
          0.00011940298507462687,
          0.00023880597014925374,
          0.00011940298507462687,
          0.00023880597014925374,
          0.00023880597014925374,
          0.00023880597014925374,
          0.00011940298507462687,
          0.0014328358208955225,
          0.0015522388059701492,
          0.0004776119402985075,
          0.00011940298507462687,
          0.00023880597014925374,
          0.0007164179104477612,
          0.00023880597014925374,
          0.0005970149253731343,
          0.00011940298507462687,
          0.000955223880597015,
          0.00011940298507462687,
          0.0003582089552238806,
          0.00011940298507462687,
          0.00011940298507462687,
          0.0014328358208955225,
          0.00023880597014925374,
          0.00011940298507462687,
          0.00023880597014925374,
          0.0005970149253731343,
          0.0015522388059701492,
          0.00011940298507462687,
          0.00011940298507462687,
          0.0010746268656716418,
          0.0013134328358208956,
          0.0003582089552238806,
          0.0004776119402985075,
          0.00023880597014925374,
          0.0005970149253731343,
          0.0003582089552238806,
          0.000835820895522388,
          0.0003582089552238806,
          0.00011940298507462687,
          0.001671641791044776,
          0.0014328358208955225,
          0.00011940298507462687,
          0.00011940298507462687,
          0.00011940298507462687,
          0.00011940298507462687,
          0.00011940298507462687,
          0.00011940298507462687,
          0.0004776119402985075,
          0.00011940298507462687,
          0.00023880597014925374,
          0.00011940298507462687,
          0.00011940298507462687,
          0.00011940298507462687,
          0.0003582089552238806,
          0.00011940298507462687,
          0.00011940298507462687,
          0.00011940298507462687,
          0.00023880597014925374,
          0.00011940298507462687,
          0.00011940298507462687,
          0.00011940298507462687,
          0.00011940298507462687,
          0.0011940298507462687,
          0.0010746268656716418,
          0.004776119402985075,
          0.0003582089552238806,
          0.0005970149253731343,
          0.002507462686567164,
          0.00011940298507462687,
          0.00023880597014925374,
          0.00011940298507462687,
          0.00023880597014925374,
          0.005373134328358209,
          0.004895522388059702,
          0.0005970149253731343,
          0.00023880597014925374,
          0.00023880597014925374,
          0.00191044776119403,
          0.0022686567164179106,
          0.0004776119402985075,
          0.00011940298507462687,
          0.0003582089552238806,
          0.00011940298507462687,
          0.0004776119402985075,
          0.00011940298507462687,
          0.00011940298507462687,
          0.00011940298507462687,
          0.00011940298507462687,
          0.0003582089552238806,
          0.0015731515469323545,
          0.002097535395909806,
          0.0005243838489774515,
          0.001048767697954903,
          0.001048767697954903,
          0.002097535395909806,
          0.0005243838489774515,
          0.0005243838489774515,
          0.0015731515469323545,
          0.002097535395909806,
          0.0005243838489774515,
          0.0005243838489774515,
          0.0005243838489774515,
          0.001048767697954903,
          0.0005243838489774515,
          0.001048767697954903,
          0.0015731515469323545,
          0.001048767697954903,
          0.0026219192448872575,
          0.0005243838489774515,
          0.004195070791819612,
          0.002097535395909806,
          0.001048767697954903,
          0.0015731515469323545,
          0.0005243838489774515,
          0.0005243838489774515,
          0.0005243838489774515,
          0.0005243838489774515,
          0.0005243838489774515,
          0.0015731515469323545,
          0.0015731515469323545,
          0.0005243838489774515,
          0.002097535395909806,
          0.0015731515469323545,
          0.0005243838489774515,
          0.0005243838489774515,
          0.0005243838489774515,
          0.002097535395909806,
          0.0005243838489774515,
          0.0005243838489774515,
          0.0015731515469323545,
          0.0005243838489774515,
          0.0005243838489774515,
          0.0005243838489774515,
          0.0005243838489774515,
          0.001048767697954903,
          0.0005243838489774515,
          0.0005243838489774515,
          0.003146303093864709,
          0.0005243838489774515,
          0.0015731515469323545,
          0.0005243838489774515,
          0.0005243838489774515,
          0.0005243838489774515,
          0.0005243838489774515,
          0.001048767697954903,
          0.0005243838489774515,
          0.0005243838489774515,
          0.0005243838489774515,
          0.001048767697954903,
          0.001048767697954903,
          0.0015731515469323545,
          0.001048767697954903,
          0,
          0,
          0,
          0,
          0
         ],
         "y0": " ",
         "yaxis": "y"
        },
        {
         "alignmentgroup": "True",
         "box": {
          "visible": true
         },
         "hovertemplate": "Hemisphere=right<br>General area=%{x}<br>scaled count=%{y}<extra></extra>",
         "legendgroup": "right",
         "marker": {
          "color": "magenta"
         },
         "meanline": {
          "visible": true
         },
         "name": "right",
         "offsetgroup": "right",
         "orientation": "v",
         "points": "all",
         "scalegroup": "True",
         "showlegend": true,
         "type": "violin",
         "x": [
          "Orbital area",
          "Prelimbic area",
          "Orbital area",
          "Prelimbic area",
          "Orbital area",
          "Agranular insular area",
          "Orbital area",
          "Orbital area",
          "Agranular insular area",
          "Infralimbic area",
          "Agranular insular area",
          "Somatomotor areas",
          "Somatosensory areas",
          "Anterior cingulate area",
          "Agranular insular area",
          "Somatosensory areas",
          "Anterior cingulate area",
          "Somatosensory areas",
          "Gustatory areas",
          "Gustatory areas",
          "Gustatory areas",
          "Gustatory areas",
          "Somatosensory areas",
          "ventricular systems",
          "Somatosensory areas",
          "Hypothalamus",
          "Striatum",
          "Somatosensory areas",
          "Somatosensory areas",
          "Somatosensory areas",
          "Pallidum",
          "Striatum",
          "Somatosensory areas",
          "Somatosensory areas",
          "Cortical amygdalar area",
          "Somatosensory areas",
          "Somatosensory areas",
          "Thalamus",
          "Striatum",
          "Visceral area",
          "Thalamus",
          "Thalamus",
          "Somatosensory areas",
          "Somatomotor areas",
          "Visceral area",
          "Thalamus",
          "Thalamus",
          "Visceral area",
          "Posterior parietal association areas",
          "Posterior parietal association areas",
          "Thalamus",
          "Cortical subplate",
          "Retrosplenial area",
          "Retrosplenial area",
          "Thalamus",
          "Somatosensory areas",
          "root",
          "Thalamus",
          "Somatosensory areas",
          "Posterior parietal association areas",
          "Posterior parietal association areas",
          "Visual areas",
          "Posterior parietal association areas",
          "Somatosensory areas",
          "Hypothalamus",
          "Retrosplenial area",
          "Temporal association areas",
          "Visual areas",
          "Cortical amygdalar area",
          "Visual areas",
          "Midbrain",
          "Retrosplenial area",
          "Hypothalamus",
          "Visual areas",
          "Postpiriform transition area",
          "Hypothalamus",
          "Hypothalamus",
          "Midbrain",
          "Visual areas",
          "Visual areas",
          "Thalamus",
          "Thalamus",
          "Thalamus",
          "Thalamus",
          "Thalamus",
          "Thalamus",
          "Visual areas",
          "Visual areas",
          "Temporal association areas",
          "Thalamus",
          "Thalamus",
          "Visual areas",
          "Visual areas",
          "Visual areas",
          "Visual areas",
          "Midbrain",
          "Visual areas",
          "Midbrain",
          "Midbrain",
          "Midbrain",
          "Pons",
          "Retrohippocampal region",
          "Visual areas",
          "Visual areas",
          "Retrohippocampal region",
          "Midbrain",
          "Midbrain",
          "Retrohippocampal region",
          "Retrohippocampal region",
          "Midbrain",
          "Pons",
          "Visual areas",
          "Pons",
          "Medulla",
          "Prelimbic area",
          "Orbital area",
          "Orbital area",
          "Prelimbic area",
          "Dorsal peduncular area",
          "Somatosensory areas",
          "Striatum",
          "Anterior cingulate area",
          "Cortical subplate",
          "Agranular insular area",
          "Gustatory areas",
          "Anterior cingulate area",
          "Anterior cingulate area",
          "Somatomotor areas",
          "Somatomotor areas",
          "Agranular insular area",
          "Pallidum",
          "Somatosensory areas",
          "Somatosensory areas",
          "Somatosensory areas",
          "Thalamus",
          "Somatosensory areas",
          "Thalamus",
          "Posterior parietal association areas",
          "Retrosplenial area",
          "Somatosensory areas",
          "Posterior parietal association areas",
          "Somatosensory areas",
          "Posterior parietal association areas",
          "Posterior parietal association areas",
          "Visual areas",
          "Posterior parietal association areas",
          "Visual areas",
          "Somatosensory areas",
          "Retrosplenial area",
          "Visual areas",
          "Somatosensory areas",
          "Visual areas",
          "Posterior parietal association areas",
          "Visual areas",
          "Somatosensory areas",
          "Visual areas",
          "Cortical subplate",
          "Visual areas",
          "Visual areas",
          "Visual areas",
          "Visual areas",
          "Hippocampal region",
          "Midbrain",
          "Visual areas",
          "Thalamus",
          "Temporal association areas",
          "Hippocampal region",
          "Midbrain",
          "Visual areas",
          "Visual areas",
          "Temporal association areas",
          "Temporal association areas",
          "Visual areas",
          "Hypothalamus",
          "Retrohippocampal region",
          "Visual areas",
          "Visual areas",
          "Temporal association areas",
          "Visual areas",
          "Visual areas",
          "Visual areas",
          "Retrosplenial area",
          "Hippocampal region",
          "Thalamus",
          "Midbrain",
          "Thalamus",
          "Thalamus",
          "Midbrain",
          "Midbrain",
          "Midbrain",
          "Retrohippocampal region",
          "root",
          "Visual areas",
          "Retrohippocampal region",
          "Visual areas",
          "Visual areas",
          "Retrohippocampal region",
          "Retrohippocampal region",
          "Retrohippocampal region",
          "Retrohippocampal region",
          "Retrohippocampal region",
          "Midbrain",
          "Frontal pole",
          "Auditory areas",
          "Perirhinal area",
          "Ectorhinal area",
          "Main olfactory bulb",
          "Accessory olfactory bulb",
          "Anterior olfactory nucleus",
          "Taenia tecta",
          "Piriform area",
          "Nucleus of the lateral olfactory tract",
          "Piriform-amygdalar area",
          "Cerebellum"
         ],
         "x0": " ",
         "xaxis": "x",
         "y": [
          0.0013134328358208956,
          0.0011940298507462687,
          0.00023880597014925374,
          0.0003582089552238806,
          0.0004776119402985075,
          0.00011940298507462687,
          0.00011940298507462687,
          0.0003582089552238806,
          0.0003582089552238806,
          0.00011940298507462687,
          0.00011940298507462687,
          0.000955223880597015,
          0.0007164179104477612,
          0.000835820895522388,
          0.00011940298507462687,
          0.0005970149253731343,
          0.0007164179104477612,
          0.0007164179104477612,
          0.0021492537313432835,
          0.00023880597014925374,
          0.00011940298507462687,
          0.00011940298507462687,
          0.0005970149253731343,
          0.00011940298507462687,
          0.00023880597014925374,
          0.00011940298507462687,
          0.00011940298507462687,
          0.0005970149253731343,
          0.000955223880597015,
          0.00011940298507462687,
          0.0003582089552238806,
          0.00011940298507462687,
          0.000835820895522388,
          0.000835820895522388,
          0.00011940298507462687,
          0.0003582089552238806,
          0.00023880597014925374,
          0.00023880597014925374,
          0.00011940298507462687,
          0.00023880597014925374,
          0.00023880597014925374,
          0.00011940298507462687,
          0.00023880597014925374,
          0.00011940298507462687,
          0.00011940298507462687,
          0.00023880597014925374,
          0.00011940298507462687,
          0.00011940298507462687,
          0.002507462686567164,
          0.002507462686567164,
          0.00011940298507462687,
          0.00023880597014925374,
          0.000955223880597015,
          0.00011940298507462687,
          0.00023880597014925374,
          0.000955223880597015,
          0.000955223880597015,
          0.00011940298507462687,
          0.00011940298507462687,
          0.00011940298507462687,
          0.0004776119402985075,
          0.00011940298507462687,
          0.0007164179104477612,
          0.00011940298507462687,
          0.00011940298507462687,
          0.00011940298507462687,
          0.002746268656716418,
          0.039164179104477614,
          0.00011940298507462687,
          0.0005970149253731343,
          0.0007164179104477612,
          0.00011940298507462687,
          0.00011940298507462687,
          0.021134328358208956,
          0.00023880597014925374,
          0.00011940298507462687,
          0.0004776119402985075,
          0.00011940298507462687,
          0.0005970149253731343,
          0.0003582089552238806,
          0.00023880597014925374,
          0.00023880597014925374,
          0.0013134328358208956,
          0.0011940298507462687,
          0.000835820895522388,
          0.0011940298507462687,
          0.0005970149253731343,
          0.0013134328358208956,
          0.0011940298507462687,
          0.0010746268656716418,
          0.00011940298507462687,
          0.0007164179104477612,
          0.0014328358208955225,
          0.0004776119402985075,
          0.000955223880597015,
          0.00023880597014925374,
          0.00023880597014925374,
          0.002507462686567164,
          0.0003582089552238806,
          0.00011940298507462687,
          0.0004776119402985075,
          0.00011940298507462687,
          0.0014328358208955225,
          0.00011940298507462687,
          0.0011940298507462687,
          0.00023880597014925374,
          0.00011940298507462687,
          0.00023880597014925374,
          0.0010746268656716418,
          0.00011940298507462687,
          0.00023880597014925374,
          0.00011940298507462687,
          0.0004776119402985075,
          0.00023880597014925374,
          0.0057682223387519665,
          0.002097535395909806,
          0.001048767697954903,
          0.001048767697954903,
          0.0005243838489774515,
          0.0005243838489774515,
          0.0015731515469323545,
          0.0026219192448872575,
          0.001048767697954903,
          0.0005243838489774515,
          0.001048767697954903,
          0.0005243838489774515,
          0.0005243838489774515,
          0.001048767697954903,
          0.0026219192448872575,
          0.0005243838489774515,
          0.001048767697954903,
          0.0005243838489774515,
          0.001048767697954903,
          0.0005243838489774515,
          0.0015731515469323545,
          0.0005243838489774515,
          0.0005243838489774515,
          0.0005243838489774515,
          0.0005243838489774515,
          0.0005243838489774515,
          0.0015731515469323545,
          0.0005243838489774515,
          0.001048767697954903,
          0.002097535395909806,
          0.009438909281594127,
          0.0057682223387519665,
          0.003146303093864709,
          0.002097535395909806,
          0.01101206082852648,
          0.002097535395909806,
          0.0015731515469323545,
          0.005243838489774515,
          0.0005243838489774515,
          0.002097535395909806,
          0.0005243838489774515,
          0.001048767697954903,
          0.001048767697954903,
          0.012060828526481384,
          0.016255899318300997,
          0.0068169900367068695,
          0.0173046670162559,
          0.0026219192448872575,
          0.008914525432616675,
          0.005243838489774515,
          0.0015731515469323545,
          0.004195070791819612,
          0.0005243838489774515,
          0.0015731515469323545,
          0.022548505506030415,
          0.001048767697954903,
          0.0047194546407970635,
          0.0036706869428421605,
          0.001048767697954903,
          0.0005243838489774515,
          0.0005243838489774515,
          0.005243838489774515,
          0.0005243838489774515,
          0.0015731515469323545,
          0.0047194546407970635,
          0.003146303093864709,
          0.0005243838489774515,
          0.001048767697954903,
          0.0005243838489774515,
          0.0015731515469323545,
          0.001048767697954903,
          0.0015731515469323545,
          0.0005243838489774515,
          0.001048767697954903,
          0.0005243838489774515,
          0.0005243838489774515,
          0.004195070791819612,
          0.001048767697954903,
          0.0005243838489774515,
          0.007865757734661772,
          0.01048767697954903,
          0.0005243838489774515,
          0.0005243838489774515,
          0.0036706869428421605,
          0.001048767697954903,
          0.002097535395909806,
          0.0005243838489774515,
          0.0005243838489774515,
          0,
          0,
          0,
          0,
          0,
          0,
          0,
          0,
          0,
          0,
          0,
          0
         ],
         "y0": " ",
         "yaxis": "y"
        }
       ],
       "layout": {
        "legend": {
         "title": {
          "text": "Hemisphere"
         },
         "tracegroupgap": 0
        },
        "template": {
         "data": {
          "bar": [
           {
            "error_x": {
             "color": "#2a3f5f"
            },
            "error_y": {
             "color": "#2a3f5f"
            },
            "marker": {
             "line": {
              "color": "#E5ECF6",
              "width": 0.5
             },
             "pattern": {
              "fillmode": "overlay",
              "size": 10,
              "solidity": 0.2
             }
            },
            "type": "bar"
           }
          ],
          "barpolar": [
           {
            "marker": {
             "line": {
              "color": "#E5ECF6",
              "width": 0.5
             },
             "pattern": {
              "fillmode": "overlay",
              "size": 10,
              "solidity": 0.2
             }
            },
            "type": "barpolar"
           }
          ],
          "carpet": [
           {
            "aaxis": {
             "endlinecolor": "#2a3f5f",
             "gridcolor": "white",
             "linecolor": "white",
             "minorgridcolor": "white",
             "startlinecolor": "#2a3f5f"
            },
            "baxis": {
             "endlinecolor": "#2a3f5f",
             "gridcolor": "white",
             "linecolor": "white",
             "minorgridcolor": "white",
             "startlinecolor": "#2a3f5f"
            },
            "type": "carpet"
           }
          ],
          "choropleth": [
           {
            "colorbar": {
             "outlinewidth": 0,
             "ticks": ""
            },
            "type": "choropleth"
           }
          ],
          "contour": [
           {
            "colorbar": {
             "outlinewidth": 0,
             "ticks": ""
            },
            "colorscale": [
             [
              0,
              "#0d0887"
             ],
             [
              0.1111111111111111,
              "#46039f"
             ],
             [
              0.2222222222222222,
              "#7201a8"
             ],
             [
              0.3333333333333333,
              "#9c179e"
             ],
             [
              0.4444444444444444,
              "#bd3786"
             ],
             [
              0.5555555555555556,
              "#d8576b"
             ],
             [
              0.6666666666666666,
              "#ed7953"
             ],
             [
              0.7777777777777778,
              "#fb9f3a"
             ],
             [
              0.8888888888888888,
              "#fdca26"
             ],
             [
              1,
              "#f0f921"
             ]
            ],
            "type": "contour"
           }
          ],
          "contourcarpet": [
           {
            "colorbar": {
             "outlinewidth": 0,
             "ticks": ""
            },
            "type": "contourcarpet"
           }
          ],
          "heatmap": [
           {
            "colorbar": {
             "outlinewidth": 0,
             "ticks": ""
            },
            "colorscale": [
             [
              0,
              "#0d0887"
             ],
             [
              0.1111111111111111,
              "#46039f"
             ],
             [
              0.2222222222222222,
              "#7201a8"
             ],
             [
              0.3333333333333333,
              "#9c179e"
             ],
             [
              0.4444444444444444,
              "#bd3786"
             ],
             [
              0.5555555555555556,
              "#d8576b"
             ],
             [
              0.6666666666666666,
              "#ed7953"
             ],
             [
              0.7777777777777778,
              "#fb9f3a"
             ],
             [
              0.8888888888888888,
              "#fdca26"
             ],
             [
              1,
              "#f0f921"
             ]
            ],
            "type": "heatmap"
           }
          ],
          "heatmapgl": [
           {
            "colorbar": {
             "outlinewidth": 0,
             "ticks": ""
            },
            "colorscale": [
             [
              0,
              "#0d0887"
             ],
             [
              0.1111111111111111,
              "#46039f"
             ],
             [
              0.2222222222222222,
              "#7201a8"
             ],
             [
              0.3333333333333333,
              "#9c179e"
             ],
             [
              0.4444444444444444,
              "#bd3786"
             ],
             [
              0.5555555555555556,
              "#d8576b"
             ],
             [
              0.6666666666666666,
              "#ed7953"
             ],
             [
              0.7777777777777778,
              "#fb9f3a"
             ],
             [
              0.8888888888888888,
              "#fdca26"
             ],
             [
              1,
              "#f0f921"
             ]
            ],
            "type": "heatmapgl"
           }
          ],
          "histogram": [
           {
            "marker": {
             "pattern": {
              "fillmode": "overlay",
              "size": 10,
              "solidity": 0.2
             }
            },
            "type": "histogram"
           }
          ],
          "histogram2d": [
           {
            "colorbar": {
             "outlinewidth": 0,
             "ticks": ""
            },
            "colorscale": [
             [
              0,
              "#0d0887"
             ],
             [
              0.1111111111111111,
              "#46039f"
             ],
             [
              0.2222222222222222,
              "#7201a8"
             ],
             [
              0.3333333333333333,
              "#9c179e"
             ],
             [
              0.4444444444444444,
              "#bd3786"
             ],
             [
              0.5555555555555556,
              "#d8576b"
             ],
             [
              0.6666666666666666,
              "#ed7953"
             ],
             [
              0.7777777777777778,
              "#fb9f3a"
             ],
             [
              0.8888888888888888,
              "#fdca26"
             ],
             [
              1,
              "#f0f921"
             ]
            ],
            "type": "histogram2d"
           }
          ],
          "histogram2dcontour": [
           {
            "colorbar": {
             "outlinewidth": 0,
             "ticks": ""
            },
            "colorscale": [
             [
              0,
              "#0d0887"
             ],
             [
              0.1111111111111111,
              "#46039f"
             ],
             [
              0.2222222222222222,
              "#7201a8"
             ],
             [
              0.3333333333333333,
              "#9c179e"
             ],
             [
              0.4444444444444444,
              "#bd3786"
             ],
             [
              0.5555555555555556,
              "#d8576b"
             ],
             [
              0.6666666666666666,
              "#ed7953"
             ],
             [
              0.7777777777777778,
              "#fb9f3a"
             ],
             [
              0.8888888888888888,
              "#fdca26"
             ],
             [
              1,
              "#f0f921"
             ]
            ],
            "type": "histogram2dcontour"
           }
          ],
          "mesh3d": [
           {
            "colorbar": {
             "outlinewidth": 0,
             "ticks": ""
            },
            "type": "mesh3d"
           }
          ],
          "parcoords": [
           {
            "line": {
             "colorbar": {
              "outlinewidth": 0,
              "ticks": ""
             }
            },
            "type": "parcoords"
           }
          ],
          "pie": [
           {
            "automargin": true,
            "type": "pie"
           }
          ],
          "scatter": [
           {
            "fillpattern": {
             "fillmode": "overlay",
             "size": 10,
             "solidity": 0.2
            },
            "type": "scatter"
           }
          ],
          "scatter3d": [
           {
            "line": {
             "colorbar": {
              "outlinewidth": 0,
              "ticks": ""
             }
            },
            "marker": {
             "colorbar": {
              "outlinewidth": 0,
              "ticks": ""
             }
            },
            "type": "scatter3d"
           }
          ],
          "scattercarpet": [
           {
            "marker": {
             "colorbar": {
              "outlinewidth": 0,
              "ticks": ""
             }
            },
            "type": "scattercarpet"
           }
          ],
          "scattergeo": [
           {
            "marker": {
             "colorbar": {
              "outlinewidth": 0,
              "ticks": ""
             }
            },
            "type": "scattergeo"
           }
          ],
          "scattergl": [
           {
            "marker": {
             "colorbar": {
              "outlinewidth": 0,
              "ticks": ""
             }
            },
            "type": "scattergl"
           }
          ],
          "scattermapbox": [
           {
            "marker": {
             "colorbar": {
              "outlinewidth": 0,
              "ticks": ""
             }
            },
            "type": "scattermapbox"
           }
          ],
          "scatterpolar": [
           {
            "marker": {
             "colorbar": {
              "outlinewidth": 0,
              "ticks": ""
             }
            },
            "type": "scatterpolar"
           }
          ],
          "scatterpolargl": [
           {
            "marker": {
             "colorbar": {
              "outlinewidth": 0,
              "ticks": ""
             }
            },
            "type": "scatterpolargl"
           }
          ],
          "scatterternary": [
           {
            "marker": {
             "colorbar": {
              "outlinewidth": 0,
              "ticks": ""
             }
            },
            "type": "scatterternary"
           }
          ],
          "surface": [
           {
            "colorbar": {
             "outlinewidth": 0,
             "ticks": ""
            },
            "colorscale": [
             [
              0,
              "#0d0887"
             ],
             [
              0.1111111111111111,
              "#46039f"
             ],
             [
              0.2222222222222222,
              "#7201a8"
             ],
             [
              0.3333333333333333,
              "#9c179e"
             ],
             [
              0.4444444444444444,
              "#bd3786"
             ],
             [
              0.5555555555555556,
              "#d8576b"
             ],
             [
              0.6666666666666666,
              "#ed7953"
             ],
             [
              0.7777777777777778,
              "#fb9f3a"
             ],
             [
              0.8888888888888888,
              "#fdca26"
             ],
             [
              1,
              "#f0f921"
             ]
            ],
            "type": "surface"
           }
          ],
          "table": [
           {
            "cells": {
             "fill": {
              "color": "#EBF0F8"
             },
             "line": {
              "color": "white"
             }
            },
            "header": {
             "fill": {
              "color": "#C8D4E3"
             },
             "line": {
              "color": "white"
             }
            },
            "type": "table"
           }
          ]
         },
         "layout": {
          "annotationdefaults": {
           "arrowcolor": "#2a3f5f",
           "arrowhead": 0,
           "arrowwidth": 1
          },
          "autotypenumbers": "strict",
          "coloraxis": {
           "colorbar": {
            "outlinewidth": 0,
            "ticks": ""
           }
          },
          "colorscale": {
           "diverging": [
            [
             0,
             "#8e0152"
            ],
            [
             0.1,
             "#c51b7d"
            ],
            [
             0.2,
             "#de77ae"
            ],
            [
             0.3,
             "#f1b6da"
            ],
            [
             0.4,
             "#fde0ef"
            ],
            [
             0.5,
             "#f7f7f7"
            ],
            [
             0.6,
             "#e6f5d0"
            ],
            [
             0.7,
             "#b8e186"
            ],
            [
             0.8,
             "#7fbc41"
            ],
            [
             0.9,
             "#4d9221"
            ],
            [
             1,
             "#276419"
            ]
           ],
           "sequential": [
            [
             0,
             "#0d0887"
            ],
            [
             0.1111111111111111,
             "#46039f"
            ],
            [
             0.2222222222222222,
             "#7201a8"
            ],
            [
             0.3333333333333333,
             "#9c179e"
            ],
            [
             0.4444444444444444,
             "#bd3786"
            ],
            [
             0.5555555555555556,
             "#d8576b"
            ],
            [
             0.6666666666666666,
             "#ed7953"
            ],
            [
             0.7777777777777778,
             "#fb9f3a"
            ],
            [
             0.8888888888888888,
             "#fdca26"
            ],
            [
             1,
             "#f0f921"
            ]
           ],
           "sequentialminus": [
            [
             0,
             "#0d0887"
            ],
            [
             0.1111111111111111,
             "#46039f"
            ],
            [
             0.2222222222222222,
             "#7201a8"
            ],
            [
             0.3333333333333333,
             "#9c179e"
            ],
            [
             0.4444444444444444,
             "#bd3786"
            ],
            [
             0.5555555555555556,
             "#d8576b"
            ],
            [
             0.6666666666666666,
             "#ed7953"
            ],
            [
             0.7777777777777778,
             "#fb9f3a"
            ],
            [
             0.8888888888888888,
             "#fdca26"
            ],
            [
             1,
             "#f0f921"
            ]
           ]
          },
          "colorway": [
           "#636efa",
           "#EF553B",
           "#00cc96",
           "#ab63fa",
           "#FFA15A",
           "#19d3f3",
           "#FF6692",
           "#B6E880",
           "#FF97FF",
           "#FECB52"
          ],
          "font": {
           "color": "#2a3f5f"
          },
          "geo": {
           "bgcolor": "white",
           "lakecolor": "white",
           "landcolor": "#E5ECF6",
           "showlakes": true,
           "showland": true,
           "subunitcolor": "white"
          },
          "hoverlabel": {
           "align": "left"
          },
          "hovermode": "closest",
          "mapbox": {
           "style": "light"
          },
          "paper_bgcolor": "white",
          "plot_bgcolor": "#E5ECF6",
          "polar": {
           "angularaxis": {
            "gridcolor": "white",
            "linecolor": "white",
            "ticks": ""
           },
           "bgcolor": "#E5ECF6",
           "radialaxis": {
            "gridcolor": "white",
            "linecolor": "white",
            "ticks": ""
           }
          },
          "scene": {
           "xaxis": {
            "backgroundcolor": "#E5ECF6",
            "gridcolor": "white",
            "gridwidth": 2,
            "linecolor": "white",
            "showbackground": true,
            "ticks": "",
            "zerolinecolor": "white"
           },
           "yaxis": {
            "backgroundcolor": "#E5ECF6",
            "gridcolor": "white",
            "gridwidth": 2,
            "linecolor": "white",
            "showbackground": true,
            "ticks": "",
            "zerolinecolor": "white"
           },
           "zaxis": {
            "backgroundcolor": "#E5ECF6",
            "gridcolor": "white",
            "gridwidth": 2,
            "linecolor": "white",
            "showbackground": true,
            "ticks": "",
            "zerolinecolor": "white"
           }
          },
          "shapedefaults": {
           "line": {
            "color": "#2a3f5f"
           }
          },
          "ternary": {
           "aaxis": {
            "gridcolor": "white",
            "linecolor": "white",
            "ticks": ""
           },
           "baxis": {
            "gridcolor": "white",
            "linecolor": "white",
            "ticks": ""
           },
           "bgcolor": "#E5ECF6",
           "caxis": {
            "gridcolor": "white",
            "linecolor": "white",
            "ticks": ""
           }
          },
          "title": {
           "x": 0.05
          },
          "xaxis": {
           "automargin": true,
           "gridcolor": "white",
           "linecolor": "white",
           "ticks": "",
           "title": {
            "standoff": 15
           },
           "zerolinecolor": "white",
           "zerolinewidth": 2
          },
          "yaxis": {
           "automargin": true,
           "gridcolor": "white",
           "linecolor": "white",
           "ticks": "",
           "title": {
            "standoff": 15
           },
           "zerolinecolor": "white",
           "zerolinewidth": 2
          }
         }
        },
        "title": {
         "text": "failed V1 injections (Aud) scaled counts by hemisphere [p7-13]"
        },
        "violinmode": "group",
        "xaxis": {
         "anchor": "y",
         "categoryarray": [
          "Visual areas",
          "Retrosplenial area",
          "Midbrain",
          "Retrohippocampal region",
          "Prelimbic area",
          "Posterior parietal association areas",
          "Temporal association areas",
          "Hippocampal region",
          "Somatomotor areas",
          "Anterior cingulate area",
          "Gustatory areas",
          "Orbital area",
          "Somatosensory areas",
          "Thalamus",
          "Striatum",
          "Pallidum",
          "Cortical subplate",
          "root",
          "Hypothalamus",
          "Dorsal peduncular area",
          "Agranular insular area",
          "Pons",
          "Medulla",
          "Visceral area",
          "Postpiriform transition area",
          "ventricular systems",
          "Infralimbic area",
          "Cortical amygdalar area",
          "Piriform-amygdalar area",
          "Piriform area",
          "Perirhinal area",
          "Nucleus of the lateral olfactory tract",
          "Main olfactory bulb",
          "Frontal pole",
          "Taenia tecta",
          "Ectorhinal area",
          "Cerebellum",
          "Auditory areas",
          "Anterior olfactory nucleus",
          "Accessory olfactory bulb"
         ],
         "categoryorder": "array",
         "domain": [
          0,
          1
         ],
         "title": {
          "text": "General area"
         }
        },
        "yaxis": {
         "anchor": "x",
         "domain": [
          0,
          1
         ],
         "title": {
          "text": "scaled count"
         }
        }
       }
      }
     },
     "metadata": {},
     "output_type": "display_data"
    }
   ],
   "source": [
    "fig = px.violin(\n",
    "    big_file_Aud_injections,\n",
    "    y=\"scaled count\",\n",
    "    x=\"General area\",\n",
    "    color=\"Hemisphere\",\n",
    "    \n",
    "    box=True,\n",
    "    points=\"all\",\n",
    "    color_discrete_map={\n",
    "        \"left\": \"orange\",\n",
    "        \"right\": \"magenta\"\n",
    "    },\n",
    "    title=\"failed V1 injections (Aud) scaled counts by hemisphere [p7-13]\",\n",
    "    category_orders={\"General area\": area_order_scaled}\n",
    ")\n",
    "\n",
    "fig.update_traces(meanline_visible=True)\n",
    "fig.update_layout(violinmode='group')\n",
    "fig.show()"
   ]
  },
  {
   "cell_type": "code",
   "execution_count": 22,
   "id": "6b4784fd",
   "metadata": {},
   "outputs": [
    {
     "data": {
      "application/vnd.plotly.v1+json": {
       "config": {
        "plotlyServerURL": "https://plot.ly"
       },
       "data": [
        {
         "alignmentgroup": "True",
         "box": {
          "visible": true
         },
         "hovertemplate": "Hemisphere=left<br>General area=%{x}<br>count=%{y}<extra></extra>",
         "legendgroup": "left",
         "marker": {
          "color": "orange"
         },
         "meanline": {
          "visible": true
         },
         "name": "left",
         "offsetgroup": "left",
         "orientation": "v",
         "points": "all",
         "scalegroup": "True",
         "showlegend": true,
         "type": "violin",
         "x": [
          "Main olfactory bulb",
          "Orbital area",
          "Orbital area",
          "Orbital area",
          "Somatomotor areas",
          "Orbital area",
          "Anterior olfactory nucleus",
          "Orbital area",
          "Orbital area",
          "Orbital area",
          "Prelimbic area",
          "Anterior cingulate area",
          "Agranular insular area",
          "Somatomotor areas",
          "Somatomotor areas",
          "Piriform area",
          "Agranular insular area",
          "Cortical subplate",
          "Somatomotor areas",
          "Anterior cingulate area",
          "Anterior cingulate area",
          "Striatum",
          "Somatomotor areas",
          "Pallidum",
          "Striatum",
          "Somatosensory areas",
          "Somatosensory areas",
          "Somatomotor areas",
          "Somatosensory areas",
          "Visceral area",
          "Anterior cingulate area",
          "Striatum",
          "Somatosensory areas",
          "Agranular insular area",
          "Somatosensory areas",
          "Somatosensory areas",
          "Cortical subplate",
          "Retrosplenial area",
          "Somatosensory areas",
          "Somatosensory areas",
          "Somatosensory areas",
          "Retrosplenial area",
          "Retrosplenial area",
          "Somatosensory areas",
          "Retrosplenial area",
          "Thalamus",
          "Cortical subplate",
          "Retrosplenial area",
          "Retrosplenial area",
          "Retrosplenial area",
          "Retrosplenial area",
          "Agranular insular area",
          "Somatosensory areas",
          "Retrosplenial area",
          "Somatosensory areas",
          "Somatosensory areas",
          "Somatosensory areas",
          "Ectorhinal area",
          "Posterior parietal association areas",
          "Hypothalamus",
          "Pallidum",
          "Hypothalamus",
          "Posterior parietal association areas",
          "Striatum",
          "Hippocampal region",
          "Hippocampal region",
          "Hippocampal region",
          "Temporal association areas",
          "Temporal association areas",
          "Ectorhinal area",
          "Ectorhinal area",
          "Temporal association areas",
          "Temporal association areas",
          "Posterior parietal association areas",
          "Cortical subplate",
          "Hypothalamus",
          "Perirhinal area",
          "Visual areas",
          "Visual areas",
          "Visual areas",
          "Retrohippocampal region",
          "Visual areas",
          "Visual areas",
          "Perirhinal area",
          "Visual areas",
          "Visual areas",
          "Visual areas",
          "Retrohippocampal region",
          "Visual areas",
          "Visual areas",
          "Visual areas",
          "Visual areas",
          "Visual areas",
          "Perirhinal area",
          "Visual areas",
          "Retrohippocampal region",
          "Hypothalamus",
          "Hippocampal region",
          "Midbrain",
          "Visual areas",
          "Midbrain",
          "Visual areas",
          "Visual areas",
          "Visual areas",
          "Visual areas",
          "Midbrain",
          "Thalamus",
          "Retrohippocampal region",
          "Retrohippocampal region",
          "Midbrain",
          "Retrohippocampal region",
          "Retrohippocampal region",
          "Visual areas",
          "Visual areas",
          "Retrohippocampal region",
          "Visual areas",
          "Retrohippocampal region",
          "Retrohippocampal region",
          "Pons",
          "Visual areas",
          "Visual areas",
          "Midbrain",
          "Striatum",
          "Infralimbic area",
          "Pallidum",
          "Agranular insular area",
          "Striatum",
          "Pallidum",
          "Hypothalamus",
          "Hypothalamus",
          "Thalamus",
          "Hypothalamus",
          "Pallidum",
          "Cortical subplate",
          "Cortical subplate",
          "Auditory areas",
          "Auditory areas",
          "Auditory areas",
          "Auditory areas",
          "Auditory areas",
          "Auditory areas",
          "Thalamus",
          "Thalamus",
          "Hippocampal region",
          "Hypothalamus",
          "Auditory areas",
          "Auditory areas",
          "Auditory areas",
          "Auditory areas",
          "Auditory areas",
          "Auditory areas",
          "Auditory areas",
          "Auditory areas",
          "Ectorhinal area",
          "Auditory areas",
          "Midbrain",
          "Midbrain",
          "Midbrain",
          "Midbrain",
          "Pons",
          "Medulla",
          "Cerebellum",
          "Orbital area",
          "Orbital area",
          "Orbital area",
          "Orbital area",
          "Orbital area",
          "Somatomotor areas",
          "Orbital area",
          "Anterior cingulate area",
          "Anterior cingulate area",
          "Somatomotor areas",
          "Piriform area",
          "Anterior cingulate area",
          "Retrosplenial area",
          "Retrosplenial area",
          "Thalamus",
          "Retrosplenial area",
          "Temporal association areas",
          "Retrosplenial area",
          "Ectorhinal area",
          "Somatosensory areas",
          "Temporal association areas",
          "Ectorhinal area",
          "Visual areas",
          "Visual areas",
          "Visual areas",
          "Retrohippocampal region",
          "Hippocampal region",
          "Visual areas",
          "Visual areas",
          "Retrohippocampal region",
          "Visual areas",
          "Visual areas",
          "Pons",
          "Visual areas",
          "Retrohippocampal region",
          "Main olfactory bulb",
          "Anterior olfactory nucleus",
          "Taenia tecta",
          "Somatomotor areas",
          "Agranular insular area",
          "Agranular insular area",
          "Gustatory areas",
          "Cortical subplate",
          "Somatosensory areas",
          "Auditory areas",
          "Retrosplenial area",
          "Auditory areas",
          "Auditory areas",
          "Auditory areas",
          "Auditory areas",
          "Auditory areas",
          "Auditory areas",
          "Auditory areas",
          "Cortical subplate",
          "Retrohippocampal region",
          "Perirhinal area",
          "Auditory areas",
          "Visual areas",
          "Retrohippocampal region",
          "Midbrain",
          "Midbrain",
          "Midbrain",
          "Midbrain",
          "root",
          "Dorsal peduncular area",
          "Cortical amygdalar area",
          "Postpiriform transition area",
          "ventricular systems"
         ],
         "x0": " ",
         "xaxis": "x",
         "y": [
          2,
          19,
          1,
          3,
          21,
          3,
          4,
          4,
          4,
          1,
          1,
          4,
          2,
          9,
          1,
          8,
          2,
          1,
          17,
          1,
          4,
          5,
          9,
          1,
          1,
          2,
          5,
          1,
          2,
          2,
          2,
          1,
          2,
          7,
          5,
          2,
          1,
          2,
          1,
          2,
          1,
          11,
          13,
          7,
          2,
          1,
          4,
          1,
          3,
          2,
          1,
          1,
          2,
          1,
          1,
          1,
          3,
          13,
          1,
          3,
          2,
          1,
          1,
          2,
          1,
          43,
          14,
          19,
          38,
          4,
          1,
          2,
          2,
          1,
          2,
          1,
          2,
          2,
          2,
          1,
          12,
          13,
          4,
          1,
          2,
          6,
          2,
          5,
          1,
          8,
          1,
          3,
          1,
          1,
          12,
          2,
          1,
          2,
          5,
          13,
          1,
          1,
          9,
          11,
          3,
          4,
          2,
          5,
          3,
          7,
          3,
          1,
          14,
          12,
          1,
          1,
          1,
          1,
          1,
          1,
          4,
          1,
          2,
          1,
          1,
          1,
          3,
          1,
          1,
          1,
          2,
          1,
          1,
          1,
          1,
          10,
          9,
          40,
          3,
          5,
          21,
          1,
          2,
          1,
          2,
          45,
          41,
          5,
          2,
          2,
          16,
          19,
          4,
          1,
          3,
          1,
          4,
          1,
          1,
          1,
          1,
          3,
          3,
          4,
          1,
          2,
          2,
          4,
          1,
          1,
          3,
          4,
          1,
          1,
          1,
          2,
          1,
          2,
          3,
          2,
          5,
          1,
          8,
          4,
          2,
          3,
          1,
          1,
          1,
          1,
          1,
          3,
          3,
          1,
          4,
          3,
          1,
          1,
          1,
          4,
          1,
          1,
          3,
          1,
          1,
          1,
          1,
          2,
          1,
          1,
          6,
          1,
          3,
          1,
          1,
          1,
          1,
          2,
          1,
          1,
          1,
          2,
          2,
          3,
          2,
          0,
          0,
          0,
          0,
          0
         ],
         "y0": " ",
         "yaxis": "y"
        },
        {
         "alignmentgroup": "True",
         "box": {
          "visible": true
         },
         "hovertemplate": "Hemisphere=right<br>General area=%{x}<br>count=%{y}<extra></extra>",
         "legendgroup": "right",
         "marker": {
          "color": "magenta"
         },
         "meanline": {
          "visible": true
         },
         "name": "right",
         "offsetgroup": "right",
         "orientation": "v",
         "points": "all",
         "scalegroup": "True",
         "showlegend": true,
         "type": "violin",
         "x": [
          "Orbital area",
          "Prelimbic area",
          "Orbital area",
          "Prelimbic area",
          "Orbital area",
          "Agranular insular area",
          "Orbital area",
          "Orbital area",
          "Agranular insular area",
          "Infralimbic area",
          "Agranular insular area",
          "Somatomotor areas",
          "Somatosensory areas",
          "Anterior cingulate area",
          "Agranular insular area",
          "Somatosensory areas",
          "Anterior cingulate area",
          "Somatosensory areas",
          "Gustatory areas",
          "Gustatory areas",
          "Gustatory areas",
          "Gustatory areas",
          "Somatosensory areas",
          "ventricular systems",
          "Somatosensory areas",
          "Hypothalamus",
          "Striatum",
          "Somatosensory areas",
          "Somatosensory areas",
          "Somatosensory areas",
          "Pallidum",
          "Striatum",
          "Somatosensory areas",
          "Somatosensory areas",
          "Cortical amygdalar area",
          "Somatosensory areas",
          "Somatosensory areas",
          "Thalamus",
          "Striatum",
          "Visceral area",
          "Thalamus",
          "Thalamus",
          "Somatosensory areas",
          "Somatomotor areas",
          "Visceral area",
          "Thalamus",
          "Thalamus",
          "Visceral area",
          "Posterior parietal association areas",
          "Posterior parietal association areas",
          "Thalamus",
          "Cortical subplate",
          "Retrosplenial area",
          "Retrosplenial area",
          "Thalamus",
          "Somatosensory areas",
          "root",
          "Thalamus",
          "Somatosensory areas",
          "Posterior parietal association areas",
          "Posterior parietal association areas",
          "Visual areas",
          "Posterior parietal association areas",
          "Somatosensory areas",
          "Hypothalamus",
          "Retrosplenial area",
          "Temporal association areas",
          "Visual areas",
          "Cortical amygdalar area",
          "Visual areas",
          "Midbrain",
          "Retrosplenial area",
          "Hypothalamus",
          "Visual areas",
          "Postpiriform transition area",
          "Hypothalamus",
          "Hypothalamus",
          "Midbrain",
          "Visual areas",
          "Visual areas",
          "Thalamus",
          "Thalamus",
          "Thalamus",
          "Thalamus",
          "Thalamus",
          "Thalamus",
          "Visual areas",
          "Visual areas",
          "Temporal association areas",
          "Thalamus",
          "Thalamus",
          "Visual areas",
          "Visual areas",
          "Visual areas",
          "Visual areas",
          "Midbrain",
          "Visual areas",
          "Midbrain",
          "Midbrain",
          "Midbrain",
          "Pons",
          "Retrohippocampal region",
          "Visual areas",
          "Visual areas",
          "Retrohippocampal region",
          "Midbrain",
          "Midbrain",
          "Retrohippocampal region",
          "Retrohippocampal region",
          "Midbrain",
          "Pons",
          "Visual areas",
          "Pons",
          "Medulla",
          "Prelimbic area",
          "Orbital area",
          "Orbital area",
          "Prelimbic area",
          "Dorsal peduncular area",
          "Somatosensory areas",
          "Striatum",
          "Anterior cingulate area",
          "Cortical subplate",
          "Agranular insular area",
          "Gustatory areas",
          "Anterior cingulate area",
          "Anterior cingulate area",
          "Somatomotor areas",
          "Somatomotor areas",
          "Agranular insular area",
          "Pallidum",
          "Somatosensory areas",
          "Somatosensory areas",
          "Somatosensory areas",
          "Thalamus",
          "Somatosensory areas",
          "Thalamus",
          "Posterior parietal association areas",
          "Retrosplenial area",
          "Somatosensory areas",
          "Posterior parietal association areas",
          "Somatosensory areas",
          "Posterior parietal association areas",
          "Posterior parietal association areas",
          "Visual areas",
          "Posterior parietal association areas",
          "Visual areas",
          "Somatosensory areas",
          "Retrosplenial area",
          "Visual areas",
          "Somatosensory areas",
          "Visual areas",
          "Posterior parietal association areas",
          "Visual areas",
          "Somatosensory areas",
          "Visual areas",
          "Cortical subplate",
          "Visual areas",
          "Visual areas",
          "Visual areas",
          "Visual areas",
          "Hippocampal region",
          "Midbrain",
          "Visual areas",
          "Thalamus",
          "Temporal association areas",
          "Hippocampal region",
          "Midbrain",
          "Visual areas",
          "Visual areas",
          "Temporal association areas",
          "Temporal association areas",
          "Visual areas",
          "Hypothalamus",
          "Retrohippocampal region",
          "Visual areas",
          "Visual areas",
          "Temporal association areas",
          "Visual areas",
          "Visual areas",
          "Visual areas",
          "Retrosplenial area",
          "Hippocampal region",
          "Thalamus",
          "Midbrain",
          "Thalamus",
          "Thalamus",
          "Midbrain",
          "Midbrain",
          "Midbrain",
          "Retrohippocampal region",
          "root",
          "Visual areas",
          "Retrohippocampal region",
          "Visual areas",
          "Visual areas",
          "Retrohippocampal region",
          "Retrohippocampal region",
          "Retrohippocampal region",
          "Retrohippocampal region",
          "Retrohippocampal region",
          "Midbrain",
          "Frontal pole",
          "Auditory areas",
          "Perirhinal area",
          "Ectorhinal area",
          "Main olfactory bulb",
          "Accessory olfactory bulb",
          "Anterior olfactory nucleus",
          "Taenia tecta",
          "Piriform area",
          "Nucleus of the lateral olfactory tract",
          "Piriform-amygdalar area",
          "Cerebellum"
         ],
         "x0": " ",
         "xaxis": "x",
         "y": [
          11,
          10,
          2,
          3,
          4,
          1,
          1,
          3,
          3,
          1,
          1,
          8,
          6,
          7,
          1,
          5,
          6,
          6,
          18,
          2,
          1,
          1,
          5,
          1,
          2,
          1,
          1,
          5,
          8,
          1,
          3,
          1,
          7,
          7,
          1,
          3,
          2,
          2,
          1,
          2,
          2,
          1,
          2,
          1,
          1,
          2,
          1,
          1,
          21,
          21,
          1,
          2,
          8,
          1,
          2,
          8,
          8,
          1,
          1,
          1,
          4,
          1,
          6,
          1,
          1,
          1,
          23,
          328,
          1,
          5,
          6,
          1,
          1,
          177,
          2,
          1,
          4,
          1,
          5,
          3,
          2,
          2,
          11,
          10,
          7,
          10,
          5,
          11,
          10,
          9,
          1,
          6,
          12,
          4,
          8,
          2,
          2,
          21,
          3,
          1,
          4,
          1,
          12,
          1,
          10,
          2,
          1,
          2,
          9,
          1,
          2,
          1,
          4,
          2,
          11,
          4,
          2,
          2,
          1,
          1,
          3,
          5,
          2,
          1,
          2,
          1,
          1,
          2,
          5,
          1,
          2,
          1,
          2,
          1,
          3,
          1,
          1,
          1,
          1,
          1,
          3,
          1,
          2,
          4,
          18,
          11,
          6,
          4,
          21,
          4,
          3,
          10,
          1,
          4,
          1,
          2,
          2,
          23,
          31,
          13,
          33,
          5,
          17,
          10,
          3,
          8,
          1,
          3,
          43,
          2,
          9,
          7,
          2,
          1,
          1,
          10,
          1,
          3,
          9,
          6,
          1,
          2,
          1,
          3,
          2,
          3,
          1,
          2,
          1,
          1,
          8,
          2,
          1,
          15,
          20,
          1,
          1,
          7,
          2,
          4,
          1,
          1,
          0,
          0,
          0,
          0,
          0,
          0,
          0,
          0,
          0,
          0,
          0,
          0
         ],
         "y0": " ",
         "yaxis": "y"
        }
       ],
       "layout": {
        "legend": {
         "title": {
          "text": "Hemisphere"
         },
         "tracegroupgap": 0
        },
        "template": {
         "data": {
          "bar": [
           {
            "error_x": {
             "color": "#2a3f5f"
            },
            "error_y": {
             "color": "#2a3f5f"
            },
            "marker": {
             "line": {
              "color": "#E5ECF6",
              "width": 0.5
             },
             "pattern": {
              "fillmode": "overlay",
              "size": 10,
              "solidity": 0.2
             }
            },
            "type": "bar"
           }
          ],
          "barpolar": [
           {
            "marker": {
             "line": {
              "color": "#E5ECF6",
              "width": 0.5
             },
             "pattern": {
              "fillmode": "overlay",
              "size": 10,
              "solidity": 0.2
             }
            },
            "type": "barpolar"
           }
          ],
          "carpet": [
           {
            "aaxis": {
             "endlinecolor": "#2a3f5f",
             "gridcolor": "white",
             "linecolor": "white",
             "minorgridcolor": "white",
             "startlinecolor": "#2a3f5f"
            },
            "baxis": {
             "endlinecolor": "#2a3f5f",
             "gridcolor": "white",
             "linecolor": "white",
             "minorgridcolor": "white",
             "startlinecolor": "#2a3f5f"
            },
            "type": "carpet"
           }
          ],
          "choropleth": [
           {
            "colorbar": {
             "outlinewidth": 0,
             "ticks": ""
            },
            "type": "choropleth"
           }
          ],
          "contour": [
           {
            "colorbar": {
             "outlinewidth": 0,
             "ticks": ""
            },
            "colorscale": [
             [
              0,
              "#0d0887"
             ],
             [
              0.1111111111111111,
              "#46039f"
             ],
             [
              0.2222222222222222,
              "#7201a8"
             ],
             [
              0.3333333333333333,
              "#9c179e"
             ],
             [
              0.4444444444444444,
              "#bd3786"
             ],
             [
              0.5555555555555556,
              "#d8576b"
             ],
             [
              0.6666666666666666,
              "#ed7953"
             ],
             [
              0.7777777777777778,
              "#fb9f3a"
             ],
             [
              0.8888888888888888,
              "#fdca26"
             ],
             [
              1,
              "#f0f921"
             ]
            ],
            "type": "contour"
           }
          ],
          "contourcarpet": [
           {
            "colorbar": {
             "outlinewidth": 0,
             "ticks": ""
            },
            "type": "contourcarpet"
           }
          ],
          "heatmap": [
           {
            "colorbar": {
             "outlinewidth": 0,
             "ticks": ""
            },
            "colorscale": [
             [
              0,
              "#0d0887"
             ],
             [
              0.1111111111111111,
              "#46039f"
             ],
             [
              0.2222222222222222,
              "#7201a8"
             ],
             [
              0.3333333333333333,
              "#9c179e"
             ],
             [
              0.4444444444444444,
              "#bd3786"
             ],
             [
              0.5555555555555556,
              "#d8576b"
             ],
             [
              0.6666666666666666,
              "#ed7953"
             ],
             [
              0.7777777777777778,
              "#fb9f3a"
             ],
             [
              0.8888888888888888,
              "#fdca26"
             ],
             [
              1,
              "#f0f921"
             ]
            ],
            "type": "heatmap"
           }
          ],
          "heatmapgl": [
           {
            "colorbar": {
             "outlinewidth": 0,
             "ticks": ""
            },
            "colorscale": [
             [
              0,
              "#0d0887"
             ],
             [
              0.1111111111111111,
              "#46039f"
             ],
             [
              0.2222222222222222,
              "#7201a8"
             ],
             [
              0.3333333333333333,
              "#9c179e"
             ],
             [
              0.4444444444444444,
              "#bd3786"
             ],
             [
              0.5555555555555556,
              "#d8576b"
             ],
             [
              0.6666666666666666,
              "#ed7953"
             ],
             [
              0.7777777777777778,
              "#fb9f3a"
             ],
             [
              0.8888888888888888,
              "#fdca26"
             ],
             [
              1,
              "#f0f921"
             ]
            ],
            "type": "heatmapgl"
           }
          ],
          "histogram": [
           {
            "marker": {
             "pattern": {
              "fillmode": "overlay",
              "size": 10,
              "solidity": 0.2
             }
            },
            "type": "histogram"
           }
          ],
          "histogram2d": [
           {
            "colorbar": {
             "outlinewidth": 0,
             "ticks": ""
            },
            "colorscale": [
             [
              0,
              "#0d0887"
             ],
             [
              0.1111111111111111,
              "#46039f"
             ],
             [
              0.2222222222222222,
              "#7201a8"
             ],
             [
              0.3333333333333333,
              "#9c179e"
             ],
             [
              0.4444444444444444,
              "#bd3786"
             ],
             [
              0.5555555555555556,
              "#d8576b"
             ],
             [
              0.6666666666666666,
              "#ed7953"
             ],
             [
              0.7777777777777778,
              "#fb9f3a"
             ],
             [
              0.8888888888888888,
              "#fdca26"
             ],
             [
              1,
              "#f0f921"
             ]
            ],
            "type": "histogram2d"
           }
          ],
          "histogram2dcontour": [
           {
            "colorbar": {
             "outlinewidth": 0,
             "ticks": ""
            },
            "colorscale": [
             [
              0,
              "#0d0887"
             ],
             [
              0.1111111111111111,
              "#46039f"
             ],
             [
              0.2222222222222222,
              "#7201a8"
             ],
             [
              0.3333333333333333,
              "#9c179e"
             ],
             [
              0.4444444444444444,
              "#bd3786"
             ],
             [
              0.5555555555555556,
              "#d8576b"
             ],
             [
              0.6666666666666666,
              "#ed7953"
             ],
             [
              0.7777777777777778,
              "#fb9f3a"
             ],
             [
              0.8888888888888888,
              "#fdca26"
             ],
             [
              1,
              "#f0f921"
             ]
            ],
            "type": "histogram2dcontour"
           }
          ],
          "mesh3d": [
           {
            "colorbar": {
             "outlinewidth": 0,
             "ticks": ""
            },
            "type": "mesh3d"
           }
          ],
          "parcoords": [
           {
            "line": {
             "colorbar": {
              "outlinewidth": 0,
              "ticks": ""
             }
            },
            "type": "parcoords"
           }
          ],
          "pie": [
           {
            "automargin": true,
            "type": "pie"
           }
          ],
          "scatter": [
           {
            "fillpattern": {
             "fillmode": "overlay",
             "size": 10,
             "solidity": 0.2
            },
            "type": "scatter"
           }
          ],
          "scatter3d": [
           {
            "line": {
             "colorbar": {
              "outlinewidth": 0,
              "ticks": ""
             }
            },
            "marker": {
             "colorbar": {
              "outlinewidth": 0,
              "ticks": ""
             }
            },
            "type": "scatter3d"
           }
          ],
          "scattercarpet": [
           {
            "marker": {
             "colorbar": {
              "outlinewidth": 0,
              "ticks": ""
             }
            },
            "type": "scattercarpet"
           }
          ],
          "scattergeo": [
           {
            "marker": {
             "colorbar": {
              "outlinewidth": 0,
              "ticks": ""
             }
            },
            "type": "scattergeo"
           }
          ],
          "scattergl": [
           {
            "marker": {
             "colorbar": {
              "outlinewidth": 0,
              "ticks": ""
             }
            },
            "type": "scattergl"
           }
          ],
          "scattermapbox": [
           {
            "marker": {
             "colorbar": {
              "outlinewidth": 0,
              "ticks": ""
             }
            },
            "type": "scattermapbox"
           }
          ],
          "scatterpolar": [
           {
            "marker": {
             "colorbar": {
              "outlinewidth": 0,
              "ticks": ""
             }
            },
            "type": "scatterpolar"
           }
          ],
          "scatterpolargl": [
           {
            "marker": {
             "colorbar": {
              "outlinewidth": 0,
              "ticks": ""
             }
            },
            "type": "scatterpolargl"
           }
          ],
          "scatterternary": [
           {
            "marker": {
             "colorbar": {
              "outlinewidth": 0,
              "ticks": ""
             }
            },
            "type": "scatterternary"
           }
          ],
          "surface": [
           {
            "colorbar": {
             "outlinewidth": 0,
             "ticks": ""
            },
            "colorscale": [
             [
              0,
              "#0d0887"
             ],
             [
              0.1111111111111111,
              "#46039f"
             ],
             [
              0.2222222222222222,
              "#7201a8"
             ],
             [
              0.3333333333333333,
              "#9c179e"
             ],
             [
              0.4444444444444444,
              "#bd3786"
             ],
             [
              0.5555555555555556,
              "#d8576b"
             ],
             [
              0.6666666666666666,
              "#ed7953"
             ],
             [
              0.7777777777777778,
              "#fb9f3a"
             ],
             [
              0.8888888888888888,
              "#fdca26"
             ],
             [
              1,
              "#f0f921"
             ]
            ],
            "type": "surface"
           }
          ],
          "table": [
           {
            "cells": {
             "fill": {
              "color": "#EBF0F8"
             },
             "line": {
              "color": "white"
             }
            },
            "header": {
             "fill": {
              "color": "#C8D4E3"
             },
             "line": {
              "color": "white"
             }
            },
            "type": "table"
           }
          ]
         },
         "layout": {
          "annotationdefaults": {
           "arrowcolor": "#2a3f5f",
           "arrowhead": 0,
           "arrowwidth": 1
          },
          "autotypenumbers": "strict",
          "coloraxis": {
           "colorbar": {
            "outlinewidth": 0,
            "ticks": ""
           }
          },
          "colorscale": {
           "diverging": [
            [
             0,
             "#8e0152"
            ],
            [
             0.1,
             "#c51b7d"
            ],
            [
             0.2,
             "#de77ae"
            ],
            [
             0.3,
             "#f1b6da"
            ],
            [
             0.4,
             "#fde0ef"
            ],
            [
             0.5,
             "#f7f7f7"
            ],
            [
             0.6,
             "#e6f5d0"
            ],
            [
             0.7,
             "#b8e186"
            ],
            [
             0.8,
             "#7fbc41"
            ],
            [
             0.9,
             "#4d9221"
            ],
            [
             1,
             "#276419"
            ]
           ],
           "sequential": [
            [
             0,
             "#0d0887"
            ],
            [
             0.1111111111111111,
             "#46039f"
            ],
            [
             0.2222222222222222,
             "#7201a8"
            ],
            [
             0.3333333333333333,
             "#9c179e"
            ],
            [
             0.4444444444444444,
             "#bd3786"
            ],
            [
             0.5555555555555556,
             "#d8576b"
            ],
            [
             0.6666666666666666,
             "#ed7953"
            ],
            [
             0.7777777777777778,
             "#fb9f3a"
            ],
            [
             0.8888888888888888,
             "#fdca26"
            ],
            [
             1,
             "#f0f921"
            ]
           ],
           "sequentialminus": [
            [
             0,
             "#0d0887"
            ],
            [
             0.1111111111111111,
             "#46039f"
            ],
            [
             0.2222222222222222,
             "#7201a8"
            ],
            [
             0.3333333333333333,
             "#9c179e"
            ],
            [
             0.4444444444444444,
             "#bd3786"
            ],
            [
             0.5555555555555556,
             "#d8576b"
            ],
            [
             0.6666666666666666,
             "#ed7953"
            ],
            [
             0.7777777777777778,
             "#fb9f3a"
            ],
            [
             0.8888888888888888,
             "#fdca26"
            ],
            [
             1,
             "#f0f921"
            ]
           ]
          },
          "colorway": [
           "#636efa",
           "#EF553B",
           "#00cc96",
           "#ab63fa",
           "#FFA15A",
           "#19d3f3",
           "#FF6692",
           "#B6E880",
           "#FF97FF",
           "#FECB52"
          ],
          "font": {
           "color": "#2a3f5f"
          },
          "geo": {
           "bgcolor": "white",
           "lakecolor": "white",
           "landcolor": "#E5ECF6",
           "showlakes": true,
           "showland": true,
           "subunitcolor": "white"
          },
          "hoverlabel": {
           "align": "left"
          },
          "hovermode": "closest",
          "mapbox": {
           "style": "light"
          },
          "paper_bgcolor": "white",
          "plot_bgcolor": "#E5ECF6",
          "polar": {
           "angularaxis": {
            "gridcolor": "white",
            "linecolor": "white",
            "ticks": ""
           },
           "bgcolor": "#E5ECF6",
           "radialaxis": {
            "gridcolor": "white",
            "linecolor": "white",
            "ticks": ""
           }
          },
          "scene": {
           "xaxis": {
            "backgroundcolor": "#E5ECF6",
            "gridcolor": "white",
            "gridwidth": 2,
            "linecolor": "white",
            "showbackground": true,
            "ticks": "",
            "zerolinecolor": "white"
           },
           "yaxis": {
            "backgroundcolor": "#E5ECF6",
            "gridcolor": "white",
            "gridwidth": 2,
            "linecolor": "white",
            "showbackground": true,
            "ticks": "",
            "zerolinecolor": "white"
           },
           "zaxis": {
            "backgroundcolor": "#E5ECF6",
            "gridcolor": "white",
            "gridwidth": 2,
            "linecolor": "white",
            "showbackground": true,
            "ticks": "",
            "zerolinecolor": "white"
           }
          },
          "shapedefaults": {
           "line": {
            "color": "#2a3f5f"
           }
          },
          "ternary": {
           "aaxis": {
            "gridcolor": "white",
            "linecolor": "white",
            "ticks": ""
           },
           "baxis": {
            "gridcolor": "white",
            "linecolor": "white",
            "ticks": ""
           },
           "bgcolor": "#E5ECF6",
           "caxis": {
            "gridcolor": "white",
            "linecolor": "white",
            "ticks": ""
           }
          },
          "title": {
           "x": 0.05
          },
          "xaxis": {
           "automargin": true,
           "gridcolor": "white",
           "linecolor": "white",
           "ticks": "",
           "title": {
            "standoff": 15
           },
           "zerolinecolor": "white",
           "zerolinewidth": 2
          },
          "yaxis": {
           "automargin": true,
           "gridcolor": "white",
           "linecolor": "white",
           "ticks": "",
           "title": {
            "standoff": 15
           },
           "zerolinecolor": "white",
           "zerolinewidth": 2
          }
         }
        },
        "title": {
         "text": "failed V1 injections (Aud) counts by hemisphere [p7-13]"
        },
        "violinmode": "group",
        "xaxis": {
         "anchor": "y",
         "categoryarray": [
          "Visual areas",
          "Retrosplenial area",
          "Midbrain",
          "Retrohippocampal region",
          "Prelimbic area",
          "Posterior parietal association areas",
          "Temporal association areas",
          "Hippocampal region",
          "Somatomotor areas",
          "Anterior cingulate area",
          "Gustatory areas",
          "Orbital area",
          "Somatosensory areas",
          "Thalamus",
          "Striatum",
          "Pallidum",
          "Cortical subplate",
          "root",
          "Hypothalamus",
          "Dorsal peduncular area",
          "Agranular insular area",
          "Pons",
          "Medulla",
          "Visceral area",
          "Postpiriform transition area",
          "ventricular systems",
          "Infralimbic area",
          "Cortical amygdalar area",
          "Piriform-amygdalar area",
          "Piriform area",
          "Perirhinal area",
          "Nucleus of the lateral olfactory tract",
          "Main olfactory bulb",
          "Frontal pole",
          "Taenia tecta",
          "Ectorhinal area",
          "Cerebellum",
          "Auditory areas",
          "Anterior olfactory nucleus",
          "Accessory olfactory bulb"
         ],
         "categoryorder": "array",
         "domain": [
          0,
          1
         ],
         "title": {
          "text": "General area"
         }
        },
        "yaxis": {
         "anchor": "x",
         "domain": [
          0,
          1
         ],
         "title": {
          "text": "count"
         }
        }
       }
      }
     },
     "metadata": {},
     "output_type": "display_data"
    }
   ],
   "source": [
    "fig = px.violin(\n",
    "    big_file_Aud_injections,\n",
    "    y=\"count\",\n",
    "    x=\"General area\",\n",
    "    color=\"Hemisphere\",\n",
    "    \n",
    "    box=True,\n",
    "    points=\"all\",\n",
    "    color_discrete_map={\n",
    "        \"left\": \"orange\",\n",
    "        \"right\": \"magenta\"\n",
    "    },\n",
    "    title=\"failed V1 injections (Aud) counts by hemisphere [p7-13]\",\n",
    "    category_orders={\"General area\": area_order_scaled}\n",
    ")\n",
    "\n",
    "fig.update_traces(meanline_visible=True)\n",
    "fig.update_layout(violinmode='group')\n",
    "fig.show()"
   ]
  }
 ],
 "metadata": {
  "kernelspec": {
   "display_name": "base",
   "language": "python",
   "name": "python3"
  },
  "language_info": {
   "codemirror_mode": {
    "name": "ipython",
    "version": 3
   },
   "file_extension": ".py",
   "mimetype": "text/x-python",
   "name": "python",
   "nbconvert_exporter": "python",
   "pygments_lexer": "ipython3",
   "version": "3.11.5"
  }
 },
 "nbformat": 4,
 "nbformat_minor": 5
}
