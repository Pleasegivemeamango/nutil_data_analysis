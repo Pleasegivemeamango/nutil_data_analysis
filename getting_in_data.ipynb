{
 "cells": [
  {
   "cell_type": "code",
   "execution_count": 1,
   "id": "4cd23d64",
   "metadata": {},
   "outputs": [
    {
     "name": "stdout",
     "output_type": "stream",
     "text": [
      "      Region ID               Region name  Region pixels   Region area  \\\n",
      "0             0               Clear Label              0      0.000000   \n",
      "1         15564              Mus musculus              0      0.000000   \n",
      "2         15565              neural plate              0      0.000000   \n",
      "3         15566                 forebrain              0      0.000000   \n",
      "4         15567  secondary prosencephalon              0      0.000000   \n",
      "...         ...                       ...            ...           ...   \n",
      "2346      34272          Unassigned label            482    482.231609   \n",
      "2347      34319          Unassigned label              0      0.000000   \n",
      "2348      34533          Unassigned label             41     41.058662   \n",
      "2349      49730          Unassigned label            129    128.563965   \n",
      "2350      65535          Unassigned label          15642  15642.359990   \n",
      "\n",
      "     Area unit  Object count  Object pixels  Object area Area unit.1      Load  \n",
      "0       pixels           163            990          990      pixels  0.000000  \n",
      "1       pixels             0              0            0      pixels  0.000000  \n",
      "2       pixels             0              0            0      pixels  0.000000  \n",
      "3       pixels             0              0            0      pixels  0.000000  \n",
      "4       pixels             0              0            0      pixels  0.000000  \n",
      "...        ...           ...            ...          ...         ...       ...  \n",
      "2346    pixels             0              0            0      pixels  0.000000  \n",
      "2347    pixels             0              0            0      pixels  0.000000  \n",
      "2348    pixels             0              0            0      pixels  0.000000  \n",
      "2349    pixels             0              0            0      pixels  0.000000  \n",
      "2350    pixels             2             29           29      pixels  0.001854  \n",
      "\n",
      "[2351 rows x 10 columns]\n"
     ]
    }
   ],
   "source": [
    "import pandas as pd\n",
    "import numpy as np\n",
    "import matplotlib.pyplot as plt\n",
    "RefAtlasRegions = pd.read_csv(\"20241010_p1_7_n3_RefAtlasRegions.csv\", sep=';')\n",
    "                              \n",
    "\n",
    "print(RefAtlasRegions) \n",
    "\n",
    "\n",
    "\n",
    "\n",
    "\n"
   ]
  },
  {
   "cell_type": "code",
   "execution_count": null,
   "id": "2eb11633",
   "metadata": {},
   "outputs": [
    {
     "name": "stdout",
     "output_type": "stream",
     "text": [
      "      Region ID               Region name  Object count\n",
      "0             0               Clear Label           163\n",
      "1         15564              Mus musculus             0\n",
      "2         15565              neural plate             0\n",
      "3         15566                 forebrain             0\n",
      "4         15567  secondary prosencephalon             0\n",
      "...         ...                       ...           ...\n",
      "2346      34272          Unassigned label             0\n",
      "2347      34319          Unassigned label             0\n",
      "2348      34533          Unassigned label             0\n",
      "2349      49730          Unassigned label             0\n",
      "2350      65535          Unassigned label             2\n",
      "\n",
      "[2351 rows x 3 columns]\n"
     ]
    }
   ],
   "source": [
    "#print(RefAtlasRegions.columns)\n",
    "#print(RefAtlasRegions[\"Object count\"])\n",
    "\n",
    "# transform the RefAtlasRegions DataFrame to a new data frame only containing the columns \"Region ID\", \"Region Name\", and \"Object count\"\n",
    "RefAtlasRegions_filtered = RefAtlasRegions[[\"Region ID\", \"Region name\", \"Object count\"]]\n",
    "print(RefAtlasRegions_filtered)\n",
    "\n",
    "\n"
   ]
  },
  {
   "cell_type": "code",
   "execution_count": 4,
   "id": "5a4ff5e2",
   "metadata": {},
   "outputs": [
    {
     "name": "stdout",
     "output_type": "stream",
     "text": [
      "      Region ID                          Region name  Object count\n",
      "0             0                          Clear Label           163\n",
      "13        15576                  preoptic alar plate             1\n",
      "14        15577                        preoptic area             2\n",
      "60        15623   alar part of terminal hypothalamus             2\n",
      "103       15666  basal part of terminal hypothalamus             4\n",
      "...         ...                                  ...           ...\n",
      "2254      18010                        p3 part of sm             1\n",
      "2256      18012                      THy part of opt             1\n",
      "2258      18014      brachium of superior colliculus             1\n",
      "2332      33911                     Unassigned label             1\n",
      "2350      65535                     Unassigned label             2\n",
      "\n",
      "[122 rows x 3 columns]\n"
     ]
    }
   ],
   "source": [
    "#filter out all rows where the \"Object count\" is 0\n",
    "RefAtlasRegions_no_zero = RefAtlasRegions_filtered[RefAtlasRegions_filtered[\"Object count\"] > 0]\n",
    "print(RefAtlasRegions_no_zero)"
   ]
  },
  {
   "cell_type": "code",
   "execution_count": 5,
   "id": "4cc9a72a",
   "metadata": {},
   "outputs": [
    {
     "name": "stdout",
     "output_type": "stream",
     "text": [
      "[0, 15576, 15577, 15623, 15666, 15723, 15751, 15862, 15904, 15905, 15924, 15934, 15945, 15950, 15952, 15965, 15977, 15986, 15987, 15988, 15996, 15998, 15999, 16008, 16012, 16014, 16022, 16025, 16026, 16028, 16029, 16036, 16039, 16040, 16042, 16043, 16053, 16054, 16055, 16064, 16068, 16070, 16071, 16078, 16082, 16084, 16091, 16092, 16094, 16098, 16100, 16108, 16111, 16112, 16113, 16114, 16120, 16122, 16123, 16129, 16132, 16133, 16134, 16140, 16143, 16145, 16170, 16171, 16172, 16186, 16212, 16247, 16313, 16353, 16395, 16400, 16401, 16402, 16403, 16404, 16405, 16406, 16408, 16411, 16418, 16420, 16421, 16422, 16428, 16429, 16434, 16440, 16457, 16466, 16487, 16519, 16624, 16676, 16690, 16691, 16708, 16726, 16730, 16813, 16876, 17123, 17182, 17755, 17766, 18002, 18003, 18004, 18005, 18006, 18007, 18008, 18009, 18010, 18012, 18014, 33911, 65535]\n"
     ]
    }
   ],
   "source": [
    "# make a list of all the region IDs in the RefAtlasRegions_no_zero DataFrame\n",
    "region_ids = RefAtlasRegions_no_zero[\"Region ID\"].tolist()\n",
    "print(region_ids)"
   ]
  },
  {
   "cell_type": "code",
   "execution_count": 6,
   "id": "3912c3b8",
   "metadata": {},
   "outputs": [
    {
     "name": "stdout",
     "output_type": "stream",
     "text": [
      "Total Object count: 4497\n"
     ]
    }
   ],
   "source": [
    "# get total number of Object counts\n",
    "total_object_count = RefAtlasRegions_no_zero[\"Object count\"].sum()\n",
    "print(f\"Total Object count: {total_object_count}\")"
   ]
  }
 ],
 "metadata": {
  "kernelspec": {
   "display_name": "base",
   "language": "python",
   "name": "python3"
  },
  "language_info": {
   "codemirror_mode": {
    "name": "ipython",
    "version": 3
   },
   "file_extension": ".py",
   "mimetype": "text/x-python",
   "name": "python",
   "nbconvert_exporter": "python",
   "pygments_lexer": "ipython3",
   "version": "3.11.5"
  }
 },
 "nbformat": 4,
 "nbformat_minor": 5
}
