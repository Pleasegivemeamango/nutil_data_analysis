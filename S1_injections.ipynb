{
 "cells": [
  {
   "cell_type": "code",
   "execution_count": 70,
   "id": "264afaac",
   "metadata": {},
   "outputs": [],
   "source": [
    "import pandas as pd\n",
    "import os\n",
    "import plotly.express as px\n",
    "\n",
    "regions_complete = pd.read_csv(\"regions_complete.csv\", sep=\";\")"
   ]
  },
  {
   "cell_type": "code",
   "execution_count": 71,
   "id": "2049afea",
   "metadata": {},
   "outputs": [
    {
     "name": "stdout",
     "output_type": "stream",
     "text": [
      "WT_n1_P6_Objects_All_black\n",
      "WT_n1_P6_Objects_All_white\n",
      "WT_n2_P6_Objects_All_black\n",
      "WT_n2_P6_Objects_All_white\n",
      "WT_n2_P7_Objects_All_black\n",
      "WT_n2_P7_Objects_All_white\n"
     ]
    }
   ],
   "source": [
    "# get the csv files from the size_points folder\n",
    "\n",
    "size_points_path = \"size_points_S1_injection\"\n",
    "min_pixel_size = 1\n",
    "max_pixel_size = 17\n",
    "\n",
    "\n",
    "# loop through the files and save the csv files as seperate dataframes with the name of the file\n",
    "brains = {}\n",
    "for file in os.listdir(size_points_path):\n",
    "    if file.endswith(\".csv\"):\n",
    "        # get the brain name from the file name\n",
    "        brain_name = file.split(\"_\")[0:6]\n",
    "        # join the brain name parts with an underscore\n",
    "        brain_name = \"_\".join(brain_name)\n",
    "        # take away .csv from the end of the brain name\n",
    "        brain_name = brain_name.replace(\".csv\", \"\")\n",
    "\n",
    "        print(brain_name)\n",
    "        brains[brain_name] = pd.read_csv(os.path.join(size_points_path, file), sep=\";\")"
   ]
  },
  {
   "cell_type": "markdown",
   "id": "ddfc525a",
   "metadata": {},
   "source": [
    "ipsilateral = injection site of hemisphere\n",
    "contralateral = opposite side"
   ]
  },
  {
   "cell_type": "code",
   "execution_count": 72,
   "id": "646854f3",
   "metadata": {},
   "outputs": [],
   "source": [
    "# generate one file per brain\n",
    "\n",
    "\n",
    "def end_file_per_brain(white, black, name, age, injection_side, injection_area):\n",
    "    one_brain_file = pd.DataFrame(\n",
    "        columns=[\n",
    "            \"Brain\",\n",
    "            \"Region ID\",\n",
    "            \"General area\",\n",
    "            \"Hemisphere\",\n",
    "            \"count\",\n",
    "            \"scaled count\",\n",
    "            \"age\",\n",
    "        ]\n",
    "    )\n",
    "    total_counts = 0\n",
    "    if injection_side == \"left\":\n",
    "        white_side = \"contralateral\"\n",
    "        black_side = \"ipsilateral\"\n",
    "    else:\n",
    "        white_side = \"ipsilateral\"\n",
    "        black_side = \"contralateral\"\n",
    "\n",
    "    for index, row in white.iterrows():\n",
    "\n",
    "        hemisphere = white_side\n",
    "\n",
    "        if min_pixel_size <= row[\"Object area\"] <= max_pixel_size:\n",
    "            region_id = row[\"Region ID\"]\n",
    "\n",
    "            # check for the according General area in regions_complete\n",
    "            general_region = regions_complete.loc[\n",
    "                regions_complete[\"Region ID\"] == region_id, \"General area\"\n",
    "            ].values[0]\n",
    "            subdivided = regions_complete.loc[\n",
    "                regions_complete[\"Region ID\"] == region_id, \"Subdivided\"\n",
    "            ].values[0]\n",
    "\n",
    "            if subdivided != injection_area:\n",
    "\n",
    "                # if region_id is not in one_brain_file, add it\n",
    "                if region_id not in one_brain_file[\"Region ID\"].values:\n",
    "                    one_brain_file.loc[region_id] = [\n",
    "                        name,\n",
    "                        region_id,\n",
    "                        general_region,\n",
    "                        hemisphere,\n",
    "                        1,\n",
    "                        0,\n",
    "                        age,\n",
    "                    ]\n",
    "                else:\n",
    "                    one_brain_file.loc[region_id, \"count\"] += 1\n",
    "            if subdivided == injection_area and injection_side == \"left\":\n",
    "                if region_id not in one_brain_file[\"Region ID\"].values:\n",
    "                    one_brain_file.loc[region_id] = [\n",
    "                        name,\n",
    "                        region_id,\n",
    "                        general_region,\n",
    "                        hemisphere,\n",
    "                        1,\n",
    "                        0,\n",
    "                        age,\n",
    "                    ]\n",
    "                else:\n",
    "                    one_brain_file.loc[region_id, \"count\"] += 1\n",
    "\n",
    "            # the counts for clear label and fiber tracts are not counted\n",
    "            if (\n",
    "                general_region not in [\"Clear Label\", \"fiber tracts\", \"Parent\"]\n",
    "                and subdivided != \"injection_area\"\n",
    "            ):\n",
    "                total_counts += 1\n",
    "\n",
    "    for index, row in black.iterrows():\n",
    "        hemisphere = black_side\n",
    "\n",
    "        if min_pixel_size <= row[\"Object area\"] <= max_pixel_size:\n",
    "            region_id = row[\"Region ID\"]\n",
    "\n",
    "            # check for the according General area in regions_complete\n",
    "            general_region = regions_complete.loc[\n",
    "                regions_complete[\"Region ID\"] == region_id, \"General area\"\n",
    "            ].values[0]\n",
    "            subdivided = regions_complete.loc[\n",
    "                regions_complete[\"Region ID\"] == region_id, \"Subdivided\"\n",
    "            ].values[0]\n",
    "\n",
    "            if subdivided != injection_area:\n",
    "\n",
    "                # if region_id is not in one_brain_file with \"right\" in the hemisphere, add it\n",
    "                if region_id not in one_brain_file[\"Region ID\"].values:\n",
    "                    one_brain_file.loc[region_id] = [\n",
    "                        name,\n",
    "                        region_id,\n",
    "                        general_region,\n",
    "                        hemisphere,\n",
    "                        1,\n",
    "                        0,\n",
    "                        age,\n",
    "                    ]\n",
    "\n",
    "                else:\n",
    "                    # if region_id is already in one_brain_file check if the hemisphere is opposite or same side\n",
    "                    if one_brain_file.loc[region_id, \"Hemisphere\"] == black_side:\n",
    "                        # if it is, add the count to the existing count\n",
    "                        one_brain_file.loc[region_id, \"count\"] += 1\n",
    "                    else:\n",
    "                        one_brain_file.loc[region_id] = [\n",
    "                            name,\n",
    "                            region_id,\n",
    "                            general_region,\n",
    "                            hemisphere,\n",
    "                            1,\n",
    "                            0,\n",
    "                            age,\n",
    "                        ]\n",
    "\n",
    "                if subdivided == injection_area and injection_side == \"right\":\n",
    "                    if region_id not in one_brain_file[\"Region ID\"].values:\n",
    "                        one_brain_file.loc[region_id] = [\n",
    "                            name,\n",
    "                            region_id,\n",
    "                            general_region,\n",
    "                            hemisphere,\n",
    "                            1,\n",
    "                            0,\n",
    "                            age,\n",
    "                        ]\n",
    "                    else:\n",
    "                        one_brain_file.loc[region_id, \"count\"] += 1\n",
    "\n",
    "            if (\n",
    "                general_region not in [\"Clear Label\", \"fiber tracts\", \"Parent\"]\n",
    "                and subdivided != injection_area\n",
    "            ):\n",
    "                total_counts += 1\n",
    "\n",
    "    # scale the counts\n",
    "    one_brain_file[\"scaled count\"] = 100 / total_counts * one_brain_file[\"count\"]\n",
    "\n",
    "    return one_brain_file"
   ]
  },
  {
   "cell_type": "code",
   "execution_count": 73,
   "id": "fba6b31d",
   "metadata": {},
   "outputs": [],
   "source": [
    "WT_n1_P6 = end_file_per_brain(\n",
    "    brains[\"WT_n1_P6_Objects_All_white\"],\n",
    "    brains[\"WT_n1_P6_Objects_All_black\"],\n",
    "    \"WT_n1_P6\",\n",
    "    \"p6\",\n",
    "    \"left\",\n",
    "    \"Primary somatosensory area\",\n",
    ")\n",
    "WT_n2_P6 = end_file_per_brain(\n",
    "    brains[\"WT_n2_P6_Objects_All_white\"],\n",
    "    brains[\"WT_n2_P6_Objects_All_black\"],\n",
    "    \"WT_n2_P6\",\n",
    "    \"p6\",\n",
    "    \"left\",\n",
    "    \"Primary somatosensory area\",\n",
    ")\n",
    "WT_n2_P7 = end_file_per_brain(\n",
    "    brains[\"WT_n2_P7_Objects_All_white\"],\n",
    "    brains[\"WT_n2_P7_Objects_All_black\"],\n",
    "    \"WT_n2_P7\",\n",
    "    \"p7\",\n",
    "    \"left\",\n",
    "    \"Primary somatosensory area\",\n",
    ")\n",
    "\n",
    "# get into Subdivided to get out specifically the injection area"
   ]
  },
  {
   "cell_type": "code",
   "execution_count": 74,
   "id": "8cbba3d3",
   "metadata": {},
   "outputs": [],
   "source": [
    "# make the big mega file with all the brains put the brain name in the first column\n",
    "big_file_S1_injections = pd.concat(\n",
    "    [\n",
    "        WT_n1_P6,\n",
    "        WT_n2_P6,\n",
    "        WT_n2_P7,\n",
    "    ],\n",
    "    ignore_index=True,\n",
    ")"
   ]
  },
  {
   "cell_type": "code",
   "execution_count": 75,
   "id": "b8db2cb9",
   "metadata": {},
   "outputs": [],
   "source": [
    "# take out Clear label and fiber tracts\n",
    "big_file_S1_injections = big_file_S1_injections[\n",
    "    ~big_file_S1_injections[\"General area\"].isin(\n",
    "        [\"Clear Label\", \"fiber tracts\", \"Parent\"]\n",
    "    )\n",
    "]"
   ]
  },
  {
   "cell_type": "code",
   "execution_count": 76,
   "id": "eb6fba42",
   "metadata": {},
   "outputs": [],
   "source": [
    "# Find regions with zero neurons\n",
    "\n",
    "\n",
    "def find_zero_neurons(\n",
    "    big_file,\n",
    "    general_area_ipsi_age_A,\n",
    "    general_area_contra_age_A,\n",
    "    general_area_ipsi_age_B,\n",
    "    general_area_contra_age_B,\n",
    "    age_A,\n",
    "    age_B,\n",
    "):\n",
    "\n",
    "    # add General area that are in regions_complete but not in S1_injections\n",
    "    regions_complete = pd.read_csv(\"regions_complete.csv\", sep=\";\")\n",
    "    General_areas_complete = regions_complete[\"General area\"].unique()\n",
    "\n",
    "    # filter out \"Clear Label\" and \"Fiber tracts\" and \"Parent\" from General areas\n",
    "    General_areas_complete = [\n",
    "        area\n",
    "        for area in General_areas_complete\n",
    "        if area not in [\"Clear Label\", \"fiber tracts\", \"Parent\", \"retina\"]\n",
    "    ]\n",
    "\n",
    "    # make copy of the DataFrame to add missing General areas\n",
    "    big_file_long = big_file.copy()\n",
    "\n",
    "    general_area_ipsi_age_A = []\n",
    "    general_area_contra_age_A = []\n",
    "    general_area_ipsi_age_B = []\n",
    "    general_area_contra_age_B = []\n",
    "\n",
    "    # loop through big_file_long and add General area to lists\n",
    "    for index, row in big_file_long.iterrows():\n",
    "        if row[\"Hemisphere\"] == \"ipsilateral\":\n",
    "            if row[\"age\"] == age_A:\n",
    "                general_area_ipsi_age_A.append(row[\"General area\"])\n",
    "            else:\n",
    "                general_area_ipsi_age_B.append(row[\"General area\"])\n",
    "\n",
    "        else:\n",
    "            if row[\"age\"] == age_A:\n",
    "                general_area_contra_age_A.append(row[\"General area\"])\n",
    "            else:\n",
    "                general_area_contra_age_B.append(row[\"General area\"])\n",
    "\n",
    "    for area in General_areas_complete:\n",
    "        if area not in general_area_ipsi_age_A:\n",
    "            print(\"area not found in\", \"general_area_ipsi\", age_A, \":\", area)\n",
    "\n",
    "            big_file_long.loc[area] = [0, 0, area, \"ipsilateral\", 0, 0, age_A]\n",
    "\n",
    "        if area not in general_area_contra_age_A:\n",
    "            print(\"area not found in\", \"general_area_contra\", age_A, \":\", area)\n",
    "            big_file_long.loc[area] = [0, 0, area, \"contralateral\", 0, 0, age_A]\n",
    "\n",
    "        if area not in general_area_ipsi_age_B:\n",
    "            print(\"area not found in\", \"general_area_ipsi\", age_B, \":\", area)\n",
    "            big_file_long.loc[area] = [0, 0, area, \"ipsilateral\", 0, 0, age_B]\n",
    "\n",
    "        if area not in general_area_contra_age_B:\n",
    "            print(\"area not found in\", \"general_area_contra\", age_B, \":\", area)\n",
    "            big_file_long.loc[area] = [0, 0, area, \"contralateral\", 0, 0, age_B]\n",
    "\n",
    "    return big_file_long"
   ]
  },
  {
   "cell_type": "code",
   "execution_count": 77,
   "id": "95fe213e",
   "metadata": {},
   "outputs": [
    {
     "name": "stdout",
     "output_type": "stream",
     "text": [
      "area not found in general_area_contra p6 : root\n",
      "area not found in general_area_contra p7 : root\n",
      "area not found in general_area_contra p6 : Frontal pole\n",
      "area not found in general_area_contra p6 : Somatomotor areas\n",
      "area not found in general_area_contra p7 : Somatomotor areas\n",
      "area not found in general_area_contra p6 : Visceral area\n",
      "area not found in general_area_contra p7 : Visceral area\n",
      "area not found in general_area_contra p6 : Auditory areas\n",
      "area not found in general_area_contra p7 : Auditory areas\n",
      "area not found in general_area_contra p7 : Visual areas\n",
      "area not found in general_area_contra p7 : Anterior cingulate area\n",
      "area not found in general_area_contra p7 : Prelimbic area\n",
      "area not found in general_area_contra p7 : Infralimbic area\n",
      "area not found in general_area_contra p6 : Retrosplenial area\n",
      "area not found in general_area_contra p7 : Retrosplenial area\n",
      "area not found in general_area_contra p6 : Posterior parietal association areas\n",
      "area not found in general_area_contra p7 : Posterior parietal association areas\n",
      "area not found in general_area_contra p6 : Temporal association areas\n",
      "area not found in general_area_contra p7 : Temporal association areas\n",
      "area not found in general_area_contra p6 : Perirhinal area\n",
      "area not found in general_area_contra p7 : Perirhinal area\n",
      "area not found in general_area_contra p6 : Ectorhinal area\n",
      "area not found in general_area_contra p6 : Main olfactory bulb\n",
      "area not found in general_area_contra p7 : Main olfactory bulb\n",
      "area not found in general_area_contra p7 : Accessory olfactory bulb\n",
      "area not found in general_area_contra p6 : Anterior olfactory nucleus\n",
      "area not found in general_area_contra p7 : Anterior olfactory nucleus\n",
      "area not found in general_area_contra p6 : Taenia tecta\n",
      "area not found in general_area_contra p7 : Taenia tecta\n",
      "area not found in general_area_contra p6 : Dorsal peduncular area\n",
      "area not found in general_area_ipsi p7 : Dorsal peduncular area\n",
      "area not found in general_area_contra p7 : Dorsal peduncular area\n",
      "area not found in general_area_contra p6 : Piriform area\n",
      "area not found in general_area_contra p7 : Piriform area\n",
      "area not found in general_area_ipsi p6 : Nucleus of the lateral olfactory tract\n",
      "area not found in general_area_contra p7 : Nucleus of the lateral olfactory tract\n",
      "area not found in general_area_contra p6 : Piriform-amygdalar area\n",
      "area not found in general_area_contra p7 : Piriform-amygdalar area\n",
      "area not found in general_area_contra p6 : Postpiriform transition area\n",
      "area not found in general_area_contra p7 : Postpiriform transition area\n",
      "area not found in general_area_contra p7 : Retrohippocampal region\n",
      "area not found in general_area_contra p7 : Striatum\n",
      "area not found in general_area_ipsi p6 : Pons\n",
      "area not found in general_area_contra p6 : Pons\n",
      "area not found in general_area_ipsi p7 : Pons\n",
      "area not found in general_area_contra p7 : Pons\n",
      "area not found in general_area_ipsi p6 : Medulla\n",
      "area not found in general_area_contra p6 : Medulla\n",
      "area not found in general_area_ipsi p7 : Medulla\n",
      "area not found in general_area_contra p7 : Medulla\n",
      "area not found in general_area_ipsi p6 : Cerebellum\n",
      "area not found in general_area_contra p6 : Cerebellum\n",
      "area not found in general_area_ipsi p7 : Cerebellum\n",
      "area not found in general_area_contra p7 : Cerebellum\n"
     ]
    }
   ],
   "source": [
    "big_file_S1_injections_long = find_zero_neurons(\n",
    "    big_file_S1_injections,\n",
    "    \"general_area_ipsi_p6\",\n",
    "    \"general_area_contra_p6\",\n",
    "    \"general_area_ipsi_p7\",\n",
    "    \"general_area_contra_p7\",\n",
    "    \"p6\",\n",
    "    \"p7\",\n",
    ")"
   ]
  },
  {
   "cell_type": "code",
   "execution_count": 78,
   "id": "65fb65b3",
   "metadata": {},
   "outputs": [],
   "source": [
    "# save the big file as csv\n",
    "big_file_S1_injections_long.to_csv(\n",
    "    \"big_file_S1_injections_long.csv\", sep=\";\", index=False\n",
    ")"
   ]
  },
  {
   "cell_type": "code",
   "execution_count": 79,
   "id": "44afb074",
   "metadata": {},
   "outputs": [
    {
     "data": {
      "text/html": [
       "<div>\n",
       "<style scoped>\n",
       "    .dataframe tbody tr th:only-of-type {\n",
       "        vertical-align: middle;\n",
       "    }\n",
       "\n",
       "    .dataframe tbody tr th {\n",
       "        vertical-align: top;\n",
       "    }\n",
       "\n",
       "    .dataframe thead th {\n",
       "        text-align: right;\n",
       "    }\n",
       "</style>\n",
       "<table border=\"1\" class=\"dataframe\">\n",
       "  <thead>\n",
       "    <tr style=\"text-align: right;\">\n",
       "      <th></th>\n",
       "      <th>Brain</th>\n",
       "      <th>Region ID</th>\n",
       "      <th>General area</th>\n",
       "      <th>Hemisphere</th>\n",
       "      <th>count</th>\n",
       "      <th>scaled count</th>\n",
       "      <th>age</th>\n",
       "    </tr>\n",
       "  </thead>\n",
       "  <tbody>\n",
       "    <tr>\n",
       "      <th>1</th>\n",
       "      <td>WT_n1_P6</td>\n",
       "      <td>228</td>\n",
       "      <td>Main olfactory bulb</td>\n",
       "      <td>ipsilateral</td>\n",
       "      <td>31</td>\n",
       "      <td>0.417508</td>\n",
       "      <td>p6</td>\n",
       "    </tr>\n",
       "    <tr>\n",
       "      <th>2</th>\n",
       "      <td>WT_n1_P6</td>\n",
       "      <td>244</td>\n",
       "      <td>Main olfactory bulb</td>\n",
       "      <td>ipsilateral</td>\n",
       "      <td>94</td>\n",
       "      <td>1.265993</td>\n",
       "      <td>p6</td>\n",
       "    </tr>\n",
       "    <tr>\n",
       "      <th>3</th>\n",
       "      <td>WT_n1_P6</td>\n",
       "      <td>236</td>\n",
       "      <td>Main olfactory bulb</td>\n",
       "      <td>ipsilateral</td>\n",
       "      <td>65</td>\n",
       "      <td>0.875421</td>\n",
       "      <td>p6</td>\n",
       "    </tr>\n",
       "    <tr>\n",
       "      <th>4</th>\n",
       "      <td>WT_n1_P6</td>\n",
       "      <td>220</td>\n",
       "      <td>Main olfactory bulb</td>\n",
       "      <td>ipsilateral</td>\n",
       "      <td>32</td>\n",
       "      <td>0.430976</td>\n",
       "      <td>p6</td>\n",
       "    </tr>\n",
       "    <tr>\n",
       "      <th>5</th>\n",
       "      <td>WT_n1_P6</td>\n",
       "      <td>507</td>\n",
       "      <td>Main olfactory bulb</td>\n",
       "      <td>ipsilateral</td>\n",
       "      <td>30</td>\n",
       "      <td>0.404040</td>\n",
       "      <td>p6</td>\n",
       "    </tr>\n",
       "    <tr>\n",
       "      <th>...</th>\n",
       "      <td>...</td>\n",
       "      <td>...</td>\n",
       "      <td>...</td>\n",
       "      <td>...</td>\n",
       "      <td>...</td>\n",
       "      <td>...</td>\n",
       "      <td>...</td>\n",
       "    </tr>\n",
       "    <tr>\n",
       "      <th>Retrohippocampal region</th>\n",
       "      <td>0</td>\n",
       "      <td>0</td>\n",
       "      <td>Retrohippocampal region</td>\n",
       "      <td>contralateral</td>\n",
       "      <td>0</td>\n",
       "      <td>0.000000</td>\n",
       "      <td>p7</td>\n",
       "    </tr>\n",
       "    <tr>\n",
       "      <th>Striatum</th>\n",
       "      <td>0</td>\n",
       "      <td>0</td>\n",
       "      <td>Striatum</td>\n",
       "      <td>contralateral</td>\n",
       "      <td>0</td>\n",
       "      <td>0.000000</td>\n",
       "      <td>p7</td>\n",
       "    </tr>\n",
       "    <tr>\n",
       "      <th>Pons</th>\n",
       "      <td>0</td>\n",
       "      <td>0</td>\n",
       "      <td>Pons</td>\n",
       "      <td>contralateral</td>\n",
       "      <td>0</td>\n",
       "      <td>0.000000</td>\n",
       "      <td>p7</td>\n",
       "    </tr>\n",
       "    <tr>\n",
       "      <th>Medulla</th>\n",
       "      <td>0</td>\n",
       "      <td>0</td>\n",
       "      <td>Medulla</td>\n",
       "      <td>contralateral</td>\n",
       "      <td>0</td>\n",
       "      <td>0.000000</td>\n",
       "      <td>p7</td>\n",
       "    </tr>\n",
       "    <tr>\n",
       "      <th>Cerebellum</th>\n",
       "      <td>0</td>\n",
       "      <td>0</td>\n",
       "      <td>Cerebellum</td>\n",
       "      <td>contralateral</td>\n",
       "      <td>0</td>\n",
       "      <td>0.000000</td>\n",
       "      <td>p7</td>\n",
       "    </tr>\n",
       "  </tbody>\n",
       "</table>\n",
       "<p>997 rows × 7 columns</p>\n",
       "</div>"
      ],
      "text/plain": [
       "                            Brain  Region ID             General area  \\\n",
       "1                        WT_n1_P6        228      Main olfactory bulb   \n",
       "2                        WT_n1_P6        244      Main olfactory bulb   \n",
       "3                        WT_n1_P6        236      Main olfactory bulb   \n",
       "4                        WT_n1_P6        220      Main olfactory bulb   \n",
       "5                        WT_n1_P6        507      Main olfactory bulb   \n",
       "...                           ...        ...                      ...   \n",
       "Retrohippocampal region         0          0  Retrohippocampal region   \n",
       "Striatum                        0          0                 Striatum   \n",
       "Pons                            0          0                     Pons   \n",
       "Medulla                         0          0                  Medulla   \n",
       "Cerebellum                      0          0               Cerebellum   \n",
       "\n",
       "                            Hemisphere  count  scaled count age  \n",
       "1                          ipsilateral     31      0.417508  p6  \n",
       "2                          ipsilateral     94      1.265993  p6  \n",
       "3                          ipsilateral     65      0.875421  p6  \n",
       "4                          ipsilateral     32      0.430976  p6  \n",
       "5                          ipsilateral     30      0.404040  p6  \n",
       "...                                ...    ...           ...  ..  \n",
       "Retrohippocampal region  contralateral      0      0.000000  p7  \n",
       "Striatum                 contralateral      0      0.000000  p7  \n",
       "Pons                     contralateral      0      0.000000  p7  \n",
       "Medulla                  contralateral      0      0.000000  p7  \n",
       "Cerebellum               contralateral      0      0.000000  p7  \n",
       "\n",
       "[997 rows x 7 columns]"
      ]
     },
     "execution_count": 79,
     "metadata": {},
     "output_type": "execute_result"
    }
   ],
   "source": [
    "big_file_S1_injections_long"
   ]
  },
  {
   "cell_type": "code",
   "execution_count": 80,
   "id": "ca49ea0a",
   "metadata": {},
   "outputs": [],
   "source": [
    "# make a file with only general regions counts which are then scaled to the total count of the brain\n",
    "general_areas_file = pd.DataFrame(\n",
    "    columns=[\n",
    "        \"Brain\",\n",
    "        \"General area\",\n",
    "        \"Hemisphere\",\n",
    "        \"count\",\n",
    "        \"scaled count\",\n",
    "        \"age\",\n",
    "    ]\n",
    ")\n",
    "totals = pd.DataFrame(columns=[\"Brain\", \"total\"])\n",
    "for index, row in big_file_S1_injections_long.iterrows():\n",
    "    general_area = row[\"General area\"]\n",
    "    hemisphere = row[\"Hemisphere\"]\n",
    "    age = row[\"age\"]\n",
    "    name = row[\"Brain\"]\n",
    "    amount = row[\"count\"]\n",
    "\n",
    "    if name not in totals[\"Brain\"].values:\n",
    "        totals.loc[name] = [name, amount]\n",
    "    else:\n",
    "        totals.loc[name, \"total\"] += amount"
   ]
  },
  {
   "cell_type": "code",
   "execution_count": 81,
   "id": "c845fd3b",
   "metadata": {},
   "outputs": [
    {
     "name": "stderr",
     "output_type": "stream",
     "text": [
      "C:\\Users\\sahet\\AppData\\Local\\Temp\\ipykernel_6104\\191345882.py:18: RuntimeWarning:\n",
      "\n",
      "divide by zero encountered in scalar divide\n",
      "\n",
      "C:\\Users\\sahet\\AppData\\Local\\Temp\\ipykernel_6104\\191345882.py:18: RuntimeWarning:\n",
      "\n",
      "invalid value encountered in scalar multiply\n",
      "\n",
      "C:\\Users\\sahet\\AppData\\Local\\Temp\\ipykernel_6104\\191345882.py:18: RuntimeWarning:\n",
      "\n",
      "divide by zero encountered in scalar divide\n",
      "\n",
      "C:\\Users\\sahet\\AppData\\Local\\Temp\\ipykernel_6104\\191345882.py:18: RuntimeWarning:\n",
      "\n",
      "invalid value encountered in scalar multiply\n",
      "\n",
      "C:\\Users\\sahet\\AppData\\Local\\Temp\\ipykernel_6104\\191345882.py:18: RuntimeWarning:\n",
      "\n",
      "divide by zero encountered in scalar divide\n",
      "\n",
      "C:\\Users\\sahet\\AppData\\Local\\Temp\\ipykernel_6104\\191345882.py:18: RuntimeWarning:\n",
      "\n",
      "invalid value encountered in scalar multiply\n",
      "\n",
      "C:\\Users\\sahet\\AppData\\Local\\Temp\\ipykernel_6104\\191345882.py:18: RuntimeWarning:\n",
      "\n",
      "divide by zero encountered in scalar divide\n",
      "\n",
      "C:\\Users\\sahet\\AppData\\Local\\Temp\\ipykernel_6104\\191345882.py:18: RuntimeWarning:\n",
      "\n",
      "invalid value encountered in scalar multiply\n",
      "\n",
      "C:\\Users\\sahet\\AppData\\Local\\Temp\\ipykernel_6104\\191345882.py:18: RuntimeWarning:\n",
      "\n",
      "divide by zero encountered in scalar divide\n",
      "\n",
      "C:\\Users\\sahet\\AppData\\Local\\Temp\\ipykernel_6104\\191345882.py:18: RuntimeWarning:\n",
      "\n",
      "invalid value encountered in scalar multiply\n",
      "\n",
      "C:\\Users\\sahet\\AppData\\Local\\Temp\\ipykernel_6104\\191345882.py:18: RuntimeWarning:\n",
      "\n",
      "divide by zero encountered in scalar divide\n",
      "\n",
      "C:\\Users\\sahet\\AppData\\Local\\Temp\\ipykernel_6104\\191345882.py:18: RuntimeWarning:\n",
      "\n",
      "invalid value encountered in scalar multiply\n",
      "\n",
      "C:\\Users\\sahet\\AppData\\Local\\Temp\\ipykernel_6104\\191345882.py:18: RuntimeWarning:\n",
      "\n",
      "divide by zero encountered in scalar divide\n",
      "\n",
      "C:\\Users\\sahet\\AppData\\Local\\Temp\\ipykernel_6104\\191345882.py:18: RuntimeWarning:\n",
      "\n",
      "invalid value encountered in scalar multiply\n",
      "\n",
      "C:\\Users\\sahet\\AppData\\Local\\Temp\\ipykernel_6104\\191345882.py:18: RuntimeWarning:\n",
      "\n",
      "divide by zero encountered in scalar divide\n",
      "\n",
      "C:\\Users\\sahet\\AppData\\Local\\Temp\\ipykernel_6104\\191345882.py:18: RuntimeWarning:\n",
      "\n",
      "invalid value encountered in scalar multiply\n",
      "\n",
      "C:\\Users\\sahet\\AppData\\Local\\Temp\\ipykernel_6104\\191345882.py:18: RuntimeWarning:\n",
      "\n",
      "divide by zero encountered in scalar divide\n",
      "\n",
      "C:\\Users\\sahet\\AppData\\Local\\Temp\\ipykernel_6104\\191345882.py:18: RuntimeWarning:\n",
      "\n",
      "invalid value encountered in scalar multiply\n",
      "\n",
      "C:\\Users\\sahet\\AppData\\Local\\Temp\\ipykernel_6104\\191345882.py:18: RuntimeWarning:\n",
      "\n",
      "divide by zero encountered in scalar divide\n",
      "\n",
      "C:\\Users\\sahet\\AppData\\Local\\Temp\\ipykernel_6104\\191345882.py:18: RuntimeWarning:\n",
      "\n",
      "invalid value encountered in scalar multiply\n",
      "\n",
      "C:\\Users\\sahet\\AppData\\Local\\Temp\\ipykernel_6104\\191345882.py:18: RuntimeWarning:\n",
      "\n",
      "divide by zero encountered in scalar divide\n",
      "\n",
      "C:\\Users\\sahet\\AppData\\Local\\Temp\\ipykernel_6104\\191345882.py:18: RuntimeWarning:\n",
      "\n",
      "invalid value encountered in scalar multiply\n",
      "\n",
      "C:\\Users\\sahet\\AppData\\Local\\Temp\\ipykernel_6104\\191345882.py:18: RuntimeWarning:\n",
      "\n",
      "divide by zero encountered in scalar divide\n",
      "\n",
      "C:\\Users\\sahet\\AppData\\Local\\Temp\\ipykernel_6104\\191345882.py:18: RuntimeWarning:\n",
      "\n",
      "invalid value encountered in scalar multiply\n",
      "\n",
      "C:\\Users\\sahet\\AppData\\Local\\Temp\\ipykernel_6104\\191345882.py:18: RuntimeWarning:\n",
      "\n",
      "divide by zero encountered in scalar divide\n",
      "\n",
      "C:\\Users\\sahet\\AppData\\Local\\Temp\\ipykernel_6104\\191345882.py:18: RuntimeWarning:\n",
      "\n",
      "invalid value encountered in scalar multiply\n",
      "\n",
      "C:\\Users\\sahet\\AppData\\Local\\Temp\\ipykernel_6104\\191345882.py:18: RuntimeWarning:\n",
      "\n",
      "divide by zero encountered in scalar divide\n",
      "\n",
      "C:\\Users\\sahet\\AppData\\Local\\Temp\\ipykernel_6104\\191345882.py:18: RuntimeWarning:\n",
      "\n",
      "invalid value encountered in scalar multiply\n",
      "\n",
      "C:\\Users\\sahet\\AppData\\Local\\Temp\\ipykernel_6104\\191345882.py:18: RuntimeWarning:\n",
      "\n",
      "divide by zero encountered in scalar divide\n",
      "\n",
      "C:\\Users\\sahet\\AppData\\Local\\Temp\\ipykernel_6104\\191345882.py:18: RuntimeWarning:\n",
      "\n",
      "invalid value encountered in scalar multiply\n",
      "\n",
      "C:\\Users\\sahet\\AppData\\Local\\Temp\\ipykernel_6104\\191345882.py:18: RuntimeWarning:\n",
      "\n",
      "divide by zero encountered in scalar divide\n",
      "\n",
      "C:\\Users\\sahet\\AppData\\Local\\Temp\\ipykernel_6104\\191345882.py:18: RuntimeWarning:\n",
      "\n",
      "invalid value encountered in scalar multiply\n",
      "\n",
      "C:\\Users\\sahet\\AppData\\Local\\Temp\\ipykernel_6104\\191345882.py:18: RuntimeWarning:\n",
      "\n",
      "divide by zero encountered in scalar divide\n",
      "\n",
      "C:\\Users\\sahet\\AppData\\Local\\Temp\\ipykernel_6104\\191345882.py:18: RuntimeWarning:\n",
      "\n",
      "invalid value encountered in scalar multiply\n",
      "\n",
      "C:\\Users\\sahet\\AppData\\Local\\Temp\\ipykernel_6104\\191345882.py:18: RuntimeWarning:\n",
      "\n",
      "divide by zero encountered in scalar divide\n",
      "\n",
      "C:\\Users\\sahet\\AppData\\Local\\Temp\\ipykernel_6104\\191345882.py:18: RuntimeWarning:\n",
      "\n",
      "invalid value encountered in scalar multiply\n",
      "\n",
      "C:\\Users\\sahet\\AppData\\Local\\Temp\\ipykernel_6104\\191345882.py:18: RuntimeWarning:\n",
      "\n",
      "divide by zero encountered in scalar divide\n",
      "\n",
      "C:\\Users\\sahet\\AppData\\Local\\Temp\\ipykernel_6104\\191345882.py:18: RuntimeWarning:\n",
      "\n",
      "invalid value encountered in scalar multiply\n",
      "\n",
      "C:\\Users\\sahet\\AppData\\Local\\Temp\\ipykernel_6104\\191345882.py:18: RuntimeWarning:\n",
      "\n",
      "divide by zero encountered in scalar divide\n",
      "\n",
      "C:\\Users\\sahet\\AppData\\Local\\Temp\\ipykernel_6104\\191345882.py:18: RuntimeWarning:\n",
      "\n",
      "invalid value encountered in scalar multiply\n",
      "\n",
      "C:\\Users\\sahet\\AppData\\Local\\Temp\\ipykernel_6104\\191345882.py:18: RuntimeWarning:\n",
      "\n",
      "divide by zero encountered in scalar divide\n",
      "\n",
      "C:\\Users\\sahet\\AppData\\Local\\Temp\\ipykernel_6104\\191345882.py:18: RuntimeWarning:\n",
      "\n",
      "invalid value encountered in scalar multiply\n",
      "\n",
      "C:\\Users\\sahet\\AppData\\Local\\Temp\\ipykernel_6104\\191345882.py:18: RuntimeWarning:\n",
      "\n",
      "divide by zero encountered in scalar divide\n",
      "\n",
      "C:\\Users\\sahet\\AppData\\Local\\Temp\\ipykernel_6104\\191345882.py:18: RuntimeWarning:\n",
      "\n",
      "invalid value encountered in scalar multiply\n",
      "\n",
      "C:\\Users\\sahet\\AppData\\Local\\Temp\\ipykernel_6104\\191345882.py:18: RuntimeWarning:\n",
      "\n",
      "divide by zero encountered in scalar divide\n",
      "\n",
      "C:\\Users\\sahet\\AppData\\Local\\Temp\\ipykernel_6104\\191345882.py:18: RuntimeWarning:\n",
      "\n",
      "invalid value encountered in scalar multiply\n",
      "\n",
      "C:\\Users\\sahet\\AppData\\Local\\Temp\\ipykernel_6104\\191345882.py:18: RuntimeWarning:\n",
      "\n",
      "divide by zero encountered in scalar divide\n",
      "\n",
      "C:\\Users\\sahet\\AppData\\Local\\Temp\\ipykernel_6104\\191345882.py:18: RuntimeWarning:\n",
      "\n",
      "invalid value encountered in scalar multiply\n",
      "\n",
      "C:\\Users\\sahet\\AppData\\Local\\Temp\\ipykernel_6104\\191345882.py:18: RuntimeWarning:\n",
      "\n",
      "divide by zero encountered in scalar divide\n",
      "\n",
      "C:\\Users\\sahet\\AppData\\Local\\Temp\\ipykernel_6104\\191345882.py:18: RuntimeWarning:\n",
      "\n",
      "invalid value encountered in scalar multiply\n",
      "\n",
      "C:\\Users\\sahet\\AppData\\Local\\Temp\\ipykernel_6104\\191345882.py:18: RuntimeWarning:\n",
      "\n",
      "divide by zero encountered in scalar divide\n",
      "\n",
      "C:\\Users\\sahet\\AppData\\Local\\Temp\\ipykernel_6104\\191345882.py:18: RuntimeWarning:\n",
      "\n",
      "invalid value encountered in scalar multiply\n",
      "\n",
      "C:\\Users\\sahet\\AppData\\Local\\Temp\\ipykernel_6104\\191345882.py:18: RuntimeWarning:\n",
      "\n",
      "divide by zero encountered in scalar divide\n",
      "\n",
      "C:\\Users\\sahet\\AppData\\Local\\Temp\\ipykernel_6104\\191345882.py:18: RuntimeWarning:\n",
      "\n",
      "invalid value encountered in scalar multiply\n",
      "\n",
      "C:\\Users\\sahet\\AppData\\Local\\Temp\\ipykernel_6104\\191345882.py:18: RuntimeWarning:\n",
      "\n",
      "divide by zero encountered in scalar divide\n",
      "\n",
      "C:\\Users\\sahet\\AppData\\Local\\Temp\\ipykernel_6104\\191345882.py:18: RuntimeWarning:\n",
      "\n",
      "invalid value encountered in scalar multiply\n",
      "\n"
     ]
    },
    {
     "data": {
      "text/html": [
       "<div>\n",
       "<style scoped>\n",
       "    .dataframe tbody tr th:only-of-type {\n",
       "        vertical-align: middle;\n",
       "    }\n",
       "\n",
       "    .dataframe tbody tr th {\n",
       "        vertical-align: top;\n",
       "    }\n",
       "\n",
       "    .dataframe thead th {\n",
       "        text-align: right;\n",
       "    }\n",
       "</style>\n",
       "<table border=\"1\" class=\"dataframe\">\n",
       "  <thead>\n",
       "    <tr style=\"text-align: right;\">\n",
       "      <th></th>\n",
       "      <th>Brain</th>\n",
       "      <th>General area</th>\n",
       "      <th>Hemisphere</th>\n",
       "      <th>age</th>\n",
       "      <th>count</th>\n",
       "      <th>scaled count</th>\n",
       "    </tr>\n",
       "  </thead>\n",
       "  <tbody>\n",
       "    <tr>\n",
       "      <th>0</th>\n",
       "      <td>0</td>\n",
       "      <td>Accessory olfactory bulb</td>\n",
       "      <td>contralateral</td>\n",
       "      <td>p7</td>\n",
       "      <td>0</td>\n",
       "      <td>NaN</td>\n",
       "    </tr>\n",
       "    <tr>\n",
       "      <th>1</th>\n",
       "      <td>0</td>\n",
       "      <td>Anterior cingulate area</td>\n",
       "      <td>contralateral</td>\n",
       "      <td>p7</td>\n",
       "      <td>0</td>\n",
       "      <td>NaN</td>\n",
       "    </tr>\n",
       "    <tr>\n",
       "      <th>2</th>\n",
       "      <td>0</td>\n",
       "      <td>Anterior olfactory nucleus</td>\n",
       "      <td>contralateral</td>\n",
       "      <td>p7</td>\n",
       "      <td>0</td>\n",
       "      <td>NaN</td>\n",
       "    </tr>\n",
       "    <tr>\n",
       "      <th>3</th>\n",
       "      <td>0</td>\n",
       "      <td>Auditory areas</td>\n",
       "      <td>contralateral</td>\n",
       "      <td>p7</td>\n",
       "      <td>0</td>\n",
       "      <td>NaN</td>\n",
       "    </tr>\n",
       "    <tr>\n",
       "      <th>4</th>\n",
       "      <td>0</td>\n",
       "      <td>Cerebellum</td>\n",
       "      <td>contralateral</td>\n",
       "      <td>p7</td>\n",
       "      <td>0</td>\n",
       "      <td>NaN</td>\n",
       "    </tr>\n",
       "    <tr>\n",
       "      <th>...</th>\n",
       "      <td>...</td>\n",
       "      <td>...</td>\n",
       "      <td>...</td>\n",
       "      <td>...</td>\n",
       "      <td>...</td>\n",
       "      <td>...</td>\n",
       "    </tr>\n",
       "    <tr>\n",
       "      <th>173</th>\n",
       "      <td>WT_n2_P7</td>\n",
       "      <td>Visceral area</td>\n",
       "      <td>ipsilateral</td>\n",
       "      <td>p7</td>\n",
       "      <td>29</td>\n",
       "      <td>0.004232</td>\n",
       "    </tr>\n",
       "    <tr>\n",
       "      <th>174</th>\n",
       "      <td>WT_n2_P7</td>\n",
       "      <td>Visual areas</td>\n",
       "      <td>ipsilateral</td>\n",
       "      <td>p7</td>\n",
       "      <td>1933</td>\n",
       "      <td>0.282066</td>\n",
       "    </tr>\n",
       "    <tr>\n",
       "      <th>175</th>\n",
       "      <td>WT_n2_P7</td>\n",
       "      <td>root</td>\n",
       "      <td>ipsilateral</td>\n",
       "      <td>p7</td>\n",
       "      <td>35</td>\n",
       "      <td>0.005107</td>\n",
       "    </tr>\n",
       "    <tr>\n",
       "      <th>176</th>\n",
       "      <td>WT_n2_P7</td>\n",
       "      <td>ventricular systems</td>\n",
       "      <td>contralateral</td>\n",
       "      <td>p7</td>\n",
       "      <td>1</td>\n",
       "      <td>0.000146</td>\n",
       "    </tr>\n",
       "    <tr>\n",
       "      <th>177</th>\n",
       "      <td>WT_n2_P7</td>\n",
       "      <td>ventricular systems</td>\n",
       "      <td>ipsilateral</td>\n",
       "      <td>p7</td>\n",
       "      <td>29</td>\n",
       "      <td>0.004232</td>\n",
       "    </tr>\n",
       "  </tbody>\n",
       "</table>\n",
       "<p>178 rows × 6 columns</p>\n",
       "</div>"
      ],
      "text/plain": [
       "        Brain                General area     Hemisphere age  count  \\\n",
       "0           0    Accessory olfactory bulb  contralateral  p7      0   \n",
       "1           0     Anterior cingulate area  contralateral  p7      0   \n",
       "2           0  Anterior olfactory nucleus  contralateral  p7      0   \n",
       "3           0              Auditory areas  contralateral  p7      0   \n",
       "4           0                  Cerebellum  contralateral  p7      0   \n",
       "..        ...                         ...            ...  ..    ...   \n",
       "173  WT_n2_P7               Visceral area    ipsilateral  p7     29   \n",
       "174  WT_n2_P7                Visual areas    ipsilateral  p7   1933   \n",
       "175  WT_n2_P7                        root    ipsilateral  p7     35   \n",
       "176  WT_n2_P7         ventricular systems  contralateral  p7      1   \n",
       "177  WT_n2_P7         ventricular systems    ipsilateral  p7     29   \n",
       "\n",
       "     scaled count  \n",
       "0             NaN  \n",
       "1             NaN  \n",
       "2             NaN  \n",
       "3             NaN  \n",
       "4             NaN  \n",
       "..            ...  \n",
       "173      0.004232  \n",
       "174      0.282066  \n",
       "175      0.005107  \n",
       "176      0.000146  \n",
       "177      0.004232  \n",
       "\n",
       "[178 rows x 6 columns]"
      ]
     },
     "execution_count": 81,
     "metadata": {},
     "output_type": "execute_result"
    }
   ],
   "source": [
    "df_filtered = big_file_S1_injections_long[\n",
    "    [\"Brain\", \"age\", \"count\", \"Hemisphere\", \"General area\"]\n",
    "]\n",
    "\n",
    "# Step 2: Group by the relevant identifiers and sum the count per group\n",
    "df_grouped = df_filtered.groupby(\n",
    "    [\"Brain\", \"General area\", \"Hemisphere\", \"age\"], as_index=False\n",
    ")[\"count\"].sum()\n",
    "\n",
    "# add scaled column with 0\n",
    "df_grouped[\"scaled count\"] = 0\n",
    "\n",
    "# scale the counts\n",
    "for index, row in df_grouped.iterrows():\n",
    "    brain_name = row[\"Brain\"]\n",
    "    count = row[\"count\"]\n",
    "    total_count = totals.loc[totals[\"Brain\"] == brain_name, \"total\"].values[0]\n",
    "    scaled_count = 1 / total_count * count\n",
    "    df_grouped.loc[index, \"scaled count\"] = scaled_count\n",
    "df_grouped"
   ]
  },
  {
   "cell_type": "code",
   "execution_count": 82,
   "id": "6f3f92ed",
   "metadata": {},
   "outputs": [],
   "source": [
    "def get_area_order_by_age(big_file_long):\n",
    "    # Filter for 'ipsilateral' hemisphere and age group 'p7-13'\n",
    "    filtered = big_file_long[\n",
    "        (big_file_long[\"Hemisphere\"] == \"ipsilateral\")\n",
    "        & (big_file_long[\"age\"] == \"p7-13\")\n",
    "    ]\n",
    "\n",
    "    area_order_scaled = (\n",
    "        filtered.groupby(\"General area\")[\"scaled count\"]\n",
    "        .max()\n",
    "        .sort_values(ascending=False)\n",
    "        .index.tolist()\n",
    "    )\n",
    "\n",
    "    area_order_count = (\n",
    "        filtered.groupby(\"General area\")[\"count\"]\n",
    "        .max()\n",
    "        .sort_values(ascending=False)\n",
    "        .index.tolist()\n",
    "    )\n",
    "\n",
    "    return area_order_scaled, area_order_count"
   ]
  },
  {
   "cell_type": "code",
   "execution_count": 83,
   "id": "4b51f3fc",
   "metadata": {},
   "outputs": [],
   "source": [
    "area_order_scaled, area_order_count = get_area_order_by_age(df_grouped)"
   ]
  },
  {
   "cell_type": "code",
   "execution_count": 105,
   "id": "39917f91",
   "metadata": {},
   "outputs": [],
   "source": [
    "def plot_count(big_file_long, Title, area_order_count):\n",
    "\n",
    "    fig = px.box(\n",
    "        big_file_long,\n",
    "        y=\"count\",\n",
    "        x=\"General area\",\n",
    "        color=\"Hemisphere\",\n",
    "        color_discrete_map={\"contralateral\": \"orange\", \"ipsilateral\": \"magenta\"},\n",
    "        title=Title,\n",
    "        category_orders={\"General area\": area_order_count},\n",
    "        labels={\"count\": \"Count\", \"General area\": \"General area\"},\n",
    "    )\n",
    "    fig.update_layout(\n",
    "        legend=dict(font=dict(size=20)),\n",
    "        xaxis_title_font=dict(size=24),  # x-axis label font size\n",
    "        yaxis_title_font=dict(size=24),  # y-axis label font size\n",
    "        xaxis_tickfont=dict(size=10),  # x-axis tick font size\n",
    "        yaxis_tickfont=dict(size=18),  # y-axis tick font size\n",
    "    )\n",
    "\n",
    "    return fig"
   ]
  },
  {
   "cell_type": "code",
   "execution_count": 104,
   "id": "f72bcc1f",
   "metadata": {},
   "outputs": [],
   "source": [
    "def plot_scaled(big_file_long, Title, area_order_scaled):\n",
    "\n",
    "    fig = px.box(\n",
    "        big_file_long,\n",
    "        y=\"scaled count\",\n",
    "        x=\"General area\",\n",
    "        color=\"Hemisphere\",\n",
    "        category_orders={\"General area\": area_order_scaled},\n",
    "        title=Title,\n",
    "        color_discrete_map={\"contralateral\": \"orange\", \"ipsilateral\": \"magenta\"},\n",
    "        labels={\"count\": \"Count\", \"General area\": \"General area\"},\n",
    "    )\n",
    "    fig.update_layout(\n",
    "        legend=dict(font=dict(size=20)),\n",
    "        xaxis_title_font=dict(size=24),  # x-axis label font size\n",
    "        yaxis_title_font=dict(size=24),  # y-axis label font size\n",
    "        xaxis_tickfont=dict(size=10),  # x-axis tick font size\n",
    "        yaxis_tickfont=dict(size=18),  # y-axis tick font size\n",
    "    )\n",
    "\n",
    "    return fig"
   ]
  },
  {
   "cell_type": "code",
   "execution_count": 106,
   "id": "9e0d8095",
   "metadata": {},
   "outputs": [
    {
     "data": {
      "application/vnd.plotly.v1+json": {
       "config": {
        "plotlyServerURL": "https://plotly.com"
       },
       "data": [
        {
         "alignmentgroup": "True",
         "hovertemplate": "Hemisphere=ipsilateral<br>General area=%{x}<br>Count=%{y}<extra></extra>",
         "legendgroup": "ipsilateral",
         "marker": {
          "color": "magenta"
         },
         "name": "ipsilateral",
         "notched": false,
         "offsetgroup": "ipsilateral",
         "orientation": "v",
         "showlegend": true,
         "type": "box",
         "x": [
          "Main olfactory bulb",
          "Main olfactory bulb",
          "Main olfactory bulb",
          "Main olfactory bulb",
          "Main olfactory bulb",
          "Accessory olfactory bulb",
          "Frontal pole",
          "Somatomotor areas",
          "Orbital area",
          "Orbital area",
          "Orbital area",
          "Orbital area",
          "Orbital area",
          "Prelimbic area",
          "Prelimbic area",
          "Somatomotor areas",
          "Anterior olfactory nucleus",
          "Somatomotor areas",
          "Prelimbic area",
          "Somatomotor areas",
          "Agranular insular area",
          "Agranular insular area",
          "Somatomotor areas",
          "Agranular insular area",
          "Anterior cingulate area",
          "Somatomotor areas",
          "Somatomotor areas",
          "Somatomotor areas",
          "Infralimbic area",
          "Taenia tecta",
          "Anterior cingulate area",
          "Agranular insular area",
          "Anterior cingulate area",
          "Piriform area",
          "Anterior cingulate area",
          "Agranular insular area",
          "Taenia tecta",
          "Prelimbic area",
          "Striatum",
          "Striatum",
          "Somatosensory areas",
          "Somatosensory areas",
          "Anterior cingulate area",
          "Striatum",
          "Somatosensory areas",
          "Gustatory areas",
          "Gustatory areas",
          "Retrosplenial area",
          "Retrosplenial area",
          "Retrosplenial area",
          "Retrosplenial area",
          "ventricular systems",
          "Retrosplenial area",
          "Agranular insular area",
          "Visceral area",
          "Retrosplenial area",
          "Retrosplenial area",
          "Posterior parietal association areas",
          "Pallidum",
          "Thalamus",
          "ventricular systems",
          "Visceral area",
          "Visceral area",
          "Thalamus",
          "Pallidum",
          "Thalamus",
          "Visual areas",
          "Thalamus",
          "Visceral area",
          "Posterior parietal association areas",
          "Hippocampal region",
          "Hippocampal region",
          "Posterior parietal association areas",
          "Somatosensory areas",
          "Thalamus",
          "Thalamus",
          "Thalamus",
          "Cortical amygdalar area",
          "Agranular insular area",
          "Thalamus",
          "Hippocampal region",
          "Hippocampal region",
          "Thalamus",
          "Piriform-amygdalar area",
          "Visual areas",
          "Visceral area",
          "Thalamus",
          "Hypothalamus",
          "Thalamus",
          "Visual areas",
          "Retrosplenial area",
          "Visual areas",
          "Posterior parietal association areas",
          "Auditory areas",
          "Visual areas",
          "Temporal association areas",
          "Thalamus",
          "Temporal association areas",
          "Ectorhinal area",
          "Perirhinal area",
          "Visual areas",
          "Auditory areas",
          "Ectorhinal area",
          "Auditory areas",
          "Cortical subplate",
          "Retrohippocampal region",
          "Thalamus",
          "Auditory areas",
          "Visual areas",
          "Thalamus",
          "root",
          "Perirhinal area",
          "Midbrain",
          "Visual areas",
          "Hypothalamus",
          "Cortical amygdalar area",
          "Thalamus",
          "Temporal association areas",
          "Retrohippocampal region",
          "Auditory areas",
          "Auditory areas",
          "Midbrain",
          "Retrohippocampal region",
          "Auditory areas",
          "Auditory areas",
          "Ectorhinal area",
          "Auditory areas",
          "Retrosplenial area",
          "Midbrain",
          "Auditory areas",
          "Hypothalamus",
          "Retrosplenial area",
          "Postpiriform transition area",
          "Midbrain",
          "Visual areas",
          "Midbrain",
          "Hypothalamus",
          "Hypothalamus",
          "Midbrain",
          "Hippocampal region",
          "Visual areas",
          "Visual areas",
          "Hippocampal region",
          "Visual areas",
          "Temporal association areas",
          "Temporal association areas",
          "Ectorhinal area",
          "Visual areas",
          "Midbrain",
          "Midbrain",
          "Midbrain",
          "Midbrain",
          "Retrohippocampal region",
          "Midbrain",
          "Midbrain",
          "Orbital area",
          "Frontal pole",
          "Orbital area",
          "Gustatory areas",
          "Agranular insular area",
          "Agranular insular area",
          "Gustatory areas",
          "Somatosensory areas",
          "ventricular systems",
          "Striatum",
          "Pallidum",
          "Striatum",
          "Cortical subplate",
          "Retrosplenial area",
          "Retrosplenial area",
          "Hypothalamus",
          "Pallidum",
          "Posterior parietal association areas",
          "Hypothalamus",
          "Hippocampal region",
          "Somatosensory areas",
          "Hippocampal region",
          "Posterior parietal association areas",
          "Posterior parietal association areas",
          "Posterior parietal association areas",
          "Hypothalamus",
          "Pallidum",
          "Visual areas",
          "Posterior parietal association areas",
          "Visual areas",
          "Posterior parietal association areas",
          "Hippocampal region",
          "Visual areas",
          "Hypothalamus",
          "Hippocampal region",
          "Agranular insular area",
          "Posterior parietal association areas",
          "Thalamus",
          "Thalamus",
          "Pallidum",
          "Visual areas",
          "Auditory areas",
          "Posterior parietal association areas",
          "Visual areas",
          "Auditory areas",
          "Thalamus",
          "Auditory areas",
          "Thalamus",
          "Thalamus",
          "Visual areas",
          "Thalamus",
          "Visual areas",
          "Cortical subplate",
          "Hippocampal region",
          "Retrosplenial area",
          "Visual areas",
          "Retrosplenial area",
          "Auditory areas",
          "Thalamus",
          "Auditory areas",
          "Auditory areas",
          "Visual areas",
          "Visual areas",
          "Visual areas",
          "Auditory areas",
          "Hypothalamus",
          "Thalamus",
          "Pallidum",
          "Retrohippocampal region",
          "Thalamus",
          "Retrohippocampal region",
          "Thalamus",
          "Thalamus",
          "Cortical subplate",
          "Thalamus",
          "Retrohippocampal region",
          "Thalamus",
          "Auditory areas",
          "Thalamus",
          "Auditory areas",
          "Hypothalamus",
          "Auditory areas",
          "Thalamus",
          "Visual areas",
          "Thalamus",
          "Hypothalamus",
          "Visual areas",
          "Thalamus",
          "Thalamus",
          "Visual areas",
          "Visual areas",
          "Thalamus",
          "Visual areas",
          "Thalamus",
          "Striatum",
          "Midbrain",
          "Midbrain",
          "Auditory areas",
          "Visual areas",
          "Midbrain",
          "Retrohippocampal region",
          "Retrohippocampal region",
          "Visual areas",
          "Thalamus",
          "Midbrain",
          "Hypothalamus",
          "Midbrain",
          "Visual areas",
          "Midbrain",
          "Midbrain",
          "Retrohippocampal region",
          "Midbrain",
          "Retrohippocampal region",
          "Hypothalamus",
          "Midbrain",
          "Perirhinal area",
          "Main olfactory bulb",
          "Main olfactory bulb",
          "Main olfactory bulb",
          "Main olfactory bulb",
          "Main olfactory bulb",
          "Accessory olfactory bulb",
          "Frontal pole",
          "Accessory olfactory bulb",
          "Frontal pole",
          "Somatomotor areas",
          "Somatomotor areas",
          "Prelimbic area",
          "Orbital area",
          "Somatomotor areas",
          "Orbital area",
          "Orbital area",
          "Orbital area",
          "Orbital area",
          "Orbital area",
          "Orbital area",
          "Orbital area",
          "Somatomotor areas",
          "Prelimbic area",
          "Prelimbic area",
          "Somatomotor areas",
          "Anterior cingulate area",
          "Agranular insular area",
          "Somatomotor areas",
          "Anterior olfactory nucleus",
          "Somatomotor areas",
          "Anterior cingulate area",
          "Agranular insular area",
          "Somatomotor areas",
          "Anterior cingulate area",
          "Anterior cingulate area",
          "Striatum",
          "Piriform area",
          "Anterior cingulate area",
          "Anterior cingulate area",
          "Agranular insular area",
          "Taenia tecta",
          "Agranular insular area",
          "Somatosensory areas",
          "Striatum",
          "Gustatory areas",
          "ventricular systems",
          "Somatomotor areas",
          "Somatosensory areas",
          "Pallidum",
          "Visceral area",
          "Visceral area",
          "ventricular systems",
          "Retrosplenial area",
          "Somatosensory areas",
          "Somatosensory areas",
          "Somatosensory areas",
          "Retrosplenial area",
          "Retrosplenial area",
          "Retrosplenial area",
          "Retrosplenial area",
          "Retrosplenial area",
          "Striatum",
          "Retrosplenial area",
          "Retrosplenial area",
          "Retrosplenial area",
          "Somatosensory areas",
          "Striatum",
          "Retrosplenial area",
          "Gustatory areas",
          "Thalamus",
          "ventricular systems",
          "Agranular insular area",
          "Posterior parietal association areas",
          "root",
          "Thalamus",
          "Hippocampal region",
          "Posterior parietal association areas",
          "Thalamus",
          "Thalamus",
          "Retrosplenial area",
          "Thalamus",
          "Visceral area",
          "Thalamus",
          "Agranular insular area",
          "Thalamus",
          "Posterior parietal association areas",
          "Visceral area",
          "Posterior parietal association areas",
          "Posterior parietal association areas",
          "Visual areas",
          "Thalamus",
          "Hippocampal region",
          "Thalamus",
          "Posterior parietal association areas",
          "Thalamus",
          "Visual areas",
          "Thalamus",
          "Thalamus",
          "Thalamus",
          "Thalamus",
          "Agranular insular area",
          "Thalamus",
          "Cortical subplate",
          "Auditory areas",
          "Posterior parietal association areas",
          "Auditory areas",
          "Retrosplenial area",
          "Thalamus",
          "Ectorhinal area",
          "Ectorhinal area",
          "Auditory areas",
          "Posterior parietal association areas",
          "Visual areas",
          "Temporal association areas",
          "Posterior parietal association areas",
          "Temporal association areas",
          "Ectorhinal area",
          "Auditory areas",
          "Visual areas",
          "Visual areas",
          "Visual areas",
          "Visual areas",
          "Visual areas",
          "Posterior parietal association areas",
          "Thalamus",
          "Visual areas",
          "Temporal association areas",
          "Cortical subplate",
          "Ectorhinal area",
          "Hippocampal region",
          "Auditory areas",
          "Visual areas",
          "Auditory areas",
          "Thalamus",
          "Retrohippocampal region",
          "Visual areas",
          "Retrohippocampal region",
          "Midbrain",
          "Thalamus",
          "Temporal association areas",
          "Auditory areas",
          "Perirhinal area",
          "Auditory areas",
          "Perirhinal area",
          "Visual areas",
          "Retrohippocampal region",
          "Visual areas",
          "Hypothalamus",
          "Visual areas",
          "Visual areas",
          "Retrohippocampal region",
          "Perirhinal area",
          "Hypothalamus",
          "Postpiriform transition area",
          "Hypothalamus",
          "Visual areas",
          "Visual areas",
          "Retrohippocampal region",
          "Auditory areas",
          "Midbrain",
          "Hypothalamus",
          "Visual areas",
          "Retrohippocampal region",
          "Visual areas",
          "Visual areas",
          "Temporal association areas",
          "Visual areas",
          "Visual areas",
          "Retrohippocampal region",
          "Visual areas",
          "Midbrain",
          "Accessory olfactory bulb",
          "Frontal pole",
          "Orbital area",
          "Orbital area",
          "Orbital area",
          "Infralimbic area",
          "Agranular insular area",
          "Gustatory areas",
          "Gustatory areas",
          "Taenia tecta",
          "Prelimbic area",
          "Dorsal peduncular area",
          "Pallidum",
          "Striatum",
          "Agranular insular area",
          "Hypothalamus",
          "Hypothalamus",
          "Hippocampal region",
          "Thalamus",
          "Hippocampal region",
          "Hippocampal region",
          "Thalamus",
          "Hippocampal region",
          "Retrosplenial area",
          "Thalamus",
          "Pallidum",
          "Hippocampal region",
          "Hippocampal region",
          "Posterior parietal association areas",
          "ventricular systems",
          "Posterior parietal association areas",
          "Hippocampal region",
          "Visual areas",
          "Hippocampal region",
          "Visceral area",
          "Cortical subplate",
          "Piriform-amygdalar area",
          "Thalamus",
          "Pallidum",
          "Hypothalamus",
          "Thalamus",
          "Auditory areas",
          "Thalamus",
          "Auditory areas",
          "Thalamus",
          "Retrosplenial area",
          "Visual areas",
          "Auditory areas",
          "Auditory areas",
          "Auditory areas",
          "Hippocampal region",
          "Thalamus",
          "Cortical amygdalar area",
          "Thalamus",
          "Thalamus",
          "Retrosplenial area",
          "Auditory areas",
          "Auditory areas",
          "Auditory areas",
          "Auditory areas",
          "Visual areas",
          "Auditory areas",
          "Retrohippocampal region",
          "Auditory areas",
          "Cortical subplate",
          "Cortical subplate",
          "Hippocampal region",
          "Visual areas",
          "Visual areas",
          "Visual areas",
          "Visual areas",
          "Thalamus",
          "Visual areas",
          "Thalamus",
          "Thalamus",
          "Pallidum",
          "Visual areas",
          "Hypothalamus",
          "Auditory areas",
          "Auditory areas",
          "Retrohippocampal region",
          "Hypothalamus",
          "Auditory areas",
          "Cortical subplate",
          "Thalamus",
          "Hypothalamus",
          "Visual areas",
          "Visual areas",
          "Visual areas",
          "Thalamus",
          "Thalamus",
          "Cortical amygdalar area",
          "Thalamus",
          "Thalamus",
          "Visual areas",
          "Midbrain",
          "Visual areas",
          "Hypothalamus",
          "Hypothalamus",
          "Visual areas",
          "Hypothalamus",
          "Thalamus",
          "Hypothalamus",
          "Midbrain",
          "Midbrain",
          "Visual areas",
          "Midbrain",
          "Midbrain",
          "Midbrain",
          "Midbrain",
          "Visual areas",
          "Visual areas",
          "Main olfactory bulb",
          "Main olfactory bulb",
          "Main olfactory bulb",
          "Main olfactory bulb",
          "Frontal pole",
          "Somatomotor areas",
          "Orbital area",
          "Somatomotor areas",
          "Agranular insular area",
          "Anterior olfactory nucleus",
          "Accessory olfactory bulb",
          "Orbital area",
          "Prelimbic area",
          "Orbital area",
          "Orbital area",
          "Orbital area",
          "Orbital area",
          "Somatomotor areas",
          "Somatomotor areas",
          "Somatomotor areas",
          "Agranular insular area",
          "Piriform area",
          "Orbital area",
          "Somatomotor areas",
          "Somatosensory areas",
          "Anterior cingulate area",
          "Striatum",
          "Striatum",
          "Somatosensory areas",
          "Anterior cingulate area",
          "ventricular systems",
          "Retrosplenial area",
          "Somatosensory areas",
          "Retrosplenial area",
          "Visceral area",
          "Retrosplenial area",
          "Retrosplenial area",
          "Thalamus",
          "Somatosensory areas",
          "Thalamus",
          "Thalamus",
          "Retrosplenial area",
          "Visceral area",
          "Hippocampal region",
          "Agranular insular area",
          "Thalamus",
          "Posterior parietal association areas",
          "Hippocampal region",
          "Thalamus",
          "Retrosplenial area",
          "Thalamus",
          "Thalamus",
          "Posterior parietal association areas",
          "Visual areas",
          "Thalamus",
          "Somatosensory areas",
          "Agranular insular area",
          "Thalamus",
          "Posterior parietal association areas",
          "Thalamus",
          "Posterior parietal association areas",
          "Visual areas",
          "Cortical subplate",
          "Posterior parietal association areas",
          "Thalamus",
          "Ectorhinal area",
          "Retrohippocampal region",
          "Ectorhinal area",
          "Temporal association areas",
          "Temporal association areas",
          "Thalamus",
          "Hypothalamus",
          "Hypothalamus",
          "Striatum",
          "Hypothalamus",
          "Visual areas",
          "Thalamus",
          "Auditory areas",
          "Visual areas",
          "Cortical subplate",
          "Hippocampal region",
          "Retrohippocampal region",
          "Visual areas",
          "Thalamus",
          "Auditory areas",
          "Posterior parietal association areas",
          "Retrosplenial area",
          "Ectorhinal area",
          "Retrosplenial area",
          "Auditory areas",
          "Temporal association areas",
          "Visual areas",
          "Auditory areas",
          "Visual areas",
          "Auditory areas",
          "Auditory areas",
          "Retrosplenial area",
          "Thalamus",
          "Thalamus",
          "Retrosplenial area",
          "Visual areas",
          "Retrohippocampal region",
          "Midbrain",
          "Hypothalamus",
          "root",
          "Visual areas",
          "Auditory areas",
          "Perirhinal area",
          "Retrosplenial area",
          "Visual areas",
          "Thalamus",
          "Auditory areas",
          "Perirhinal area",
          "Hippocampal region",
          "Hypothalamus",
          "Retrohippocampal region",
          "Thalamus",
          "Cortical amygdalar area",
          "Hypothalamus",
          "Thalamus",
          "Postpiriform transition area",
          "Visual areas",
          "Retrohippocampal region",
          "Hippocampal region",
          "Visual areas",
          "Retrohippocampal region",
          "Retrosplenial area",
          "Visual areas",
          "Retrohippocampal region",
          "Midbrain",
          "Auditory areas",
          "Auditory areas",
          "Retrohippocampal region",
          "Temporal association areas",
          "Midbrain",
          "Midbrain",
          "Visual areas",
          "Hippocampal region",
          "Visual areas",
          "Midbrain",
          "Midbrain",
          "Visual areas",
          "Midbrain",
          "Midbrain",
          "Visual areas",
          "Main olfactory bulb",
          "Accessory olfactory bulb",
          "Accessory olfactory bulb",
          "Orbital area",
          "Orbital area",
          "Prelimbic area",
          "Somatomotor areas",
          "Anterior cingulate area",
          "Taenia tecta",
          "Anterior cingulate area",
          "Prelimbic area",
          "Agranular insular area",
          "Infralimbic area",
          "Agranular insular area",
          "Somatomotor areas",
          "Striatum",
          "Somatomotor areas",
          "Anterior cingulate area",
          "Striatum",
          "Pallidum",
          "Agranular insular area",
          "Pallidum",
          "Striatum",
          "Visceral area",
          "Hypothalamus",
          "Striatum",
          "Gustatory areas",
          "Somatosensory areas",
          "Striatum",
          "Cortical subplate",
          "Pallidum",
          "ventricular systems",
          "Cortical subplate",
          "Agranular insular area",
          "Posterior parietal association areas",
          "Pallidum",
          "Posterior parietal association areas",
          "Thalamus",
          "Nucleus of the lateral olfactory tract",
          "Nucleus of the lateral olfactory tract",
          "Visceral area",
          "Posterior parietal association areas",
          "Pallidum",
          "Visceral area",
          "Posterior parietal association areas",
          "Posterior parietal association areas",
          "Thalamus",
          "Visceral area",
          "Visual areas",
          "Thalamus",
          "Thalamus",
          "Auditory areas",
          "Auditory areas",
          "Auditory areas",
          "Visual areas",
          "Auditory areas",
          "Auditory areas",
          "Cortical subplate",
          "Auditory areas",
          "Posterior parietal association areas",
          "Visual areas",
          "Auditory areas",
          "Agranular insular area",
          "Thalamus",
          "Visual areas",
          "Striatum",
          "Visual areas",
          "Auditory areas",
          "Thalamus",
          "Temporal association areas",
          "Thalamus",
          "Auditory areas",
          "Cortical subplate",
          "Visual areas",
          "Thalamus",
          "Perirhinal area",
          "Auditory areas",
          "Thalamus",
          "Temporal association areas",
          "Visual areas",
          "Cortical subplate",
          "Hypothalamus",
          "Visual areas",
          "Hypothalamus",
          "Visual areas",
          "Visual areas",
          "Visual areas",
          "Thalamus",
          "Thalamus",
          "Visual areas",
          "Thalamus",
          "Piriform-amygdalar area",
          "Auditory areas",
          "Auditory areas",
          "Hypothalamus",
          "Auditory areas",
          "Hypothalamus",
          "Visual areas",
          "Thalamus",
          "Ectorhinal area",
          "Hippocampal region",
          "Visual areas",
          "Thalamus",
          "Visual areas",
          "Cortical amygdalar area",
          "Visual areas",
          "Visual areas",
          "Midbrain",
          "Hippocampal region",
          "Visual areas",
          "Hippocampal region",
          "Thalamus",
          "Visual areas",
          "Hypothalamus",
          "Midbrain",
          "Thalamus",
          "Midbrain",
          "Thalamus",
          "Midbrain",
          "Visual areas",
          "Thalamus",
          "Thalamus",
          "Visual areas",
          "Retrohippocampal region",
          "Midbrain",
          "Midbrain",
          "Visual areas",
          "Midbrain",
          "Retrohippocampal region",
          "Retrosplenial area",
          "Retrohippocampal region",
          "Midbrain"
         ],
         "x0": " ",
         "xaxis": "x",
         "y": {
          "bdata": "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",
          "dtype": "i2"
         },
         "y0": " ",
         "yaxis": "y"
        },
        {
         "alignmentgroup": "True",
         "hovertemplate": "Hemisphere=contralateral<br>General area=%{x}<br>Count=%{y}<extra></extra>",
         "legendgroup": "contralateral",
         "marker": {
          "color": "orange"
         },
         "name": "contralateral",
         "notched": false,
         "offsetgroup": "contralateral",
         "orientation": "v",
         "showlegend": true,
         "type": "box",
         "x": [
          "Accessory olfactory bulb",
          "Orbital area",
          "Orbital area",
          "Orbital area",
          "Orbital area",
          "Somatosensory areas",
          "Infralimbic area",
          "Somatosensory areas",
          "Somatosensory areas",
          "Somatosensory areas",
          "Somatosensory areas",
          "Somatosensory areas",
          "Somatosensory areas",
          "Somatosensory areas",
          "Somatosensory areas",
          "Somatosensory areas",
          "Somatosensory areas",
          "Somatosensory areas",
          "Somatosensory areas",
          "Somatosensory areas",
          "Anterior cingulate area",
          "Pallidum",
          "Somatosensory areas",
          "Somatosensory areas",
          "Somatosensory areas",
          "Somatosensory areas",
          "Somatosensory areas",
          "Somatosensory areas",
          "Somatosensory areas",
          "Gustatory areas",
          "Somatosensory areas",
          "Somatosensory areas",
          "Somatosensory areas",
          "Cortical subplate",
          "Somatosensory areas",
          "Somatosensory areas",
          "Somatosensory areas",
          "Somatosensory areas",
          "Somatosensory areas",
          "ventricular systems",
          "Somatosensory areas",
          "Hypothalamus",
          "Striatum",
          "Hippocampal region",
          "Cortical subplate",
          "Hypothalamus",
          "Thalamus",
          "Cortical amygdalar area",
          "Visual areas",
          "Midbrain",
          "Prelimbic area",
          "Orbital area",
          "Somatosensory areas",
          "Infralimbic area",
          "Somatosensory areas",
          "Somatosensory areas",
          "Somatosensory areas",
          "Somatosensory areas",
          "Somatosensory areas",
          "Somatosensory areas",
          "Somatosensory areas",
          "Anterior cingulate area",
          "Somatosensory areas",
          "Somatosensory areas",
          "Somatosensory areas",
          "Somatosensory areas",
          "Agranular insular area",
          "Somatosensory areas",
          "Somatosensory areas",
          "Somatosensory areas",
          "Somatosensory areas",
          "Somatosensory areas",
          "Striatum",
          "Somatosensory areas",
          "Somatosensory areas",
          "Somatosensory areas",
          "Somatosensory areas",
          "Somatosensory areas",
          "Somatosensory areas",
          "Somatosensory areas",
          "Somatosensory areas",
          "Somatosensory areas",
          "Somatosensory areas",
          "Somatosensory areas",
          "Somatosensory areas",
          "Somatosensory areas",
          "Somatosensory areas",
          "Somatosensory areas",
          "Nucleus of the lateral olfactory tract",
          "Somatosensory areas",
          "Somatosensory areas",
          "Nucleus of the lateral olfactory tract",
          "Striatum",
          "Thalamus",
          "Thalamus",
          "Retrohippocampal region",
          "Midbrain",
          "Midbrain",
          "Hippocampal region",
          "Hypothalamus",
          "Hippocampal region",
          "Midbrain",
          "Frontal pole",
          "Orbital area",
          "Agranular insular area",
          "Gustatory areas",
          "Somatosensory areas",
          "Somatosensory areas",
          "Somatosensory areas",
          "Somatosensory areas",
          "Pallidum",
          "Hippocampal region",
          "Somatosensory areas",
          "Somatosensory areas",
          "Somatosensory areas",
          "Somatosensory areas",
          "Somatosensory areas",
          "Somatosensory areas",
          "Somatosensory areas",
          "Somatosensory areas",
          "ventricular systems",
          "Cortical amygdalar area",
          "Somatosensory areas",
          "Somatosensory areas",
          "Pallidum",
          "Cortical subplate",
          "Cortical subplate",
          "Somatosensory areas",
          "Ectorhinal area",
          "Hippocampal region",
          "Midbrain",
          "Cortical subplate",
          "Thalamus",
          "Hypothalamus",
          "Midbrain",
          "Hypothalamus",
          "Midbrain",
          "Midbrain",
          "root",
          "Frontal pole",
          "Somatomotor areas",
          "Visceral area",
          "Auditory areas",
          "Visual areas",
          "Anterior cingulate area",
          "Prelimbic area",
          "Infralimbic area",
          "Retrosplenial area",
          "Posterior parietal association areas",
          "Temporal association areas",
          "Perirhinal area",
          "Ectorhinal area",
          "Main olfactory bulb",
          "Accessory olfactory bulb",
          "Anterior olfactory nucleus",
          "Taenia tecta",
          "Dorsal peduncular area",
          "Piriform area",
          "Nucleus of the lateral olfactory tract",
          "Piriform-amygdalar area",
          "Postpiriform transition area",
          "Retrohippocampal region",
          "Striatum",
          "Pons",
          "Medulla",
          "Cerebellum"
         ],
         "x0": " ",
         "xaxis": "x",
         "y": {
          "bdata": "AgMBAQEcAREZAQEHFAYBBSgCAQ4BAQMSAQwFAwUBHwEBBAMCBQQBAgEBAgIDAQEDAQEDCCwCGhMJFgkLDgkEBwsGAQgLBw4IAgEJCQQMCA4GCQ4BKxQBAgEBAQEBAQECAQMCAwEBAgECAQEFBQQBBgEEAQECAQEXAQIFAQEEBAEEAQIBAQECAQEBAAAAAAAAAAAAAAAAAAAAAAAAAAAAAAAAAAAAAA==",
          "dtype": "i1"
         },
         "y0": " ",
         "yaxis": "y"
        }
       ],
       "layout": {
        "boxmode": "group",
        "legend": {
         "font": {
          "size": 20
         },
         "title": {
          "text": "Hemisphere"
         },
         "tracegroupgap": 0
        },
        "template": {
         "data": {
          "bar": [
           {
            "error_x": {
             "color": "#2a3f5f"
            },
            "error_y": {
             "color": "#2a3f5f"
            },
            "marker": {
             "line": {
              "color": "#E5ECF6",
              "width": 0.5
             },
             "pattern": {
              "fillmode": "overlay",
              "size": 10,
              "solidity": 0.2
             }
            },
            "type": "bar"
           }
          ],
          "barpolar": [
           {
            "marker": {
             "line": {
              "color": "#E5ECF6",
              "width": 0.5
             },
             "pattern": {
              "fillmode": "overlay",
              "size": 10,
              "solidity": 0.2
             }
            },
            "type": "barpolar"
           }
          ],
          "carpet": [
           {
            "aaxis": {
             "endlinecolor": "#2a3f5f",
             "gridcolor": "white",
             "linecolor": "white",
             "minorgridcolor": "white",
             "startlinecolor": "#2a3f5f"
            },
            "baxis": {
             "endlinecolor": "#2a3f5f",
             "gridcolor": "white",
             "linecolor": "white",
             "minorgridcolor": "white",
             "startlinecolor": "#2a3f5f"
            },
            "type": "carpet"
           }
          ],
          "choropleth": [
           {
            "colorbar": {
             "outlinewidth": 0,
             "ticks": ""
            },
            "type": "choropleth"
           }
          ],
          "contour": [
           {
            "colorbar": {
             "outlinewidth": 0,
             "ticks": ""
            },
            "colorscale": [
             [
              0,
              "#0d0887"
             ],
             [
              0.1111111111111111,
              "#46039f"
             ],
             [
              0.2222222222222222,
              "#7201a8"
             ],
             [
              0.3333333333333333,
              "#9c179e"
             ],
             [
              0.4444444444444444,
              "#bd3786"
             ],
             [
              0.5555555555555556,
              "#d8576b"
             ],
             [
              0.6666666666666666,
              "#ed7953"
             ],
             [
              0.7777777777777778,
              "#fb9f3a"
             ],
             [
              0.8888888888888888,
              "#fdca26"
             ],
             [
              1,
              "#f0f921"
             ]
            ],
            "type": "contour"
           }
          ],
          "contourcarpet": [
           {
            "colorbar": {
             "outlinewidth": 0,
             "ticks": ""
            },
            "type": "contourcarpet"
           }
          ],
          "heatmap": [
           {
            "colorbar": {
             "outlinewidth": 0,
             "ticks": ""
            },
            "colorscale": [
             [
              0,
              "#0d0887"
             ],
             [
              0.1111111111111111,
              "#46039f"
             ],
             [
              0.2222222222222222,
              "#7201a8"
             ],
             [
              0.3333333333333333,
              "#9c179e"
             ],
             [
              0.4444444444444444,
              "#bd3786"
             ],
             [
              0.5555555555555556,
              "#d8576b"
             ],
             [
              0.6666666666666666,
              "#ed7953"
             ],
             [
              0.7777777777777778,
              "#fb9f3a"
             ],
             [
              0.8888888888888888,
              "#fdca26"
             ],
             [
              1,
              "#f0f921"
             ]
            ],
            "type": "heatmap"
           }
          ],
          "histogram": [
           {
            "marker": {
             "pattern": {
              "fillmode": "overlay",
              "size": 10,
              "solidity": 0.2
             }
            },
            "type": "histogram"
           }
          ],
          "histogram2d": [
           {
            "colorbar": {
             "outlinewidth": 0,
             "ticks": ""
            },
            "colorscale": [
             [
              0,
              "#0d0887"
             ],
             [
              0.1111111111111111,
              "#46039f"
             ],
             [
              0.2222222222222222,
              "#7201a8"
             ],
             [
              0.3333333333333333,
              "#9c179e"
             ],
             [
              0.4444444444444444,
              "#bd3786"
             ],
             [
              0.5555555555555556,
              "#d8576b"
             ],
             [
              0.6666666666666666,
              "#ed7953"
             ],
             [
              0.7777777777777778,
              "#fb9f3a"
             ],
             [
              0.8888888888888888,
              "#fdca26"
             ],
             [
              1,
              "#f0f921"
             ]
            ],
            "type": "histogram2d"
           }
          ],
          "histogram2dcontour": [
           {
            "colorbar": {
             "outlinewidth": 0,
             "ticks": ""
            },
            "colorscale": [
             [
              0,
              "#0d0887"
             ],
             [
              0.1111111111111111,
              "#46039f"
             ],
             [
              0.2222222222222222,
              "#7201a8"
             ],
             [
              0.3333333333333333,
              "#9c179e"
             ],
             [
              0.4444444444444444,
              "#bd3786"
             ],
             [
              0.5555555555555556,
              "#d8576b"
             ],
             [
              0.6666666666666666,
              "#ed7953"
             ],
             [
              0.7777777777777778,
              "#fb9f3a"
             ],
             [
              0.8888888888888888,
              "#fdca26"
             ],
             [
              1,
              "#f0f921"
             ]
            ],
            "type": "histogram2dcontour"
           }
          ],
          "mesh3d": [
           {
            "colorbar": {
             "outlinewidth": 0,
             "ticks": ""
            },
            "type": "mesh3d"
           }
          ],
          "parcoords": [
           {
            "line": {
             "colorbar": {
              "outlinewidth": 0,
              "ticks": ""
             }
            },
            "type": "parcoords"
           }
          ],
          "pie": [
           {
            "automargin": true,
            "type": "pie"
           }
          ],
          "scatter": [
           {
            "fillpattern": {
             "fillmode": "overlay",
             "size": 10,
             "solidity": 0.2
            },
            "type": "scatter"
           }
          ],
          "scatter3d": [
           {
            "line": {
             "colorbar": {
              "outlinewidth": 0,
              "ticks": ""
             }
            },
            "marker": {
             "colorbar": {
              "outlinewidth": 0,
              "ticks": ""
             }
            },
            "type": "scatter3d"
           }
          ],
          "scattercarpet": [
           {
            "marker": {
             "colorbar": {
              "outlinewidth": 0,
              "ticks": ""
             }
            },
            "type": "scattercarpet"
           }
          ],
          "scattergeo": [
           {
            "marker": {
             "colorbar": {
              "outlinewidth": 0,
              "ticks": ""
             }
            },
            "type": "scattergeo"
           }
          ],
          "scattergl": [
           {
            "marker": {
             "colorbar": {
              "outlinewidth": 0,
              "ticks": ""
             }
            },
            "type": "scattergl"
           }
          ],
          "scattermap": [
           {
            "marker": {
             "colorbar": {
              "outlinewidth": 0,
              "ticks": ""
             }
            },
            "type": "scattermap"
           }
          ],
          "scattermapbox": [
           {
            "marker": {
             "colorbar": {
              "outlinewidth": 0,
              "ticks": ""
             }
            },
            "type": "scattermapbox"
           }
          ],
          "scatterpolar": [
           {
            "marker": {
             "colorbar": {
              "outlinewidth": 0,
              "ticks": ""
             }
            },
            "type": "scatterpolar"
           }
          ],
          "scatterpolargl": [
           {
            "marker": {
             "colorbar": {
              "outlinewidth": 0,
              "ticks": ""
             }
            },
            "type": "scatterpolargl"
           }
          ],
          "scatterternary": [
           {
            "marker": {
             "colorbar": {
              "outlinewidth": 0,
              "ticks": ""
             }
            },
            "type": "scatterternary"
           }
          ],
          "surface": [
           {
            "colorbar": {
             "outlinewidth": 0,
             "ticks": ""
            },
            "colorscale": [
             [
              0,
              "#0d0887"
             ],
             [
              0.1111111111111111,
              "#46039f"
             ],
             [
              0.2222222222222222,
              "#7201a8"
             ],
             [
              0.3333333333333333,
              "#9c179e"
             ],
             [
              0.4444444444444444,
              "#bd3786"
             ],
             [
              0.5555555555555556,
              "#d8576b"
             ],
             [
              0.6666666666666666,
              "#ed7953"
             ],
             [
              0.7777777777777778,
              "#fb9f3a"
             ],
             [
              0.8888888888888888,
              "#fdca26"
             ],
             [
              1,
              "#f0f921"
             ]
            ],
            "type": "surface"
           }
          ],
          "table": [
           {
            "cells": {
             "fill": {
              "color": "#EBF0F8"
             },
             "line": {
              "color": "white"
             }
            },
            "header": {
             "fill": {
              "color": "#C8D4E3"
             },
             "line": {
              "color": "white"
             }
            },
            "type": "table"
           }
          ]
         },
         "layout": {
          "annotationdefaults": {
           "arrowcolor": "#2a3f5f",
           "arrowhead": 0,
           "arrowwidth": 1
          },
          "autotypenumbers": "strict",
          "coloraxis": {
           "colorbar": {
            "outlinewidth": 0,
            "ticks": ""
           }
          },
          "colorscale": {
           "diverging": [
            [
             0,
             "#8e0152"
            ],
            [
             0.1,
             "#c51b7d"
            ],
            [
             0.2,
             "#de77ae"
            ],
            [
             0.3,
             "#f1b6da"
            ],
            [
             0.4,
             "#fde0ef"
            ],
            [
             0.5,
             "#f7f7f7"
            ],
            [
             0.6,
             "#e6f5d0"
            ],
            [
             0.7,
             "#b8e186"
            ],
            [
             0.8,
             "#7fbc41"
            ],
            [
             0.9,
             "#4d9221"
            ],
            [
             1,
             "#276419"
            ]
           ],
           "sequential": [
            [
             0,
             "#0d0887"
            ],
            [
             0.1111111111111111,
             "#46039f"
            ],
            [
             0.2222222222222222,
             "#7201a8"
            ],
            [
             0.3333333333333333,
             "#9c179e"
            ],
            [
             0.4444444444444444,
             "#bd3786"
            ],
            [
             0.5555555555555556,
             "#d8576b"
            ],
            [
             0.6666666666666666,
             "#ed7953"
            ],
            [
             0.7777777777777778,
             "#fb9f3a"
            ],
            [
             0.8888888888888888,
             "#fdca26"
            ],
            [
             1,
             "#f0f921"
            ]
           ],
           "sequentialminus": [
            [
             0,
             "#0d0887"
            ],
            [
             0.1111111111111111,
             "#46039f"
            ],
            [
             0.2222222222222222,
             "#7201a8"
            ],
            [
             0.3333333333333333,
             "#9c179e"
            ],
            [
             0.4444444444444444,
             "#bd3786"
            ],
            [
             0.5555555555555556,
             "#d8576b"
            ],
            [
             0.6666666666666666,
             "#ed7953"
            ],
            [
             0.7777777777777778,
             "#fb9f3a"
            ],
            [
             0.8888888888888888,
             "#fdca26"
            ],
            [
             1,
             "#f0f921"
            ]
           ]
          },
          "colorway": [
           "#636efa",
           "#EF553B",
           "#00cc96",
           "#ab63fa",
           "#FFA15A",
           "#19d3f3",
           "#FF6692",
           "#B6E880",
           "#FF97FF",
           "#FECB52"
          ],
          "font": {
           "color": "#2a3f5f"
          },
          "geo": {
           "bgcolor": "white",
           "lakecolor": "white",
           "landcolor": "#E5ECF6",
           "showlakes": true,
           "showland": true,
           "subunitcolor": "white"
          },
          "hoverlabel": {
           "align": "left"
          },
          "hovermode": "closest",
          "mapbox": {
           "style": "light"
          },
          "paper_bgcolor": "white",
          "plot_bgcolor": "#E5ECF6",
          "polar": {
           "angularaxis": {
            "gridcolor": "white",
            "linecolor": "white",
            "ticks": ""
           },
           "bgcolor": "#E5ECF6",
           "radialaxis": {
            "gridcolor": "white",
            "linecolor": "white",
            "ticks": ""
           }
          },
          "scene": {
           "xaxis": {
            "backgroundcolor": "#E5ECF6",
            "gridcolor": "white",
            "gridwidth": 2,
            "linecolor": "white",
            "showbackground": true,
            "ticks": "",
            "zerolinecolor": "white"
           },
           "yaxis": {
            "backgroundcolor": "#E5ECF6",
            "gridcolor": "white",
            "gridwidth": 2,
            "linecolor": "white",
            "showbackground": true,
            "ticks": "",
            "zerolinecolor": "white"
           },
           "zaxis": {
            "backgroundcolor": "#E5ECF6",
            "gridcolor": "white",
            "gridwidth": 2,
            "linecolor": "white",
            "showbackground": true,
            "ticks": "",
            "zerolinecolor": "white"
           }
          },
          "shapedefaults": {
           "line": {
            "color": "#2a3f5f"
           }
          },
          "ternary": {
           "aaxis": {
            "gridcolor": "white",
            "linecolor": "white",
            "ticks": ""
           },
           "baxis": {
            "gridcolor": "white",
            "linecolor": "white",
            "ticks": ""
           },
           "bgcolor": "#E5ECF6",
           "caxis": {
            "gridcolor": "white",
            "linecolor": "white",
            "ticks": ""
           }
          },
          "title": {
           "x": 0.05
          },
          "xaxis": {
           "automargin": true,
           "gridcolor": "white",
           "linecolor": "white",
           "ticks": "",
           "title": {
            "standoff": 15
           },
           "zerolinecolor": "white",
           "zerolinewidth": 2
          },
          "yaxis": {
           "automargin": true,
           "gridcolor": "white",
           "linecolor": "white",
           "ticks": "",
           "title": {
            "standoff": 15
           },
           "zerolinecolor": "white",
           "zerolinewidth": 2
          }
         }
        },
        "title": {
         "text": "S1 injections counts by hemisphere, both p6 (n=2) and p7 (n=1)"
        },
        "xaxis": {
         "anchor": "y",
         "categoryarray": [],
         "categoryorder": "array",
         "domain": [
          0,
          1
         ],
         "tickfont": {
          "size": 10
         },
         "title": {
          "font": {
           "size": 24
          },
          "text": "General area"
         }
        },
        "yaxis": {
         "anchor": "x",
         "domain": [
          0,
          1
         ],
         "tickfont": {
          "size": 18
         },
         "title": {
          "font": {
           "size": 24
          },
          "text": "Count"
         }
        }
       }
      }
     },
     "metadata": {},
     "output_type": "display_data"
    }
   ],
   "source": [
    "plot_count(\n",
    "    big_file_S1_injections_long,\n",
    "    \"S1 injections counts by hemisphere, both p6 (n=2) and p7 (n=1)\",\n",
    "    area_order_count,\n",
    ")"
   ]
  },
  {
   "cell_type": "code",
   "execution_count": 103,
   "id": "39f9f295",
   "metadata": {},
   "outputs": [
    {
     "data": {
      "application/vnd.plotly.v1+json": {
       "config": {
        "plotlyServerURL": "https://plotly.com"
       },
       "data": [
        {
         "alignmentgroup": "True",
         "hovertemplate": "Hemisphere=ipsilateral<br>General area=%{x}<br>scaled count=%{y}<extra></extra>",
         "legendgroup": "ipsilateral",
         "marker": {
          "color": "magenta"
         },
         "name": "ipsilateral",
         "notched": false,
         "offsetgroup": "ipsilateral",
         "orientation": "v",
         "showlegend": true,
         "type": "box",
         "x": [
          "Main olfactory bulb",
          "Main olfactory bulb",
          "Main olfactory bulb",
          "Main olfactory bulb",
          "Main olfactory bulb",
          "Accessory olfactory bulb",
          "Frontal pole",
          "Somatomotor areas",
          "Orbital area",
          "Orbital area",
          "Orbital area",
          "Orbital area",
          "Orbital area",
          "Prelimbic area",
          "Prelimbic area",
          "Somatomotor areas",
          "Anterior olfactory nucleus",
          "Somatomotor areas",
          "Prelimbic area",
          "Somatomotor areas",
          "Agranular insular area",
          "Agranular insular area",
          "Somatomotor areas",
          "Agranular insular area",
          "Anterior cingulate area",
          "Somatomotor areas",
          "Somatomotor areas",
          "Somatomotor areas",
          "Infralimbic area",
          "Taenia tecta",
          "Anterior cingulate area",
          "Agranular insular area",
          "Anterior cingulate area",
          "Piriform area",
          "Anterior cingulate area",
          "Agranular insular area",
          "Taenia tecta",
          "Prelimbic area",
          "Striatum",
          "Striatum",
          "Somatosensory areas",
          "Somatosensory areas",
          "Anterior cingulate area",
          "Striatum",
          "Somatosensory areas",
          "Gustatory areas",
          "Gustatory areas",
          "Retrosplenial area",
          "Retrosplenial area",
          "Retrosplenial area",
          "Retrosplenial area",
          "ventricular systems",
          "Retrosplenial area",
          "Agranular insular area",
          "Visceral area",
          "Retrosplenial area",
          "Retrosplenial area",
          "Posterior parietal association areas",
          "Pallidum",
          "Thalamus",
          "ventricular systems",
          "Visceral area",
          "Visceral area",
          "Thalamus",
          "Pallidum",
          "Thalamus",
          "Visual areas",
          "Thalamus",
          "Visceral area",
          "Posterior parietal association areas",
          "Hippocampal region",
          "Hippocampal region",
          "Posterior parietal association areas",
          "Somatosensory areas",
          "Thalamus",
          "Thalamus",
          "Thalamus",
          "Cortical amygdalar area",
          "Agranular insular area",
          "Thalamus",
          "Hippocampal region",
          "Hippocampal region",
          "Thalamus",
          "Piriform-amygdalar area",
          "Visual areas",
          "Visceral area",
          "Thalamus",
          "Hypothalamus",
          "Thalamus",
          "Visual areas",
          "Retrosplenial area",
          "Visual areas",
          "Posterior parietal association areas",
          "Auditory areas",
          "Visual areas",
          "Temporal association areas",
          "Thalamus",
          "Temporal association areas",
          "Ectorhinal area",
          "Perirhinal area",
          "Visual areas",
          "Auditory areas",
          "Ectorhinal area",
          "Auditory areas",
          "Cortical subplate",
          "Retrohippocampal region",
          "Thalamus",
          "Auditory areas",
          "Visual areas",
          "Thalamus",
          "root",
          "Perirhinal area",
          "Midbrain",
          "Visual areas",
          "Hypothalamus",
          "Cortical amygdalar area",
          "Thalamus",
          "Temporal association areas",
          "Retrohippocampal region",
          "Auditory areas",
          "Auditory areas",
          "Midbrain",
          "Retrohippocampal region",
          "Auditory areas",
          "Auditory areas",
          "Ectorhinal area",
          "Auditory areas",
          "Retrosplenial area",
          "Midbrain",
          "Auditory areas",
          "Hypothalamus",
          "Retrosplenial area",
          "Postpiriform transition area",
          "Midbrain",
          "Visual areas",
          "Midbrain",
          "Hypothalamus",
          "Hypothalamus",
          "Midbrain",
          "Hippocampal region",
          "Visual areas",
          "Visual areas",
          "Hippocampal region",
          "Visual areas",
          "Temporal association areas",
          "Temporal association areas",
          "Ectorhinal area",
          "Visual areas",
          "Midbrain",
          "Midbrain",
          "Midbrain",
          "Midbrain",
          "Retrohippocampal region",
          "Midbrain",
          "Midbrain",
          "Orbital area",
          "Frontal pole",
          "Orbital area",
          "Gustatory areas",
          "Agranular insular area",
          "Agranular insular area",
          "Gustatory areas",
          "Somatosensory areas",
          "ventricular systems",
          "Striatum",
          "Pallidum",
          "Striatum",
          "Cortical subplate",
          "Retrosplenial area",
          "Retrosplenial area",
          "Hypothalamus",
          "Pallidum",
          "Posterior parietal association areas",
          "Hypothalamus",
          "Hippocampal region",
          "Somatosensory areas",
          "Hippocampal region",
          "Posterior parietal association areas",
          "Posterior parietal association areas",
          "Posterior parietal association areas",
          "Hypothalamus",
          "Pallidum",
          "Visual areas",
          "Posterior parietal association areas",
          "Visual areas",
          "Posterior parietal association areas",
          "Hippocampal region",
          "Visual areas",
          "Hypothalamus",
          "Hippocampal region",
          "Agranular insular area",
          "Posterior parietal association areas",
          "Thalamus",
          "Thalamus",
          "Pallidum",
          "Visual areas",
          "Auditory areas",
          "Posterior parietal association areas",
          "Visual areas",
          "Auditory areas",
          "Thalamus",
          "Auditory areas",
          "Thalamus",
          "Thalamus",
          "Visual areas",
          "Thalamus",
          "Visual areas",
          "Cortical subplate",
          "Hippocampal region",
          "Retrosplenial area",
          "Visual areas",
          "Retrosplenial area",
          "Auditory areas",
          "Thalamus",
          "Auditory areas",
          "Auditory areas",
          "Visual areas",
          "Visual areas",
          "Visual areas",
          "Auditory areas",
          "Hypothalamus",
          "Thalamus",
          "Pallidum",
          "Retrohippocampal region",
          "Thalamus",
          "Retrohippocampal region",
          "Thalamus",
          "Thalamus",
          "Cortical subplate",
          "Thalamus",
          "Retrohippocampal region",
          "Thalamus",
          "Auditory areas",
          "Thalamus",
          "Auditory areas",
          "Hypothalamus",
          "Auditory areas",
          "Thalamus",
          "Visual areas",
          "Thalamus",
          "Hypothalamus",
          "Visual areas",
          "Thalamus",
          "Thalamus",
          "Visual areas",
          "Visual areas",
          "Thalamus",
          "Visual areas",
          "Thalamus",
          "Striatum",
          "Midbrain",
          "Midbrain",
          "Auditory areas",
          "Visual areas",
          "Midbrain",
          "Retrohippocampal region",
          "Retrohippocampal region",
          "Visual areas",
          "Thalamus",
          "Midbrain",
          "Hypothalamus",
          "Midbrain",
          "Visual areas",
          "Midbrain",
          "Midbrain",
          "Retrohippocampal region",
          "Midbrain",
          "Retrohippocampal region",
          "Hypothalamus",
          "Midbrain",
          "Perirhinal area",
          "Main olfactory bulb",
          "Main olfactory bulb",
          "Main olfactory bulb",
          "Main olfactory bulb",
          "Main olfactory bulb",
          "Accessory olfactory bulb",
          "Frontal pole",
          "Accessory olfactory bulb",
          "Frontal pole",
          "Somatomotor areas",
          "Somatomotor areas",
          "Prelimbic area",
          "Orbital area",
          "Somatomotor areas",
          "Orbital area",
          "Orbital area",
          "Orbital area",
          "Orbital area",
          "Orbital area",
          "Orbital area",
          "Orbital area",
          "Somatomotor areas",
          "Prelimbic area",
          "Prelimbic area",
          "Somatomotor areas",
          "Anterior cingulate area",
          "Agranular insular area",
          "Somatomotor areas",
          "Anterior olfactory nucleus",
          "Somatomotor areas",
          "Anterior cingulate area",
          "Agranular insular area",
          "Somatomotor areas",
          "Anterior cingulate area",
          "Anterior cingulate area",
          "Striatum",
          "Piriform area",
          "Anterior cingulate area",
          "Anterior cingulate area",
          "Agranular insular area",
          "Taenia tecta",
          "Agranular insular area",
          "Somatosensory areas",
          "Striatum",
          "Gustatory areas",
          "ventricular systems",
          "Somatomotor areas",
          "Somatosensory areas",
          "Pallidum",
          "Visceral area",
          "Visceral area",
          "ventricular systems",
          "Retrosplenial area",
          "Somatosensory areas",
          "Somatosensory areas",
          "Somatosensory areas",
          "Retrosplenial area",
          "Retrosplenial area",
          "Retrosplenial area",
          "Retrosplenial area",
          "Retrosplenial area",
          "Striatum",
          "Retrosplenial area",
          "Retrosplenial area",
          "Retrosplenial area",
          "Somatosensory areas",
          "Striatum",
          "Retrosplenial area",
          "Gustatory areas",
          "Thalamus",
          "ventricular systems",
          "Agranular insular area",
          "Posterior parietal association areas",
          "root",
          "Thalamus",
          "Hippocampal region",
          "Posterior parietal association areas",
          "Thalamus",
          "Thalamus",
          "Retrosplenial area",
          "Thalamus",
          "Visceral area",
          "Thalamus",
          "Agranular insular area",
          "Thalamus",
          "Posterior parietal association areas",
          "Visceral area",
          "Posterior parietal association areas",
          "Posterior parietal association areas",
          "Visual areas",
          "Thalamus",
          "Hippocampal region",
          "Thalamus",
          "Posterior parietal association areas",
          "Thalamus",
          "Visual areas",
          "Thalamus",
          "Thalamus",
          "Thalamus",
          "Thalamus",
          "Agranular insular area",
          "Thalamus",
          "Cortical subplate",
          "Auditory areas",
          "Posterior parietal association areas",
          "Auditory areas",
          "Retrosplenial area",
          "Thalamus",
          "Ectorhinal area",
          "Ectorhinal area",
          "Auditory areas",
          "Posterior parietal association areas",
          "Visual areas",
          "Temporal association areas",
          "Posterior parietal association areas",
          "Temporal association areas",
          "Ectorhinal area",
          "Auditory areas",
          "Visual areas",
          "Visual areas",
          "Visual areas",
          "Visual areas",
          "Visual areas",
          "Posterior parietal association areas",
          "Thalamus",
          "Visual areas",
          "Temporal association areas",
          "Cortical subplate",
          "Ectorhinal area",
          "Hippocampal region",
          "Auditory areas",
          "Visual areas",
          "Auditory areas",
          "Thalamus",
          "Retrohippocampal region",
          "Visual areas",
          "Retrohippocampal region",
          "Midbrain",
          "Thalamus",
          "Temporal association areas",
          "Auditory areas",
          "Perirhinal area",
          "Auditory areas",
          "Perirhinal area",
          "Visual areas",
          "Retrohippocampal region",
          "Visual areas",
          "Hypothalamus",
          "Visual areas",
          "Visual areas",
          "Retrohippocampal region",
          "Perirhinal area",
          "Hypothalamus",
          "Postpiriform transition area",
          "Hypothalamus",
          "Visual areas",
          "Visual areas",
          "Retrohippocampal region",
          "Auditory areas",
          "Midbrain",
          "Hypothalamus",
          "Visual areas",
          "Retrohippocampal region",
          "Visual areas",
          "Visual areas",
          "Temporal association areas",
          "Visual areas",
          "Visual areas",
          "Retrohippocampal region",
          "Visual areas",
          "Midbrain",
          "Accessory olfactory bulb",
          "Frontal pole",
          "Orbital area",
          "Orbital area",
          "Orbital area",
          "Infralimbic area",
          "Agranular insular area",
          "Gustatory areas",
          "Gustatory areas",
          "Taenia tecta",
          "Prelimbic area",
          "Dorsal peduncular area",
          "Pallidum",
          "Striatum",
          "Agranular insular area",
          "Hypothalamus",
          "Hypothalamus",
          "Hippocampal region",
          "Thalamus",
          "Hippocampal region",
          "Hippocampal region",
          "Thalamus",
          "Hippocampal region",
          "Retrosplenial area",
          "Thalamus",
          "Pallidum",
          "Hippocampal region",
          "Hippocampal region",
          "Posterior parietal association areas",
          "ventricular systems",
          "Posterior parietal association areas",
          "Hippocampal region",
          "Visual areas",
          "Hippocampal region",
          "Visceral area",
          "Cortical subplate",
          "Piriform-amygdalar area",
          "Thalamus",
          "Pallidum",
          "Hypothalamus",
          "Thalamus",
          "Auditory areas",
          "Thalamus",
          "Auditory areas",
          "Thalamus",
          "Retrosplenial area",
          "Visual areas",
          "Auditory areas",
          "Auditory areas",
          "Auditory areas",
          "Hippocampal region",
          "Thalamus",
          "Cortical amygdalar area",
          "Thalamus",
          "Thalamus",
          "Retrosplenial area",
          "Auditory areas",
          "Auditory areas",
          "Auditory areas",
          "Auditory areas",
          "Visual areas",
          "Auditory areas",
          "Retrohippocampal region",
          "Auditory areas",
          "Cortical subplate",
          "Cortical subplate",
          "Hippocampal region",
          "Visual areas",
          "Visual areas",
          "Visual areas",
          "Visual areas",
          "Thalamus",
          "Visual areas",
          "Thalamus",
          "Thalamus",
          "Pallidum",
          "Visual areas",
          "Hypothalamus",
          "Auditory areas",
          "Auditory areas",
          "Retrohippocampal region",
          "Hypothalamus",
          "Auditory areas",
          "Cortical subplate",
          "Thalamus",
          "Hypothalamus",
          "Visual areas",
          "Visual areas",
          "Visual areas",
          "Thalamus",
          "Thalamus",
          "Cortical amygdalar area",
          "Thalamus",
          "Thalamus",
          "Visual areas",
          "Midbrain",
          "Visual areas",
          "Hypothalamus",
          "Hypothalamus",
          "Visual areas",
          "Hypothalamus",
          "Thalamus",
          "Hypothalamus",
          "Midbrain",
          "Midbrain",
          "Visual areas",
          "Midbrain",
          "Midbrain",
          "Midbrain",
          "Midbrain",
          "Visual areas",
          "Visual areas",
          "Main olfactory bulb",
          "Main olfactory bulb",
          "Main olfactory bulb",
          "Main olfactory bulb",
          "Frontal pole",
          "Somatomotor areas",
          "Orbital area",
          "Somatomotor areas",
          "Agranular insular area",
          "Anterior olfactory nucleus",
          "Accessory olfactory bulb",
          "Orbital area",
          "Prelimbic area",
          "Orbital area",
          "Orbital area",
          "Orbital area",
          "Orbital area",
          "Somatomotor areas",
          "Somatomotor areas",
          "Somatomotor areas",
          "Agranular insular area",
          "Piriform area",
          "Orbital area",
          "Somatomotor areas",
          "Somatosensory areas",
          "Anterior cingulate area",
          "Striatum",
          "Striatum",
          "Somatosensory areas",
          "Anterior cingulate area",
          "ventricular systems",
          "Retrosplenial area",
          "Somatosensory areas",
          "Retrosplenial area",
          "Visceral area",
          "Retrosplenial area",
          "Retrosplenial area",
          "Thalamus",
          "Somatosensory areas",
          "Thalamus",
          "Thalamus",
          "Retrosplenial area",
          "Visceral area",
          "Hippocampal region",
          "Agranular insular area",
          "Thalamus",
          "Posterior parietal association areas",
          "Hippocampal region",
          "Thalamus",
          "Retrosplenial area",
          "Thalamus",
          "Thalamus",
          "Posterior parietal association areas",
          "Visual areas",
          "Thalamus",
          "Somatosensory areas",
          "Agranular insular area",
          "Thalamus",
          "Posterior parietal association areas",
          "Thalamus",
          "Posterior parietal association areas",
          "Visual areas",
          "Cortical subplate",
          "Posterior parietal association areas",
          "Thalamus",
          "Ectorhinal area",
          "Retrohippocampal region",
          "Ectorhinal area",
          "Temporal association areas",
          "Temporal association areas",
          "Thalamus",
          "Hypothalamus",
          "Hypothalamus",
          "Striatum",
          "Hypothalamus",
          "Visual areas",
          "Thalamus",
          "Auditory areas",
          "Visual areas",
          "Cortical subplate",
          "Hippocampal region",
          "Retrohippocampal region",
          "Visual areas",
          "Thalamus",
          "Auditory areas",
          "Posterior parietal association areas",
          "Retrosplenial area",
          "Ectorhinal area",
          "Retrosplenial area",
          "Auditory areas",
          "Temporal association areas",
          "Visual areas",
          "Auditory areas",
          "Visual areas",
          "Auditory areas",
          "Auditory areas",
          "Retrosplenial area",
          "Thalamus",
          "Thalamus",
          "Retrosplenial area",
          "Visual areas",
          "Retrohippocampal region",
          "Midbrain",
          "Hypothalamus",
          "root",
          "Visual areas",
          "Auditory areas",
          "Perirhinal area",
          "Retrosplenial area",
          "Visual areas",
          "Thalamus",
          "Auditory areas",
          "Perirhinal area",
          "Hippocampal region",
          "Hypothalamus",
          "Retrohippocampal region",
          "Thalamus",
          "Cortical amygdalar area",
          "Hypothalamus",
          "Thalamus",
          "Postpiriform transition area",
          "Visual areas",
          "Retrohippocampal region",
          "Hippocampal region",
          "Visual areas",
          "Retrohippocampal region",
          "Retrosplenial area",
          "Visual areas",
          "Retrohippocampal region",
          "Midbrain",
          "Auditory areas",
          "Auditory areas",
          "Retrohippocampal region",
          "Temporal association areas",
          "Midbrain",
          "Midbrain",
          "Visual areas",
          "Hippocampal region",
          "Visual areas",
          "Midbrain",
          "Midbrain",
          "Visual areas",
          "Midbrain",
          "Midbrain",
          "Visual areas",
          "Main olfactory bulb",
          "Accessory olfactory bulb",
          "Accessory olfactory bulb",
          "Orbital area",
          "Orbital area",
          "Prelimbic area",
          "Somatomotor areas",
          "Anterior cingulate area",
          "Taenia tecta",
          "Anterior cingulate area",
          "Prelimbic area",
          "Agranular insular area",
          "Infralimbic area",
          "Agranular insular area",
          "Somatomotor areas",
          "Striatum",
          "Somatomotor areas",
          "Anterior cingulate area",
          "Striatum",
          "Pallidum",
          "Agranular insular area",
          "Pallidum",
          "Striatum",
          "Visceral area",
          "Hypothalamus",
          "Striatum",
          "Gustatory areas",
          "Somatosensory areas",
          "Striatum",
          "Cortical subplate",
          "Pallidum",
          "ventricular systems",
          "Cortical subplate",
          "Agranular insular area",
          "Posterior parietal association areas",
          "Pallidum",
          "Posterior parietal association areas",
          "Thalamus",
          "Nucleus of the lateral olfactory tract",
          "Nucleus of the lateral olfactory tract",
          "Visceral area",
          "Posterior parietal association areas",
          "Pallidum",
          "Visceral area",
          "Posterior parietal association areas",
          "Posterior parietal association areas",
          "Thalamus",
          "Visceral area",
          "Visual areas",
          "Thalamus",
          "Thalamus",
          "Auditory areas",
          "Auditory areas",
          "Auditory areas",
          "Visual areas",
          "Auditory areas",
          "Auditory areas",
          "Cortical subplate",
          "Auditory areas",
          "Posterior parietal association areas",
          "Visual areas",
          "Auditory areas",
          "Agranular insular area",
          "Thalamus",
          "Visual areas",
          "Striatum",
          "Visual areas",
          "Auditory areas",
          "Thalamus",
          "Temporal association areas",
          "Thalamus",
          "Auditory areas",
          "Cortical subplate",
          "Visual areas",
          "Thalamus",
          "Perirhinal area",
          "Auditory areas",
          "Thalamus",
          "Temporal association areas",
          "Visual areas",
          "Cortical subplate",
          "Hypothalamus",
          "Visual areas",
          "Hypothalamus",
          "Visual areas",
          "Visual areas",
          "Visual areas",
          "Thalamus",
          "Thalamus",
          "Visual areas",
          "Thalamus",
          "Piriform-amygdalar area",
          "Auditory areas",
          "Auditory areas",
          "Hypothalamus",
          "Auditory areas",
          "Hypothalamus",
          "Visual areas",
          "Thalamus",
          "Ectorhinal area",
          "Hippocampal region",
          "Visual areas",
          "Thalamus",
          "Visual areas",
          "Cortical amygdalar area",
          "Visual areas",
          "Visual areas",
          "Midbrain",
          "Hippocampal region",
          "Visual areas",
          "Hippocampal region",
          "Thalamus",
          "Visual areas",
          "Hypothalamus",
          "Midbrain",
          "Thalamus",
          "Midbrain",
          "Thalamus",
          "Midbrain",
          "Visual areas",
          "Thalamus",
          "Thalamus",
          "Visual areas",
          "Retrohippocampal region",
          "Midbrain",
          "Midbrain",
          "Visual areas",
          "Midbrain",
          "Retrohippocampal region",
          "Retrosplenial area",
          "Retrohippocampal region",
          "Midbrain"
         ],
         "x0": " ",
         "xaxis": "x",
         "y": {
          "bdata": "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",
          "dtype": "f8"
         },
         "y0": " ",
         "yaxis": "y"
        },
        {
         "alignmentgroup": "True",
         "hovertemplate": "Hemisphere=contralateral<br>General area=%{x}<br>scaled count=%{y}<extra></extra>",
         "legendgroup": "contralateral",
         "marker": {
          "color": "orange"
         },
         "name": "contralateral",
         "notched": false,
         "offsetgroup": "contralateral",
         "orientation": "v",
         "showlegend": true,
         "type": "box",
         "x": [
          "Accessory olfactory bulb",
          "Orbital area",
          "Orbital area",
          "Orbital area",
          "Orbital area",
          "Somatosensory areas",
          "Infralimbic area",
          "Somatosensory areas",
          "Somatosensory areas",
          "Somatosensory areas",
          "Somatosensory areas",
          "Somatosensory areas",
          "Somatosensory areas",
          "Somatosensory areas",
          "Somatosensory areas",
          "Somatosensory areas",
          "Somatosensory areas",
          "Somatosensory areas",
          "Somatosensory areas",
          "Somatosensory areas",
          "Anterior cingulate area",
          "Pallidum",
          "Somatosensory areas",
          "Somatosensory areas",
          "Somatosensory areas",
          "Somatosensory areas",
          "Somatosensory areas",
          "Somatosensory areas",
          "Somatosensory areas",
          "Gustatory areas",
          "Somatosensory areas",
          "Somatosensory areas",
          "Somatosensory areas",
          "Cortical subplate",
          "Somatosensory areas",
          "Somatosensory areas",
          "Somatosensory areas",
          "Somatosensory areas",
          "Somatosensory areas",
          "ventricular systems",
          "Somatosensory areas",
          "Hypothalamus",
          "Striatum",
          "Hippocampal region",
          "Cortical subplate",
          "Hypothalamus",
          "Thalamus",
          "Cortical amygdalar area",
          "Visual areas",
          "Midbrain",
          "Prelimbic area",
          "Orbital area",
          "Somatosensory areas",
          "Infralimbic area",
          "Somatosensory areas",
          "Somatosensory areas",
          "Somatosensory areas",
          "Somatosensory areas",
          "Somatosensory areas",
          "Somatosensory areas",
          "Somatosensory areas",
          "Anterior cingulate area",
          "Somatosensory areas",
          "Somatosensory areas",
          "Somatosensory areas",
          "Somatosensory areas",
          "Agranular insular area",
          "Somatosensory areas",
          "Somatosensory areas",
          "Somatosensory areas",
          "Somatosensory areas",
          "Somatosensory areas",
          "Striatum",
          "Somatosensory areas",
          "Somatosensory areas",
          "Somatosensory areas",
          "Somatosensory areas",
          "Somatosensory areas",
          "Somatosensory areas",
          "Somatosensory areas",
          "Somatosensory areas",
          "Somatosensory areas",
          "Somatosensory areas",
          "Somatosensory areas",
          "Somatosensory areas",
          "Somatosensory areas",
          "Somatosensory areas",
          "Somatosensory areas",
          "Nucleus of the lateral olfactory tract",
          "Somatosensory areas",
          "Somatosensory areas",
          "Nucleus of the lateral olfactory tract",
          "Striatum",
          "Thalamus",
          "Thalamus",
          "Retrohippocampal region",
          "Midbrain",
          "Midbrain",
          "Hippocampal region",
          "Hypothalamus",
          "Hippocampal region",
          "Midbrain",
          "Frontal pole",
          "Orbital area",
          "Agranular insular area",
          "Gustatory areas",
          "Somatosensory areas",
          "Somatosensory areas",
          "Somatosensory areas",
          "Somatosensory areas",
          "Pallidum",
          "Hippocampal region",
          "Somatosensory areas",
          "Somatosensory areas",
          "Somatosensory areas",
          "Somatosensory areas",
          "Somatosensory areas",
          "Somatosensory areas",
          "Somatosensory areas",
          "Somatosensory areas",
          "ventricular systems",
          "Cortical amygdalar area",
          "Somatosensory areas",
          "Somatosensory areas",
          "Pallidum",
          "Cortical subplate",
          "Cortical subplate",
          "Somatosensory areas",
          "Ectorhinal area",
          "Hippocampal region",
          "Midbrain",
          "Cortical subplate",
          "Thalamus",
          "Hypothalamus",
          "Midbrain",
          "Hypothalamus",
          "Midbrain",
          "Midbrain",
          "root",
          "Frontal pole",
          "Somatomotor areas",
          "Visceral area",
          "Auditory areas",
          "Visual areas",
          "Anterior cingulate area",
          "Prelimbic area",
          "Infralimbic area",
          "Retrosplenial area",
          "Posterior parietal association areas",
          "Temporal association areas",
          "Perirhinal area",
          "Ectorhinal area",
          "Main olfactory bulb",
          "Accessory olfactory bulb",
          "Anterior olfactory nucleus",
          "Taenia tecta",
          "Dorsal peduncular area",
          "Piriform area",
          "Nucleus of the lateral olfactory tract",
          "Piriform-amygdalar area",
          "Postpiriform transition area",
          "Retrohippocampal region",
          "Striatum",
          "Pons",
          "Medulla",
          "Cerebellum"
         ],
         "x0": " ",
         "xaxis": "x",
         "y": {
          "bdata": "I/8YKx6Vmz9av1Kg1q+kPyP/GCselYs/I/8YKx6Viz8j/xgrHpWLPz/ftWV6Itg/I/8YKx6Viz8Vj8oNcE7NP1OHq5F/jNU/I/8YKx6Viz8j/xgrHpWLPz/ftWV6Irg/dp/v2jI90T9av1Kg1q+0PyP/GCselYs/dp/v2jI9sT92n+/aMj3hPyP/GCselZs/I/8YKx6Viz8/37VleiLIPyP/GCselYs/I/8YKx6Viz9av1Kg1q+kPwcffPDBB88/I/8YKx6Viz9av1Kg1q/EP3af79oyPbE/Wr9SoNavpD92n+/aMj2xPyP/GCselYs/KjfAOXW42j8j/xgrHpWLPyP/GCselYs/I/8YKx6Vqz9av1Kg1q+kPyP/GCselZs/dp/v2jI9sT8j/xgrHpWrPyP/GCselYs/I/8YKx6Vmz8j/xgrHpWLPyP/GCselYs/I/8YKx6Vmz8j/xgrHpWbP1q/UqDWr6Q/I/8YKx6Viz8j/xgrHpWLP1q/UqDWr6Q/I/8YKx6Viz8j/xgrHpWLP0QTZUekOZQ/WsSGtIX3qj/+phzsK4rSP1rEhrSF94o/iX+tohzpxT+VBDBj9wLAP+WcF2t2Vq4//qYc7CuKwj/lnBdrdlauP/6mHOwrirI/z+v1/ZSYtz/lnBdrdlauP1rEhrSF95o/z+v1/ZSYpz/+phzsK4qyP0QTZUekOaQ/WsSGtIX3ej9axIa0hfeqP/6mHOwrirI/z+v1/ZSYpz/P6/X9lJi3P1rEhrSF96o/WsSGtIX3ij9axIa0hfd6P+WcF2t2Vq4/5ZwXa3ZWrj9axIa0hfeaP0QTZUekObQ/WsSGtIX3qj/P6/X9lJi3P0QTZUekOaQ/5ZwXa3ZWrj/P6/X9lJi3P1rEhrSF93o/7ItK1U0e0j+4OtSQs9rAP1rEhrSF93o/WsSGtIX3ij9axIa0hfd6P1rEhrSF93o/WsSGtIX3ej9axIa0hfd6P1rEhrSF93o/WsSGtIX3ej9axIa0hfd6P1rEhrSF94o/WsSGtIX3ej9EE2VHpDmUP1rEhrSF94o/RBNlR6Q5lD9axIa0hfd6P1rEhrSF93o/yKnhWHmcmj/IqeFYeZyKP8ip4Vh5nJo/yKnhWHmcij/IqeFYeZyKPx0KjdfLobA/HQqN18uhsD/IqeFYeZyqP8ip4Vh5nIo/Vj+pAlv1sz/IqeFYeZyKP8ip4Vh5nKo/yKnhWHmcij/IqeFYeZyKP8ip4Vh5nJo/yKnhWHmcij/IqeFYeZyKPwgy4jd3INM/yKnhWHmcij/IqeFYeZyaPx0KjdfLobA/yKnhWHmcij/IqeFYeZyKP8ip4Vh5nKo/yKnhWHmcqj/IqeFYeZyKP8ip4Vh5nKo/yKnhWHmcij/IqeFYeZyaP8ip4Vh5nIo/yKnhWHmcij/IqeFYeZyKP8ip4Vh5nJo/yKnhWHmcij/IqeFYeZyKP8ip4Vh5nIo/AAAAAAAAAAAAAAAAAAAAAAAAAAAAAAAAAAAAAAAAAAAAAAAAAAAAAAAAAAAAAAAAAAAAAAAAAAAAAAAAAAAAAAAAAAAAAAAAAAAAAAAAAAAAAAAAAAAAAAAAAAAAAAAAAAAAAAAAAAAAAAAAAAAAAAAAAAAAAAAAAAAAAAAAAAAAAAAAAAAAAAAAAAAAAAAAAAAAAAAAAAAAAAAAAAAAAAAAAAAAAAAAAAAAAAAAAAAAAAAAAAAAAAAAAAAAAAAAAAAAAAAAAAAAAAAAAAAAAAAAAAAAAAAAAAAAAAAAAAA=",
          "dtype": "f8"
         },
         "y0": " ",
         "yaxis": "y"
        }
       ],
       "layout": {
        "boxmode": "group",
        "legend": {
         "font": {
          "size": 20
         },
         "title": {
          "text": "Hemisphere"
         },
         "tracegroupgap": 0
        },
        "template": {
         "data": {
          "bar": [
           {
            "error_x": {
             "color": "#2a3f5f"
            },
            "error_y": {
             "color": "#2a3f5f"
            },
            "marker": {
             "line": {
              "color": "#E5ECF6",
              "width": 0.5
             },
             "pattern": {
              "fillmode": "overlay",
              "size": 10,
              "solidity": 0.2
             }
            },
            "type": "bar"
           }
          ],
          "barpolar": [
           {
            "marker": {
             "line": {
              "color": "#E5ECF6",
              "width": 0.5
             },
             "pattern": {
              "fillmode": "overlay",
              "size": 10,
              "solidity": 0.2
             }
            },
            "type": "barpolar"
           }
          ],
          "carpet": [
           {
            "aaxis": {
             "endlinecolor": "#2a3f5f",
             "gridcolor": "white",
             "linecolor": "white",
             "minorgridcolor": "white",
             "startlinecolor": "#2a3f5f"
            },
            "baxis": {
             "endlinecolor": "#2a3f5f",
             "gridcolor": "white",
             "linecolor": "white",
             "minorgridcolor": "white",
             "startlinecolor": "#2a3f5f"
            },
            "type": "carpet"
           }
          ],
          "choropleth": [
           {
            "colorbar": {
             "outlinewidth": 0,
             "ticks": ""
            },
            "type": "choropleth"
           }
          ],
          "contour": [
           {
            "colorbar": {
             "outlinewidth": 0,
             "ticks": ""
            },
            "colorscale": [
             [
              0,
              "#0d0887"
             ],
             [
              0.1111111111111111,
              "#46039f"
             ],
             [
              0.2222222222222222,
              "#7201a8"
             ],
             [
              0.3333333333333333,
              "#9c179e"
             ],
             [
              0.4444444444444444,
              "#bd3786"
             ],
             [
              0.5555555555555556,
              "#d8576b"
             ],
             [
              0.6666666666666666,
              "#ed7953"
             ],
             [
              0.7777777777777778,
              "#fb9f3a"
             ],
             [
              0.8888888888888888,
              "#fdca26"
             ],
             [
              1,
              "#f0f921"
             ]
            ],
            "type": "contour"
           }
          ],
          "contourcarpet": [
           {
            "colorbar": {
             "outlinewidth": 0,
             "ticks": ""
            },
            "type": "contourcarpet"
           }
          ],
          "heatmap": [
           {
            "colorbar": {
             "outlinewidth": 0,
             "ticks": ""
            },
            "colorscale": [
             [
              0,
              "#0d0887"
             ],
             [
              0.1111111111111111,
              "#46039f"
             ],
             [
              0.2222222222222222,
              "#7201a8"
             ],
             [
              0.3333333333333333,
              "#9c179e"
             ],
             [
              0.4444444444444444,
              "#bd3786"
             ],
             [
              0.5555555555555556,
              "#d8576b"
             ],
             [
              0.6666666666666666,
              "#ed7953"
             ],
             [
              0.7777777777777778,
              "#fb9f3a"
             ],
             [
              0.8888888888888888,
              "#fdca26"
             ],
             [
              1,
              "#f0f921"
             ]
            ],
            "type": "heatmap"
           }
          ],
          "histogram": [
           {
            "marker": {
             "pattern": {
              "fillmode": "overlay",
              "size": 10,
              "solidity": 0.2
             }
            },
            "type": "histogram"
           }
          ],
          "histogram2d": [
           {
            "colorbar": {
             "outlinewidth": 0,
             "ticks": ""
            },
            "colorscale": [
             [
              0,
              "#0d0887"
             ],
             [
              0.1111111111111111,
              "#46039f"
             ],
             [
              0.2222222222222222,
              "#7201a8"
             ],
             [
              0.3333333333333333,
              "#9c179e"
             ],
             [
              0.4444444444444444,
              "#bd3786"
             ],
             [
              0.5555555555555556,
              "#d8576b"
             ],
             [
              0.6666666666666666,
              "#ed7953"
             ],
             [
              0.7777777777777778,
              "#fb9f3a"
             ],
             [
              0.8888888888888888,
              "#fdca26"
             ],
             [
              1,
              "#f0f921"
             ]
            ],
            "type": "histogram2d"
           }
          ],
          "histogram2dcontour": [
           {
            "colorbar": {
             "outlinewidth": 0,
             "ticks": ""
            },
            "colorscale": [
             [
              0,
              "#0d0887"
             ],
             [
              0.1111111111111111,
              "#46039f"
             ],
             [
              0.2222222222222222,
              "#7201a8"
             ],
             [
              0.3333333333333333,
              "#9c179e"
             ],
             [
              0.4444444444444444,
              "#bd3786"
             ],
             [
              0.5555555555555556,
              "#d8576b"
             ],
             [
              0.6666666666666666,
              "#ed7953"
             ],
             [
              0.7777777777777778,
              "#fb9f3a"
             ],
             [
              0.8888888888888888,
              "#fdca26"
             ],
             [
              1,
              "#f0f921"
             ]
            ],
            "type": "histogram2dcontour"
           }
          ],
          "mesh3d": [
           {
            "colorbar": {
             "outlinewidth": 0,
             "ticks": ""
            },
            "type": "mesh3d"
           }
          ],
          "parcoords": [
           {
            "line": {
             "colorbar": {
              "outlinewidth": 0,
              "ticks": ""
             }
            },
            "type": "parcoords"
           }
          ],
          "pie": [
           {
            "automargin": true,
            "type": "pie"
           }
          ],
          "scatter": [
           {
            "fillpattern": {
             "fillmode": "overlay",
             "size": 10,
             "solidity": 0.2
            },
            "type": "scatter"
           }
          ],
          "scatter3d": [
           {
            "line": {
             "colorbar": {
              "outlinewidth": 0,
              "ticks": ""
             }
            },
            "marker": {
             "colorbar": {
              "outlinewidth": 0,
              "ticks": ""
             }
            },
            "type": "scatter3d"
           }
          ],
          "scattercarpet": [
           {
            "marker": {
             "colorbar": {
              "outlinewidth": 0,
              "ticks": ""
             }
            },
            "type": "scattercarpet"
           }
          ],
          "scattergeo": [
           {
            "marker": {
             "colorbar": {
              "outlinewidth": 0,
              "ticks": ""
             }
            },
            "type": "scattergeo"
           }
          ],
          "scattergl": [
           {
            "marker": {
             "colorbar": {
              "outlinewidth": 0,
              "ticks": ""
             }
            },
            "type": "scattergl"
           }
          ],
          "scattermap": [
           {
            "marker": {
             "colorbar": {
              "outlinewidth": 0,
              "ticks": ""
             }
            },
            "type": "scattermap"
           }
          ],
          "scattermapbox": [
           {
            "marker": {
             "colorbar": {
              "outlinewidth": 0,
              "ticks": ""
             }
            },
            "type": "scattermapbox"
           }
          ],
          "scatterpolar": [
           {
            "marker": {
             "colorbar": {
              "outlinewidth": 0,
              "ticks": ""
             }
            },
            "type": "scatterpolar"
           }
          ],
          "scatterpolargl": [
           {
            "marker": {
             "colorbar": {
              "outlinewidth": 0,
              "ticks": ""
             }
            },
            "type": "scatterpolargl"
           }
          ],
          "scatterternary": [
           {
            "marker": {
             "colorbar": {
              "outlinewidth": 0,
              "ticks": ""
             }
            },
            "type": "scatterternary"
           }
          ],
          "surface": [
           {
            "colorbar": {
             "outlinewidth": 0,
             "ticks": ""
            },
            "colorscale": [
             [
              0,
              "#0d0887"
             ],
             [
              0.1111111111111111,
              "#46039f"
             ],
             [
              0.2222222222222222,
              "#7201a8"
             ],
             [
              0.3333333333333333,
              "#9c179e"
             ],
             [
              0.4444444444444444,
              "#bd3786"
             ],
             [
              0.5555555555555556,
              "#d8576b"
             ],
             [
              0.6666666666666666,
              "#ed7953"
             ],
             [
              0.7777777777777778,
              "#fb9f3a"
             ],
             [
              0.8888888888888888,
              "#fdca26"
             ],
             [
              1,
              "#f0f921"
             ]
            ],
            "type": "surface"
           }
          ],
          "table": [
           {
            "cells": {
             "fill": {
              "color": "#EBF0F8"
             },
             "line": {
              "color": "white"
             }
            },
            "header": {
             "fill": {
              "color": "#C8D4E3"
             },
             "line": {
              "color": "white"
             }
            },
            "type": "table"
           }
          ]
         },
         "layout": {
          "annotationdefaults": {
           "arrowcolor": "#2a3f5f",
           "arrowhead": 0,
           "arrowwidth": 1
          },
          "autotypenumbers": "strict",
          "coloraxis": {
           "colorbar": {
            "outlinewidth": 0,
            "ticks": ""
           }
          },
          "colorscale": {
           "diverging": [
            [
             0,
             "#8e0152"
            ],
            [
             0.1,
             "#c51b7d"
            ],
            [
             0.2,
             "#de77ae"
            ],
            [
             0.3,
             "#f1b6da"
            ],
            [
             0.4,
             "#fde0ef"
            ],
            [
             0.5,
             "#f7f7f7"
            ],
            [
             0.6,
             "#e6f5d0"
            ],
            [
             0.7,
             "#b8e186"
            ],
            [
             0.8,
             "#7fbc41"
            ],
            [
             0.9,
             "#4d9221"
            ],
            [
             1,
             "#276419"
            ]
           ],
           "sequential": [
            [
             0,
             "#0d0887"
            ],
            [
             0.1111111111111111,
             "#46039f"
            ],
            [
             0.2222222222222222,
             "#7201a8"
            ],
            [
             0.3333333333333333,
             "#9c179e"
            ],
            [
             0.4444444444444444,
             "#bd3786"
            ],
            [
             0.5555555555555556,
             "#d8576b"
            ],
            [
             0.6666666666666666,
             "#ed7953"
            ],
            [
             0.7777777777777778,
             "#fb9f3a"
            ],
            [
             0.8888888888888888,
             "#fdca26"
            ],
            [
             1,
             "#f0f921"
            ]
           ],
           "sequentialminus": [
            [
             0,
             "#0d0887"
            ],
            [
             0.1111111111111111,
             "#46039f"
            ],
            [
             0.2222222222222222,
             "#7201a8"
            ],
            [
             0.3333333333333333,
             "#9c179e"
            ],
            [
             0.4444444444444444,
             "#bd3786"
            ],
            [
             0.5555555555555556,
             "#d8576b"
            ],
            [
             0.6666666666666666,
             "#ed7953"
            ],
            [
             0.7777777777777778,
             "#fb9f3a"
            ],
            [
             0.8888888888888888,
             "#fdca26"
            ],
            [
             1,
             "#f0f921"
            ]
           ]
          },
          "colorway": [
           "#636efa",
           "#EF553B",
           "#00cc96",
           "#ab63fa",
           "#FFA15A",
           "#19d3f3",
           "#FF6692",
           "#B6E880",
           "#FF97FF",
           "#FECB52"
          ],
          "font": {
           "color": "#2a3f5f"
          },
          "geo": {
           "bgcolor": "white",
           "lakecolor": "white",
           "landcolor": "#E5ECF6",
           "showlakes": true,
           "showland": true,
           "subunitcolor": "white"
          },
          "hoverlabel": {
           "align": "left"
          },
          "hovermode": "closest",
          "mapbox": {
           "style": "light"
          },
          "paper_bgcolor": "white",
          "plot_bgcolor": "#E5ECF6",
          "polar": {
           "angularaxis": {
            "gridcolor": "white",
            "linecolor": "white",
            "ticks": ""
           },
           "bgcolor": "#E5ECF6",
           "radialaxis": {
            "gridcolor": "white",
            "linecolor": "white",
            "ticks": ""
           }
          },
          "scene": {
           "xaxis": {
            "backgroundcolor": "#E5ECF6",
            "gridcolor": "white",
            "gridwidth": 2,
            "linecolor": "white",
            "showbackground": true,
            "ticks": "",
            "zerolinecolor": "white"
           },
           "yaxis": {
            "backgroundcolor": "#E5ECF6",
            "gridcolor": "white",
            "gridwidth": 2,
            "linecolor": "white",
            "showbackground": true,
            "ticks": "",
            "zerolinecolor": "white"
           },
           "zaxis": {
            "backgroundcolor": "#E5ECF6",
            "gridcolor": "white",
            "gridwidth": 2,
            "linecolor": "white",
            "showbackground": true,
            "ticks": "",
            "zerolinecolor": "white"
           }
          },
          "shapedefaults": {
           "line": {
            "color": "#2a3f5f"
           }
          },
          "ternary": {
           "aaxis": {
            "gridcolor": "white",
            "linecolor": "white",
            "ticks": ""
           },
           "baxis": {
            "gridcolor": "white",
            "linecolor": "white",
            "ticks": ""
           },
           "bgcolor": "#E5ECF6",
           "caxis": {
            "gridcolor": "white",
            "linecolor": "white",
            "ticks": ""
           }
          },
          "title": {
           "x": 0.05
          },
          "xaxis": {
           "automargin": true,
           "gridcolor": "white",
           "linecolor": "white",
           "ticks": "",
           "title": {
            "standoff": 15
           },
           "zerolinecolor": "white",
           "zerolinewidth": 2
          },
          "yaxis": {
           "automargin": true,
           "gridcolor": "white",
           "linecolor": "white",
           "ticks": "",
           "title": {
            "standoff": 15
           },
           "zerolinecolor": "white",
           "zerolinewidth": 2
          }
         }
        },
        "title": {
         "text": "S1 injections scaled counts by hemisphere, both p6 (n=2) and p7 (n=1)"
        },
        "xaxis": {
         "anchor": "y",
         "categoryarray": [],
         "categoryorder": "array",
         "domain": [
          0,
          1
         ],
         "tickfont": {
          "size": 18
         },
         "title": {
          "font": {
           "size": 24
          },
          "text": "General area"
         }
        },
        "yaxis": {
         "anchor": "x",
         "domain": [
          0,
          1
         ],
         "tickfont": {
          "size": 18
         },
         "title": {
          "font": {
           "size": 24
          },
          "text": "scaled count"
         }
        }
       }
      }
     },
     "metadata": {},
     "output_type": "display_data"
    }
   ],
   "source": [
    "plot_scaled(\n",
    "    big_file_S1_injections_long,\n",
    "    \"S1 injections scaled counts by hemisphere, both p6 (n=2) and p7 (n=1)\",\n",
    "    area_order_scaled,\n",
    ")"
   ]
  },
  {
   "cell_type": "code",
   "execution_count": 107,
   "id": "3097b786",
   "metadata": {},
   "outputs": [],
   "source": [
    "def plot_scaled_zoomed(big_file_long, Title):\n",
    "    filtered_areas = [\n",
    "        \"Visual areas\",\n",
    "        \"Retrosplenial area\",\n",
    "        \"Thalamus\",\n",
    "        \"Main olfactory bulb\",\n",
    "        \"Piriform area\",\n",
    "        \"Auditory areas\",\n",
    "    ]\n",
    "\n",
    "    df_hemi = big_file_long[\n",
    "        (big_file_long[\"Hemisphere\"] == \"ipsilateral\")\n",
    "        & (big_file_long[\"General area\"].isin(filtered_areas))\n",
    "    ]\n",
    "\n",
    "    area_order_scaled = (\n",
    "        df_hemi.groupby(\"General area\")[\"scaled count\"]\n",
    "        .max()\n",
    "        .sort_values(ascending=False)\n",
    "        .index.tolist()\n",
    "    )\n",
    "\n",
    "    fig = px.box(\n",
    "        df_hemi,\n",
    "        y=\"scaled count\",\n",
    "        x=\"General area\",\n",
    "        # color=\"age\",\n",
    "        # points=\"all\",\n",
    "        title=Title,\n",
    "        category_orders={\"General area\": area_order_scaled},\n",
    "        labels={\"scaled count\": \"Scaled count\", \"General area\": \"General area\"},\n",
    "    )\n",
    "    fig.update_layout(\n",
    "        legend=dict(font=dict(size=20)),\n",
    "        xaxis_title_font=dict(size=24),  # x-axis label font size\n",
    "        yaxis_title_font=dict(size=24),  # y-axis label font size\n",
    "        xaxis_tickfont=dict(size=18),  # x-axis tick font size\n",
    "        yaxis_tickfont=dict(size=18),  # y-axis tick font size\n",
    "    )\n",
    "\n",
    "    return fig"
   ]
  },
  {
   "cell_type": "code",
   "execution_count": 108,
   "id": "f8338040",
   "metadata": {},
   "outputs": [],
   "source": [
    "def plot_count_zoomed(big_file_long, Title):\n",
    "    filtered_areas = [\n",
    "        \"Visual areas\",\n",
    "        \"Retrosplenial area\",\n",
    "        \"Thalamus\",\n",
    "        \"Main olfactory bulb\",\n",
    "        \"Piriform area\",\n",
    "        \"Auditory areas\",\n",
    "    ]\n",
    "\n",
    "    df_hemi = big_file_long[\n",
    "        (big_file_long[\"Hemisphere\"] == \"ipsilateral\")\n",
    "        & (big_file_long[\"General area\"].isin(filtered_areas))\n",
    "    ]\n",
    "\n",
    "    area_order_count = (\n",
    "        df_hemi.groupby(\"General area\")[\"count\"]\n",
    "        .max()\n",
    "        .sort_values(ascending=False)\n",
    "        .index.tolist()\n",
    "    )\n",
    "\n",
    "    fig = px.box(\n",
    "        df_hemi,\n",
    "        y=\"count\",\n",
    "        x=\"General area\",\n",
    "        # color=\"age\",\n",
    "        # points=\"all\",\n",
    "        title=Title,\n",
    "        category_orders={\"General area\": area_order_count},\n",
    "        labels={\"count\": \"Count\", \"General area\": \"General area\"},\n",
    "    )\n",
    "    fig.update_layout(\n",
    "        legend=dict(font=dict(size=20)),\n",
    "        xaxis_title_font=dict(size=24),  # x-axis label font size\n",
    "        yaxis_title_font=dict(size=24),  # y-axis label font size\n",
    "        xaxis_tickfont=dict(size=18),  # x-axis tick font size\n",
    "        yaxis_tickfont=dict(size=18),  # y-axis tick font size\n",
    "    )\n",
    "\n",
    "    return fig"
   ]
  },
  {
   "cell_type": "code",
   "execution_count": 109,
   "id": "26eb22b5",
   "metadata": {},
   "outputs": [
    {
     "data": {
      "application/vnd.plotly.v1+json": {
       "config": {
        "plotlyServerURL": "https://plotly.com"
       },
       "data": [
        {
         "alignmentgroup": "True",
         "hovertemplate": "General area=%{x}<br>Scaled count=%{y}<extra></extra>",
         "legendgroup": "",
         "marker": {
          "color": "#636efa"
         },
         "name": "",
         "notched": false,
         "offsetgroup": "",
         "orientation": "v",
         "showlegend": false,
         "type": "box",
         "x": [
          "Auditory areas",
          "Main olfactory bulb",
          "Piriform area",
          "Retrosplenial area",
          "Thalamus",
          "Visual areas",
          "Auditory areas",
          "Main olfactory bulb",
          "Piriform area",
          "Retrosplenial area",
          "Thalamus",
          "Visual areas",
          "Auditory areas",
          "Main olfactory bulb",
          "Piriform area",
          "Retrosplenial area",
          "Thalamus",
          "Visual areas"
         ],
         "x0": " ",
         "xaxis": "x",
         "y": {
          "bdata": "CUzCMsmVrD9jp4FNzpSkPzKWykvA95E/pnXrgoLUvD+ryqF+30umP0s75Mc1N8g/ZemY9dy/oz85mRGnaJaFP1/VmG6qFYM/AmeD8JXrzD/uIAMY5ZeqP9ZlmvqcYdA/hO7Dp/F/sz8XwYPlAMiePwmpN1bMOoI/vI73eTMGwj82Jg0gbkyqP4FMAJhfDdI/",
          "dtype": "f8"
         },
         "y0": " ",
         "yaxis": "y"
        }
       ],
       "layout": {
        "boxmode": "group",
        "legend": {
         "font": {
          "size": 20
         },
         "tracegroupgap": 0
        },
        "template": {
         "data": {
          "bar": [
           {
            "error_x": {
             "color": "#2a3f5f"
            },
            "error_y": {
             "color": "#2a3f5f"
            },
            "marker": {
             "line": {
              "color": "#E5ECF6",
              "width": 0.5
             },
             "pattern": {
              "fillmode": "overlay",
              "size": 10,
              "solidity": 0.2
             }
            },
            "type": "bar"
           }
          ],
          "barpolar": [
           {
            "marker": {
             "line": {
              "color": "#E5ECF6",
              "width": 0.5
             },
             "pattern": {
              "fillmode": "overlay",
              "size": 10,
              "solidity": 0.2
             }
            },
            "type": "barpolar"
           }
          ],
          "carpet": [
           {
            "aaxis": {
             "endlinecolor": "#2a3f5f",
             "gridcolor": "white",
             "linecolor": "white",
             "minorgridcolor": "white",
             "startlinecolor": "#2a3f5f"
            },
            "baxis": {
             "endlinecolor": "#2a3f5f",
             "gridcolor": "white",
             "linecolor": "white",
             "minorgridcolor": "white",
             "startlinecolor": "#2a3f5f"
            },
            "type": "carpet"
           }
          ],
          "choropleth": [
           {
            "colorbar": {
             "outlinewidth": 0,
             "ticks": ""
            },
            "type": "choropleth"
           }
          ],
          "contour": [
           {
            "colorbar": {
             "outlinewidth": 0,
             "ticks": ""
            },
            "colorscale": [
             [
              0,
              "#0d0887"
             ],
             [
              0.1111111111111111,
              "#46039f"
             ],
             [
              0.2222222222222222,
              "#7201a8"
             ],
             [
              0.3333333333333333,
              "#9c179e"
             ],
             [
              0.4444444444444444,
              "#bd3786"
             ],
             [
              0.5555555555555556,
              "#d8576b"
             ],
             [
              0.6666666666666666,
              "#ed7953"
             ],
             [
              0.7777777777777778,
              "#fb9f3a"
             ],
             [
              0.8888888888888888,
              "#fdca26"
             ],
             [
              1,
              "#f0f921"
             ]
            ],
            "type": "contour"
           }
          ],
          "contourcarpet": [
           {
            "colorbar": {
             "outlinewidth": 0,
             "ticks": ""
            },
            "type": "contourcarpet"
           }
          ],
          "heatmap": [
           {
            "colorbar": {
             "outlinewidth": 0,
             "ticks": ""
            },
            "colorscale": [
             [
              0,
              "#0d0887"
             ],
             [
              0.1111111111111111,
              "#46039f"
             ],
             [
              0.2222222222222222,
              "#7201a8"
             ],
             [
              0.3333333333333333,
              "#9c179e"
             ],
             [
              0.4444444444444444,
              "#bd3786"
             ],
             [
              0.5555555555555556,
              "#d8576b"
             ],
             [
              0.6666666666666666,
              "#ed7953"
             ],
             [
              0.7777777777777778,
              "#fb9f3a"
             ],
             [
              0.8888888888888888,
              "#fdca26"
             ],
             [
              1,
              "#f0f921"
             ]
            ],
            "type": "heatmap"
           }
          ],
          "histogram": [
           {
            "marker": {
             "pattern": {
              "fillmode": "overlay",
              "size": 10,
              "solidity": 0.2
             }
            },
            "type": "histogram"
           }
          ],
          "histogram2d": [
           {
            "colorbar": {
             "outlinewidth": 0,
             "ticks": ""
            },
            "colorscale": [
             [
              0,
              "#0d0887"
             ],
             [
              0.1111111111111111,
              "#46039f"
             ],
             [
              0.2222222222222222,
              "#7201a8"
             ],
             [
              0.3333333333333333,
              "#9c179e"
             ],
             [
              0.4444444444444444,
              "#bd3786"
             ],
             [
              0.5555555555555556,
              "#d8576b"
             ],
             [
              0.6666666666666666,
              "#ed7953"
             ],
             [
              0.7777777777777778,
              "#fb9f3a"
             ],
             [
              0.8888888888888888,
              "#fdca26"
             ],
             [
              1,
              "#f0f921"
             ]
            ],
            "type": "histogram2d"
           }
          ],
          "histogram2dcontour": [
           {
            "colorbar": {
             "outlinewidth": 0,
             "ticks": ""
            },
            "colorscale": [
             [
              0,
              "#0d0887"
             ],
             [
              0.1111111111111111,
              "#46039f"
             ],
             [
              0.2222222222222222,
              "#7201a8"
             ],
             [
              0.3333333333333333,
              "#9c179e"
             ],
             [
              0.4444444444444444,
              "#bd3786"
             ],
             [
              0.5555555555555556,
              "#d8576b"
             ],
             [
              0.6666666666666666,
              "#ed7953"
             ],
             [
              0.7777777777777778,
              "#fb9f3a"
             ],
             [
              0.8888888888888888,
              "#fdca26"
             ],
             [
              1,
              "#f0f921"
             ]
            ],
            "type": "histogram2dcontour"
           }
          ],
          "mesh3d": [
           {
            "colorbar": {
             "outlinewidth": 0,
             "ticks": ""
            },
            "type": "mesh3d"
           }
          ],
          "parcoords": [
           {
            "line": {
             "colorbar": {
              "outlinewidth": 0,
              "ticks": ""
             }
            },
            "type": "parcoords"
           }
          ],
          "pie": [
           {
            "automargin": true,
            "type": "pie"
           }
          ],
          "scatter": [
           {
            "fillpattern": {
             "fillmode": "overlay",
             "size": 10,
             "solidity": 0.2
            },
            "type": "scatter"
           }
          ],
          "scatter3d": [
           {
            "line": {
             "colorbar": {
              "outlinewidth": 0,
              "ticks": ""
             }
            },
            "marker": {
             "colorbar": {
              "outlinewidth": 0,
              "ticks": ""
             }
            },
            "type": "scatter3d"
           }
          ],
          "scattercarpet": [
           {
            "marker": {
             "colorbar": {
              "outlinewidth": 0,
              "ticks": ""
             }
            },
            "type": "scattercarpet"
           }
          ],
          "scattergeo": [
           {
            "marker": {
             "colorbar": {
              "outlinewidth": 0,
              "ticks": ""
             }
            },
            "type": "scattergeo"
           }
          ],
          "scattergl": [
           {
            "marker": {
             "colorbar": {
              "outlinewidth": 0,
              "ticks": ""
             }
            },
            "type": "scattergl"
           }
          ],
          "scattermap": [
           {
            "marker": {
             "colorbar": {
              "outlinewidth": 0,
              "ticks": ""
             }
            },
            "type": "scattermap"
           }
          ],
          "scattermapbox": [
           {
            "marker": {
             "colorbar": {
              "outlinewidth": 0,
              "ticks": ""
             }
            },
            "type": "scattermapbox"
           }
          ],
          "scatterpolar": [
           {
            "marker": {
             "colorbar": {
              "outlinewidth": 0,
              "ticks": ""
             }
            },
            "type": "scatterpolar"
           }
          ],
          "scatterpolargl": [
           {
            "marker": {
             "colorbar": {
              "outlinewidth": 0,
              "ticks": ""
             }
            },
            "type": "scatterpolargl"
           }
          ],
          "scatterternary": [
           {
            "marker": {
             "colorbar": {
              "outlinewidth": 0,
              "ticks": ""
             }
            },
            "type": "scatterternary"
           }
          ],
          "surface": [
           {
            "colorbar": {
             "outlinewidth": 0,
             "ticks": ""
            },
            "colorscale": [
             [
              0,
              "#0d0887"
             ],
             [
              0.1111111111111111,
              "#46039f"
             ],
             [
              0.2222222222222222,
              "#7201a8"
             ],
             [
              0.3333333333333333,
              "#9c179e"
             ],
             [
              0.4444444444444444,
              "#bd3786"
             ],
             [
              0.5555555555555556,
              "#d8576b"
             ],
             [
              0.6666666666666666,
              "#ed7953"
             ],
             [
              0.7777777777777778,
              "#fb9f3a"
             ],
             [
              0.8888888888888888,
              "#fdca26"
             ],
             [
              1,
              "#f0f921"
             ]
            ],
            "type": "surface"
           }
          ],
          "table": [
           {
            "cells": {
             "fill": {
              "color": "#EBF0F8"
             },
             "line": {
              "color": "white"
             }
            },
            "header": {
             "fill": {
              "color": "#C8D4E3"
             },
             "line": {
              "color": "white"
             }
            },
            "type": "table"
           }
          ]
         },
         "layout": {
          "annotationdefaults": {
           "arrowcolor": "#2a3f5f",
           "arrowhead": 0,
           "arrowwidth": 1
          },
          "autotypenumbers": "strict",
          "coloraxis": {
           "colorbar": {
            "outlinewidth": 0,
            "ticks": ""
           }
          },
          "colorscale": {
           "diverging": [
            [
             0,
             "#8e0152"
            ],
            [
             0.1,
             "#c51b7d"
            ],
            [
             0.2,
             "#de77ae"
            ],
            [
             0.3,
             "#f1b6da"
            ],
            [
             0.4,
             "#fde0ef"
            ],
            [
             0.5,
             "#f7f7f7"
            ],
            [
             0.6,
             "#e6f5d0"
            ],
            [
             0.7,
             "#b8e186"
            ],
            [
             0.8,
             "#7fbc41"
            ],
            [
             0.9,
             "#4d9221"
            ],
            [
             1,
             "#276419"
            ]
           ],
           "sequential": [
            [
             0,
             "#0d0887"
            ],
            [
             0.1111111111111111,
             "#46039f"
            ],
            [
             0.2222222222222222,
             "#7201a8"
            ],
            [
             0.3333333333333333,
             "#9c179e"
            ],
            [
             0.4444444444444444,
             "#bd3786"
            ],
            [
             0.5555555555555556,
             "#d8576b"
            ],
            [
             0.6666666666666666,
             "#ed7953"
            ],
            [
             0.7777777777777778,
             "#fb9f3a"
            ],
            [
             0.8888888888888888,
             "#fdca26"
            ],
            [
             1,
             "#f0f921"
            ]
           ],
           "sequentialminus": [
            [
             0,
             "#0d0887"
            ],
            [
             0.1111111111111111,
             "#46039f"
            ],
            [
             0.2222222222222222,
             "#7201a8"
            ],
            [
             0.3333333333333333,
             "#9c179e"
            ],
            [
             0.4444444444444444,
             "#bd3786"
            ],
            [
             0.5555555555555556,
             "#d8576b"
            ],
            [
             0.6666666666666666,
             "#ed7953"
            ],
            [
             0.7777777777777778,
             "#fb9f3a"
            ],
            [
             0.8888888888888888,
             "#fdca26"
            ],
            [
             1,
             "#f0f921"
            ]
           ]
          },
          "colorway": [
           "#636efa",
           "#EF553B",
           "#00cc96",
           "#ab63fa",
           "#FFA15A",
           "#19d3f3",
           "#FF6692",
           "#B6E880",
           "#FF97FF",
           "#FECB52"
          ],
          "font": {
           "color": "#2a3f5f"
          },
          "geo": {
           "bgcolor": "white",
           "lakecolor": "white",
           "landcolor": "#E5ECF6",
           "showlakes": true,
           "showland": true,
           "subunitcolor": "white"
          },
          "hoverlabel": {
           "align": "left"
          },
          "hovermode": "closest",
          "mapbox": {
           "style": "light"
          },
          "paper_bgcolor": "white",
          "plot_bgcolor": "#E5ECF6",
          "polar": {
           "angularaxis": {
            "gridcolor": "white",
            "linecolor": "white",
            "ticks": ""
           },
           "bgcolor": "#E5ECF6",
           "radialaxis": {
            "gridcolor": "white",
            "linecolor": "white",
            "ticks": ""
           }
          },
          "scene": {
           "xaxis": {
            "backgroundcolor": "#E5ECF6",
            "gridcolor": "white",
            "gridwidth": 2,
            "linecolor": "white",
            "showbackground": true,
            "ticks": "",
            "zerolinecolor": "white"
           },
           "yaxis": {
            "backgroundcolor": "#E5ECF6",
            "gridcolor": "white",
            "gridwidth": 2,
            "linecolor": "white",
            "showbackground": true,
            "ticks": "",
            "zerolinecolor": "white"
           },
           "zaxis": {
            "backgroundcolor": "#E5ECF6",
            "gridcolor": "white",
            "gridwidth": 2,
            "linecolor": "white",
            "showbackground": true,
            "ticks": "",
            "zerolinecolor": "white"
           }
          },
          "shapedefaults": {
           "line": {
            "color": "#2a3f5f"
           }
          },
          "ternary": {
           "aaxis": {
            "gridcolor": "white",
            "linecolor": "white",
            "ticks": ""
           },
           "baxis": {
            "gridcolor": "white",
            "linecolor": "white",
            "ticks": ""
           },
           "bgcolor": "#E5ECF6",
           "caxis": {
            "gridcolor": "white",
            "linecolor": "white",
            "ticks": ""
           }
          },
          "title": {
           "x": 0.05
          },
          "xaxis": {
           "automargin": true,
           "gridcolor": "white",
           "linecolor": "white",
           "ticks": "",
           "title": {
            "standoff": 15
           },
           "zerolinecolor": "white",
           "zerolinewidth": 2
          },
          "yaxis": {
           "automargin": true,
           "gridcolor": "white",
           "linecolor": "white",
           "ticks": "",
           "title": {
            "standoff": 15
           },
           "zerolinecolor": "white",
           "zerolinewidth": 2
          }
         }
        },
        "title": {
         "text": "S1 injections scaled counts only ipsilateral, p7(n=1) and p6 (n=2?)"
        },
        "xaxis": {
         "anchor": "y",
         "categoryarray": [
          "Visual areas",
          "Retrosplenial area",
          "Auditory areas",
          "Thalamus",
          "Main olfactory bulb",
          "Piriform area"
         ],
         "categoryorder": "array",
         "domain": [
          0,
          1
         ],
         "tickfont": {
          "size": 18
         },
         "title": {
          "font": {
           "size": 24
          },
          "text": "General area"
         }
        },
        "yaxis": {
         "anchor": "x",
         "domain": [
          0,
          1
         ],
         "tickfont": {
          "size": 18
         },
         "title": {
          "font": {
           "size": 24
          },
          "text": "Scaled count"
         }
        }
       }
      }
     },
     "metadata": {},
     "output_type": "display_data"
    }
   ],
   "source": [
    "plot_scaled_zoomed(\n",
    "    df_grouped,\n",
    "    \"S1 injections scaled counts only ipsilateral, p7(n=1) and p6 (n=2?)\",\n",
    ")"
   ]
  },
  {
   "cell_type": "code",
   "execution_count": 110,
   "id": "870980f7",
   "metadata": {},
   "outputs": [
    {
     "data": {
      "application/vnd.plotly.v1+json": {
       "config": {
        "plotlyServerURL": "https://plotly.com"
       },
       "data": [
        {
         "alignmentgroup": "True",
         "hovertemplate": "General area=%{x}<br>Count=%{y}<extra></extra>",
         "legendgroup": "",
         "marker": {
          "color": "#636efa"
         },
         "name": "",
         "notched": false,
         "offsetgroup": "",
         "orientation": "v",
         "showlegend": false,
         "type": "box",
         "x": [
          "Auditory areas",
          "Main olfactory bulb",
          "Piriform area",
          "Retrosplenial area",
          "Thalamus",
          "Visual areas",
          "Auditory areas",
          "Main olfactory bulb",
          "Piriform area",
          "Retrosplenial area",
          "Thalamus",
          "Visual areas",
          "Auditory areas",
          "Main olfactory bulb",
          "Piriform area",
          "Retrosplenial area",
          "Thalamus",
          "Visual areas"
         ],
         "x0": " ",
         "xaxis": "x",
         "y": {
          "bdata": "XgH8AG4AwgIRAaIE+QGKAHoAjguoAhcNCgLOAD0AxQNgAY0H",
          "dtype": "i2"
         },
         "y0": " ",
         "yaxis": "y"
        }
       ],
       "layout": {
        "boxmode": "group",
        "legend": {
         "font": {
          "size": 20
         },
         "tracegroupgap": 0
        },
        "template": {
         "data": {
          "bar": [
           {
            "error_x": {
             "color": "#2a3f5f"
            },
            "error_y": {
             "color": "#2a3f5f"
            },
            "marker": {
             "line": {
              "color": "#E5ECF6",
              "width": 0.5
             },
             "pattern": {
              "fillmode": "overlay",
              "size": 10,
              "solidity": 0.2
             }
            },
            "type": "bar"
           }
          ],
          "barpolar": [
           {
            "marker": {
             "line": {
              "color": "#E5ECF6",
              "width": 0.5
             },
             "pattern": {
              "fillmode": "overlay",
              "size": 10,
              "solidity": 0.2
             }
            },
            "type": "barpolar"
           }
          ],
          "carpet": [
           {
            "aaxis": {
             "endlinecolor": "#2a3f5f",
             "gridcolor": "white",
             "linecolor": "white",
             "minorgridcolor": "white",
             "startlinecolor": "#2a3f5f"
            },
            "baxis": {
             "endlinecolor": "#2a3f5f",
             "gridcolor": "white",
             "linecolor": "white",
             "minorgridcolor": "white",
             "startlinecolor": "#2a3f5f"
            },
            "type": "carpet"
           }
          ],
          "choropleth": [
           {
            "colorbar": {
             "outlinewidth": 0,
             "ticks": ""
            },
            "type": "choropleth"
           }
          ],
          "contour": [
           {
            "colorbar": {
             "outlinewidth": 0,
             "ticks": ""
            },
            "colorscale": [
             [
              0,
              "#0d0887"
             ],
             [
              0.1111111111111111,
              "#46039f"
             ],
             [
              0.2222222222222222,
              "#7201a8"
             ],
             [
              0.3333333333333333,
              "#9c179e"
             ],
             [
              0.4444444444444444,
              "#bd3786"
             ],
             [
              0.5555555555555556,
              "#d8576b"
             ],
             [
              0.6666666666666666,
              "#ed7953"
             ],
             [
              0.7777777777777778,
              "#fb9f3a"
             ],
             [
              0.8888888888888888,
              "#fdca26"
             ],
             [
              1,
              "#f0f921"
             ]
            ],
            "type": "contour"
           }
          ],
          "contourcarpet": [
           {
            "colorbar": {
             "outlinewidth": 0,
             "ticks": ""
            },
            "type": "contourcarpet"
           }
          ],
          "heatmap": [
           {
            "colorbar": {
             "outlinewidth": 0,
             "ticks": ""
            },
            "colorscale": [
             [
              0,
              "#0d0887"
             ],
             [
              0.1111111111111111,
              "#46039f"
             ],
             [
              0.2222222222222222,
              "#7201a8"
             ],
             [
              0.3333333333333333,
              "#9c179e"
             ],
             [
              0.4444444444444444,
              "#bd3786"
             ],
             [
              0.5555555555555556,
              "#d8576b"
             ],
             [
              0.6666666666666666,
              "#ed7953"
             ],
             [
              0.7777777777777778,
              "#fb9f3a"
             ],
             [
              0.8888888888888888,
              "#fdca26"
             ],
             [
              1,
              "#f0f921"
             ]
            ],
            "type": "heatmap"
           }
          ],
          "histogram": [
           {
            "marker": {
             "pattern": {
              "fillmode": "overlay",
              "size": 10,
              "solidity": 0.2
             }
            },
            "type": "histogram"
           }
          ],
          "histogram2d": [
           {
            "colorbar": {
             "outlinewidth": 0,
             "ticks": ""
            },
            "colorscale": [
             [
              0,
              "#0d0887"
             ],
             [
              0.1111111111111111,
              "#46039f"
             ],
             [
              0.2222222222222222,
              "#7201a8"
             ],
             [
              0.3333333333333333,
              "#9c179e"
             ],
             [
              0.4444444444444444,
              "#bd3786"
             ],
             [
              0.5555555555555556,
              "#d8576b"
             ],
             [
              0.6666666666666666,
              "#ed7953"
             ],
             [
              0.7777777777777778,
              "#fb9f3a"
             ],
             [
              0.8888888888888888,
              "#fdca26"
             ],
             [
              1,
              "#f0f921"
             ]
            ],
            "type": "histogram2d"
           }
          ],
          "histogram2dcontour": [
           {
            "colorbar": {
             "outlinewidth": 0,
             "ticks": ""
            },
            "colorscale": [
             [
              0,
              "#0d0887"
             ],
             [
              0.1111111111111111,
              "#46039f"
             ],
             [
              0.2222222222222222,
              "#7201a8"
             ],
             [
              0.3333333333333333,
              "#9c179e"
             ],
             [
              0.4444444444444444,
              "#bd3786"
             ],
             [
              0.5555555555555556,
              "#d8576b"
             ],
             [
              0.6666666666666666,
              "#ed7953"
             ],
             [
              0.7777777777777778,
              "#fb9f3a"
             ],
             [
              0.8888888888888888,
              "#fdca26"
             ],
             [
              1,
              "#f0f921"
             ]
            ],
            "type": "histogram2dcontour"
           }
          ],
          "mesh3d": [
           {
            "colorbar": {
             "outlinewidth": 0,
             "ticks": ""
            },
            "type": "mesh3d"
           }
          ],
          "parcoords": [
           {
            "line": {
             "colorbar": {
              "outlinewidth": 0,
              "ticks": ""
             }
            },
            "type": "parcoords"
           }
          ],
          "pie": [
           {
            "automargin": true,
            "type": "pie"
           }
          ],
          "scatter": [
           {
            "fillpattern": {
             "fillmode": "overlay",
             "size": 10,
             "solidity": 0.2
            },
            "type": "scatter"
           }
          ],
          "scatter3d": [
           {
            "line": {
             "colorbar": {
              "outlinewidth": 0,
              "ticks": ""
             }
            },
            "marker": {
             "colorbar": {
              "outlinewidth": 0,
              "ticks": ""
             }
            },
            "type": "scatter3d"
           }
          ],
          "scattercarpet": [
           {
            "marker": {
             "colorbar": {
              "outlinewidth": 0,
              "ticks": ""
             }
            },
            "type": "scattercarpet"
           }
          ],
          "scattergeo": [
           {
            "marker": {
             "colorbar": {
              "outlinewidth": 0,
              "ticks": ""
             }
            },
            "type": "scattergeo"
           }
          ],
          "scattergl": [
           {
            "marker": {
             "colorbar": {
              "outlinewidth": 0,
              "ticks": ""
             }
            },
            "type": "scattergl"
           }
          ],
          "scattermap": [
           {
            "marker": {
             "colorbar": {
              "outlinewidth": 0,
              "ticks": ""
             }
            },
            "type": "scattermap"
           }
          ],
          "scattermapbox": [
           {
            "marker": {
             "colorbar": {
              "outlinewidth": 0,
              "ticks": ""
             }
            },
            "type": "scattermapbox"
           }
          ],
          "scatterpolar": [
           {
            "marker": {
             "colorbar": {
              "outlinewidth": 0,
              "ticks": ""
             }
            },
            "type": "scatterpolar"
           }
          ],
          "scatterpolargl": [
           {
            "marker": {
             "colorbar": {
              "outlinewidth": 0,
              "ticks": ""
             }
            },
            "type": "scatterpolargl"
           }
          ],
          "scatterternary": [
           {
            "marker": {
             "colorbar": {
              "outlinewidth": 0,
              "ticks": ""
             }
            },
            "type": "scatterternary"
           }
          ],
          "surface": [
           {
            "colorbar": {
             "outlinewidth": 0,
             "ticks": ""
            },
            "colorscale": [
             [
              0,
              "#0d0887"
             ],
             [
              0.1111111111111111,
              "#46039f"
             ],
             [
              0.2222222222222222,
              "#7201a8"
             ],
             [
              0.3333333333333333,
              "#9c179e"
             ],
             [
              0.4444444444444444,
              "#bd3786"
             ],
             [
              0.5555555555555556,
              "#d8576b"
             ],
             [
              0.6666666666666666,
              "#ed7953"
             ],
             [
              0.7777777777777778,
              "#fb9f3a"
             ],
             [
              0.8888888888888888,
              "#fdca26"
             ],
             [
              1,
              "#f0f921"
             ]
            ],
            "type": "surface"
           }
          ],
          "table": [
           {
            "cells": {
             "fill": {
              "color": "#EBF0F8"
             },
             "line": {
              "color": "white"
             }
            },
            "header": {
             "fill": {
              "color": "#C8D4E3"
             },
             "line": {
              "color": "white"
             }
            },
            "type": "table"
           }
          ]
         },
         "layout": {
          "annotationdefaults": {
           "arrowcolor": "#2a3f5f",
           "arrowhead": 0,
           "arrowwidth": 1
          },
          "autotypenumbers": "strict",
          "coloraxis": {
           "colorbar": {
            "outlinewidth": 0,
            "ticks": ""
           }
          },
          "colorscale": {
           "diverging": [
            [
             0,
             "#8e0152"
            ],
            [
             0.1,
             "#c51b7d"
            ],
            [
             0.2,
             "#de77ae"
            ],
            [
             0.3,
             "#f1b6da"
            ],
            [
             0.4,
             "#fde0ef"
            ],
            [
             0.5,
             "#f7f7f7"
            ],
            [
             0.6,
             "#e6f5d0"
            ],
            [
             0.7,
             "#b8e186"
            ],
            [
             0.8,
             "#7fbc41"
            ],
            [
             0.9,
             "#4d9221"
            ],
            [
             1,
             "#276419"
            ]
           ],
           "sequential": [
            [
             0,
             "#0d0887"
            ],
            [
             0.1111111111111111,
             "#46039f"
            ],
            [
             0.2222222222222222,
             "#7201a8"
            ],
            [
             0.3333333333333333,
             "#9c179e"
            ],
            [
             0.4444444444444444,
             "#bd3786"
            ],
            [
             0.5555555555555556,
             "#d8576b"
            ],
            [
             0.6666666666666666,
             "#ed7953"
            ],
            [
             0.7777777777777778,
             "#fb9f3a"
            ],
            [
             0.8888888888888888,
             "#fdca26"
            ],
            [
             1,
             "#f0f921"
            ]
           ],
           "sequentialminus": [
            [
             0,
             "#0d0887"
            ],
            [
             0.1111111111111111,
             "#46039f"
            ],
            [
             0.2222222222222222,
             "#7201a8"
            ],
            [
             0.3333333333333333,
             "#9c179e"
            ],
            [
             0.4444444444444444,
             "#bd3786"
            ],
            [
             0.5555555555555556,
             "#d8576b"
            ],
            [
             0.6666666666666666,
             "#ed7953"
            ],
            [
             0.7777777777777778,
             "#fb9f3a"
            ],
            [
             0.8888888888888888,
             "#fdca26"
            ],
            [
             1,
             "#f0f921"
            ]
           ]
          },
          "colorway": [
           "#636efa",
           "#EF553B",
           "#00cc96",
           "#ab63fa",
           "#FFA15A",
           "#19d3f3",
           "#FF6692",
           "#B6E880",
           "#FF97FF",
           "#FECB52"
          ],
          "font": {
           "color": "#2a3f5f"
          },
          "geo": {
           "bgcolor": "white",
           "lakecolor": "white",
           "landcolor": "#E5ECF6",
           "showlakes": true,
           "showland": true,
           "subunitcolor": "white"
          },
          "hoverlabel": {
           "align": "left"
          },
          "hovermode": "closest",
          "mapbox": {
           "style": "light"
          },
          "paper_bgcolor": "white",
          "plot_bgcolor": "#E5ECF6",
          "polar": {
           "angularaxis": {
            "gridcolor": "white",
            "linecolor": "white",
            "ticks": ""
           },
           "bgcolor": "#E5ECF6",
           "radialaxis": {
            "gridcolor": "white",
            "linecolor": "white",
            "ticks": ""
           }
          },
          "scene": {
           "xaxis": {
            "backgroundcolor": "#E5ECF6",
            "gridcolor": "white",
            "gridwidth": 2,
            "linecolor": "white",
            "showbackground": true,
            "ticks": "",
            "zerolinecolor": "white"
           },
           "yaxis": {
            "backgroundcolor": "#E5ECF6",
            "gridcolor": "white",
            "gridwidth": 2,
            "linecolor": "white",
            "showbackground": true,
            "ticks": "",
            "zerolinecolor": "white"
           },
           "zaxis": {
            "backgroundcolor": "#E5ECF6",
            "gridcolor": "white",
            "gridwidth": 2,
            "linecolor": "white",
            "showbackground": true,
            "ticks": "",
            "zerolinecolor": "white"
           }
          },
          "shapedefaults": {
           "line": {
            "color": "#2a3f5f"
           }
          },
          "ternary": {
           "aaxis": {
            "gridcolor": "white",
            "linecolor": "white",
            "ticks": ""
           },
           "baxis": {
            "gridcolor": "white",
            "linecolor": "white",
            "ticks": ""
           },
           "bgcolor": "#E5ECF6",
           "caxis": {
            "gridcolor": "white",
            "linecolor": "white",
            "ticks": ""
           }
          },
          "title": {
           "x": 0.05
          },
          "xaxis": {
           "automargin": true,
           "gridcolor": "white",
           "linecolor": "white",
           "ticks": "",
           "title": {
            "standoff": 15
           },
           "zerolinecolor": "white",
           "zerolinewidth": 2
          },
          "yaxis": {
           "automargin": true,
           "gridcolor": "white",
           "linecolor": "white",
           "ticks": "",
           "title": {
            "standoff": 15
           },
           "zerolinecolor": "white",
           "zerolinewidth": 2
          }
         }
        },
        "title": {
         "text": "S1 injections count only ipsilateral, p7(n=1) and p6 (n=2?)"
        },
        "xaxis": {
         "anchor": "y",
         "categoryarray": [
          "Visual areas",
          "Retrosplenial area",
          "Thalamus",
          "Auditory areas",
          "Main olfactory bulb",
          "Piriform area"
         ],
         "categoryorder": "array",
         "domain": [
          0,
          1
         ],
         "tickfont": {
          "size": 18
         },
         "title": {
          "font": {
           "size": 24
          },
          "text": "General area"
         }
        },
        "yaxis": {
         "anchor": "x",
         "domain": [
          0,
          1
         ],
         "tickfont": {
          "size": 18
         },
         "title": {
          "font": {
           "size": 24
          },
          "text": "Count"
         }
        }
       }
      }
     },
     "metadata": {},
     "output_type": "display_data"
    }
   ],
   "source": [
    "plot_count_zoomed(\n",
    "    df_grouped,\n",
    "    \"S1 injections count only ipsilateral, p7(n=1) and p6 (n=2?)\",\n",
    ")"
   ]
  },
  {
   "cell_type": "code",
   "execution_count": 92,
   "id": "b5ab04a5",
   "metadata": {},
   "outputs": [],
   "source": [
    "def specific_interests(big_file_long, area_name, data_frame_name):\n",
    "\n",
    "    data_frame_name = pd.DataFrame(\n",
    "        big_file_long[big_file_long[\"General area\"].isin([area_name])]\n",
    "    )\n",
    "\n",
    "    data_frame_name.insert(7, \"Subdivided\", [0] * len(data_frame_name))\n",
    "\n",
    "    for index, row in data_frame_name.iterrows():\n",
    "        region_id = row[\"Region ID\"]\n",
    "        subdivided_region = regions_complete.loc[\n",
    "            regions_complete[\"Region ID\"] == region_id, \"Subdivided\"\n",
    "        ].values[0]\n",
    "        # add the Subdivided values to the Somatosensory_areas DataFrame\n",
    "        data_frame_name.at[index, \"Subdivided\"] = subdivided_region\n",
    "\n",
    "    return data_frame_name"
   ]
  },
  {
   "cell_type": "markdown",
   "id": "fc706ee6",
   "metadata": {},
   "source": [
    "area 29 (granular): ventral RSC\n",
    "area 30 (dysgranular): dorsal RSC and agranular RSC"
   ]
  },
  {
   "cell_type": "code",
   "execution_count": 93,
   "id": "7d7dba23",
   "metadata": {},
   "outputs": [
    {
     "name": "stderr",
     "output_type": "stream",
     "text": [
      "C:\\Users\\sahet\\AppData\\Local\\Temp\\ipykernel_6104\\2296359539.py:15: FutureWarning:\n",
      "\n",
      "Setting an item of incompatible dtype is deprecated and will raise an error in a future version of pandas. Value 'area 30' has dtype incompatible with int64, please explicitly cast to a compatible dtype first.\n",
      "\n",
      "C:\\Users\\sahet\\AppData\\Local\\Temp\\ipykernel_6104\\2296359539.py:15: FutureWarning:\n",
      "\n",
      "Setting an item of incompatible dtype is deprecated and will raise an error in a future version of pandas. Value 'Anteromedial visual area' has dtype incompatible with int64, please explicitly cast to a compatible dtype first.\n",
      "\n"
     ]
    }
   ],
   "source": [
    "Retrosplenial_areas = specific_interests(\n",
    "    big_file_S1_injections_long, \"Retrosplenial area\", \"Retrosplenial_areas\"\n",
    ")\n",
    "Visual_areas = specific_interests(\n",
    "    big_file_S1_injections_long, \"Visual areas\", \"Visual_areas\"\n",
    ")"
   ]
  },
  {
   "cell_type": "code",
   "execution_count": 94,
   "id": "eb8325f3",
   "metadata": {},
   "outputs": [
    {
     "name": "stderr",
     "output_type": "stream",
     "text": [
      "C:\\Users\\sahet\\AppData\\Local\\Temp\\ipykernel_6104\\844754293.py:17: FutureWarning:\n",
      "\n",
      "Setting an item of incompatible dtype is deprecated and will raise an error in a future version of pandas. Value '0.023129685755303876' has dtype incompatible with int64, please explicitly cast to a compatible dtype first.\n",
      "\n"
     ]
    },
    {
     "data": {
      "text/html": [
       "<div>\n",
       "<style scoped>\n",
       "    .dataframe tbody tr th:only-of-type {\n",
       "        vertical-align: middle;\n",
       "    }\n",
       "\n",
       "    .dataframe tbody tr th {\n",
       "        vertical-align: top;\n",
       "    }\n",
       "\n",
       "    .dataframe thead th {\n",
       "        text-align: right;\n",
       "    }\n",
       "</style>\n",
       "<table border=\"1\" class=\"dataframe\">\n",
       "  <thead>\n",
       "    <tr style=\"text-align: right;\">\n",
       "      <th></th>\n",
       "      <th>Brain</th>\n",
       "      <th>Subdivided</th>\n",
       "      <th>Hemisphere</th>\n",
       "      <th>age</th>\n",
       "      <th>count</th>\n",
       "      <th>scaled count</th>\n",
       "    </tr>\n",
       "  </thead>\n",
       "  <tbody>\n",
       "    <tr>\n",
       "      <th>0</th>\n",
       "      <td>WT_n1_P6</td>\n",
       "      <td>area 29</td>\n",
       "      <td>ipsilateral</td>\n",
       "      <td>p6</td>\n",
       "      <td>145</td>\n",
       "      <td>0.023130</td>\n",
       "    </tr>\n",
       "    <tr>\n",
       "      <th>1</th>\n",
       "      <td>WT_n1_P6</td>\n",
       "      <td>area 30</td>\n",
       "      <td>ipsilateral</td>\n",
       "      <td>p6</td>\n",
       "      <td>561</td>\n",
       "      <td>0.089488</td>\n",
       "    </tr>\n",
       "    <tr>\n",
       "      <th>2</th>\n",
       "      <td>WT_n2_P6</td>\n",
       "      <td>area 29</td>\n",
       "      <td>ipsilateral</td>\n",
       "      <td>p6</td>\n",
       "      <td>915</td>\n",
       "      <td>0.069890</td>\n",
       "    </tr>\n",
       "    <tr>\n",
       "      <th>3</th>\n",
       "      <td>WT_n2_P6</td>\n",
       "      <td>area 30</td>\n",
       "      <td>ipsilateral</td>\n",
       "      <td>p6</td>\n",
       "      <td>2043</td>\n",
       "      <td>0.156049</td>\n",
       "    </tr>\n",
       "    <tr>\n",
       "      <th>4</th>\n",
       "      <td>WT_n2_P7</td>\n",
       "      <td>area 29</td>\n",
       "      <td>ipsilateral</td>\n",
       "      <td>p7</td>\n",
       "      <td>382</td>\n",
       "      <td>0.055742</td>\n",
       "    </tr>\n",
       "    <tr>\n",
       "      <th>5</th>\n",
       "      <td>WT_n2_P7</td>\n",
       "      <td>area 30</td>\n",
       "      <td>ipsilateral</td>\n",
       "      <td>p7</td>\n",
       "      <td>583</td>\n",
       "      <td>0.085072</td>\n",
       "    </tr>\n",
       "  </tbody>\n",
       "</table>\n",
       "</div>"
      ],
      "text/plain": [
       "      Brain Subdivided   Hemisphere age  count  scaled count\n",
       "0  WT_n1_P6    area 29  ipsilateral  p6    145      0.023130\n",
       "1  WT_n1_P6    area 30  ipsilateral  p6    561      0.089488\n",
       "2  WT_n2_P6    area 29  ipsilateral  p6    915      0.069890\n",
       "3  WT_n2_P6    area 30  ipsilateral  p6   2043      0.156049\n",
       "4  WT_n2_P7    area 29  ipsilateral  p7    382      0.055742\n",
       "5  WT_n2_P7    area 30  ipsilateral  p7    583      0.085072"
      ]
     },
     "execution_count": 94,
     "metadata": {},
     "output_type": "execute_result"
    }
   ],
   "source": [
    "subdivided_rsc_filtered = Retrosplenial_areas[\n",
    "    [\"Brain\", \"age\", \"count\", \"Hemisphere\", \"Subdivided\"]\n",
    "]\n",
    "\n",
    "subdivided_rsc_grouped = subdivided_rsc_filtered.groupby(\n",
    "    [\"Brain\", \"Subdivided\", \"Hemisphere\", \"age\"], as_index=False\n",
    ")[\"count\"].sum()\n",
    "\n",
    "# add scaled column with 0\n",
    "subdivided_rsc_grouped[\"scaled count\"] = 0\n",
    "# scale the counts\n",
    "for index, row in subdivided_rsc_grouped.iterrows():\n",
    "    brain_name = row[\"Brain\"]\n",
    "    count = row[\"count\"]\n",
    "    total_count = totals.loc[totals[\"Brain\"] == brain_name, \"total\"].values[0]\n",
    "    scaled_count = 1 / total_count * count\n",
    "    subdivided_rsc_grouped.loc[index, \"scaled count\"] = scaled_count\n",
    "subdivided_rsc_grouped"
   ]
  },
  {
   "cell_type": "code",
   "execution_count": 95,
   "id": "a3a2d0e5",
   "metadata": {},
   "outputs": [
    {
     "name": "stderr",
     "output_type": "stream",
     "text": [
      "C:\\Users\\sahet\\AppData\\Local\\Temp\\ipykernel_6104\\3134058521.py:17: FutureWarning:\n",
      "\n",
      "Setting an item of incompatible dtype is deprecated and will raise an error in a future version of pandas. Value '0.01260169085978625' has dtype incompatible with int64, please explicitly cast to a compatible dtype first.\n",
      "\n"
     ]
    },
    {
     "data": {
      "text/html": [
       "<div>\n",
       "<style scoped>\n",
       "    .dataframe tbody tr th:only-of-type {\n",
       "        vertical-align: middle;\n",
       "    }\n",
       "\n",
       "    .dataframe tbody tr th {\n",
       "        vertical-align: top;\n",
       "    }\n",
       "\n",
       "    .dataframe thead th {\n",
       "        text-align: right;\n",
       "    }\n",
       "</style>\n",
       "<table border=\"1\" class=\"dataframe\">\n",
       "  <thead>\n",
       "    <tr style=\"text-align: right;\">\n",
       "      <th></th>\n",
       "      <th>Brain</th>\n",
       "      <th>Subdivided</th>\n",
       "      <th>Hemisphere</th>\n",
       "      <th>age</th>\n",
       "      <th>count</th>\n",
       "      <th>scaled count</th>\n",
       "    </tr>\n",
       "  </thead>\n",
       "  <tbody>\n",
       "    <tr>\n",
       "      <th>0</th>\n",
       "      <td>WT_n1_P6</td>\n",
       "      <td>Anterolateral visual area</td>\n",
       "      <td>ipsilateral</td>\n",
       "      <td>p6</td>\n",
       "      <td>79</td>\n",
       "      <td>0.012602</td>\n",
       "    </tr>\n",
       "    <tr>\n",
       "      <th>1</th>\n",
       "      <td>WT_n1_P6</td>\n",
       "      <td>Anteromedial visual area</td>\n",
       "      <td>ipsilateral</td>\n",
       "      <td>p6</td>\n",
       "      <td>175</td>\n",
       "      <td>0.027915</td>\n",
       "    </tr>\n",
       "    <tr>\n",
       "      <th>2</th>\n",
       "      <td>WT_n1_P6</td>\n",
       "      <td>Lateral visual area</td>\n",
       "      <td>ipsilateral</td>\n",
       "      <td>p6</td>\n",
       "      <td>38</td>\n",
       "      <td>0.006062</td>\n",
       "    </tr>\n",
       "    <tr>\n",
       "      <th>3</th>\n",
       "      <td>WT_n1_P6</td>\n",
       "      <td>Laterointermediate area</td>\n",
       "      <td>contralateral</td>\n",
       "      <td>p6</td>\n",
       "      <td>1</td>\n",
       "      <td>0.000160</td>\n",
       "    </tr>\n",
       "    <tr>\n",
       "      <th>4</th>\n",
       "      <td>WT_n1_P6</td>\n",
       "      <td>Laterointermediate area</td>\n",
       "      <td>ipsilateral</td>\n",
       "      <td>p6</td>\n",
       "      <td>23</td>\n",
       "      <td>0.003669</td>\n",
       "    </tr>\n",
       "    <tr>\n",
       "      <th>5</th>\n",
       "      <td>WT_n1_P6</td>\n",
       "      <td>Postrhinal area</td>\n",
       "      <td>ipsilateral</td>\n",
       "      <td>p6</td>\n",
       "      <td>17</td>\n",
       "      <td>0.002712</td>\n",
       "    </tr>\n",
       "    <tr>\n",
       "      <th>6</th>\n",
       "      <td>WT_n1_P6</td>\n",
       "      <td>Primary visual area</td>\n",
       "      <td>ipsilateral</td>\n",
       "      <td>p6</td>\n",
       "      <td>664</td>\n",
       "      <td>0.105918</td>\n",
       "    </tr>\n",
       "    <tr>\n",
       "      <th>7</th>\n",
       "      <td>WT_n1_P6</td>\n",
       "      <td>posteromedial visual area</td>\n",
       "      <td>ipsilateral</td>\n",
       "      <td>p6</td>\n",
       "      <td>190</td>\n",
       "      <td>0.030308</td>\n",
       "    </tr>\n",
       "    <tr>\n",
       "      <th>8</th>\n",
       "      <td>WT_n2_P6</td>\n",
       "      <td>Anterolateral visual area</td>\n",
       "      <td>ipsilateral</td>\n",
       "      <td>p6</td>\n",
       "      <td>259</td>\n",
       "      <td>0.019783</td>\n",
       "    </tr>\n",
       "    <tr>\n",
       "      <th>9</th>\n",
       "      <td>WT_n2_P6</td>\n",
       "      <td>Anteromedial visual area</td>\n",
       "      <td>ipsilateral</td>\n",
       "      <td>p6</td>\n",
       "      <td>480</td>\n",
       "      <td>0.036664</td>\n",
       "    </tr>\n",
       "    <tr>\n",
       "      <th>10</th>\n",
       "      <td>WT_n2_P6</td>\n",
       "      <td>Lateral visual area</td>\n",
       "      <td>ipsilateral</td>\n",
       "      <td>p6</td>\n",
       "      <td>53</td>\n",
       "      <td>0.004048</td>\n",
       "    </tr>\n",
       "    <tr>\n",
       "      <th>11</th>\n",
       "      <td>WT_n2_P6</td>\n",
       "      <td>Laterointermediate area</td>\n",
       "      <td>ipsilateral</td>\n",
       "      <td>p6</td>\n",
       "      <td>16</td>\n",
       "      <td>0.001222</td>\n",
       "    </tr>\n",
       "    <tr>\n",
       "      <th>12</th>\n",
       "      <td>WT_n2_P6</td>\n",
       "      <td>Posterolateral visual area</td>\n",
       "      <td>ipsilateral</td>\n",
       "      <td>p6</td>\n",
       "      <td>4</td>\n",
       "      <td>0.000306</td>\n",
       "    </tr>\n",
       "    <tr>\n",
       "      <th>13</th>\n",
       "      <td>WT_n2_P6</td>\n",
       "      <td>Postrhinal area</td>\n",
       "      <td>ipsilateral</td>\n",
       "      <td>p6</td>\n",
       "      <td>33</td>\n",
       "      <td>0.002521</td>\n",
       "    </tr>\n",
       "    <tr>\n",
       "      <th>14</th>\n",
       "      <td>WT_n2_P6</td>\n",
       "      <td>Primary visual area</td>\n",
       "      <td>ipsilateral</td>\n",
       "      <td>p6</td>\n",
       "      <td>1867</td>\n",
       "      <td>0.142606</td>\n",
       "    </tr>\n",
       "    <tr>\n",
       "      <th>15</th>\n",
       "      <td>WT_n2_P6</td>\n",
       "      <td>posteromedial visual area</td>\n",
       "      <td>ipsilateral</td>\n",
       "      <td>p6</td>\n",
       "      <td>639</td>\n",
       "      <td>0.048808</td>\n",
       "    </tr>\n",
       "    <tr>\n",
       "      <th>16</th>\n",
       "      <td>WT_n2_P7</td>\n",
       "      <td>Anterolateral visual area</td>\n",
       "      <td>ipsilateral</td>\n",
       "      <td>p7</td>\n",
       "      <td>193</td>\n",
       "      <td>0.028163</td>\n",
       "    </tr>\n",
       "    <tr>\n",
       "      <th>17</th>\n",
       "      <td>WT_n2_P7</td>\n",
       "      <td>Anteromedial visual area</td>\n",
       "      <td>ipsilateral</td>\n",
       "      <td>p7</td>\n",
       "      <td>96</td>\n",
       "      <td>0.014008</td>\n",
       "    </tr>\n",
       "    <tr>\n",
       "      <th>18</th>\n",
       "      <td>WT_n2_P7</td>\n",
       "      <td>Lateral visual area</td>\n",
       "      <td>ipsilateral</td>\n",
       "      <td>p7</td>\n",
       "      <td>163</td>\n",
       "      <td>0.023785</td>\n",
       "    </tr>\n",
       "    <tr>\n",
       "      <th>19</th>\n",
       "      <td>WT_n2_P7</td>\n",
       "      <td>Laterointermediate area</td>\n",
       "      <td>ipsilateral</td>\n",
       "      <td>p7</td>\n",
       "      <td>41</td>\n",
       "      <td>0.005983</td>\n",
       "    </tr>\n",
       "    <tr>\n",
       "      <th>20</th>\n",
       "      <td>WT_n2_P7</td>\n",
       "      <td>Postrhinal area</td>\n",
       "      <td>ipsilateral</td>\n",
       "      <td>p7</td>\n",
       "      <td>8</td>\n",
       "      <td>0.001167</td>\n",
       "    </tr>\n",
       "    <tr>\n",
       "      <th>21</th>\n",
       "      <td>WT_n2_P7</td>\n",
       "      <td>Primary visual area</td>\n",
       "      <td>ipsilateral</td>\n",
       "      <td>p7</td>\n",
       "      <td>1259</td>\n",
       "      <td>0.183715</td>\n",
       "    </tr>\n",
       "    <tr>\n",
       "      <th>22</th>\n",
       "      <td>WT_n2_P7</td>\n",
       "      <td>posteromedial visual area</td>\n",
       "      <td>ipsilateral</td>\n",
       "      <td>p7</td>\n",
       "      <td>173</td>\n",
       "      <td>0.025244</td>\n",
       "    </tr>\n",
       "  </tbody>\n",
       "</table>\n",
       "</div>"
      ],
      "text/plain": [
       "       Brain                  Subdivided     Hemisphere age  count  \\\n",
       "0   WT_n1_P6   Anterolateral visual area    ipsilateral  p6     79   \n",
       "1   WT_n1_P6    Anteromedial visual area    ipsilateral  p6    175   \n",
       "2   WT_n1_P6         Lateral visual area    ipsilateral  p6     38   \n",
       "3   WT_n1_P6     Laterointermediate area  contralateral  p6      1   \n",
       "4   WT_n1_P6     Laterointermediate area    ipsilateral  p6     23   \n",
       "5   WT_n1_P6             Postrhinal area    ipsilateral  p6     17   \n",
       "6   WT_n1_P6         Primary visual area    ipsilateral  p6    664   \n",
       "7   WT_n1_P6   posteromedial visual area    ipsilateral  p6    190   \n",
       "8   WT_n2_P6   Anterolateral visual area    ipsilateral  p6    259   \n",
       "9   WT_n2_P6    Anteromedial visual area    ipsilateral  p6    480   \n",
       "10  WT_n2_P6         Lateral visual area    ipsilateral  p6     53   \n",
       "11  WT_n2_P6     Laterointermediate area    ipsilateral  p6     16   \n",
       "12  WT_n2_P6  Posterolateral visual area    ipsilateral  p6      4   \n",
       "13  WT_n2_P6             Postrhinal area    ipsilateral  p6     33   \n",
       "14  WT_n2_P6         Primary visual area    ipsilateral  p6   1867   \n",
       "15  WT_n2_P6   posteromedial visual area    ipsilateral  p6    639   \n",
       "16  WT_n2_P7   Anterolateral visual area    ipsilateral  p7    193   \n",
       "17  WT_n2_P7    Anteromedial visual area    ipsilateral  p7     96   \n",
       "18  WT_n2_P7         Lateral visual area    ipsilateral  p7    163   \n",
       "19  WT_n2_P7     Laterointermediate area    ipsilateral  p7     41   \n",
       "20  WT_n2_P7             Postrhinal area    ipsilateral  p7      8   \n",
       "21  WT_n2_P7         Primary visual area    ipsilateral  p7   1259   \n",
       "22  WT_n2_P7   posteromedial visual area    ipsilateral  p7    173   \n",
       "\n",
       "    scaled count  \n",
       "0       0.012602  \n",
       "1       0.027915  \n",
       "2       0.006062  \n",
       "3       0.000160  \n",
       "4       0.003669  \n",
       "5       0.002712  \n",
       "6       0.105918  \n",
       "7       0.030308  \n",
       "8       0.019783  \n",
       "9       0.036664  \n",
       "10      0.004048  \n",
       "11      0.001222  \n",
       "12      0.000306  \n",
       "13      0.002521  \n",
       "14      0.142606  \n",
       "15      0.048808  \n",
       "16      0.028163  \n",
       "17      0.014008  \n",
       "18      0.023785  \n",
       "19      0.005983  \n",
       "20      0.001167  \n",
       "21      0.183715  \n",
       "22      0.025244  "
      ]
     },
     "execution_count": 95,
     "metadata": {},
     "output_type": "execute_result"
    }
   ],
   "source": [
    "subdivided_Vis_filtered = Visual_areas[\n",
    "    [\"Brain\", \"age\", \"count\", \"Hemisphere\", \"Subdivided\"]\n",
    "]\n",
    "\n",
    "subdivided_Vis_grouped = subdivided_Vis_filtered.groupby(\n",
    "    [\"Brain\", \"Subdivided\", \"Hemisphere\", \"age\"], as_index=False\n",
    ")[\"count\"].sum()\n",
    "\n",
    "# add scaled column with 0\n",
    "subdivided_Vis_grouped[\"scaled count\"] = 0\n",
    "# scale the counts\n",
    "for index, row in subdivided_Vis_grouped.iterrows():\n",
    "    brain_name = row[\"Brain\"]\n",
    "    count = row[\"count\"]\n",
    "    total_count = totals.loc[totals[\"Brain\"] == brain_name, \"total\"].values[0]\n",
    "    scaled_count = 1 / total_count * count\n",
    "    subdivided_Vis_grouped.loc[index, \"scaled count\"] = scaled_count\n",
    "subdivided_Vis_grouped"
   ]
  },
  {
   "cell_type": "code",
   "execution_count": 111,
   "id": "f608a7a8",
   "metadata": {},
   "outputs": [],
   "source": [
    "def plot_count_zoomed_sub(big_file_long, Title):\n",
    "\n",
    "    df_hemi = big_file_long[big_file_long[\"Hemisphere\"] == \"ipsilateral\"]\n",
    "    area_order_count = (\n",
    "        df_hemi.groupby(\"Subdivided\")[\"count\"]\n",
    "        .max()\n",
    "        .sort_values(ascending=False)\n",
    "        .index.tolist()\n",
    "    )\n",
    "\n",
    "    fig = px.box(\n",
    "        df_hemi,\n",
    "        y=\"count\",\n",
    "        x=\"Subdivided\",\n",
    "        title=Title,\n",
    "        category_orders={\"Subdivided\": area_order_count},\n",
    "        labels={\"count\": \"Count\", \"Subdivided\": \"Subdivided areas\"},\n",
    "    )\n",
    "    fig.update_layout(\n",
    "        legend=dict(font=dict(size=20)),\n",
    "        xaxis_title_font=dict(size=24),  # x-axis label font size\n",
    "        yaxis_title_font=dict(size=24),  # y-axis label font size\n",
    "        xaxis_tickfont=dict(size=18),  # x-axis tick font size\n",
    "        yaxis_tickfont=dict(size=18),  # y-axis tick font size\n",
    "    )\n",
    "\n",
    "    return fig"
   ]
  },
  {
   "cell_type": "code",
   "execution_count": 112,
   "id": "1dfec693",
   "metadata": {},
   "outputs": [
    {
     "data": {
      "application/vnd.plotly.v1+json": {
       "config": {
        "plotlyServerURL": "https://plotly.com"
       },
       "data": [
        {
         "alignmentgroup": "True",
         "hovertemplate": "Subdivided areas=%{x}<br>Count=%{y}<extra></extra>",
         "legendgroup": "",
         "marker": {
          "color": "#636efa"
         },
         "name": "",
         "notched": false,
         "offsetgroup": "",
         "orientation": "v",
         "showlegend": false,
         "type": "box",
         "x": [
          "area 29",
          "area 30",
          "area 29",
          "area 30",
          "area 29",
          "area 30"
         ],
         "x0": " ",
         "xaxis": "x",
         "y": {
          "bdata": "kQAxApMD+wd+AUcC",
          "dtype": "i2"
         },
         "y0": " ",
         "yaxis": "y"
        }
       ],
       "layout": {
        "boxmode": "group",
        "legend": {
         "font": {
          "size": 20
         },
         "tracegroupgap": 0
        },
        "template": {
         "data": {
          "bar": [
           {
            "error_x": {
             "color": "#2a3f5f"
            },
            "error_y": {
             "color": "#2a3f5f"
            },
            "marker": {
             "line": {
              "color": "#E5ECF6",
              "width": 0.5
             },
             "pattern": {
              "fillmode": "overlay",
              "size": 10,
              "solidity": 0.2
             }
            },
            "type": "bar"
           }
          ],
          "barpolar": [
           {
            "marker": {
             "line": {
              "color": "#E5ECF6",
              "width": 0.5
             },
             "pattern": {
              "fillmode": "overlay",
              "size": 10,
              "solidity": 0.2
             }
            },
            "type": "barpolar"
           }
          ],
          "carpet": [
           {
            "aaxis": {
             "endlinecolor": "#2a3f5f",
             "gridcolor": "white",
             "linecolor": "white",
             "minorgridcolor": "white",
             "startlinecolor": "#2a3f5f"
            },
            "baxis": {
             "endlinecolor": "#2a3f5f",
             "gridcolor": "white",
             "linecolor": "white",
             "minorgridcolor": "white",
             "startlinecolor": "#2a3f5f"
            },
            "type": "carpet"
           }
          ],
          "choropleth": [
           {
            "colorbar": {
             "outlinewidth": 0,
             "ticks": ""
            },
            "type": "choropleth"
           }
          ],
          "contour": [
           {
            "colorbar": {
             "outlinewidth": 0,
             "ticks": ""
            },
            "colorscale": [
             [
              0,
              "#0d0887"
             ],
             [
              0.1111111111111111,
              "#46039f"
             ],
             [
              0.2222222222222222,
              "#7201a8"
             ],
             [
              0.3333333333333333,
              "#9c179e"
             ],
             [
              0.4444444444444444,
              "#bd3786"
             ],
             [
              0.5555555555555556,
              "#d8576b"
             ],
             [
              0.6666666666666666,
              "#ed7953"
             ],
             [
              0.7777777777777778,
              "#fb9f3a"
             ],
             [
              0.8888888888888888,
              "#fdca26"
             ],
             [
              1,
              "#f0f921"
             ]
            ],
            "type": "contour"
           }
          ],
          "contourcarpet": [
           {
            "colorbar": {
             "outlinewidth": 0,
             "ticks": ""
            },
            "type": "contourcarpet"
           }
          ],
          "heatmap": [
           {
            "colorbar": {
             "outlinewidth": 0,
             "ticks": ""
            },
            "colorscale": [
             [
              0,
              "#0d0887"
             ],
             [
              0.1111111111111111,
              "#46039f"
             ],
             [
              0.2222222222222222,
              "#7201a8"
             ],
             [
              0.3333333333333333,
              "#9c179e"
             ],
             [
              0.4444444444444444,
              "#bd3786"
             ],
             [
              0.5555555555555556,
              "#d8576b"
             ],
             [
              0.6666666666666666,
              "#ed7953"
             ],
             [
              0.7777777777777778,
              "#fb9f3a"
             ],
             [
              0.8888888888888888,
              "#fdca26"
             ],
             [
              1,
              "#f0f921"
             ]
            ],
            "type": "heatmap"
           }
          ],
          "histogram": [
           {
            "marker": {
             "pattern": {
              "fillmode": "overlay",
              "size": 10,
              "solidity": 0.2
             }
            },
            "type": "histogram"
           }
          ],
          "histogram2d": [
           {
            "colorbar": {
             "outlinewidth": 0,
             "ticks": ""
            },
            "colorscale": [
             [
              0,
              "#0d0887"
             ],
             [
              0.1111111111111111,
              "#46039f"
             ],
             [
              0.2222222222222222,
              "#7201a8"
             ],
             [
              0.3333333333333333,
              "#9c179e"
             ],
             [
              0.4444444444444444,
              "#bd3786"
             ],
             [
              0.5555555555555556,
              "#d8576b"
             ],
             [
              0.6666666666666666,
              "#ed7953"
             ],
             [
              0.7777777777777778,
              "#fb9f3a"
             ],
             [
              0.8888888888888888,
              "#fdca26"
             ],
             [
              1,
              "#f0f921"
             ]
            ],
            "type": "histogram2d"
           }
          ],
          "histogram2dcontour": [
           {
            "colorbar": {
             "outlinewidth": 0,
             "ticks": ""
            },
            "colorscale": [
             [
              0,
              "#0d0887"
             ],
             [
              0.1111111111111111,
              "#46039f"
             ],
             [
              0.2222222222222222,
              "#7201a8"
             ],
             [
              0.3333333333333333,
              "#9c179e"
             ],
             [
              0.4444444444444444,
              "#bd3786"
             ],
             [
              0.5555555555555556,
              "#d8576b"
             ],
             [
              0.6666666666666666,
              "#ed7953"
             ],
             [
              0.7777777777777778,
              "#fb9f3a"
             ],
             [
              0.8888888888888888,
              "#fdca26"
             ],
             [
              1,
              "#f0f921"
             ]
            ],
            "type": "histogram2dcontour"
           }
          ],
          "mesh3d": [
           {
            "colorbar": {
             "outlinewidth": 0,
             "ticks": ""
            },
            "type": "mesh3d"
           }
          ],
          "parcoords": [
           {
            "line": {
             "colorbar": {
              "outlinewidth": 0,
              "ticks": ""
             }
            },
            "type": "parcoords"
           }
          ],
          "pie": [
           {
            "automargin": true,
            "type": "pie"
           }
          ],
          "scatter": [
           {
            "fillpattern": {
             "fillmode": "overlay",
             "size": 10,
             "solidity": 0.2
            },
            "type": "scatter"
           }
          ],
          "scatter3d": [
           {
            "line": {
             "colorbar": {
              "outlinewidth": 0,
              "ticks": ""
             }
            },
            "marker": {
             "colorbar": {
              "outlinewidth": 0,
              "ticks": ""
             }
            },
            "type": "scatter3d"
           }
          ],
          "scattercarpet": [
           {
            "marker": {
             "colorbar": {
              "outlinewidth": 0,
              "ticks": ""
             }
            },
            "type": "scattercarpet"
           }
          ],
          "scattergeo": [
           {
            "marker": {
             "colorbar": {
              "outlinewidth": 0,
              "ticks": ""
             }
            },
            "type": "scattergeo"
           }
          ],
          "scattergl": [
           {
            "marker": {
             "colorbar": {
              "outlinewidth": 0,
              "ticks": ""
             }
            },
            "type": "scattergl"
           }
          ],
          "scattermap": [
           {
            "marker": {
             "colorbar": {
              "outlinewidth": 0,
              "ticks": ""
             }
            },
            "type": "scattermap"
           }
          ],
          "scattermapbox": [
           {
            "marker": {
             "colorbar": {
              "outlinewidth": 0,
              "ticks": ""
             }
            },
            "type": "scattermapbox"
           }
          ],
          "scatterpolar": [
           {
            "marker": {
             "colorbar": {
              "outlinewidth": 0,
              "ticks": ""
             }
            },
            "type": "scatterpolar"
           }
          ],
          "scatterpolargl": [
           {
            "marker": {
             "colorbar": {
              "outlinewidth": 0,
              "ticks": ""
             }
            },
            "type": "scatterpolargl"
           }
          ],
          "scatterternary": [
           {
            "marker": {
             "colorbar": {
              "outlinewidth": 0,
              "ticks": ""
             }
            },
            "type": "scatterternary"
           }
          ],
          "surface": [
           {
            "colorbar": {
             "outlinewidth": 0,
             "ticks": ""
            },
            "colorscale": [
             [
              0,
              "#0d0887"
             ],
             [
              0.1111111111111111,
              "#46039f"
             ],
             [
              0.2222222222222222,
              "#7201a8"
             ],
             [
              0.3333333333333333,
              "#9c179e"
             ],
             [
              0.4444444444444444,
              "#bd3786"
             ],
             [
              0.5555555555555556,
              "#d8576b"
             ],
             [
              0.6666666666666666,
              "#ed7953"
             ],
             [
              0.7777777777777778,
              "#fb9f3a"
             ],
             [
              0.8888888888888888,
              "#fdca26"
             ],
             [
              1,
              "#f0f921"
             ]
            ],
            "type": "surface"
           }
          ],
          "table": [
           {
            "cells": {
             "fill": {
              "color": "#EBF0F8"
             },
             "line": {
              "color": "white"
             }
            },
            "header": {
             "fill": {
              "color": "#C8D4E3"
             },
             "line": {
              "color": "white"
             }
            },
            "type": "table"
           }
          ]
         },
         "layout": {
          "annotationdefaults": {
           "arrowcolor": "#2a3f5f",
           "arrowhead": 0,
           "arrowwidth": 1
          },
          "autotypenumbers": "strict",
          "coloraxis": {
           "colorbar": {
            "outlinewidth": 0,
            "ticks": ""
           }
          },
          "colorscale": {
           "diverging": [
            [
             0,
             "#8e0152"
            ],
            [
             0.1,
             "#c51b7d"
            ],
            [
             0.2,
             "#de77ae"
            ],
            [
             0.3,
             "#f1b6da"
            ],
            [
             0.4,
             "#fde0ef"
            ],
            [
             0.5,
             "#f7f7f7"
            ],
            [
             0.6,
             "#e6f5d0"
            ],
            [
             0.7,
             "#b8e186"
            ],
            [
             0.8,
             "#7fbc41"
            ],
            [
             0.9,
             "#4d9221"
            ],
            [
             1,
             "#276419"
            ]
           ],
           "sequential": [
            [
             0,
             "#0d0887"
            ],
            [
             0.1111111111111111,
             "#46039f"
            ],
            [
             0.2222222222222222,
             "#7201a8"
            ],
            [
             0.3333333333333333,
             "#9c179e"
            ],
            [
             0.4444444444444444,
             "#bd3786"
            ],
            [
             0.5555555555555556,
             "#d8576b"
            ],
            [
             0.6666666666666666,
             "#ed7953"
            ],
            [
             0.7777777777777778,
             "#fb9f3a"
            ],
            [
             0.8888888888888888,
             "#fdca26"
            ],
            [
             1,
             "#f0f921"
            ]
           ],
           "sequentialminus": [
            [
             0,
             "#0d0887"
            ],
            [
             0.1111111111111111,
             "#46039f"
            ],
            [
             0.2222222222222222,
             "#7201a8"
            ],
            [
             0.3333333333333333,
             "#9c179e"
            ],
            [
             0.4444444444444444,
             "#bd3786"
            ],
            [
             0.5555555555555556,
             "#d8576b"
            ],
            [
             0.6666666666666666,
             "#ed7953"
            ],
            [
             0.7777777777777778,
             "#fb9f3a"
            ],
            [
             0.8888888888888888,
             "#fdca26"
            ],
            [
             1,
             "#f0f921"
            ]
           ]
          },
          "colorway": [
           "#636efa",
           "#EF553B",
           "#00cc96",
           "#ab63fa",
           "#FFA15A",
           "#19d3f3",
           "#FF6692",
           "#B6E880",
           "#FF97FF",
           "#FECB52"
          ],
          "font": {
           "color": "#2a3f5f"
          },
          "geo": {
           "bgcolor": "white",
           "lakecolor": "white",
           "landcolor": "#E5ECF6",
           "showlakes": true,
           "showland": true,
           "subunitcolor": "white"
          },
          "hoverlabel": {
           "align": "left"
          },
          "hovermode": "closest",
          "mapbox": {
           "style": "light"
          },
          "paper_bgcolor": "white",
          "plot_bgcolor": "#E5ECF6",
          "polar": {
           "angularaxis": {
            "gridcolor": "white",
            "linecolor": "white",
            "ticks": ""
           },
           "bgcolor": "#E5ECF6",
           "radialaxis": {
            "gridcolor": "white",
            "linecolor": "white",
            "ticks": ""
           }
          },
          "scene": {
           "xaxis": {
            "backgroundcolor": "#E5ECF6",
            "gridcolor": "white",
            "gridwidth": 2,
            "linecolor": "white",
            "showbackground": true,
            "ticks": "",
            "zerolinecolor": "white"
           },
           "yaxis": {
            "backgroundcolor": "#E5ECF6",
            "gridcolor": "white",
            "gridwidth": 2,
            "linecolor": "white",
            "showbackground": true,
            "ticks": "",
            "zerolinecolor": "white"
           },
           "zaxis": {
            "backgroundcolor": "#E5ECF6",
            "gridcolor": "white",
            "gridwidth": 2,
            "linecolor": "white",
            "showbackground": true,
            "ticks": "",
            "zerolinecolor": "white"
           }
          },
          "shapedefaults": {
           "line": {
            "color": "#2a3f5f"
           }
          },
          "ternary": {
           "aaxis": {
            "gridcolor": "white",
            "linecolor": "white",
            "ticks": ""
           },
           "baxis": {
            "gridcolor": "white",
            "linecolor": "white",
            "ticks": ""
           },
           "bgcolor": "#E5ECF6",
           "caxis": {
            "gridcolor": "white",
            "linecolor": "white",
            "ticks": ""
           }
          },
          "title": {
           "x": 0.05
          },
          "xaxis": {
           "automargin": true,
           "gridcolor": "white",
           "linecolor": "white",
           "ticks": "",
           "title": {
            "standoff": 15
           },
           "zerolinecolor": "white",
           "zerolinewidth": 2
          },
          "yaxis": {
           "automargin": true,
           "gridcolor": "white",
           "linecolor": "white",
           "ticks": "",
           "title": {
            "standoff": 15
           },
           "zerolinecolor": "white",
           "zerolinewidth": 2
          }
         }
        },
        "title": {
         "text": "S1 injections counts in Retrosplenial area subdivisions ipsilateral only"
        },
        "xaxis": {
         "anchor": "y",
         "categoryarray": [
          "area 30",
          "area 29"
         ],
         "categoryorder": "array",
         "domain": [
          0,
          1
         ],
         "tickfont": {
          "size": 18
         },
         "title": {
          "font": {
           "size": 24
          },
          "text": "Subdivided areas"
         }
        },
        "yaxis": {
         "anchor": "x",
         "domain": [
          0,
          1
         ],
         "tickfont": {
          "size": 18
         },
         "title": {
          "font": {
           "size": 24
          },
          "text": "Count"
         }
        }
       }
      }
     },
     "metadata": {},
     "output_type": "display_data"
    }
   ],
   "source": [
    "plot_count_zoomed_sub(\n",
    "    subdivided_rsc_grouped,\n",
    "    \"S1 injections counts in Retrosplenial area subdivisions ipsilateral only\",\n",
    ")"
   ]
  },
  {
   "cell_type": "code",
   "execution_count": 113,
   "id": "6f74ad58",
   "metadata": {},
   "outputs": [],
   "source": [
    "def plot_scaled_count_zoomed_sub(big_file_long, Title):\n",
    "\n",
    "    df_hemi = big_file_long[big_file_long[\"Hemisphere\"] == \"ipsilateral\"]\n",
    "    area_order_scaled_count = (\n",
    "        df_hemi.groupby(\"Subdivided\")[\"scaled count\"]\n",
    "        .max()\n",
    "        .sort_values(ascending=False)\n",
    "        .index.tolist()\n",
    "    )\n",
    "\n",
    "    fig = px.box(\n",
    "        df_hemi,\n",
    "        y=\"scaled count\",\n",
    "        x=\"Subdivided\",\n",
    "        title=Title,\n",
    "        category_orders={\"Subdivided\": area_order_scaled_count},\n",
    "        labels={\"count\": \"Count\", \"Subdivided\": \"Subdivided areas\"},\n",
    "    )\n",
    "    fig.update_layout(\n",
    "        legend=dict(font=dict(size=20)),\n",
    "        xaxis_title_font=dict(size=24),  # x-axis label font size\n",
    "        yaxis_title_font=dict(size=24),  # y-axis label font size\n",
    "        xaxis_tickfont=dict(size=18),  # x-axis tick font size\n",
    "        yaxis_tickfont=dict(size=18),  # y-axis tick font size\n",
    "    )\n",
    "\n",
    "    return fig"
   ]
  },
  {
   "cell_type": "code",
   "execution_count": 114,
   "id": "4ea51447",
   "metadata": {},
   "outputs": [
    {
     "data": {
      "application/vnd.plotly.v1+json": {
       "config": {
        "plotlyServerURL": "https://plotly.com"
       },
       "data": [
        {
         "alignmentgroup": "True",
         "hovertemplate": "Subdivided areas=%{x}<br>scaled count=%{y}<extra></extra>",
         "legendgroup": "",
         "marker": {
          "color": "#636efa"
         },
         "name": "",
         "notched": false,
         "offsetgroup": "",
         "orientation": "v",
         "showlegend": false,
         "type": "box",
         "x": [
          "area 29",
          "area 30",
          "area 29",
          "area 30",
          "area 29",
          "area 30"
         ],
         "x0": " ",
         "xaxis": "x",
         "y": {
          "bdata": "zQuL706vlz+zsgjHrui2PwlIr8dP5LE//sKrDG75wz+nc8iCN4qsP6XjijJLx7U/",
          "dtype": "f8"
         },
         "y0": " ",
         "yaxis": "y"
        }
       ],
       "layout": {
        "boxmode": "group",
        "legend": {
         "font": {
          "size": 20
         },
         "tracegroupgap": 0
        },
        "template": {
         "data": {
          "bar": [
           {
            "error_x": {
             "color": "#2a3f5f"
            },
            "error_y": {
             "color": "#2a3f5f"
            },
            "marker": {
             "line": {
              "color": "#E5ECF6",
              "width": 0.5
             },
             "pattern": {
              "fillmode": "overlay",
              "size": 10,
              "solidity": 0.2
             }
            },
            "type": "bar"
           }
          ],
          "barpolar": [
           {
            "marker": {
             "line": {
              "color": "#E5ECF6",
              "width": 0.5
             },
             "pattern": {
              "fillmode": "overlay",
              "size": 10,
              "solidity": 0.2
             }
            },
            "type": "barpolar"
           }
          ],
          "carpet": [
           {
            "aaxis": {
             "endlinecolor": "#2a3f5f",
             "gridcolor": "white",
             "linecolor": "white",
             "minorgridcolor": "white",
             "startlinecolor": "#2a3f5f"
            },
            "baxis": {
             "endlinecolor": "#2a3f5f",
             "gridcolor": "white",
             "linecolor": "white",
             "minorgridcolor": "white",
             "startlinecolor": "#2a3f5f"
            },
            "type": "carpet"
           }
          ],
          "choropleth": [
           {
            "colorbar": {
             "outlinewidth": 0,
             "ticks": ""
            },
            "type": "choropleth"
           }
          ],
          "contour": [
           {
            "colorbar": {
             "outlinewidth": 0,
             "ticks": ""
            },
            "colorscale": [
             [
              0,
              "#0d0887"
             ],
             [
              0.1111111111111111,
              "#46039f"
             ],
             [
              0.2222222222222222,
              "#7201a8"
             ],
             [
              0.3333333333333333,
              "#9c179e"
             ],
             [
              0.4444444444444444,
              "#bd3786"
             ],
             [
              0.5555555555555556,
              "#d8576b"
             ],
             [
              0.6666666666666666,
              "#ed7953"
             ],
             [
              0.7777777777777778,
              "#fb9f3a"
             ],
             [
              0.8888888888888888,
              "#fdca26"
             ],
             [
              1,
              "#f0f921"
             ]
            ],
            "type": "contour"
           }
          ],
          "contourcarpet": [
           {
            "colorbar": {
             "outlinewidth": 0,
             "ticks": ""
            },
            "type": "contourcarpet"
           }
          ],
          "heatmap": [
           {
            "colorbar": {
             "outlinewidth": 0,
             "ticks": ""
            },
            "colorscale": [
             [
              0,
              "#0d0887"
             ],
             [
              0.1111111111111111,
              "#46039f"
             ],
             [
              0.2222222222222222,
              "#7201a8"
             ],
             [
              0.3333333333333333,
              "#9c179e"
             ],
             [
              0.4444444444444444,
              "#bd3786"
             ],
             [
              0.5555555555555556,
              "#d8576b"
             ],
             [
              0.6666666666666666,
              "#ed7953"
             ],
             [
              0.7777777777777778,
              "#fb9f3a"
             ],
             [
              0.8888888888888888,
              "#fdca26"
             ],
             [
              1,
              "#f0f921"
             ]
            ],
            "type": "heatmap"
           }
          ],
          "histogram": [
           {
            "marker": {
             "pattern": {
              "fillmode": "overlay",
              "size": 10,
              "solidity": 0.2
             }
            },
            "type": "histogram"
           }
          ],
          "histogram2d": [
           {
            "colorbar": {
             "outlinewidth": 0,
             "ticks": ""
            },
            "colorscale": [
             [
              0,
              "#0d0887"
             ],
             [
              0.1111111111111111,
              "#46039f"
             ],
             [
              0.2222222222222222,
              "#7201a8"
             ],
             [
              0.3333333333333333,
              "#9c179e"
             ],
             [
              0.4444444444444444,
              "#bd3786"
             ],
             [
              0.5555555555555556,
              "#d8576b"
             ],
             [
              0.6666666666666666,
              "#ed7953"
             ],
             [
              0.7777777777777778,
              "#fb9f3a"
             ],
             [
              0.8888888888888888,
              "#fdca26"
             ],
             [
              1,
              "#f0f921"
             ]
            ],
            "type": "histogram2d"
           }
          ],
          "histogram2dcontour": [
           {
            "colorbar": {
             "outlinewidth": 0,
             "ticks": ""
            },
            "colorscale": [
             [
              0,
              "#0d0887"
             ],
             [
              0.1111111111111111,
              "#46039f"
             ],
             [
              0.2222222222222222,
              "#7201a8"
             ],
             [
              0.3333333333333333,
              "#9c179e"
             ],
             [
              0.4444444444444444,
              "#bd3786"
             ],
             [
              0.5555555555555556,
              "#d8576b"
             ],
             [
              0.6666666666666666,
              "#ed7953"
             ],
             [
              0.7777777777777778,
              "#fb9f3a"
             ],
             [
              0.8888888888888888,
              "#fdca26"
             ],
             [
              1,
              "#f0f921"
             ]
            ],
            "type": "histogram2dcontour"
           }
          ],
          "mesh3d": [
           {
            "colorbar": {
             "outlinewidth": 0,
             "ticks": ""
            },
            "type": "mesh3d"
           }
          ],
          "parcoords": [
           {
            "line": {
             "colorbar": {
              "outlinewidth": 0,
              "ticks": ""
             }
            },
            "type": "parcoords"
           }
          ],
          "pie": [
           {
            "automargin": true,
            "type": "pie"
           }
          ],
          "scatter": [
           {
            "fillpattern": {
             "fillmode": "overlay",
             "size": 10,
             "solidity": 0.2
            },
            "type": "scatter"
           }
          ],
          "scatter3d": [
           {
            "line": {
             "colorbar": {
              "outlinewidth": 0,
              "ticks": ""
             }
            },
            "marker": {
             "colorbar": {
              "outlinewidth": 0,
              "ticks": ""
             }
            },
            "type": "scatter3d"
           }
          ],
          "scattercarpet": [
           {
            "marker": {
             "colorbar": {
              "outlinewidth": 0,
              "ticks": ""
             }
            },
            "type": "scattercarpet"
           }
          ],
          "scattergeo": [
           {
            "marker": {
             "colorbar": {
              "outlinewidth": 0,
              "ticks": ""
             }
            },
            "type": "scattergeo"
           }
          ],
          "scattergl": [
           {
            "marker": {
             "colorbar": {
              "outlinewidth": 0,
              "ticks": ""
             }
            },
            "type": "scattergl"
           }
          ],
          "scattermap": [
           {
            "marker": {
             "colorbar": {
              "outlinewidth": 0,
              "ticks": ""
             }
            },
            "type": "scattermap"
           }
          ],
          "scattermapbox": [
           {
            "marker": {
             "colorbar": {
              "outlinewidth": 0,
              "ticks": ""
             }
            },
            "type": "scattermapbox"
           }
          ],
          "scatterpolar": [
           {
            "marker": {
             "colorbar": {
              "outlinewidth": 0,
              "ticks": ""
             }
            },
            "type": "scatterpolar"
           }
          ],
          "scatterpolargl": [
           {
            "marker": {
             "colorbar": {
              "outlinewidth": 0,
              "ticks": ""
             }
            },
            "type": "scatterpolargl"
           }
          ],
          "scatterternary": [
           {
            "marker": {
             "colorbar": {
              "outlinewidth": 0,
              "ticks": ""
             }
            },
            "type": "scatterternary"
           }
          ],
          "surface": [
           {
            "colorbar": {
             "outlinewidth": 0,
             "ticks": ""
            },
            "colorscale": [
             [
              0,
              "#0d0887"
             ],
             [
              0.1111111111111111,
              "#46039f"
             ],
             [
              0.2222222222222222,
              "#7201a8"
             ],
             [
              0.3333333333333333,
              "#9c179e"
             ],
             [
              0.4444444444444444,
              "#bd3786"
             ],
             [
              0.5555555555555556,
              "#d8576b"
             ],
             [
              0.6666666666666666,
              "#ed7953"
             ],
             [
              0.7777777777777778,
              "#fb9f3a"
             ],
             [
              0.8888888888888888,
              "#fdca26"
             ],
             [
              1,
              "#f0f921"
             ]
            ],
            "type": "surface"
           }
          ],
          "table": [
           {
            "cells": {
             "fill": {
              "color": "#EBF0F8"
             },
             "line": {
              "color": "white"
             }
            },
            "header": {
             "fill": {
              "color": "#C8D4E3"
             },
             "line": {
              "color": "white"
             }
            },
            "type": "table"
           }
          ]
         },
         "layout": {
          "annotationdefaults": {
           "arrowcolor": "#2a3f5f",
           "arrowhead": 0,
           "arrowwidth": 1
          },
          "autotypenumbers": "strict",
          "coloraxis": {
           "colorbar": {
            "outlinewidth": 0,
            "ticks": ""
           }
          },
          "colorscale": {
           "diverging": [
            [
             0,
             "#8e0152"
            ],
            [
             0.1,
             "#c51b7d"
            ],
            [
             0.2,
             "#de77ae"
            ],
            [
             0.3,
             "#f1b6da"
            ],
            [
             0.4,
             "#fde0ef"
            ],
            [
             0.5,
             "#f7f7f7"
            ],
            [
             0.6,
             "#e6f5d0"
            ],
            [
             0.7,
             "#b8e186"
            ],
            [
             0.8,
             "#7fbc41"
            ],
            [
             0.9,
             "#4d9221"
            ],
            [
             1,
             "#276419"
            ]
           ],
           "sequential": [
            [
             0,
             "#0d0887"
            ],
            [
             0.1111111111111111,
             "#46039f"
            ],
            [
             0.2222222222222222,
             "#7201a8"
            ],
            [
             0.3333333333333333,
             "#9c179e"
            ],
            [
             0.4444444444444444,
             "#bd3786"
            ],
            [
             0.5555555555555556,
             "#d8576b"
            ],
            [
             0.6666666666666666,
             "#ed7953"
            ],
            [
             0.7777777777777778,
             "#fb9f3a"
            ],
            [
             0.8888888888888888,
             "#fdca26"
            ],
            [
             1,
             "#f0f921"
            ]
           ],
           "sequentialminus": [
            [
             0,
             "#0d0887"
            ],
            [
             0.1111111111111111,
             "#46039f"
            ],
            [
             0.2222222222222222,
             "#7201a8"
            ],
            [
             0.3333333333333333,
             "#9c179e"
            ],
            [
             0.4444444444444444,
             "#bd3786"
            ],
            [
             0.5555555555555556,
             "#d8576b"
            ],
            [
             0.6666666666666666,
             "#ed7953"
            ],
            [
             0.7777777777777778,
             "#fb9f3a"
            ],
            [
             0.8888888888888888,
             "#fdca26"
            ],
            [
             1,
             "#f0f921"
            ]
           ]
          },
          "colorway": [
           "#636efa",
           "#EF553B",
           "#00cc96",
           "#ab63fa",
           "#FFA15A",
           "#19d3f3",
           "#FF6692",
           "#B6E880",
           "#FF97FF",
           "#FECB52"
          ],
          "font": {
           "color": "#2a3f5f"
          },
          "geo": {
           "bgcolor": "white",
           "lakecolor": "white",
           "landcolor": "#E5ECF6",
           "showlakes": true,
           "showland": true,
           "subunitcolor": "white"
          },
          "hoverlabel": {
           "align": "left"
          },
          "hovermode": "closest",
          "mapbox": {
           "style": "light"
          },
          "paper_bgcolor": "white",
          "plot_bgcolor": "#E5ECF6",
          "polar": {
           "angularaxis": {
            "gridcolor": "white",
            "linecolor": "white",
            "ticks": ""
           },
           "bgcolor": "#E5ECF6",
           "radialaxis": {
            "gridcolor": "white",
            "linecolor": "white",
            "ticks": ""
           }
          },
          "scene": {
           "xaxis": {
            "backgroundcolor": "#E5ECF6",
            "gridcolor": "white",
            "gridwidth": 2,
            "linecolor": "white",
            "showbackground": true,
            "ticks": "",
            "zerolinecolor": "white"
           },
           "yaxis": {
            "backgroundcolor": "#E5ECF6",
            "gridcolor": "white",
            "gridwidth": 2,
            "linecolor": "white",
            "showbackground": true,
            "ticks": "",
            "zerolinecolor": "white"
           },
           "zaxis": {
            "backgroundcolor": "#E5ECF6",
            "gridcolor": "white",
            "gridwidth": 2,
            "linecolor": "white",
            "showbackground": true,
            "ticks": "",
            "zerolinecolor": "white"
           }
          },
          "shapedefaults": {
           "line": {
            "color": "#2a3f5f"
           }
          },
          "ternary": {
           "aaxis": {
            "gridcolor": "white",
            "linecolor": "white",
            "ticks": ""
           },
           "baxis": {
            "gridcolor": "white",
            "linecolor": "white",
            "ticks": ""
           },
           "bgcolor": "#E5ECF6",
           "caxis": {
            "gridcolor": "white",
            "linecolor": "white",
            "ticks": ""
           }
          },
          "title": {
           "x": 0.05
          },
          "xaxis": {
           "automargin": true,
           "gridcolor": "white",
           "linecolor": "white",
           "ticks": "",
           "title": {
            "standoff": 15
           },
           "zerolinecolor": "white",
           "zerolinewidth": 2
          },
          "yaxis": {
           "automargin": true,
           "gridcolor": "white",
           "linecolor": "white",
           "ticks": "",
           "title": {
            "standoff": 15
           },
           "zerolinecolor": "white",
           "zerolinewidth": 2
          }
         }
        },
        "title": {
         "text": "Retrosplenial area scaled counts by hemisphere, both p6 (n=2) and p7 (n=1)"
        },
        "xaxis": {
         "anchor": "y",
         "categoryarray": [
          "area 30",
          "area 29"
         ],
         "categoryorder": "array",
         "domain": [
          0,
          1
         ],
         "tickfont": {
          "size": 18
         },
         "title": {
          "font": {
           "size": 24
          },
          "text": "Subdivided areas"
         }
        },
        "yaxis": {
         "anchor": "x",
         "domain": [
          0,
          1
         ],
         "tickfont": {
          "size": 18
         },
         "title": {
          "font": {
           "size": 24
          },
          "text": "scaled count"
         }
        }
       }
      }
     },
     "metadata": {},
     "output_type": "display_data"
    }
   ],
   "source": [
    "plot_scaled_count_zoomed_sub(\n",
    "    subdivided_rsc_grouped,\n",
    "    \"Retrosplenial area scaled counts by hemisphere, both p6 (n=2) and p7 (n=1)\",\n",
    ")"
   ]
  },
  {
   "cell_type": "code",
   "execution_count": 115,
   "id": "11d388cd",
   "metadata": {},
   "outputs": [
    {
     "data": {
      "application/vnd.plotly.v1+json": {
       "config": {
        "plotlyServerURL": "https://plotly.com"
       },
       "data": [
        {
         "alignmentgroup": "True",
         "hovertemplate": "Subdivided areas=%{x}<br>Count=%{y}<extra></extra>",
         "legendgroup": "",
         "marker": {
          "color": "#636efa"
         },
         "name": "",
         "notched": false,
         "offsetgroup": "",
         "orientation": "v",
         "showlegend": false,
         "type": "box",
         "x": [
          "Anterolateral visual area",
          "Anteromedial visual area",
          "Lateral visual area",
          "Laterointermediate area",
          "Postrhinal area",
          "Primary visual area",
          "posteromedial visual area",
          "Anterolateral visual area",
          "Anteromedial visual area",
          "Lateral visual area",
          "Laterointermediate area",
          "Posterolateral visual area",
          "Postrhinal area",
          "Primary visual area",
          "posteromedial visual area",
          "Anterolateral visual area",
          "Anteromedial visual area",
          "Lateral visual area",
          "Laterointermediate area",
          "Postrhinal area",
          "Primary visual area",
          "posteromedial visual area"
         ],
         "x0": " ",
         "xaxis": "x",
         "y": {
          "bdata": "TwCvACYAFwARAJgCvgADAeABNQAQAAQAIQBLB38CwQBgAKMAKQAIAOsErQA=",
          "dtype": "i2"
         },
         "y0": " ",
         "yaxis": "y"
        }
       ],
       "layout": {
        "boxmode": "group",
        "legend": {
         "font": {
          "size": 20
         },
         "tracegroupgap": 0
        },
        "template": {
         "data": {
          "bar": [
           {
            "error_x": {
             "color": "#2a3f5f"
            },
            "error_y": {
             "color": "#2a3f5f"
            },
            "marker": {
             "line": {
              "color": "#E5ECF6",
              "width": 0.5
             },
             "pattern": {
              "fillmode": "overlay",
              "size": 10,
              "solidity": 0.2
             }
            },
            "type": "bar"
           }
          ],
          "barpolar": [
           {
            "marker": {
             "line": {
              "color": "#E5ECF6",
              "width": 0.5
             },
             "pattern": {
              "fillmode": "overlay",
              "size": 10,
              "solidity": 0.2
             }
            },
            "type": "barpolar"
           }
          ],
          "carpet": [
           {
            "aaxis": {
             "endlinecolor": "#2a3f5f",
             "gridcolor": "white",
             "linecolor": "white",
             "minorgridcolor": "white",
             "startlinecolor": "#2a3f5f"
            },
            "baxis": {
             "endlinecolor": "#2a3f5f",
             "gridcolor": "white",
             "linecolor": "white",
             "minorgridcolor": "white",
             "startlinecolor": "#2a3f5f"
            },
            "type": "carpet"
           }
          ],
          "choropleth": [
           {
            "colorbar": {
             "outlinewidth": 0,
             "ticks": ""
            },
            "type": "choropleth"
           }
          ],
          "contour": [
           {
            "colorbar": {
             "outlinewidth": 0,
             "ticks": ""
            },
            "colorscale": [
             [
              0,
              "#0d0887"
             ],
             [
              0.1111111111111111,
              "#46039f"
             ],
             [
              0.2222222222222222,
              "#7201a8"
             ],
             [
              0.3333333333333333,
              "#9c179e"
             ],
             [
              0.4444444444444444,
              "#bd3786"
             ],
             [
              0.5555555555555556,
              "#d8576b"
             ],
             [
              0.6666666666666666,
              "#ed7953"
             ],
             [
              0.7777777777777778,
              "#fb9f3a"
             ],
             [
              0.8888888888888888,
              "#fdca26"
             ],
             [
              1,
              "#f0f921"
             ]
            ],
            "type": "contour"
           }
          ],
          "contourcarpet": [
           {
            "colorbar": {
             "outlinewidth": 0,
             "ticks": ""
            },
            "type": "contourcarpet"
           }
          ],
          "heatmap": [
           {
            "colorbar": {
             "outlinewidth": 0,
             "ticks": ""
            },
            "colorscale": [
             [
              0,
              "#0d0887"
             ],
             [
              0.1111111111111111,
              "#46039f"
             ],
             [
              0.2222222222222222,
              "#7201a8"
             ],
             [
              0.3333333333333333,
              "#9c179e"
             ],
             [
              0.4444444444444444,
              "#bd3786"
             ],
             [
              0.5555555555555556,
              "#d8576b"
             ],
             [
              0.6666666666666666,
              "#ed7953"
             ],
             [
              0.7777777777777778,
              "#fb9f3a"
             ],
             [
              0.8888888888888888,
              "#fdca26"
             ],
             [
              1,
              "#f0f921"
             ]
            ],
            "type": "heatmap"
           }
          ],
          "histogram": [
           {
            "marker": {
             "pattern": {
              "fillmode": "overlay",
              "size": 10,
              "solidity": 0.2
             }
            },
            "type": "histogram"
           }
          ],
          "histogram2d": [
           {
            "colorbar": {
             "outlinewidth": 0,
             "ticks": ""
            },
            "colorscale": [
             [
              0,
              "#0d0887"
             ],
             [
              0.1111111111111111,
              "#46039f"
             ],
             [
              0.2222222222222222,
              "#7201a8"
             ],
             [
              0.3333333333333333,
              "#9c179e"
             ],
             [
              0.4444444444444444,
              "#bd3786"
             ],
             [
              0.5555555555555556,
              "#d8576b"
             ],
             [
              0.6666666666666666,
              "#ed7953"
             ],
             [
              0.7777777777777778,
              "#fb9f3a"
             ],
             [
              0.8888888888888888,
              "#fdca26"
             ],
             [
              1,
              "#f0f921"
             ]
            ],
            "type": "histogram2d"
           }
          ],
          "histogram2dcontour": [
           {
            "colorbar": {
             "outlinewidth": 0,
             "ticks": ""
            },
            "colorscale": [
             [
              0,
              "#0d0887"
             ],
             [
              0.1111111111111111,
              "#46039f"
             ],
             [
              0.2222222222222222,
              "#7201a8"
             ],
             [
              0.3333333333333333,
              "#9c179e"
             ],
             [
              0.4444444444444444,
              "#bd3786"
             ],
             [
              0.5555555555555556,
              "#d8576b"
             ],
             [
              0.6666666666666666,
              "#ed7953"
             ],
             [
              0.7777777777777778,
              "#fb9f3a"
             ],
             [
              0.8888888888888888,
              "#fdca26"
             ],
             [
              1,
              "#f0f921"
             ]
            ],
            "type": "histogram2dcontour"
           }
          ],
          "mesh3d": [
           {
            "colorbar": {
             "outlinewidth": 0,
             "ticks": ""
            },
            "type": "mesh3d"
           }
          ],
          "parcoords": [
           {
            "line": {
             "colorbar": {
              "outlinewidth": 0,
              "ticks": ""
             }
            },
            "type": "parcoords"
           }
          ],
          "pie": [
           {
            "automargin": true,
            "type": "pie"
           }
          ],
          "scatter": [
           {
            "fillpattern": {
             "fillmode": "overlay",
             "size": 10,
             "solidity": 0.2
            },
            "type": "scatter"
           }
          ],
          "scatter3d": [
           {
            "line": {
             "colorbar": {
              "outlinewidth": 0,
              "ticks": ""
             }
            },
            "marker": {
             "colorbar": {
              "outlinewidth": 0,
              "ticks": ""
             }
            },
            "type": "scatter3d"
           }
          ],
          "scattercarpet": [
           {
            "marker": {
             "colorbar": {
              "outlinewidth": 0,
              "ticks": ""
             }
            },
            "type": "scattercarpet"
           }
          ],
          "scattergeo": [
           {
            "marker": {
             "colorbar": {
              "outlinewidth": 0,
              "ticks": ""
             }
            },
            "type": "scattergeo"
           }
          ],
          "scattergl": [
           {
            "marker": {
             "colorbar": {
              "outlinewidth": 0,
              "ticks": ""
             }
            },
            "type": "scattergl"
           }
          ],
          "scattermap": [
           {
            "marker": {
             "colorbar": {
              "outlinewidth": 0,
              "ticks": ""
             }
            },
            "type": "scattermap"
           }
          ],
          "scattermapbox": [
           {
            "marker": {
             "colorbar": {
              "outlinewidth": 0,
              "ticks": ""
             }
            },
            "type": "scattermapbox"
           }
          ],
          "scatterpolar": [
           {
            "marker": {
             "colorbar": {
              "outlinewidth": 0,
              "ticks": ""
             }
            },
            "type": "scatterpolar"
           }
          ],
          "scatterpolargl": [
           {
            "marker": {
             "colorbar": {
              "outlinewidth": 0,
              "ticks": ""
             }
            },
            "type": "scatterpolargl"
           }
          ],
          "scatterternary": [
           {
            "marker": {
             "colorbar": {
              "outlinewidth": 0,
              "ticks": ""
             }
            },
            "type": "scatterternary"
           }
          ],
          "surface": [
           {
            "colorbar": {
             "outlinewidth": 0,
             "ticks": ""
            },
            "colorscale": [
             [
              0,
              "#0d0887"
             ],
             [
              0.1111111111111111,
              "#46039f"
             ],
             [
              0.2222222222222222,
              "#7201a8"
             ],
             [
              0.3333333333333333,
              "#9c179e"
             ],
             [
              0.4444444444444444,
              "#bd3786"
             ],
             [
              0.5555555555555556,
              "#d8576b"
             ],
             [
              0.6666666666666666,
              "#ed7953"
             ],
             [
              0.7777777777777778,
              "#fb9f3a"
             ],
             [
              0.8888888888888888,
              "#fdca26"
             ],
             [
              1,
              "#f0f921"
             ]
            ],
            "type": "surface"
           }
          ],
          "table": [
           {
            "cells": {
             "fill": {
              "color": "#EBF0F8"
             },
             "line": {
              "color": "white"
             }
            },
            "header": {
             "fill": {
              "color": "#C8D4E3"
             },
             "line": {
              "color": "white"
             }
            },
            "type": "table"
           }
          ]
         },
         "layout": {
          "annotationdefaults": {
           "arrowcolor": "#2a3f5f",
           "arrowhead": 0,
           "arrowwidth": 1
          },
          "autotypenumbers": "strict",
          "coloraxis": {
           "colorbar": {
            "outlinewidth": 0,
            "ticks": ""
           }
          },
          "colorscale": {
           "diverging": [
            [
             0,
             "#8e0152"
            ],
            [
             0.1,
             "#c51b7d"
            ],
            [
             0.2,
             "#de77ae"
            ],
            [
             0.3,
             "#f1b6da"
            ],
            [
             0.4,
             "#fde0ef"
            ],
            [
             0.5,
             "#f7f7f7"
            ],
            [
             0.6,
             "#e6f5d0"
            ],
            [
             0.7,
             "#b8e186"
            ],
            [
             0.8,
             "#7fbc41"
            ],
            [
             0.9,
             "#4d9221"
            ],
            [
             1,
             "#276419"
            ]
           ],
           "sequential": [
            [
             0,
             "#0d0887"
            ],
            [
             0.1111111111111111,
             "#46039f"
            ],
            [
             0.2222222222222222,
             "#7201a8"
            ],
            [
             0.3333333333333333,
             "#9c179e"
            ],
            [
             0.4444444444444444,
             "#bd3786"
            ],
            [
             0.5555555555555556,
             "#d8576b"
            ],
            [
             0.6666666666666666,
             "#ed7953"
            ],
            [
             0.7777777777777778,
             "#fb9f3a"
            ],
            [
             0.8888888888888888,
             "#fdca26"
            ],
            [
             1,
             "#f0f921"
            ]
           ],
           "sequentialminus": [
            [
             0,
             "#0d0887"
            ],
            [
             0.1111111111111111,
             "#46039f"
            ],
            [
             0.2222222222222222,
             "#7201a8"
            ],
            [
             0.3333333333333333,
             "#9c179e"
            ],
            [
             0.4444444444444444,
             "#bd3786"
            ],
            [
             0.5555555555555556,
             "#d8576b"
            ],
            [
             0.6666666666666666,
             "#ed7953"
            ],
            [
             0.7777777777777778,
             "#fb9f3a"
            ],
            [
             0.8888888888888888,
             "#fdca26"
            ],
            [
             1,
             "#f0f921"
            ]
           ]
          },
          "colorway": [
           "#636efa",
           "#EF553B",
           "#00cc96",
           "#ab63fa",
           "#FFA15A",
           "#19d3f3",
           "#FF6692",
           "#B6E880",
           "#FF97FF",
           "#FECB52"
          ],
          "font": {
           "color": "#2a3f5f"
          },
          "geo": {
           "bgcolor": "white",
           "lakecolor": "white",
           "landcolor": "#E5ECF6",
           "showlakes": true,
           "showland": true,
           "subunitcolor": "white"
          },
          "hoverlabel": {
           "align": "left"
          },
          "hovermode": "closest",
          "mapbox": {
           "style": "light"
          },
          "paper_bgcolor": "white",
          "plot_bgcolor": "#E5ECF6",
          "polar": {
           "angularaxis": {
            "gridcolor": "white",
            "linecolor": "white",
            "ticks": ""
           },
           "bgcolor": "#E5ECF6",
           "radialaxis": {
            "gridcolor": "white",
            "linecolor": "white",
            "ticks": ""
           }
          },
          "scene": {
           "xaxis": {
            "backgroundcolor": "#E5ECF6",
            "gridcolor": "white",
            "gridwidth": 2,
            "linecolor": "white",
            "showbackground": true,
            "ticks": "",
            "zerolinecolor": "white"
           },
           "yaxis": {
            "backgroundcolor": "#E5ECF6",
            "gridcolor": "white",
            "gridwidth": 2,
            "linecolor": "white",
            "showbackground": true,
            "ticks": "",
            "zerolinecolor": "white"
           },
           "zaxis": {
            "backgroundcolor": "#E5ECF6",
            "gridcolor": "white",
            "gridwidth": 2,
            "linecolor": "white",
            "showbackground": true,
            "ticks": "",
            "zerolinecolor": "white"
           }
          },
          "shapedefaults": {
           "line": {
            "color": "#2a3f5f"
           }
          },
          "ternary": {
           "aaxis": {
            "gridcolor": "white",
            "linecolor": "white",
            "ticks": ""
           },
           "baxis": {
            "gridcolor": "white",
            "linecolor": "white",
            "ticks": ""
           },
           "bgcolor": "#E5ECF6",
           "caxis": {
            "gridcolor": "white",
            "linecolor": "white",
            "ticks": ""
           }
          },
          "title": {
           "x": 0.05
          },
          "xaxis": {
           "automargin": true,
           "gridcolor": "white",
           "linecolor": "white",
           "ticks": "",
           "title": {
            "standoff": 15
           },
           "zerolinecolor": "white",
           "zerolinewidth": 2
          },
          "yaxis": {
           "automargin": true,
           "gridcolor": "white",
           "linecolor": "white",
           "ticks": "",
           "title": {
            "standoff": 15
           },
           "zerolinecolor": "white",
           "zerolinewidth": 2
          }
         }
        },
        "title": {
         "text": "Visual area counts by hemisphere, both p6 (n=2) and p7 (n=1)"
        },
        "xaxis": {
         "anchor": "y",
         "categoryarray": [
          "Primary visual area",
          "posteromedial visual area",
          "Anteromedial visual area",
          "Anterolateral visual area",
          "Lateral visual area",
          "Laterointermediate area",
          "Postrhinal area",
          "Posterolateral visual area"
         ],
         "categoryorder": "array",
         "domain": [
          0,
          1
         ],
         "tickfont": {
          "size": 18
         },
         "title": {
          "font": {
           "size": 24
          },
          "text": "Subdivided areas"
         }
        },
        "yaxis": {
         "anchor": "x",
         "domain": [
          0,
          1
         ],
         "tickfont": {
          "size": 18
         },
         "title": {
          "font": {
           "size": 24
          },
          "text": "Count"
         }
        }
       }
      }
     },
     "metadata": {},
     "output_type": "display_data"
    }
   ],
   "source": [
    "plot_count_zoomed_sub(\n",
    "    subdivided_Vis_grouped,\n",
    "    \"Visual area counts by hemisphere, both p6 (n=2) and p7 (n=1)\",\n",
    ")"
   ]
  },
  {
   "cell_type": "code",
   "execution_count": 116,
   "id": "0fffd7f6",
   "metadata": {},
   "outputs": [
    {
     "data": {
      "application/vnd.plotly.v1+json": {
       "config": {
        "plotlyServerURL": "https://plotly.com"
       },
       "data": [
        {
         "alignmentgroup": "True",
         "hovertemplate": "Subdivided areas=%{x}<br>scaled count=%{y}<extra></extra>",
         "legendgroup": "",
         "marker": {
          "color": "#636efa"
         },
         "name": "",
         "notched": false,
         "offsetgroup": "",
         "orientation": "v",
         "showlegend": false,
         "type": "box",
         "x": [
          "Anterolateral visual area",
          "Anteromedial visual area",
          "Lateral visual area",
          "Laterointermediate area",
          "Postrhinal area",
          "Primary visual area",
          "posteromedial visual area",
          "Anterolateral visual area",
          "Anteromedial visual area",
          "Lateral visual area",
          "Laterointermediate area",
          "Posterolateral visual area",
          "Postrhinal area",
          "Primary visual area",
          "posteromedial visual area",
          "Anterolateral visual area",
          "Anteromedial visual area",
          "Lateral visual area",
          "Laterointermediate area",
          "Postrhinal area",
          "Primary visual area",
          "posteromedial visual area"
         ],
         "x0": " ",
         "xaxis": "x",
         "y": {
          "bdata": "xcnvUOrOiT8JTMIyyZWcP1MjSxAF1Hg/tUW5EyEObj8iEpQO9zZmP15Sy1FxHbs/J+xdVAYJnz8tcRGZA0KUP+S8iaeSxaI/hREgNuyUcD/RHsbD8QVUP9EexsPxBTQ/yE/kUSGmZD9YvNhF60DCP3bD1Ttr/ag/LbElw7jWnD9qEvcieLCMP00Wr/0lW5g/ELXdnWaBeD+cYU8XUCBTP0PZqHj6g8c/7UmBP6zZmT8=",
          "dtype": "f8"
         },
         "y0": " ",
         "yaxis": "y"
        }
       ],
       "layout": {
        "boxmode": "group",
        "legend": {
         "font": {
          "size": 20
         },
         "tracegroupgap": 0
        },
        "template": {
         "data": {
          "bar": [
           {
            "error_x": {
             "color": "#2a3f5f"
            },
            "error_y": {
             "color": "#2a3f5f"
            },
            "marker": {
             "line": {
              "color": "#E5ECF6",
              "width": 0.5
             },
             "pattern": {
              "fillmode": "overlay",
              "size": 10,
              "solidity": 0.2
             }
            },
            "type": "bar"
           }
          ],
          "barpolar": [
           {
            "marker": {
             "line": {
              "color": "#E5ECF6",
              "width": 0.5
             },
             "pattern": {
              "fillmode": "overlay",
              "size": 10,
              "solidity": 0.2
             }
            },
            "type": "barpolar"
           }
          ],
          "carpet": [
           {
            "aaxis": {
             "endlinecolor": "#2a3f5f",
             "gridcolor": "white",
             "linecolor": "white",
             "minorgridcolor": "white",
             "startlinecolor": "#2a3f5f"
            },
            "baxis": {
             "endlinecolor": "#2a3f5f",
             "gridcolor": "white",
             "linecolor": "white",
             "minorgridcolor": "white",
             "startlinecolor": "#2a3f5f"
            },
            "type": "carpet"
           }
          ],
          "choropleth": [
           {
            "colorbar": {
             "outlinewidth": 0,
             "ticks": ""
            },
            "type": "choropleth"
           }
          ],
          "contour": [
           {
            "colorbar": {
             "outlinewidth": 0,
             "ticks": ""
            },
            "colorscale": [
             [
              0,
              "#0d0887"
             ],
             [
              0.1111111111111111,
              "#46039f"
             ],
             [
              0.2222222222222222,
              "#7201a8"
             ],
             [
              0.3333333333333333,
              "#9c179e"
             ],
             [
              0.4444444444444444,
              "#bd3786"
             ],
             [
              0.5555555555555556,
              "#d8576b"
             ],
             [
              0.6666666666666666,
              "#ed7953"
             ],
             [
              0.7777777777777778,
              "#fb9f3a"
             ],
             [
              0.8888888888888888,
              "#fdca26"
             ],
             [
              1,
              "#f0f921"
             ]
            ],
            "type": "contour"
           }
          ],
          "contourcarpet": [
           {
            "colorbar": {
             "outlinewidth": 0,
             "ticks": ""
            },
            "type": "contourcarpet"
           }
          ],
          "heatmap": [
           {
            "colorbar": {
             "outlinewidth": 0,
             "ticks": ""
            },
            "colorscale": [
             [
              0,
              "#0d0887"
             ],
             [
              0.1111111111111111,
              "#46039f"
             ],
             [
              0.2222222222222222,
              "#7201a8"
             ],
             [
              0.3333333333333333,
              "#9c179e"
             ],
             [
              0.4444444444444444,
              "#bd3786"
             ],
             [
              0.5555555555555556,
              "#d8576b"
             ],
             [
              0.6666666666666666,
              "#ed7953"
             ],
             [
              0.7777777777777778,
              "#fb9f3a"
             ],
             [
              0.8888888888888888,
              "#fdca26"
             ],
             [
              1,
              "#f0f921"
             ]
            ],
            "type": "heatmap"
           }
          ],
          "histogram": [
           {
            "marker": {
             "pattern": {
              "fillmode": "overlay",
              "size": 10,
              "solidity": 0.2
             }
            },
            "type": "histogram"
           }
          ],
          "histogram2d": [
           {
            "colorbar": {
             "outlinewidth": 0,
             "ticks": ""
            },
            "colorscale": [
             [
              0,
              "#0d0887"
             ],
             [
              0.1111111111111111,
              "#46039f"
             ],
             [
              0.2222222222222222,
              "#7201a8"
             ],
             [
              0.3333333333333333,
              "#9c179e"
             ],
             [
              0.4444444444444444,
              "#bd3786"
             ],
             [
              0.5555555555555556,
              "#d8576b"
             ],
             [
              0.6666666666666666,
              "#ed7953"
             ],
             [
              0.7777777777777778,
              "#fb9f3a"
             ],
             [
              0.8888888888888888,
              "#fdca26"
             ],
             [
              1,
              "#f0f921"
             ]
            ],
            "type": "histogram2d"
           }
          ],
          "histogram2dcontour": [
           {
            "colorbar": {
             "outlinewidth": 0,
             "ticks": ""
            },
            "colorscale": [
             [
              0,
              "#0d0887"
             ],
             [
              0.1111111111111111,
              "#46039f"
             ],
             [
              0.2222222222222222,
              "#7201a8"
             ],
             [
              0.3333333333333333,
              "#9c179e"
             ],
             [
              0.4444444444444444,
              "#bd3786"
             ],
             [
              0.5555555555555556,
              "#d8576b"
             ],
             [
              0.6666666666666666,
              "#ed7953"
             ],
             [
              0.7777777777777778,
              "#fb9f3a"
             ],
             [
              0.8888888888888888,
              "#fdca26"
             ],
             [
              1,
              "#f0f921"
             ]
            ],
            "type": "histogram2dcontour"
           }
          ],
          "mesh3d": [
           {
            "colorbar": {
             "outlinewidth": 0,
             "ticks": ""
            },
            "type": "mesh3d"
           }
          ],
          "parcoords": [
           {
            "line": {
             "colorbar": {
              "outlinewidth": 0,
              "ticks": ""
             }
            },
            "type": "parcoords"
           }
          ],
          "pie": [
           {
            "automargin": true,
            "type": "pie"
           }
          ],
          "scatter": [
           {
            "fillpattern": {
             "fillmode": "overlay",
             "size": 10,
             "solidity": 0.2
            },
            "type": "scatter"
           }
          ],
          "scatter3d": [
           {
            "line": {
             "colorbar": {
              "outlinewidth": 0,
              "ticks": ""
             }
            },
            "marker": {
             "colorbar": {
              "outlinewidth": 0,
              "ticks": ""
             }
            },
            "type": "scatter3d"
           }
          ],
          "scattercarpet": [
           {
            "marker": {
             "colorbar": {
              "outlinewidth": 0,
              "ticks": ""
             }
            },
            "type": "scattercarpet"
           }
          ],
          "scattergeo": [
           {
            "marker": {
             "colorbar": {
              "outlinewidth": 0,
              "ticks": ""
             }
            },
            "type": "scattergeo"
           }
          ],
          "scattergl": [
           {
            "marker": {
             "colorbar": {
              "outlinewidth": 0,
              "ticks": ""
             }
            },
            "type": "scattergl"
           }
          ],
          "scattermap": [
           {
            "marker": {
             "colorbar": {
              "outlinewidth": 0,
              "ticks": ""
             }
            },
            "type": "scattermap"
           }
          ],
          "scattermapbox": [
           {
            "marker": {
             "colorbar": {
              "outlinewidth": 0,
              "ticks": ""
             }
            },
            "type": "scattermapbox"
           }
          ],
          "scatterpolar": [
           {
            "marker": {
             "colorbar": {
              "outlinewidth": 0,
              "ticks": ""
             }
            },
            "type": "scatterpolar"
           }
          ],
          "scatterpolargl": [
           {
            "marker": {
             "colorbar": {
              "outlinewidth": 0,
              "ticks": ""
             }
            },
            "type": "scatterpolargl"
           }
          ],
          "scatterternary": [
           {
            "marker": {
             "colorbar": {
              "outlinewidth": 0,
              "ticks": ""
             }
            },
            "type": "scatterternary"
           }
          ],
          "surface": [
           {
            "colorbar": {
             "outlinewidth": 0,
             "ticks": ""
            },
            "colorscale": [
             [
              0,
              "#0d0887"
             ],
             [
              0.1111111111111111,
              "#46039f"
             ],
             [
              0.2222222222222222,
              "#7201a8"
             ],
             [
              0.3333333333333333,
              "#9c179e"
             ],
             [
              0.4444444444444444,
              "#bd3786"
             ],
             [
              0.5555555555555556,
              "#d8576b"
             ],
             [
              0.6666666666666666,
              "#ed7953"
             ],
             [
              0.7777777777777778,
              "#fb9f3a"
             ],
             [
              0.8888888888888888,
              "#fdca26"
             ],
             [
              1,
              "#f0f921"
             ]
            ],
            "type": "surface"
           }
          ],
          "table": [
           {
            "cells": {
             "fill": {
              "color": "#EBF0F8"
             },
             "line": {
              "color": "white"
             }
            },
            "header": {
             "fill": {
              "color": "#C8D4E3"
             },
             "line": {
              "color": "white"
             }
            },
            "type": "table"
           }
          ]
         },
         "layout": {
          "annotationdefaults": {
           "arrowcolor": "#2a3f5f",
           "arrowhead": 0,
           "arrowwidth": 1
          },
          "autotypenumbers": "strict",
          "coloraxis": {
           "colorbar": {
            "outlinewidth": 0,
            "ticks": ""
           }
          },
          "colorscale": {
           "diverging": [
            [
             0,
             "#8e0152"
            ],
            [
             0.1,
             "#c51b7d"
            ],
            [
             0.2,
             "#de77ae"
            ],
            [
             0.3,
             "#f1b6da"
            ],
            [
             0.4,
             "#fde0ef"
            ],
            [
             0.5,
             "#f7f7f7"
            ],
            [
             0.6,
             "#e6f5d0"
            ],
            [
             0.7,
             "#b8e186"
            ],
            [
             0.8,
             "#7fbc41"
            ],
            [
             0.9,
             "#4d9221"
            ],
            [
             1,
             "#276419"
            ]
           ],
           "sequential": [
            [
             0,
             "#0d0887"
            ],
            [
             0.1111111111111111,
             "#46039f"
            ],
            [
             0.2222222222222222,
             "#7201a8"
            ],
            [
             0.3333333333333333,
             "#9c179e"
            ],
            [
             0.4444444444444444,
             "#bd3786"
            ],
            [
             0.5555555555555556,
             "#d8576b"
            ],
            [
             0.6666666666666666,
             "#ed7953"
            ],
            [
             0.7777777777777778,
             "#fb9f3a"
            ],
            [
             0.8888888888888888,
             "#fdca26"
            ],
            [
             1,
             "#f0f921"
            ]
           ],
           "sequentialminus": [
            [
             0,
             "#0d0887"
            ],
            [
             0.1111111111111111,
             "#46039f"
            ],
            [
             0.2222222222222222,
             "#7201a8"
            ],
            [
             0.3333333333333333,
             "#9c179e"
            ],
            [
             0.4444444444444444,
             "#bd3786"
            ],
            [
             0.5555555555555556,
             "#d8576b"
            ],
            [
             0.6666666666666666,
             "#ed7953"
            ],
            [
             0.7777777777777778,
             "#fb9f3a"
            ],
            [
             0.8888888888888888,
             "#fdca26"
            ],
            [
             1,
             "#f0f921"
            ]
           ]
          },
          "colorway": [
           "#636efa",
           "#EF553B",
           "#00cc96",
           "#ab63fa",
           "#FFA15A",
           "#19d3f3",
           "#FF6692",
           "#B6E880",
           "#FF97FF",
           "#FECB52"
          ],
          "font": {
           "color": "#2a3f5f"
          },
          "geo": {
           "bgcolor": "white",
           "lakecolor": "white",
           "landcolor": "#E5ECF6",
           "showlakes": true,
           "showland": true,
           "subunitcolor": "white"
          },
          "hoverlabel": {
           "align": "left"
          },
          "hovermode": "closest",
          "mapbox": {
           "style": "light"
          },
          "paper_bgcolor": "white",
          "plot_bgcolor": "#E5ECF6",
          "polar": {
           "angularaxis": {
            "gridcolor": "white",
            "linecolor": "white",
            "ticks": ""
           },
           "bgcolor": "#E5ECF6",
           "radialaxis": {
            "gridcolor": "white",
            "linecolor": "white",
            "ticks": ""
           }
          },
          "scene": {
           "xaxis": {
            "backgroundcolor": "#E5ECF6",
            "gridcolor": "white",
            "gridwidth": 2,
            "linecolor": "white",
            "showbackground": true,
            "ticks": "",
            "zerolinecolor": "white"
           },
           "yaxis": {
            "backgroundcolor": "#E5ECF6",
            "gridcolor": "white",
            "gridwidth": 2,
            "linecolor": "white",
            "showbackground": true,
            "ticks": "",
            "zerolinecolor": "white"
           },
           "zaxis": {
            "backgroundcolor": "#E5ECF6",
            "gridcolor": "white",
            "gridwidth": 2,
            "linecolor": "white",
            "showbackground": true,
            "ticks": "",
            "zerolinecolor": "white"
           }
          },
          "shapedefaults": {
           "line": {
            "color": "#2a3f5f"
           }
          },
          "ternary": {
           "aaxis": {
            "gridcolor": "white",
            "linecolor": "white",
            "ticks": ""
           },
           "baxis": {
            "gridcolor": "white",
            "linecolor": "white",
            "ticks": ""
           },
           "bgcolor": "#E5ECF6",
           "caxis": {
            "gridcolor": "white",
            "linecolor": "white",
            "ticks": ""
           }
          },
          "title": {
           "x": 0.05
          },
          "xaxis": {
           "automargin": true,
           "gridcolor": "white",
           "linecolor": "white",
           "ticks": "",
           "title": {
            "standoff": 15
           },
           "zerolinecolor": "white",
           "zerolinewidth": 2
          },
          "yaxis": {
           "automargin": true,
           "gridcolor": "white",
           "linecolor": "white",
           "ticks": "",
           "title": {
            "standoff": 15
           },
           "zerolinecolor": "white",
           "zerolinewidth": 2
          }
         }
        },
        "title": {
         "text": "Visual area scaled counts by hemisphere, both p6 (n=2) and p7 (n=1)"
        },
        "xaxis": {
         "anchor": "y",
         "categoryarray": [
          "Primary visual area",
          "posteromedial visual area",
          "Anteromedial visual area",
          "Anterolateral visual area",
          "Lateral visual area",
          "Laterointermediate area",
          "Postrhinal area",
          "Posterolateral visual area"
         ],
         "categoryorder": "array",
         "domain": [
          0,
          1
         ],
         "tickfont": {
          "size": 18
         },
         "title": {
          "font": {
           "size": 24
          },
          "text": "Subdivided areas"
         }
        },
        "yaxis": {
         "anchor": "x",
         "domain": [
          0,
          1
         ],
         "tickfont": {
          "size": 18
         },
         "title": {
          "font": {
           "size": 24
          },
          "text": "scaled count"
         }
        }
       }
      }
     },
     "metadata": {},
     "output_type": "display_data"
    }
   ],
   "source": [
    "plot_scaled_count_zoomed_sub(\n",
    "    subdivided_Vis_grouped,\n",
    "    \"Visual area scaled counts by hemisphere, both p6 (n=2) and p7 (n=1)\",\n",
    ")"
   ]
  }
 ],
 "metadata": {
  "kernelspec": {
   "display_name": "Python 3",
   "language": "python",
   "name": "python3"
  },
  "language_info": {
   "codemirror_mode": {
    "name": "ipython",
    "version": 3
   },
   "file_extension": ".py",
   "mimetype": "text/x-python",
   "name": "python",
   "nbconvert_exporter": "python",
   "pygments_lexer": "ipython3",
   "version": "3.13.7"
  }
 },
 "nbformat": 4,
 "nbformat_minor": 5
}
