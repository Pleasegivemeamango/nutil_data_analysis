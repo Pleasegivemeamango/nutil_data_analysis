{
 "cells": [
  {
   "cell_type": "code",
   "execution_count": 1,
   "id": "264afaac",
   "metadata": {},
   "outputs": [],
   "source": [
    "import pandas as pd\n",
    "import os\n",
    "import plotly.express as px\n",
    "\n",
    "regions_complete = pd.read_csv(\"regions_complete.csv\", sep=\";\")"
   ]
  },
  {
   "cell_type": "code",
   "execution_count": 2,
   "id": "2049afea",
   "metadata": {},
   "outputs": [
    {
     "name": "stdout",
     "output_type": "stream",
     "text": [
      "WT_n1_P6_Objects_All_black\n",
      "WT_n1_P6_Objects_All_white\n",
      "WT_n2_P6_Objects_All_black\n",
      "WT_n2_P6_Objects_All_white\n",
      "WT_n2_P7_Objects_All_black\n",
      "WT_n2_P7_Objects_All_white\n"
     ]
    }
   ],
   "source": [
    "# get the csv files from the size_points folder\n",
    "\n",
    "size_points_path = \"size_points_S1_injection\"\n",
    "min_pixel_size = 1\n",
    "max_pixel_size = 17\n",
    "\n",
    "\n",
    "# loop through the files and save the csv files as seperate dataframes with the name of the file\n",
    "brains = {}\n",
    "for file in os.listdir(size_points_path):\n",
    "    if file.endswith(\".csv\"):\n",
    "        # get the brain name from the file name\n",
    "        brain_name = file.split(\"_\")[0:6]\n",
    "        # join the brain name parts with an underscore\n",
    "        brain_name = \"_\".join(brain_name)\n",
    "        # take away .csv from the end of the brain name\n",
    "        brain_name = brain_name.replace(\".csv\", \"\")\n",
    "\n",
    "        print(brain_name)\n",
    "        brains[brain_name] = pd.read_csv(os.path.join(size_points_path, file), sep=\";\")"
   ]
  },
  {
   "cell_type": "markdown",
   "id": "ddfc525a",
   "metadata": {},
   "source": [
    "ipsilateral = injection site of hemisphere\n",
    "contralateral = opposite side"
   ]
  },
  {
   "cell_type": "code",
   "execution_count": 3,
   "id": "646854f3",
   "metadata": {},
   "outputs": [],
   "source": [
    "# generate one file per brain\n",
    "\n",
    "\n",
    "def end_file_per_brain(white, black, name, age, injection_side, injection_area):\n",
    "    one_brain_file = pd.DataFrame(\n",
    "        columns=[\n",
    "            \"Brain\",\n",
    "            \"Region ID\",\n",
    "            \"General area\",\n",
    "            \"Hemisphere\",\n",
    "            \"count\",\n",
    "            \"scaled count\",\n",
    "            \"age\",\n",
    "        ]\n",
    "    )\n",
    "    total_counts = 0\n",
    "    if injection_side == \"left\":\n",
    "        white_side = \"contralateral\"\n",
    "        black_side = \"ipsilateral\"\n",
    "    else:\n",
    "        white_side = \"ipsilateral\"\n",
    "        black_side = \"contralateral\"\n",
    "\n",
    "    for index, row in white.iterrows():\n",
    "\n",
    "        hemisphere = white_side\n",
    "\n",
    "        if min_pixel_size <= row[\"Object area\"] <= max_pixel_size:\n",
    "            region_id = row[\"Region ID\"]\n",
    "\n",
    "            # check for the according General area in regions_complete\n",
    "            general_region = regions_complete.loc[\n",
    "                regions_complete[\"Region ID\"] == region_id, \"General area\"\n",
    "            ].values[0]\n",
    "            subdivided = regions_complete.loc[\n",
    "                regions_complete[\"Region ID\"] == region_id, \"Subdivided\"\n",
    "            ].values[0]\n",
    "\n",
    "            if subdivided != injection_area:\n",
    "\n",
    "                # if region_id is not in one_brain_file, add it\n",
    "                if region_id not in one_brain_file[\"Region ID\"].values:\n",
    "                    one_brain_file.loc[region_id] = [\n",
    "                        name,\n",
    "                        region_id,\n",
    "                        general_region,\n",
    "                        hemisphere,\n",
    "                        1,\n",
    "                        0,\n",
    "                        age,\n",
    "                    ]\n",
    "                else:\n",
    "                    one_brain_file.loc[region_id, \"count\"] += 1\n",
    "            if subdivided == injection_area and injection_side == \"left\":\n",
    "                if region_id not in one_brain_file[\"Region ID\"].values:\n",
    "                    one_brain_file.loc[region_id] = [\n",
    "                        name,\n",
    "                        region_id,\n",
    "                        general_region,\n",
    "                        hemisphere,\n",
    "                        1,\n",
    "                        0,\n",
    "                        age,\n",
    "                    ]\n",
    "                else:\n",
    "                    one_brain_file.loc[region_id, \"count\"] += 1\n",
    "\n",
    "            # the counts for clear label and fiber tracts are not counted\n",
    "            if (\n",
    "                general_region not in [\"Clear Label\", \"fiber tracts\", \"Parent\"]\n",
    "                and subdivided != \"injection_area\"\n",
    "            ):\n",
    "                total_counts += 1\n",
    "\n",
    "    for index, row in black.iterrows():\n",
    "        hemisphere = black_side\n",
    "\n",
    "        if min_pixel_size <= row[\"Object area\"] <= max_pixel_size:\n",
    "            region_id = row[\"Region ID\"]\n",
    "\n",
    "            # check for the according General area in regions_complete\n",
    "            general_region = regions_complete.loc[\n",
    "                regions_complete[\"Region ID\"] == region_id, \"General area\"\n",
    "            ].values[0]\n",
    "            subdivided = regions_complete.loc[\n",
    "                regions_complete[\"Region ID\"] == region_id, \"Subdivided\"\n",
    "            ].values[0]\n",
    "\n",
    "            if subdivided != injection_area:\n",
    "\n",
    "                # if region_id is not in one_brain_file with \"right\" in the hemisphere, add it\n",
    "                if region_id not in one_brain_file[\"Region ID\"].values:\n",
    "                    one_brain_file.loc[region_id] = [\n",
    "                        name,\n",
    "                        region_id,\n",
    "                        general_region,\n",
    "                        hemisphere,\n",
    "                        1,\n",
    "                        0,\n",
    "                        age,\n",
    "                    ]\n",
    "\n",
    "                else:\n",
    "                    # if region_id is already in one_brain_file check if the hemisphere is opposite or same side\n",
    "                    if one_brain_file.loc[region_id, \"Hemisphere\"] == black_side:\n",
    "                        # if it is, add the count to the existing count\n",
    "                        one_brain_file.loc[region_id, \"count\"] += 1\n",
    "                    else:\n",
    "                        one_brain_file.loc[region_id] = [\n",
    "                            name,\n",
    "                            region_id,\n",
    "                            general_region,\n",
    "                            hemisphere,\n",
    "                            1,\n",
    "                            0,\n",
    "                            age,\n",
    "                        ]\n",
    "\n",
    "                if subdivided == injection_area and injection_side == \"right\":\n",
    "                    if region_id not in one_brain_file[\"Region ID\"].values:\n",
    "                        one_brain_file.loc[region_id] = [\n",
    "                            name,\n",
    "                            region_id,\n",
    "                            general_region,\n",
    "                            hemisphere,\n",
    "                            1,\n",
    "                            0,\n",
    "                            age,\n",
    "                        ]\n",
    "                    else:\n",
    "                        one_brain_file.loc[region_id, \"count\"] += 1\n",
    "\n",
    "            if (\n",
    "                general_region not in [\"Clear Label\", \"fiber tracts\", \"Parent\"]\n",
    "                and subdivided != injection_area\n",
    "            ):\n",
    "                total_counts += 1\n",
    "\n",
    "    # scale the counts\n",
    "    one_brain_file[\"scaled count\"] = 100 / total_counts * one_brain_file[\"count\"]\n",
    "\n",
    "    return one_brain_file"
   ]
  },
  {
   "cell_type": "code",
   "execution_count": 4,
   "id": "fba6b31d",
   "metadata": {},
   "outputs": [],
   "source": [
    "WT_n1_P6 = end_file_per_brain(\n",
    "    brains[\"WT_n1_P6_Objects_All_white\"],\n",
    "    brains[\"WT_n1_P6_Objects_All_black\"],\n",
    "    \"WT_n1_P6\",\n",
    "    \"p6\",\n",
    "    \"left\",\n",
    "    \"Primary somatosensory area\",\n",
    ")\n",
    "WT_n2_P6 = end_file_per_brain(\n",
    "    brains[\"WT_n2_P6_Objects_All_white\"],\n",
    "    brains[\"WT_n2_P6_Objects_All_black\"],\n",
    "    \"WT_n2_P6\",\n",
    "    \"p6\",\n",
    "    \"left\",\n",
    "    \"Primary somatosensory area\",\n",
    ")\n",
    "WT_n2_P7 = end_file_per_brain(\n",
    "    brains[\"WT_n2_P7_Objects_All_white\"],\n",
    "    brains[\"WT_n2_P7_Objects_All_black\"],\n",
    "    \"WT_n2_P7\",\n",
    "    \"p7\",\n",
    "    \"left\",\n",
    "    \"Primary somatosensory area\",\n",
    ")\n",
    "\n",
    "# get into Subdivided to get out specifically the injection area"
   ]
  },
  {
   "cell_type": "code",
   "execution_count": 5,
   "id": "8cbba3d3",
   "metadata": {},
   "outputs": [],
   "source": [
    "# make the big mega file with all the brains put the brain name in the first column\n",
    "big_file_S1_injections = pd.concat(\n",
    "    [\n",
    "        WT_n1_P6,\n",
    "        WT_n2_P6,\n",
    "        WT_n2_P7,\n",
    "    ],\n",
    "    ignore_index=True,\n",
    ")"
   ]
  },
  {
   "cell_type": "code",
   "execution_count": 6,
   "id": "b8db2cb9",
   "metadata": {},
   "outputs": [],
   "source": [
    "# take out Clear label and fiber tracts\n",
    "big_file_S1_injections = big_file_S1_injections[\n",
    "    ~big_file_S1_injections[\"General area\"].isin(\n",
    "        [\"Clear Label\", \"fiber tracts\", \"Parent\"]\n",
    "    )\n",
    "]"
   ]
  },
  {
   "cell_type": "code",
   "execution_count": 7,
   "id": "eb6fba42",
   "metadata": {},
   "outputs": [],
   "source": [
    "# Find regions with zero neurons\n",
    "\n",
    "\n",
    "def find_zero_neurons(\n",
    "    big_file,\n",
    "    general_area_ipsi_age_A,\n",
    "    general_area_contra_age_A,\n",
    "    general_area_ipsi_age_B,\n",
    "    general_area_contra_age_B,\n",
    "    age_A,\n",
    "    age_B,\n",
    "):\n",
    "\n",
    "    # add General area that are in regions_complete but not in S1_injections\n",
    "    regions_complete = pd.read_csv(\"regions_complete.csv\", sep=\";\")\n",
    "    General_areas_complete = regions_complete[\"General area\"].unique()\n",
    "\n",
    "    # filter out \"Clear Label\" and \"Fiber tracts\" and \"Parent\" from General areas\n",
    "    General_areas_complete = [\n",
    "        area\n",
    "        for area in General_areas_complete\n",
    "        if area not in [\"Clear Label\", \"fiber tracts\", \"Parent\", \"retina\"]\n",
    "    ]\n",
    "\n",
    "    # make copy of the DataFrame to add missing General areas\n",
    "    big_file_long = big_file.copy()\n",
    "\n",
    "    general_area_ipsi_age_A = []\n",
    "    general_area_contra_age_A = []\n",
    "    general_area_ipsi_age_B = []\n",
    "    general_area_contra_age_B = []\n",
    "\n",
    "    # loop through big_file_long and add General area to lists\n",
    "    for index, row in big_file_long.iterrows():\n",
    "        if row[\"Hemisphere\"] == \"ipsilateral\":\n",
    "            if row[\"age\"] == age_A:\n",
    "                general_area_ipsi_age_A.append(row[\"General area\"])\n",
    "            else:\n",
    "                general_area_ipsi_age_B.append(row[\"General area\"])\n",
    "\n",
    "        else:\n",
    "            if row[\"age\"] == age_A:\n",
    "                general_area_contra_age_A.append(row[\"General area\"])\n",
    "            else:\n",
    "                general_area_contra_age_B.append(row[\"General area\"])\n",
    "\n",
    "    for area in General_areas_complete:\n",
    "        if area not in general_area_ipsi_age_A:\n",
    "            print(\"area not found in\", \"general_area_ipsi\", age_A, \":\", area)\n",
    "\n",
    "            big_file_long.loc[area] = [0, 0, area, \"ipsilateral\", 0, 0, age_A]\n",
    "\n",
    "        if area not in general_area_contra_age_A:\n",
    "            print(\"area not found in\", \"general_area_contra\", age_A, \":\", area)\n",
    "            big_file_long.loc[area] = [0, 0, area, \"contralateral\", 0, 0, age_A]\n",
    "\n",
    "        if area not in general_area_ipsi_age_B:\n",
    "            print(\"area not found in\", \"general_area_ipsi\", age_B, \":\", area)\n",
    "            big_file_long.loc[area] = [0, 0, area, \"ipsilateral\", 0, 0, age_B]\n",
    "\n",
    "        if area not in general_area_contra_age_B:\n",
    "            print(\"area not found in\", \"general_area_contra\", age_B, \":\", area)\n",
    "            big_file_long.loc[area] = [0, 0, area, \"contralateral\", 0, 0, age_B]\n",
    "\n",
    "    return big_file_long"
   ]
  },
  {
   "cell_type": "code",
   "execution_count": 8,
   "id": "95fe213e",
   "metadata": {},
   "outputs": [
    {
     "name": "stdout",
     "output_type": "stream",
     "text": [
      "area not found in general_area_contra p6 : root\n",
      "area not found in general_area_contra p7 : root\n",
      "area not found in general_area_contra p6 : Frontal pole\n",
      "area not found in general_area_contra p6 : Somatomotor areas\n",
      "area not found in general_area_contra p7 : Somatomotor areas\n",
      "area not found in general_area_contra p6 : Visceral area\n",
      "area not found in general_area_contra p7 : Visceral area\n",
      "area not found in general_area_contra p6 : Auditory areas\n",
      "area not found in general_area_contra p7 : Auditory areas\n",
      "area not found in general_area_contra p7 : Visual areas\n",
      "area not found in general_area_contra p7 : Anterior cingulate area\n",
      "area not found in general_area_contra p7 : Prelimbic area\n",
      "area not found in general_area_contra p7 : Infralimbic area\n",
      "area not found in general_area_contra p6 : Retrosplenial area\n",
      "area not found in general_area_contra p7 : Retrosplenial area\n",
      "area not found in general_area_contra p6 : Posterior parietal association areas\n",
      "area not found in general_area_contra p7 : Posterior parietal association areas\n",
      "area not found in general_area_contra p6 : Temporal association areas\n",
      "area not found in general_area_contra p7 : Temporal association areas\n",
      "area not found in general_area_contra p6 : Perirhinal area\n",
      "area not found in general_area_contra p7 : Perirhinal area\n",
      "area not found in general_area_contra p6 : Ectorhinal area\n",
      "area not found in general_area_contra p6 : Main olfactory bulb\n",
      "area not found in general_area_contra p7 : Main olfactory bulb\n",
      "area not found in general_area_contra p7 : Accessory olfactory bulb\n",
      "area not found in general_area_contra p6 : Anterior olfactory nucleus\n",
      "area not found in general_area_contra p7 : Anterior olfactory nucleus\n",
      "area not found in general_area_contra p6 : Taenia tecta\n",
      "area not found in general_area_contra p7 : Taenia tecta\n",
      "area not found in general_area_contra p6 : Dorsal peduncular area\n",
      "area not found in general_area_ipsi p7 : Dorsal peduncular area\n",
      "area not found in general_area_contra p7 : Dorsal peduncular area\n",
      "area not found in general_area_contra p6 : Piriform area\n",
      "area not found in general_area_contra p7 : Piriform area\n",
      "area not found in general_area_ipsi p6 : Nucleus of the lateral olfactory tract\n",
      "area not found in general_area_contra p7 : Nucleus of the lateral olfactory tract\n",
      "area not found in general_area_contra p6 : Piriform-amygdalar area\n",
      "area not found in general_area_contra p7 : Piriform-amygdalar area\n",
      "area not found in general_area_contra p6 : Postpiriform transition area\n",
      "area not found in general_area_contra p7 : Postpiriform transition area\n",
      "area not found in general_area_contra p7 : Retrohippocampal region\n",
      "area not found in general_area_contra p7 : Striatum\n",
      "area not found in general_area_ipsi p6 : Pons\n",
      "area not found in general_area_contra p6 : Pons\n",
      "area not found in general_area_ipsi p7 : Pons\n",
      "area not found in general_area_contra p7 : Pons\n",
      "area not found in general_area_ipsi p6 : Medulla\n",
      "area not found in general_area_contra p6 : Medulla\n",
      "area not found in general_area_ipsi p7 : Medulla\n",
      "area not found in general_area_contra p7 : Medulla\n",
      "area not found in general_area_ipsi p6 : Cerebellum\n",
      "area not found in general_area_contra p6 : Cerebellum\n",
      "area not found in general_area_ipsi p7 : Cerebellum\n",
      "area not found in general_area_contra p7 : Cerebellum\n"
     ]
    }
   ],
   "source": [
    "big_file_S1_injections_long = find_zero_neurons(\n",
    "    big_file_S1_injections,\n",
    "    \"general_area_ipsi_p6\",\n",
    "    \"general_area_contra_p6\",\n",
    "    \"general_area_ipsi_p7\",\n",
    "    \"general_area_contra_p7\",\n",
    "    \"p6\",\n",
    "    \"p7\",\n",
    ")"
   ]
  },
  {
   "cell_type": "code",
   "execution_count": 9,
   "id": "65fb65b3",
   "metadata": {},
   "outputs": [],
   "source": [
    "# save the big file as csv\n",
    "big_file_S1_injections_long.to_csv(\n",
    "    \"big_file_S1_injections_long.csv\", sep=\";\", index=False\n",
    ")"
   ]
  },
  {
   "cell_type": "code",
   "execution_count": 10,
   "id": "44afb074",
   "metadata": {},
   "outputs": [
    {
     "data": {
      "text/html": [
       "<div>\n",
       "<style scoped>\n",
       "    .dataframe tbody tr th:only-of-type {\n",
       "        vertical-align: middle;\n",
       "    }\n",
       "\n",
       "    .dataframe tbody tr th {\n",
       "        vertical-align: top;\n",
       "    }\n",
       "\n",
       "    .dataframe thead th {\n",
       "        text-align: right;\n",
       "    }\n",
       "</style>\n",
       "<table border=\"1\" class=\"dataframe\">\n",
       "  <thead>\n",
       "    <tr style=\"text-align: right;\">\n",
       "      <th></th>\n",
       "      <th>Brain</th>\n",
       "      <th>Region ID</th>\n",
       "      <th>General area</th>\n",
       "      <th>Hemisphere</th>\n",
       "      <th>count</th>\n",
       "      <th>scaled count</th>\n",
       "      <th>age</th>\n",
       "    </tr>\n",
       "  </thead>\n",
       "  <tbody>\n",
       "    <tr>\n",
       "      <th>1</th>\n",
       "      <td>WT_n1_P6</td>\n",
       "      <td>228</td>\n",
       "      <td>Main olfactory bulb</td>\n",
       "      <td>ipsilateral</td>\n",
       "      <td>31</td>\n",
       "      <td>0.417508</td>\n",
       "      <td>p6</td>\n",
       "    </tr>\n",
       "    <tr>\n",
       "      <th>2</th>\n",
       "      <td>WT_n1_P6</td>\n",
       "      <td>244</td>\n",
       "      <td>Main olfactory bulb</td>\n",
       "      <td>ipsilateral</td>\n",
       "      <td>94</td>\n",
       "      <td>1.265993</td>\n",
       "      <td>p6</td>\n",
       "    </tr>\n",
       "    <tr>\n",
       "      <th>3</th>\n",
       "      <td>WT_n1_P6</td>\n",
       "      <td>236</td>\n",
       "      <td>Main olfactory bulb</td>\n",
       "      <td>ipsilateral</td>\n",
       "      <td>65</td>\n",
       "      <td>0.875421</td>\n",
       "      <td>p6</td>\n",
       "    </tr>\n",
       "    <tr>\n",
       "      <th>4</th>\n",
       "      <td>WT_n1_P6</td>\n",
       "      <td>220</td>\n",
       "      <td>Main olfactory bulb</td>\n",
       "      <td>ipsilateral</td>\n",
       "      <td>32</td>\n",
       "      <td>0.430976</td>\n",
       "      <td>p6</td>\n",
       "    </tr>\n",
       "    <tr>\n",
       "      <th>5</th>\n",
       "      <td>WT_n1_P6</td>\n",
       "      <td>507</td>\n",
       "      <td>Main olfactory bulb</td>\n",
       "      <td>ipsilateral</td>\n",
       "      <td>30</td>\n",
       "      <td>0.404040</td>\n",
       "      <td>p6</td>\n",
       "    </tr>\n",
       "    <tr>\n",
       "      <th>...</th>\n",
       "      <td>...</td>\n",
       "      <td>...</td>\n",
       "      <td>...</td>\n",
       "      <td>...</td>\n",
       "      <td>...</td>\n",
       "      <td>...</td>\n",
       "      <td>...</td>\n",
       "    </tr>\n",
       "    <tr>\n",
       "      <th>Retrohippocampal region</th>\n",
       "      <td>0</td>\n",
       "      <td>0</td>\n",
       "      <td>Retrohippocampal region</td>\n",
       "      <td>contralateral</td>\n",
       "      <td>0</td>\n",
       "      <td>0.000000</td>\n",
       "      <td>p7</td>\n",
       "    </tr>\n",
       "    <tr>\n",
       "      <th>Striatum</th>\n",
       "      <td>0</td>\n",
       "      <td>0</td>\n",
       "      <td>Striatum</td>\n",
       "      <td>contralateral</td>\n",
       "      <td>0</td>\n",
       "      <td>0.000000</td>\n",
       "      <td>p7</td>\n",
       "    </tr>\n",
       "    <tr>\n",
       "      <th>Pons</th>\n",
       "      <td>0</td>\n",
       "      <td>0</td>\n",
       "      <td>Pons</td>\n",
       "      <td>contralateral</td>\n",
       "      <td>0</td>\n",
       "      <td>0.000000</td>\n",
       "      <td>p7</td>\n",
       "    </tr>\n",
       "    <tr>\n",
       "      <th>Medulla</th>\n",
       "      <td>0</td>\n",
       "      <td>0</td>\n",
       "      <td>Medulla</td>\n",
       "      <td>contralateral</td>\n",
       "      <td>0</td>\n",
       "      <td>0.000000</td>\n",
       "      <td>p7</td>\n",
       "    </tr>\n",
       "    <tr>\n",
       "      <th>Cerebellum</th>\n",
       "      <td>0</td>\n",
       "      <td>0</td>\n",
       "      <td>Cerebellum</td>\n",
       "      <td>contralateral</td>\n",
       "      <td>0</td>\n",
       "      <td>0.000000</td>\n",
       "      <td>p7</td>\n",
       "    </tr>\n",
       "  </tbody>\n",
       "</table>\n",
       "<p>997 rows × 7 columns</p>\n",
       "</div>"
      ],
      "text/plain": [
       "                            Brain  Region ID             General area  \\\n",
       "1                        WT_n1_P6        228      Main olfactory bulb   \n",
       "2                        WT_n1_P6        244      Main olfactory bulb   \n",
       "3                        WT_n1_P6        236      Main olfactory bulb   \n",
       "4                        WT_n1_P6        220      Main olfactory bulb   \n",
       "5                        WT_n1_P6        507      Main olfactory bulb   \n",
       "...                           ...        ...                      ...   \n",
       "Retrohippocampal region         0          0  Retrohippocampal region   \n",
       "Striatum                        0          0                 Striatum   \n",
       "Pons                            0          0                     Pons   \n",
       "Medulla                         0          0                  Medulla   \n",
       "Cerebellum                      0          0               Cerebellum   \n",
       "\n",
       "                            Hemisphere  count  scaled count age  \n",
       "1                          ipsilateral     31      0.417508  p6  \n",
       "2                          ipsilateral     94      1.265993  p6  \n",
       "3                          ipsilateral     65      0.875421  p6  \n",
       "4                          ipsilateral     32      0.430976  p6  \n",
       "5                          ipsilateral     30      0.404040  p6  \n",
       "...                                ...    ...           ...  ..  \n",
       "Retrohippocampal region  contralateral      0      0.000000  p7  \n",
       "Striatum                 contralateral      0      0.000000  p7  \n",
       "Pons                     contralateral      0      0.000000  p7  \n",
       "Medulla                  contralateral      0      0.000000  p7  \n",
       "Cerebellum               contralateral      0      0.000000  p7  \n",
       "\n",
       "[997 rows x 7 columns]"
      ]
     },
     "execution_count": 10,
     "metadata": {},
     "output_type": "execute_result"
    }
   ],
   "source": [
    "big_file_S1_injections_long"
   ]
  },
  {
   "cell_type": "code",
   "execution_count": 11,
   "id": "ca49ea0a",
   "metadata": {},
   "outputs": [],
   "source": [
    "# make a file with only general regions counts which are then scaled to the total count of the brain\n",
    "general_areas_file = pd.DataFrame(\n",
    "    columns=[\n",
    "        \"Brain\",\n",
    "        \"General area\",\n",
    "        \"Hemisphere\",\n",
    "        \"count\",\n",
    "        \"scaled count\",\n",
    "        \"age\",\n",
    "    ]\n",
    ")\n",
    "totals = pd.DataFrame(columns=[\"Brain\", \"total\"])\n",
    "for index, row in big_file_S1_injections_long.iterrows():\n",
    "    general_area = row[\"General area\"]\n",
    "    hemisphere = row[\"Hemisphere\"]\n",
    "    age = row[\"age\"]\n",
    "    name = row[\"Brain\"]\n",
    "    amount = row[\"count\"]\n",
    "\n",
    "    if name not in totals[\"Brain\"].values:\n",
    "        totals.loc[name] = [name, amount]\n",
    "    else:\n",
    "        totals.loc[name, \"total\"] += amount"
   ]
  },
  {
   "cell_type": "code",
   "execution_count": 13,
   "id": "c845fd3b",
   "metadata": {},
   "outputs": [
    {
     "name": "stderr",
     "output_type": "stream",
     "text": [
      "C:\\Users\\sahet\\AppData\\Local\\Temp\\ipykernel_6104\\191345882.py:18: RuntimeWarning: divide by zero encountered in scalar divide\n",
      "  scaled_count = 1 / total_count * count\n",
      "C:\\Users\\sahet\\AppData\\Local\\Temp\\ipykernel_6104\\191345882.py:18: RuntimeWarning: invalid value encountered in scalar multiply\n",
      "  scaled_count = 1 / total_count * count\n",
      "C:\\Users\\sahet\\AppData\\Local\\Temp\\ipykernel_6104\\191345882.py:18: RuntimeWarning: divide by zero encountered in scalar divide\n",
      "  scaled_count = 1 / total_count * count\n",
      "C:\\Users\\sahet\\AppData\\Local\\Temp\\ipykernel_6104\\191345882.py:18: RuntimeWarning: invalid value encountered in scalar multiply\n",
      "  scaled_count = 1 / total_count * count\n",
      "C:\\Users\\sahet\\AppData\\Local\\Temp\\ipykernel_6104\\191345882.py:18: RuntimeWarning: divide by zero encountered in scalar divide\n",
      "  scaled_count = 1 / total_count * count\n",
      "C:\\Users\\sahet\\AppData\\Local\\Temp\\ipykernel_6104\\191345882.py:18: RuntimeWarning: invalid value encountered in scalar multiply\n",
      "  scaled_count = 1 / total_count * count\n",
      "C:\\Users\\sahet\\AppData\\Local\\Temp\\ipykernel_6104\\191345882.py:18: RuntimeWarning: divide by zero encountered in scalar divide\n",
      "  scaled_count = 1 / total_count * count\n",
      "C:\\Users\\sahet\\AppData\\Local\\Temp\\ipykernel_6104\\191345882.py:18: RuntimeWarning: invalid value encountered in scalar multiply\n",
      "  scaled_count = 1 / total_count * count\n",
      "C:\\Users\\sahet\\AppData\\Local\\Temp\\ipykernel_6104\\191345882.py:18: RuntimeWarning: divide by zero encountered in scalar divide\n",
      "  scaled_count = 1 / total_count * count\n",
      "C:\\Users\\sahet\\AppData\\Local\\Temp\\ipykernel_6104\\191345882.py:18: RuntimeWarning: invalid value encountered in scalar multiply\n",
      "  scaled_count = 1 / total_count * count\n",
      "C:\\Users\\sahet\\AppData\\Local\\Temp\\ipykernel_6104\\191345882.py:18: RuntimeWarning: divide by zero encountered in scalar divide\n",
      "  scaled_count = 1 / total_count * count\n",
      "C:\\Users\\sahet\\AppData\\Local\\Temp\\ipykernel_6104\\191345882.py:18: RuntimeWarning: invalid value encountered in scalar multiply\n",
      "  scaled_count = 1 / total_count * count\n",
      "C:\\Users\\sahet\\AppData\\Local\\Temp\\ipykernel_6104\\191345882.py:18: RuntimeWarning: divide by zero encountered in scalar divide\n",
      "  scaled_count = 1 / total_count * count\n",
      "C:\\Users\\sahet\\AppData\\Local\\Temp\\ipykernel_6104\\191345882.py:18: RuntimeWarning: invalid value encountered in scalar multiply\n",
      "  scaled_count = 1 / total_count * count\n",
      "C:\\Users\\sahet\\AppData\\Local\\Temp\\ipykernel_6104\\191345882.py:18: RuntimeWarning: divide by zero encountered in scalar divide\n",
      "  scaled_count = 1 / total_count * count\n",
      "C:\\Users\\sahet\\AppData\\Local\\Temp\\ipykernel_6104\\191345882.py:18: RuntimeWarning: invalid value encountered in scalar multiply\n",
      "  scaled_count = 1 / total_count * count\n",
      "C:\\Users\\sahet\\AppData\\Local\\Temp\\ipykernel_6104\\191345882.py:18: RuntimeWarning: divide by zero encountered in scalar divide\n",
      "  scaled_count = 1 / total_count * count\n",
      "C:\\Users\\sahet\\AppData\\Local\\Temp\\ipykernel_6104\\191345882.py:18: RuntimeWarning: invalid value encountered in scalar multiply\n",
      "  scaled_count = 1 / total_count * count\n",
      "C:\\Users\\sahet\\AppData\\Local\\Temp\\ipykernel_6104\\191345882.py:18: RuntimeWarning: divide by zero encountered in scalar divide\n",
      "  scaled_count = 1 / total_count * count\n",
      "C:\\Users\\sahet\\AppData\\Local\\Temp\\ipykernel_6104\\191345882.py:18: RuntimeWarning: invalid value encountered in scalar multiply\n",
      "  scaled_count = 1 / total_count * count\n",
      "C:\\Users\\sahet\\AppData\\Local\\Temp\\ipykernel_6104\\191345882.py:18: RuntimeWarning: divide by zero encountered in scalar divide\n",
      "  scaled_count = 1 / total_count * count\n",
      "C:\\Users\\sahet\\AppData\\Local\\Temp\\ipykernel_6104\\191345882.py:18: RuntimeWarning: invalid value encountered in scalar multiply\n",
      "  scaled_count = 1 / total_count * count\n",
      "C:\\Users\\sahet\\AppData\\Local\\Temp\\ipykernel_6104\\191345882.py:18: RuntimeWarning: divide by zero encountered in scalar divide\n",
      "  scaled_count = 1 / total_count * count\n",
      "C:\\Users\\sahet\\AppData\\Local\\Temp\\ipykernel_6104\\191345882.py:18: RuntimeWarning: invalid value encountered in scalar multiply\n",
      "  scaled_count = 1 / total_count * count\n",
      "C:\\Users\\sahet\\AppData\\Local\\Temp\\ipykernel_6104\\191345882.py:18: RuntimeWarning: divide by zero encountered in scalar divide\n",
      "  scaled_count = 1 / total_count * count\n",
      "C:\\Users\\sahet\\AppData\\Local\\Temp\\ipykernel_6104\\191345882.py:18: RuntimeWarning: invalid value encountered in scalar multiply\n",
      "  scaled_count = 1 / total_count * count\n",
      "C:\\Users\\sahet\\AppData\\Local\\Temp\\ipykernel_6104\\191345882.py:18: RuntimeWarning: divide by zero encountered in scalar divide\n",
      "  scaled_count = 1 / total_count * count\n",
      "C:\\Users\\sahet\\AppData\\Local\\Temp\\ipykernel_6104\\191345882.py:18: RuntimeWarning: invalid value encountered in scalar multiply\n",
      "  scaled_count = 1 / total_count * count\n",
      "C:\\Users\\sahet\\AppData\\Local\\Temp\\ipykernel_6104\\191345882.py:18: RuntimeWarning: divide by zero encountered in scalar divide\n",
      "  scaled_count = 1 / total_count * count\n",
      "C:\\Users\\sahet\\AppData\\Local\\Temp\\ipykernel_6104\\191345882.py:18: RuntimeWarning: invalid value encountered in scalar multiply\n",
      "  scaled_count = 1 / total_count * count\n",
      "C:\\Users\\sahet\\AppData\\Local\\Temp\\ipykernel_6104\\191345882.py:18: RuntimeWarning: divide by zero encountered in scalar divide\n",
      "  scaled_count = 1 / total_count * count\n",
      "C:\\Users\\sahet\\AppData\\Local\\Temp\\ipykernel_6104\\191345882.py:18: RuntimeWarning: invalid value encountered in scalar multiply\n",
      "  scaled_count = 1 / total_count * count\n",
      "C:\\Users\\sahet\\AppData\\Local\\Temp\\ipykernel_6104\\191345882.py:18: RuntimeWarning: divide by zero encountered in scalar divide\n",
      "  scaled_count = 1 / total_count * count\n",
      "C:\\Users\\sahet\\AppData\\Local\\Temp\\ipykernel_6104\\191345882.py:18: RuntimeWarning: invalid value encountered in scalar multiply\n",
      "  scaled_count = 1 / total_count * count\n",
      "C:\\Users\\sahet\\AppData\\Local\\Temp\\ipykernel_6104\\191345882.py:18: RuntimeWarning: divide by zero encountered in scalar divide\n",
      "  scaled_count = 1 / total_count * count\n",
      "C:\\Users\\sahet\\AppData\\Local\\Temp\\ipykernel_6104\\191345882.py:18: RuntimeWarning: invalid value encountered in scalar multiply\n",
      "  scaled_count = 1 / total_count * count\n",
      "C:\\Users\\sahet\\AppData\\Local\\Temp\\ipykernel_6104\\191345882.py:18: RuntimeWarning: divide by zero encountered in scalar divide\n",
      "  scaled_count = 1 / total_count * count\n",
      "C:\\Users\\sahet\\AppData\\Local\\Temp\\ipykernel_6104\\191345882.py:18: RuntimeWarning: invalid value encountered in scalar multiply\n",
      "  scaled_count = 1 / total_count * count\n",
      "C:\\Users\\sahet\\AppData\\Local\\Temp\\ipykernel_6104\\191345882.py:18: RuntimeWarning: divide by zero encountered in scalar divide\n",
      "  scaled_count = 1 / total_count * count\n",
      "C:\\Users\\sahet\\AppData\\Local\\Temp\\ipykernel_6104\\191345882.py:18: RuntimeWarning: invalid value encountered in scalar multiply\n",
      "  scaled_count = 1 / total_count * count\n",
      "C:\\Users\\sahet\\AppData\\Local\\Temp\\ipykernel_6104\\191345882.py:18: RuntimeWarning: divide by zero encountered in scalar divide\n",
      "  scaled_count = 1 / total_count * count\n",
      "C:\\Users\\sahet\\AppData\\Local\\Temp\\ipykernel_6104\\191345882.py:18: RuntimeWarning: invalid value encountered in scalar multiply\n",
      "  scaled_count = 1 / total_count * count\n",
      "C:\\Users\\sahet\\AppData\\Local\\Temp\\ipykernel_6104\\191345882.py:18: RuntimeWarning: divide by zero encountered in scalar divide\n",
      "  scaled_count = 1 / total_count * count\n",
      "C:\\Users\\sahet\\AppData\\Local\\Temp\\ipykernel_6104\\191345882.py:18: RuntimeWarning: invalid value encountered in scalar multiply\n",
      "  scaled_count = 1 / total_count * count\n",
      "C:\\Users\\sahet\\AppData\\Local\\Temp\\ipykernel_6104\\191345882.py:18: RuntimeWarning: divide by zero encountered in scalar divide\n",
      "  scaled_count = 1 / total_count * count\n",
      "C:\\Users\\sahet\\AppData\\Local\\Temp\\ipykernel_6104\\191345882.py:18: RuntimeWarning: invalid value encountered in scalar multiply\n",
      "  scaled_count = 1 / total_count * count\n",
      "C:\\Users\\sahet\\AppData\\Local\\Temp\\ipykernel_6104\\191345882.py:18: RuntimeWarning: divide by zero encountered in scalar divide\n",
      "  scaled_count = 1 / total_count * count\n",
      "C:\\Users\\sahet\\AppData\\Local\\Temp\\ipykernel_6104\\191345882.py:18: RuntimeWarning: invalid value encountered in scalar multiply\n",
      "  scaled_count = 1 / total_count * count\n",
      "C:\\Users\\sahet\\AppData\\Local\\Temp\\ipykernel_6104\\191345882.py:18: RuntimeWarning: divide by zero encountered in scalar divide\n",
      "  scaled_count = 1 / total_count * count\n",
      "C:\\Users\\sahet\\AppData\\Local\\Temp\\ipykernel_6104\\191345882.py:18: RuntimeWarning: invalid value encountered in scalar multiply\n",
      "  scaled_count = 1 / total_count * count\n",
      "C:\\Users\\sahet\\AppData\\Local\\Temp\\ipykernel_6104\\191345882.py:18: RuntimeWarning: divide by zero encountered in scalar divide\n",
      "  scaled_count = 1 / total_count * count\n",
      "C:\\Users\\sahet\\AppData\\Local\\Temp\\ipykernel_6104\\191345882.py:18: RuntimeWarning: invalid value encountered in scalar multiply\n",
      "  scaled_count = 1 / total_count * count\n",
      "C:\\Users\\sahet\\AppData\\Local\\Temp\\ipykernel_6104\\191345882.py:18: RuntimeWarning: divide by zero encountered in scalar divide\n",
      "  scaled_count = 1 / total_count * count\n",
      "C:\\Users\\sahet\\AppData\\Local\\Temp\\ipykernel_6104\\191345882.py:18: RuntimeWarning: invalid value encountered in scalar multiply\n",
      "  scaled_count = 1 / total_count * count\n",
      "C:\\Users\\sahet\\AppData\\Local\\Temp\\ipykernel_6104\\191345882.py:18: RuntimeWarning: divide by zero encountered in scalar divide\n",
      "  scaled_count = 1 / total_count * count\n",
      "C:\\Users\\sahet\\AppData\\Local\\Temp\\ipykernel_6104\\191345882.py:18: RuntimeWarning: invalid value encountered in scalar multiply\n",
      "  scaled_count = 1 / total_count * count\n"
     ]
    },
    {
     "data": {
      "text/html": [
       "<div>\n",
       "<style scoped>\n",
       "    .dataframe tbody tr th:only-of-type {\n",
       "        vertical-align: middle;\n",
       "    }\n",
       "\n",
       "    .dataframe tbody tr th {\n",
       "        vertical-align: top;\n",
       "    }\n",
       "\n",
       "    .dataframe thead th {\n",
       "        text-align: right;\n",
       "    }\n",
       "</style>\n",
       "<table border=\"1\" class=\"dataframe\">\n",
       "  <thead>\n",
       "    <tr style=\"text-align: right;\">\n",
       "      <th></th>\n",
       "      <th>Brain</th>\n",
       "      <th>General area</th>\n",
       "      <th>Hemisphere</th>\n",
       "      <th>age</th>\n",
       "      <th>count</th>\n",
       "      <th>scaled count</th>\n",
       "    </tr>\n",
       "  </thead>\n",
       "  <tbody>\n",
       "    <tr>\n",
       "      <th>0</th>\n",
       "      <td>0</td>\n",
       "      <td>Accessory olfactory bulb</td>\n",
       "      <td>contralateral</td>\n",
       "      <td>p7</td>\n",
       "      <td>0</td>\n",
       "      <td>NaN</td>\n",
       "    </tr>\n",
       "    <tr>\n",
       "      <th>1</th>\n",
       "      <td>0</td>\n",
       "      <td>Anterior cingulate area</td>\n",
       "      <td>contralateral</td>\n",
       "      <td>p7</td>\n",
       "      <td>0</td>\n",
       "      <td>NaN</td>\n",
       "    </tr>\n",
       "    <tr>\n",
       "      <th>2</th>\n",
       "      <td>0</td>\n",
       "      <td>Anterior olfactory nucleus</td>\n",
       "      <td>contralateral</td>\n",
       "      <td>p7</td>\n",
       "      <td>0</td>\n",
       "      <td>NaN</td>\n",
       "    </tr>\n",
       "    <tr>\n",
       "      <th>3</th>\n",
       "      <td>0</td>\n",
       "      <td>Auditory areas</td>\n",
       "      <td>contralateral</td>\n",
       "      <td>p7</td>\n",
       "      <td>0</td>\n",
       "      <td>NaN</td>\n",
       "    </tr>\n",
       "    <tr>\n",
       "      <th>4</th>\n",
       "      <td>0</td>\n",
       "      <td>Cerebellum</td>\n",
       "      <td>contralateral</td>\n",
       "      <td>p7</td>\n",
       "      <td>0</td>\n",
       "      <td>NaN</td>\n",
       "    </tr>\n",
       "    <tr>\n",
       "      <th>...</th>\n",
       "      <td>...</td>\n",
       "      <td>...</td>\n",
       "      <td>...</td>\n",
       "      <td>...</td>\n",
       "      <td>...</td>\n",
       "      <td>...</td>\n",
       "    </tr>\n",
       "    <tr>\n",
       "      <th>173</th>\n",
       "      <td>WT_n2_P7</td>\n",
       "      <td>Visceral area</td>\n",
       "      <td>ipsilateral</td>\n",
       "      <td>p7</td>\n",
       "      <td>29</td>\n",
       "      <td>0.004232</td>\n",
       "    </tr>\n",
       "    <tr>\n",
       "      <th>174</th>\n",
       "      <td>WT_n2_P7</td>\n",
       "      <td>Visual areas</td>\n",
       "      <td>ipsilateral</td>\n",
       "      <td>p7</td>\n",
       "      <td>1933</td>\n",
       "      <td>0.282066</td>\n",
       "    </tr>\n",
       "    <tr>\n",
       "      <th>175</th>\n",
       "      <td>WT_n2_P7</td>\n",
       "      <td>root</td>\n",
       "      <td>ipsilateral</td>\n",
       "      <td>p7</td>\n",
       "      <td>35</td>\n",
       "      <td>0.005107</td>\n",
       "    </tr>\n",
       "    <tr>\n",
       "      <th>176</th>\n",
       "      <td>WT_n2_P7</td>\n",
       "      <td>ventricular systems</td>\n",
       "      <td>contralateral</td>\n",
       "      <td>p7</td>\n",
       "      <td>1</td>\n",
       "      <td>0.000146</td>\n",
       "    </tr>\n",
       "    <tr>\n",
       "      <th>177</th>\n",
       "      <td>WT_n2_P7</td>\n",
       "      <td>ventricular systems</td>\n",
       "      <td>ipsilateral</td>\n",
       "      <td>p7</td>\n",
       "      <td>29</td>\n",
       "      <td>0.004232</td>\n",
       "    </tr>\n",
       "  </tbody>\n",
       "</table>\n",
       "<p>178 rows × 6 columns</p>\n",
       "</div>"
      ],
      "text/plain": [
       "        Brain                General area     Hemisphere age  count  \\\n",
       "0           0    Accessory olfactory bulb  contralateral  p7      0   \n",
       "1           0     Anterior cingulate area  contralateral  p7      0   \n",
       "2           0  Anterior olfactory nucleus  contralateral  p7      0   \n",
       "3           0              Auditory areas  contralateral  p7      0   \n",
       "4           0                  Cerebellum  contralateral  p7      0   \n",
       "..        ...                         ...            ...  ..    ...   \n",
       "173  WT_n2_P7               Visceral area    ipsilateral  p7     29   \n",
       "174  WT_n2_P7                Visual areas    ipsilateral  p7   1933   \n",
       "175  WT_n2_P7                        root    ipsilateral  p7     35   \n",
       "176  WT_n2_P7         ventricular systems  contralateral  p7      1   \n",
       "177  WT_n2_P7         ventricular systems    ipsilateral  p7     29   \n",
       "\n",
       "     scaled count  \n",
       "0             NaN  \n",
       "1             NaN  \n",
       "2             NaN  \n",
       "3             NaN  \n",
       "4             NaN  \n",
       "..            ...  \n",
       "173      0.004232  \n",
       "174      0.282066  \n",
       "175      0.005107  \n",
       "176      0.000146  \n",
       "177      0.004232  \n",
       "\n",
       "[178 rows x 6 columns]"
      ]
     },
     "execution_count": 13,
     "metadata": {},
     "output_type": "execute_result"
    }
   ],
   "source": [
    "df_filtered = big_file_S1_injections_long[\n",
    "    [\"Brain\", \"age\", \"count\", \"Hemisphere\", \"General area\"]\n",
    "]\n",
    "\n",
    "# Step 2: Group by the relevant identifiers and sum the count per group\n",
    "df_grouped = df_filtered.groupby(\n",
    "    [\"Brain\", \"General area\", \"Hemisphere\", \"age\"], as_index=False\n",
    ")[\"count\"].sum()\n",
    "\n",
    "# add scaled column with 0\n",
    "df_grouped[\"scaled count\"] = 0\n",
    "\n",
    "# scale the counts\n",
    "for index, row in df_grouped.iterrows():\n",
    "    brain_name = row[\"Brain\"]\n",
    "    count = row[\"count\"]\n",
    "    total_count = totals.loc[totals[\"Brain\"] == brain_name, \"total\"].values[0]\n",
    "    scaled_count = 1 / total_count * count\n",
    "    df_grouped.loc[index, \"scaled count\"] = scaled_count\n",
    "df_grouped"
   ]
  },
  {
   "cell_type": "code",
   "execution_count": 14,
   "id": "6f3f92ed",
   "metadata": {},
   "outputs": [],
   "source": [
    "def get_area_order_by_age(big_file_long):\n",
    "    # Filter for 'ipsilateral' hemisphere and age group 'p7-13'\n",
    "    filtered = big_file_long[\n",
    "        (big_file_long[\"Hemisphere\"] == \"ipsilateral\")\n",
    "        & (big_file_long[\"age\"] == \"p7-13\")\n",
    "    ]\n",
    "\n",
    "    area_order_scaled = (\n",
    "        filtered.groupby(\"General area\")[\"scaled count\"]\n",
    "        .max()\n",
    "        .sort_values(ascending=False)\n",
    "        .index.tolist()\n",
    "    )\n",
    "\n",
    "    area_order_count = (\n",
    "        filtered.groupby(\"General area\")[\"count\"]\n",
    "        .max()\n",
    "        .sort_values(ascending=False)\n",
    "        .index.tolist()\n",
    "    )\n",
    "\n",
    "    return area_order_scaled, area_order_count"
   ]
  },
  {
   "cell_type": "code",
   "execution_count": 22,
   "id": "4b51f3fc",
   "metadata": {},
   "outputs": [],
   "source": [
    "area_order_scaled, area_order_count = get_area_order_by_age(df_grouped)"
   ]
  },
  {
   "cell_type": "code",
   "execution_count": 101,
   "id": "39917f91",
   "metadata": {},
   "outputs": [],
   "source": [
    "def plot_count(big_file_long, Title, area_order_count):\n",
    "\n",
    "\n",
    "    fig = px.violin(big_file_long,\n",
    "        y=\"count\",\n",
    "        x=\"General area\",\n",
    "        color=\"Hemisphere\",\n",
    "        box=True,\n",
    "        points=\"all\",\n",
    "        color_discrete_map={\n",
    "            \"contralateral\": \"orange\",\n",
    "            \"ipsilateral\": \"magenta\"\n",
    "        },\n",
    "\n",
    "    title=Title,\n",
    "    category_orders={\"General area\": area_order_count}\n",
    "   \n",
    "    \n",
    "    )\n",
    "    fig.update_traces(meanline_visible=True)    # displays the arithmetic mean of the distribution\n",
    "    fig.update_layout(violinmode= \"group\") #group left(right violins side-by-side)\n",
    "    \n",
    "\n",
    "    return fig\n",
    "\n",
    "\n",
    "    "
   ]
  },
  {
   "cell_type": "code",
   "execution_count": 53,
   "id": "f72bcc1f",
   "metadata": {},
   "outputs": [],
   "source": [
    "def plot_scaled(big_file_long, Title, area_order_scaled):\n",
    "\n",
    "\n",
    "    fig = px.violin(big_file_long,\n",
    "        y=\"scaled count\",\n",
    "        x=\"General area\",\n",
    "        color=\"Hemisphere\",\n",
    "        box=True,\n",
    "        points=\"all\",\n",
    "        color_discrete_map={\n",
    "            \"contralateral\": \"orange\",\n",
    "            \"ipsilateral\": \"magenta\"\n",
    "        },\n",
    "\n",
    "    title=Title,\n",
    "    category_orders={\"General area\": area_order_scaled}\n",
    "   \n",
    "    \n",
    "    )\n",
    "    fig.update_traces(meanline_visible=True)    # displays the arithmetic mean of the distribution\n",
    "    fig.update_layout(violinmode= \"group\") #group left(right violins side-by-side)\n",
    "    \n",
    "\n",
    "    return fig\n",
    "\n",
    "\n",
    "    "
   ]
  },
  {
   "cell_type": "code",
   "execution_count": 102,
   "id": "9e0d8095",
   "metadata": {},
   "outputs": [
    {
     "data": {
      "application/vnd.plotly.v1+json": {
       "config": {
        "plotlyServerURL": "https://plot.ly"
       },
       "data": [
        {
         "alignmentgroup": "True",
         "box": {
          "visible": true
         },
         "hovertemplate": "Hemisphere=ipsilateral<br>General area=%{x}<br>count=%{y}<extra></extra>",
         "legendgroup": "ipsilateral",
         "marker": {
          "color": "magenta"
         },
         "meanline": {
          "visible": true
         },
         "name": "ipsilateral",
         "offsetgroup": "ipsilateral",
         "orientation": "v",
         "points": "all",
         "scalegroup": "True",
         "showlegend": true,
         "type": "violin",
         "x": [
          "Main olfactory bulb",
          "Main olfactory bulb",
          "Main olfactory bulb",
          "Main olfactory bulb",
          "Main olfactory bulb",
          "Accessory olfactory bulb",
          "Frontal pole",
          "Somatomotor areas",
          "Orbital area",
          "Orbital area",
          "Orbital area",
          "Orbital area",
          "Orbital area",
          "Prelimbic area",
          "Prelimbic area",
          "Somatomotor areas",
          "Anterior olfactory nucleus",
          "Somatomotor areas",
          "Prelimbic area",
          "Somatomotor areas",
          "Agranular insular area",
          "Agranular insular area",
          "Somatomotor areas",
          "Agranular insular area",
          "Anterior cingulate area",
          "Somatomotor areas",
          "Somatomotor areas",
          "Somatomotor areas",
          "Infralimbic area",
          "Taenia tecta",
          "Anterior cingulate area",
          "Agranular insular area",
          "Anterior cingulate area",
          "Piriform area",
          "Anterior cingulate area",
          "Agranular insular area",
          "Taenia tecta",
          "Prelimbic area",
          "Striatum",
          "Striatum",
          "Somatosensory areas",
          "Somatosensory areas",
          "Anterior cingulate area",
          "Striatum",
          "Somatosensory areas",
          "Gustatory areas",
          "Gustatory areas",
          "Retrosplenial area",
          "Retrosplenial area",
          "Retrosplenial area",
          "Retrosplenial area",
          "ventricular systems",
          "Retrosplenial area",
          "Agranular insular area",
          "Visceral area",
          "Retrosplenial area",
          "Retrosplenial area",
          "Posterior parietal association areas",
          "Pallidum",
          "Thalamus",
          "ventricular systems",
          "Visceral area",
          "Visceral area",
          "Thalamus",
          "Pallidum",
          "Thalamus",
          "Visual areas",
          "Thalamus",
          "Visceral area",
          "Posterior parietal association areas",
          "Hippocampal region",
          "Hippocampal region",
          "Posterior parietal association areas",
          "Somatosensory areas",
          "Thalamus",
          "Thalamus",
          "Thalamus",
          "Cortical amygdalar area",
          "Agranular insular area",
          "Thalamus",
          "Hippocampal region",
          "Hippocampal region",
          "Thalamus",
          "Piriform-amygdalar area",
          "Visual areas",
          "Visceral area",
          "Thalamus",
          "Hypothalamus",
          "Thalamus",
          "Visual areas",
          "Retrosplenial area",
          "Visual areas",
          "Posterior parietal association areas",
          "Auditory areas",
          "Visual areas",
          "Temporal association areas",
          "Thalamus",
          "Temporal association areas",
          "Ectorhinal area",
          "Perirhinal area",
          "Visual areas",
          "Auditory areas",
          "Ectorhinal area",
          "Auditory areas",
          "Cortical subplate",
          "Retrohippocampal region",
          "Thalamus",
          "Auditory areas",
          "Visual areas",
          "Thalamus",
          "root",
          "Perirhinal area",
          "Midbrain",
          "Visual areas",
          "Hypothalamus",
          "Cortical amygdalar area",
          "Thalamus",
          "Temporal association areas",
          "Retrohippocampal region",
          "Auditory areas",
          "Auditory areas",
          "Midbrain",
          "Retrohippocampal region",
          "Auditory areas",
          "Auditory areas",
          "Ectorhinal area",
          "Auditory areas",
          "Retrosplenial area",
          "Midbrain",
          "Auditory areas",
          "Hypothalamus",
          "Retrosplenial area",
          "Postpiriform transition area",
          "Midbrain",
          "Visual areas",
          "Midbrain",
          "Hypothalamus",
          "Hypothalamus",
          "Midbrain",
          "Hippocampal region",
          "Visual areas",
          "Visual areas",
          "Hippocampal region",
          "Visual areas",
          "Temporal association areas",
          "Temporal association areas",
          "Ectorhinal area",
          "Visual areas",
          "Midbrain",
          "Midbrain",
          "Midbrain",
          "Midbrain",
          "Retrohippocampal region",
          "Midbrain",
          "Midbrain",
          "Orbital area",
          "Frontal pole",
          "Orbital area",
          "Gustatory areas",
          "Agranular insular area",
          "Agranular insular area",
          "Gustatory areas",
          "Somatosensory areas",
          "ventricular systems",
          "Striatum",
          "Pallidum",
          "Striatum",
          "Cortical subplate",
          "Retrosplenial area",
          "Retrosplenial area",
          "Hypothalamus",
          "Pallidum",
          "Posterior parietal association areas",
          "Hypothalamus",
          "Hippocampal region",
          "Somatosensory areas",
          "Hippocampal region",
          "Posterior parietal association areas",
          "Posterior parietal association areas",
          "Posterior parietal association areas",
          "Hypothalamus",
          "Pallidum",
          "Visual areas",
          "Posterior parietal association areas",
          "Visual areas",
          "Posterior parietal association areas",
          "Hippocampal region",
          "Visual areas",
          "Hypothalamus",
          "Hippocampal region",
          "Agranular insular area",
          "Posterior parietal association areas",
          "Thalamus",
          "Thalamus",
          "Pallidum",
          "Visual areas",
          "Auditory areas",
          "Posterior parietal association areas",
          "Visual areas",
          "Auditory areas",
          "Thalamus",
          "Auditory areas",
          "Thalamus",
          "Thalamus",
          "Visual areas",
          "Thalamus",
          "Visual areas",
          "Cortical subplate",
          "Hippocampal region",
          "Retrosplenial area",
          "Visual areas",
          "Retrosplenial area",
          "Auditory areas",
          "Thalamus",
          "Auditory areas",
          "Auditory areas",
          "Visual areas",
          "Visual areas",
          "Visual areas",
          "Auditory areas",
          "Hypothalamus",
          "Thalamus",
          "Pallidum",
          "Retrohippocampal region",
          "Thalamus",
          "Retrohippocampal region",
          "Thalamus",
          "Thalamus",
          "Cortical subplate",
          "Thalamus",
          "Retrohippocampal region",
          "Thalamus",
          "Auditory areas",
          "Thalamus",
          "Auditory areas",
          "Hypothalamus",
          "Auditory areas",
          "Thalamus",
          "Visual areas",
          "Thalamus",
          "Hypothalamus",
          "Visual areas",
          "Thalamus",
          "Thalamus",
          "Visual areas",
          "Visual areas",
          "Thalamus",
          "Visual areas",
          "Thalamus",
          "Striatum",
          "Midbrain",
          "Midbrain",
          "Auditory areas",
          "Visual areas",
          "Midbrain",
          "Retrohippocampal region",
          "Retrohippocampal region",
          "Visual areas",
          "Thalamus",
          "Midbrain",
          "Hypothalamus",
          "Midbrain",
          "Visual areas",
          "Midbrain",
          "Midbrain",
          "Retrohippocampal region",
          "Midbrain",
          "Retrohippocampal region",
          "Hypothalamus",
          "Midbrain",
          "Perirhinal area",
          "Main olfactory bulb",
          "Main olfactory bulb",
          "Main olfactory bulb",
          "Main olfactory bulb",
          "Main olfactory bulb",
          "Accessory olfactory bulb",
          "Frontal pole",
          "Accessory olfactory bulb",
          "Frontal pole",
          "Somatomotor areas",
          "Somatomotor areas",
          "Prelimbic area",
          "Orbital area",
          "Somatomotor areas",
          "Orbital area",
          "Orbital area",
          "Orbital area",
          "Orbital area",
          "Orbital area",
          "Orbital area",
          "Orbital area",
          "Somatomotor areas",
          "Prelimbic area",
          "Prelimbic area",
          "Somatomotor areas",
          "Anterior cingulate area",
          "Agranular insular area",
          "Somatomotor areas",
          "Anterior olfactory nucleus",
          "Somatomotor areas",
          "Anterior cingulate area",
          "Agranular insular area",
          "Somatomotor areas",
          "Anterior cingulate area",
          "Anterior cingulate area",
          "Striatum",
          "Piriform area",
          "Anterior cingulate area",
          "Anterior cingulate area",
          "Agranular insular area",
          "Taenia tecta",
          "Agranular insular area",
          "Somatosensory areas",
          "Striatum",
          "Gustatory areas",
          "ventricular systems",
          "Somatomotor areas",
          "Somatosensory areas",
          "Pallidum",
          "Visceral area",
          "Visceral area",
          "ventricular systems",
          "Retrosplenial area",
          "Somatosensory areas",
          "Somatosensory areas",
          "Somatosensory areas",
          "Retrosplenial area",
          "Retrosplenial area",
          "Retrosplenial area",
          "Retrosplenial area",
          "Retrosplenial area",
          "Striatum",
          "Retrosplenial area",
          "Retrosplenial area",
          "Retrosplenial area",
          "Somatosensory areas",
          "Striatum",
          "Retrosplenial area",
          "Gustatory areas",
          "Thalamus",
          "ventricular systems",
          "Agranular insular area",
          "Posterior parietal association areas",
          "root",
          "Thalamus",
          "Hippocampal region",
          "Posterior parietal association areas",
          "Thalamus",
          "Thalamus",
          "Retrosplenial area",
          "Thalamus",
          "Visceral area",
          "Thalamus",
          "Agranular insular area",
          "Thalamus",
          "Posterior parietal association areas",
          "Visceral area",
          "Posterior parietal association areas",
          "Posterior parietal association areas",
          "Visual areas",
          "Thalamus",
          "Hippocampal region",
          "Thalamus",
          "Posterior parietal association areas",
          "Thalamus",
          "Visual areas",
          "Thalamus",
          "Thalamus",
          "Thalamus",
          "Thalamus",
          "Agranular insular area",
          "Thalamus",
          "Cortical subplate",
          "Auditory areas",
          "Posterior parietal association areas",
          "Auditory areas",
          "Retrosplenial area",
          "Thalamus",
          "Ectorhinal area",
          "Ectorhinal area",
          "Auditory areas",
          "Posterior parietal association areas",
          "Visual areas",
          "Temporal association areas",
          "Posterior parietal association areas",
          "Temporal association areas",
          "Ectorhinal area",
          "Auditory areas",
          "Visual areas",
          "Visual areas",
          "Visual areas",
          "Visual areas",
          "Visual areas",
          "Posterior parietal association areas",
          "Thalamus",
          "Visual areas",
          "Temporal association areas",
          "Cortical subplate",
          "Ectorhinal area",
          "Hippocampal region",
          "Auditory areas",
          "Visual areas",
          "Auditory areas",
          "Thalamus",
          "Retrohippocampal region",
          "Visual areas",
          "Retrohippocampal region",
          "Midbrain",
          "Thalamus",
          "Temporal association areas",
          "Auditory areas",
          "Perirhinal area",
          "Auditory areas",
          "Perirhinal area",
          "Visual areas",
          "Retrohippocampal region",
          "Visual areas",
          "Hypothalamus",
          "Visual areas",
          "Visual areas",
          "Retrohippocampal region",
          "Perirhinal area",
          "Hypothalamus",
          "Postpiriform transition area",
          "Hypothalamus",
          "Visual areas",
          "Visual areas",
          "Retrohippocampal region",
          "Auditory areas",
          "Midbrain",
          "Hypothalamus",
          "Visual areas",
          "Retrohippocampal region",
          "Visual areas",
          "Visual areas",
          "Temporal association areas",
          "Visual areas",
          "Visual areas",
          "Retrohippocampal region",
          "Visual areas",
          "Midbrain",
          "Accessory olfactory bulb",
          "Frontal pole",
          "Orbital area",
          "Orbital area",
          "Orbital area",
          "Infralimbic area",
          "Agranular insular area",
          "Gustatory areas",
          "Gustatory areas",
          "Taenia tecta",
          "Prelimbic area",
          "Dorsal peduncular area",
          "Pallidum",
          "Striatum",
          "Agranular insular area",
          "Hypothalamus",
          "Hypothalamus",
          "Hippocampal region",
          "Thalamus",
          "Hippocampal region",
          "Hippocampal region",
          "Thalamus",
          "Hippocampal region",
          "Retrosplenial area",
          "Thalamus",
          "Pallidum",
          "Hippocampal region",
          "Hippocampal region",
          "Posterior parietal association areas",
          "ventricular systems",
          "Posterior parietal association areas",
          "Hippocampal region",
          "Visual areas",
          "Hippocampal region",
          "Visceral area",
          "Cortical subplate",
          "Piriform-amygdalar area",
          "Thalamus",
          "Pallidum",
          "Hypothalamus",
          "Thalamus",
          "Auditory areas",
          "Thalamus",
          "Auditory areas",
          "Thalamus",
          "Retrosplenial area",
          "Visual areas",
          "Auditory areas",
          "Auditory areas",
          "Auditory areas",
          "Hippocampal region",
          "Thalamus",
          "Cortical amygdalar area",
          "Thalamus",
          "Thalamus",
          "Retrosplenial area",
          "Auditory areas",
          "Auditory areas",
          "Auditory areas",
          "Auditory areas",
          "Visual areas",
          "Auditory areas",
          "Retrohippocampal region",
          "Auditory areas",
          "Cortical subplate",
          "Cortical subplate",
          "Hippocampal region",
          "Visual areas",
          "Visual areas",
          "Visual areas",
          "Visual areas",
          "Thalamus",
          "Visual areas",
          "Thalamus",
          "Thalamus",
          "Pallidum",
          "Visual areas",
          "Hypothalamus",
          "Auditory areas",
          "Auditory areas",
          "Retrohippocampal region",
          "Hypothalamus",
          "Auditory areas",
          "Cortical subplate",
          "Thalamus",
          "Hypothalamus",
          "Visual areas",
          "Visual areas",
          "Visual areas",
          "Thalamus",
          "Thalamus",
          "Cortical amygdalar area",
          "Thalamus",
          "Thalamus",
          "Visual areas",
          "Midbrain",
          "Visual areas",
          "Hypothalamus",
          "Hypothalamus",
          "Visual areas",
          "Hypothalamus",
          "Thalamus",
          "Hypothalamus",
          "Midbrain",
          "Midbrain",
          "Visual areas",
          "Midbrain",
          "Midbrain",
          "Midbrain",
          "Midbrain",
          "Visual areas",
          "Visual areas",
          "Main olfactory bulb",
          "Main olfactory bulb",
          "Main olfactory bulb",
          "Main olfactory bulb",
          "Frontal pole",
          "Somatomotor areas",
          "Orbital area",
          "Somatomotor areas",
          "Agranular insular area",
          "Anterior olfactory nucleus",
          "Accessory olfactory bulb",
          "Orbital area",
          "Prelimbic area",
          "Orbital area",
          "Orbital area",
          "Orbital area",
          "Orbital area",
          "Somatomotor areas",
          "Somatomotor areas",
          "Somatomotor areas",
          "Agranular insular area",
          "Piriform area",
          "Orbital area",
          "Somatomotor areas",
          "Somatosensory areas",
          "Anterior cingulate area",
          "Striatum",
          "Striatum",
          "Somatosensory areas",
          "Anterior cingulate area",
          "ventricular systems",
          "Retrosplenial area",
          "Somatosensory areas",
          "Retrosplenial area",
          "Visceral area",
          "Retrosplenial area",
          "Retrosplenial area",
          "Thalamus",
          "Somatosensory areas",
          "Thalamus",
          "Thalamus",
          "Retrosplenial area",
          "Visceral area",
          "Hippocampal region",
          "Agranular insular area",
          "Thalamus",
          "Posterior parietal association areas",
          "Hippocampal region",
          "Thalamus",
          "Retrosplenial area",
          "Thalamus",
          "Thalamus",
          "Posterior parietal association areas",
          "Visual areas",
          "Thalamus",
          "Somatosensory areas",
          "Agranular insular area",
          "Thalamus",
          "Posterior parietal association areas",
          "Thalamus",
          "Posterior parietal association areas",
          "Visual areas",
          "Cortical subplate",
          "Posterior parietal association areas",
          "Thalamus",
          "Ectorhinal area",
          "Retrohippocampal region",
          "Ectorhinal area",
          "Temporal association areas",
          "Temporal association areas",
          "Thalamus",
          "Hypothalamus",
          "Hypothalamus",
          "Striatum",
          "Hypothalamus",
          "Visual areas",
          "Thalamus",
          "Auditory areas",
          "Visual areas",
          "Cortical subplate",
          "Hippocampal region",
          "Retrohippocampal region",
          "Visual areas",
          "Thalamus",
          "Auditory areas",
          "Posterior parietal association areas",
          "Retrosplenial area",
          "Ectorhinal area",
          "Retrosplenial area",
          "Auditory areas",
          "Temporal association areas",
          "Visual areas",
          "Auditory areas",
          "Visual areas",
          "Auditory areas",
          "Auditory areas",
          "Retrosplenial area",
          "Thalamus",
          "Thalamus",
          "Retrosplenial area",
          "Visual areas",
          "Retrohippocampal region",
          "Midbrain",
          "Hypothalamus",
          "root",
          "Visual areas",
          "Auditory areas",
          "Perirhinal area",
          "Retrosplenial area",
          "Visual areas",
          "Thalamus",
          "Auditory areas",
          "Perirhinal area",
          "Hippocampal region",
          "Hypothalamus",
          "Retrohippocampal region",
          "Thalamus",
          "Cortical amygdalar area",
          "Hypothalamus",
          "Thalamus",
          "Postpiriform transition area",
          "Visual areas",
          "Retrohippocampal region",
          "Hippocampal region",
          "Visual areas",
          "Retrohippocampal region",
          "Retrosplenial area",
          "Visual areas",
          "Retrohippocampal region",
          "Midbrain",
          "Auditory areas",
          "Auditory areas",
          "Retrohippocampal region",
          "Temporal association areas",
          "Midbrain",
          "Midbrain",
          "Visual areas",
          "Hippocampal region",
          "Visual areas",
          "Midbrain",
          "Midbrain",
          "Visual areas",
          "Midbrain",
          "Midbrain",
          "Visual areas",
          "Main olfactory bulb",
          "Accessory olfactory bulb",
          "Accessory olfactory bulb",
          "Orbital area",
          "Orbital area",
          "Prelimbic area",
          "Somatomotor areas",
          "Anterior cingulate area",
          "Taenia tecta",
          "Anterior cingulate area",
          "Prelimbic area",
          "Agranular insular area",
          "Infralimbic area",
          "Agranular insular area",
          "Somatomotor areas",
          "Striatum",
          "Somatomotor areas",
          "Anterior cingulate area",
          "Striatum",
          "Pallidum",
          "Agranular insular area",
          "Pallidum",
          "Striatum",
          "Visceral area",
          "Hypothalamus",
          "Striatum",
          "Gustatory areas",
          "Somatosensory areas",
          "Striatum",
          "Cortical subplate",
          "Pallidum",
          "ventricular systems",
          "Cortical subplate",
          "Agranular insular area",
          "Posterior parietal association areas",
          "Pallidum",
          "Posterior parietal association areas",
          "Thalamus",
          "Nucleus of the lateral olfactory tract",
          "Nucleus of the lateral olfactory tract",
          "Visceral area",
          "Posterior parietal association areas",
          "Pallidum",
          "Visceral area",
          "Posterior parietal association areas",
          "Posterior parietal association areas",
          "Thalamus",
          "Visceral area",
          "Visual areas",
          "Thalamus",
          "Thalamus",
          "Auditory areas",
          "Auditory areas",
          "Auditory areas",
          "Visual areas",
          "Auditory areas",
          "Auditory areas",
          "Cortical subplate",
          "Auditory areas",
          "Posterior parietal association areas",
          "Visual areas",
          "Auditory areas",
          "Agranular insular area",
          "Thalamus",
          "Visual areas",
          "Striatum",
          "Visual areas",
          "Auditory areas",
          "Thalamus",
          "Temporal association areas",
          "Thalamus",
          "Auditory areas",
          "Cortical subplate",
          "Visual areas",
          "Thalamus",
          "Perirhinal area",
          "Auditory areas",
          "Thalamus",
          "Temporal association areas",
          "Visual areas",
          "Cortical subplate",
          "Hypothalamus",
          "Visual areas",
          "Hypothalamus",
          "Visual areas",
          "Visual areas",
          "Visual areas",
          "Thalamus",
          "Thalamus",
          "Visual areas",
          "Thalamus",
          "Piriform-amygdalar area",
          "Auditory areas",
          "Auditory areas",
          "Hypothalamus",
          "Auditory areas",
          "Hypothalamus",
          "Visual areas",
          "Thalamus",
          "Ectorhinal area",
          "Hippocampal region",
          "Visual areas",
          "Thalamus",
          "Visual areas",
          "Cortical amygdalar area",
          "Visual areas",
          "Visual areas",
          "Midbrain",
          "Hippocampal region",
          "Visual areas",
          "Hippocampal region",
          "Thalamus",
          "Visual areas",
          "Hypothalamus",
          "Midbrain",
          "Thalamus",
          "Midbrain",
          "Thalamus",
          "Midbrain",
          "Visual areas",
          "Thalamus",
          "Thalamus",
          "Visual areas",
          "Retrohippocampal region",
          "Midbrain",
          "Midbrain",
          "Visual areas",
          "Midbrain",
          "Retrohippocampal region",
          "Retrosplenial area",
          "Retrohippocampal region",
          "Midbrain"
         ],
         "x0": " ",
         "xaxis": "x",
         "y": [
          31,
          94,
          65,
          32,
          30,
          8,
          1,
          37,
          2,
          1,
          2,
          1,
          2,
          3,
          1,
          17,
          14,
          19,
          3,
          87,
          15,
          2,
          61,
          6,
          6,
          6,
          12,
          19,
          2,
          3,
          2,
          8,
          1,
          110,
          2,
          3,
          3,
          1,
          24,
          14,
          270,
          281,
          10,
          1,
          154,
          6,
          1,
          95,
          46,
          14,
          149,
          30,
          70,
          25,
          19,
          111,
          106,
          59,
          8,
          23,
          3,
          10,
          10,
          2,
          2,
          3,
          62,
          3,
          5,
          158,
          12,
          92,
          160,
          127,
          23,
          31,
          6,
          4,
          17,
          14,
          1,
          9,
          9,
          5,
          24,
          2,
          19,
          21,
          22,
          176,
          7,
          22,
          22,
          9,
          125,
          6,
          6,
          2,
          5,
          7,
          61,
          23,
          10,
          49,
          5,
          12,
          15,
          48,
          62,
          12,
          41,
          1,
          56,
          19,
          15,
          3,
          2,
          5,
          30,
          2,
          1,
          6,
          7,
          30,
          7,
          3,
          12,
          16,
          11,
          3,
          22,
          16,
          12,
          11,
          44,
          31,
          4,
          17,
          2,
          1,
          191,
          4,
          36,
          10,
          17,
          29,
          1,
          24,
          1,
          18,
          5,
          2,
          2,
          7,
          3,
          4,
          1,
          9,
          27,
          2,
          1,
          3,
          146,
          7,
          2,
          4,
          1,
          5,
          11,
          62,
          4,
          1,
          63,
          1,
          7,
          8,
          1,
          86,
          30,
          76,
          1,
          2,
          17,
          11,
          40,
          46,
          1,
          30,
          7,
          5,
          1,
          38,
          2,
          8,
          1,
          33,
          42,
          5,
          122,
          48,
          1,
          18,
          3,
          2,
          6,
          19,
          2,
          6,
          2,
          2,
          12,
          1,
          5,
          6,
          23,
          6,
          19,
          20,
          21,
          11,
          1,
          11,
          2,
          1,
          1,
          13,
          2,
          2,
          1,
          2,
          26,
          3,
          4,
          3,
          2,
          1,
          5,
          4,
          4,
          1,
          3,
          2,
          6,
          1,
          6,
          5,
          2,
          4,
          2,
          2,
          4,
          1,
          2,
          12,
          31,
          6,
          4,
          1,
          2,
          2,
          2,
          1,
          6,
          3,
          6,
          1,
          3,
          1,
          5,
          1,
          1,
          37,
          6,
          7,
          23,
          65,
          2,
          1,
          6,
          2,
          41,
          27,
          4,
          9,
          89,
          8,
          6,
          6,
          8,
          15,
          5,
          2,
          21,
          8,
          3,
          74,
          4,
          13,
          45,
          11,
          62,
          18,
          7,
          52,
          1,
          4,
          5,
          122,
          5,
          2,
          7,
          2,
          2,
          177,
          479,
          12,
          68,
          2,
          297,
          7,
          1,
          4,
          3,
          229,
          114,
          198,
          169,
          207,
          98,
          67,
          361,
          631,
          5,
          130,
          577,
          249,
          61,
          2,
          135,
          1,
          95,
          4,
          30,
          292,
          55,
          4,
          50,
          101,
          9,
          11,
          125,
          21,
          19,
          15,
          1,
          28,
          376,
          16,
          94,
          121,
          183,
          46,
          10,
          1,
          57,
          13,
          135,
          34,
          58,
          13,
          15,
          7,
          34,
          4,
          22,
          220,
          19,
          132,
          16,
          17,
          14,
          26,
          90,
          67,
          31,
          113,
          31,
          4,
          48,
          60,
          297,
          200,
          507,
          181,
          12,
          10,
          79,
          6,
          2,
          7,
          3,
          28,
          86,
          69,
          36,
          32,
          82,
          9,
          1,
          3,
          2,
          11,
          14,
          2,
          5,
          566,
          121,
          10,
          2,
          42,
          7,
          47,
          3,
          2,
          22,
          3,
          155,
          3,
          7,
          1,
          36,
          1,
          13,
          1,
          3,
          19,
          17,
          15,
          307,
          5,
          3,
          1,
          1,
          1,
          4,
          4,
          1,
          5,
          1,
          1,
          4,
          1,
          1,
          2,
          17,
          12,
          1,
          2,
          2,
          5,
          42,
          152,
          1,
          9,
          2,
          4,
          3,
          9,
          2,
          85,
          22,
          4,
          58,
          1,
          26,
          42,
          3,
          5,
          4,
          7,
          1,
          2,
          4,
          72,
          56,
          80,
          2,
          5,
          9,
          5,
          27,
          4,
          2,
          6,
          2,
          18,
          22,
          8,
          23,
          22,
          13,
          7,
          11,
          2,
          69,
          2,
          2,
          1,
          3,
          40,
          35,
          70,
          67,
          5,
          27,
          5,
          18,
          1,
          13,
          1,
          3,
          11,
          10,
          2,
          8,
          2,
          1,
          2,
          7,
          7,
          8,
          9,
          4,
          1,
          4,
          1,
          2,
          2,
          3,
          2,
          2,
          1,
          1,
          2,
          1,
          2,
          37,
          2,
          2,
          3,
          6,
          1,
          1,
          2,
          30,
          41,
          22,
          3,
          2,
          26,
          5,
          8,
          3,
          15,
          6,
          2,
          1,
          1,
          1,
          3,
          3,
          10,
          3,
          69,
          4,
          61,
          1,
          27,
          90,
          2,
          13,
          65,
          32,
          5,
          23,
          261,
          215,
          20,
          16,
          9,
          41,
          25,
          135,
          3,
          4,
          251,
          6,
          4,
          8,
          4,
          30,
          20,
          18,
          109,
          26,
          2,
          72,
          9,
          12,
          77,
          10,
          13,
          117,
          4,
          166,
          40,
          1,
          91,
          2,
          9,
          7,
          13,
          35,
          29,
          12,
          13,
          1,
          3,
          6,
          12,
          25,
          7,
          46,
          2,
          5,
          12,
          283,
          25,
          20,
          43,
          12,
          10,
          65,
          30,
          8,
          21,
          2,
          162,
          23,
          54,
          65,
          19,
          1,
          54,
          28,
          6,
          109,
          5,
          35,
          10,
          6,
          8,
          56,
          189,
          17,
          22,
          7,
          3,
          5,
          5,
          6,
          2,
          24,
          1,
          18,
          39,
          36,
          34,
          31,
          14,
          21,
          54,
          13,
          14,
          40,
          17,
          28,
          4,
          12,
          9,
          30,
          2,
          25,
          3,
          3,
          4,
          9,
          2,
          8,
          110,
          3,
          1,
          2,
          2,
          1,
          30,
          2,
          3,
          5,
          2,
          2,
          2,
          3,
          4,
          4,
          5,
          5,
          3,
          1,
          2,
          3,
          6,
          1,
          2,
          5,
          3,
          27,
          2,
          3,
          1,
          6,
          7,
          6,
          91,
          4,
          45,
          14,
          5,
          1,
          2,
          152,
          3,
          3,
          12,
          116,
          3,
          1,
          31,
          44,
          12,
          83,
          15,
          67,
          2,
          11,
          26,
          10,
          13,
          17,
          2,
          1,
          2,
          7,
          382,
          1,
          227,
          6,
          11,
          5,
          7,
          2,
          3,
          16,
          11,
          8,
          24,
          1,
          9,
          3,
          5,
          2,
          9,
          12,
          36,
          45,
          70,
          4,
          2,
          5,
          1,
          5,
          25,
          22,
          11,
          6,
          2,
          20,
          4,
          4,
          5,
          52,
          2,
          10,
          2,
          1,
          4,
          1,
          3,
          10,
          1,
          3,
          8,
          3,
          6,
          2,
          1,
          1,
          1,
          5,
          3,
          1,
          2,
          2,
          2,
          2,
          2,
          3,
          4,
          1,
          2,
          1
         ],
         "y0": " ",
         "yaxis": "y"
        },
        {
         "alignmentgroup": "True",
         "box": {
          "visible": true
         },
         "hovertemplate": "Hemisphere=contralateral<br>General area=%{x}<br>count=%{y}<extra></extra>",
         "legendgroup": "contralateral",
         "marker": {
          "color": "orange"
         },
         "meanline": {
          "visible": true
         },
         "name": "contralateral",
         "offsetgroup": "contralateral",
         "orientation": "v",
         "points": "all",
         "scalegroup": "True",
         "showlegend": true,
         "type": "violin",
         "x": [
          "Accessory olfactory bulb",
          "Orbital area",
          "Orbital area",
          "Orbital area",
          "Orbital area",
          "Somatosensory areas",
          "Infralimbic area",
          "Somatosensory areas",
          "Somatosensory areas",
          "Somatosensory areas",
          "Somatosensory areas",
          "Somatosensory areas",
          "Somatosensory areas",
          "Somatosensory areas",
          "Somatosensory areas",
          "Somatosensory areas",
          "Somatosensory areas",
          "Somatosensory areas",
          "Somatosensory areas",
          "Somatosensory areas",
          "Anterior cingulate area",
          "Pallidum",
          "Somatosensory areas",
          "Somatosensory areas",
          "Somatosensory areas",
          "Somatosensory areas",
          "Somatosensory areas",
          "Somatosensory areas",
          "Somatosensory areas",
          "Gustatory areas",
          "Somatosensory areas",
          "Somatosensory areas",
          "Somatosensory areas",
          "Cortical subplate",
          "Somatosensory areas",
          "Somatosensory areas",
          "Somatosensory areas",
          "Somatosensory areas",
          "Somatosensory areas",
          "ventricular systems",
          "Somatosensory areas",
          "Hypothalamus",
          "Striatum",
          "Hippocampal region",
          "Cortical subplate",
          "Hypothalamus",
          "Thalamus",
          "Cortical amygdalar area",
          "Visual areas",
          "Midbrain",
          "Prelimbic area",
          "Orbital area",
          "Somatosensory areas",
          "Infralimbic area",
          "Somatosensory areas",
          "Somatosensory areas",
          "Somatosensory areas",
          "Somatosensory areas",
          "Somatosensory areas",
          "Somatosensory areas",
          "Somatosensory areas",
          "Anterior cingulate area",
          "Somatosensory areas",
          "Somatosensory areas",
          "Somatosensory areas",
          "Somatosensory areas",
          "Agranular insular area",
          "Somatosensory areas",
          "Somatosensory areas",
          "Somatosensory areas",
          "Somatosensory areas",
          "Somatosensory areas",
          "Striatum",
          "Somatosensory areas",
          "Somatosensory areas",
          "Somatosensory areas",
          "Somatosensory areas",
          "Somatosensory areas",
          "Somatosensory areas",
          "Somatosensory areas",
          "Somatosensory areas",
          "Somatosensory areas",
          "Somatosensory areas",
          "Somatosensory areas",
          "Somatosensory areas",
          "Somatosensory areas",
          "Somatosensory areas",
          "Somatosensory areas",
          "Nucleus of the lateral olfactory tract",
          "Somatosensory areas",
          "Somatosensory areas",
          "Nucleus of the lateral olfactory tract",
          "Striatum",
          "Thalamus",
          "Thalamus",
          "Retrohippocampal region",
          "Midbrain",
          "Midbrain",
          "Hippocampal region",
          "Hypothalamus",
          "Hippocampal region",
          "Midbrain",
          "Frontal pole",
          "Orbital area",
          "Agranular insular area",
          "Gustatory areas",
          "Somatosensory areas",
          "Somatosensory areas",
          "Somatosensory areas",
          "Somatosensory areas",
          "Pallidum",
          "Hippocampal region",
          "Somatosensory areas",
          "Somatosensory areas",
          "Somatosensory areas",
          "Somatosensory areas",
          "Somatosensory areas",
          "Somatosensory areas",
          "Somatosensory areas",
          "Somatosensory areas",
          "ventricular systems",
          "Cortical amygdalar area",
          "Somatosensory areas",
          "Somatosensory areas",
          "Pallidum",
          "Cortical subplate",
          "Cortical subplate",
          "Somatosensory areas",
          "Ectorhinal area",
          "Hippocampal region",
          "Midbrain",
          "Cortical subplate",
          "Thalamus",
          "Hypothalamus",
          "Midbrain",
          "Hypothalamus",
          "Midbrain",
          "Midbrain",
          "root",
          "Frontal pole",
          "Somatomotor areas",
          "Visceral area",
          "Auditory areas",
          "Visual areas",
          "Anterior cingulate area",
          "Prelimbic area",
          "Infralimbic area",
          "Retrosplenial area",
          "Posterior parietal association areas",
          "Temporal association areas",
          "Perirhinal area",
          "Ectorhinal area",
          "Main olfactory bulb",
          "Accessory olfactory bulb",
          "Anterior olfactory nucleus",
          "Taenia tecta",
          "Dorsal peduncular area",
          "Piriform area",
          "Nucleus of the lateral olfactory tract",
          "Piriform-amygdalar area",
          "Postpiriform transition area",
          "Retrohippocampal region",
          "Striatum",
          "Pons",
          "Medulla",
          "Cerebellum"
         ],
         "x0": " ",
         "xaxis": "x",
         "y": [
          2,
          3,
          1,
          1,
          1,
          28,
          1,
          17,
          25,
          1,
          1,
          7,
          20,
          6,
          1,
          5,
          40,
          2,
          1,
          14,
          1,
          1,
          3,
          18,
          1,
          12,
          5,
          3,
          5,
          1,
          31,
          1,
          1,
          4,
          3,
          2,
          5,
          4,
          1,
          2,
          1,
          1,
          2,
          2,
          3,
          1,
          1,
          3,
          1,
          1,
          3,
          8,
          44,
          2,
          26,
          19,
          9,
          22,
          9,
          11,
          14,
          9,
          4,
          7,
          11,
          6,
          1,
          8,
          11,
          7,
          14,
          8,
          2,
          1,
          9,
          9,
          4,
          12,
          8,
          14,
          6,
          9,
          14,
          1,
          43,
          20,
          1,
          2,
          1,
          1,
          1,
          1,
          1,
          1,
          1,
          2,
          1,
          3,
          2,
          3,
          1,
          1,
          2,
          1,
          2,
          1,
          1,
          5,
          5,
          4,
          1,
          6,
          1,
          4,
          1,
          1,
          2,
          1,
          1,
          23,
          1,
          2,
          5,
          1,
          1,
          4,
          4,
          1,
          4,
          1,
          2,
          1,
          1,
          1,
          2,
          1,
          1,
          1,
          0,
          0,
          0,
          0,
          0,
          0,
          0,
          0,
          0,
          0,
          0,
          0,
          0,
          0,
          0,
          0,
          0,
          0,
          0,
          0,
          0,
          0,
          0,
          0,
          0,
          0,
          0,
          0
         ],
         "y0": " ",
         "yaxis": "y"
        }
       ],
       "layout": {
        "legend": {
         "title": {
          "text": "Hemisphere"
         },
         "tracegroupgap": 0
        },
        "template": {
         "data": {
          "bar": [
           {
            "error_x": {
             "color": "#2a3f5f"
            },
            "error_y": {
             "color": "#2a3f5f"
            },
            "marker": {
             "line": {
              "color": "#E5ECF6",
              "width": 0.5
             },
             "pattern": {
              "fillmode": "overlay",
              "size": 10,
              "solidity": 0.2
             }
            },
            "type": "bar"
           }
          ],
          "barpolar": [
           {
            "marker": {
             "line": {
              "color": "#E5ECF6",
              "width": 0.5
             },
             "pattern": {
              "fillmode": "overlay",
              "size": 10,
              "solidity": 0.2
             }
            },
            "type": "barpolar"
           }
          ],
          "carpet": [
           {
            "aaxis": {
             "endlinecolor": "#2a3f5f",
             "gridcolor": "white",
             "linecolor": "white",
             "minorgridcolor": "white",
             "startlinecolor": "#2a3f5f"
            },
            "baxis": {
             "endlinecolor": "#2a3f5f",
             "gridcolor": "white",
             "linecolor": "white",
             "minorgridcolor": "white",
             "startlinecolor": "#2a3f5f"
            },
            "type": "carpet"
           }
          ],
          "choropleth": [
           {
            "colorbar": {
             "outlinewidth": 0,
             "ticks": ""
            },
            "type": "choropleth"
           }
          ],
          "contour": [
           {
            "colorbar": {
             "outlinewidth": 0,
             "ticks": ""
            },
            "colorscale": [
             [
              0,
              "#0d0887"
             ],
             [
              0.1111111111111111,
              "#46039f"
             ],
             [
              0.2222222222222222,
              "#7201a8"
             ],
             [
              0.3333333333333333,
              "#9c179e"
             ],
             [
              0.4444444444444444,
              "#bd3786"
             ],
             [
              0.5555555555555556,
              "#d8576b"
             ],
             [
              0.6666666666666666,
              "#ed7953"
             ],
             [
              0.7777777777777778,
              "#fb9f3a"
             ],
             [
              0.8888888888888888,
              "#fdca26"
             ],
             [
              1,
              "#f0f921"
             ]
            ],
            "type": "contour"
           }
          ],
          "contourcarpet": [
           {
            "colorbar": {
             "outlinewidth": 0,
             "ticks": ""
            },
            "type": "contourcarpet"
           }
          ],
          "heatmap": [
           {
            "colorbar": {
             "outlinewidth": 0,
             "ticks": ""
            },
            "colorscale": [
             [
              0,
              "#0d0887"
             ],
             [
              0.1111111111111111,
              "#46039f"
             ],
             [
              0.2222222222222222,
              "#7201a8"
             ],
             [
              0.3333333333333333,
              "#9c179e"
             ],
             [
              0.4444444444444444,
              "#bd3786"
             ],
             [
              0.5555555555555556,
              "#d8576b"
             ],
             [
              0.6666666666666666,
              "#ed7953"
             ],
             [
              0.7777777777777778,
              "#fb9f3a"
             ],
             [
              0.8888888888888888,
              "#fdca26"
             ],
             [
              1,
              "#f0f921"
             ]
            ],
            "type": "heatmap"
           }
          ],
          "heatmapgl": [
           {
            "colorbar": {
             "outlinewidth": 0,
             "ticks": ""
            },
            "colorscale": [
             [
              0,
              "#0d0887"
             ],
             [
              0.1111111111111111,
              "#46039f"
             ],
             [
              0.2222222222222222,
              "#7201a8"
             ],
             [
              0.3333333333333333,
              "#9c179e"
             ],
             [
              0.4444444444444444,
              "#bd3786"
             ],
             [
              0.5555555555555556,
              "#d8576b"
             ],
             [
              0.6666666666666666,
              "#ed7953"
             ],
             [
              0.7777777777777778,
              "#fb9f3a"
             ],
             [
              0.8888888888888888,
              "#fdca26"
             ],
             [
              1,
              "#f0f921"
             ]
            ],
            "type": "heatmapgl"
           }
          ],
          "histogram": [
           {
            "marker": {
             "pattern": {
              "fillmode": "overlay",
              "size": 10,
              "solidity": 0.2
             }
            },
            "type": "histogram"
           }
          ],
          "histogram2d": [
           {
            "colorbar": {
             "outlinewidth": 0,
             "ticks": ""
            },
            "colorscale": [
             [
              0,
              "#0d0887"
             ],
             [
              0.1111111111111111,
              "#46039f"
             ],
             [
              0.2222222222222222,
              "#7201a8"
             ],
             [
              0.3333333333333333,
              "#9c179e"
             ],
             [
              0.4444444444444444,
              "#bd3786"
             ],
             [
              0.5555555555555556,
              "#d8576b"
             ],
             [
              0.6666666666666666,
              "#ed7953"
             ],
             [
              0.7777777777777778,
              "#fb9f3a"
             ],
             [
              0.8888888888888888,
              "#fdca26"
             ],
             [
              1,
              "#f0f921"
             ]
            ],
            "type": "histogram2d"
           }
          ],
          "histogram2dcontour": [
           {
            "colorbar": {
             "outlinewidth": 0,
             "ticks": ""
            },
            "colorscale": [
             [
              0,
              "#0d0887"
             ],
             [
              0.1111111111111111,
              "#46039f"
             ],
             [
              0.2222222222222222,
              "#7201a8"
             ],
             [
              0.3333333333333333,
              "#9c179e"
             ],
             [
              0.4444444444444444,
              "#bd3786"
             ],
             [
              0.5555555555555556,
              "#d8576b"
             ],
             [
              0.6666666666666666,
              "#ed7953"
             ],
             [
              0.7777777777777778,
              "#fb9f3a"
             ],
             [
              0.8888888888888888,
              "#fdca26"
             ],
             [
              1,
              "#f0f921"
             ]
            ],
            "type": "histogram2dcontour"
           }
          ],
          "mesh3d": [
           {
            "colorbar": {
             "outlinewidth": 0,
             "ticks": ""
            },
            "type": "mesh3d"
           }
          ],
          "parcoords": [
           {
            "line": {
             "colorbar": {
              "outlinewidth": 0,
              "ticks": ""
             }
            },
            "type": "parcoords"
           }
          ],
          "pie": [
           {
            "automargin": true,
            "type": "pie"
           }
          ],
          "scatter": [
           {
            "fillpattern": {
             "fillmode": "overlay",
             "size": 10,
             "solidity": 0.2
            },
            "type": "scatter"
           }
          ],
          "scatter3d": [
           {
            "line": {
             "colorbar": {
              "outlinewidth": 0,
              "ticks": ""
             }
            },
            "marker": {
             "colorbar": {
              "outlinewidth": 0,
              "ticks": ""
             }
            },
            "type": "scatter3d"
           }
          ],
          "scattercarpet": [
           {
            "marker": {
             "colorbar": {
              "outlinewidth": 0,
              "ticks": ""
             }
            },
            "type": "scattercarpet"
           }
          ],
          "scattergeo": [
           {
            "marker": {
             "colorbar": {
              "outlinewidth": 0,
              "ticks": ""
             }
            },
            "type": "scattergeo"
           }
          ],
          "scattergl": [
           {
            "marker": {
             "colorbar": {
              "outlinewidth": 0,
              "ticks": ""
             }
            },
            "type": "scattergl"
           }
          ],
          "scattermapbox": [
           {
            "marker": {
             "colorbar": {
              "outlinewidth": 0,
              "ticks": ""
             }
            },
            "type": "scattermapbox"
           }
          ],
          "scatterpolar": [
           {
            "marker": {
             "colorbar": {
              "outlinewidth": 0,
              "ticks": ""
             }
            },
            "type": "scatterpolar"
           }
          ],
          "scatterpolargl": [
           {
            "marker": {
             "colorbar": {
              "outlinewidth": 0,
              "ticks": ""
             }
            },
            "type": "scatterpolargl"
           }
          ],
          "scatterternary": [
           {
            "marker": {
             "colorbar": {
              "outlinewidth": 0,
              "ticks": ""
             }
            },
            "type": "scatterternary"
           }
          ],
          "surface": [
           {
            "colorbar": {
             "outlinewidth": 0,
             "ticks": ""
            },
            "colorscale": [
             [
              0,
              "#0d0887"
             ],
             [
              0.1111111111111111,
              "#46039f"
             ],
             [
              0.2222222222222222,
              "#7201a8"
             ],
             [
              0.3333333333333333,
              "#9c179e"
             ],
             [
              0.4444444444444444,
              "#bd3786"
             ],
             [
              0.5555555555555556,
              "#d8576b"
             ],
             [
              0.6666666666666666,
              "#ed7953"
             ],
             [
              0.7777777777777778,
              "#fb9f3a"
             ],
             [
              0.8888888888888888,
              "#fdca26"
             ],
             [
              1,
              "#f0f921"
             ]
            ],
            "type": "surface"
           }
          ],
          "table": [
           {
            "cells": {
             "fill": {
              "color": "#EBF0F8"
             },
             "line": {
              "color": "white"
             }
            },
            "header": {
             "fill": {
              "color": "#C8D4E3"
             },
             "line": {
              "color": "white"
             }
            },
            "type": "table"
           }
          ]
         },
         "layout": {
          "annotationdefaults": {
           "arrowcolor": "#2a3f5f",
           "arrowhead": 0,
           "arrowwidth": 1
          },
          "autotypenumbers": "strict",
          "coloraxis": {
           "colorbar": {
            "outlinewidth": 0,
            "ticks": ""
           }
          },
          "colorscale": {
           "diverging": [
            [
             0,
             "#8e0152"
            ],
            [
             0.1,
             "#c51b7d"
            ],
            [
             0.2,
             "#de77ae"
            ],
            [
             0.3,
             "#f1b6da"
            ],
            [
             0.4,
             "#fde0ef"
            ],
            [
             0.5,
             "#f7f7f7"
            ],
            [
             0.6,
             "#e6f5d0"
            ],
            [
             0.7,
             "#b8e186"
            ],
            [
             0.8,
             "#7fbc41"
            ],
            [
             0.9,
             "#4d9221"
            ],
            [
             1,
             "#276419"
            ]
           ],
           "sequential": [
            [
             0,
             "#0d0887"
            ],
            [
             0.1111111111111111,
             "#46039f"
            ],
            [
             0.2222222222222222,
             "#7201a8"
            ],
            [
             0.3333333333333333,
             "#9c179e"
            ],
            [
             0.4444444444444444,
             "#bd3786"
            ],
            [
             0.5555555555555556,
             "#d8576b"
            ],
            [
             0.6666666666666666,
             "#ed7953"
            ],
            [
             0.7777777777777778,
             "#fb9f3a"
            ],
            [
             0.8888888888888888,
             "#fdca26"
            ],
            [
             1,
             "#f0f921"
            ]
           ],
           "sequentialminus": [
            [
             0,
             "#0d0887"
            ],
            [
             0.1111111111111111,
             "#46039f"
            ],
            [
             0.2222222222222222,
             "#7201a8"
            ],
            [
             0.3333333333333333,
             "#9c179e"
            ],
            [
             0.4444444444444444,
             "#bd3786"
            ],
            [
             0.5555555555555556,
             "#d8576b"
            ],
            [
             0.6666666666666666,
             "#ed7953"
            ],
            [
             0.7777777777777778,
             "#fb9f3a"
            ],
            [
             0.8888888888888888,
             "#fdca26"
            ],
            [
             1,
             "#f0f921"
            ]
           ]
          },
          "colorway": [
           "#636efa",
           "#EF553B",
           "#00cc96",
           "#ab63fa",
           "#FFA15A",
           "#19d3f3",
           "#FF6692",
           "#B6E880",
           "#FF97FF",
           "#FECB52"
          ],
          "font": {
           "color": "#2a3f5f"
          },
          "geo": {
           "bgcolor": "white",
           "lakecolor": "white",
           "landcolor": "#E5ECF6",
           "showlakes": true,
           "showland": true,
           "subunitcolor": "white"
          },
          "hoverlabel": {
           "align": "left"
          },
          "hovermode": "closest",
          "mapbox": {
           "style": "light"
          },
          "paper_bgcolor": "white",
          "plot_bgcolor": "#E5ECF6",
          "polar": {
           "angularaxis": {
            "gridcolor": "white",
            "linecolor": "white",
            "ticks": ""
           },
           "bgcolor": "#E5ECF6",
           "radialaxis": {
            "gridcolor": "white",
            "linecolor": "white",
            "ticks": ""
           }
          },
          "scene": {
           "xaxis": {
            "backgroundcolor": "#E5ECF6",
            "gridcolor": "white",
            "gridwidth": 2,
            "linecolor": "white",
            "showbackground": true,
            "ticks": "",
            "zerolinecolor": "white"
           },
           "yaxis": {
            "backgroundcolor": "#E5ECF6",
            "gridcolor": "white",
            "gridwidth": 2,
            "linecolor": "white",
            "showbackground": true,
            "ticks": "",
            "zerolinecolor": "white"
           },
           "zaxis": {
            "backgroundcolor": "#E5ECF6",
            "gridcolor": "white",
            "gridwidth": 2,
            "linecolor": "white",
            "showbackground": true,
            "ticks": "",
            "zerolinecolor": "white"
           }
          },
          "shapedefaults": {
           "line": {
            "color": "#2a3f5f"
           }
          },
          "ternary": {
           "aaxis": {
            "gridcolor": "white",
            "linecolor": "white",
            "ticks": ""
           },
           "baxis": {
            "gridcolor": "white",
            "linecolor": "white",
            "ticks": ""
           },
           "bgcolor": "#E5ECF6",
           "caxis": {
            "gridcolor": "white",
            "linecolor": "white",
            "ticks": ""
           }
          },
          "title": {
           "x": 0.05
          },
          "xaxis": {
           "automargin": true,
           "gridcolor": "white",
           "linecolor": "white",
           "ticks": "",
           "title": {
            "standoff": 15
           },
           "zerolinecolor": "white",
           "zerolinewidth": 2
          },
          "yaxis": {
           "automargin": true,
           "gridcolor": "white",
           "linecolor": "white",
           "ticks": "",
           "title": {
            "standoff": 15
           },
           "zerolinecolor": "white",
           "zerolinewidth": 2
          }
         }
        },
        "title": {
         "text": "S1 injections counts by hemisphere, both p6 (n=2) and p7 (n=1)"
        },
        "violinmode": "group",
        "xaxis": {
         "anchor": "y",
         "categoryarray": [
          "Retrosplenial area",
          "Visual areas",
          "Striatum",
          "Posterior parietal association areas",
          "Somatosensory areas",
          "Hippocampal region",
          "Piriform area",
          "Retrohippocampal region",
          "Main olfactory bulb",
          "Midbrain",
          "Thalamus",
          "Somatomotor areas",
          "Auditory areas",
          "ventricular systems",
          "root",
          "Temporal association areas",
          "Agranular insular area",
          "Gustatory areas",
          "Hypothalamus",
          "Postpiriform transition area",
          "Visceral area",
          "Anterior cingulate area",
          "Pallidum",
          "Ectorhinal area",
          "Orbital area",
          "Anterior olfactory nucleus",
          "Perirhinal area",
          "Cortical subplate",
          "Prelimbic area",
          "Accessory olfactory bulb",
          "Piriform-amygdalar area",
          "Nucleus of the lateral olfactory tract",
          "Infralimbic area",
          "Cortical amygdalar area",
          "Taenia tecta",
          "Frontal pole",
          "Dorsal peduncular area"
         ],
         "categoryorder": "array",
         "domain": [
          0,
          1
         ],
         "title": {
          "text": "General area"
         }
        },
        "yaxis": {
         "anchor": "x",
         "domain": [
          0,
          1
         ],
         "title": {
          "text": "count"
         }
        }
       }
      }
     },
     "metadata": {},
     "output_type": "display_data"
    }
   ],
   "source": [
    "plot_count(big_file_S1_injections_long, \"S1 injections counts by hemisphere, both p6 (n=2) and p7 (n=1)\", area_order_count)"
   ]
  },
  {
   "cell_type": "code",
   "execution_count": 103,
   "id": "39f9f295",
   "metadata": {},
   "outputs": [
    {
     "data": {
      "application/vnd.plotly.v1+json": {
       "config": {
        "plotlyServerURL": "https://plot.ly"
       },
       "data": [
        {
         "alignmentgroup": "True",
         "box": {
          "visible": true
         },
         "hovertemplate": "Hemisphere=ipsilateral<br>General area=%{x}<br>scaled count=%{y}<extra></extra>",
         "legendgroup": "ipsilateral",
         "marker": {
          "color": "magenta"
         },
         "meanline": {
          "visible": true
         },
         "name": "ipsilateral",
         "offsetgroup": "ipsilateral",
         "orientation": "v",
         "points": "all",
         "scalegroup": "True",
         "showlegend": true,
         "type": "violin",
         "x": [
          "Main olfactory bulb",
          "Main olfactory bulb",
          "Main olfactory bulb",
          "Main olfactory bulb",
          "Main olfactory bulb",
          "Accessory olfactory bulb",
          "Frontal pole",
          "Somatomotor areas",
          "Orbital area",
          "Orbital area",
          "Orbital area",
          "Orbital area",
          "Orbital area",
          "Prelimbic area",
          "Prelimbic area",
          "Somatomotor areas",
          "Anterior olfactory nucleus",
          "Somatomotor areas",
          "Prelimbic area",
          "Somatomotor areas",
          "Agranular insular area",
          "Agranular insular area",
          "Somatomotor areas",
          "Agranular insular area",
          "Anterior cingulate area",
          "Somatomotor areas",
          "Somatomotor areas",
          "Somatomotor areas",
          "Infralimbic area",
          "Taenia tecta",
          "Anterior cingulate area",
          "Agranular insular area",
          "Anterior cingulate area",
          "Piriform area",
          "Anterior cingulate area",
          "Agranular insular area",
          "Taenia tecta",
          "Prelimbic area",
          "Striatum",
          "Striatum",
          "Somatosensory areas",
          "Somatosensory areas",
          "Anterior cingulate area",
          "Striatum",
          "Somatosensory areas",
          "Gustatory areas",
          "Gustatory areas",
          "Retrosplenial area",
          "Retrosplenial area",
          "Retrosplenial area",
          "Retrosplenial area",
          "ventricular systems",
          "Retrosplenial area",
          "Agranular insular area",
          "Visceral area",
          "Retrosplenial area",
          "Retrosplenial area",
          "Posterior parietal association areas",
          "Pallidum",
          "Thalamus",
          "ventricular systems",
          "Visceral area",
          "Visceral area",
          "Thalamus",
          "Pallidum",
          "Thalamus",
          "Visual areas",
          "Thalamus",
          "Visceral area",
          "Posterior parietal association areas",
          "Hippocampal region",
          "Hippocampal region",
          "Posterior parietal association areas",
          "Somatosensory areas",
          "Thalamus",
          "Thalamus",
          "Thalamus",
          "Cortical amygdalar area",
          "Agranular insular area",
          "Thalamus",
          "Hippocampal region",
          "Hippocampal region",
          "Thalamus",
          "Piriform-amygdalar area",
          "Visual areas",
          "Visceral area",
          "Thalamus",
          "Hypothalamus",
          "Thalamus",
          "Visual areas",
          "Retrosplenial area",
          "Visual areas",
          "Posterior parietal association areas",
          "Auditory areas",
          "Visual areas",
          "Temporal association areas",
          "Thalamus",
          "Temporal association areas",
          "Ectorhinal area",
          "Perirhinal area",
          "Visual areas",
          "Auditory areas",
          "Ectorhinal area",
          "Auditory areas",
          "Cortical subplate",
          "Retrohippocampal region",
          "Thalamus",
          "Auditory areas",
          "Visual areas",
          "Thalamus",
          "root",
          "Perirhinal area",
          "Midbrain",
          "Visual areas",
          "Hypothalamus",
          "Cortical amygdalar area",
          "Thalamus",
          "Temporal association areas",
          "Retrohippocampal region",
          "Auditory areas",
          "Auditory areas",
          "Midbrain",
          "Retrohippocampal region",
          "Auditory areas",
          "Auditory areas",
          "Ectorhinal area",
          "Auditory areas",
          "Retrosplenial area",
          "Midbrain",
          "Auditory areas",
          "Hypothalamus",
          "Retrosplenial area",
          "Postpiriform transition area",
          "Midbrain",
          "Visual areas",
          "Midbrain",
          "Hypothalamus",
          "Hypothalamus",
          "Midbrain",
          "Hippocampal region",
          "Visual areas",
          "Visual areas",
          "Hippocampal region",
          "Visual areas",
          "Temporal association areas",
          "Temporal association areas",
          "Ectorhinal area",
          "Visual areas",
          "Midbrain",
          "Midbrain",
          "Midbrain",
          "Midbrain",
          "Retrohippocampal region",
          "Midbrain",
          "Midbrain",
          "Orbital area",
          "Frontal pole",
          "Orbital area",
          "Gustatory areas",
          "Agranular insular area",
          "Agranular insular area",
          "Gustatory areas",
          "Somatosensory areas",
          "ventricular systems",
          "Striatum",
          "Pallidum",
          "Striatum",
          "Cortical subplate",
          "Retrosplenial area",
          "Retrosplenial area",
          "Hypothalamus",
          "Pallidum",
          "Posterior parietal association areas",
          "Hypothalamus",
          "Hippocampal region",
          "Somatosensory areas",
          "Hippocampal region",
          "Posterior parietal association areas",
          "Posterior parietal association areas",
          "Posterior parietal association areas",
          "Hypothalamus",
          "Pallidum",
          "Visual areas",
          "Posterior parietal association areas",
          "Visual areas",
          "Posterior parietal association areas",
          "Hippocampal region",
          "Visual areas",
          "Hypothalamus",
          "Hippocampal region",
          "Agranular insular area",
          "Posterior parietal association areas",
          "Thalamus",
          "Thalamus",
          "Pallidum",
          "Visual areas",
          "Auditory areas",
          "Posterior parietal association areas",
          "Visual areas",
          "Auditory areas",
          "Thalamus",
          "Auditory areas",
          "Thalamus",
          "Thalamus",
          "Visual areas",
          "Thalamus",
          "Visual areas",
          "Cortical subplate",
          "Hippocampal region",
          "Retrosplenial area",
          "Visual areas",
          "Retrosplenial area",
          "Auditory areas",
          "Thalamus",
          "Auditory areas",
          "Auditory areas",
          "Visual areas",
          "Visual areas",
          "Visual areas",
          "Auditory areas",
          "Hypothalamus",
          "Thalamus",
          "Pallidum",
          "Retrohippocampal region",
          "Thalamus",
          "Retrohippocampal region",
          "Thalamus",
          "Thalamus",
          "Cortical subplate",
          "Thalamus",
          "Retrohippocampal region",
          "Thalamus",
          "Auditory areas",
          "Thalamus",
          "Auditory areas",
          "Hypothalamus",
          "Auditory areas",
          "Thalamus",
          "Visual areas",
          "Thalamus",
          "Hypothalamus",
          "Visual areas",
          "Thalamus",
          "Thalamus",
          "Visual areas",
          "Visual areas",
          "Thalamus",
          "Visual areas",
          "Thalamus",
          "Striatum",
          "Midbrain",
          "Midbrain",
          "Auditory areas",
          "Visual areas",
          "Midbrain",
          "Retrohippocampal region",
          "Retrohippocampal region",
          "Visual areas",
          "Thalamus",
          "Midbrain",
          "Hypothalamus",
          "Midbrain",
          "Visual areas",
          "Midbrain",
          "Midbrain",
          "Retrohippocampal region",
          "Midbrain",
          "Retrohippocampal region",
          "Hypothalamus",
          "Midbrain",
          "Perirhinal area",
          "Main olfactory bulb",
          "Main olfactory bulb",
          "Main olfactory bulb",
          "Main olfactory bulb",
          "Main olfactory bulb",
          "Accessory olfactory bulb",
          "Frontal pole",
          "Accessory olfactory bulb",
          "Frontal pole",
          "Somatomotor areas",
          "Somatomotor areas",
          "Prelimbic area",
          "Orbital area",
          "Somatomotor areas",
          "Orbital area",
          "Orbital area",
          "Orbital area",
          "Orbital area",
          "Orbital area",
          "Orbital area",
          "Orbital area",
          "Somatomotor areas",
          "Prelimbic area",
          "Prelimbic area",
          "Somatomotor areas",
          "Anterior cingulate area",
          "Agranular insular area",
          "Somatomotor areas",
          "Anterior olfactory nucleus",
          "Somatomotor areas",
          "Anterior cingulate area",
          "Agranular insular area",
          "Somatomotor areas",
          "Anterior cingulate area",
          "Anterior cingulate area",
          "Striatum",
          "Piriform area",
          "Anterior cingulate area",
          "Anterior cingulate area",
          "Agranular insular area",
          "Taenia tecta",
          "Agranular insular area",
          "Somatosensory areas",
          "Striatum",
          "Gustatory areas",
          "ventricular systems",
          "Somatomotor areas",
          "Somatosensory areas",
          "Pallidum",
          "Visceral area",
          "Visceral area",
          "ventricular systems",
          "Retrosplenial area",
          "Somatosensory areas",
          "Somatosensory areas",
          "Somatosensory areas",
          "Retrosplenial area",
          "Retrosplenial area",
          "Retrosplenial area",
          "Retrosplenial area",
          "Retrosplenial area",
          "Striatum",
          "Retrosplenial area",
          "Retrosplenial area",
          "Retrosplenial area",
          "Somatosensory areas",
          "Striatum",
          "Retrosplenial area",
          "Gustatory areas",
          "Thalamus",
          "ventricular systems",
          "Agranular insular area",
          "Posterior parietal association areas",
          "root",
          "Thalamus",
          "Hippocampal region",
          "Posterior parietal association areas",
          "Thalamus",
          "Thalamus",
          "Retrosplenial area",
          "Thalamus",
          "Visceral area",
          "Thalamus",
          "Agranular insular area",
          "Thalamus",
          "Posterior parietal association areas",
          "Visceral area",
          "Posterior parietal association areas",
          "Posterior parietal association areas",
          "Visual areas",
          "Thalamus",
          "Hippocampal region",
          "Thalamus",
          "Posterior parietal association areas",
          "Thalamus",
          "Visual areas",
          "Thalamus",
          "Thalamus",
          "Thalamus",
          "Thalamus",
          "Agranular insular area",
          "Thalamus",
          "Cortical subplate",
          "Auditory areas",
          "Posterior parietal association areas",
          "Auditory areas",
          "Retrosplenial area",
          "Thalamus",
          "Ectorhinal area",
          "Ectorhinal area",
          "Auditory areas",
          "Posterior parietal association areas",
          "Visual areas",
          "Temporal association areas",
          "Posterior parietal association areas",
          "Temporal association areas",
          "Ectorhinal area",
          "Auditory areas",
          "Visual areas",
          "Visual areas",
          "Visual areas",
          "Visual areas",
          "Visual areas",
          "Posterior parietal association areas",
          "Thalamus",
          "Visual areas",
          "Temporal association areas",
          "Cortical subplate",
          "Ectorhinal area",
          "Hippocampal region",
          "Auditory areas",
          "Visual areas",
          "Auditory areas",
          "Thalamus",
          "Retrohippocampal region",
          "Visual areas",
          "Retrohippocampal region",
          "Midbrain",
          "Thalamus",
          "Temporal association areas",
          "Auditory areas",
          "Perirhinal area",
          "Auditory areas",
          "Perirhinal area",
          "Visual areas",
          "Retrohippocampal region",
          "Visual areas",
          "Hypothalamus",
          "Visual areas",
          "Visual areas",
          "Retrohippocampal region",
          "Perirhinal area",
          "Hypothalamus",
          "Postpiriform transition area",
          "Hypothalamus",
          "Visual areas",
          "Visual areas",
          "Retrohippocampal region",
          "Auditory areas",
          "Midbrain",
          "Hypothalamus",
          "Visual areas",
          "Retrohippocampal region",
          "Visual areas",
          "Visual areas",
          "Temporal association areas",
          "Visual areas",
          "Visual areas",
          "Retrohippocampal region",
          "Visual areas",
          "Midbrain",
          "Accessory olfactory bulb",
          "Frontal pole",
          "Orbital area",
          "Orbital area",
          "Orbital area",
          "Infralimbic area",
          "Agranular insular area",
          "Gustatory areas",
          "Gustatory areas",
          "Taenia tecta",
          "Prelimbic area",
          "Dorsal peduncular area",
          "Pallidum",
          "Striatum",
          "Agranular insular area",
          "Hypothalamus",
          "Hypothalamus",
          "Hippocampal region",
          "Thalamus",
          "Hippocampal region",
          "Hippocampal region",
          "Thalamus",
          "Hippocampal region",
          "Retrosplenial area",
          "Thalamus",
          "Pallidum",
          "Hippocampal region",
          "Hippocampal region",
          "Posterior parietal association areas",
          "ventricular systems",
          "Posterior parietal association areas",
          "Hippocampal region",
          "Visual areas",
          "Hippocampal region",
          "Visceral area",
          "Cortical subplate",
          "Piriform-amygdalar area",
          "Thalamus",
          "Pallidum",
          "Hypothalamus",
          "Thalamus",
          "Auditory areas",
          "Thalamus",
          "Auditory areas",
          "Thalamus",
          "Retrosplenial area",
          "Visual areas",
          "Auditory areas",
          "Auditory areas",
          "Auditory areas",
          "Hippocampal region",
          "Thalamus",
          "Cortical amygdalar area",
          "Thalamus",
          "Thalamus",
          "Retrosplenial area",
          "Auditory areas",
          "Auditory areas",
          "Auditory areas",
          "Auditory areas",
          "Visual areas",
          "Auditory areas",
          "Retrohippocampal region",
          "Auditory areas",
          "Cortical subplate",
          "Cortical subplate",
          "Hippocampal region",
          "Visual areas",
          "Visual areas",
          "Visual areas",
          "Visual areas",
          "Thalamus",
          "Visual areas",
          "Thalamus",
          "Thalamus",
          "Pallidum",
          "Visual areas",
          "Hypothalamus",
          "Auditory areas",
          "Auditory areas",
          "Retrohippocampal region",
          "Hypothalamus",
          "Auditory areas",
          "Cortical subplate",
          "Thalamus",
          "Hypothalamus",
          "Visual areas",
          "Visual areas",
          "Visual areas",
          "Thalamus",
          "Thalamus",
          "Cortical amygdalar area",
          "Thalamus",
          "Thalamus",
          "Visual areas",
          "Midbrain",
          "Visual areas",
          "Hypothalamus",
          "Hypothalamus",
          "Visual areas",
          "Hypothalamus",
          "Thalamus",
          "Hypothalamus",
          "Midbrain",
          "Midbrain",
          "Visual areas",
          "Midbrain",
          "Midbrain",
          "Midbrain",
          "Midbrain",
          "Visual areas",
          "Visual areas",
          "Main olfactory bulb",
          "Main olfactory bulb",
          "Main olfactory bulb",
          "Main olfactory bulb",
          "Frontal pole",
          "Somatomotor areas",
          "Orbital area",
          "Somatomotor areas",
          "Agranular insular area",
          "Anterior olfactory nucleus",
          "Accessory olfactory bulb",
          "Orbital area",
          "Prelimbic area",
          "Orbital area",
          "Orbital area",
          "Orbital area",
          "Orbital area",
          "Somatomotor areas",
          "Somatomotor areas",
          "Somatomotor areas",
          "Agranular insular area",
          "Piriform area",
          "Orbital area",
          "Somatomotor areas",
          "Somatosensory areas",
          "Anterior cingulate area",
          "Striatum",
          "Striatum",
          "Somatosensory areas",
          "Anterior cingulate area",
          "ventricular systems",
          "Retrosplenial area",
          "Somatosensory areas",
          "Retrosplenial area",
          "Visceral area",
          "Retrosplenial area",
          "Retrosplenial area",
          "Thalamus",
          "Somatosensory areas",
          "Thalamus",
          "Thalamus",
          "Retrosplenial area",
          "Visceral area",
          "Hippocampal region",
          "Agranular insular area",
          "Thalamus",
          "Posterior parietal association areas",
          "Hippocampal region",
          "Thalamus",
          "Retrosplenial area",
          "Thalamus",
          "Thalamus",
          "Posterior parietal association areas",
          "Visual areas",
          "Thalamus",
          "Somatosensory areas",
          "Agranular insular area",
          "Thalamus",
          "Posterior parietal association areas",
          "Thalamus",
          "Posterior parietal association areas",
          "Visual areas",
          "Cortical subplate",
          "Posterior parietal association areas",
          "Thalamus",
          "Ectorhinal area",
          "Retrohippocampal region",
          "Ectorhinal area",
          "Temporal association areas",
          "Temporal association areas",
          "Thalamus",
          "Hypothalamus",
          "Hypothalamus",
          "Striatum",
          "Hypothalamus",
          "Visual areas",
          "Thalamus",
          "Auditory areas",
          "Visual areas",
          "Cortical subplate",
          "Hippocampal region",
          "Retrohippocampal region",
          "Visual areas",
          "Thalamus",
          "Auditory areas",
          "Posterior parietal association areas",
          "Retrosplenial area",
          "Ectorhinal area",
          "Retrosplenial area",
          "Auditory areas",
          "Temporal association areas",
          "Visual areas",
          "Auditory areas",
          "Visual areas",
          "Auditory areas",
          "Auditory areas",
          "Retrosplenial area",
          "Thalamus",
          "Thalamus",
          "Retrosplenial area",
          "Visual areas",
          "Retrohippocampal region",
          "Midbrain",
          "Hypothalamus",
          "root",
          "Visual areas",
          "Auditory areas",
          "Perirhinal area",
          "Retrosplenial area",
          "Visual areas",
          "Thalamus",
          "Auditory areas",
          "Perirhinal area",
          "Hippocampal region",
          "Hypothalamus",
          "Retrohippocampal region",
          "Thalamus",
          "Cortical amygdalar area",
          "Hypothalamus",
          "Thalamus",
          "Postpiriform transition area",
          "Visual areas",
          "Retrohippocampal region",
          "Hippocampal region",
          "Visual areas",
          "Retrohippocampal region",
          "Retrosplenial area",
          "Visual areas",
          "Retrohippocampal region",
          "Midbrain",
          "Auditory areas",
          "Auditory areas",
          "Retrohippocampal region",
          "Temporal association areas",
          "Midbrain",
          "Midbrain",
          "Visual areas",
          "Hippocampal region",
          "Visual areas",
          "Midbrain",
          "Midbrain",
          "Visual areas",
          "Midbrain",
          "Midbrain",
          "Visual areas",
          "Main olfactory bulb",
          "Accessory olfactory bulb",
          "Accessory olfactory bulb",
          "Orbital area",
          "Orbital area",
          "Prelimbic area",
          "Somatomotor areas",
          "Anterior cingulate area",
          "Taenia tecta",
          "Anterior cingulate area",
          "Prelimbic area",
          "Agranular insular area",
          "Infralimbic area",
          "Agranular insular area",
          "Somatomotor areas",
          "Striatum",
          "Somatomotor areas",
          "Anterior cingulate area",
          "Striatum",
          "Pallidum",
          "Agranular insular area",
          "Pallidum",
          "Striatum",
          "Visceral area",
          "Hypothalamus",
          "Striatum",
          "Gustatory areas",
          "Somatosensory areas",
          "Striatum",
          "Cortical subplate",
          "Pallidum",
          "ventricular systems",
          "Cortical subplate",
          "Agranular insular area",
          "Posterior parietal association areas",
          "Pallidum",
          "Posterior parietal association areas",
          "Thalamus",
          "Nucleus of the lateral olfactory tract",
          "Nucleus of the lateral olfactory tract",
          "Visceral area",
          "Posterior parietal association areas",
          "Pallidum",
          "Visceral area",
          "Posterior parietal association areas",
          "Posterior parietal association areas",
          "Thalamus",
          "Visceral area",
          "Visual areas",
          "Thalamus",
          "Thalamus",
          "Auditory areas",
          "Auditory areas",
          "Auditory areas",
          "Visual areas",
          "Auditory areas",
          "Auditory areas",
          "Cortical subplate",
          "Auditory areas",
          "Posterior parietal association areas",
          "Visual areas",
          "Auditory areas",
          "Agranular insular area",
          "Thalamus",
          "Visual areas",
          "Striatum",
          "Visual areas",
          "Auditory areas",
          "Thalamus",
          "Temporal association areas",
          "Thalamus",
          "Auditory areas",
          "Cortical subplate",
          "Visual areas",
          "Thalamus",
          "Perirhinal area",
          "Auditory areas",
          "Thalamus",
          "Temporal association areas",
          "Visual areas",
          "Cortical subplate",
          "Hypothalamus",
          "Visual areas",
          "Hypothalamus",
          "Visual areas",
          "Visual areas",
          "Visual areas",
          "Thalamus",
          "Thalamus",
          "Visual areas",
          "Thalamus",
          "Piriform-amygdalar area",
          "Auditory areas",
          "Auditory areas",
          "Hypothalamus",
          "Auditory areas",
          "Hypothalamus",
          "Visual areas",
          "Thalamus",
          "Ectorhinal area",
          "Hippocampal region",
          "Visual areas",
          "Thalamus",
          "Visual areas",
          "Cortical amygdalar area",
          "Visual areas",
          "Visual areas",
          "Midbrain",
          "Hippocampal region",
          "Visual areas",
          "Hippocampal region",
          "Thalamus",
          "Visual areas",
          "Hypothalamus",
          "Midbrain",
          "Thalamus",
          "Midbrain",
          "Thalamus",
          "Midbrain",
          "Visual areas",
          "Thalamus",
          "Thalamus",
          "Visual areas",
          "Retrohippocampal region",
          "Midbrain",
          "Midbrain",
          "Visual areas",
          "Midbrain",
          "Retrohippocampal region",
          "Retrosplenial area",
          "Retrohippocampal region",
          "Midbrain"
         ],
         "x0": " ",
         "xaxis": "x",
         "y": [
          0.4175084175084175,
          1.265993265993266,
          0.8754208754208754,
          0.43097643097643096,
          0.40404040404040403,
          0.10774410774410774,
          0.013468013468013467,
          0.49831649831649827,
          0.026936026936026935,
          0.013468013468013467,
          0.026936026936026935,
          0.013468013468013467,
          0.026936026936026935,
          0.0404040404040404,
          0.013468013468013467,
          0.22895622895622894,
          0.18855218855218855,
          0.2558922558922559,
          0.0404040404040404,
          1.1717171717171717,
          0.20202020202020202,
          0.026936026936026935,
          0.8215488215488215,
          0.0808080808080808,
          0.0808080808080808,
          0.0808080808080808,
          0.1616161616161616,
          0.2558922558922559,
          0.026936026936026935,
          0.0404040404040404,
          0.026936026936026935,
          0.10774410774410774,
          0.013468013468013467,
          1.4814814814814814,
          0.026936026936026935,
          0.0404040404040404,
          0.0404040404040404,
          0.013468013468013467,
          0.3232323232323232,
          0.18855218855218855,
          3.6363636363636362,
          3.784511784511784,
          0.13468013468013468,
          0.013468013468013467,
          2.074074074074074,
          0.0808080808080808,
          0.013468013468013467,
          1.2794612794612794,
          0.6195286195286195,
          0.18855218855218855,
          2.0067340067340065,
          0.40404040404040403,
          0.9427609427609427,
          0.33670033670033667,
          0.2558922558922559,
          1.4949494949494948,
          1.4276094276094276,
          0.7946127946127945,
          0.10774410774410774,
          0.30976430976430974,
          0.0404040404040404,
          0.13468013468013468,
          0.13468013468013468,
          0.026936026936026935,
          0.026936026936026935,
          0.0404040404040404,
          0.835016835016835,
          0.0404040404040404,
          0.06734006734006734,
          2.127946127946128,
          0.1616161616161616,
          1.239057239057239,
          2.154882154882155,
          1.7104377104377104,
          0.30976430976430974,
          0.4175084175084175,
          0.0808080808080808,
          0.05387205387205387,
          0.22895622895622894,
          0.18855218855218855,
          0.013468013468013467,
          0.1212121212121212,
          0.1212121212121212,
          0.06734006734006734,
          0.3232323232323232,
          0.026936026936026935,
          0.2558922558922559,
          0.2828282828282828,
          0.2962962962962963,
          2.3703703703703702,
          0.09427609427609428,
          0.2962962962962963,
          0.2962962962962963,
          0.1212121212121212,
          1.6835016835016834,
          0.0808080808080808,
          0.0808080808080808,
          0.026936026936026935,
          0.06734006734006734,
          0.09427609427609428,
          0.8215488215488215,
          0.30976430976430974,
          0.13468013468013468,
          0.6599326599326599,
          0.06734006734006734,
          0.1616161616161616,
          0.20202020202020202,
          0.6464646464646464,
          0.835016835016835,
          0.1616161616161616,
          0.5521885521885521,
          0.013468013468013467,
          0.7542087542087542,
          0.2558922558922559,
          0.20202020202020202,
          0.0404040404040404,
          0.026936026936026935,
          0.06734006734006734,
          0.40404040404040403,
          0.026936026936026935,
          0.013468013468013467,
          0.0808080808080808,
          0.09427609427609428,
          0.40404040404040403,
          0.09427609427609428,
          0.0404040404040404,
          0.1616161616161616,
          0.21548821548821548,
          0.14814814814814814,
          0.0404040404040404,
          0.2962962962962963,
          0.21548821548821548,
          0.1616161616161616,
          0.14814814814814814,
          0.5925925925925926,
          0.4175084175084175,
          0.05387205387205387,
          0.22895622895622894,
          0.026936026936026935,
          0.013468013468013467,
          2.5723905723905722,
          0.05387205387205387,
          0.4848484848484848,
          0.13468013468013468,
          0.22895622895622894,
          0.39057239057239057,
          0.013468013468013467,
          0.3232323232323232,
          0.013468013468013467,
          0.2424242424242424,
          0.06734006734006734,
          0.026936026936026935,
          0.026936026936026935,
          0.09427609427609428,
          0.0404040404040404,
          0.05387205387205387,
          0.013468013468013467,
          0.1212121212121212,
          0.36363636363636365,
          0.026936026936026935,
          0.013468013468013467,
          0.0404040404040404,
          1.9663299663299663,
          0.09427609427609428,
          0.026936026936026935,
          0.05387205387205387,
          0.013468013468013467,
          0.06734006734006734,
          0.14814814814814814,
          0.835016835016835,
          0.05387205387205387,
          0.013468013468013467,
          0.8484848484848484,
          0.013468013468013467,
          0.09427609427609428,
          0.10774410774410774,
          0.013468013468013467,
          1.1582491582491583,
          0.40404040404040403,
          1.0235690235690236,
          0.013468013468013467,
          0.026936026936026935,
          0.22895622895622894,
          0.14814814814814814,
          0.5387205387205387,
          0.6195286195286195,
          0.013468013468013467,
          0.40404040404040403,
          0.09427609427609428,
          0.06734006734006734,
          0.013468013468013467,
          0.5117845117845118,
          0.026936026936026935,
          0.10774410774410774,
          0.013468013468013467,
          0.4444444444444444,
          0.5656565656565656,
          0.06734006734006734,
          1.643097643097643,
          0.6464646464646464,
          0.013468013468013467,
          0.2424242424242424,
          0.0404040404040404,
          0.026936026936026935,
          0.0808080808080808,
          0.2558922558922559,
          0.026936026936026935,
          0.0808080808080808,
          0.026936026936026935,
          0.026936026936026935,
          0.1616161616161616,
          0.013468013468013467,
          0.06734006734006734,
          0.0808080808080808,
          0.30976430976430974,
          0.0808080808080808,
          0.2558922558922559,
          0.26936026936026936,
          0.2828282828282828,
          0.14814814814814814,
          0.013468013468013467,
          0.14814814814814814,
          0.026936026936026935,
          0.013468013468013467,
          0.013468013468013467,
          0.17508417508417506,
          0.026936026936026935,
          0.026936026936026935,
          0.013468013468013467,
          0.026936026936026935,
          0.35016835016835013,
          0.0404040404040404,
          0.05387205387205387,
          0.0404040404040404,
          0.026936026936026935,
          0.013468013468013467,
          0.06734006734006734,
          0.05387205387205387,
          0.05387205387205387,
          0.013468013468013467,
          0.0404040404040404,
          0.026936026936026935,
          0.0808080808080808,
          0.013468013468013467,
          0.0808080808080808,
          0.06734006734006734,
          0.026936026936026935,
          0.05387205387205387,
          0.026936026936026935,
          0.026936026936026935,
          0.05387205387205387,
          0.013468013468013467,
          0.026936026936026935,
          0.1616161616161616,
          0.4175084175084175,
          0.0808080808080808,
          0.05387205387205387,
          0.013468013468013467,
          0.026936026936026935,
          0.026936026936026935,
          0.026936026936026935,
          0.013468013468013467,
          0.0808080808080808,
          0.0404040404040404,
          0.0808080808080808,
          0.013468013468013467,
          0.0404040404040404,
          0.013468013468013467,
          0.06734006734006734,
          0.013468013468013467,
          0.013468013468013467,
          0.2435973401803937,
          0.03950227138060439,
          0.04608598327737178,
          0.15142537362565014,
          0.4279412732898808,
          0.013167423793534794,
          0.006583711896767397,
          0.03950227138060439,
          0.013167423793534794,
          0.2699321877674633,
          0.17776022121271973,
          0.02633484758706959,
          0.05925340707090657,
          0.5859503588122984,
          0.05266969517413918,
          0.03950227138060439,
          0.03950227138060439,
          0.05266969517413918,
          0.09875567845151095,
          0.032918559483836984,
          0.013167423793534794,
          0.13825794983211534,
          0.05266969517413918,
          0.019751135690302193,
          0.4871946803607874,
          0.02633484758706959,
          0.08558825465797616,
          0.29626703535453286,
          0.07242083086444137,
          0.4081901375995786,
          0.11850681414181315,
          0.04608598327737178,
          0.34235301863190465,
          0.006583711896767397,
          0.02633484758706959,
          0.032918559483836984,
          0.8032128514056225,
          0.032918559483836984,
          0.013167423793534794,
          0.04608598327737178,
          0.013167423793534794,
          0.013167423793534794,
          1.1653170057278293,
          3.153597998551583,
          0.07900454276120877,
          0.44769240898018303,
          0.013167423793534794,
          1.9553624333399169,
          0.04608598327737178,
          0.006583711896767397,
          0.02633484758706959,
          0.019751135690302193,
          1.507670024359734,
          0.7505431562314833,
          1.3035749555599447,
          1.11264731055369,
          1.3628283626308513,
          0.6452037658832049,
          0.4411086970834156,
          2.37671999473303,
          4.154322206860227,
          0.032918559483836984,
          0.8558825465797616,
          3.798801764434788,
          1.639344262295082,
          0.40160642570281124,
          0.013167423793534794,
          0.8888011060635986,
          0.006583711896767397,
          0.6254526301929028,
          0.02633484758706959,
          0.1975113569030219,
          1.92244387385608,
          0.36210415432220683,
          0.02633484758706959,
          0.32918559483836984,
          0.6649549015735071,
          0.05925340707090657,
          0.07242083086444137,
          0.8229639870959247,
          0.13825794983211534,
          0.12509052603858054,
          0.09875567845151095,
          0.006583711896767397,
          0.18434393310948713,
          2.4754756731845413,
          0.10533939034827836,
          0.6188689182961353,
          0.796629139508855,
          1.2048192771084336,
          0.3028507472513003,
          0.06583711896767397,
          0.006583711896767397,
          0.37527157811574163,
          0.08558825465797616,
          0.8888011060635986,
          0.22384620449009152,
          0.38185529001250906,
          0.08558825465797616,
          0.09875567845151095,
          0.04608598327737178,
          0.22384620449009152,
          0.02633484758706959,
          0.14484166172888274,
          1.4484166172888273,
          0.12509052603858054,
          0.8690499703732965,
          0.10533939034827836,
          0.11192310224504576,
          0.09217196655474356,
          0.17117650931595232,
          0.5925340707090657,
          0.4411086970834156,
          0.2040950687997893,
          0.7439594443347158,
          0.2040950687997893,
          0.02633484758706959,
          0.3160181710448351,
          0.3950227138060438,
          1.9553624333399169,
          1.3167423793534794,
          3.3379419316610703,
          1.191651853314899,
          0.07900454276120877,
          0.06583711896767397,
          0.5201132398446244,
          0.03950227138060439,
          0.013167423793534794,
          0.04608598327737178,
          0.019751135690302193,
          0.18434393310948713,
          0.5661992231219961,
          0.4542761208769504,
          0.2370136282836263,
          0.2106787806965567,
          0.5398643755349266,
          0.05925340707090657,
          0.006583711896767397,
          0.019751135690302193,
          0.013167423793534794,
          0.07242083086444137,
          0.09217196655474356,
          0.013167423793534794,
          0.032918559483836984,
          3.7263809335703466,
          0.796629139508855,
          0.06583711896767397,
          0.013167423793534794,
          0.2765158996642307,
          0.04608598327737178,
          0.30943445914806766,
          0.019751135690302193,
          0.013167423793534794,
          0.14484166172888274,
          0.019751135690302193,
          1.0204753439989465,
          0.019751135690302193,
          0.04608598327737178,
          0.006583711896767397,
          0.2370136282836263,
          0.006583711896767397,
          0.08558825465797616,
          0.006583711896767397,
          0.019751135690302193,
          0.12509052603858054,
          0.11192310224504576,
          0.09875567845151095,
          2.021199552307591,
          0.032918559483836984,
          0.019751135690302193,
          0.006583711896767397,
          0.006583711896767397,
          0.006583711896767397,
          0.02633484758706959,
          0.02633484758706959,
          0.006583711896767397,
          0.032918559483836984,
          0.006583711896767397,
          0.006583711896767397,
          0.02633484758706959,
          0.006583711896767397,
          0.006583711896767397,
          0.013167423793534794,
          0.11192310224504576,
          0.07900454276120877,
          0.006583711896767397,
          0.013167423793534794,
          0.013167423793534794,
          0.032918559483836984,
          0.2765158996642307,
          1.0007242083086443,
          0.006583711896767397,
          0.05925340707090657,
          0.013167423793534794,
          0.02633484758706959,
          0.019751135690302193,
          0.05925340707090657,
          0.013167423793534794,
          0.5596155112252288,
          0.14484166172888274,
          0.02633484758706959,
          0.38185529001250906,
          0.006583711896767397,
          0.17117650931595232,
          0.2765158996642307,
          0.019751135690302193,
          0.032918559483836984,
          0.02633484758706959,
          0.04608598327737178,
          0.006583711896767397,
          0.013167423793534794,
          0.02633484758706959,
          0.4740272565672526,
          0.36868786621897426,
          0.5266969517413918,
          0.013167423793534794,
          0.032918559483836984,
          0.05925340707090657,
          0.032918559483836984,
          0.17776022121271973,
          0.02633484758706959,
          0.013167423793534794,
          0.03950227138060439,
          0.013167423793534794,
          0.11850681414181315,
          0.14484166172888274,
          0.05266969517413918,
          0.15142537362565014,
          0.14484166172888274,
          0.08558825465797616,
          0.04608598327737178,
          0.07242083086444137,
          0.013167423793534794,
          0.4542761208769504,
          0.013167423793534794,
          0.013167423793534794,
          0.006583711896767397,
          0.019751135690302193,
          0.2633484758706959,
          0.2304299163868589,
          0.4608598327737178,
          0.4411086970834156,
          0.032918559483836984,
          0.17776022121271973,
          0.032918559483836984,
          0.11850681414181315,
          0.006583711896767397,
          0.08558825465797616,
          0.006583711896767397,
          0.019751135690302193,
          0.07242083086444137,
          0.06583711896767397,
          0.013167423793534794,
          0.05266969517413918,
          0.013167423793534794,
          0.006583711896767397,
          0.013167423793534794,
          0.04608598327737178,
          0.04608598327737178,
          0.05266969517413918,
          0.05925340707090657,
          0.02633484758706959,
          0.006583711896767397,
          0.02633484758706959,
          0.006583711896767397,
          0.013167423793534794,
          0.013167423793534794,
          0.019751135690302193,
          0.013167423793534794,
          0.013167423793534794,
          0.006583711896767397,
          0.006583711896767397,
          0.013167423793534794,
          0.006583711896767397,
          0.013167423793534794,
          0.2435973401803937,
          0.013167423793534794,
          0.013167423793534794,
          0.019751135690302193,
          0.03950227138060439,
          0.006583711896767397,
          0.006583711896767397,
          0.013167423793534794,
          0.38981288981288986,
          0.5327442827442828,
          0.2858627858627859,
          0.03898128898128898,
          0.02598752598752599,
          0.33783783783783783,
          0.06496881496881497,
          0.10395010395010396,
          0.03898128898128898,
          0.19490644490644493,
          0.07796257796257797,
          0.02598752598752599,
          0.012993762993762994,
          0.012993762993762994,
          0.012993762993762994,
          0.03898128898128898,
          0.03898128898128898,
          0.12993762993762994,
          0.03898128898128898,
          0.8965696465696467,
          0.05197505197505198,
          0.7926195426195427,
          0.012993762993762994,
          0.35083160083160086,
          1.1694386694386696,
          0.02598752598752599,
          0.16891891891891891,
          0.8445945945945946,
          0.4158004158004158,
          0.06496881496881497,
          0.2988565488565489,
          3.3913721413721416,
          2.793659043659044,
          0.2598752598752599,
          0.2079002079002079,
          0.11694386694386695,
          0.5327442827442828,
          0.32484407484407485,
          1.7541580041580043,
          0.03898128898128898,
          0.05197505197505198,
          3.2614345114345116,
          0.07796257796257797,
          0.05197505197505198,
          0.10395010395010396,
          0.05197505197505198,
          0.38981288981288986,
          0.2598752598752599,
          0.2338877338877339,
          1.4163201663201663,
          0.33783783783783783,
          0.02598752598752599,
          0.9355509355509356,
          0.11694386694386695,
          0.15592515592515593,
          1.0005197505197505,
          0.12993762993762994,
          0.16891891891891891,
          1.5202702702702704,
          0.05197505197505198,
          2.1569646569646572,
          0.5197505197505198,
          0.012993762993762994,
          1.1824324324324325,
          0.02598752598752599,
          0.11694386694386695,
          0.09095634095634096,
          0.16891891891891891,
          0.4547817047817048,
          0.3768191268191268,
          0.15592515592515593,
          0.16891891891891891,
          0.012993762993762994,
          0.03898128898128898,
          0.07796257796257797,
          0.15592515592515593,
          0.32484407484407485,
          0.09095634095634096,
          0.5977130977130978,
          0.02598752598752599,
          0.06496881496881497,
          0.15592515592515593,
          3.6772349272349274,
          0.32484407484407485,
          0.2598752598752599,
          0.5587318087318087,
          0.15592515592515593,
          0.12993762993762994,
          0.8445945945945946,
          0.38981288981288986,
          0.10395010395010396,
          0.27286902286902287,
          0.02598752598752599,
          2.1049896049896053,
          0.2988565488565489,
          0.7016632016632017,
          0.8445945945945946,
          0.2468814968814969,
          0.012993762993762994,
          0.7016632016632017,
          0.36382536382536385,
          0.07796257796257797,
          1.4163201663201663,
          0.06496881496881497,
          0.4547817047817048,
          0.12993762993762994,
          0.07796257796257797,
          0.10395010395010396,
          0.7276507276507277,
          2.455821205821206,
          0.2208939708939709,
          0.2858627858627859,
          0.09095634095634096,
          0.03898128898128898,
          0.06496881496881497,
          0.06496881496881497,
          0.07796257796257797,
          0.02598752598752599,
          0.31185031185031187,
          0.012993762993762994,
          0.2338877338877339,
          0.5067567567567568,
          0.4677754677754678,
          0.4417879417879418,
          0.40280665280665284,
          0.18191268191268192,
          0.27286902286902287,
          0.7016632016632017,
          0.16891891891891891,
          0.18191268191268192,
          0.5197505197505198,
          0.2208939708939709,
          0.36382536382536385,
          0.05197505197505198,
          0.15592515592515593,
          0.11694386694386695,
          0.38981288981288986,
          0.02598752598752599,
          0.32484407484407485,
          0.03898128898128898,
          0.03898128898128898,
          0.05197505197505198,
          0.11694386694386695,
          0.02598752598752599,
          0.10395010395010396,
          1.4293139293139294,
          0.03898128898128898,
          0.012993762993762994,
          0.02598752598752599,
          0.02598752598752599,
          0.012993762993762994,
          0.38981288981288986,
          0.02598752598752599,
          0.03898128898128898,
          0.06496881496881497,
          0.02598752598752599,
          0.02598752598752599,
          0.02598752598752599,
          0.03898128898128898,
          0.05197505197505198,
          0.05197505197505198,
          0.06496881496881497,
          0.06496881496881497,
          0.03898128898128898,
          0.012993762993762994,
          0.02598752598752599,
          0.03898128898128898,
          0.07796257796257797,
          0.012993762993762994,
          0.02598752598752599,
          0.06496881496881497,
          0.03898128898128898,
          0.35083160083160086,
          0.02598752598752599,
          0.03898128898128898,
          0.012993762993762994,
          0.07796257796257797,
          0.09095634095634096,
          0.07796257796257797,
          1.1824324324324325,
          0.05197505197505198,
          0.5847193347193348,
          0.18191268191268192,
          0.06496881496881497,
          0.012993762993762994,
          0.02598752598752599,
          1.9750519750519753,
          0.03898128898128898,
          0.03898128898128898,
          0.15592515592515593,
          1.5072765072765073,
          0.03898128898128898,
          0.012993762993762994,
          0.40280665280665284,
          0.5717255717255718,
          0.15592515592515593,
          1.0784823284823286,
          0.19490644490644493,
          0.8705821205821206,
          0.02598752598752599,
          0.14293139293139295,
          0.33783783783783783,
          0.12993762993762994,
          0.16891891891891891,
          0.2208939708939709,
          0.02598752598752599,
          0.012993762993762994,
          0.02598752598752599,
          0.09095634095634096,
          4.963617463617464,
          0.012993762993762994,
          2.9495841995841996,
          0.07796257796257797,
          0.14293139293139295,
          0.06496881496881497,
          0.09095634095634096,
          0.02598752598752599,
          0.03898128898128898,
          0.2079002079002079,
          0.14293139293139295,
          0.10395010395010396,
          0.31185031185031187,
          0.012993762993762994,
          0.11694386694386695,
          0.03898128898128898,
          0.06496881496881497,
          0.02598752598752599,
          0.11694386694386695,
          0.15592515592515593,
          0.4677754677754678,
          0.5847193347193348,
          0.9095634095634096,
          0.05197505197505198,
          0.02598752598752599,
          0.06496881496881497,
          0.012993762993762994,
          0.06496881496881497,
          0.32484407484407485,
          0.2858627858627859,
          0.14293139293139295,
          0.07796257796257797,
          0.02598752598752599,
          0.2598752598752599,
          0.05197505197505198,
          0.05197505197505198,
          0.06496881496881497,
          0.6756756756756757,
          0.02598752598752599,
          0.12993762993762994,
          0.02598752598752599,
          0.012993762993762994,
          0.05197505197505198,
          0.012993762993762994,
          0.03898128898128898,
          0.12993762993762994,
          0.012993762993762994,
          0.03898128898128898,
          0.10395010395010396,
          0.03898128898128898,
          0.07796257796257797,
          0.02598752598752599,
          0.012993762993762994,
          0.012993762993762994,
          0.012993762993762994,
          0.06496881496881497,
          0.03898128898128898,
          0.012993762993762994,
          0.02598752598752599,
          0.02598752598752599,
          0.02598752598752599,
          0.02598752598752599,
          0.02598752598752599,
          0.03898128898128898,
          0.05197505197505198,
          0.012993762993762994,
          0.02598752598752599,
          0.012993762993762994
         ],
         "y0": " ",
         "yaxis": "y"
        },
        {
         "alignmentgroup": "True",
         "box": {
          "visible": true
         },
         "hovertemplate": "Hemisphere=contralateral<br>General area=%{x}<br>scaled count=%{y}<extra></extra>",
         "legendgroup": "contralateral",
         "marker": {
          "color": "orange"
         },
         "meanline": {
          "visible": true
         },
         "name": "contralateral",
         "offsetgroup": "contralateral",
         "orientation": "v",
         "points": "all",
         "scalegroup": "True",
         "showlegend": true,
         "type": "violin",
         "x": [
          "Accessory olfactory bulb",
          "Orbital area",
          "Orbital area",
          "Orbital area",
          "Orbital area",
          "Somatosensory areas",
          "Infralimbic area",
          "Somatosensory areas",
          "Somatosensory areas",
          "Somatosensory areas",
          "Somatosensory areas",
          "Somatosensory areas",
          "Somatosensory areas",
          "Somatosensory areas",
          "Somatosensory areas",
          "Somatosensory areas",
          "Somatosensory areas",
          "Somatosensory areas",
          "Somatosensory areas",
          "Somatosensory areas",
          "Anterior cingulate area",
          "Pallidum",
          "Somatosensory areas",
          "Somatosensory areas",
          "Somatosensory areas",
          "Somatosensory areas",
          "Somatosensory areas",
          "Somatosensory areas",
          "Somatosensory areas",
          "Gustatory areas",
          "Somatosensory areas",
          "Somatosensory areas",
          "Somatosensory areas",
          "Cortical subplate",
          "Somatosensory areas",
          "Somatosensory areas",
          "Somatosensory areas",
          "Somatosensory areas",
          "Somatosensory areas",
          "ventricular systems",
          "Somatosensory areas",
          "Hypothalamus",
          "Striatum",
          "Hippocampal region",
          "Cortical subplate",
          "Hypothalamus",
          "Thalamus",
          "Cortical amygdalar area",
          "Visual areas",
          "Midbrain",
          "Prelimbic area",
          "Orbital area",
          "Somatosensory areas",
          "Infralimbic area",
          "Somatosensory areas",
          "Somatosensory areas",
          "Somatosensory areas",
          "Somatosensory areas",
          "Somatosensory areas",
          "Somatosensory areas",
          "Somatosensory areas",
          "Anterior cingulate area",
          "Somatosensory areas",
          "Somatosensory areas",
          "Somatosensory areas",
          "Somatosensory areas",
          "Agranular insular area",
          "Somatosensory areas",
          "Somatosensory areas",
          "Somatosensory areas",
          "Somatosensory areas",
          "Somatosensory areas",
          "Striatum",
          "Somatosensory areas",
          "Somatosensory areas",
          "Somatosensory areas",
          "Somatosensory areas",
          "Somatosensory areas",
          "Somatosensory areas",
          "Somatosensory areas",
          "Somatosensory areas",
          "Somatosensory areas",
          "Somatosensory areas",
          "Somatosensory areas",
          "Somatosensory areas",
          "Somatosensory areas",
          "Somatosensory areas",
          "Somatosensory areas",
          "Nucleus of the lateral olfactory tract",
          "Somatosensory areas",
          "Somatosensory areas",
          "Nucleus of the lateral olfactory tract",
          "Striatum",
          "Thalamus",
          "Thalamus",
          "Retrohippocampal region",
          "Midbrain",
          "Midbrain",
          "Hippocampal region",
          "Hypothalamus",
          "Hippocampal region",
          "Midbrain",
          "Frontal pole",
          "Orbital area",
          "Agranular insular area",
          "Gustatory areas",
          "Somatosensory areas",
          "Somatosensory areas",
          "Somatosensory areas",
          "Somatosensory areas",
          "Pallidum",
          "Hippocampal region",
          "Somatosensory areas",
          "Somatosensory areas",
          "Somatosensory areas",
          "Somatosensory areas",
          "Somatosensory areas",
          "Somatosensory areas",
          "Somatosensory areas",
          "Somatosensory areas",
          "ventricular systems",
          "Cortical amygdalar area",
          "Somatosensory areas",
          "Somatosensory areas",
          "Pallidum",
          "Cortical subplate",
          "Cortical subplate",
          "Somatosensory areas",
          "Ectorhinal area",
          "Hippocampal region",
          "Midbrain",
          "Cortical subplate",
          "Thalamus",
          "Hypothalamus",
          "Midbrain",
          "Hypothalamus",
          "Midbrain",
          "Midbrain",
          "root",
          "Frontal pole",
          "Somatomotor areas",
          "Visceral area",
          "Auditory areas",
          "Visual areas",
          "Anterior cingulate area",
          "Prelimbic area",
          "Infralimbic area",
          "Retrosplenial area",
          "Posterior parietal association areas",
          "Temporal association areas",
          "Perirhinal area",
          "Ectorhinal area",
          "Main olfactory bulb",
          "Accessory olfactory bulb",
          "Anterior olfactory nucleus",
          "Taenia tecta",
          "Dorsal peduncular area",
          "Piriform area",
          "Nucleus of the lateral olfactory tract",
          "Piriform-amygdalar area",
          "Postpiriform transition area",
          "Retrohippocampal region",
          "Striatum",
          "Pons",
          "Medulla",
          "Cerebellum"
         ],
         "x0": " ",
         "xaxis": "x",
         "y": [
          0.026936026936026935,
          0.0404040404040404,
          0.013468013468013467,
          0.013468013468013467,
          0.013468013468013467,
          0.3771043771043771,
          0.013468013468013467,
          0.22895622895622894,
          0.33670033670033667,
          0.013468013468013467,
          0.013468013468013467,
          0.09427609427609428,
          0.26936026936026936,
          0.0808080808080808,
          0.013468013468013467,
          0.06734006734006734,
          0.5387205387205387,
          0.026936026936026935,
          0.013468013468013467,
          0.18855218855218855,
          0.013468013468013467,
          0.013468013468013467,
          0.0404040404040404,
          0.2424242424242424,
          0.013468013468013467,
          0.1616161616161616,
          0.06734006734006734,
          0.0404040404040404,
          0.06734006734006734,
          0.013468013468013467,
          0.4175084175084175,
          0.013468013468013467,
          0.013468013468013467,
          0.05387205387205387,
          0.0404040404040404,
          0.026936026936026935,
          0.06734006734006734,
          0.05387205387205387,
          0.013468013468013467,
          0.026936026936026935,
          0.013468013468013467,
          0.013468013468013467,
          0.026936026936026935,
          0.026936026936026935,
          0.0404040404040404,
          0.013468013468013467,
          0.013468013468013467,
          0.0404040404040404,
          0.013468013468013467,
          0.013468013468013467,
          0.019751135690302193,
          0.05266969517413918,
          0.2896833234577655,
          0.013167423793534794,
          0.17117650931595232,
          0.12509052603858054,
          0.05925340707090657,
          0.14484166172888274,
          0.05925340707090657,
          0.07242083086444137,
          0.09217196655474356,
          0.05925340707090657,
          0.02633484758706959,
          0.04608598327737178,
          0.07242083086444137,
          0.03950227138060439,
          0.006583711896767397,
          0.05266969517413918,
          0.07242083086444137,
          0.04608598327737178,
          0.09217196655474356,
          0.05266969517413918,
          0.013167423793534794,
          0.006583711896767397,
          0.05925340707090657,
          0.05925340707090657,
          0.02633484758706959,
          0.07900454276120877,
          0.05266969517413918,
          0.09217196655474356,
          0.03950227138060439,
          0.05925340707090657,
          0.09217196655474356,
          0.006583711896767397,
          0.28309961156099805,
          0.13167423793534794,
          0.006583711896767397,
          0.013167423793534794,
          0.006583711896767397,
          0.006583711896767397,
          0.006583711896767397,
          0.006583711896767397,
          0.006583711896767397,
          0.006583711896767397,
          0.006583711896767397,
          0.013167423793534794,
          0.006583711896767397,
          0.019751135690302193,
          0.013167423793534794,
          0.019751135690302193,
          0.006583711896767397,
          0.006583711896767397,
          0.02598752598752599,
          0.012993762993762994,
          0.02598752598752599,
          0.012993762993762994,
          0.012993762993762994,
          0.06496881496881497,
          0.06496881496881497,
          0.05197505197505198,
          0.012993762993762994,
          0.07796257796257797,
          0.012993762993762994,
          0.05197505197505198,
          0.012993762993762994,
          0.012993762993762994,
          0.02598752598752599,
          0.012993762993762994,
          0.012993762993762994,
          0.2988565488565489,
          0.012993762993762994,
          0.02598752598752599,
          0.06496881496881497,
          0.012993762993762994,
          0.012993762993762994,
          0.05197505197505198,
          0.05197505197505198,
          0.012993762993762994,
          0.05197505197505198,
          0.012993762993762994,
          0.02598752598752599,
          0.012993762993762994,
          0.012993762993762994,
          0.012993762993762994,
          0.02598752598752599,
          0.012993762993762994,
          0.012993762993762994,
          0.012993762993762994,
          0,
          0,
          0,
          0,
          0,
          0,
          0,
          0,
          0,
          0,
          0,
          0,
          0,
          0,
          0,
          0,
          0,
          0,
          0,
          0,
          0,
          0,
          0,
          0,
          0,
          0,
          0,
          0
         ],
         "y0": " ",
         "yaxis": "y"
        }
       ],
       "layout": {
        "legend": {
         "title": {
          "text": "Hemisphere"
         },
         "tracegroupgap": 0
        },
        "template": {
         "data": {
          "bar": [
           {
            "error_x": {
             "color": "#2a3f5f"
            },
            "error_y": {
             "color": "#2a3f5f"
            },
            "marker": {
             "line": {
              "color": "#E5ECF6",
              "width": 0.5
             },
             "pattern": {
              "fillmode": "overlay",
              "size": 10,
              "solidity": 0.2
             }
            },
            "type": "bar"
           }
          ],
          "barpolar": [
           {
            "marker": {
             "line": {
              "color": "#E5ECF6",
              "width": 0.5
             },
             "pattern": {
              "fillmode": "overlay",
              "size": 10,
              "solidity": 0.2
             }
            },
            "type": "barpolar"
           }
          ],
          "carpet": [
           {
            "aaxis": {
             "endlinecolor": "#2a3f5f",
             "gridcolor": "white",
             "linecolor": "white",
             "minorgridcolor": "white",
             "startlinecolor": "#2a3f5f"
            },
            "baxis": {
             "endlinecolor": "#2a3f5f",
             "gridcolor": "white",
             "linecolor": "white",
             "minorgridcolor": "white",
             "startlinecolor": "#2a3f5f"
            },
            "type": "carpet"
           }
          ],
          "choropleth": [
           {
            "colorbar": {
             "outlinewidth": 0,
             "ticks": ""
            },
            "type": "choropleth"
           }
          ],
          "contour": [
           {
            "colorbar": {
             "outlinewidth": 0,
             "ticks": ""
            },
            "colorscale": [
             [
              0,
              "#0d0887"
             ],
             [
              0.1111111111111111,
              "#46039f"
             ],
             [
              0.2222222222222222,
              "#7201a8"
             ],
             [
              0.3333333333333333,
              "#9c179e"
             ],
             [
              0.4444444444444444,
              "#bd3786"
             ],
             [
              0.5555555555555556,
              "#d8576b"
             ],
             [
              0.6666666666666666,
              "#ed7953"
             ],
             [
              0.7777777777777778,
              "#fb9f3a"
             ],
             [
              0.8888888888888888,
              "#fdca26"
             ],
             [
              1,
              "#f0f921"
             ]
            ],
            "type": "contour"
           }
          ],
          "contourcarpet": [
           {
            "colorbar": {
             "outlinewidth": 0,
             "ticks": ""
            },
            "type": "contourcarpet"
           }
          ],
          "heatmap": [
           {
            "colorbar": {
             "outlinewidth": 0,
             "ticks": ""
            },
            "colorscale": [
             [
              0,
              "#0d0887"
             ],
             [
              0.1111111111111111,
              "#46039f"
             ],
             [
              0.2222222222222222,
              "#7201a8"
             ],
             [
              0.3333333333333333,
              "#9c179e"
             ],
             [
              0.4444444444444444,
              "#bd3786"
             ],
             [
              0.5555555555555556,
              "#d8576b"
             ],
             [
              0.6666666666666666,
              "#ed7953"
             ],
             [
              0.7777777777777778,
              "#fb9f3a"
             ],
             [
              0.8888888888888888,
              "#fdca26"
             ],
             [
              1,
              "#f0f921"
             ]
            ],
            "type": "heatmap"
           }
          ],
          "heatmapgl": [
           {
            "colorbar": {
             "outlinewidth": 0,
             "ticks": ""
            },
            "colorscale": [
             [
              0,
              "#0d0887"
             ],
             [
              0.1111111111111111,
              "#46039f"
             ],
             [
              0.2222222222222222,
              "#7201a8"
             ],
             [
              0.3333333333333333,
              "#9c179e"
             ],
             [
              0.4444444444444444,
              "#bd3786"
             ],
             [
              0.5555555555555556,
              "#d8576b"
             ],
             [
              0.6666666666666666,
              "#ed7953"
             ],
             [
              0.7777777777777778,
              "#fb9f3a"
             ],
             [
              0.8888888888888888,
              "#fdca26"
             ],
             [
              1,
              "#f0f921"
             ]
            ],
            "type": "heatmapgl"
           }
          ],
          "histogram": [
           {
            "marker": {
             "pattern": {
              "fillmode": "overlay",
              "size": 10,
              "solidity": 0.2
             }
            },
            "type": "histogram"
           }
          ],
          "histogram2d": [
           {
            "colorbar": {
             "outlinewidth": 0,
             "ticks": ""
            },
            "colorscale": [
             [
              0,
              "#0d0887"
             ],
             [
              0.1111111111111111,
              "#46039f"
             ],
             [
              0.2222222222222222,
              "#7201a8"
             ],
             [
              0.3333333333333333,
              "#9c179e"
             ],
             [
              0.4444444444444444,
              "#bd3786"
             ],
             [
              0.5555555555555556,
              "#d8576b"
             ],
             [
              0.6666666666666666,
              "#ed7953"
             ],
             [
              0.7777777777777778,
              "#fb9f3a"
             ],
             [
              0.8888888888888888,
              "#fdca26"
             ],
             [
              1,
              "#f0f921"
             ]
            ],
            "type": "histogram2d"
           }
          ],
          "histogram2dcontour": [
           {
            "colorbar": {
             "outlinewidth": 0,
             "ticks": ""
            },
            "colorscale": [
             [
              0,
              "#0d0887"
             ],
             [
              0.1111111111111111,
              "#46039f"
             ],
             [
              0.2222222222222222,
              "#7201a8"
             ],
             [
              0.3333333333333333,
              "#9c179e"
             ],
             [
              0.4444444444444444,
              "#bd3786"
             ],
             [
              0.5555555555555556,
              "#d8576b"
             ],
             [
              0.6666666666666666,
              "#ed7953"
             ],
             [
              0.7777777777777778,
              "#fb9f3a"
             ],
             [
              0.8888888888888888,
              "#fdca26"
             ],
             [
              1,
              "#f0f921"
             ]
            ],
            "type": "histogram2dcontour"
           }
          ],
          "mesh3d": [
           {
            "colorbar": {
             "outlinewidth": 0,
             "ticks": ""
            },
            "type": "mesh3d"
           }
          ],
          "parcoords": [
           {
            "line": {
             "colorbar": {
              "outlinewidth": 0,
              "ticks": ""
             }
            },
            "type": "parcoords"
           }
          ],
          "pie": [
           {
            "automargin": true,
            "type": "pie"
           }
          ],
          "scatter": [
           {
            "fillpattern": {
             "fillmode": "overlay",
             "size": 10,
             "solidity": 0.2
            },
            "type": "scatter"
           }
          ],
          "scatter3d": [
           {
            "line": {
             "colorbar": {
              "outlinewidth": 0,
              "ticks": ""
             }
            },
            "marker": {
             "colorbar": {
              "outlinewidth": 0,
              "ticks": ""
             }
            },
            "type": "scatter3d"
           }
          ],
          "scattercarpet": [
           {
            "marker": {
             "colorbar": {
              "outlinewidth": 0,
              "ticks": ""
             }
            },
            "type": "scattercarpet"
           }
          ],
          "scattergeo": [
           {
            "marker": {
             "colorbar": {
              "outlinewidth": 0,
              "ticks": ""
             }
            },
            "type": "scattergeo"
           }
          ],
          "scattergl": [
           {
            "marker": {
             "colorbar": {
              "outlinewidth": 0,
              "ticks": ""
             }
            },
            "type": "scattergl"
           }
          ],
          "scattermapbox": [
           {
            "marker": {
             "colorbar": {
              "outlinewidth": 0,
              "ticks": ""
             }
            },
            "type": "scattermapbox"
           }
          ],
          "scatterpolar": [
           {
            "marker": {
             "colorbar": {
              "outlinewidth": 0,
              "ticks": ""
             }
            },
            "type": "scatterpolar"
           }
          ],
          "scatterpolargl": [
           {
            "marker": {
             "colorbar": {
              "outlinewidth": 0,
              "ticks": ""
             }
            },
            "type": "scatterpolargl"
           }
          ],
          "scatterternary": [
           {
            "marker": {
             "colorbar": {
              "outlinewidth": 0,
              "ticks": ""
             }
            },
            "type": "scatterternary"
           }
          ],
          "surface": [
           {
            "colorbar": {
             "outlinewidth": 0,
             "ticks": ""
            },
            "colorscale": [
             [
              0,
              "#0d0887"
             ],
             [
              0.1111111111111111,
              "#46039f"
             ],
             [
              0.2222222222222222,
              "#7201a8"
             ],
             [
              0.3333333333333333,
              "#9c179e"
             ],
             [
              0.4444444444444444,
              "#bd3786"
             ],
             [
              0.5555555555555556,
              "#d8576b"
             ],
             [
              0.6666666666666666,
              "#ed7953"
             ],
             [
              0.7777777777777778,
              "#fb9f3a"
             ],
             [
              0.8888888888888888,
              "#fdca26"
             ],
             [
              1,
              "#f0f921"
             ]
            ],
            "type": "surface"
           }
          ],
          "table": [
           {
            "cells": {
             "fill": {
              "color": "#EBF0F8"
             },
             "line": {
              "color": "white"
             }
            },
            "header": {
             "fill": {
              "color": "#C8D4E3"
             },
             "line": {
              "color": "white"
             }
            },
            "type": "table"
           }
          ]
         },
         "layout": {
          "annotationdefaults": {
           "arrowcolor": "#2a3f5f",
           "arrowhead": 0,
           "arrowwidth": 1
          },
          "autotypenumbers": "strict",
          "coloraxis": {
           "colorbar": {
            "outlinewidth": 0,
            "ticks": ""
           }
          },
          "colorscale": {
           "diverging": [
            [
             0,
             "#8e0152"
            ],
            [
             0.1,
             "#c51b7d"
            ],
            [
             0.2,
             "#de77ae"
            ],
            [
             0.3,
             "#f1b6da"
            ],
            [
             0.4,
             "#fde0ef"
            ],
            [
             0.5,
             "#f7f7f7"
            ],
            [
             0.6,
             "#e6f5d0"
            ],
            [
             0.7,
             "#b8e186"
            ],
            [
             0.8,
             "#7fbc41"
            ],
            [
             0.9,
             "#4d9221"
            ],
            [
             1,
             "#276419"
            ]
           ],
           "sequential": [
            [
             0,
             "#0d0887"
            ],
            [
             0.1111111111111111,
             "#46039f"
            ],
            [
             0.2222222222222222,
             "#7201a8"
            ],
            [
             0.3333333333333333,
             "#9c179e"
            ],
            [
             0.4444444444444444,
             "#bd3786"
            ],
            [
             0.5555555555555556,
             "#d8576b"
            ],
            [
             0.6666666666666666,
             "#ed7953"
            ],
            [
             0.7777777777777778,
             "#fb9f3a"
            ],
            [
             0.8888888888888888,
             "#fdca26"
            ],
            [
             1,
             "#f0f921"
            ]
           ],
           "sequentialminus": [
            [
             0,
             "#0d0887"
            ],
            [
             0.1111111111111111,
             "#46039f"
            ],
            [
             0.2222222222222222,
             "#7201a8"
            ],
            [
             0.3333333333333333,
             "#9c179e"
            ],
            [
             0.4444444444444444,
             "#bd3786"
            ],
            [
             0.5555555555555556,
             "#d8576b"
            ],
            [
             0.6666666666666666,
             "#ed7953"
            ],
            [
             0.7777777777777778,
             "#fb9f3a"
            ],
            [
             0.8888888888888888,
             "#fdca26"
            ],
            [
             1,
             "#f0f921"
            ]
           ]
          },
          "colorway": [
           "#636efa",
           "#EF553B",
           "#00cc96",
           "#ab63fa",
           "#FFA15A",
           "#19d3f3",
           "#FF6692",
           "#B6E880",
           "#FF97FF",
           "#FECB52"
          ],
          "font": {
           "color": "#2a3f5f"
          },
          "geo": {
           "bgcolor": "white",
           "lakecolor": "white",
           "landcolor": "#E5ECF6",
           "showlakes": true,
           "showland": true,
           "subunitcolor": "white"
          },
          "hoverlabel": {
           "align": "left"
          },
          "hovermode": "closest",
          "mapbox": {
           "style": "light"
          },
          "paper_bgcolor": "white",
          "plot_bgcolor": "#E5ECF6",
          "polar": {
           "angularaxis": {
            "gridcolor": "white",
            "linecolor": "white",
            "ticks": ""
           },
           "bgcolor": "#E5ECF6",
           "radialaxis": {
            "gridcolor": "white",
            "linecolor": "white",
            "ticks": ""
           }
          },
          "scene": {
           "xaxis": {
            "backgroundcolor": "#E5ECF6",
            "gridcolor": "white",
            "gridwidth": 2,
            "linecolor": "white",
            "showbackground": true,
            "ticks": "",
            "zerolinecolor": "white"
           },
           "yaxis": {
            "backgroundcolor": "#E5ECF6",
            "gridcolor": "white",
            "gridwidth": 2,
            "linecolor": "white",
            "showbackground": true,
            "ticks": "",
            "zerolinecolor": "white"
           },
           "zaxis": {
            "backgroundcolor": "#E5ECF6",
            "gridcolor": "white",
            "gridwidth": 2,
            "linecolor": "white",
            "showbackground": true,
            "ticks": "",
            "zerolinecolor": "white"
           }
          },
          "shapedefaults": {
           "line": {
            "color": "#2a3f5f"
           }
          },
          "ternary": {
           "aaxis": {
            "gridcolor": "white",
            "linecolor": "white",
            "ticks": ""
           },
           "baxis": {
            "gridcolor": "white",
            "linecolor": "white",
            "ticks": ""
           },
           "bgcolor": "#E5ECF6",
           "caxis": {
            "gridcolor": "white",
            "linecolor": "white",
            "ticks": ""
           }
          },
          "title": {
           "x": 0.05
          },
          "xaxis": {
           "automargin": true,
           "gridcolor": "white",
           "linecolor": "white",
           "ticks": "",
           "title": {
            "standoff": 15
           },
           "zerolinecolor": "white",
           "zerolinewidth": 2
          },
          "yaxis": {
           "automargin": true,
           "gridcolor": "white",
           "linecolor": "white",
           "ticks": "",
           "title": {
            "standoff": 15
           },
           "zerolinecolor": "white",
           "zerolinewidth": 2
          }
         }
        },
        "title": {
         "text": "S1 injections scaled counts by hemisphere, both p6 (n=2) and p7 (n=1)"
        },
        "violinmode": "group",
        "xaxis": {
         "anchor": "y",
         "categoryarray": [
          "Visual areas",
          "Retrosplenial area",
          "Somatosensory areas",
          "Striatum",
          "Posterior parietal association areas",
          "Piriform area",
          "Main olfactory bulb",
          "Midbrain",
          "Hippocampal region",
          "Somatomotor areas",
          "Auditory areas",
          "Retrohippocampal region",
          "Thalamus",
          "root",
          "Temporal association areas",
          "ventricular systems",
          "Gustatory areas",
          "Agranular insular area",
          "Hypothalamus",
          "Visceral area",
          "Postpiriform transition area",
          "Anterior olfactory nucleus",
          "Ectorhinal area",
          "Anterior cingulate area",
          "Cortical subplate",
          "Orbital area",
          "Pallidum",
          "Accessory olfactory bulb",
          "Perirhinal area",
          "Piriform-amygdalar area",
          "Nucleus of the lateral olfactory tract",
          "Cortical amygdalar area",
          "Prelimbic area",
          "Taenia tecta",
          "Infralimbic area",
          "Frontal pole",
          "Dorsal peduncular area"
         ],
         "categoryorder": "array",
         "domain": [
          0,
          1
         ],
         "title": {
          "text": "General area"
         }
        },
        "yaxis": {
         "anchor": "x",
         "domain": [
          0,
          1
         ],
         "title": {
          "text": "scaled count"
         }
        }
       }
      }
     },
     "metadata": {},
     "output_type": "display_data"
    }
   ],
   "source": [
    "plot_scaled(big_file_S1_injections_long, \"S1 injections scaled counts by hemisphere, both p6 (n=2) and p7 (n=1)\", area_order_scaled)"
   ]
  },
  {
   "cell_type": "code",
   "execution_count": 41,
   "id": "3097b786",
   "metadata": {},
   "outputs": [],
   "source": [
    "def plot_scaled_zoomed(big_file_long, Title):\n",
    "    filtered_areas = [\n",
    "        \"Visual areas\",\n",
    "        \"Retrosplenial area\",\n",
    "        \"Thalamus\",\n",
    "        \"Main olfactory bulb\",\n",
    "        \"Piriform area\",\n",
    "        \"Auditory areas\",\n",
    "    ]\n",
    "\n",
    "    df_hemi = big_file_long[\n",
    "        (big_file_long[\"Hemisphere\"] == \"ipsilateral\")\n",
    "        & (big_file_long[\"General area\"].isin(filtered_areas))\n",
    "    ]\n",
    "\n",
    "    area_order_scaled = (\n",
    "        df_hemi.groupby(\"General area\")[\"scaled count\"]\n",
    "        .max()\n",
    "        .sort_values(ascending=False)\n",
    "        .index.tolist()\n",
    "    )\n",
    "\n",
    "    fig = px.violin(\n",
    "        df_hemi,\n",
    "        y=\"scaled count\",\n",
    "        x=\"General area\",\n",
    "        # color=\"age\",\n",
    "        box=True,\n",
    "        # points=\"all\",\n",
    "        title=Title,\n",
    "        category_orders={\"General area\": area_order_scaled},\n",
    "    )\n",
    "    fig.update_traces(\n",
    "        meanline_visible=True\n",
    "    )  # displays the arithmetic mean of the distribution\n",
    "\n",
    "    return fig"
   ]
  },
  {
   "cell_type": "code",
   "execution_count": 42,
   "id": "f8338040",
   "metadata": {},
   "outputs": [],
   "source": [
    "def plot_count_zoomed(big_file_long, Title):\n",
    "    filtered_areas = [\n",
    "        \"Visual areas\",\n",
    "        \"Retrosplenial area\",\n",
    "        \"Thalamus\",\n",
    "        \"Main olfactory bulb\",\n",
    "        \"Piriform area\",\n",
    "        \"Auditory areas\",\n",
    "    ]\n",
    "\n",
    "    df_hemi = big_file_long[\n",
    "        (big_file_long[\"Hemisphere\"] == \"ipsilateral\")\n",
    "        & (big_file_long[\"General area\"].isin(filtered_areas))\n",
    "    ]\n",
    "\n",
    "    area_order_count = (\n",
    "        df_hemi.groupby(\"General area\")[\"count\"]\n",
    "        .max()\n",
    "        .sort_values(ascending=False)\n",
    "        .index.tolist()\n",
    "    )\n",
    "\n",
    "    fig = px.violin(\n",
    "        df_hemi,\n",
    "        y=\"count\",\n",
    "        x=\"General area\",\n",
    "        # color=\"age\",\n",
    "        box=True,\n",
    "        # points=\"all\",\n",
    "        title=Title,\n",
    "        category_orders={\"General area\": area_order_count},\n",
    "    )\n",
    "    fig.update_traces(\n",
    "        meanline_visible=True\n",
    "    )  # displays the arithmetic mean of the distribution\n",
    "\n",
    "    return fig"
   ]
  },
  {
   "cell_type": "code",
   "execution_count": 43,
   "id": "26eb22b5",
   "metadata": {},
   "outputs": [
    {
     "data": {
      "application/vnd.plotly.v1+json": {
       "config": {
        "plotlyServerURL": "https://plotly.com"
       },
       "data": [
        {
         "alignmentgroup": "True",
         "box": {
          "visible": true
         },
         "hovertemplate": "General area=%{x}<br>scaled count=%{y}<extra></extra>",
         "legendgroup": "",
         "marker": {
          "color": "#636efa"
         },
         "meanline": {
          "visible": true
         },
         "name": "",
         "offsetgroup": "",
         "orientation": "v",
         "scalegroup": "True",
         "showlegend": false,
         "type": "violin",
         "x": [
          "Auditory areas",
          "Main olfactory bulb",
          "Piriform area",
          "Retrosplenial area",
          "Thalamus",
          "Visual areas",
          "Auditory areas",
          "Main olfactory bulb",
          "Piriform area",
          "Retrosplenial area",
          "Thalamus",
          "Visual areas",
          "Auditory areas",
          "Main olfactory bulb",
          "Piriform area",
          "Retrosplenial area",
          "Thalamus",
          "Visual areas"
         ],
         "x0": " ",
         "xaxis": "x",
         "y": {
          "bdata": "CUzCMsmVrD9jp4FNzpSkPzKWykvA95E/pnXrgoLUvD+ryqF+30umP0s75Mc1N8g/ZemY9dy/oz85mRGnaJaFP1/VmG6qFYM/AmeD8JXrzD/uIAMY5ZeqP9ZlmvqcYdA/hO7Dp/F/sz8XwYPlAMiePwmpN1bMOoI/vI73eTMGwj82Jg0gbkyqP4FMAJhfDdI/",
          "dtype": "f8"
         },
         "y0": " ",
         "yaxis": "y"
        }
       ],
       "layout": {
        "legend": {
         "tracegroupgap": 0
        },
        "template": {
         "data": {
          "bar": [
           {
            "error_x": {
             "color": "#2a3f5f"
            },
            "error_y": {
             "color": "#2a3f5f"
            },
            "marker": {
             "line": {
              "color": "#E5ECF6",
              "width": 0.5
             },
             "pattern": {
              "fillmode": "overlay",
              "size": 10,
              "solidity": 0.2
             }
            },
            "type": "bar"
           }
          ],
          "barpolar": [
           {
            "marker": {
             "line": {
              "color": "#E5ECF6",
              "width": 0.5
             },
             "pattern": {
              "fillmode": "overlay",
              "size": 10,
              "solidity": 0.2
             }
            },
            "type": "barpolar"
           }
          ],
          "carpet": [
           {
            "aaxis": {
             "endlinecolor": "#2a3f5f",
             "gridcolor": "white",
             "linecolor": "white",
             "minorgridcolor": "white",
             "startlinecolor": "#2a3f5f"
            },
            "baxis": {
             "endlinecolor": "#2a3f5f",
             "gridcolor": "white",
             "linecolor": "white",
             "minorgridcolor": "white",
             "startlinecolor": "#2a3f5f"
            },
            "type": "carpet"
           }
          ],
          "choropleth": [
           {
            "colorbar": {
             "outlinewidth": 0,
             "ticks": ""
            },
            "type": "choropleth"
           }
          ],
          "contour": [
           {
            "colorbar": {
             "outlinewidth": 0,
             "ticks": ""
            },
            "colorscale": [
             [
              0,
              "#0d0887"
             ],
             [
              0.1111111111111111,
              "#46039f"
             ],
             [
              0.2222222222222222,
              "#7201a8"
             ],
             [
              0.3333333333333333,
              "#9c179e"
             ],
             [
              0.4444444444444444,
              "#bd3786"
             ],
             [
              0.5555555555555556,
              "#d8576b"
             ],
             [
              0.6666666666666666,
              "#ed7953"
             ],
             [
              0.7777777777777778,
              "#fb9f3a"
             ],
             [
              0.8888888888888888,
              "#fdca26"
             ],
             [
              1,
              "#f0f921"
             ]
            ],
            "type": "contour"
           }
          ],
          "contourcarpet": [
           {
            "colorbar": {
             "outlinewidth": 0,
             "ticks": ""
            },
            "type": "contourcarpet"
           }
          ],
          "heatmap": [
           {
            "colorbar": {
             "outlinewidth": 0,
             "ticks": ""
            },
            "colorscale": [
             [
              0,
              "#0d0887"
             ],
             [
              0.1111111111111111,
              "#46039f"
             ],
             [
              0.2222222222222222,
              "#7201a8"
             ],
             [
              0.3333333333333333,
              "#9c179e"
             ],
             [
              0.4444444444444444,
              "#bd3786"
             ],
             [
              0.5555555555555556,
              "#d8576b"
             ],
             [
              0.6666666666666666,
              "#ed7953"
             ],
             [
              0.7777777777777778,
              "#fb9f3a"
             ],
             [
              0.8888888888888888,
              "#fdca26"
             ],
             [
              1,
              "#f0f921"
             ]
            ],
            "type": "heatmap"
           }
          ],
          "histogram": [
           {
            "marker": {
             "pattern": {
              "fillmode": "overlay",
              "size": 10,
              "solidity": 0.2
             }
            },
            "type": "histogram"
           }
          ],
          "histogram2d": [
           {
            "colorbar": {
             "outlinewidth": 0,
             "ticks": ""
            },
            "colorscale": [
             [
              0,
              "#0d0887"
             ],
             [
              0.1111111111111111,
              "#46039f"
             ],
             [
              0.2222222222222222,
              "#7201a8"
             ],
             [
              0.3333333333333333,
              "#9c179e"
             ],
             [
              0.4444444444444444,
              "#bd3786"
             ],
             [
              0.5555555555555556,
              "#d8576b"
             ],
             [
              0.6666666666666666,
              "#ed7953"
             ],
             [
              0.7777777777777778,
              "#fb9f3a"
             ],
             [
              0.8888888888888888,
              "#fdca26"
             ],
             [
              1,
              "#f0f921"
             ]
            ],
            "type": "histogram2d"
           }
          ],
          "histogram2dcontour": [
           {
            "colorbar": {
             "outlinewidth": 0,
             "ticks": ""
            },
            "colorscale": [
             [
              0,
              "#0d0887"
             ],
             [
              0.1111111111111111,
              "#46039f"
             ],
             [
              0.2222222222222222,
              "#7201a8"
             ],
             [
              0.3333333333333333,
              "#9c179e"
             ],
             [
              0.4444444444444444,
              "#bd3786"
             ],
             [
              0.5555555555555556,
              "#d8576b"
             ],
             [
              0.6666666666666666,
              "#ed7953"
             ],
             [
              0.7777777777777778,
              "#fb9f3a"
             ],
             [
              0.8888888888888888,
              "#fdca26"
             ],
             [
              1,
              "#f0f921"
             ]
            ],
            "type": "histogram2dcontour"
           }
          ],
          "mesh3d": [
           {
            "colorbar": {
             "outlinewidth": 0,
             "ticks": ""
            },
            "type": "mesh3d"
           }
          ],
          "parcoords": [
           {
            "line": {
             "colorbar": {
              "outlinewidth": 0,
              "ticks": ""
             }
            },
            "type": "parcoords"
           }
          ],
          "pie": [
           {
            "automargin": true,
            "type": "pie"
           }
          ],
          "scatter": [
           {
            "fillpattern": {
             "fillmode": "overlay",
             "size": 10,
             "solidity": 0.2
            },
            "type": "scatter"
           }
          ],
          "scatter3d": [
           {
            "line": {
             "colorbar": {
              "outlinewidth": 0,
              "ticks": ""
             }
            },
            "marker": {
             "colorbar": {
              "outlinewidth": 0,
              "ticks": ""
             }
            },
            "type": "scatter3d"
           }
          ],
          "scattercarpet": [
           {
            "marker": {
             "colorbar": {
              "outlinewidth": 0,
              "ticks": ""
             }
            },
            "type": "scattercarpet"
           }
          ],
          "scattergeo": [
           {
            "marker": {
             "colorbar": {
              "outlinewidth": 0,
              "ticks": ""
             }
            },
            "type": "scattergeo"
           }
          ],
          "scattergl": [
           {
            "marker": {
             "colorbar": {
              "outlinewidth": 0,
              "ticks": ""
             }
            },
            "type": "scattergl"
           }
          ],
          "scattermap": [
           {
            "marker": {
             "colorbar": {
              "outlinewidth": 0,
              "ticks": ""
             }
            },
            "type": "scattermap"
           }
          ],
          "scattermapbox": [
           {
            "marker": {
             "colorbar": {
              "outlinewidth": 0,
              "ticks": ""
             }
            },
            "type": "scattermapbox"
           }
          ],
          "scatterpolar": [
           {
            "marker": {
             "colorbar": {
              "outlinewidth": 0,
              "ticks": ""
             }
            },
            "type": "scatterpolar"
           }
          ],
          "scatterpolargl": [
           {
            "marker": {
             "colorbar": {
              "outlinewidth": 0,
              "ticks": ""
             }
            },
            "type": "scatterpolargl"
           }
          ],
          "scatterternary": [
           {
            "marker": {
             "colorbar": {
              "outlinewidth": 0,
              "ticks": ""
             }
            },
            "type": "scatterternary"
           }
          ],
          "surface": [
           {
            "colorbar": {
             "outlinewidth": 0,
             "ticks": ""
            },
            "colorscale": [
             [
              0,
              "#0d0887"
             ],
             [
              0.1111111111111111,
              "#46039f"
             ],
             [
              0.2222222222222222,
              "#7201a8"
             ],
             [
              0.3333333333333333,
              "#9c179e"
             ],
             [
              0.4444444444444444,
              "#bd3786"
             ],
             [
              0.5555555555555556,
              "#d8576b"
             ],
             [
              0.6666666666666666,
              "#ed7953"
             ],
             [
              0.7777777777777778,
              "#fb9f3a"
             ],
             [
              0.8888888888888888,
              "#fdca26"
             ],
             [
              1,
              "#f0f921"
             ]
            ],
            "type": "surface"
           }
          ],
          "table": [
           {
            "cells": {
             "fill": {
              "color": "#EBF0F8"
             },
             "line": {
              "color": "white"
             }
            },
            "header": {
             "fill": {
              "color": "#C8D4E3"
             },
             "line": {
              "color": "white"
             }
            },
            "type": "table"
           }
          ]
         },
         "layout": {
          "annotationdefaults": {
           "arrowcolor": "#2a3f5f",
           "arrowhead": 0,
           "arrowwidth": 1
          },
          "autotypenumbers": "strict",
          "coloraxis": {
           "colorbar": {
            "outlinewidth": 0,
            "ticks": ""
           }
          },
          "colorscale": {
           "diverging": [
            [
             0,
             "#8e0152"
            ],
            [
             0.1,
             "#c51b7d"
            ],
            [
             0.2,
             "#de77ae"
            ],
            [
             0.3,
             "#f1b6da"
            ],
            [
             0.4,
             "#fde0ef"
            ],
            [
             0.5,
             "#f7f7f7"
            ],
            [
             0.6,
             "#e6f5d0"
            ],
            [
             0.7,
             "#b8e186"
            ],
            [
             0.8,
             "#7fbc41"
            ],
            [
             0.9,
             "#4d9221"
            ],
            [
             1,
             "#276419"
            ]
           ],
           "sequential": [
            [
             0,
             "#0d0887"
            ],
            [
             0.1111111111111111,
             "#46039f"
            ],
            [
             0.2222222222222222,
             "#7201a8"
            ],
            [
             0.3333333333333333,
             "#9c179e"
            ],
            [
             0.4444444444444444,
             "#bd3786"
            ],
            [
             0.5555555555555556,
             "#d8576b"
            ],
            [
             0.6666666666666666,
             "#ed7953"
            ],
            [
             0.7777777777777778,
             "#fb9f3a"
            ],
            [
             0.8888888888888888,
             "#fdca26"
            ],
            [
             1,
             "#f0f921"
            ]
           ],
           "sequentialminus": [
            [
             0,
             "#0d0887"
            ],
            [
             0.1111111111111111,
             "#46039f"
            ],
            [
             0.2222222222222222,
             "#7201a8"
            ],
            [
             0.3333333333333333,
             "#9c179e"
            ],
            [
             0.4444444444444444,
             "#bd3786"
            ],
            [
             0.5555555555555556,
             "#d8576b"
            ],
            [
             0.6666666666666666,
             "#ed7953"
            ],
            [
             0.7777777777777778,
             "#fb9f3a"
            ],
            [
             0.8888888888888888,
             "#fdca26"
            ],
            [
             1,
             "#f0f921"
            ]
           ]
          },
          "colorway": [
           "#636efa",
           "#EF553B",
           "#00cc96",
           "#ab63fa",
           "#FFA15A",
           "#19d3f3",
           "#FF6692",
           "#B6E880",
           "#FF97FF",
           "#FECB52"
          ],
          "font": {
           "color": "#2a3f5f"
          },
          "geo": {
           "bgcolor": "white",
           "lakecolor": "white",
           "landcolor": "#E5ECF6",
           "showlakes": true,
           "showland": true,
           "subunitcolor": "white"
          },
          "hoverlabel": {
           "align": "left"
          },
          "hovermode": "closest",
          "mapbox": {
           "style": "light"
          },
          "paper_bgcolor": "white",
          "plot_bgcolor": "#E5ECF6",
          "polar": {
           "angularaxis": {
            "gridcolor": "white",
            "linecolor": "white",
            "ticks": ""
           },
           "bgcolor": "#E5ECF6",
           "radialaxis": {
            "gridcolor": "white",
            "linecolor": "white",
            "ticks": ""
           }
          },
          "scene": {
           "xaxis": {
            "backgroundcolor": "#E5ECF6",
            "gridcolor": "white",
            "gridwidth": 2,
            "linecolor": "white",
            "showbackground": true,
            "ticks": "",
            "zerolinecolor": "white"
           },
           "yaxis": {
            "backgroundcolor": "#E5ECF6",
            "gridcolor": "white",
            "gridwidth": 2,
            "linecolor": "white",
            "showbackground": true,
            "ticks": "",
            "zerolinecolor": "white"
           },
           "zaxis": {
            "backgroundcolor": "#E5ECF6",
            "gridcolor": "white",
            "gridwidth": 2,
            "linecolor": "white",
            "showbackground": true,
            "ticks": "",
            "zerolinecolor": "white"
           }
          },
          "shapedefaults": {
           "line": {
            "color": "#2a3f5f"
           }
          },
          "ternary": {
           "aaxis": {
            "gridcolor": "white",
            "linecolor": "white",
            "ticks": ""
           },
           "baxis": {
            "gridcolor": "white",
            "linecolor": "white",
            "ticks": ""
           },
           "bgcolor": "#E5ECF6",
           "caxis": {
            "gridcolor": "white",
            "linecolor": "white",
            "ticks": ""
           }
          },
          "title": {
           "x": 0.05
          },
          "xaxis": {
           "automargin": true,
           "gridcolor": "white",
           "linecolor": "white",
           "ticks": "",
           "title": {
            "standoff": 15
           },
           "zerolinecolor": "white",
           "zerolinewidth": 2
          },
          "yaxis": {
           "automargin": true,
           "gridcolor": "white",
           "linecolor": "white",
           "ticks": "",
           "title": {
            "standoff": 15
           },
           "zerolinecolor": "white",
           "zerolinewidth": 2
          }
         }
        },
        "title": {
         "text": "S1 injections scaled counts only ipsilateral, p7(n=1) and p6 (n=2?)"
        },
        "violinmode": "group",
        "xaxis": {
         "anchor": "y",
         "categoryarray": [
          "Visual areas",
          "Retrosplenial area",
          "Auditory areas",
          "Thalamus",
          "Main olfactory bulb",
          "Piriform area"
         ],
         "categoryorder": "array",
         "domain": [
          0,
          1
         ],
         "title": {
          "text": "General area"
         }
        },
        "yaxis": {
         "anchor": "x",
         "domain": [
          0,
          1
         ],
         "title": {
          "text": "scaled count"
         }
        }
       }
      }
     },
     "metadata": {},
     "output_type": "display_data"
    }
   ],
   "source": [
    "plot_scaled_zoomed(\n",
    "    df_grouped,\n",
    "    \"S1 injections scaled counts only ipsilateral, p7(n=1) and p6 (n=2?)\",\n",
    ")"
   ]
  },
  {
   "cell_type": "code",
   "execution_count": 44,
   "id": "870980f7",
   "metadata": {},
   "outputs": [
    {
     "data": {
      "application/vnd.plotly.v1+json": {
       "config": {
        "plotlyServerURL": "https://plotly.com"
       },
       "data": [
        {
         "alignmentgroup": "True",
         "box": {
          "visible": true
         },
         "hovertemplate": "General area=%{x}<br>count=%{y}<extra></extra>",
         "legendgroup": "",
         "marker": {
          "color": "#636efa"
         },
         "meanline": {
          "visible": true
         },
         "name": "",
         "offsetgroup": "",
         "orientation": "v",
         "scalegroup": "True",
         "showlegend": false,
         "type": "violin",
         "x": [
          "Auditory areas",
          "Main olfactory bulb",
          "Piriform area",
          "Retrosplenial area",
          "Thalamus",
          "Visual areas",
          "Auditory areas",
          "Main olfactory bulb",
          "Piriform area",
          "Retrosplenial area",
          "Thalamus",
          "Visual areas",
          "Auditory areas",
          "Main olfactory bulb",
          "Piriform area",
          "Retrosplenial area",
          "Thalamus",
          "Visual areas"
         ],
         "x0": " ",
         "xaxis": "x",
         "y": {
          "bdata": "XgH8AG4AwgIRAaIE+QGKAHoAjguoAhcNCgLOAD0AxQNgAY0H",
          "dtype": "i2"
         },
         "y0": " ",
         "yaxis": "y"
        }
       ],
       "layout": {
        "legend": {
         "tracegroupgap": 0
        },
        "template": {
         "data": {
          "bar": [
           {
            "error_x": {
             "color": "#2a3f5f"
            },
            "error_y": {
             "color": "#2a3f5f"
            },
            "marker": {
             "line": {
              "color": "#E5ECF6",
              "width": 0.5
             },
             "pattern": {
              "fillmode": "overlay",
              "size": 10,
              "solidity": 0.2
             }
            },
            "type": "bar"
           }
          ],
          "barpolar": [
           {
            "marker": {
             "line": {
              "color": "#E5ECF6",
              "width": 0.5
             },
             "pattern": {
              "fillmode": "overlay",
              "size": 10,
              "solidity": 0.2
             }
            },
            "type": "barpolar"
           }
          ],
          "carpet": [
           {
            "aaxis": {
             "endlinecolor": "#2a3f5f",
             "gridcolor": "white",
             "linecolor": "white",
             "minorgridcolor": "white",
             "startlinecolor": "#2a3f5f"
            },
            "baxis": {
             "endlinecolor": "#2a3f5f",
             "gridcolor": "white",
             "linecolor": "white",
             "minorgridcolor": "white",
             "startlinecolor": "#2a3f5f"
            },
            "type": "carpet"
           }
          ],
          "choropleth": [
           {
            "colorbar": {
             "outlinewidth": 0,
             "ticks": ""
            },
            "type": "choropleth"
           }
          ],
          "contour": [
           {
            "colorbar": {
             "outlinewidth": 0,
             "ticks": ""
            },
            "colorscale": [
             [
              0,
              "#0d0887"
             ],
             [
              0.1111111111111111,
              "#46039f"
             ],
             [
              0.2222222222222222,
              "#7201a8"
             ],
             [
              0.3333333333333333,
              "#9c179e"
             ],
             [
              0.4444444444444444,
              "#bd3786"
             ],
             [
              0.5555555555555556,
              "#d8576b"
             ],
             [
              0.6666666666666666,
              "#ed7953"
             ],
             [
              0.7777777777777778,
              "#fb9f3a"
             ],
             [
              0.8888888888888888,
              "#fdca26"
             ],
             [
              1,
              "#f0f921"
             ]
            ],
            "type": "contour"
           }
          ],
          "contourcarpet": [
           {
            "colorbar": {
             "outlinewidth": 0,
             "ticks": ""
            },
            "type": "contourcarpet"
           }
          ],
          "heatmap": [
           {
            "colorbar": {
             "outlinewidth": 0,
             "ticks": ""
            },
            "colorscale": [
             [
              0,
              "#0d0887"
             ],
             [
              0.1111111111111111,
              "#46039f"
             ],
             [
              0.2222222222222222,
              "#7201a8"
             ],
             [
              0.3333333333333333,
              "#9c179e"
             ],
             [
              0.4444444444444444,
              "#bd3786"
             ],
             [
              0.5555555555555556,
              "#d8576b"
             ],
             [
              0.6666666666666666,
              "#ed7953"
             ],
             [
              0.7777777777777778,
              "#fb9f3a"
             ],
             [
              0.8888888888888888,
              "#fdca26"
             ],
             [
              1,
              "#f0f921"
             ]
            ],
            "type": "heatmap"
           }
          ],
          "histogram": [
           {
            "marker": {
             "pattern": {
              "fillmode": "overlay",
              "size": 10,
              "solidity": 0.2
             }
            },
            "type": "histogram"
           }
          ],
          "histogram2d": [
           {
            "colorbar": {
             "outlinewidth": 0,
             "ticks": ""
            },
            "colorscale": [
             [
              0,
              "#0d0887"
             ],
             [
              0.1111111111111111,
              "#46039f"
             ],
             [
              0.2222222222222222,
              "#7201a8"
             ],
             [
              0.3333333333333333,
              "#9c179e"
             ],
             [
              0.4444444444444444,
              "#bd3786"
             ],
             [
              0.5555555555555556,
              "#d8576b"
             ],
             [
              0.6666666666666666,
              "#ed7953"
             ],
             [
              0.7777777777777778,
              "#fb9f3a"
             ],
             [
              0.8888888888888888,
              "#fdca26"
             ],
             [
              1,
              "#f0f921"
             ]
            ],
            "type": "histogram2d"
           }
          ],
          "histogram2dcontour": [
           {
            "colorbar": {
             "outlinewidth": 0,
             "ticks": ""
            },
            "colorscale": [
             [
              0,
              "#0d0887"
             ],
             [
              0.1111111111111111,
              "#46039f"
             ],
             [
              0.2222222222222222,
              "#7201a8"
             ],
             [
              0.3333333333333333,
              "#9c179e"
             ],
             [
              0.4444444444444444,
              "#bd3786"
             ],
             [
              0.5555555555555556,
              "#d8576b"
             ],
             [
              0.6666666666666666,
              "#ed7953"
             ],
             [
              0.7777777777777778,
              "#fb9f3a"
             ],
             [
              0.8888888888888888,
              "#fdca26"
             ],
             [
              1,
              "#f0f921"
             ]
            ],
            "type": "histogram2dcontour"
           }
          ],
          "mesh3d": [
           {
            "colorbar": {
             "outlinewidth": 0,
             "ticks": ""
            },
            "type": "mesh3d"
           }
          ],
          "parcoords": [
           {
            "line": {
             "colorbar": {
              "outlinewidth": 0,
              "ticks": ""
             }
            },
            "type": "parcoords"
           }
          ],
          "pie": [
           {
            "automargin": true,
            "type": "pie"
           }
          ],
          "scatter": [
           {
            "fillpattern": {
             "fillmode": "overlay",
             "size": 10,
             "solidity": 0.2
            },
            "type": "scatter"
           }
          ],
          "scatter3d": [
           {
            "line": {
             "colorbar": {
              "outlinewidth": 0,
              "ticks": ""
             }
            },
            "marker": {
             "colorbar": {
              "outlinewidth": 0,
              "ticks": ""
             }
            },
            "type": "scatter3d"
           }
          ],
          "scattercarpet": [
           {
            "marker": {
             "colorbar": {
              "outlinewidth": 0,
              "ticks": ""
             }
            },
            "type": "scattercarpet"
           }
          ],
          "scattergeo": [
           {
            "marker": {
             "colorbar": {
              "outlinewidth": 0,
              "ticks": ""
             }
            },
            "type": "scattergeo"
           }
          ],
          "scattergl": [
           {
            "marker": {
             "colorbar": {
              "outlinewidth": 0,
              "ticks": ""
             }
            },
            "type": "scattergl"
           }
          ],
          "scattermap": [
           {
            "marker": {
             "colorbar": {
              "outlinewidth": 0,
              "ticks": ""
             }
            },
            "type": "scattermap"
           }
          ],
          "scattermapbox": [
           {
            "marker": {
             "colorbar": {
              "outlinewidth": 0,
              "ticks": ""
             }
            },
            "type": "scattermapbox"
           }
          ],
          "scatterpolar": [
           {
            "marker": {
             "colorbar": {
              "outlinewidth": 0,
              "ticks": ""
             }
            },
            "type": "scatterpolar"
           }
          ],
          "scatterpolargl": [
           {
            "marker": {
             "colorbar": {
              "outlinewidth": 0,
              "ticks": ""
             }
            },
            "type": "scatterpolargl"
           }
          ],
          "scatterternary": [
           {
            "marker": {
             "colorbar": {
              "outlinewidth": 0,
              "ticks": ""
             }
            },
            "type": "scatterternary"
           }
          ],
          "surface": [
           {
            "colorbar": {
             "outlinewidth": 0,
             "ticks": ""
            },
            "colorscale": [
             [
              0,
              "#0d0887"
             ],
             [
              0.1111111111111111,
              "#46039f"
             ],
             [
              0.2222222222222222,
              "#7201a8"
             ],
             [
              0.3333333333333333,
              "#9c179e"
             ],
             [
              0.4444444444444444,
              "#bd3786"
             ],
             [
              0.5555555555555556,
              "#d8576b"
             ],
             [
              0.6666666666666666,
              "#ed7953"
             ],
             [
              0.7777777777777778,
              "#fb9f3a"
             ],
             [
              0.8888888888888888,
              "#fdca26"
             ],
             [
              1,
              "#f0f921"
             ]
            ],
            "type": "surface"
           }
          ],
          "table": [
           {
            "cells": {
             "fill": {
              "color": "#EBF0F8"
             },
             "line": {
              "color": "white"
             }
            },
            "header": {
             "fill": {
              "color": "#C8D4E3"
             },
             "line": {
              "color": "white"
             }
            },
            "type": "table"
           }
          ]
         },
         "layout": {
          "annotationdefaults": {
           "arrowcolor": "#2a3f5f",
           "arrowhead": 0,
           "arrowwidth": 1
          },
          "autotypenumbers": "strict",
          "coloraxis": {
           "colorbar": {
            "outlinewidth": 0,
            "ticks": ""
           }
          },
          "colorscale": {
           "diverging": [
            [
             0,
             "#8e0152"
            ],
            [
             0.1,
             "#c51b7d"
            ],
            [
             0.2,
             "#de77ae"
            ],
            [
             0.3,
             "#f1b6da"
            ],
            [
             0.4,
             "#fde0ef"
            ],
            [
             0.5,
             "#f7f7f7"
            ],
            [
             0.6,
             "#e6f5d0"
            ],
            [
             0.7,
             "#b8e186"
            ],
            [
             0.8,
             "#7fbc41"
            ],
            [
             0.9,
             "#4d9221"
            ],
            [
             1,
             "#276419"
            ]
           ],
           "sequential": [
            [
             0,
             "#0d0887"
            ],
            [
             0.1111111111111111,
             "#46039f"
            ],
            [
             0.2222222222222222,
             "#7201a8"
            ],
            [
             0.3333333333333333,
             "#9c179e"
            ],
            [
             0.4444444444444444,
             "#bd3786"
            ],
            [
             0.5555555555555556,
             "#d8576b"
            ],
            [
             0.6666666666666666,
             "#ed7953"
            ],
            [
             0.7777777777777778,
             "#fb9f3a"
            ],
            [
             0.8888888888888888,
             "#fdca26"
            ],
            [
             1,
             "#f0f921"
            ]
           ],
           "sequentialminus": [
            [
             0,
             "#0d0887"
            ],
            [
             0.1111111111111111,
             "#46039f"
            ],
            [
             0.2222222222222222,
             "#7201a8"
            ],
            [
             0.3333333333333333,
             "#9c179e"
            ],
            [
             0.4444444444444444,
             "#bd3786"
            ],
            [
             0.5555555555555556,
             "#d8576b"
            ],
            [
             0.6666666666666666,
             "#ed7953"
            ],
            [
             0.7777777777777778,
             "#fb9f3a"
            ],
            [
             0.8888888888888888,
             "#fdca26"
            ],
            [
             1,
             "#f0f921"
            ]
           ]
          },
          "colorway": [
           "#636efa",
           "#EF553B",
           "#00cc96",
           "#ab63fa",
           "#FFA15A",
           "#19d3f3",
           "#FF6692",
           "#B6E880",
           "#FF97FF",
           "#FECB52"
          ],
          "font": {
           "color": "#2a3f5f"
          },
          "geo": {
           "bgcolor": "white",
           "lakecolor": "white",
           "landcolor": "#E5ECF6",
           "showlakes": true,
           "showland": true,
           "subunitcolor": "white"
          },
          "hoverlabel": {
           "align": "left"
          },
          "hovermode": "closest",
          "mapbox": {
           "style": "light"
          },
          "paper_bgcolor": "white",
          "plot_bgcolor": "#E5ECF6",
          "polar": {
           "angularaxis": {
            "gridcolor": "white",
            "linecolor": "white",
            "ticks": ""
           },
           "bgcolor": "#E5ECF6",
           "radialaxis": {
            "gridcolor": "white",
            "linecolor": "white",
            "ticks": ""
           }
          },
          "scene": {
           "xaxis": {
            "backgroundcolor": "#E5ECF6",
            "gridcolor": "white",
            "gridwidth": 2,
            "linecolor": "white",
            "showbackground": true,
            "ticks": "",
            "zerolinecolor": "white"
           },
           "yaxis": {
            "backgroundcolor": "#E5ECF6",
            "gridcolor": "white",
            "gridwidth": 2,
            "linecolor": "white",
            "showbackground": true,
            "ticks": "",
            "zerolinecolor": "white"
           },
           "zaxis": {
            "backgroundcolor": "#E5ECF6",
            "gridcolor": "white",
            "gridwidth": 2,
            "linecolor": "white",
            "showbackground": true,
            "ticks": "",
            "zerolinecolor": "white"
           }
          },
          "shapedefaults": {
           "line": {
            "color": "#2a3f5f"
           }
          },
          "ternary": {
           "aaxis": {
            "gridcolor": "white",
            "linecolor": "white",
            "ticks": ""
           },
           "baxis": {
            "gridcolor": "white",
            "linecolor": "white",
            "ticks": ""
           },
           "bgcolor": "#E5ECF6",
           "caxis": {
            "gridcolor": "white",
            "linecolor": "white",
            "ticks": ""
           }
          },
          "title": {
           "x": 0.05
          },
          "xaxis": {
           "automargin": true,
           "gridcolor": "white",
           "linecolor": "white",
           "ticks": "",
           "title": {
            "standoff": 15
           },
           "zerolinecolor": "white",
           "zerolinewidth": 2
          },
          "yaxis": {
           "automargin": true,
           "gridcolor": "white",
           "linecolor": "white",
           "ticks": "",
           "title": {
            "standoff": 15
           },
           "zerolinecolor": "white",
           "zerolinewidth": 2
          }
         }
        },
        "title": {
         "text": "S1 injections count only ipsilateral, p7(n=1) and p6 (n=2?)"
        },
        "violinmode": "group",
        "xaxis": {
         "anchor": "y",
         "categoryarray": [
          "Visual areas",
          "Retrosplenial area",
          "Thalamus",
          "Auditory areas",
          "Main olfactory bulb",
          "Piriform area"
         ],
         "categoryorder": "array",
         "domain": [
          0,
          1
         ],
         "title": {
          "text": "General area"
         }
        },
        "yaxis": {
         "anchor": "x",
         "domain": [
          0,
          1
         ],
         "title": {
          "text": "count"
         }
        }
       }
      }
     },
     "metadata": {},
     "output_type": "display_data"
    }
   ],
   "source": [
    "plot_count_zoomed(\n",
    "    df_grouped,\n",
    "    \"S1 injections count only ipsilateral, p7(n=1) and p6 (n=2?)\",\n",
    ")"
   ]
  },
  {
   "cell_type": "code",
   "execution_count": 45,
   "id": "b5ab04a5",
   "metadata": {},
   "outputs": [],
   "source": [
    "def specific_interests(big_file_long, area_name, data_frame_name):\n",
    "\n",
    "    data_frame_name = pd.DataFrame(\n",
    "        big_file_long[big_file_long[\"General area\"].isin([area_name])]\n",
    "    )\n",
    "\n",
    "    data_frame_name.insert(7, \"Subdivided\", [0] * len(data_frame_name))\n",
    "\n",
    "    for index, row in data_frame_name.iterrows():\n",
    "        region_id = row[\"Region ID\"]\n",
    "        subdivided_region = regions_complete.loc[\n",
    "            regions_complete[\"Region ID\"] == region_id, \"Subdivided\"\n",
    "        ].values[0]\n",
    "        # add the Subdivided values to the Somatosensory_areas DataFrame\n",
    "        data_frame_name.at[index, \"Subdivided\"] = subdivided_region\n",
    "\n",
    "    return data_frame_name"
   ]
  },
  {
   "cell_type": "markdown",
   "id": "fc706ee6",
   "metadata": {},
   "source": [
    "area 29 (granular): ventral RSC\n",
    "area 30 (dysgranular): dorsal RSC and agranular RSC"
   ]
  },
  {
   "cell_type": "code",
   "execution_count": 46,
   "id": "7d7dba23",
   "metadata": {},
   "outputs": [
    {
     "name": "stderr",
     "output_type": "stream",
     "text": [
      "C:\\Users\\sahet\\AppData\\Local\\Temp\\ipykernel_6104\\2296359539.py:15: FutureWarning:\n",
      "\n",
      "Setting an item of incompatible dtype is deprecated and will raise an error in a future version of pandas. Value 'area 30' has dtype incompatible with int64, please explicitly cast to a compatible dtype first.\n",
      "\n",
      "C:\\Users\\sahet\\AppData\\Local\\Temp\\ipykernel_6104\\2296359539.py:15: FutureWarning:\n",
      "\n",
      "Setting an item of incompatible dtype is deprecated and will raise an error in a future version of pandas. Value 'Anteromedial visual area' has dtype incompatible with int64, please explicitly cast to a compatible dtype first.\n",
      "\n"
     ]
    }
   ],
   "source": [
    "Retrosplenial_areas = specific_interests(\n",
    "    big_file_S1_injections_long, \"Retrosplenial area\", \"Retrosplenial_areas\"\n",
    ")\n",
    "Visual_areas = specific_interests(\n",
    "    big_file_S1_injections_long, \"Visual areas\", \"Visual_areas\"\n",
    ")"
   ]
  },
  {
   "cell_type": "code",
   "execution_count": 47,
   "id": "eb8325f3",
   "metadata": {},
   "outputs": [
    {
     "name": "stderr",
     "output_type": "stream",
     "text": [
      "C:\\Users\\sahet\\AppData\\Local\\Temp\\ipykernel_6104\\844754293.py:17: FutureWarning:\n",
      "\n",
      "Setting an item of incompatible dtype is deprecated and will raise an error in a future version of pandas. Value '0.023129685755303876' has dtype incompatible with int64, please explicitly cast to a compatible dtype first.\n",
      "\n"
     ]
    },
    {
     "data": {
      "text/html": [
       "<div>\n",
       "<style scoped>\n",
       "    .dataframe tbody tr th:only-of-type {\n",
       "        vertical-align: middle;\n",
       "    }\n",
       "\n",
       "    .dataframe tbody tr th {\n",
       "        vertical-align: top;\n",
       "    }\n",
       "\n",
       "    .dataframe thead th {\n",
       "        text-align: right;\n",
       "    }\n",
       "</style>\n",
       "<table border=\"1\" class=\"dataframe\">\n",
       "  <thead>\n",
       "    <tr style=\"text-align: right;\">\n",
       "      <th></th>\n",
       "      <th>Brain</th>\n",
       "      <th>Subdivided</th>\n",
       "      <th>Hemisphere</th>\n",
       "      <th>age</th>\n",
       "      <th>count</th>\n",
       "      <th>scaled count</th>\n",
       "    </tr>\n",
       "  </thead>\n",
       "  <tbody>\n",
       "    <tr>\n",
       "      <th>0</th>\n",
       "      <td>WT_n1_P6</td>\n",
       "      <td>area 29</td>\n",
       "      <td>ipsilateral</td>\n",
       "      <td>p6</td>\n",
       "      <td>145</td>\n",
       "      <td>0.023130</td>\n",
       "    </tr>\n",
       "    <tr>\n",
       "      <th>1</th>\n",
       "      <td>WT_n1_P6</td>\n",
       "      <td>area 30</td>\n",
       "      <td>ipsilateral</td>\n",
       "      <td>p6</td>\n",
       "      <td>561</td>\n",
       "      <td>0.089488</td>\n",
       "    </tr>\n",
       "    <tr>\n",
       "      <th>2</th>\n",
       "      <td>WT_n2_P6</td>\n",
       "      <td>area 29</td>\n",
       "      <td>ipsilateral</td>\n",
       "      <td>p6</td>\n",
       "      <td>915</td>\n",
       "      <td>0.069890</td>\n",
       "    </tr>\n",
       "    <tr>\n",
       "      <th>3</th>\n",
       "      <td>WT_n2_P6</td>\n",
       "      <td>area 30</td>\n",
       "      <td>ipsilateral</td>\n",
       "      <td>p6</td>\n",
       "      <td>2043</td>\n",
       "      <td>0.156049</td>\n",
       "    </tr>\n",
       "    <tr>\n",
       "      <th>4</th>\n",
       "      <td>WT_n2_P7</td>\n",
       "      <td>area 29</td>\n",
       "      <td>ipsilateral</td>\n",
       "      <td>p7</td>\n",
       "      <td>382</td>\n",
       "      <td>0.055742</td>\n",
       "    </tr>\n",
       "    <tr>\n",
       "      <th>5</th>\n",
       "      <td>WT_n2_P7</td>\n",
       "      <td>area 30</td>\n",
       "      <td>ipsilateral</td>\n",
       "      <td>p7</td>\n",
       "      <td>583</td>\n",
       "      <td>0.085072</td>\n",
       "    </tr>\n",
       "  </tbody>\n",
       "</table>\n",
       "</div>"
      ],
      "text/plain": [
       "      Brain Subdivided   Hemisphere age  count  scaled count\n",
       "0  WT_n1_P6    area 29  ipsilateral  p6    145      0.023130\n",
       "1  WT_n1_P6    area 30  ipsilateral  p6    561      0.089488\n",
       "2  WT_n2_P6    area 29  ipsilateral  p6    915      0.069890\n",
       "3  WT_n2_P6    area 30  ipsilateral  p6   2043      0.156049\n",
       "4  WT_n2_P7    area 29  ipsilateral  p7    382      0.055742\n",
       "5  WT_n2_P7    area 30  ipsilateral  p7    583      0.085072"
      ]
     },
     "execution_count": 47,
     "metadata": {},
     "output_type": "execute_result"
    }
   ],
   "source": [
    "subdivided_rsc_filtered = Retrosplenial_areas[\n",
    "    [\"Brain\", \"age\", \"count\", \"Hemisphere\", \"Subdivided\"]\n",
    "]\n",
    "\n",
    "subdivided_rsc_grouped = subdivided_rsc_filtered.groupby(\n",
    "    [\"Brain\", \"Subdivided\", \"Hemisphere\", \"age\"], as_index=False\n",
    ")[\"count\"].sum()\n",
    "\n",
    "# add scaled column with 0\n",
    "subdivided_rsc_grouped[\"scaled count\"] = 0\n",
    "# scale the counts\n",
    "for index, row in subdivided_rsc_grouped.iterrows():\n",
    "    brain_name = row[\"Brain\"]\n",
    "    count = row[\"count\"]\n",
    "    total_count = totals.loc[totals[\"Brain\"] == brain_name, \"total\"].values[0]\n",
    "    scaled_count = 1 / total_count * count\n",
    "    subdivided_rsc_grouped.loc[index, \"scaled count\"] = scaled_count\n",
    "subdivided_rsc_grouped"
   ]
  },
  {
   "cell_type": "code",
   "execution_count": 52,
   "id": "a3a2d0e5",
   "metadata": {},
   "outputs": [
    {
     "name": "stderr",
     "output_type": "stream",
     "text": [
      "C:\\Users\\sahet\\AppData\\Local\\Temp\\ipykernel_6104\\3134058521.py:17: FutureWarning:\n",
      "\n",
      "Setting an item of incompatible dtype is deprecated and will raise an error in a future version of pandas. Value '0.01260169085978625' has dtype incompatible with int64, please explicitly cast to a compatible dtype first.\n",
      "\n"
     ]
    },
    {
     "data": {
      "text/html": [
       "<div>\n",
       "<style scoped>\n",
       "    .dataframe tbody tr th:only-of-type {\n",
       "        vertical-align: middle;\n",
       "    }\n",
       "\n",
       "    .dataframe tbody tr th {\n",
       "        vertical-align: top;\n",
       "    }\n",
       "\n",
       "    .dataframe thead th {\n",
       "        text-align: right;\n",
       "    }\n",
       "</style>\n",
       "<table border=\"1\" class=\"dataframe\">\n",
       "  <thead>\n",
       "    <tr style=\"text-align: right;\">\n",
       "      <th></th>\n",
       "      <th>Brain</th>\n",
       "      <th>Subdivided</th>\n",
       "      <th>Hemisphere</th>\n",
       "      <th>age</th>\n",
       "      <th>count</th>\n",
       "      <th>scaled count</th>\n",
       "    </tr>\n",
       "  </thead>\n",
       "  <tbody>\n",
       "    <tr>\n",
       "      <th>0</th>\n",
       "      <td>WT_n1_P6</td>\n",
       "      <td>Anterolateral visual area</td>\n",
       "      <td>ipsilateral</td>\n",
       "      <td>p6</td>\n",
       "      <td>79</td>\n",
       "      <td>0.012602</td>\n",
       "    </tr>\n",
       "    <tr>\n",
       "      <th>1</th>\n",
       "      <td>WT_n1_P6</td>\n",
       "      <td>Anteromedial visual area</td>\n",
       "      <td>ipsilateral</td>\n",
       "      <td>p6</td>\n",
       "      <td>175</td>\n",
       "      <td>0.027915</td>\n",
       "    </tr>\n",
       "    <tr>\n",
       "      <th>2</th>\n",
       "      <td>WT_n1_P6</td>\n",
       "      <td>Lateral visual area</td>\n",
       "      <td>ipsilateral</td>\n",
       "      <td>p6</td>\n",
       "      <td>38</td>\n",
       "      <td>0.006062</td>\n",
       "    </tr>\n",
       "    <tr>\n",
       "      <th>3</th>\n",
       "      <td>WT_n1_P6</td>\n",
       "      <td>Laterointermediate area</td>\n",
       "      <td>contralateral</td>\n",
       "      <td>p6</td>\n",
       "      <td>1</td>\n",
       "      <td>0.000160</td>\n",
       "    </tr>\n",
       "    <tr>\n",
       "      <th>4</th>\n",
       "      <td>WT_n1_P6</td>\n",
       "      <td>Laterointermediate area</td>\n",
       "      <td>ipsilateral</td>\n",
       "      <td>p6</td>\n",
       "      <td>23</td>\n",
       "      <td>0.003669</td>\n",
       "    </tr>\n",
       "    <tr>\n",
       "      <th>5</th>\n",
       "      <td>WT_n1_P6</td>\n",
       "      <td>Postrhinal area</td>\n",
       "      <td>ipsilateral</td>\n",
       "      <td>p6</td>\n",
       "      <td>17</td>\n",
       "      <td>0.002712</td>\n",
       "    </tr>\n",
       "    <tr>\n",
       "      <th>6</th>\n",
       "      <td>WT_n1_P6</td>\n",
       "      <td>Primary visual area</td>\n",
       "      <td>ipsilateral</td>\n",
       "      <td>p6</td>\n",
       "      <td>664</td>\n",
       "      <td>0.105918</td>\n",
       "    </tr>\n",
       "    <tr>\n",
       "      <th>7</th>\n",
       "      <td>WT_n1_P6</td>\n",
       "      <td>posteromedial visual area</td>\n",
       "      <td>ipsilateral</td>\n",
       "      <td>p6</td>\n",
       "      <td>190</td>\n",
       "      <td>0.030308</td>\n",
       "    </tr>\n",
       "    <tr>\n",
       "      <th>8</th>\n",
       "      <td>WT_n2_P6</td>\n",
       "      <td>Anterolateral visual area</td>\n",
       "      <td>ipsilateral</td>\n",
       "      <td>p6</td>\n",
       "      <td>259</td>\n",
       "      <td>0.019783</td>\n",
       "    </tr>\n",
       "    <tr>\n",
       "      <th>9</th>\n",
       "      <td>WT_n2_P6</td>\n",
       "      <td>Anteromedial visual area</td>\n",
       "      <td>ipsilateral</td>\n",
       "      <td>p6</td>\n",
       "      <td>480</td>\n",
       "      <td>0.036664</td>\n",
       "    </tr>\n",
       "    <tr>\n",
       "      <th>10</th>\n",
       "      <td>WT_n2_P6</td>\n",
       "      <td>Lateral visual area</td>\n",
       "      <td>ipsilateral</td>\n",
       "      <td>p6</td>\n",
       "      <td>53</td>\n",
       "      <td>0.004048</td>\n",
       "    </tr>\n",
       "    <tr>\n",
       "      <th>11</th>\n",
       "      <td>WT_n2_P6</td>\n",
       "      <td>Laterointermediate area</td>\n",
       "      <td>ipsilateral</td>\n",
       "      <td>p6</td>\n",
       "      <td>16</td>\n",
       "      <td>0.001222</td>\n",
       "    </tr>\n",
       "    <tr>\n",
       "      <th>12</th>\n",
       "      <td>WT_n2_P6</td>\n",
       "      <td>Posterolateral visual area</td>\n",
       "      <td>ipsilateral</td>\n",
       "      <td>p6</td>\n",
       "      <td>4</td>\n",
       "      <td>0.000306</td>\n",
       "    </tr>\n",
       "    <tr>\n",
       "      <th>13</th>\n",
       "      <td>WT_n2_P6</td>\n",
       "      <td>Postrhinal area</td>\n",
       "      <td>ipsilateral</td>\n",
       "      <td>p6</td>\n",
       "      <td>33</td>\n",
       "      <td>0.002521</td>\n",
       "    </tr>\n",
       "    <tr>\n",
       "      <th>14</th>\n",
       "      <td>WT_n2_P6</td>\n",
       "      <td>Primary visual area</td>\n",
       "      <td>ipsilateral</td>\n",
       "      <td>p6</td>\n",
       "      <td>1867</td>\n",
       "      <td>0.142606</td>\n",
       "    </tr>\n",
       "    <tr>\n",
       "      <th>15</th>\n",
       "      <td>WT_n2_P6</td>\n",
       "      <td>posteromedial visual area</td>\n",
       "      <td>ipsilateral</td>\n",
       "      <td>p6</td>\n",
       "      <td>639</td>\n",
       "      <td>0.048808</td>\n",
       "    </tr>\n",
       "    <tr>\n",
       "      <th>16</th>\n",
       "      <td>WT_n2_P7</td>\n",
       "      <td>Anterolateral visual area</td>\n",
       "      <td>ipsilateral</td>\n",
       "      <td>p7</td>\n",
       "      <td>193</td>\n",
       "      <td>0.028163</td>\n",
       "    </tr>\n",
       "    <tr>\n",
       "      <th>17</th>\n",
       "      <td>WT_n2_P7</td>\n",
       "      <td>Anteromedial visual area</td>\n",
       "      <td>ipsilateral</td>\n",
       "      <td>p7</td>\n",
       "      <td>96</td>\n",
       "      <td>0.014008</td>\n",
       "    </tr>\n",
       "    <tr>\n",
       "      <th>18</th>\n",
       "      <td>WT_n2_P7</td>\n",
       "      <td>Lateral visual area</td>\n",
       "      <td>ipsilateral</td>\n",
       "      <td>p7</td>\n",
       "      <td>163</td>\n",
       "      <td>0.023785</td>\n",
       "    </tr>\n",
       "    <tr>\n",
       "      <th>19</th>\n",
       "      <td>WT_n2_P7</td>\n",
       "      <td>Laterointermediate area</td>\n",
       "      <td>ipsilateral</td>\n",
       "      <td>p7</td>\n",
       "      <td>41</td>\n",
       "      <td>0.005983</td>\n",
       "    </tr>\n",
       "    <tr>\n",
       "      <th>20</th>\n",
       "      <td>WT_n2_P7</td>\n",
       "      <td>Postrhinal area</td>\n",
       "      <td>ipsilateral</td>\n",
       "      <td>p7</td>\n",
       "      <td>8</td>\n",
       "      <td>0.001167</td>\n",
       "    </tr>\n",
       "    <tr>\n",
       "      <th>21</th>\n",
       "      <td>WT_n2_P7</td>\n",
       "      <td>Primary visual area</td>\n",
       "      <td>ipsilateral</td>\n",
       "      <td>p7</td>\n",
       "      <td>1259</td>\n",
       "      <td>0.183715</td>\n",
       "    </tr>\n",
       "    <tr>\n",
       "      <th>22</th>\n",
       "      <td>WT_n2_P7</td>\n",
       "      <td>posteromedial visual area</td>\n",
       "      <td>ipsilateral</td>\n",
       "      <td>p7</td>\n",
       "      <td>173</td>\n",
       "      <td>0.025244</td>\n",
       "    </tr>\n",
       "  </tbody>\n",
       "</table>\n",
       "</div>"
      ],
      "text/plain": [
       "       Brain                  Subdivided     Hemisphere age  count  \\\n",
       "0   WT_n1_P6   Anterolateral visual area    ipsilateral  p6     79   \n",
       "1   WT_n1_P6    Anteromedial visual area    ipsilateral  p6    175   \n",
       "2   WT_n1_P6         Lateral visual area    ipsilateral  p6     38   \n",
       "3   WT_n1_P6     Laterointermediate area  contralateral  p6      1   \n",
       "4   WT_n1_P6     Laterointermediate area    ipsilateral  p6     23   \n",
       "5   WT_n1_P6             Postrhinal area    ipsilateral  p6     17   \n",
       "6   WT_n1_P6         Primary visual area    ipsilateral  p6    664   \n",
       "7   WT_n1_P6   posteromedial visual area    ipsilateral  p6    190   \n",
       "8   WT_n2_P6   Anterolateral visual area    ipsilateral  p6    259   \n",
       "9   WT_n2_P6    Anteromedial visual area    ipsilateral  p6    480   \n",
       "10  WT_n2_P6         Lateral visual area    ipsilateral  p6     53   \n",
       "11  WT_n2_P6     Laterointermediate area    ipsilateral  p6     16   \n",
       "12  WT_n2_P6  Posterolateral visual area    ipsilateral  p6      4   \n",
       "13  WT_n2_P6             Postrhinal area    ipsilateral  p6     33   \n",
       "14  WT_n2_P6         Primary visual area    ipsilateral  p6   1867   \n",
       "15  WT_n2_P6   posteromedial visual area    ipsilateral  p6    639   \n",
       "16  WT_n2_P7   Anterolateral visual area    ipsilateral  p7    193   \n",
       "17  WT_n2_P7    Anteromedial visual area    ipsilateral  p7     96   \n",
       "18  WT_n2_P7         Lateral visual area    ipsilateral  p7    163   \n",
       "19  WT_n2_P7     Laterointermediate area    ipsilateral  p7     41   \n",
       "20  WT_n2_P7             Postrhinal area    ipsilateral  p7      8   \n",
       "21  WT_n2_P7         Primary visual area    ipsilateral  p7   1259   \n",
       "22  WT_n2_P7   posteromedial visual area    ipsilateral  p7    173   \n",
       "\n",
       "    scaled count  \n",
       "0       0.012602  \n",
       "1       0.027915  \n",
       "2       0.006062  \n",
       "3       0.000160  \n",
       "4       0.003669  \n",
       "5       0.002712  \n",
       "6       0.105918  \n",
       "7       0.030308  \n",
       "8       0.019783  \n",
       "9       0.036664  \n",
       "10      0.004048  \n",
       "11      0.001222  \n",
       "12      0.000306  \n",
       "13      0.002521  \n",
       "14      0.142606  \n",
       "15      0.048808  \n",
       "16      0.028163  \n",
       "17      0.014008  \n",
       "18      0.023785  \n",
       "19      0.005983  \n",
       "20      0.001167  \n",
       "21      0.183715  \n",
       "22      0.025244  "
      ]
     },
     "execution_count": 52,
     "metadata": {},
     "output_type": "execute_result"
    }
   ],
   "source": [
    "subdivided_Vis_filtered = Visual_areas[\n",
    "    [\"Brain\", \"age\", \"count\", \"Hemisphere\", \"Subdivided\"]\n",
    "]\n",
    "\n",
    "subdivided_Vis_grouped = subdivided_Vis_filtered.groupby(\n",
    "    [\"Brain\", \"Subdivided\", \"Hemisphere\", \"age\"], as_index=False\n",
    ")[\"count\"].sum()\n",
    "\n",
    "# add scaled column with 0\n",
    "subdivided_Vis_grouped[\"scaled count\"] = 0\n",
    "# scale the counts\n",
    "for index, row in subdivided_Vis_grouped.iterrows():\n",
    "    brain_name = row[\"Brain\"]\n",
    "    count = row[\"count\"]\n",
    "    total_count = totals.loc[totals[\"Brain\"] == brain_name, \"total\"].values[0]\n",
    "    scaled_count = 1 / total_count * count\n",
    "    subdivided_Vis_grouped.loc[index, \"scaled count\"] = scaled_count\n",
    "subdivided_Vis_grouped"
   ]
  },
  {
   "cell_type": "code",
   "execution_count": 57,
   "id": "f608a7a8",
   "metadata": {},
   "outputs": [],
   "source": [
    "def plot_count_zoomed_sub(big_file_long, Title):\n",
    "\n",
    "    df_hemi = big_file_long[big_file_long[\"Hemisphere\"] == \"ipsilateral\"]\n",
    "    area_order_count = (\n",
    "        df_hemi.groupby(\"Subdivided\")[\"count\"]\n",
    "        .max()\n",
    "        .sort_values(ascending=False)\n",
    "        .index.tolist()\n",
    "    )\n",
    "\n",
    "    fig = px.violin(\n",
    "        df_hemi,\n",
    "        y=\"count\",\n",
    "        x=\"Subdivided\",\n",
    "        box=True,\n",
    "        title=Title,\n",
    "        category_orders={\"Subdivided\": area_order_count},\n",
    "    )\n",
    "    fig.update_traces(\n",
    "        meanline_visible=True\n",
    "    )  # displays the arithmetic mean of the distribution\n",
    "    fig.update_layout(violinmode=\"group\")  # group left(right violins side-by-side)\n",
    "\n",
    "    return fig"
   ]
  },
  {
   "cell_type": "code",
   "execution_count": 58,
   "id": "1dfec693",
   "metadata": {},
   "outputs": [
    {
     "data": {
      "application/vnd.plotly.v1+json": {
       "config": {
        "plotlyServerURL": "https://plotly.com"
       },
       "data": [
        {
         "alignmentgroup": "True",
         "box": {
          "visible": true
         },
         "hovertemplate": "Subdivided=%{x}<br>count=%{y}<extra></extra>",
         "legendgroup": "",
         "marker": {
          "color": "#636efa"
         },
         "meanline": {
          "visible": true
         },
         "name": "",
         "offsetgroup": "",
         "orientation": "v",
         "scalegroup": "True",
         "showlegend": false,
         "type": "violin",
         "x": [
          "area 29",
          "area 30",
          "area 29",
          "area 30",
          "area 29",
          "area 30"
         ],
         "x0": " ",
         "xaxis": "x",
         "y": {
          "bdata": "kQAxApMD+wd+AUcC",
          "dtype": "i2"
         },
         "y0": " ",
         "yaxis": "y"
        }
       ],
       "layout": {
        "legend": {
         "tracegroupgap": 0
        },
        "template": {
         "data": {
          "bar": [
           {
            "error_x": {
             "color": "#2a3f5f"
            },
            "error_y": {
             "color": "#2a3f5f"
            },
            "marker": {
             "line": {
              "color": "#E5ECF6",
              "width": 0.5
             },
             "pattern": {
              "fillmode": "overlay",
              "size": 10,
              "solidity": 0.2
             }
            },
            "type": "bar"
           }
          ],
          "barpolar": [
           {
            "marker": {
             "line": {
              "color": "#E5ECF6",
              "width": 0.5
             },
             "pattern": {
              "fillmode": "overlay",
              "size": 10,
              "solidity": 0.2
             }
            },
            "type": "barpolar"
           }
          ],
          "carpet": [
           {
            "aaxis": {
             "endlinecolor": "#2a3f5f",
             "gridcolor": "white",
             "linecolor": "white",
             "minorgridcolor": "white",
             "startlinecolor": "#2a3f5f"
            },
            "baxis": {
             "endlinecolor": "#2a3f5f",
             "gridcolor": "white",
             "linecolor": "white",
             "minorgridcolor": "white",
             "startlinecolor": "#2a3f5f"
            },
            "type": "carpet"
           }
          ],
          "choropleth": [
           {
            "colorbar": {
             "outlinewidth": 0,
             "ticks": ""
            },
            "type": "choropleth"
           }
          ],
          "contour": [
           {
            "colorbar": {
             "outlinewidth": 0,
             "ticks": ""
            },
            "colorscale": [
             [
              0,
              "#0d0887"
             ],
             [
              0.1111111111111111,
              "#46039f"
             ],
             [
              0.2222222222222222,
              "#7201a8"
             ],
             [
              0.3333333333333333,
              "#9c179e"
             ],
             [
              0.4444444444444444,
              "#bd3786"
             ],
             [
              0.5555555555555556,
              "#d8576b"
             ],
             [
              0.6666666666666666,
              "#ed7953"
             ],
             [
              0.7777777777777778,
              "#fb9f3a"
             ],
             [
              0.8888888888888888,
              "#fdca26"
             ],
             [
              1,
              "#f0f921"
             ]
            ],
            "type": "contour"
           }
          ],
          "contourcarpet": [
           {
            "colorbar": {
             "outlinewidth": 0,
             "ticks": ""
            },
            "type": "contourcarpet"
           }
          ],
          "heatmap": [
           {
            "colorbar": {
             "outlinewidth": 0,
             "ticks": ""
            },
            "colorscale": [
             [
              0,
              "#0d0887"
             ],
             [
              0.1111111111111111,
              "#46039f"
             ],
             [
              0.2222222222222222,
              "#7201a8"
             ],
             [
              0.3333333333333333,
              "#9c179e"
             ],
             [
              0.4444444444444444,
              "#bd3786"
             ],
             [
              0.5555555555555556,
              "#d8576b"
             ],
             [
              0.6666666666666666,
              "#ed7953"
             ],
             [
              0.7777777777777778,
              "#fb9f3a"
             ],
             [
              0.8888888888888888,
              "#fdca26"
             ],
             [
              1,
              "#f0f921"
             ]
            ],
            "type": "heatmap"
           }
          ],
          "histogram": [
           {
            "marker": {
             "pattern": {
              "fillmode": "overlay",
              "size": 10,
              "solidity": 0.2
             }
            },
            "type": "histogram"
           }
          ],
          "histogram2d": [
           {
            "colorbar": {
             "outlinewidth": 0,
             "ticks": ""
            },
            "colorscale": [
             [
              0,
              "#0d0887"
             ],
             [
              0.1111111111111111,
              "#46039f"
             ],
             [
              0.2222222222222222,
              "#7201a8"
             ],
             [
              0.3333333333333333,
              "#9c179e"
             ],
             [
              0.4444444444444444,
              "#bd3786"
             ],
             [
              0.5555555555555556,
              "#d8576b"
             ],
             [
              0.6666666666666666,
              "#ed7953"
             ],
             [
              0.7777777777777778,
              "#fb9f3a"
             ],
             [
              0.8888888888888888,
              "#fdca26"
             ],
             [
              1,
              "#f0f921"
             ]
            ],
            "type": "histogram2d"
           }
          ],
          "histogram2dcontour": [
           {
            "colorbar": {
             "outlinewidth": 0,
             "ticks": ""
            },
            "colorscale": [
             [
              0,
              "#0d0887"
             ],
             [
              0.1111111111111111,
              "#46039f"
             ],
             [
              0.2222222222222222,
              "#7201a8"
             ],
             [
              0.3333333333333333,
              "#9c179e"
             ],
             [
              0.4444444444444444,
              "#bd3786"
             ],
             [
              0.5555555555555556,
              "#d8576b"
             ],
             [
              0.6666666666666666,
              "#ed7953"
             ],
             [
              0.7777777777777778,
              "#fb9f3a"
             ],
             [
              0.8888888888888888,
              "#fdca26"
             ],
             [
              1,
              "#f0f921"
             ]
            ],
            "type": "histogram2dcontour"
           }
          ],
          "mesh3d": [
           {
            "colorbar": {
             "outlinewidth": 0,
             "ticks": ""
            },
            "type": "mesh3d"
           }
          ],
          "parcoords": [
           {
            "line": {
             "colorbar": {
              "outlinewidth": 0,
              "ticks": ""
             }
            },
            "type": "parcoords"
           }
          ],
          "pie": [
           {
            "automargin": true,
            "type": "pie"
           }
          ],
          "scatter": [
           {
            "fillpattern": {
             "fillmode": "overlay",
             "size": 10,
             "solidity": 0.2
            },
            "type": "scatter"
           }
          ],
          "scatter3d": [
           {
            "line": {
             "colorbar": {
              "outlinewidth": 0,
              "ticks": ""
             }
            },
            "marker": {
             "colorbar": {
              "outlinewidth": 0,
              "ticks": ""
             }
            },
            "type": "scatter3d"
           }
          ],
          "scattercarpet": [
           {
            "marker": {
             "colorbar": {
              "outlinewidth": 0,
              "ticks": ""
             }
            },
            "type": "scattercarpet"
           }
          ],
          "scattergeo": [
           {
            "marker": {
             "colorbar": {
              "outlinewidth": 0,
              "ticks": ""
             }
            },
            "type": "scattergeo"
           }
          ],
          "scattergl": [
           {
            "marker": {
             "colorbar": {
              "outlinewidth": 0,
              "ticks": ""
             }
            },
            "type": "scattergl"
           }
          ],
          "scattermap": [
           {
            "marker": {
             "colorbar": {
              "outlinewidth": 0,
              "ticks": ""
             }
            },
            "type": "scattermap"
           }
          ],
          "scattermapbox": [
           {
            "marker": {
             "colorbar": {
              "outlinewidth": 0,
              "ticks": ""
             }
            },
            "type": "scattermapbox"
           }
          ],
          "scatterpolar": [
           {
            "marker": {
             "colorbar": {
              "outlinewidth": 0,
              "ticks": ""
             }
            },
            "type": "scatterpolar"
           }
          ],
          "scatterpolargl": [
           {
            "marker": {
             "colorbar": {
              "outlinewidth": 0,
              "ticks": ""
             }
            },
            "type": "scatterpolargl"
           }
          ],
          "scatterternary": [
           {
            "marker": {
             "colorbar": {
              "outlinewidth": 0,
              "ticks": ""
             }
            },
            "type": "scatterternary"
           }
          ],
          "surface": [
           {
            "colorbar": {
             "outlinewidth": 0,
             "ticks": ""
            },
            "colorscale": [
             [
              0,
              "#0d0887"
             ],
             [
              0.1111111111111111,
              "#46039f"
             ],
             [
              0.2222222222222222,
              "#7201a8"
             ],
             [
              0.3333333333333333,
              "#9c179e"
             ],
             [
              0.4444444444444444,
              "#bd3786"
             ],
             [
              0.5555555555555556,
              "#d8576b"
             ],
             [
              0.6666666666666666,
              "#ed7953"
             ],
             [
              0.7777777777777778,
              "#fb9f3a"
             ],
             [
              0.8888888888888888,
              "#fdca26"
             ],
             [
              1,
              "#f0f921"
             ]
            ],
            "type": "surface"
           }
          ],
          "table": [
           {
            "cells": {
             "fill": {
              "color": "#EBF0F8"
             },
             "line": {
              "color": "white"
             }
            },
            "header": {
             "fill": {
              "color": "#C8D4E3"
             },
             "line": {
              "color": "white"
             }
            },
            "type": "table"
           }
          ]
         },
         "layout": {
          "annotationdefaults": {
           "arrowcolor": "#2a3f5f",
           "arrowhead": 0,
           "arrowwidth": 1
          },
          "autotypenumbers": "strict",
          "coloraxis": {
           "colorbar": {
            "outlinewidth": 0,
            "ticks": ""
           }
          },
          "colorscale": {
           "diverging": [
            [
             0,
             "#8e0152"
            ],
            [
             0.1,
             "#c51b7d"
            ],
            [
             0.2,
             "#de77ae"
            ],
            [
             0.3,
             "#f1b6da"
            ],
            [
             0.4,
             "#fde0ef"
            ],
            [
             0.5,
             "#f7f7f7"
            ],
            [
             0.6,
             "#e6f5d0"
            ],
            [
             0.7,
             "#b8e186"
            ],
            [
             0.8,
             "#7fbc41"
            ],
            [
             0.9,
             "#4d9221"
            ],
            [
             1,
             "#276419"
            ]
           ],
           "sequential": [
            [
             0,
             "#0d0887"
            ],
            [
             0.1111111111111111,
             "#46039f"
            ],
            [
             0.2222222222222222,
             "#7201a8"
            ],
            [
             0.3333333333333333,
             "#9c179e"
            ],
            [
             0.4444444444444444,
             "#bd3786"
            ],
            [
             0.5555555555555556,
             "#d8576b"
            ],
            [
             0.6666666666666666,
             "#ed7953"
            ],
            [
             0.7777777777777778,
             "#fb9f3a"
            ],
            [
             0.8888888888888888,
             "#fdca26"
            ],
            [
             1,
             "#f0f921"
            ]
           ],
           "sequentialminus": [
            [
             0,
             "#0d0887"
            ],
            [
             0.1111111111111111,
             "#46039f"
            ],
            [
             0.2222222222222222,
             "#7201a8"
            ],
            [
             0.3333333333333333,
             "#9c179e"
            ],
            [
             0.4444444444444444,
             "#bd3786"
            ],
            [
             0.5555555555555556,
             "#d8576b"
            ],
            [
             0.6666666666666666,
             "#ed7953"
            ],
            [
             0.7777777777777778,
             "#fb9f3a"
            ],
            [
             0.8888888888888888,
             "#fdca26"
            ],
            [
             1,
             "#f0f921"
            ]
           ]
          },
          "colorway": [
           "#636efa",
           "#EF553B",
           "#00cc96",
           "#ab63fa",
           "#FFA15A",
           "#19d3f3",
           "#FF6692",
           "#B6E880",
           "#FF97FF",
           "#FECB52"
          ],
          "font": {
           "color": "#2a3f5f"
          },
          "geo": {
           "bgcolor": "white",
           "lakecolor": "white",
           "landcolor": "#E5ECF6",
           "showlakes": true,
           "showland": true,
           "subunitcolor": "white"
          },
          "hoverlabel": {
           "align": "left"
          },
          "hovermode": "closest",
          "mapbox": {
           "style": "light"
          },
          "paper_bgcolor": "white",
          "plot_bgcolor": "#E5ECF6",
          "polar": {
           "angularaxis": {
            "gridcolor": "white",
            "linecolor": "white",
            "ticks": ""
           },
           "bgcolor": "#E5ECF6",
           "radialaxis": {
            "gridcolor": "white",
            "linecolor": "white",
            "ticks": ""
           }
          },
          "scene": {
           "xaxis": {
            "backgroundcolor": "#E5ECF6",
            "gridcolor": "white",
            "gridwidth": 2,
            "linecolor": "white",
            "showbackground": true,
            "ticks": "",
            "zerolinecolor": "white"
           },
           "yaxis": {
            "backgroundcolor": "#E5ECF6",
            "gridcolor": "white",
            "gridwidth": 2,
            "linecolor": "white",
            "showbackground": true,
            "ticks": "",
            "zerolinecolor": "white"
           },
           "zaxis": {
            "backgroundcolor": "#E5ECF6",
            "gridcolor": "white",
            "gridwidth": 2,
            "linecolor": "white",
            "showbackground": true,
            "ticks": "",
            "zerolinecolor": "white"
           }
          },
          "shapedefaults": {
           "line": {
            "color": "#2a3f5f"
           }
          },
          "ternary": {
           "aaxis": {
            "gridcolor": "white",
            "linecolor": "white",
            "ticks": ""
           },
           "baxis": {
            "gridcolor": "white",
            "linecolor": "white",
            "ticks": ""
           },
           "bgcolor": "#E5ECF6",
           "caxis": {
            "gridcolor": "white",
            "linecolor": "white",
            "ticks": ""
           }
          },
          "title": {
           "x": 0.05
          },
          "xaxis": {
           "automargin": true,
           "gridcolor": "white",
           "linecolor": "white",
           "ticks": "",
           "title": {
            "standoff": 15
           },
           "zerolinecolor": "white",
           "zerolinewidth": 2
          },
          "yaxis": {
           "automargin": true,
           "gridcolor": "white",
           "linecolor": "white",
           "ticks": "",
           "title": {
            "standoff": 15
           },
           "zerolinecolor": "white",
           "zerolinewidth": 2
          }
         }
        },
        "title": {
         "text": "S1 injections counts in Retrosplenial area subdivisions ipsilateral only"
        },
        "violinmode": "group",
        "xaxis": {
         "anchor": "y",
         "categoryarray": [
          "area 30",
          "area 29"
         ],
         "categoryorder": "array",
         "domain": [
          0,
          1
         ],
         "title": {
          "text": "Subdivided"
         }
        },
        "yaxis": {
         "anchor": "x",
         "domain": [
          0,
          1
         ],
         "title": {
          "text": "count"
         }
        }
       }
      }
     },
     "metadata": {},
     "output_type": "display_data"
    }
   ],
   "source": [
    "plot_count_zoomed_sub(\n",
    "    subdivided_rsc_grouped,\n",
    "    \"S1 injections counts in Retrosplenial area subdivisions ipsilateral only\",\n",
    ")"
   ]
  },
  {
   "cell_type": "code",
   "execution_count": 65,
   "id": "6f74ad58",
   "metadata": {},
   "outputs": [],
   "source": [
    "def plot_scaled_count_zoomed_sub(big_file_long, Title):\n",
    "\n",
    "    df_hemi = big_file_long[big_file_long[\"Hemisphere\"] == \"ipsilateral\"]\n",
    "    area_order_scaled_count = (\n",
    "        df_hemi.groupby(\"Subdivided\")[\"scaled count\"]\n",
    "        .max()\n",
    "        .sort_values(ascending=False)\n",
    "        .index.tolist()\n",
    "    )\n",
    "\n",
    "    fig = px.violin(\n",
    "        df_hemi,\n",
    "        y=\"scaled count\",\n",
    "        x=\"Subdivided\",\n",
    "        box=True,\n",
    "        title=Title,\n",
    "        category_orders={\"Subdivided\": area_order_scaled_count},\n",
    "    )\n",
    "    fig.update_traces(\n",
    "        meanline_visible=True\n",
    "    )  # displays the arithmetic mean of the distribution\n",
    "    fig.update_layout(violinmode=\"group\")  # group left(right violins side-by-side)\n",
    "\n",
    "    return fig"
   ]
  },
  {
   "cell_type": "code",
   "execution_count": 66,
   "id": "4ea51447",
   "metadata": {},
   "outputs": [
    {
     "data": {
      "application/vnd.plotly.v1+json": {
       "config": {
        "plotlyServerURL": "https://plotly.com"
       },
       "data": [
        {
         "alignmentgroup": "True",
         "box": {
          "visible": true
         },
         "hovertemplate": "Subdivided=%{x}<br>scaled count=%{y}<extra></extra>",
         "legendgroup": "",
         "marker": {
          "color": "#636efa"
         },
         "meanline": {
          "visible": true
         },
         "name": "",
         "offsetgroup": "",
         "orientation": "v",
         "scalegroup": "True",
         "showlegend": false,
         "type": "violin",
         "x": [
          "area 29",
          "area 30",
          "area 29",
          "area 30",
          "area 29",
          "area 30"
         ],
         "x0": " ",
         "xaxis": "x",
         "y": {
          "bdata": "zQuL706vlz+zsgjHrui2PwlIr8dP5LE//sKrDG75wz+nc8iCN4qsP6XjijJLx7U/",
          "dtype": "f8"
         },
         "y0": " ",
         "yaxis": "y"
        }
       ],
       "layout": {
        "legend": {
         "tracegroupgap": 0
        },
        "template": {
         "data": {
          "bar": [
           {
            "error_x": {
             "color": "#2a3f5f"
            },
            "error_y": {
             "color": "#2a3f5f"
            },
            "marker": {
             "line": {
              "color": "#E5ECF6",
              "width": 0.5
             },
             "pattern": {
              "fillmode": "overlay",
              "size": 10,
              "solidity": 0.2
             }
            },
            "type": "bar"
           }
          ],
          "barpolar": [
           {
            "marker": {
             "line": {
              "color": "#E5ECF6",
              "width": 0.5
             },
             "pattern": {
              "fillmode": "overlay",
              "size": 10,
              "solidity": 0.2
             }
            },
            "type": "barpolar"
           }
          ],
          "carpet": [
           {
            "aaxis": {
             "endlinecolor": "#2a3f5f",
             "gridcolor": "white",
             "linecolor": "white",
             "minorgridcolor": "white",
             "startlinecolor": "#2a3f5f"
            },
            "baxis": {
             "endlinecolor": "#2a3f5f",
             "gridcolor": "white",
             "linecolor": "white",
             "minorgridcolor": "white",
             "startlinecolor": "#2a3f5f"
            },
            "type": "carpet"
           }
          ],
          "choropleth": [
           {
            "colorbar": {
             "outlinewidth": 0,
             "ticks": ""
            },
            "type": "choropleth"
           }
          ],
          "contour": [
           {
            "colorbar": {
             "outlinewidth": 0,
             "ticks": ""
            },
            "colorscale": [
             [
              0,
              "#0d0887"
             ],
             [
              0.1111111111111111,
              "#46039f"
             ],
             [
              0.2222222222222222,
              "#7201a8"
             ],
             [
              0.3333333333333333,
              "#9c179e"
             ],
             [
              0.4444444444444444,
              "#bd3786"
             ],
             [
              0.5555555555555556,
              "#d8576b"
             ],
             [
              0.6666666666666666,
              "#ed7953"
             ],
             [
              0.7777777777777778,
              "#fb9f3a"
             ],
             [
              0.8888888888888888,
              "#fdca26"
             ],
             [
              1,
              "#f0f921"
             ]
            ],
            "type": "contour"
           }
          ],
          "contourcarpet": [
           {
            "colorbar": {
             "outlinewidth": 0,
             "ticks": ""
            },
            "type": "contourcarpet"
           }
          ],
          "heatmap": [
           {
            "colorbar": {
             "outlinewidth": 0,
             "ticks": ""
            },
            "colorscale": [
             [
              0,
              "#0d0887"
             ],
             [
              0.1111111111111111,
              "#46039f"
             ],
             [
              0.2222222222222222,
              "#7201a8"
             ],
             [
              0.3333333333333333,
              "#9c179e"
             ],
             [
              0.4444444444444444,
              "#bd3786"
             ],
             [
              0.5555555555555556,
              "#d8576b"
             ],
             [
              0.6666666666666666,
              "#ed7953"
             ],
             [
              0.7777777777777778,
              "#fb9f3a"
             ],
             [
              0.8888888888888888,
              "#fdca26"
             ],
             [
              1,
              "#f0f921"
             ]
            ],
            "type": "heatmap"
           }
          ],
          "histogram": [
           {
            "marker": {
             "pattern": {
              "fillmode": "overlay",
              "size": 10,
              "solidity": 0.2
             }
            },
            "type": "histogram"
           }
          ],
          "histogram2d": [
           {
            "colorbar": {
             "outlinewidth": 0,
             "ticks": ""
            },
            "colorscale": [
             [
              0,
              "#0d0887"
             ],
             [
              0.1111111111111111,
              "#46039f"
             ],
             [
              0.2222222222222222,
              "#7201a8"
             ],
             [
              0.3333333333333333,
              "#9c179e"
             ],
             [
              0.4444444444444444,
              "#bd3786"
             ],
             [
              0.5555555555555556,
              "#d8576b"
             ],
             [
              0.6666666666666666,
              "#ed7953"
             ],
             [
              0.7777777777777778,
              "#fb9f3a"
             ],
             [
              0.8888888888888888,
              "#fdca26"
             ],
             [
              1,
              "#f0f921"
             ]
            ],
            "type": "histogram2d"
           }
          ],
          "histogram2dcontour": [
           {
            "colorbar": {
             "outlinewidth": 0,
             "ticks": ""
            },
            "colorscale": [
             [
              0,
              "#0d0887"
             ],
             [
              0.1111111111111111,
              "#46039f"
             ],
             [
              0.2222222222222222,
              "#7201a8"
             ],
             [
              0.3333333333333333,
              "#9c179e"
             ],
             [
              0.4444444444444444,
              "#bd3786"
             ],
             [
              0.5555555555555556,
              "#d8576b"
             ],
             [
              0.6666666666666666,
              "#ed7953"
             ],
             [
              0.7777777777777778,
              "#fb9f3a"
             ],
             [
              0.8888888888888888,
              "#fdca26"
             ],
             [
              1,
              "#f0f921"
             ]
            ],
            "type": "histogram2dcontour"
           }
          ],
          "mesh3d": [
           {
            "colorbar": {
             "outlinewidth": 0,
             "ticks": ""
            },
            "type": "mesh3d"
           }
          ],
          "parcoords": [
           {
            "line": {
             "colorbar": {
              "outlinewidth": 0,
              "ticks": ""
             }
            },
            "type": "parcoords"
           }
          ],
          "pie": [
           {
            "automargin": true,
            "type": "pie"
           }
          ],
          "scatter": [
           {
            "fillpattern": {
             "fillmode": "overlay",
             "size": 10,
             "solidity": 0.2
            },
            "type": "scatter"
           }
          ],
          "scatter3d": [
           {
            "line": {
             "colorbar": {
              "outlinewidth": 0,
              "ticks": ""
             }
            },
            "marker": {
             "colorbar": {
              "outlinewidth": 0,
              "ticks": ""
             }
            },
            "type": "scatter3d"
           }
          ],
          "scattercarpet": [
           {
            "marker": {
             "colorbar": {
              "outlinewidth": 0,
              "ticks": ""
             }
            },
            "type": "scattercarpet"
           }
          ],
          "scattergeo": [
           {
            "marker": {
             "colorbar": {
              "outlinewidth": 0,
              "ticks": ""
             }
            },
            "type": "scattergeo"
           }
          ],
          "scattergl": [
           {
            "marker": {
             "colorbar": {
              "outlinewidth": 0,
              "ticks": ""
             }
            },
            "type": "scattergl"
           }
          ],
          "scattermap": [
           {
            "marker": {
             "colorbar": {
              "outlinewidth": 0,
              "ticks": ""
             }
            },
            "type": "scattermap"
           }
          ],
          "scattermapbox": [
           {
            "marker": {
             "colorbar": {
              "outlinewidth": 0,
              "ticks": ""
             }
            },
            "type": "scattermapbox"
           }
          ],
          "scatterpolar": [
           {
            "marker": {
             "colorbar": {
              "outlinewidth": 0,
              "ticks": ""
             }
            },
            "type": "scatterpolar"
           }
          ],
          "scatterpolargl": [
           {
            "marker": {
             "colorbar": {
              "outlinewidth": 0,
              "ticks": ""
             }
            },
            "type": "scatterpolargl"
           }
          ],
          "scatterternary": [
           {
            "marker": {
             "colorbar": {
              "outlinewidth": 0,
              "ticks": ""
             }
            },
            "type": "scatterternary"
           }
          ],
          "surface": [
           {
            "colorbar": {
             "outlinewidth": 0,
             "ticks": ""
            },
            "colorscale": [
             [
              0,
              "#0d0887"
             ],
             [
              0.1111111111111111,
              "#46039f"
             ],
             [
              0.2222222222222222,
              "#7201a8"
             ],
             [
              0.3333333333333333,
              "#9c179e"
             ],
             [
              0.4444444444444444,
              "#bd3786"
             ],
             [
              0.5555555555555556,
              "#d8576b"
             ],
             [
              0.6666666666666666,
              "#ed7953"
             ],
             [
              0.7777777777777778,
              "#fb9f3a"
             ],
             [
              0.8888888888888888,
              "#fdca26"
             ],
             [
              1,
              "#f0f921"
             ]
            ],
            "type": "surface"
           }
          ],
          "table": [
           {
            "cells": {
             "fill": {
              "color": "#EBF0F8"
             },
             "line": {
              "color": "white"
             }
            },
            "header": {
             "fill": {
              "color": "#C8D4E3"
             },
             "line": {
              "color": "white"
             }
            },
            "type": "table"
           }
          ]
         },
         "layout": {
          "annotationdefaults": {
           "arrowcolor": "#2a3f5f",
           "arrowhead": 0,
           "arrowwidth": 1
          },
          "autotypenumbers": "strict",
          "coloraxis": {
           "colorbar": {
            "outlinewidth": 0,
            "ticks": ""
           }
          },
          "colorscale": {
           "diverging": [
            [
             0,
             "#8e0152"
            ],
            [
             0.1,
             "#c51b7d"
            ],
            [
             0.2,
             "#de77ae"
            ],
            [
             0.3,
             "#f1b6da"
            ],
            [
             0.4,
             "#fde0ef"
            ],
            [
             0.5,
             "#f7f7f7"
            ],
            [
             0.6,
             "#e6f5d0"
            ],
            [
             0.7,
             "#b8e186"
            ],
            [
             0.8,
             "#7fbc41"
            ],
            [
             0.9,
             "#4d9221"
            ],
            [
             1,
             "#276419"
            ]
           ],
           "sequential": [
            [
             0,
             "#0d0887"
            ],
            [
             0.1111111111111111,
             "#46039f"
            ],
            [
             0.2222222222222222,
             "#7201a8"
            ],
            [
             0.3333333333333333,
             "#9c179e"
            ],
            [
             0.4444444444444444,
             "#bd3786"
            ],
            [
             0.5555555555555556,
             "#d8576b"
            ],
            [
             0.6666666666666666,
             "#ed7953"
            ],
            [
             0.7777777777777778,
             "#fb9f3a"
            ],
            [
             0.8888888888888888,
             "#fdca26"
            ],
            [
             1,
             "#f0f921"
            ]
           ],
           "sequentialminus": [
            [
             0,
             "#0d0887"
            ],
            [
             0.1111111111111111,
             "#46039f"
            ],
            [
             0.2222222222222222,
             "#7201a8"
            ],
            [
             0.3333333333333333,
             "#9c179e"
            ],
            [
             0.4444444444444444,
             "#bd3786"
            ],
            [
             0.5555555555555556,
             "#d8576b"
            ],
            [
             0.6666666666666666,
             "#ed7953"
            ],
            [
             0.7777777777777778,
             "#fb9f3a"
            ],
            [
             0.8888888888888888,
             "#fdca26"
            ],
            [
             1,
             "#f0f921"
            ]
           ]
          },
          "colorway": [
           "#636efa",
           "#EF553B",
           "#00cc96",
           "#ab63fa",
           "#FFA15A",
           "#19d3f3",
           "#FF6692",
           "#B6E880",
           "#FF97FF",
           "#FECB52"
          ],
          "font": {
           "color": "#2a3f5f"
          },
          "geo": {
           "bgcolor": "white",
           "lakecolor": "white",
           "landcolor": "#E5ECF6",
           "showlakes": true,
           "showland": true,
           "subunitcolor": "white"
          },
          "hoverlabel": {
           "align": "left"
          },
          "hovermode": "closest",
          "mapbox": {
           "style": "light"
          },
          "paper_bgcolor": "white",
          "plot_bgcolor": "#E5ECF6",
          "polar": {
           "angularaxis": {
            "gridcolor": "white",
            "linecolor": "white",
            "ticks": ""
           },
           "bgcolor": "#E5ECF6",
           "radialaxis": {
            "gridcolor": "white",
            "linecolor": "white",
            "ticks": ""
           }
          },
          "scene": {
           "xaxis": {
            "backgroundcolor": "#E5ECF6",
            "gridcolor": "white",
            "gridwidth": 2,
            "linecolor": "white",
            "showbackground": true,
            "ticks": "",
            "zerolinecolor": "white"
           },
           "yaxis": {
            "backgroundcolor": "#E5ECF6",
            "gridcolor": "white",
            "gridwidth": 2,
            "linecolor": "white",
            "showbackground": true,
            "ticks": "",
            "zerolinecolor": "white"
           },
           "zaxis": {
            "backgroundcolor": "#E5ECF6",
            "gridcolor": "white",
            "gridwidth": 2,
            "linecolor": "white",
            "showbackground": true,
            "ticks": "",
            "zerolinecolor": "white"
           }
          },
          "shapedefaults": {
           "line": {
            "color": "#2a3f5f"
           }
          },
          "ternary": {
           "aaxis": {
            "gridcolor": "white",
            "linecolor": "white",
            "ticks": ""
           },
           "baxis": {
            "gridcolor": "white",
            "linecolor": "white",
            "ticks": ""
           },
           "bgcolor": "#E5ECF6",
           "caxis": {
            "gridcolor": "white",
            "linecolor": "white",
            "ticks": ""
           }
          },
          "title": {
           "x": 0.05
          },
          "xaxis": {
           "automargin": true,
           "gridcolor": "white",
           "linecolor": "white",
           "ticks": "",
           "title": {
            "standoff": 15
           },
           "zerolinecolor": "white",
           "zerolinewidth": 2
          },
          "yaxis": {
           "automargin": true,
           "gridcolor": "white",
           "linecolor": "white",
           "ticks": "",
           "title": {
            "standoff": 15
           },
           "zerolinecolor": "white",
           "zerolinewidth": 2
          }
         }
        },
        "title": {
         "text": "Retrosplenial area scaled counts by hemisphere, both p6 (n=2) and p7 (n=1)"
        },
        "violinmode": "group",
        "xaxis": {
         "anchor": "y",
         "categoryarray": [
          "area 30",
          "area 29"
         ],
         "categoryorder": "array",
         "domain": [
          0,
          1
         ],
         "title": {
          "text": "Subdivided"
         }
        },
        "yaxis": {
         "anchor": "x",
         "domain": [
          0,
          1
         ],
         "title": {
          "text": "scaled count"
         }
        }
       }
      }
     },
     "metadata": {},
     "output_type": "display_data"
    }
   ],
   "source": [
    "plot_scaled_count_zoomed_sub(\n",
    "    subdivided_rsc_grouped,\n",
    "    \"Retrosplenial area scaled counts by hemisphere, both p6 (n=2) and p7 (n=1)\",\n",
    ")"
   ]
  },
  {
   "cell_type": "code",
   "execution_count": 61,
   "id": "11d388cd",
   "metadata": {},
   "outputs": [
    {
     "data": {
      "application/vnd.plotly.v1+json": {
       "config": {
        "plotlyServerURL": "https://plotly.com"
       },
       "data": [
        {
         "alignmentgroup": "True",
         "box": {
          "visible": true
         },
         "hovertemplate": "Subdivided=%{x}<br>count=%{y}<extra></extra>",
         "legendgroup": "",
         "marker": {
          "color": "#636efa"
         },
         "meanline": {
          "visible": true
         },
         "name": "",
         "offsetgroup": "",
         "orientation": "v",
         "scalegroup": "True",
         "showlegend": false,
         "type": "violin",
         "x": [
          "Anterolateral visual area",
          "Anteromedial visual area",
          "Lateral visual area",
          "Laterointermediate area",
          "Postrhinal area",
          "Primary visual area",
          "posteromedial visual area",
          "Anterolateral visual area",
          "Anteromedial visual area",
          "Lateral visual area",
          "Laterointermediate area",
          "Posterolateral visual area",
          "Postrhinal area",
          "Primary visual area",
          "posteromedial visual area",
          "Anterolateral visual area",
          "Anteromedial visual area",
          "Lateral visual area",
          "Laterointermediate area",
          "Postrhinal area",
          "Primary visual area",
          "posteromedial visual area"
         ],
         "x0": " ",
         "xaxis": "x",
         "y": {
          "bdata": "TwCvACYAFwARAJgCvgADAeABNQAQAAQAIQBLB38CwQBgAKMAKQAIAOsErQA=",
          "dtype": "i2"
         },
         "y0": " ",
         "yaxis": "y"
        }
       ],
       "layout": {
        "legend": {
         "tracegroupgap": 0
        },
        "template": {
         "data": {
          "bar": [
           {
            "error_x": {
             "color": "#2a3f5f"
            },
            "error_y": {
             "color": "#2a3f5f"
            },
            "marker": {
             "line": {
              "color": "#E5ECF6",
              "width": 0.5
             },
             "pattern": {
              "fillmode": "overlay",
              "size": 10,
              "solidity": 0.2
             }
            },
            "type": "bar"
           }
          ],
          "barpolar": [
           {
            "marker": {
             "line": {
              "color": "#E5ECF6",
              "width": 0.5
             },
             "pattern": {
              "fillmode": "overlay",
              "size": 10,
              "solidity": 0.2
             }
            },
            "type": "barpolar"
           }
          ],
          "carpet": [
           {
            "aaxis": {
             "endlinecolor": "#2a3f5f",
             "gridcolor": "white",
             "linecolor": "white",
             "minorgridcolor": "white",
             "startlinecolor": "#2a3f5f"
            },
            "baxis": {
             "endlinecolor": "#2a3f5f",
             "gridcolor": "white",
             "linecolor": "white",
             "minorgridcolor": "white",
             "startlinecolor": "#2a3f5f"
            },
            "type": "carpet"
           }
          ],
          "choropleth": [
           {
            "colorbar": {
             "outlinewidth": 0,
             "ticks": ""
            },
            "type": "choropleth"
           }
          ],
          "contour": [
           {
            "colorbar": {
             "outlinewidth": 0,
             "ticks": ""
            },
            "colorscale": [
             [
              0,
              "#0d0887"
             ],
             [
              0.1111111111111111,
              "#46039f"
             ],
             [
              0.2222222222222222,
              "#7201a8"
             ],
             [
              0.3333333333333333,
              "#9c179e"
             ],
             [
              0.4444444444444444,
              "#bd3786"
             ],
             [
              0.5555555555555556,
              "#d8576b"
             ],
             [
              0.6666666666666666,
              "#ed7953"
             ],
             [
              0.7777777777777778,
              "#fb9f3a"
             ],
             [
              0.8888888888888888,
              "#fdca26"
             ],
             [
              1,
              "#f0f921"
             ]
            ],
            "type": "contour"
           }
          ],
          "contourcarpet": [
           {
            "colorbar": {
             "outlinewidth": 0,
             "ticks": ""
            },
            "type": "contourcarpet"
           }
          ],
          "heatmap": [
           {
            "colorbar": {
             "outlinewidth": 0,
             "ticks": ""
            },
            "colorscale": [
             [
              0,
              "#0d0887"
             ],
             [
              0.1111111111111111,
              "#46039f"
             ],
             [
              0.2222222222222222,
              "#7201a8"
             ],
             [
              0.3333333333333333,
              "#9c179e"
             ],
             [
              0.4444444444444444,
              "#bd3786"
             ],
             [
              0.5555555555555556,
              "#d8576b"
             ],
             [
              0.6666666666666666,
              "#ed7953"
             ],
             [
              0.7777777777777778,
              "#fb9f3a"
             ],
             [
              0.8888888888888888,
              "#fdca26"
             ],
             [
              1,
              "#f0f921"
             ]
            ],
            "type": "heatmap"
           }
          ],
          "histogram": [
           {
            "marker": {
             "pattern": {
              "fillmode": "overlay",
              "size": 10,
              "solidity": 0.2
             }
            },
            "type": "histogram"
           }
          ],
          "histogram2d": [
           {
            "colorbar": {
             "outlinewidth": 0,
             "ticks": ""
            },
            "colorscale": [
             [
              0,
              "#0d0887"
             ],
             [
              0.1111111111111111,
              "#46039f"
             ],
             [
              0.2222222222222222,
              "#7201a8"
             ],
             [
              0.3333333333333333,
              "#9c179e"
             ],
             [
              0.4444444444444444,
              "#bd3786"
             ],
             [
              0.5555555555555556,
              "#d8576b"
             ],
             [
              0.6666666666666666,
              "#ed7953"
             ],
             [
              0.7777777777777778,
              "#fb9f3a"
             ],
             [
              0.8888888888888888,
              "#fdca26"
             ],
             [
              1,
              "#f0f921"
             ]
            ],
            "type": "histogram2d"
           }
          ],
          "histogram2dcontour": [
           {
            "colorbar": {
             "outlinewidth": 0,
             "ticks": ""
            },
            "colorscale": [
             [
              0,
              "#0d0887"
             ],
             [
              0.1111111111111111,
              "#46039f"
             ],
             [
              0.2222222222222222,
              "#7201a8"
             ],
             [
              0.3333333333333333,
              "#9c179e"
             ],
             [
              0.4444444444444444,
              "#bd3786"
             ],
             [
              0.5555555555555556,
              "#d8576b"
             ],
             [
              0.6666666666666666,
              "#ed7953"
             ],
             [
              0.7777777777777778,
              "#fb9f3a"
             ],
             [
              0.8888888888888888,
              "#fdca26"
             ],
             [
              1,
              "#f0f921"
             ]
            ],
            "type": "histogram2dcontour"
           }
          ],
          "mesh3d": [
           {
            "colorbar": {
             "outlinewidth": 0,
             "ticks": ""
            },
            "type": "mesh3d"
           }
          ],
          "parcoords": [
           {
            "line": {
             "colorbar": {
              "outlinewidth": 0,
              "ticks": ""
             }
            },
            "type": "parcoords"
           }
          ],
          "pie": [
           {
            "automargin": true,
            "type": "pie"
           }
          ],
          "scatter": [
           {
            "fillpattern": {
             "fillmode": "overlay",
             "size": 10,
             "solidity": 0.2
            },
            "type": "scatter"
           }
          ],
          "scatter3d": [
           {
            "line": {
             "colorbar": {
              "outlinewidth": 0,
              "ticks": ""
             }
            },
            "marker": {
             "colorbar": {
              "outlinewidth": 0,
              "ticks": ""
             }
            },
            "type": "scatter3d"
           }
          ],
          "scattercarpet": [
           {
            "marker": {
             "colorbar": {
              "outlinewidth": 0,
              "ticks": ""
             }
            },
            "type": "scattercarpet"
           }
          ],
          "scattergeo": [
           {
            "marker": {
             "colorbar": {
              "outlinewidth": 0,
              "ticks": ""
             }
            },
            "type": "scattergeo"
           }
          ],
          "scattergl": [
           {
            "marker": {
             "colorbar": {
              "outlinewidth": 0,
              "ticks": ""
             }
            },
            "type": "scattergl"
           }
          ],
          "scattermap": [
           {
            "marker": {
             "colorbar": {
              "outlinewidth": 0,
              "ticks": ""
             }
            },
            "type": "scattermap"
           }
          ],
          "scattermapbox": [
           {
            "marker": {
             "colorbar": {
              "outlinewidth": 0,
              "ticks": ""
             }
            },
            "type": "scattermapbox"
           }
          ],
          "scatterpolar": [
           {
            "marker": {
             "colorbar": {
              "outlinewidth": 0,
              "ticks": ""
             }
            },
            "type": "scatterpolar"
           }
          ],
          "scatterpolargl": [
           {
            "marker": {
             "colorbar": {
              "outlinewidth": 0,
              "ticks": ""
             }
            },
            "type": "scatterpolargl"
           }
          ],
          "scatterternary": [
           {
            "marker": {
             "colorbar": {
              "outlinewidth": 0,
              "ticks": ""
             }
            },
            "type": "scatterternary"
           }
          ],
          "surface": [
           {
            "colorbar": {
             "outlinewidth": 0,
             "ticks": ""
            },
            "colorscale": [
             [
              0,
              "#0d0887"
             ],
             [
              0.1111111111111111,
              "#46039f"
             ],
             [
              0.2222222222222222,
              "#7201a8"
             ],
             [
              0.3333333333333333,
              "#9c179e"
             ],
             [
              0.4444444444444444,
              "#bd3786"
             ],
             [
              0.5555555555555556,
              "#d8576b"
             ],
             [
              0.6666666666666666,
              "#ed7953"
             ],
             [
              0.7777777777777778,
              "#fb9f3a"
             ],
             [
              0.8888888888888888,
              "#fdca26"
             ],
             [
              1,
              "#f0f921"
             ]
            ],
            "type": "surface"
           }
          ],
          "table": [
           {
            "cells": {
             "fill": {
              "color": "#EBF0F8"
             },
             "line": {
              "color": "white"
             }
            },
            "header": {
             "fill": {
              "color": "#C8D4E3"
             },
             "line": {
              "color": "white"
             }
            },
            "type": "table"
           }
          ]
         },
         "layout": {
          "annotationdefaults": {
           "arrowcolor": "#2a3f5f",
           "arrowhead": 0,
           "arrowwidth": 1
          },
          "autotypenumbers": "strict",
          "coloraxis": {
           "colorbar": {
            "outlinewidth": 0,
            "ticks": ""
           }
          },
          "colorscale": {
           "diverging": [
            [
             0,
             "#8e0152"
            ],
            [
             0.1,
             "#c51b7d"
            ],
            [
             0.2,
             "#de77ae"
            ],
            [
             0.3,
             "#f1b6da"
            ],
            [
             0.4,
             "#fde0ef"
            ],
            [
             0.5,
             "#f7f7f7"
            ],
            [
             0.6,
             "#e6f5d0"
            ],
            [
             0.7,
             "#b8e186"
            ],
            [
             0.8,
             "#7fbc41"
            ],
            [
             0.9,
             "#4d9221"
            ],
            [
             1,
             "#276419"
            ]
           ],
           "sequential": [
            [
             0,
             "#0d0887"
            ],
            [
             0.1111111111111111,
             "#46039f"
            ],
            [
             0.2222222222222222,
             "#7201a8"
            ],
            [
             0.3333333333333333,
             "#9c179e"
            ],
            [
             0.4444444444444444,
             "#bd3786"
            ],
            [
             0.5555555555555556,
             "#d8576b"
            ],
            [
             0.6666666666666666,
             "#ed7953"
            ],
            [
             0.7777777777777778,
             "#fb9f3a"
            ],
            [
             0.8888888888888888,
             "#fdca26"
            ],
            [
             1,
             "#f0f921"
            ]
           ],
           "sequentialminus": [
            [
             0,
             "#0d0887"
            ],
            [
             0.1111111111111111,
             "#46039f"
            ],
            [
             0.2222222222222222,
             "#7201a8"
            ],
            [
             0.3333333333333333,
             "#9c179e"
            ],
            [
             0.4444444444444444,
             "#bd3786"
            ],
            [
             0.5555555555555556,
             "#d8576b"
            ],
            [
             0.6666666666666666,
             "#ed7953"
            ],
            [
             0.7777777777777778,
             "#fb9f3a"
            ],
            [
             0.8888888888888888,
             "#fdca26"
            ],
            [
             1,
             "#f0f921"
            ]
           ]
          },
          "colorway": [
           "#636efa",
           "#EF553B",
           "#00cc96",
           "#ab63fa",
           "#FFA15A",
           "#19d3f3",
           "#FF6692",
           "#B6E880",
           "#FF97FF",
           "#FECB52"
          ],
          "font": {
           "color": "#2a3f5f"
          },
          "geo": {
           "bgcolor": "white",
           "lakecolor": "white",
           "landcolor": "#E5ECF6",
           "showlakes": true,
           "showland": true,
           "subunitcolor": "white"
          },
          "hoverlabel": {
           "align": "left"
          },
          "hovermode": "closest",
          "mapbox": {
           "style": "light"
          },
          "paper_bgcolor": "white",
          "plot_bgcolor": "#E5ECF6",
          "polar": {
           "angularaxis": {
            "gridcolor": "white",
            "linecolor": "white",
            "ticks": ""
           },
           "bgcolor": "#E5ECF6",
           "radialaxis": {
            "gridcolor": "white",
            "linecolor": "white",
            "ticks": ""
           }
          },
          "scene": {
           "xaxis": {
            "backgroundcolor": "#E5ECF6",
            "gridcolor": "white",
            "gridwidth": 2,
            "linecolor": "white",
            "showbackground": true,
            "ticks": "",
            "zerolinecolor": "white"
           },
           "yaxis": {
            "backgroundcolor": "#E5ECF6",
            "gridcolor": "white",
            "gridwidth": 2,
            "linecolor": "white",
            "showbackground": true,
            "ticks": "",
            "zerolinecolor": "white"
           },
           "zaxis": {
            "backgroundcolor": "#E5ECF6",
            "gridcolor": "white",
            "gridwidth": 2,
            "linecolor": "white",
            "showbackground": true,
            "ticks": "",
            "zerolinecolor": "white"
           }
          },
          "shapedefaults": {
           "line": {
            "color": "#2a3f5f"
           }
          },
          "ternary": {
           "aaxis": {
            "gridcolor": "white",
            "linecolor": "white",
            "ticks": ""
           },
           "baxis": {
            "gridcolor": "white",
            "linecolor": "white",
            "ticks": ""
           },
           "bgcolor": "#E5ECF6",
           "caxis": {
            "gridcolor": "white",
            "linecolor": "white",
            "ticks": ""
           }
          },
          "title": {
           "x": 0.05
          },
          "xaxis": {
           "automargin": true,
           "gridcolor": "white",
           "linecolor": "white",
           "ticks": "",
           "title": {
            "standoff": 15
           },
           "zerolinecolor": "white",
           "zerolinewidth": 2
          },
          "yaxis": {
           "automargin": true,
           "gridcolor": "white",
           "linecolor": "white",
           "ticks": "",
           "title": {
            "standoff": 15
           },
           "zerolinecolor": "white",
           "zerolinewidth": 2
          }
         }
        },
        "title": {
         "text": "Visual area counts by hemisphere, both p6 (n=2) and p7 (n=1)"
        },
        "violinmode": "group",
        "xaxis": {
         "anchor": "y",
         "categoryarray": [
          "Primary visual area",
          "posteromedial visual area",
          "Anteromedial visual area",
          "Anterolateral visual area",
          "Lateral visual area",
          "Laterointermediate area",
          "Postrhinal area",
          "Posterolateral visual area"
         ],
         "categoryorder": "array",
         "domain": [
          0,
          1
         ],
         "title": {
          "text": "Subdivided"
         }
        },
        "yaxis": {
         "anchor": "x",
         "domain": [
          0,
          1
         ],
         "title": {
          "text": "count"
         }
        }
       }
      }
     },
     "metadata": {},
     "output_type": "display_data"
    }
   ],
   "source": [
    "plot_count_zoomed_sub(\n",
    "    subdivided_Vis_grouped,\n",
    "    \"Visual area counts by hemisphere, both p6 (n=2) and p7 (n=1)\",\n",
    ")"
   ]
  },
  {
   "cell_type": "code",
   "execution_count": 62,
   "id": "0fffd7f6",
   "metadata": {},
   "outputs": [
    {
     "data": {
      "application/vnd.plotly.v1+json": {
       "config": {
        "plotlyServerURL": "https://plotly.com"
       },
       "data": [
        {
         "alignmentgroup": "True",
         "box": {
          "visible": true
         },
         "hovertemplate": "Subdivided=%{x}<br>scaled count=%{y}<extra></extra>",
         "legendgroup": "",
         "marker": {
          "color": "#636efa"
         },
         "meanline": {
          "visible": true
         },
         "name": "",
         "offsetgroup": "",
         "orientation": "v",
         "scalegroup": "True",
         "showlegend": false,
         "type": "violin",
         "x": [
          "Anterolateral visual area",
          "Anteromedial visual area",
          "Lateral visual area",
          "Laterointermediate area",
          "Postrhinal area",
          "Primary visual area",
          "posteromedial visual area",
          "Anterolateral visual area",
          "Anteromedial visual area",
          "Lateral visual area",
          "Laterointermediate area",
          "Posterolateral visual area",
          "Postrhinal area",
          "Primary visual area",
          "posteromedial visual area",
          "Anterolateral visual area",
          "Anteromedial visual area",
          "Lateral visual area",
          "Laterointermediate area",
          "Postrhinal area",
          "Primary visual area",
          "posteromedial visual area"
         ],
         "x0": " ",
         "xaxis": "x",
         "y": {
          "bdata": "xcnvUOrOiT8JTMIyyZWcP1MjSxAF1Hg/tUW5EyEObj8iEpQO9zZmP15Sy1FxHbs/J+xdVAYJnz8tcRGZA0KUP+S8iaeSxaI/hREgNuyUcD/RHsbD8QVUP9EexsPxBTQ/yE/kUSGmZD9YvNhF60DCP3bD1Ttr/ag/LbElw7jWnD9qEvcieLCMP00Wr/0lW5g/ELXdnWaBeD+cYU8XUCBTP0PZqHj6g8c/7UmBP6zZmT8=",
          "dtype": "f8"
         },
         "y0": " ",
         "yaxis": "y"
        }
       ],
       "layout": {
        "legend": {
         "tracegroupgap": 0
        },
        "template": {
         "data": {
          "bar": [
           {
            "error_x": {
             "color": "#2a3f5f"
            },
            "error_y": {
             "color": "#2a3f5f"
            },
            "marker": {
             "line": {
              "color": "#E5ECF6",
              "width": 0.5
             },
             "pattern": {
              "fillmode": "overlay",
              "size": 10,
              "solidity": 0.2
             }
            },
            "type": "bar"
           }
          ],
          "barpolar": [
           {
            "marker": {
             "line": {
              "color": "#E5ECF6",
              "width": 0.5
             },
             "pattern": {
              "fillmode": "overlay",
              "size": 10,
              "solidity": 0.2
             }
            },
            "type": "barpolar"
           }
          ],
          "carpet": [
           {
            "aaxis": {
             "endlinecolor": "#2a3f5f",
             "gridcolor": "white",
             "linecolor": "white",
             "minorgridcolor": "white",
             "startlinecolor": "#2a3f5f"
            },
            "baxis": {
             "endlinecolor": "#2a3f5f",
             "gridcolor": "white",
             "linecolor": "white",
             "minorgridcolor": "white",
             "startlinecolor": "#2a3f5f"
            },
            "type": "carpet"
           }
          ],
          "choropleth": [
           {
            "colorbar": {
             "outlinewidth": 0,
             "ticks": ""
            },
            "type": "choropleth"
           }
          ],
          "contour": [
           {
            "colorbar": {
             "outlinewidth": 0,
             "ticks": ""
            },
            "colorscale": [
             [
              0,
              "#0d0887"
             ],
             [
              0.1111111111111111,
              "#46039f"
             ],
             [
              0.2222222222222222,
              "#7201a8"
             ],
             [
              0.3333333333333333,
              "#9c179e"
             ],
             [
              0.4444444444444444,
              "#bd3786"
             ],
             [
              0.5555555555555556,
              "#d8576b"
             ],
             [
              0.6666666666666666,
              "#ed7953"
             ],
             [
              0.7777777777777778,
              "#fb9f3a"
             ],
             [
              0.8888888888888888,
              "#fdca26"
             ],
             [
              1,
              "#f0f921"
             ]
            ],
            "type": "contour"
           }
          ],
          "contourcarpet": [
           {
            "colorbar": {
             "outlinewidth": 0,
             "ticks": ""
            },
            "type": "contourcarpet"
           }
          ],
          "heatmap": [
           {
            "colorbar": {
             "outlinewidth": 0,
             "ticks": ""
            },
            "colorscale": [
             [
              0,
              "#0d0887"
             ],
             [
              0.1111111111111111,
              "#46039f"
             ],
             [
              0.2222222222222222,
              "#7201a8"
             ],
             [
              0.3333333333333333,
              "#9c179e"
             ],
             [
              0.4444444444444444,
              "#bd3786"
             ],
             [
              0.5555555555555556,
              "#d8576b"
             ],
             [
              0.6666666666666666,
              "#ed7953"
             ],
             [
              0.7777777777777778,
              "#fb9f3a"
             ],
             [
              0.8888888888888888,
              "#fdca26"
             ],
             [
              1,
              "#f0f921"
             ]
            ],
            "type": "heatmap"
           }
          ],
          "histogram": [
           {
            "marker": {
             "pattern": {
              "fillmode": "overlay",
              "size": 10,
              "solidity": 0.2
             }
            },
            "type": "histogram"
           }
          ],
          "histogram2d": [
           {
            "colorbar": {
             "outlinewidth": 0,
             "ticks": ""
            },
            "colorscale": [
             [
              0,
              "#0d0887"
             ],
             [
              0.1111111111111111,
              "#46039f"
             ],
             [
              0.2222222222222222,
              "#7201a8"
             ],
             [
              0.3333333333333333,
              "#9c179e"
             ],
             [
              0.4444444444444444,
              "#bd3786"
             ],
             [
              0.5555555555555556,
              "#d8576b"
             ],
             [
              0.6666666666666666,
              "#ed7953"
             ],
             [
              0.7777777777777778,
              "#fb9f3a"
             ],
             [
              0.8888888888888888,
              "#fdca26"
             ],
             [
              1,
              "#f0f921"
             ]
            ],
            "type": "histogram2d"
           }
          ],
          "histogram2dcontour": [
           {
            "colorbar": {
             "outlinewidth": 0,
             "ticks": ""
            },
            "colorscale": [
             [
              0,
              "#0d0887"
             ],
             [
              0.1111111111111111,
              "#46039f"
             ],
             [
              0.2222222222222222,
              "#7201a8"
             ],
             [
              0.3333333333333333,
              "#9c179e"
             ],
             [
              0.4444444444444444,
              "#bd3786"
             ],
             [
              0.5555555555555556,
              "#d8576b"
             ],
             [
              0.6666666666666666,
              "#ed7953"
             ],
             [
              0.7777777777777778,
              "#fb9f3a"
             ],
             [
              0.8888888888888888,
              "#fdca26"
             ],
             [
              1,
              "#f0f921"
             ]
            ],
            "type": "histogram2dcontour"
           }
          ],
          "mesh3d": [
           {
            "colorbar": {
             "outlinewidth": 0,
             "ticks": ""
            },
            "type": "mesh3d"
           }
          ],
          "parcoords": [
           {
            "line": {
             "colorbar": {
              "outlinewidth": 0,
              "ticks": ""
             }
            },
            "type": "parcoords"
           }
          ],
          "pie": [
           {
            "automargin": true,
            "type": "pie"
           }
          ],
          "scatter": [
           {
            "fillpattern": {
             "fillmode": "overlay",
             "size": 10,
             "solidity": 0.2
            },
            "type": "scatter"
           }
          ],
          "scatter3d": [
           {
            "line": {
             "colorbar": {
              "outlinewidth": 0,
              "ticks": ""
             }
            },
            "marker": {
             "colorbar": {
              "outlinewidth": 0,
              "ticks": ""
             }
            },
            "type": "scatter3d"
           }
          ],
          "scattercarpet": [
           {
            "marker": {
             "colorbar": {
              "outlinewidth": 0,
              "ticks": ""
             }
            },
            "type": "scattercarpet"
           }
          ],
          "scattergeo": [
           {
            "marker": {
             "colorbar": {
              "outlinewidth": 0,
              "ticks": ""
             }
            },
            "type": "scattergeo"
           }
          ],
          "scattergl": [
           {
            "marker": {
             "colorbar": {
              "outlinewidth": 0,
              "ticks": ""
             }
            },
            "type": "scattergl"
           }
          ],
          "scattermap": [
           {
            "marker": {
             "colorbar": {
              "outlinewidth": 0,
              "ticks": ""
             }
            },
            "type": "scattermap"
           }
          ],
          "scattermapbox": [
           {
            "marker": {
             "colorbar": {
              "outlinewidth": 0,
              "ticks": ""
             }
            },
            "type": "scattermapbox"
           }
          ],
          "scatterpolar": [
           {
            "marker": {
             "colorbar": {
              "outlinewidth": 0,
              "ticks": ""
             }
            },
            "type": "scatterpolar"
           }
          ],
          "scatterpolargl": [
           {
            "marker": {
             "colorbar": {
              "outlinewidth": 0,
              "ticks": ""
             }
            },
            "type": "scatterpolargl"
           }
          ],
          "scatterternary": [
           {
            "marker": {
             "colorbar": {
              "outlinewidth": 0,
              "ticks": ""
             }
            },
            "type": "scatterternary"
           }
          ],
          "surface": [
           {
            "colorbar": {
             "outlinewidth": 0,
             "ticks": ""
            },
            "colorscale": [
             [
              0,
              "#0d0887"
             ],
             [
              0.1111111111111111,
              "#46039f"
             ],
             [
              0.2222222222222222,
              "#7201a8"
             ],
             [
              0.3333333333333333,
              "#9c179e"
             ],
             [
              0.4444444444444444,
              "#bd3786"
             ],
             [
              0.5555555555555556,
              "#d8576b"
             ],
             [
              0.6666666666666666,
              "#ed7953"
             ],
             [
              0.7777777777777778,
              "#fb9f3a"
             ],
             [
              0.8888888888888888,
              "#fdca26"
             ],
             [
              1,
              "#f0f921"
             ]
            ],
            "type": "surface"
           }
          ],
          "table": [
           {
            "cells": {
             "fill": {
              "color": "#EBF0F8"
             },
             "line": {
              "color": "white"
             }
            },
            "header": {
             "fill": {
              "color": "#C8D4E3"
             },
             "line": {
              "color": "white"
             }
            },
            "type": "table"
           }
          ]
         },
         "layout": {
          "annotationdefaults": {
           "arrowcolor": "#2a3f5f",
           "arrowhead": 0,
           "arrowwidth": 1
          },
          "autotypenumbers": "strict",
          "coloraxis": {
           "colorbar": {
            "outlinewidth": 0,
            "ticks": ""
           }
          },
          "colorscale": {
           "diverging": [
            [
             0,
             "#8e0152"
            ],
            [
             0.1,
             "#c51b7d"
            ],
            [
             0.2,
             "#de77ae"
            ],
            [
             0.3,
             "#f1b6da"
            ],
            [
             0.4,
             "#fde0ef"
            ],
            [
             0.5,
             "#f7f7f7"
            ],
            [
             0.6,
             "#e6f5d0"
            ],
            [
             0.7,
             "#b8e186"
            ],
            [
             0.8,
             "#7fbc41"
            ],
            [
             0.9,
             "#4d9221"
            ],
            [
             1,
             "#276419"
            ]
           ],
           "sequential": [
            [
             0,
             "#0d0887"
            ],
            [
             0.1111111111111111,
             "#46039f"
            ],
            [
             0.2222222222222222,
             "#7201a8"
            ],
            [
             0.3333333333333333,
             "#9c179e"
            ],
            [
             0.4444444444444444,
             "#bd3786"
            ],
            [
             0.5555555555555556,
             "#d8576b"
            ],
            [
             0.6666666666666666,
             "#ed7953"
            ],
            [
             0.7777777777777778,
             "#fb9f3a"
            ],
            [
             0.8888888888888888,
             "#fdca26"
            ],
            [
             1,
             "#f0f921"
            ]
           ],
           "sequentialminus": [
            [
             0,
             "#0d0887"
            ],
            [
             0.1111111111111111,
             "#46039f"
            ],
            [
             0.2222222222222222,
             "#7201a8"
            ],
            [
             0.3333333333333333,
             "#9c179e"
            ],
            [
             0.4444444444444444,
             "#bd3786"
            ],
            [
             0.5555555555555556,
             "#d8576b"
            ],
            [
             0.6666666666666666,
             "#ed7953"
            ],
            [
             0.7777777777777778,
             "#fb9f3a"
            ],
            [
             0.8888888888888888,
             "#fdca26"
            ],
            [
             1,
             "#f0f921"
            ]
           ]
          },
          "colorway": [
           "#636efa",
           "#EF553B",
           "#00cc96",
           "#ab63fa",
           "#FFA15A",
           "#19d3f3",
           "#FF6692",
           "#B6E880",
           "#FF97FF",
           "#FECB52"
          ],
          "font": {
           "color": "#2a3f5f"
          },
          "geo": {
           "bgcolor": "white",
           "lakecolor": "white",
           "landcolor": "#E5ECF6",
           "showlakes": true,
           "showland": true,
           "subunitcolor": "white"
          },
          "hoverlabel": {
           "align": "left"
          },
          "hovermode": "closest",
          "mapbox": {
           "style": "light"
          },
          "paper_bgcolor": "white",
          "plot_bgcolor": "#E5ECF6",
          "polar": {
           "angularaxis": {
            "gridcolor": "white",
            "linecolor": "white",
            "ticks": ""
           },
           "bgcolor": "#E5ECF6",
           "radialaxis": {
            "gridcolor": "white",
            "linecolor": "white",
            "ticks": ""
           }
          },
          "scene": {
           "xaxis": {
            "backgroundcolor": "#E5ECF6",
            "gridcolor": "white",
            "gridwidth": 2,
            "linecolor": "white",
            "showbackground": true,
            "ticks": "",
            "zerolinecolor": "white"
           },
           "yaxis": {
            "backgroundcolor": "#E5ECF6",
            "gridcolor": "white",
            "gridwidth": 2,
            "linecolor": "white",
            "showbackground": true,
            "ticks": "",
            "zerolinecolor": "white"
           },
           "zaxis": {
            "backgroundcolor": "#E5ECF6",
            "gridcolor": "white",
            "gridwidth": 2,
            "linecolor": "white",
            "showbackground": true,
            "ticks": "",
            "zerolinecolor": "white"
           }
          },
          "shapedefaults": {
           "line": {
            "color": "#2a3f5f"
           }
          },
          "ternary": {
           "aaxis": {
            "gridcolor": "white",
            "linecolor": "white",
            "ticks": ""
           },
           "baxis": {
            "gridcolor": "white",
            "linecolor": "white",
            "ticks": ""
           },
           "bgcolor": "#E5ECF6",
           "caxis": {
            "gridcolor": "white",
            "linecolor": "white",
            "ticks": ""
           }
          },
          "title": {
           "x": 0.05
          },
          "xaxis": {
           "automargin": true,
           "gridcolor": "white",
           "linecolor": "white",
           "ticks": "",
           "title": {
            "standoff": 15
           },
           "zerolinecolor": "white",
           "zerolinewidth": 2
          },
          "yaxis": {
           "automargin": true,
           "gridcolor": "white",
           "linecolor": "white",
           "ticks": "",
           "title": {
            "standoff": 15
           },
           "zerolinecolor": "white",
           "zerolinewidth": 2
          }
         }
        },
        "title": {
         "text": "Visual area scaled counts by hemisphere, both p6 (n=2) and p7 (n=1)"
        },
        "violinmode": "group",
        "xaxis": {
         "anchor": "y",
         "categoryarray": [
          "Primary visual area",
          "posteromedial visual area",
          "Anteromedial visual area",
          "Anterolateral visual area",
          "Lateral visual area",
          "Laterointermediate area",
          "Postrhinal area",
          "Posterolateral visual area"
         ],
         "categoryorder": "array",
         "domain": [
          0,
          1
         ],
         "title": {
          "text": "Subdivided"
         }
        },
        "yaxis": {
         "anchor": "x",
         "domain": [
          0,
          1
         ],
         "title": {
          "text": "scaled count"
         }
        }
       }
      }
     },
     "metadata": {},
     "output_type": "display_data"
    }
   ],
   "source": [
    "plot_scaled_count_zoomed_sub(\n",
    "    subdivided_Vis_grouped,\n",
    "    \"Visual area scaled counts by hemisphere, both p6 (n=2) and p7 (n=1)\",\n",
    ")"
   ]
  }
 ],
 "metadata": {
  "kernelspec": {
   "display_name": "Python 3",
   "language": "python",
   "name": "python3"
  },
  "language_info": {
   "codemirror_mode": {
    "name": "ipython",
    "version": 3
   },
   "file_extension": ".py",
   "mimetype": "text/x-python",
   "name": "python",
   "nbconvert_exporter": "python",
   "pygments_lexer": "ipython3",
   "version": "3.13.7"
  }
 },
 "nbformat": 4,
 "nbformat_minor": 5
}
